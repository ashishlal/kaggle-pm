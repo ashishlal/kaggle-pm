{
 "cells": [
  {
   "cell_type": "code",
   "execution_count": 1,
   "metadata": {
    "collapsed": true
   },
   "outputs": [],
   "source": [
    "import sys\n",
    "sys.path.insert(0, '/home/watts/Software/xgboost/python-package') # for xgboost"
   ]
  },
  {
   "cell_type": "code",
   "execution_count": 16,
   "metadata": {},
   "outputs": [],
   "source": [
    "import re\n",
    "import numpy as np\n",
    "import pandas as pd\n",
    "import feather\n",
    "import xgboost as xgb\n",
    "import feather\n",
    "\n",
    "from sklearn.model_selection import train_test_split\n",
    "from sklearn.metrics import log_loss\n",
    "\n",
    "from sklearn.cross_validation import *\n",
    "from sklearn.grid_search import GridSearchCV, RandomizedSearchCV\n",
    "\n",
    "import pickle\n"
   ]
  },
  {
   "cell_type": "code",
   "execution_count": 3,
   "metadata": {
    "collapsed": true
   },
   "outputs": [],
   "source": [
    "def save_classifier(fname, clf):\n",
    "    # save the classifier\n",
    "    with open(fname, 'wb') as fid:\n",
    "        pickle.dump(clf, fid)\n",
    "\n",
    "def load_classifier(fname):\n",
    "    # load it again\n",
    "    with open(fname, 'rb') as fid:\n",
    "        clf = pickle.load(fid)\n",
    "        return clf"
   ]
  },
  {
   "cell_type": "code",
   "execution_count": 4,
   "metadata": {
    "collapsed": true
   },
   "outputs": [],
   "source": [
    "df_train = np.load('../cache/train_stage2_fe2.npy')\n",
    "\n",
    "df1 = pd.read_csv('../cache/stage2_labels.csv')\n",
    "y = df1['y'].values\n",
    "\n",
    "df_test = np.load('../cache/test_stage2_fe2.npy')\n",
    "df = pd.read_csv('../cache/stage2_test_id.csv')\n",
    "pid = df.ID.values"
   ]
  },
  {
   "cell_type": "code",
   "execution_count": 5,
   "metadata": {},
   "outputs": [
    {
     "data": {
      "text/plain": [
       "(22044, 3318)"
      ]
     },
     "execution_count": 5,
     "metadata": {},
     "output_type": "execute_result"
    }
   ],
   "source": [
    "df_train.shape"
   ]
  },
  {
   "cell_type": "code",
   "execution_count": 6,
   "metadata": {},
   "outputs": [
    {
     "name": "stdout",
     "output_type": "stream",
     "text": [
      "[1 2 2 ..., 6 4 1]\n"
     ]
    }
   ],
   "source": [
    "print(y)"
   ]
  },
  {
   "cell_type": "code",
   "execution_count": 7,
   "metadata": {
    "collapsed": true
   },
   "outputs": [],
   "source": [
    "y = y - 1 #fix for zero bound array"
   ]
  },
  {
   "cell_type": "code",
   "execution_count": 8,
   "metadata": {},
   "outputs": [
    {
     "name": "stdout",
     "output_type": "stream",
     "text": [
      "(22044,)\n"
     ]
    }
   ],
   "source": [
    "print(y.shape)"
   ]
  },
  {
   "cell_type": "code",
   "execution_count": 9,
   "metadata": {},
   "outputs": [
    {
     "data": {
      "text/plain": [
       "array([0, 1, 2, 3, 4, 5, 6, 7, 8])"
      ]
     },
     "execution_count": 9,
     "metadata": {},
     "output_type": "execute_result"
    }
   ],
   "source": [
    "np.unique(y)"
   ]
  },
  {
   "cell_type": "code",
   "execution_count": 10,
   "metadata": {
    "collapsed": true
   },
   "outputs": [],
   "source": [
    "wts = np.load('../cache/stage2_train_weights.npy')"
   ]
  },
  {
   "cell_type": "code",
   "execution_count": 11,
   "metadata": {
    "collapsed": true
   },
   "outputs": [],
   "source": [
    "# wts_per_class = np.load('../cache/stage2_train_weights_per_class.npy')\n",
    "# wts_per_class = wts_per_class.tolist()"
   ]
  },
  {
   "cell_type": "code",
   "execution_count": 12,
   "metadata": {
    "collapsed": true
   },
   "outputs": [],
   "source": [
    "xgb_model = xgb.XGBClassifier(objective='multi:softprob', sample_weight=wts)\n",
    "xgbParams = xgb_model.get_xgb_params()\n",
    "xgbParams['num_class'] = 9\n",
    "parameters = {\n",
    "    'learning_rate': [0.03, 0.035, 0.05], #so called `eta` value\n",
    "    'max_depth': [5,6,10],\n",
    "    'min_child_weight': [1,5,10],\n",
    "    'silent': [1],\n",
    "    'subsample': [0.8, 0.7],\n",
    "    'colsample_bytree': [0.8, 0.7],\n",
    "    'missing':[-999],\n",
    "    'seed': [1337]\n",
    "}\n",
    "\n",
    "\n",
    "clf = GridSearchCV(xgb_model, parameters, n_jobs=5, \n",
    "                   cv=StratifiedKFold(y, 5),\n",
    "                   scoring = 'neg_log_loss',\n",
    "                   verbose=3, refit=True)\n",
    "\n",
    "\n",
    "# neg_log_loos:-1.336173588372656\n",
    "# {'colsample_bytree': 0.7, 'learning_rate': 0.05, 'max_depth': 5, 'min_child_weight': 1,\n",
    "#  'missing': -999, 'seed': 1337, 'silent': 1, 'subsample': 0.8}\n",
    "# 2.77967\n",
    "# 1.71664"
   ]
  },
  {
   "cell_type": "code",
   "execution_count": 17,
   "metadata": {},
   "outputs": [],
   "source": [
    "xgb_model = xgb.XGBClassifier(objective='multi:softprob', sample_weight=wts)\n",
    "xgbParams = xgb_model.get_xgb_params()\n",
    "xgbParams['num_class'] = 9\n",
    "parameters = {\n",
    "    'learning_rate': [0.03, 0.035, 0.05], #so called `eta` value\n",
    "    'max_depth': [5,6,10],\n",
    "    'min_child_weight': [1,5,10],\n",
    "    'silent': [1],\n",
    "    'subsample': [0.8, 0.7],\n",
    "    'colsample_bytree': [0.8, 0.7],\n",
    "    'missing':[-999],\n",
    "    'seed': [1337]\n",
    "}\n",
    "\n",
    "\n",
    "clf = RandomizedSearchCV(xgb_model, parameters, n_jobs=5, \n",
    "                   cv=StratifiedKFold(y, 5, shuffle=True),\n",
    "                   scoring = 'neg_log_loss',\n",
    "                   verbose=3, refit=True)\n"
   ]
  },
  {
   "cell_type": "code",
   "execution_count": 18,
   "metadata": {},
   "outputs": [
    {
     "name": "stdout",
     "output_type": "stream",
     "text": [
      "Fitting 5 folds for each of 10 candidates, totalling 50 fits\n",
      "[CV] subsample=0.8, silent=1, seed=1337, missing=-999, min_child_weight=5, max_depth=5, learning_rate=0.035, colsample_bytree=0.7 \n",
      "[CV] subsample=0.8, silent=1, seed=1337, missing=-999, min_child_weight=5, max_depth=5, learning_rate=0.035, colsample_bytree=0.7 \n",
      "[CV] subsample=0.8, silent=1, seed=1337, missing=-999, min_child_weight=5, max_depth=5, learning_rate=0.035, colsample_bytree=0.7 \n",
      "[CV] subsample=0.8, silent=1, seed=1337, missing=-999, min_child_weight=5, max_depth=5, learning_rate=0.035, colsample_bytree=0.7 \n",
      "[CV] subsample=0.8, silent=1, seed=1337, missing=-999, min_child_weight=5, max_depth=5, learning_rate=0.035, colsample_bytree=0.7 \n",
      "[CV]  subsample=0.8, silent=1, seed=1337, missing=-999, min_child_weight=5, max_depth=5, learning_rate=0.035, colsample_bytree=0.7, score=-1.461876 -23.0min\n",
      "[CV] subsample=0.7, silent=1, seed=1337, missing=-999, min_child_weight=5, max_depth=5, learning_rate=0.035, colsample_bytree=0.7 \n",
      "[CV]  subsample=0.8, silent=1, seed=1337, missing=-999, min_child_weight=5, max_depth=5, learning_rate=0.035, colsample_bytree=0.7, score=-2.000202 -23.0min\n",
      "[CV] subsample=0.7, silent=1, seed=1337, missing=-999, min_child_weight=5, max_depth=5, learning_rate=0.035, colsample_bytree=0.7 \n",
      "[CV]  subsample=0.8, silent=1, seed=1337, missing=-999, min_child_weight=5, max_depth=5, learning_rate=0.035, colsample_bytree=0.7, score=-1.736638 -23.1min\n",
      "[CV] subsample=0.7, silent=1, seed=1337, missing=-999, min_child_weight=5, max_depth=5, learning_rate=0.035, colsample_bytree=0.7 \n",
      "[CV]  subsample=0.8, silent=1, seed=1337, missing=-999, min_child_weight=5, max_depth=5, learning_rate=0.035, colsample_bytree=0.7, score=-1.199950 -23.1min\n",
      "[CV] subsample=0.7, silent=1, seed=1337, missing=-999, min_child_weight=5, max_depth=5, learning_rate=0.035, colsample_bytree=0.7 \n",
      "[CV]  subsample=0.8, silent=1, seed=1337, missing=-999, min_child_weight=5, max_depth=5, learning_rate=0.035, colsample_bytree=0.7, score=-1.318025 -23.2min\n",
      "[CV] subsample=0.7, silent=1, seed=1337, missing=-999, min_child_weight=5, max_depth=5, learning_rate=0.035, colsample_bytree=0.7 \n",
      "[CV]  subsample=0.7, silent=1, seed=1337, missing=-999, min_child_weight=5, max_depth=5, learning_rate=0.035, colsample_bytree=0.7, score=-1.736357 -24.7min\n",
      "[CV] subsample=0.7, silent=1, seed=1337, missing=-999, min_child_weight=5, max_depth=10, learning_rate=0.035, colsample_bytree=0.8 \n",
      "[CV]  subsample=0.7, silent=1, seed=1337, missing=-999, min_child_weight=5, max_depth=5, learning_rate=0.035, colsample_bytree=0.7, score=-2.001479 -24.7min\n",
      "[CV] subsample=0.7, silent=1, seed=1337, missing=-999, min_child_weight=5, max_depth=10, learning_rate=0.035, colsample_bytree=0.8 \n",
      "[CV]  subsample=0.7, silent=1, seed=1337, missing=-999, min_child_weight=5, max_depth=5, learning_rate=0.035, colsample_bytree=0.7, score=-1.198331 -24.8min\n",
      "[CV] subsample=0.7, silent=1, seed=1337, missing=-999, min_child_weight=5, max_depth=10, learning_rate=0.035, colsample_bytree=0.8 \n",
      "[CV]  subsample=0.7, silent=1, seed=1337, missing=-999, min_child_weight=5, max_depth=5, learning_rate=0.035, colsample_bytree=0.7, score=-1.464795 -24.7min\n",
      "[CV] subsample=0.7, silent=1, seed=1337, missing=-999, min_child_weight=5, max_depth=10, learning_rate=0.035, colsample_bytree=0.8 \n",
      "[CV]  subsample=0.7, silent=1, seed=1337, missing=-999, min_child_weight=5, max_depth=5, learning_rate=0.035, colsample_bytree=0.7, score=-1.315991 -24.9min\n",
      "[CV] subsample=0.7, silent=1, seed=1337, missing=-999, min_child_weight=5, max_depth=10, learning_rate=0.035, colsample_bytree=0.8 \n",
      "[CV]  subsample=0.7, silent=1, seed=1337, missing=-999, min_child_weight=5, max_depth=10, learning_rate=0.035, colsample_bytree=0.8, score=-1.800546 -40.9min\n",
      "[CV] subsample=0.7, silent=1, seed=1337, missing=-999, min_child_weight=10, max_depth=6, learning_rate=0.05, colsample_bytree=0.7 \n",
      "[CV]  subsample=0.7, silent=1, seed=1337, missing=-999, min_child_weight=5, max_depth=10, learning_rate=0.035, colsample_bytree=0.8, score=-2.263911 -41.4min\n",
      "[CV] subsample=0.7, silent=1, seed=1337, missing=-999, min_child_weight=10, max_depth=6, learning_rate=0.05, colsample_bytree=0.7 \n",
      "[CV]  subsample=0.7, silent=1, seed=1337, missing=-999, min_child_weight=5, max_depth=10, learning_rate=0.035, colsample_bytree=0.8, score=-1.533633 -41.8min\n",
      "[CV] subsample=0.7, silent=1, seed=1337, missing=-999, min_child_weight=10, max_depth=6, learning_rate=0.05, colsample_bytree=0.7 \n",
      "[CV]  subsample=0.7, silent=1, seed=1337, missing=-999, min_child_weight=5, max_depth=10, learning_rate=0.035, colsample_bytree=0.8, score=-1.303443 -42.0min\n",
      "[CV] subsample=0.7, silent=1, seed=1337, missing=-999, min_child_weight=10, max_depth=6, learning_rate=0.05, colsample_bytree=0.7 \n",
      "[CV]  subsample=0.7, silent=1, seed=1337, missing=-999, min_child_weight=5, max_depth=10, learning_rate=0.035, colsample_bytree=0.8, score=-1.392469 -42.7min\n",
      "[CV] subsample=0.7, silent=1, seed=1337, missing=-999, min_child_weight=10, max_depth=6, learning_rate=0.05, colsample_bytree=0.7 \n",
      "[CV]  subsample=0.7, silent=1, seed=1337, missing=-999, min_child_weight=10, max_depth=6, learning_rate=0.05, colsample_bytree=0.7, score=-1.775641 -27.7min\n",
      "[CV] subsample=0.8, silent=1, seed=1337, missing=-999, min_child_weight=5, max_depth=10, learning_rate=0.05, colsample_bytree=0.7 \n",
      "[CV]  subsample=0.7, silent=1, seed=1337, missing=-999, min_child_weight=10, max_depth=6, learning_rate=0.05, colsample_bytree=0.7, score=-2.116927 -28.5min\n",
      "[CV] subsample=0.8, silent=1, seed=1337, missing=-999, min_child_weight=5, max_depth=10, learning_rate=0.05, colsample_bytree=0.7 \n",
      "[CV]  subsample=0.7, silent=1, seed=1337, missing=-999, min_child_weight=10, max_depth=6, learning_rate=0.05, colsample_bytree=0.7, score=-1.250759 -28.7min\n",
      "[CV] subsample=0.8, silent=1, seed=1337, missing=-999, min_child_weight=5, max_depth=10, learning_rate=0.05, colsample_bytree=0.7 \n",
      "[CV]  subsample=0.7, silent=1, seed=1337, missing=-999, min_child_weight=10, max_depth=6, learning_rate=0.05, colsample_bytree=0.7, score=-1.363739 -28.9min\n",
      "[CV] subsample=0.8, silent=1, seed=1337, missing=-999, min_child_weight=5, max_depth=10, learning_rate=0.05, colsample_bytree=0.7 \n",
      "[CV]  subsample=0.7, silent=1, seed=1337, missing=-999, min_child_weight=10, max_depth=6, learning_rate=0.05, colsample_bytree=0.7, score=-1.493459 -28.6min\n",
      "[CV] subsample=0.8, silent=1, seed=1337, missing=-999, min_child_weight=5, max_depth=10, learning_rate=0.05, colsample_bytree=0.7 \n",
      "[CV]  subsample=0.8, silent=1, seed=1337, missing=-999, min_child_weight=5, max_depth=10, learning_rate=0.05, colsample_bytree=0.7, score=-1.859018 -37.2min\n",
      "[CV] subsample=0.8, silent=1, seed=1337, missing=-999, min_child_weight=1, max_depth=6, learning_rate=0.05, colsample_bytree=0.7 \n",
      "[CV]  subsample=0.8, silent=1, seed=1337, missing=-999, min_child_weight=5, max_depth=10, learning_rate=0.05, colsample_bytree=0.7, score=-2.412069 -37.5min\n",
      "[CV] subsample=0.8, silent=1, seed=1337, missing=-999, min_child_weight=1, max_depth=6, learning_rate=0.05, colsample_bytree=0.7 \n"
     ]
    },
    {
     "name": "stderr",
     "output_type": "stream",
     "text": [
      "[Parallel(n_jobs=5)]: Done  22 tasks      | elapsed: 155.2min\n"
     ]
    },
    {
     "name": "stdout",
     "output_type": "stream",
     "text": [
      "[CV]  subsample=0.8, silent=1, seed=1337, missing=-999, min_child_weight=5, max_depth=10, learning_rate=0.05, colsample_bytree=0.7, score=-1.388722 -38.7min\n",
      "[CV] subsample=0.8, silent=1, seed=1337, missing=-999, min_child_weight=1, max_depth=6, learning_rate=0.05, colsample_bytree=0.7 \n",
      "[CV]  subsample=0.8, silent=1, seed=1337, missing=-999, min_child_weight=5, max_depth=10, learning_rate=0.05, colsample_bytree=0.7, score=-1.529068 -38.1min\n",
      "[CV] subsample=0.8, silent=1, seed=1337, missing=-999, min_child_weight=1, max_depth=6, learning_rate=0.05, colsample_bytree=0.7 \n",
      "[CV]  subsample=0.8, silent=1, seed=1337, missing=-999, min_child_weight=5, max_depth=10, learning_rate=0.05, colsample_bytree=0.7, score=-1.422893 -38.9min\n",
      "[CV] subsample=0.8, silent=1, seed=1337, missing=-999, min_child_weight=1, max_depth=6, learning_rate=0.05, colsample_bytree=0.7 \n",
      "[CV]  subsample=0.8, silent=1, seed=1337, missing=-999, min_child_weight=1, max_depth=6, learning_rate=0.05, colsample_bytree=0.7, score=-1.816001 -26.2min\n",
      "[CV] subsample=0.8, silent=1, seed=1337, missing=-999, min_child_weight=10, max_depth=6, learning_rate=0.05, colsample_bytree=0.8 \n",
      "[CV]  subsample=0.8, silent=1, seed=1337, missing=-999, min_child_weight=1, max_depth=6, learning_rate=0.05, colsample_bytree=0.7, score=-2.194352 -26.2min\n",
      "[CV] subsample=0.8, silent=1, seed=1337, missing=-999, min_child_weight=10, max_depth=6, learning_rate=0.05, colsample_bytree=0.8 \n",
      "[CV]  subsample=0.8, silent=1, seed=1337, missing=-999, min_child_weight=1, max_depth=6, learning_rate=0.05, colsample_bytree=0.7, score=-1.261953 -26.1min\n",
      "[CV] subsample=0.8, silent=1, seed=1337, missing=-999, min_child_weight=10, max_depth=6, learning_rate=0.05, colsample_bytree=0.8 \n",
      "[CV]  subsample=0.8, silent=1, seed=1337, missing=-999, min_child_weight=1, max_depth=6, learning_rate=0.05, colsample_bytree=0.7, score=-1.350946 -26.2min\n",
      "[CV] subsample=0.8, silent=1, seed=1337, missing=-999, min_child_weight=10, max_depth=6, learning_rate=0.05, colsample_bytree=0.8 \n",
      "[CV]  subsample=0.8, silent=1, seed=1337, missing=-999, min_child_weight=1, max_depth=6, learning_rate=0.05, colsample_bytree=0.7, score=-1.496076 -25.8min\n",
      "[CV] subsample=0.8, silent=1, seed=1337, missing=-999, min_child_weight=10, max_depth=6, learning_rate=0.05, colsample_bytree=0.8 \n",
      "[CV]  subsample=0.8, silent=1, seed=1337, missing=-999, min_child_weight=10, max_depth=6, learning_rate=0.05, colsample_bytree=0.8, score=-1.787385 -27.0min\n",
      "[CV] subsample=0.8, silent=1, seed=1337, missing=-999, min_child_weight=1, max_depth=5, learning_rate=0.03, colsample_bytree=0.8 \n",
      "[CV]  subsample=0.8, silent=1, seed=1337, missing=-999, min_child_weight=10, max_depth=6, learning_rate=0.05, colsample_bytree=0.8, score=-2.134729 -27.4min\n",
      "[CV] subsample=0.8, silent=1, seed=1337, missing=-999, min_child_weight=1, max_depth=5, learning_rate=0.03, colsample_bytree=0.8 \n",
      "[CV]  subsample=0.8, silent=1, seed=1337, missing=-999, min_child_weight=10, max_depth=6, learning_rate=0.05, colsample_bytree=0.8, score=-1.484114 -27.5min\n",
      "[CV] subsample=0.8, silent=1, seed=1337, missing=-999, min_child_weight=1, max_depth=5, learning_rate=0.03, colsample_bytree=0.8 \n",
      "[CV]  subsample=0.8, silent=1, seed=1337, missing=-999, min_child_weight=10, max_depth=6, learning_rate=0.05, colsample_bytree=0.8, score=-1.257643 -27.9min\n",
      "[CV] subsample=0.8, silent=1, seed=1337, missing=-999, min_child_weight=1, max_depth=5, learning_rate=0.03, colsample_bytree=0.8 \n",
      "[CV]  subsample=0.8, silent=1, seed=1337, missing=-999, min_child_weight=10, max_depth=6, learning_rate=0.05, colsample_bytree=0.8, score=-1.360569 -28.0min\n",
      "[CV] subsample=0.8, silent=1, seed=1337, missing=-999, min_child_weight=1, max_depth=5, learning_rate=0.03, colsample_bytree=0.8 \n",
      "[CV]  subsample=0.8, silent=1, seed=1337, missing=-999, min_child_weight=1, max_depth=5, learning_rate=0.03, colsample_bytree=0.8, score=-1.754852 -24.9min\n",
      "[CV] subsample=0.8, silent=1, seed=1337, missing=-999, min_child_weight=1, max_depth=6, learning_rate=0.03, colsample_bytree=0.7 \n",
      "[CV]  subsample=0.8, silent=1, seed=1337, missing=-999, min_child_weight=1, max_depth=5, learning_rate=0.03, colsample_bytree=0.8, score=-1.957762 -24.9min\n",
      "[CV] subsample=0.8, silent=1, seed=1337, missing=-999, min_child_weight=1, max_depth=6, learning_rate=0.03, colsample_bytree=0.7 \n",
      "[CV]  subsample=0.8, silent=1, seed=1337, missing=-999, min_child_weight=1, max_depth=5, learning_rate=0.03, colsample_bytree=0.8, score=-1.205498 -25.0min\n",
      "[CV] subsample=0.8, silent=1, seed=1337, missing=-999, min_child_weight=1, max_depth=6, learning_rate=0.03, colsample_bytree=0.7 \n",
      "[CV]  subsample=0.8, silent=1, seed=1337, missing=-999, min_child_weight=1, max_depth=5, learning_rate=0.03, colsample_bytree=0.8, score=-1.327169 -25.0min\n",
      "[CV] subsample=0.8, silent=1, seed=1337, missing=-999, min_child_weight=1, max_depth=6, learning_rate=0.03, colsample_bytree=0.7 \n",
      "[CV]  subsample=0.8, silent=1, seed=1337, missing=-999, min_child_weight=1, max_depth=5, learning_rate=0.03, colsample_bytree=0.8, score=-1.493476 -24.8min\n",
      "[CV] subsample=0.8, silent=1, seed=1337, missing=-999, min_child_weight=1, max_depth=6, learning_rate=0.03, colsample_bytree=0.7 \n",
      "[CV]  subsample=0.8, silent=1, seed=1337, missing=-999, min_child_weight=1, max_depth=6, learning_rate=0.03, colsample_bytree=0.7, score=-1.749229 -25.6min\n",
      "[CV] subsample=0.7, silent=1, seed=1337, missing=-999, min_child_weight=1, max_depth=6, learning_rate=0.03, colsample_bytree=0.7 \n",
      "[CV]  subsample=0.8, silent=1, seed=1337, missing=-999, min_child_weight=1, max_depth=6, learning_rate=0.03, colsample_bytree=0.7, score=-2.042446 -25.6min\n",
      "[CV] subsample=0.7, silent=1, seed=1337, missing=-999, min_child_weight=1, max_depth=6, learning_rate=0.03, colsample_bytree=0.7 \n",
      "[CV]  subsample=0.8, silent=1, seed=1337, missing=-999, min_child_weight=1, max_depth=6, learning_rate=0.03, colsample_bytree=0.7, score=-1.233110 -25.8min\n",
      "[CV] subsample=0.7, silent=1, seed=1337, missing=-999, min_child_weight=1, max_depth=6, learning_rate=0.03, colsample_bytree=0.7 \n",
      "[CV]  subsample=0.8, silent=1, seed=1337, missing=-999, min_child_weight=1, max_depth=6, learning_rate=0.03, colsample_bytree=0.7, score=-1.499524 -25.6min\n",
      "[CV] subsample=0.7, silent=1, seed=1337, missing=-999, min_child_weight=1, max_depth=6, learning_rate=0.03, colsample_bytree=0.7 \n",
      "[CV]  subsample=0.8, silent=1, seed=1337, missing=-999, min_child_weight=1, max_depth=6, learning_rate=0.03, colsample_bytree=0.7, score=-1.324351 -25.8min\n",
      "[CV] subsample=0.7, silent=1, seed=1337, missing=-999, min_child_weight=1, max_depth=6, learning_rate=0.03, colsample_bytree=0.7 \n",
      "[CV]  subsample=0.7, silent=1, seed=1337, missing=-999, min_child_weight=1, max_depth=6, learning_rate=0.03, colsample_bytree=0.7, score=-1.762930 -27.1min\n",
      "[CV]  subsample=0.7, silent=1, seed=1337, missing=-999, min_child_weight=1, max_depth=6, learning_rate=0.03, colsample_bytree=0.7, score=-2.048084 -27.1min\n",
      "[CV]  subsample=0.7, silent=1, seed=1337, missing=-999, min_child_weight=1, max_depth=6, learning_rate=0.03, colsample_bytree=0.7, score=-1.509566 -27.0min\n",
      "[CV]  subsample=0.7, silent=1, seed=1337, missing=-999, min_child_weight=1, max_depth=6, learning_rate=0.03, colsample_bytree=0.7, score=-1.241729 -27.1min\n",
      "[CV]  subsample=0.7, silent=1, seed=1337, missing=-999, min_child_weight=1, max_depth=6, learning_rate=0.03, colsample_bytree=0.7, score=-1.324394 -27.2min\n"
     ]
    },
    {
     "name": "stderr",
     "output_type": "stream",
     "text": [
      "[Parallel(n_jobs=5)]: Done  50 out of  50 | elapsed: 289.2min finished\n"
     ]
    },
    {
     "data": {
      "text/plain": [
       "RandomizedSearchCV(cv=sklearn.cross_validation.StratifiedKFold(labels=[0 1 ..., 3 0], n_folds=5, shuffle=False, random_state=None),\n",
       "          error_score='raise',\n",
       "          estimator=XGBClassifier(base_score=0.5, booster='gbtree', colsample_bylevel=1,\n",
       "       colsample_bytree=1, gamma=0, learning_rate=0.1, max_delta_step=0,\n",
       "       max_depth=3, min_child_weight=1, missing=None, n_estimators=100,\n",
       "       n_jobs=1, nthread=None, objective='multi:softprob', random_state=0,\n",
       "       reg_alpha=0, reg_lambda=1,\n",
       "       sample_weight=array([ 5.14381,  7.95733, ...,  2.7055 ,  5.14381]),\n",
       "       scale_pos_weight=1, seed=None, silent=True, subsample=1),\n",
       "          fit_params={}, iid=True, n_iter=10, n_jobs=5,\n",
       "          param_distributions={'learning_rate': [0.03, 0.035, 0.05], 'max_depth': [5, 6, 10], 'min_child_weight': [1, 5, 10], 'silent': [1], 'subsample': [0.8, 0.7], 'colsample_bytree': [0.8, 0.7], 'missing': [-999], 'seed': [1337]},\n",
       "          pre_dispatch='2*n_jobs', random_state=None, refit=True,\n",
       "          scoring='neg_log_loss', verbose=3)"
      ]
     },
     "execution_count": 18,
     "metadata": {},
     "output_type": "execute_result"
    }
   ],
   "source": [
    "clf.fit(df_train, y)"
   ]
  },
  {
   "cell_type": "code",
   "execution_count": 20,
   "metadata": {},
   "outputs": [
    {
     "name": "stdout",
     "output_type": "stream",
     "text": [
      "-1.5434049390529498\n",
      "{'subsample': 0.8, 'silent': 1, 'seed': 1337, 'missing': -999, 'min_child_weight': 5, 'max_depth': 5, 'learning_rate': 0.035, 'colsample_bytree': 0.7}\n"
     ]
    }
   ],
   "source": [
    "print(clf.best_score_)\n",
    "print(clf.best_params_)\n",
    "\n",
    "# f1_macro\n",
    "# 0.4293248036851208\n",
    "# {'colsample_bytree': 0.8, 'learning_rate': 0.05, 'max_depth': 10, 'min_child_weight': 1, \n",
    "#  'missing': -999, 'seed': 1337, 'silent': 1, 'subsample': 0.8}\n",
    "# 2.74021, 1.72588\n",
    "\n",
    "# neg_log_loos:-1.336173588372656\n",
    "# {'colsample_bytree': 0.7, 'learning_rate': 0.05, 'max_depth': 5, 'min_child_weight': 1,\n",
    "#  'missing': -999, 'seed': 1337, 'silent': 1, 'subsample': 0.8}\n",
    "# 2.77967\n",
    "# 1.71664\n",
    "\n",
    "# -1.3876712019506041 (whien using wts, use xgboost from github)\n",
    "# {'colsample_bytree': 0.7, 'learning_rate': 0.03, 'max_depth': 5, \n",
    "#  'min_child_weight': 5, 'missing': -999, 'seed': 1337, 'silent': 1, 'subsample': 0.8}\n",
    "# private LB: 2.44337, pub LB: 1.69402\n",
    "\n",
    "# -1.4902400080711418\n",
    "# {'colsample_bytree': 0.7, 'learning_rate': 0.04, 'max_depth': 6, 'min_child_weight': 1, \n",
    "#  'missing': -999, 'seed': 1337, 'silent': 1, 'subsample': 0.7}\n",
    "# private LB 2.56616\n",
    "# public LB: 1.71541\n",
    "\n",
    "# pip xgboost -1.4811547760008215\n",
    "# {'colsample_bytree': 0.7, 'learning_rate': 0.03, 'max_depth': 5, 'min_child_weight': 5, 'missing': -999, 'seed': 1337, 'silent': 1, 'subsample': 0.8}\n",
    "# In [14]:\n",
    "\n",
    "# accuracy\n",
    "# 0.5538086202222825\n",
    "# {'colsample_bytree': 0.8, 'learning_rate': 0.05, 'max_depth': 10, 'min_child_weight': 1, 'missing': -999, 'seed': 1337, 'silent': 1, 'subsample': 0.8}\n",
    "# In [26]:"
   ]
  },
  {
   "cell_type": "code",
   "execution_count": 21,
   "metadata": {
    "collapsed": true
   },
   "outputs": [],
   "source": [
    "# print(clf.best_score_)\n",
    "# print(clf.best_params_)\n",
    "#best score -1.42 (  grid with wts prob not used)"
   ]
  },
  {
   "cell_type": "code",
   "execution_count": 22,
   "metadata": {
    "collapsed": true
   },
   "outputs": [],
   "source": [
    "# print(clf.best_score_)\n",
    "# print(clf.best_params_)\n",
    "# best score: -1.40 (no wts)"
   ]
  },
  {
   "cell_type": "code",
   "execution_count": 23,
   "metadata": {},
   "outputs": [
    {
     "name": "stdout",
     "output_type": "stream",
     "text": [
      "colsample_bytree: 0.7\n",
      "learning_rate: 0.035\n",
      "max_depth: 5\n",
      "min_child_weight: 5\n",
      "missing: -999\n",
      "seed: 1337\n",
      "silent: 1\n",
      "subsample: 0.8\n"
     ]
    }
   ],
   "source": [
    "best_parameters, score, _ = max(clf.grid_scores_, key=lambda x: x[1])\n",
    "# print('Raw AUC score:', score)\n",
    "for param_name in sorted(best_parameters.keys()):\n",
    "    print(\"%s: %r\" % (param_name, best_parameters[param_name]))\n",
    "\n"
   ]
  },
  {
   "cell_type": "code",
   "execution_count": 24,
   "metadata": {
    "collapsed": true
   },
   "outputs": [],
   "source": [
    "test_probs = clf.predict_proba(df_test)"
   ]
  },
  {
   "cell_type": "code",
   "execution_count": 25,
   "metadata": {},
   "outputs": [
    {
     "data": {
      "text/plain": [
       "(986, 9)"
      ]
     },
     "execution_count": 25,
     "metadata": {},
     "output_type": "execute_result"
    }
   ],
   "source": [
    "test_probs.shape"
   ]
  },
  {
   "cell_type": "code",
   "execution_count": 26,
   "metadata": {},
   "outputs": [
    {
     "name": "stdout",
     "output_type": "stream",
     "text": [
      "[[ 0.1815663   0.09524849  0.05592067 ...,  0.12767667  0.03564896\n",
      "   0.02722346]\n",
      " [ 0.80430394  0.04496374  0.00862814 ...,  0.0697874   0.00865818\n",
      "   0.00714359]\n",
      " [ 0.08042137  0.32906529  0.03103557 ...,  0.33890304  0.03268041\n",
      "   0.0191015 ]\n",
      " ..., \n",
      " [ 0.0829633   0.35893023  0.0234056  ...,  0.31453186  0.01687983\n",
      "   0.01648173]\n",
      " [ 0.34296426  0.1417527   0.04408211 ...,  0.14183071  0.02599195\n",
      "   0.02207162]\n",
      " [ 0.11487987  0.24232443  0.03359992 ...,  0.30171379  0.03856931\n",
      "   0.02482533]]\n"
     ]
    }
   ],
   "source": [
    "print(test_probs)"
   ]
  },
  {
   "cell_type": "code",
   "execution_count": 27,
   "metadata": {
    "collapsed": true
   },
   "outputs": [],
   "source": [
    "test_probs = np.clip(test_probs, a_min=0.05, a_max=0.95)"
   ]
  },
  {
   "cell_type": "code",
   "execution_count": 29,
   "metadata": {
    "collapsed": true
   },
   "outputs": [],
   "source": [
    "submission = pd.DataFrame(test_probs, columns=['class'+str(c+1) for c in range(9)])\n",
    "submission['ID'] = pid\n",
    "# submission.to_csv('../submissions/subm_xgb_stage2_with_gridcv.csv', index=False)\n",
    "# scored 1.70423 on the public leaderboard, 2.40243 on the private leaderboard\n",
    "\n",
    "\n",
    "submission.to_csv('../submissions/subm_xgb_stage2_with_wt_gridcv.csv', index=False)\n",
    "# scored 1.36438 on the public leaderboard, 2.35876 on the private leaderboard\n"
   ]
  },
  {
   "cell_type": "code",
   "execution_count": null,
   "metadata": {
    "collapsed": true
   },
   "outputs": [],
   "source": []
  },
  {
   "cell_type": "code",
   "execution_count": null,
   "metadata": {
    "collapsed": true
   },
   "outputs": [],
   "source": []
  }
 ],
 "metadata": {
  "kernelspec": {
   "display_name": "Python 3",
   "language": "python",
   "name": "python3"
  },
  "language_info": {
   "codemirror_mode": {
    "name": "ipython",
    "version": 3
   },
   "file_extension": ".py",
   "mimetype": "text/x-python",
   "name": "python",
   "nbconvert_exporter": "python",
   "pygments_lexer": "ipython3",
   "version": "3.6.1"
  }
 },
 "nbformat": 4,
 "nbformat_minor": 2
}
