{
 "cells": [
  {
   "cell_type": "code",
   "execution_count": 64,
   "metadata": {
    "collapsed": true
   },
   "outputs": [],
   "source": [
    "import re\n",
    "import numpy as np\n",
    "import pandas as pd\n",
    "import feather\n",
    "import xgboost as xgb\n",
    "import feather\n",
    "from sklearn.base import BaseEstimator as be\n",
    "from sklearn.base import TransformerMixin as tm\n",
    "from sklearn.pipeline import Pipeline\n",
    "from sklearn.pipeline import FeatureUnion\n",
    "from sklearn.feature_extraction.text import CountVectorizer\n",
    "from sklearn.feature_extraction.text import HashingVectorizer\n",
    "from sklearn.feature_extraction.text import TfidfTransformer\n",
    "from sklearn.decomposition import TruncatedSVD\n",
    "from sklearn.model_selection import train_test_split\n",
    "from sklearn.metrics import log_loss\n",
    "\n",
    "from sklearn.cross_validation import *\n",
    "from sklearn.grid_search import GridSearchCV\n",
    "\n",
    "from nltk.corpus import stopwords\n",
    "from nltk.stem import SnowballStemmer\n",
    "\n",
    "from sklearn.ensemble import RandomForestClassifier\n",
    "from sklearn.multioutput import MultiOutputClassifier\n",
    "\n",
    "from sklearn.utils import shuffle\n",
    "\n",
    "import pickle"
   ]
  },
  {
   "cell_type": "code",
   "execution_count": 2,
   "metadata": {
    "collapsed": true
   },
   "outputs": [],
   "source": [
    "\n",
    "def save_classifier(fname, clf):\n",
    "    # save the classifier\n",
    "    with open(fname, 'wb') as fid:\n",
    "        pickle.dump(clf, fid)\n",
    "\n",
    "def load_classifier(fname):\n",
    "    # load it again\n",
    "    with open(fname, 'rb') as fid:\n",
    "        clf = pickle.load(fid)\n",
    "        return clf"
   ]
  },
  {
   "cell_type": "code",
   "execution_count": 3,
   "metadata": {
    "collapsed": true,
    "scrolled": true
   },
   "outputs": [],
   "source": [
    "# Any results you write to the current directory are saved as output.\n",
    "submission = pd.read_csv('../data/stage2_sample_submission.csv')\n",
    "stage1_test = pd.read_csv('../data/test_variants')\n",
    "stage2_test = pd.read_csv('../data/stage2_test_variants.csv')\n",
    "stage1_solution = pd.read_csv('../data/stage1_solution_filtered.csv')\n",
    "\n",
    "stage1_solution = stage1_solution.merge(stage1_test, how = 'left', on = 'ID')\n",
    "\n"
   ]
  },
  {
   "cell_type": "code",
   "execution_count": 4,
   "metadata": {
    "collapsed": true
   },
   "outputs": [],
   "source": [
    "df_train = feather.read_dataframe('../cache/train_stage2_fe.feather')"
   ]
  },
  {
   "cell_type": "code",
   "execution_count": 5,
   "metadata": {
    "collapsed": true
   },
   "outputs": [],
   "source": [
    "train_ids = df_train.ID.values"
   ]
  },
  {
   "cell_type": "code",
   "execution_count": 6,
   "metadata": {
    "collapsed": true
   },
   "outputs": [],
   "source": [
    "df_train = df_train.drop('ID', axis=1)"
   ]
  },
  {
   "cell_type": "code",
   "execution_count": 7,
   "metadata": {
    "collapsed": true
   },
   "outputs": [],
   "source": [
    "y = df_train['Class'].values"
   ]
  },
  {
   "cell_type": "code",
   "execution_count": 8,
   "metadata": {
    "collapsed": true
   },
   "outputs": [],
   "source": [
    "df_test = feather.read_dataframe('../cache/test_stage2_fe.feather')\n",
    "pid = df_test.ID\n",
    "df_test = df_test.drop('ID', axis=1)\n",
    "# df_test['Class'] = y_hack"
   ]
  },
  {
   "cell_type": "code",
   "execution_count": 9,
   "metadata": {},
   "outputs": [
    {
     "data": {
      "text/plain": [
       "(3689, 3590)"
      ]
     },
     "execution_count": 9,
     "metadata": {},
     "output_type": "execute_result"
    }
   ],
   "source": [
    "df_train.shape"
   ]
  },
  {
   "cell_type": "code",
   "execution_count": 10,
   "metadata": {},
   "outputs": [
    {
     "data": {
      "text/html": [
       "<div>\n",
       "<style>\n",
       "    .dataframe thead tr:only-child th {\n",
       "        text-align: right;\n",
       "    }\n",
       "\n",
       "    .dataframe thead th {\n",
       "        text-align: left;\n",
       "    }\n",
       "\n",
       "    .dataframe tbody tr th {\n",
       "        vertical-align: top;\n",
       "    }\n",
       "</style>\n",
       "<table border=\"1\" class=\"dataframe\">\n",
       "  <thead>\n",
       "    <tr style=\"text-align: right;\">\n",
       "      <th></th>\n",
       "      <th>Gene</th>\n",
       "      <th>Text</th>\n",
       "      <th>Variation</th>\n",
       "      <th>GeneVar</th>\n",
       "      <th>Gene_Share</th>\n",
       "      <th>Variation_Share</th>\n",
       "      <th>Gene_Variation_Share</th>\n",
       "      <th>GL</th>\n",
       "      <th>VL</th>\n",
       "      <th>Gene_0</th>\n",
       "      <th>...</th>\n",
       "      <th>Gene_words</th>\n",
       "      <th>Text_len</th>\n",
       "      <th>Text_words</th>\n",
       "      <th>Variation_lbl_enc</th>\n",
       "      <th>Variation_len</th>\n",
       "      <th>Variation_words</th>\n",
       "      <th>GeneVar_lbl_enc</th>\n",
       "      <th>GeneVar_len</th>\n",
       "      <th>GeneVar_words</th>\n",
       "      <th>Class</th>\n",
       "    </tr>\n",
       "  </thead>\n",
       "  <tbody>\n",
       "    <tr>\n",
       "      <th>0</th>\n",
       "      <td>FAM58A</td>\n",
       "      <td>Cyclin-dependent kinases (CDKs) regulate a var...</td>\n",
       "      <td>Truncating Mutations</td>\n",
       "      <td>FAM58A Truncating Mutations</td>\n",
       "      <td>1</td>\n",
       "      <td>1</td>\n",
       "      <td>2</td>\n",
       "      <td>6</td>\n",
       "      <td>20</td>\n",
       "      <td>5</td>\n",
       "      <td>...</td>\n",
       "      <td>1</td>\n",
       "      <td>39672</td>\n",
       "      <td>6105</td>\n",
       "      <td>3460</td>\n",
       "      <td>20</td>\n",
       "      <td>2</td>\n",
       "      <td>1654</td>\n",
       "      <td>27</td>\n",
       "      <td>3</td>\n",
       "      <td>1</td>\n",
       "    </tr>\n",
       "    <tr>\n",
       "      <th>1</th>\n",
       "      <td>CBL</td>\n",
       "      <td>Abstract Background  Non-small cell lung canc...</td>\n",
       "      <td>W802*</td>\n",
       "      <td>CBL W802*</td>\n",
       "      <td>1</td>\n",
       "      <td>1</td>\n",
       "      <td>2</td>\n",
       "      <td>3</td>\n",
       "      <td>5</td>\n",
       "      <td>2</td>\n",
       "      <td>...</td>\n",
       "      <td>1</td>\n",
       "      <td>36691</td>\n",
       "      <td>5783</td>\n",
       "      <td>3748</td>\n",
       "      <td>5</td>\n",
       "      <td>1</td>\n",
       "      <td>941</td>\n",
       "      <td>9</td>\n",
       "      <td>2</td>\n",
       "      <td>2</td>\n",
       "    </tr>\n",
       "    <tr>\n",
       "      <th>2</th>\n",
       "      <td>CBL</td>\n",
       "      <td>Abstract Background  Non-small cell lung canc...</td>\n",
       "      <td>Q249E</td>\n",
       "      <td>CBL Q249E</td>\n",
       "      <td>1</td>\n",
       "      <td>1</td>\n",
       "      <td>2</td>\n",
       "      <td>3</td>\n",
       "      <td>5</td>\n",
       "      <td>2</td>\n",
       "      <td>...</td>\n",
       "      <td>1</td>\n",
       "      <td>36691</td>\n",
       "      <td>5783</td>\n",
       "      <td>2425</td>\n",
       "      <td>5</td>\n",
       "      <td>1</td>\n",
       "      <td>933</td>\n",
       "      <td>9</td>\n",
       "      <td>2</td>\n",
       "      <td>2</td>\n",
       "    </tr>\n",
       "    <tr>\n",
       "      <th>3</th>\n",
       "      <td>CBL</td>\n",
       "      <td>Recent evidence has demonstrated that acquired...</td>\n",
       "      <td>N454D</td>\n",
       "      <td>CBL N454D</td>\n",
       "      <td>1</td>\n",
       "      <td>1</td>\n",
       "      <td>2</td>\n",
       "      <td>3</td>\n",
       "      <td>5</td>\n",
       "      <td>2</td>\n",
       "      <td>...</td>\n",
       "      <td>1</td>\n",
       "      <td>36238</td>\n",
       "      <td>5625</td>\n",
       "      <td>2132</td>\n",
       "      <td>5</td>\n",
       "      <td>1</td>\n",
       "      <td>929</td>\n",
       "      <td>9</td>\n",
       "      <td>2</td>\n",
       "      <td>3</td>\n",
       "    </tr>\n",
       "    <tr>\n",
       "      <th>4</th>\n",
       "      <td>CBL</td>\n",
       "      <td>Oncogenic mutations in the monomeric Casitas B...</td>\n",
       "      <td>L399V</td>\n",
       "      <td>CBL L399V</td>\n",
       "      <td>1</td>\n",
       "      <td>1</td>\n",
       "      <td>2</td>\n",
       "      <td>3</td>\n",
       "      <td>5</td>\n",
       "      <td>2</td>\n",
       "      <td>...</td>\n",
       "      <td>1</td>\n",
       "      <td>41308</td>\n",
       "      <td>6248</td>\n",
       "      <td>1854</td>\n",
       "      <td>5</td>\n",
       "      <td>1</td>\n",
       "      <td>927</td>\n",
       "      <td>9</td>\n",
       "      <td>2</td>\n",
       "      <td>4</td>\n",
       "    </tr>\n",
       "  </tbody>\n",
       "</table>\n",
       "<p>5 rows × 3590 columns</p>\n",
       "</div>"
      ],
      "text/plain": [
       "     Gene                                               Text  \\\n",
       "0  FAM58A  Cyclin-dependent kinases (CDKs) regulate a var...   \n",
       "1     CBL   Abstract Background  Non-small cell lung canc...   \n",
       "2     CBL   Abstract Background  Non-small cell lung canc...   \n",
       "3     CBL  Recent evidence has demonstrated that acquired...   \n",
       "4     CBL  Oncogenic mutations in the monomeric Casitas B...   \n",
       "\n",
       "              Variation                      GeneVar  Gene_Share  \\\n",
       "0  Truncating Mutations  FAM58A Truncating Mutations           1   \n",
       "1                 W802*                    CBL W802*           1   \n",
       "2                 Q249E                    CBL Q249E           1   \n",
       "3                 N454D                    CBL N454D           1   \n",
       "4                 L399V                    CBL L399V           1   \n",
       "\n",
       "   Variation_Share  Gene_Variation_Share  GL  VL  Gene_0  ...    Gene_words  \\\n",
       "0                1                     2   6  20       5  ...             1   \n",
       "1                1                     2   3   5       2  ...             1   \n",
       "2                1                     2   3   5       2  ...             1   \n",
       "3                1                     2   3   5       2  ...             1   \n",
       "4                1                     2   3   5       2  ...             1   \n",
       "\n",
       "   Text_len  Text_words  Variation_lbl_enc  Variation_len  Variation_words  \\\n",
       "0     39672        6105               3460             20                2   \n",
       "1     36691        5783               3748              5                1   \n",
       "2     36691        5783               2425              5                1   \n",
       "3     36238        5625               2132              5                1   \n",
       "4     41308        6248               1854              5                1   \n",
       "\n",
       "   GeneVar_lbl_enc  GeneVar_len  GeneVar_words  Class  \n",
       "0             1654           27              3      1  \n",
       "1              941            9              2      2  \n",
       "2              933            9              2      2  \n",
       "3              929            9              2      3  \n",
       "4              927            9              2      4  \n",
       "\n",
       "[5 rows x 3590 columns]"
      ]
     },
     "execution_count": 10,
     "metadata": {},
     "output_type": "execute_result"
    }
   ],
   "source": [
    "df_train.head()"
   ]
  },
  {
   "cell_type": "code",
   "execution_count": 11,
   "metadata": {
    "collapsed": true
   },
   "outputs": [],
   "source": [
    "df_test = feather.read_dataframe('../cache/test_stage2_fe.feather')"
   ]
  },
  {
   "cell_type": "code",
   "execution_count": 12,
   "metadata": {},
   "outputs": [
    {
     "data": {
      "text/plain": [
       "(986, 3590)"
      ]
     },
     "execution_count": 12,
     "metadata": {},
     "output_type": "execute_result"
    }
   ],
   "source": [
    "df_test.shape"
   ]
  },
  {
   "cell_type": "code",
   "execution_count": 13,
   "metadata": {},
   "outputs": [
    {
     "data": {
      "text/html": [
       "<div>\n",
       "<style>\n",
       "    .dataframe thead tr:only-child th {\n",
       "        text-align: right;\n",
       "    }\n",
       "\n",
       "    .dataframe thead th {\n",
       "        text-align: left;\n",
       "    }\n",
       "\n",
       "    .dataframe tbody tr th {\n",
       "        vertical-align: top;\n",
       "    }\n",
       "</style>\n",
       "<table border=\"1\" class=\"dataframe\">\n",
       "  <thead>\n",
       "    <tr style=\"text-align: right;\">\n",
       "      <th></th>\n",
       "      <th>Gene</th>\n",
       "      <th>ID</th>\n",
       "      <th>Text</th>\n",
       "      <th>Variation</th>\n",
       "      <th>GeneVar</th>\n",
       "      <th>Gene_Share</th>\n",
       "      <th>Variation_Share</th>\n",
       "      <th>Gene_Variation_Share</th>\n",
       "      <th>GL</th>\n",
       "      <th>VL</th>\n",
       "      <th>...</th>\n",
       "      <th>Gene_len</th>\n",
       "      <th>Gene_words</th>\n",
       "      <th>Text_len</th>\n",
       "      <th>Text_words</th>\n",
       "      <th>Variation_lbl_enc</th>\n",
       "      <th>Variation_len</th>\n",
       "      <th>Variation_words</th>\n",
       "      <th>GeneVar_lbl_enc</th>\n",
       "      <th>GeneVar_len</th>\n",
       "      <th>GeneVar_words</th>\n",
       "    </tr>\n",
       "  </thead>\n",
       "  <tbody>\n",
       "    <tr>\n",
       "      <th>0</th>\n",
       "      <td>CHEK2</td>\n",
       "      <td>1</td>\n",
       "      <td>The incidence of breast cancer is increasing i...</td>\n",
       "      <td>H371Y</td>\n",
       "      <td>CHEK2 H371Y</td>\n",
       "      <td>1</td>\n",
       "      <td>1</td>\n",
       "      <td>2</td>\n",
       "      <td>5</td>\n",
       "      <td>5</td>\n",
       "      <td>...</td>\n",
       "      <td>5</td>\n",
       "      <td>1</td>\n",
       "      <td>33403</td>\n",
       "      <td>4991</td>\n",
       "      <td>1379</td>\n",
       "      <td>5</td>\n",
       "      <td>1</td>\n",
       "      <td>1080</td>\n",
       "      <td>11</td>\n",
       "      <td>2</td>\n",
       "    </tr>\n",
       "    <tr>\n",
       "      <th>1</th>\n",
       "      <td>AXIN2</td>\n",
       "      <td>2</td>\n",
       "      <td>An unselected series of 310 colorectal carcino...</td>\n",
       "      <td>Truncating Mutations</td>\n",
       "      <td>AXIN2 Truncating Mutations</td>\n",
       "      <td>1</td>\n",
       "      <td>1</td>\n",
       "      <td>2</td>\n",
       "      <td>5</td>\n",
       "      <td>20</td>\n",
       "      <td>...</td>\n",
       "      <td>5</td>\n",
       "      <td>1</td>\n",
       "      <td>66400</td>\n",
       "      <td>10348</td>\n",
       "      <td>3460</td>\n",
       "      <td>20</td>\n",
       "      <td>2</td>\n",
       "      <td>286</td>\n",
       "      <td>26</td>\n",
       "      <td>3</td>\n",
       "    </tr>\n",
       "    <tr>\n",
       "      <th>2</th>\n",
       "      <td>WNT4</td>\n",
       "      <td>3</td>\n",
       "      <td>Mycosis fungoides and Sézary syndrome are prim...</td>\n",
       "      <td>E216G</td>\n",
       "      <td>WNT4 E216G</td>\n",
       "      <td>0</td>\n",
       "      <td>1</td>\n",
       "      <td>1</td>\n",
       "      <td>4</td>\n",
       "      <td>5</td>\n",
       "      <td>...</td>\n",
       "      <td>4</td>\n",
       "      <td>1</td>\n",
       "      <td>58544</td>\n",
       "      <td>8638</td>\n",
       "      <td>672</td>\n",
       "      <td>5</td>\n",
       "      <td>1</td>\n",
       "      <td>4287</td>\n",
       "      <td>10</td>\n",
       "      <td>2</td>\n",
       "    </tr>\n",
       "    <tr>\n",
       "      <th>3</th>\n",
       "      <td>SUCLA2</td>\n",
       "      <td>4</td>\n",
       "      <td>Regulated progression through the cell cycle ...</td>\n",
       "      <td>G118R</td>\n",
       "      <td>SUCLA2 G118R</td>\n",
       "      <td>0</td>\n",
       "      <td>1</td>\n",
       "      <td>1</td>\n",
       "      <td>6</td>\n",
       "      <td>5</td>\n",
       "      <td>...</td>\n",
       "      <td>6</td>\n",
       "      <td>1</td>\n",
       "      <td>42023</td>\n",
       "      <td>6221</td>\n",
       "      <td>1038</td>\n",
       "      <td>5</td>\n",
       "      <td>1</td>\n",
       "      <td>3841</td>\n",
       "      <td>12</td>\n",
       "      <td>2</td>\n",
       "    </tr>\n",
       "    <tr>\n",
       "      <th>4</th>\n",
       "      <td>BRAF</td>\n",
       "      <td>5</td>\n",
       "      <td>Pilocytic astrocytoma (PA) is emerging as a tu...</td>\n",
       "      <td>T599insTT</td>\n",
       "      <td>BRAF T599insTT</td>\n",
       "      <td>1</td>\n",
       "      <td>0</td>\n",
       "      <td>1</td>\n",
       "      <td>4</td>\n",
       "      <td>9</td>\n",
       "      <td>...</td>\n",
       "      <td>4</td>\n",
       "      <td>1</td>\n",
       "      <td>22499</td>\n",
       "      <td>3280</td>\n",
       "      <td>3402</td>\n",
       "      <td>9</td>\n",
       "      <td>1</td>\n",
       "      <td>430</td>\n",
       "      <td>14</td>\n",
       "      <td>2</td>\n",
       "    </tr>\n",
       "  </tbody>\n",
       "</table>\n",
       "<p>5 rows × 3590 columns</p>\n",
       "</div>"
      ],
      "text/plain": [
       "     Gene  ID                                               Text  \\\n",
       "0   CHEK2   1  The incidence of breast cancer is increasing i...   \n",
       "1   AXIN2   2  An unselected series of 310 colorectal carcino...   \n",
       "2    WNT4   3  Mycosis fungoides and Sézary syndrome are prim...   \n",
       "3  SUCLA2   4   Regulated progression through the cell cycle ...   \n",
       "4    BRAF   5  Pilocytic astrocytoma (PA) is emerging as a tu...   \n",
       "\n",
       "              Variation                     GeneVar  Gene_Share  \\\n",
       "0                 H371Y                 CHEK2 H371Y           1   \n",
       "1  Truncating Mutations  AXIN2 Truncating Mutations           1   \n",
       "2                 E216G                  WNT4 E216G           0   \n",
       "3                 G118R                SUCLA2 G118R           0   \n",
       "4             T599insTT              BRAF T599insTT           1   \n",
       "\n",
       "   Variation_Share  Gene_Variation_Share  GL  VL      ...        Gene_len  \\\n",
       "0                1                     2   5   5      ...               5   \n",
       "1                1                     2   5  20      ...               5   \n",
       "2                1                     1   4   5      ...               4   \n",
       "3                1                     1   6   5      ...               6   \n",
       "4                0                     1   4   9      ...               4   \n",
       "\n",
       "   Gene_words  Text_len  Text_words  Variation_lbl_enc  Variation_len  \\\n",
       "0           1     33403        4991               1379              5   \n",
       "1           1     66400       10348               3460             20   \n",
       "2           1     58544        8638                672              5   \n",
       "3           1     42023        6221               1038              5   \n",
       "4           1     22499        3280               3402              9   \n",
       "\n",
       "   Variation_words  GeneVar_lbl_enc  GeneVar_len  GeneVar_words  \n",
       "0                1             1080           11              2  \n",
       "1                2              286           26              3  \n",
       "2                1             4287           10              2  \n",
       "3                1             3841           12              2  \n",
       "4                1              430           14              2  \n",
       "\n",
       "[5 rows x 3590 columns]"
      ]
     },
     "execution_count": 13,
     "metadata": {},
     "output_type": "execute_result"
    }
   ],
   "source": [
    "df_test.head()"
   ]
  },
  {
   "cell_type": "code",
   "execution_count": null,
   "metadata": {
    "collapsed": true
   },
   "outputs": [],
   "source": []
  },
  {
   "cell_type": "code",
   "execution_count": 14,
   "metadata": {
    "collapsed": true
   },
   "outputs": [],
   "source": [
    "########################################\n",
    "## process texts in datasets\n",
    "########################################\n",
    "\n",
    "\n",
    "# The function \"text_to_wordlist\" is from\n",
    "# https://www.kaggle.com/currie32/quora-question-pairs/the-importance-of-cleaning-text\n",
    "def text_to_wordlist(text, remove_stopwords=True, stem_words=True):\n",
    "    # Clean the text, with the option to remove stopwords and to stem words.\n",
    "    \n",
    "    # Convert words to lower case and split them\n",
    "    text = text.lower().split()\n",
    "\n",
    "    my_stopwords = [\n",
    "        \"fig\", \"figure\", \"et\", \"al\", \"table\",\n",
    "        \"data\", \"analysis\", \"analyze\", \"study\",\n",
    "        \"method\", \"result\", \"conclusion\", \"author\",\n",
    "        \"find\", \"found\", \"show\", \"perform\",\n",
    "        \"demonstrate\", \"evaluate\", \"discuss\"\n",
    "    ]\n",
    "    \n",
    "    # Optionally, remove stop words\n",
    "    if remove_stopwords:\n",
    "        stops = set(stopwords.words(\"english\"))\n",
    "        text = [w for w in text if not w in stops]\n",
    "        text = [w for w in text if not w in my_stopwords]\n",
    "    \n",
    "    text = \" \".join(text)\n",
    "\n",
    "    # Clean the text\n",
    "    text = re.sub(r\"[^A-Za-z0-9^,!.\\/'+-=]\", \" \", text)\n",
    "    text = re.sub(r\"what's\", \"what is \", text)\n",
    "    text = re.sub(r\"\\'s\", \" \", text)\n",
    "    text = re.sub(r\"\\'ve\", \" have \", text)\n",
    "    text = re.sub(r\"can't\", \"cannot \", text)\n",
    "    text = re.sub(r\"n't\", \" not \", text)\n",
    "    text = re.sub(r\"i'm\", \"i am \", text)\n",
    "    text = re.sub(r\"\\'re\", \" are \", text)\n",
    "    text = re.sub(r\"\\'d\", \" would \", text)\n",
    "    text = re.sub(r\"\\'ll\", \" will \", text)\n",
    "    text = re.sub(r\",\", \" \", text)\n",
    "    text = re.sub(r\"\\.\", \" \", text)\n",
    "    text = re.sub(r\"!\", \" ! \", text)\n",
    "    text = re.sub(r\"\\/\", \" \", text)\n",
    "    text = re.sub(r\"\\^\", \" ^ \", text)\n",
    "    text = re.sub(r\"\\+\", \" + \", text)\n",
    "    text = re.sub(r\"\\-\", \" - \", text)\n",
    "    text = re.sub(r\"\\=\", \" = \", text)\n",
    "    text = re.sub(r\"'\", \" \", text)\n",
    "    text = re.sub(r\"(\\d+)(k)\", r\"\\g<1>000\", text)\n",
    "    text = re.sub(r\":\", \" : \", text)\n",
    "    text = re.sub(r\" e g \", \" eg \", text)\n",
    "    text = re.sub(r\" b g \", \" bg \", text)\n",
    "    text = re.sub(r\" u s \", \" american \", text)\n",
    "    text = re.sub(r\"\\0s\", \"0\", text)\n",
    "    text = re.sub(r\" 9 11 \", \"911\", text)\n",
    "    text = re.sub(r\"e - mail\", \"email\", text)\n",
    "    text = re.sub(r\"j k\", \"jk\", text)\n",
    "    text = re.sub(r\"\\s{2,}\", \" \", text)\n",
    "    \n",
    "    # Optionally, shorten words to their stems\n",
    "    if stem_words:\n",
    "        text = text.split()\n",
    "        stemmer = SnowballStemmer('english')\n",
    "        stemmed_words = [stemmer.stem(word) for word in text]\n",
    "        text = \" \".join(stemmed_words)\n",
    "    \n",
    "    # Return a list of words\n",
    "    return(text)"
   ]
  },
  {
   "cell_type": "code",
   "execution_count": 15,
   "metadata": {
    "collapsed": true
   },
   "outputs": [],
   "source": [
    "# https://www.kaggle.com/the1owl/redefining-treatment-0-57456\n",
    "class cust_regression_vals(be, tm):\n",
    "    def fit(self, x, y=None):\n",
    "        return self\n",
    "    def transform(self, x):\n",
    "        x = x.drop(['Gene', 'Variation', 'ID','Text', 'GeneVar'],axis=1).values\n",
    "        return x\n",
    "\n",
    "class cust_txt_col(be, tm):\n",
    "    def __init__(self, key):\n",
    "        self.key = key\n",
    "    def fit(self, x, y=None):\n",
    "        return self\n",
    "    def transform(self, x):\n",
    "        return x[self.key].apply(str)\n"
   ]
  },
  {
   "cell_type": "code",
   "execution_count": 16,
   "metadata": {
    "collapsed": true
   },
   "outputs": [],
   "source": [
    "# from https://www.kaggle.com/the1owl/redefining-treatment-0-57456\n",
    "fp = Pipeline([\n",
    "    ('union', FeatureUnion(\n",
    "        n_jobs = -1,\n",
    "        transformer_list = [\n",
    "            ('standard', cust_regression_vals()),\n",
    "            ('pi1', Pipeline([('Gene', cust_txt_col('Gene')), \n",
    "                                       ('count_Gene', CountVectorizer(analyzer=u'char',ngram_range=(1, 3))), \n",
    "                                       ('tsvd1', TruncatedSVD(n_components=20, n_iter=25, random_state=12))])),\n",
    "            ('pi2', Pipeline([('Variation', cust_txt_col('Variation')), \n",
    "                                       ('count_Variation', CountVectorizer(analyzer=u'char',ngram_range=(1, 3))), \n",
    "                                       ('tsvd2', TruncatedSVD(n_components=20, n_iter=25, random_state=12))])),\n",
    "            ('pi3', Pipeline([('GeneVar', cust_txt_col('GeneVar')), \n",
    "                                       ('count_GeneVar', CountVectorizer(analyzer=u'char', ngram_range=(1, 3))), \n",
    "                                       ('tsvd2', TruncatedSVD(n_components=20, n_iter=25, \n",
    "                                                                            random_state=12))])),\n",
    "            ('pi4',Pipeline([('Text', cust_txt_col('Text')), \n",
    "                                       ('hv', HashingVectorizer(decode_error='ignore', \n",
    "                                                                                        n_features=2 ** 16,\n",
    "                                                                                        non_negative=True, \n",
    "                                                                                        ngram_range=(1, 5))),\n",
    "                                       ('tfidf_Text', TfidfTransformer()), \n",
    "                                       ('tsvd3', TruncatedSVD(n_components=300, n_iter=25, \n",
    "                                                                            random_state=12))]))\n",
    "\n",
    "        \n",
    "        ])\n",
    "    )])\n"
   ]
  },
  {
   "cell_type": "code",
   "execution_count": 17,
   "metadata": {
    "collapsed": true
   },
   "outputs": [],
   "source": [
    "df_train['Text'] = [text_to_wordlist(w) for w in df_train['Text'].values]"
   ]
  },
  {
   "cell_type": "code",
   "execution_count": 18,
   "metadata": {
    "collapsed": true
   },
   "outputs": [],
   "source": [
    "df_test['Text'] = [text_to_wordlist(w) for w in df_test['Text'].values]"
   ]
  },
  {
   "cell_type": "code",
   "execution_count": 19,
   "metadata": {},
   "outputs": [
    {
     "data": {
      "text/html": [
       "<div>\n",
       "<style>\n",
       "    .dataframe thead tr:only-child th {\n",
       "        text-align: right;\n",
       "    }\n",
       "\n",
       "    .dataframe thead th {\n",
       "        text-align: left;\n",
       "    }\n",
       "\n",
       "    .dataframe tbody tr th {\n",
       "        vertical-align: top;\n",
       "    }\n",
       "</style>\n",
       "<table border=\"1\" class=\"dataframe\">\n",
       "  <thead>\n",
       "    <tr style=\"text-align: right;\">\n",
       "      <th></th>\n",
       "      <th>Gene</th>\n",
       "      <th>Text</th>\n",
       "      <th>Variation</th>\n",
       "      <th>GeneVar</th>\n",
       "      <th>Gene_Share</th>\n",
       "      <th>Variation_Share</th>\n",
       "      <th>Gene_Variation_Share</th>\n",
       "      <th>GL</th>\n",
       "      <th>VL</th>\n",
       "      <th>Gene_0</th>\n",
       "      <th>...</th>\n",
       "      <th>Gene_words</th>\n",
       "      <th>Text_len</th>\n",
       "      <th>Text_words</th>\n",
       "      <th>Variation_lbl_enc</th>\n",
       "      <th>Variation_len</th>\n",
       "      <th>Variation_words</th>\n",
       "      <th>GeneVar_lbl_enc</th>\n",
       "      <th>GeneVar_len</th>\n",
       "      <th>GeneVar_words</th>\n",
       "      <th>Class</th>\n",
       "    </tr>\n",
       "  </thead>\n",
       "  <tbody>\n",
       "    <tr>\n",
       "      <th>0</th>\n",
       "      <td>FAM58A</td>\n",
       "      <td>cyclin - depend kinas cdks regul varieti funda...</td>\n",
       "      <td>Truncating Mutations</td>\n",
       "      <td>FAM58A Truncating Mutations</td>\n",
       "      <td>1</td>\n",
       "      <td>1</td>\n",
       "      <td>2</td>\n",
       "      <td>6</td>\n",
       "      <td>20</td>\n",
       "      <td>5</td>\n",
       "      <td>...</td>\n",
       "      <td>1</td>\n",
       "      <td>39672</td>\n",
       "      <td>6105</td>\n",
       "      <td>3460</td>\n",
       "      <td>20</td>\n",
       "      <td>2</td>\n",
       "      <td>1654</td>\n",
       "      <td>27</td>\n",
       "      <td>3</td>\n",
       "      <td>1</td>\n",
       "    </tr>\n",
       "    <tr>\n",
       "      <th>1</th>\n",
       "      <td>CBL</td>\n",
       "      <td>abstract background non - small cell lung canc...</td>\n",
       "      <td>W802*</td>\n",
       "      <td>CBL W802*</td>\n",
       "      <td>1</td>\n",
       "      <td>1</td>\n",
       "      <td>2</td>\n",
       "      <td>3</td>\n",
       "      <td>5</td>\n",
       "      <td>2</td>\n",
       "      <td>...</td>\n",
       "      <td>1</td>\n",
       "      <td>36691</td>\n",
       "      <td>5783</td>\n",
       "      <td>3748</td>\n",
       "      <td>5</td>\n",
       "      <td>1</td>\n",
       "      <td>941</td>\n",
       "      <td>9</td>\n",
       "      <td>2</td>\n",
       "      <td>2</td>\n",
       "    </tr>\n",
       "    <tr>\n",
       "      <th>2</th>\n",
       "      <td>CBL</td>\n",
       "      <td>abstract background non - small cell lung canc...</td>\n",
       "      <td>Q249E</td>\n",
       "      <td>CBL Q249E</td>\n",
       "      <td>1</td>\n",
       "      <td>1</td>\n",
       "      <td>2</td>\n",
       "      <td>3</td>\n",
       "      <td>5</td>\n",
       "      <td>2</td>\n",
       "      <td>...</td>\n",
       "      <td>1</td>\n",
       "      <td>36691</td>\n",
       "      <td>5783</td>\n",
       "      <td>2425</td>\n",
       "      <td>5</td>\n",
       "      <td>1</td>\n",
       "      <td>933</td>\n",
       "      <td>9</td>\n",
       "      <td>2</td>\n",
       "      <td>2</td>\n",
       "    </tr>\n",
       "    <tr>\n",
       "      <th>3</th>\n",
       "      <td>CBL</td>\n",
       "      <td>recent evid demonstr acquir uniparent disomi a...</td>\n",
       "      <td>N454D</td>\n",
       "      <td>CBL N454D</td>\n",
       "      <td>1</td>\n",
       "      <td>1</td>\n",
       "      <td>2</td>\n",
       "      <td>3</td>\n",
       "      <td>5</td>\n",
       "      <td>2</td>\n",
       "      <td>...</td>\n",
       "      <td>1</td>\n",
       "      <td>36238</td>\n",
       "      <td>5625</td>\n",
       "      <td>2132</td>\n",
       "      <td>5</td>\n",
       "      <td>1</td>\n",
       "      <td>929</td>\n",
       "      <td>9</td>\n",
       "      <td>2</td>\n",
       "      <td>3</td>\n",
       "    </tr>\n",
       "    <tr>\n",
       "      <th>4</th>\n",
       "      <td>CBL</td>\n",
       "      <td>oncogen mutat monomer casita b - lineag lympho...</td>\n",
       "      <td>L399V</td>\n",
       "      <td>CBL L399V</td>\n",
       "      <td>1</td>\n",
       "      <td>1</td>\n",
       "      <td>2</td>\n",
       "      <td>3</td>\n",
       "      <td>5</td>\n",
       "      <td>2</td>\n",
       "      <td>...</td>\n",
       "      <td>1</td>\n",
       "      <td>41308</td>\n",
       "      <td>6248</td>\n",
       "      <td>1854</td>\n",
       "      <td>5</td>\n",
       "      <td>1</td>\n",
       "      <td>927</td>\n",
       "      <td>9</td>\n",
       "      <td>2</td>\n",
       "      <td>4</td>\n",
       "    </tr>\n",
       "  </tbody>\n",
       "</table>\n",
       "<p>5 rows × 3590 columns</p>\n",
       "</div>"
      ],
      "text/plain": [
       "     Gene                                               Text  \\\n",
       "0  FAM58A  cyclin - depend kinas cdks regul varieti funda...   \n",
       "1     CBL  abstract background non - small cell lung canc...   \n",
       "2     CBL  abstract background non - small cell lung canc...   \n",
       "3     CBL  recent evid demonstr acquir uniparent disomi a...   \n",
       "4     CBL  oncogen mutat monomer casita b - lineag lympho...   \n",
       "\n",
       "              Variation                      GeneVar  Gene_Share  \\\n",
       "0  Truncating Mutations  FAM58A Truncating Mutations           1   \n",
       "1                 W802*                    CBL W802*           1   \n",
       "2                 Q249E                    CBL Q249E           1   \n",
       "3                 N454D                    CBL N454D           1   \n",
       "4                 L399V                    CBL L399V           1   \n",
       "\n",
       "   Variation_Share  Gene_Variation_Share  GL  VL  Gene_0  ...    Gene_words  \\\n",
       "0                1                     2   6  20       5  ...             1   \n",
       "1                1                     2   3   5       2  ...             1   \n",
       "2                1                     2   3   5       2  ...             1   \n",
       "3                1                     2   3   5       2  ...             1   \n",
       "4                1                     2   3   5       2  ...             1   \n",
       "\n",
       "   Text_len  Text_words  Variation_lbl_enc  Variation_len  Variation_words  \\\n",
       "0     39672        6105               3460             20                2   \n",
       "1     36691        5783               3748              5                1   \n",
       "2     36691        5783               2425              5                1   \n",
       "3     36238        5625               2132              5                1   \n",
       "4     41308        6248               1854              5                1   \n",
       "\n",
       "   GeneVar_lbl_enc  GeneVar_len  GeneVar_words  Class  \n",
       "0             1654           27              3      1  \n",
       "1              941            9              2      2  \n",
       "2              933            9              2      2  \n",
       "3              929            9              2      3  \n",
       "4              927            9              2      4  \n",
       "\n",
       "[5 rows x 3590 columns]"
      ]
     },
     "execution_count": 19,
     "metadata": {},
     "output_type": "execute_result"
    }
   ],
   "source": [
    "df_train.head()"
   ]
  },
  {
   "cell_type": "code",
   "execution_count": 20,
   "metadata": {
    "collapsed": true
   },
   "outputs": [],
   "source": [
    "y = df_train['Class'].values"
   ]
  },
  {
   "cell_type": "code",
   "execution_count": 21,
   "metadata": {
    "collapsed": true
   },
   "outputs": [],
   "source": [
    "df_train['ID'] = [i for i in range(df_train.shape[0])]"
   ]
  },
  {
   "cell_type": "code",
   "execution_count": 22,
   "metadata": {
    "collapsed": true
   },
   "outputs": [],
   "source": [
    "tr = df_train\n",
    "te = df_test"
   ]
  },
  {
   "cell_type": "code",
   "execution_count": 23,
   "metadata": {
    "collapsed": true
   },
   "outputs": [],
   "source": [
    "# y = tr['Class'].values"
   ]
  },
  {
   "cell_type": "code",
   "execution_count": 24,
   "metadata": {},
   "outputs": [
    {
     "data": {
      "text/plain": [
       "set()"
      ]
     },
     "execution_count": 24,
     "metadata": {},
     "output_type": "execute_result"
    }
   ],
   "source": [
    "set(te.columns) - set(tr.columns)"
   ]
  },
  {
   "cell_type": "code",
   "execution_count": null,
   "metadata": {
    "collapsed": true
   },
   "outputs": [],
   "source": []
  },
  {
   "cell_type": "code",
   "execution_count": 25,
   "metadata": {
    "collapsed": true
   },
   "outputs": [],
   "source": [
    "df_train = df_train.drop('Class',axis=1)"
   ]
  },
  {
   "cell_type": "code",
   "execution_count": 26,
   "metadata": {
    "collapsed": true
   },
   "outputs": [],
   "source": [
    "# df_train = df_train.drop('ID', axis=1)\n",
    "# df_test = df_test.drop('ID', axis=1)"
   ]
  },
  {
   "cell_type": "code",
   "execution_count": 27,
   "metadata": {
    "collapsed": true
   },
   "outputs": [],
   "source": [
    "# df_train = tr"
   ]
  },
  {
   "cell_type": "code",
   "execution_count": 28,
   "metadata": {},
   "outputs": [
    {
     "data": {
      "text/html": [
       "<div>\n",
       "<style>\n",
       "    .dataframe thead tr:only-child th {\n",
       "        text-align: right;\n",
       "    }\n",
       "\n",
       "    .dataframe thead th {\n",
       "        text-align: left;\n",
       "    }\n",
       "\n",
       "    .dataframe tbody tr th {\n",
       "        vertical-align: top;\n",
       "    }\n",
       "</style>\n",
       "<table border=\"1\" class=\"dataframe\">\n",
       "  <thead>\n",
       "    <tr style=\"text-align: right;\">\n",
       "      <th></th>\n",
       "      <th>Gene</th>\n",
       "      <th>Text</th>\n",
       "      <th>Variation</th>\n",
       "      <th>GeneVar</th>\n",
       "      <th>Gene_Share</th>\n",
       "      <th>Variation_Share</th>\n",
       "      <th>Gene_Variation_Share</th>\n",
       "      <th>GL</th>\n",
       "      <th>VL</th>\n",
       "      <th>Gene_0</th>\n",
       "      <th>...</th>\n",
       "      <th>Gene_words</th>\n",
       "      <th>Text_len</th>\n",
       "      <th>Text_words</th>\n",
       "      <th>Variation_lbl_enc</th>\n",
       "      <th>Variation_len</th>\n",
       "      <th>Variation_words</th>\n",
       "      <th>GeneVar_lbl_enc</th>\n",
       "      <th>GeneVar_len</th>\n",
       "      <th>GeneVar_words</th>\n",
       "      <th>ID</th>\n",
       "    </tr>\n",
       "  </thead>\n",
       "  <tbody>\n",
       "    <tr>\n",
       "      <th>0</th>\n",
       "      <td>FAM58A</td>\n",
       "      <td>cyclin - depend kinas cdks regul varieti funda...</td>\n",
       "      <td>Truncating Mutations</td>\n",
       "      <td>FAM58A Truncating Mutations</td>\n",
       "      <td>1</td>\n",
       "      <td>1</td>\n",
       "      <td>2</td>\n",
       "      <td>6</td>\n",
       "      <td>20</td>\n",
       "      <td>5</td>\n",
       "      <td>...</td>\n",
       "      <td>1</td>\n",
       "      <td>39672</td>\n",
       "      <td>6105</td>\n",
       "      <td>3460</td>\n",
       "      <td>20</td>\n",
       "      <td>2</td>\n",
       "      <td>1654</td>\n",
       "      <td>27</td>\n",
       "      <td>3</td>\n",
       "      <td>0</td>\n",
       "    </tr>\n",
       "    <tr>\n",
       "      <th>1</th>\n",
       "      <td>CBL</td>\n",
       "      <td>abstract background non - small cell lung canc...</td>\n",
       "      <td>W802*</td>\n",
       "      <td>CBL W802*</td>\n",
       "      <td>1</td>\n",
       "      <td>1</td>\n",
       "      <td>2</td>\n",
       "      <td>3</td>\n",
       "      <td>5</td>\n",
       "      <td>2</td>\n",
       "      <td>...</td>\n",
       "      <td>1</td>\n",
       "      <td>36691</td>\n",
       "      <td>5783</td>\n",
       "      <td>3748</td>\n",
       "      <td>5</td>\n",
       "      <td>1</td>\n",
       "      <td>941</td>\n",
       "      <td>9</td>\n",
       "      <td>2</td>\n",
       "      <td>1</td>\n",
       "    </tr>\n",
       "    <tr>\n",
       "      <th>2</th>\n",
       "      <td>CBL</td>\n",
       "      <td>abstract background non - small cell lung canc...</td>\n",
       "      <td>Q249E</td>\n",
       "      <td>CBL Q249E</td>\n",
       "      <td>1</td>\n",
       "      <td>1</td>\n",
       "      <td>2</td>\n",
       "      <td>3</td>\n",
       "      <td>5</td>\n",
       "      <td>2</td>\n",
       "      <td>...</td>\n",
       "      <td>1</td>\n",
       "      <td>36691</td>\n",
       "      <td>5783</td>\n",
       "      <td>2425</td>\n",
       "      <td>5</td>\n",
       "      <td>1</td>\n",
       "      <td>933</td>\n",
       "      <td>9</td>\n",
       "      <td>2</td>\n",
       "      <td>2</td>\n",
       "    </tr>\n",
       "    <tr>\n",
       "      <th>3</th>\n",
       "      <td>CBL</td>\n",
       "      <td>recent evid demonstr acquir uniparent disomi a...</td>\n",
       "      <td>N454D</td>\n",
       "      <td>CBL N454D</td>\n",
       "      <td>1</td>\n",
       "      <td>1</td>\n",
       "      <td>2</td>\n",
       "      <td>3</td>\n",
       "      <td>5</td>\n",
       "      <td>2</td>\n",
       "      <td>...</td>\n",
       "      <td>1</td>\n",
       "      <td>36238</td>\n",
       "      <td>5625</td>\n",
       "      <td>2132</td>\n",
       "      <td>5</td>\n",
       "      <td>1</td>\n",
       "      <td>929</td>\n",
       "      <td>9</td>\n",
       "      <td>2</td>\n",
       "      <td>3</td>\n",
       "    </tr>\n",
       "    <tr>\n",
       "      <th>4</th>\n",
       "      <td>CBL</td>\n",
       "      <td>oncogen mutat monomer casita b - lineag lympho...</td>\n",
       "      <td>L399V</td>\n",
       "      <td>CBL L399V</td>\n",
       "      <td>1</td>\n",
       "      <td>1</td>\n",
       "      <td>2</td>\n",
       "      <td>3</td>\n",
       "      <td>5</td>\n",
       "      <td>2</td>\n",
       "      <td>...</td>\n",
       "      <td>1</td>\n",
       "      <td>41308</td>\n",
       "      <td>6248</td>\n",
       "      <td>1854</td>\n",
       "      <td>5</td>\n",
       "      <td>1</td>\n",
       "      <td>927</td>\n",
       "      <td>9</td>\n",
       "      <td>2</td>\n",
       "      <td>4</td>\n",
       "    </tr>\n",
       "  </tbody>\n",
       "</table>\n",
       "<p>5 rows × 3590 columns</p>\n",
       "</div>"
      ],
      "text/plain": [
       "     Gene                                               Text  \\\n",
       "0  FAM58A  cyclin - depend kinas cdks regul varieti funda...   \n",
       "1     CBL  abstract background non - small cell lung canc...   \n",
       "2     CBL  abstract background non - small cell lung canc...   \n",
       "3     CBL  recent evid demonstr acquir uniparent disomi a...   \n",
       "4     CBL  oncogen mutat monomer casita b - lineag lympho...   \n",
       "\n",
       "              Variation                      GeneVar  Gene_Share  \\\n",
       "0  Truncating Mutations  FAM58A Truncating Mutations           1   \n",
       "1                 W802*                    CBL W802*           1   \n",
       "2                 Q249E                    CBL Q249E           1   \n",
       "3                 N454D                    CBL N454D           1   \n",
       "4                 L399V                    CBL L399V           1   \n",
       "\n",
       "   Variation_Share  Gene_Variation_Share  GL  VL  Gene_0 ...  Gene_words  \\\n",
       "0                1                     2   6  20       5 ...           1   \n",
       "1                1                     2   3   5       2 ...           1   \n",
       "2                1                     2   3   5       2 ...           1   \n",
       "3                1                     2   3   5       2 ...           1   \n",
       "4                1                     2   3   5       2 ...           1   \n",
       "\n",
       "   Text_len  Text_words  Variation_lbl_enc  Variation_len  Variation_words  \\\n",
       "0     39672        6105               3460             20                2   \n",
       "1     36691        5783               3748              5                1   \n",
       "2     36691        5783               2425              5                1   \n",
       "3     36238        5625               2132              5                1   \n",
       "4     41308        6248               1854              5                1   \n",
       "\n",
       "   GeneVar_lbl_enc  GeneVar_len  GeneVar_words  ID  \n",
       "0             1654           27              3   0  \n",
       "1              941            9              2   1  \n",
       "2              933            9              2   2  \n",
       "3              929            9              2   3  \n",
       "4              927            9              2   4  \n",
       "\n",
       "[5 rows x 3590 columns]"
      ]
     },
     "execution_count": 28,
     "metadata": {},
     "output_type": "execute_result"
    }
   ],
   "source": [
    "df_train.head()"
   ]
  },
  {
   "cell_type": "code",
   "execution_count": 29,
   "metadata": {},
   "outputs": [
    {
     "data": {
      "text/plain": [
       "(3689, 3590)"
      ]
     },
     "execution_count": 29,
     "metadata": {},
     "output_type": "execute_result"
    }
   ],
   "source": [
    "df_train.shape"
   ]
  },
  {
   "cell_type": "code",
   "execution_count": 30,
   "metadata": {},
   "outputs": [
    {
     "name": "stderr",
     "output_type": "stream",
     "text": [
      "/home/watts/anaconda2/envs/aind-dog/lib/python3.6/site-packages/sklearn/feature_extraction/hashing.py:94: DeprecationWarning: the option non_negative=True has been deprecated in 0.19 and will be removed in version 0.21.\n",
      "  \" in version 0.21.\", DeprecationWarning)\n",
      "/home/watts/anaconda2/envs/aind-dog/lib/python3.6/site-packages/sklearn/feature_extraction/hashing.py:94: DeprecationWarning: the option non_negative=True has been deprecated in 0.19 and will be removed in version 0.21.\n",
      "  \" in version 0.21.\", DeprecationWarning)\n"
     ]
    },
    {
     "name": "stdout",
     "output_type": "stream",
     "text": [
      "(3689, 3945)\n"
     ]
    }
   ],
   "source": [
    "df_train = fp.fit_transform(df_train)\n",
    "print (df_train.shape)\n"
   ]
  },
  {
   "cell_type": "code",
   "execution_count": 31,
   "metadata": {},
   "outputs": [
    {
     "name": "stderr",
     "output_type": "stream",
     "text": [
      "/home/watts/anaconda2/envs/aind-dog/lib/python3.6/site-packages/sklearn/feature_extraction/hashing.py:94: DeprecationWarning: the option non_negative=True has been deprecated in 0.19 and will be removed in version 0.21.\n",
      "  \" in version 0.21.\", DeprecationWarning)\n",
      "/home/watts/anaconda2/envs/aind-dog/lib/python3.6/site-packages/sklearn/feature_extraction/hashing.py:94: DeprecationWarning: the option non_negative=True has been deprecated in 0.19 and will be removed in version 0.21.\n",
      "  \" in version 0.21.\", DeprecationWarning)\n"
     ]
    },
    {
     "name": "stdout",
     "output_type": "stream",
     "text": [
      "(986, 3945)\n"
     ]
    }
   ],
   "source": [
    "df_test = fp.fit_transform(df_test)\n",
    "print (df_test.shape)"
   ]
  },
  {
   "cell_type": "code",
   "execution_count": 55,
   "metadata": {
    "collapsed": true
   },
   "outputs": [],
   "source": [
    "np.save('../cache/train_stage2_fe2', df_train)"
   ]
  },
  {
   "cell_type": "code",
   "execution_count": 56,
   "metadata": {
    "collapsed": true
   },
   "outputs": [],
   "source": [
    "np.save('../cache/test_stage2_fe2', df_test)"
   ]
  },
  {
   "cell_type": "code",
   "execution_count": 61,
   "metadata": {
    "collapsed": true
   },
   "outputs": [],
   "source": []
  },
  {
   "cell_type": "code",
   "execution_count": 32,
   "metadata": {
    "collapsed": true
   },
   "outputs": [],
   "source": [
    "y = y - 1 #fix for zero bound array"
   ]
  },
  {
   "cell_type": "code",
   "execution_count": 33,
   "metadata": {},
   "outputs": [
    {
     "name": "stdout",
     "output_type": "stream",
     "text": [
      "(3689,)\n"
     ]
    }
   ],
   "source": [
    "print(y.shape)"
   ]
  },
  {
   "cell_type": "code",
   "execution_count": 34,
   "metadata": {},
   "outputs": [
    {
     "data": {
      "text/plain": [
       "array([0, 1, 2, 3, 4, 5, 6, 7, 8])"
      ]
     },
     "execution_count": 34,
     "metadata": {},
     "output_type": "execute_result"
    }
   ],
   "source": [
    "np.unique(y)"
   ]
  },
  {
   "cell_type": "code",
   "execution_count": 35,
   "metadata": {
    "collapsed": true
   },
   "outputs": [],
   "source": [
    "# parameters = {\n",
    "#   \"n_estimators\": [5, 50, 200],\n",
    "#   \"max_depth\" : [None, 10,20],\n",
    "#   \"min_samples_split\" : [2, 5, 10],\n",
    "# }\n",
    "\n",
    "param_grid = { \n",
    "    'n_estimators': [50, 200, 700],\n",
    "    'max_features': ['auto', 'sqrt', 'log2']\n",
    "}\n",
    "\n",
    "for cls in [0,1,2,3,4,5,6,7,8]:\n",
    "    y_this_class = [1 if cls==i else 0 for i in y]\n",
    "#     print(y_this_class)\n",
    "    model_RF = RandomForestClassifier(random_state=0)\n",
    "    clf = GridSearchCV(model_RF, param_grid=param_grid, cv=5,n_jobs=4)\n",
    "    clf.fit(df_train, y_this_class )\n",
    "    fname = '../cache/rf_cls_' + str(cls) + '.pkl'\n",
    "    save_classifier(fname, clf)"
   ]
  },
  {
   "cell_type": "code",
   "execution_count": 45,
   "metadata": {
    "collapsed": true
   },
   "outputs": [],
   "source": [
    "n_classes = np.unique(y)"
   ]
  },
  {
   "cell_type": "code",
   "execution_count": 51,
   "metadata": {},
   "outputs": [
    {
     "name": "stdout",
     "output_type": "stream",
     "text": [
      "0.8484684196259149\n",
      "{'max_features': 'auto', 'n_estimators': 200}\n",
      "0.855245323936026\n",
      "{'max_features': 'log2', 'n_estimators': 50}\n",
      "0.9666576307942532\n",
      "{'max_features': 'log2', 'n_estimators': 50}\n",
      "0.8102466793168881\n",
      "{'max_features': 'log2', 'n_estimators': 200}\n",
      "0.8910273786934129\n",
      "{'max_features': 'log2', 'n_estimators': 50}\n",
      "0.9330441854161019\n",
      "{'max_features': 'log2', 'n_estimators': 50}\n",
      "0.75060992138791\n",
      "{'max_features': 'auto', 'n_estimators': 50}\n",
      "0.9943074003795066\n",
      "{'max_features': 'auto', 'n_estimators': 50}\n",
      "0.9894280292762266\n",
      "{'max_features': 'auto', 'n_estimators': 50}\n"
     ]
    }
   ],
   "source": [
    "df = pd.DataFrame()\n",
    "for cls in n_classes:\n",
    "    fname = '../cache/rf_cls_' + str(cls) + '.pkl'\n",
    "    clf = load_classifier(fname)\n",
    "    print(clf.best_score_)\n",
    "    print(clf.best_params_)\n",
    "    test_probs = clf.predict_proba(df_test)[:,1]\n",
    "    df['class' + str(cls+1)] = test_probs"
   ]
  },
  {
   "cell_type": "code",
   "execution_count": 52,
   "metadata": {
    "collapsed": true
   },
   "outputs": [],
   "source": [
    "df['ID'] = pid"
   ]
  },
  {
   "cell_type": "code",
   "execution_count": 53,
   "metadata": {},
   "outputs": [
    {
     "data": {
      "text/html": [
       "<div>\n",
       "<style>\n",
       "    .dataframe thead tr:only-child th {\n",
       "        text-align: right;\n",
       "    }\n",
       "\n",
       "    .dataframe thead th {\n",
       "        text-align: left;\n",
       "    }\n",
       "\n",
       "    .dataframe tbody tr th {\n",
       "        vertical-align: top;\n",
       "    }\n",
       "</style>\n",
       "<table border=\"1\" class=\"dataframe\">\n",
       "  <thead>\n",
       "    <tr style=\"text-align: right;\">\n",
       "      <th></th>\n",
       "      <th>class1</th>\n",
       "      <th>class2</th>\n",
       "      <th>class3</th>\n",
       "      <th>class4</th>\n",
       "      <th>class5</th>\n",
       "      <th>class6</th>\n",
       "      <th>class7</th>\n",
       "      <th>class8</th>\n",
       "      <th>class9</th>\n",
       "      <th>ID</th>\n",
       "    </tr>\n",
       "  </thead>\n",
       "  <tbody>\n",
       "    <tr>\n",
       "      <th>0</th>\n",
       "      <td>0.210</td>\n",
       "      <td>0.20</td>\n",
       "      <td>0.04</td>\n",
       "      <td>0.250</td>\n",
       "      <td>0.06</td>\n",
       "      <td>0.08</td>\n",
       "      <td>0.20</td>\n",
       "      <td>0.02</td>\n",
       "      <td>0.00</td>\n",
       "      <td>1</td>\n",
       "    </tr>\n",
       "    <tr>\n",
       "      <th>1</th>\n",
       "      <td>0.570</td>\n",
       "      <td>0.30</td>\n",
       "      <td>0.02</td>\n",
       "      <td>0.170</td>\n",
       "      <td>0.02</td>\n",
       "      <td>0.06</td>\n",
       "      <td>0.24</td>\n",
       "      <td>0.04</td>\n",
       "      <td>0.04</td>\n",
       "      <td>2</td>\n",
       "    </tr>\n",
       "    <tr>\n",
       "      <th>2</th>\n",
       "      <td>0.225</td>\n",
       "      <td>0.20</td>\n",
       "      <td>0.04</td>\n",
       "      <td>0.250</td>\n",
       "      <td>0.00</td>\n",
       "      <td>0.10</td>\n",
       "      <td>0.32</td>\n",
       "      <td>0.00</td>\n",
       "      <td>0.02</td>\n",
       "      <td>3</td>\n",
       "    </tr>\n",
       "    <tr>\n",
       "      <th>3</th>\n",
       "      <td>0.220</td>\n",
       "      <td>0.22</td>\n",
       "      <td>0.00</td>\n",
       "      <td>0.245</td>\n",
       "      <td>0.14</td>\n",
       "      <td>0.12</td>\n",
       "      <td>0.24</td>\n",
       "      <td>0.06</td>\n",
       "      <td>0.00</td>\n",
       "      <td>4</td>\n",
       "    </tr>\n",
       "    <tr>\n",
       "      <th>4</th>\n",
       "      <td>0.175</td>\n",
       "      <td>0.12</td>\n",
       "      <td>0.02</td>\n",
       "      <td>0.160</td>\n",
       "      <td>0.08</td>\n",
       "      <td>0.04</td>\n",
       "      <td>0.28</td>\n",
       "      <td>0.02</td>\n",
       "      <td>0.00</td>\n",
       "      <td>5</td>\n",
       "    </tr>\n",
       "  </tbody>\n",
       "</table>\n",
       "</div>"
      ],
      "text/plain": [
       "   class1  class2  class3  class4  class5  class6  class7  class8  class9  ID\n",
       "0   0.210    0.20    0.04   0.250    0.06    0.08    0.20    0.02    0.00   1\n",
       "1   0.570    0.30    0.02   0.170    0.02    0.06    0.24    0.04    0.04   2\n",
       "2   0.225    0.20    0.04   0.250    0.00    0.10    0.32    0.00    0.02   3\n",
       "3   0.220    0.22    0.00   0.245    0.14    0.12    0.24    0.06    0.00   4\n",
       "4   0.175    0.12    0.02   0.160    0.08    0.04    0.28    0.02    0.00   5"
      ]
     },
     "execution_count": 53,
     "metadata": {},
     "output_type": "execute_result"
    }
   ],
   "source": [
    "df.head()"
   ]
  },
  {
   "cell_type": "code",
   "execution_count": 54,
   "metadata": {
    "collapsed": true
   },
   "outputs": [],
   "source": [
    "df.to_csv('../submissions/submission_staeg2_rf.csv', index=False)\n"
   ]
  },
  {
   "cell_type": "code",
   "execution_count": null,
   "metadata": {
    "collapsed": true
   },
   "outputs": [],
   "source": [
    "# scored 2.18400 on stage2 public leaderboard, and 8.10579 on private leaderboard\n"
   ]
  },
  {
   "cell_type": "code",
   "execution_count": 57,
   "metadata": {
    "collapsed": true
   },
   "outputs": [],
   "source": [
    "df1 = pd.DataFrame()\n",
    "df1['ID'] = pid\n",
    "df1.to_csv('../cache/test_id.csv', index=False)"
   ]
  },
  {
   "cell_type": "code",
   "execution_count": 62,
   "metadata": {
    "collapsed": true
   },
   "outputs": [],
   "source": [
    "df = pd.DataFrame()\n",
    "df['y'] = y\n",
    "df.to_csv('../cache/train_stage2_labels.csv', index=False)"
   ]
  },
  {
   "cell_type": "code",
   "execution_count": null,
   "metadata": {
    "collapsed": true
   },
   "outputs": [],
   "source": []
  },
  {
   "cell_type": "code",
   "execution_count": 66,
   "metadata": {
    "collapsed": true
   },
   "outputs": [],
   "source": [
    "X = df_train\n",
    "Y = y\n",
    "Z = df_test\n"
   ]
  },
  {
   "cell_type": "code",
   "execution_count": 68,
   "metadata": {
    "collapsed": true
   },
   "outputs": [],
   "source": [
    "Y1 = Y.T"
   ]
  },
  {
   "cell_type": "code",
   "execution_count": 75,
   "metadata": {
    "collapsed": true
   },
   "outputs": [],
   "source": [
    "y2 = shuffle(Y, random_state=1)\n",
    "y3 = shuffle(Y, random_state=2)\n",
    "y4 = shuffle(Y, random_state=3)\n",
    "y5 = shuffle(Y, random_state=4)\n",
    "y6 = shuffle(Y, random_state=5)\n",
    "y7 = shuffle(Y, random_state=6)\n",
    "y8 = shuffle(Y, random_state=7)\n",
    "y9 = shuffle(Y, random_state=8)\n",
    "\n",
    "Y1 = np.vstack((Y, y2, y3, y4, y5, y6, y7, y8, y9)).T"
   ]
  },
  {
   "cell_type": "code",
   "execution_count": 76,
   "metadata": {
    "collapsed": true
   },
   "outputs": [],
   "source": [
    "forest = RandomForestClassifier(n_estimators=1000, random_state=1)\n",
    "multi_target_forest = MultiOutputClassifier(forest, n_jobs=-1)"
   ]
  },
  {
   "cell_type": "code",
   "execution_count": 77,
   "metadata": {
    "collapsed": true
   },
   "outputs": [],
   "source": [
    "\n",
    "preds = multi_target_forest.fit(X, Y1).predict(Z)"
   ]
  },
  {
   "cell_type": "code",
   "execution_count": 78,
   "metadata": {},
   "outputs": [
    {
     "data": {
      "text/plain": [
       "(986, 9)"
      ]
     },
     "execution_count": 78,
     "metadata": {},
     "output_type": "execute_result"
    }
   ],
   "source": [
    "preds.shape"
   ]
  },
  {
   "cell_type": "code",
   "execution_count": 79,
   "metadata": {},
   "outputs": [
    {
     "name": "stdout",
     "output_type": "stream",
     "text": [
      "[[3 6 6 ..., 6 6 6]\n",
      " [0 6 6 ..., 6 6 6]\n",
      " [6 6 6 ..., 6 6 6]\n",
      " ..., \n",
      " [6 6 6 ..., 6 6 6]\n",
      " [3 6 6 ..., 6 6 6]\n",
      " [6 6 6 ..., 6 6 6]]\n"
     ]
    }
   ],
   "source": [
    "print(preds)"
   ]
  },
  {
   "cell_type": "code",
   "execution_count": 98,
   "metadata": {
    "collapsed": true
   },
   "outputs": [],
   "source": [
    "preds_proba = multi_target_forest.fit(X, Y1).predict_proba(Z)"
   ]
  },
  {
   "cell_type": "code",
   "execution_count": 100,
   "metadata": {},
   "outputs": [
    {
     "data": {
      "text/plain": [
       "(986, 9)"
      ]
     },
     "execution_count": 100,
     "metadata": {},
     "output_type": "execute_result"
    }
   ],
   "source": [
    "preds_proba[0].shape"
   ]
  },
  {
   "cell_type": "code",
   "execution_count": 108,
   "metadata": {},
   "outputs": [
    {
     "data": {
      "text/plain": [
       "array([[ 0.206,  0.144,  0.033, ...,  0.192,  0.014,  0.019],\n",
       "       [ 0.547,  0.113,  0.006, ...,  0.14 ,  0.006,  0.006],\n",
       "       [ 0.161,  0.191,  0.022, ...,  0.241,  0.013,  0.017],\n",
       "       ..., \n",
       "       [ 0.14 ,  0.213,  0.023, ...,  0.3  ,  0.007,  0.013],\n",
       "       [ 0.177,  0.174,  0.023, ...,  0.223,  0.012,  0.014],\n",
       "       [ 0.191,  0.174,  0.021, ...,  0.231,  0.014,  0.01 ]])"
      ]
     },
     "execution_count": 108,
     "metadata": {},
     "output_type": "execute_result"
    }
   ],
   "source": [
    "preds_proba[0]"
   ]
  },
  {
   "cell_type": "code",
   "execution_count": null,
   "metadata": {
    "collapsed": true
   },
   "outputs": [],
   "source": [
    "preds_proba[0]"
   ]
  },
  {
   "cell_type": "code",
   "execution_count": 116,
   "metadata": {
    "collapsed": true
   },
   "outputs": [],
   "source": [
    "df = pd.DataFrame(preds_proba[0], \n",
    "                  columns=['class1', 'class2', 'class3', 'class4', 'class5', 'class6', 'class7', 'class8', 'class9'])\n"
   ]
  },
  {
   "cell_type": "code",
   "execution_count": 117,
   "metadata": {
    "collapsed": true
   },
   "outputs": [],
   "source": [
    "df['ID'] = pid\n",
    "df.to_csv('../submissions/sub_stage2_multi_rf.csv', index=False)"
   ]
  },
  {
   "cell_type": "code",
   "execution_count": null,
   "metadata": {
    "collapsed": true
   },
   "outputs": [],
   "source": [
    "# scored 2.64206 on stage2 private LB, 1.54953 on stage2 public LB"
   ]
  },
  {
   "cell_type": "code",
   "execution_count": 114,
   "metadata": {
    "collapsed": true
   },
   "outputs": [],
   "source": [
    "save_classifier('../cache/stage2_multi_rf.pkl', multi_target_forest)"
   ]
  },
  {
   "cell_type": "code",
   "execution_count": 118,
   "metadata": {},
   "outputs": [
    {
     "data": {
      "text/html": [
       "<div>\n",
       "<style>\n",
       "    .dataframe thead tr:only-child th {\n",
       "        text-align: right;\n",
       "    }\n",
       "\n",
       "    .dataframe thead th {\n",
       "        text-align: left;\n",
       "    }\n",
       "\n",
       "    .dataframe tbody tr th {\n",
       "        vertical-align: top;\n",
       "    }\n",
       "</style>\n",
       "<table border=\"1\" class=\"dataframe\">\n",
       "  <thead>\n",
       "    <tr style=\"text-align: right;\">\n",
       "      <th></th>\n",
       "      <th>class1</th>\n",
       "      <th>class2</th>\n",
       "      <th>class3</th>\n",
       "      <th>class4</th>\n",
       "      <th>class5</th>\n",
       "      <th>class6</th>\n",
       "      <th>class7</th>\n",
       "      <th>class8</th>\n",
       "      <th>class9</th>\n",
       "      <th>ID</th>\n",
       "    </tr>\n",
       "  </thead>\n",
       "  <tbody>\n",
       "    <tr>\n",
       "      <th>0</th>\n",
       "      <td>0.206</td>\n",
       "      <td>0.144</td>\n",
       "      <td>0.033</td>\n",
       "      <td>0.241</td>\n",
       "      <td>0.069</td>\n",
       "      <td>0.082</td>\n",
       "      <td>0.192</td>\n",
       "      <td>0.014</td>\n",
       "      <td>0.019</td>\n",
       "      <td>1</td>\n",
       "    </tr>\n",
       "    <tr>\n",
       "      <th>1</th>\n",
       "      <td>0.547</td>\n",
       "      <td>0.113</td>\n",
       "      <td>0.006</td>\n",
       "      <td>0.114</td>\n",
       "      <td>0.015</td>\n",
       "      <td>0.053</td>\n",
       "      <td>0.140</td>\n",
       "      <td>0.006</td>\n",
       "      <td>0.006</td>\n",
       "      <td>2</td>\n",
       "    </tr>\n",
       "    <tr>\n",
       "      <th>2</th>\n",
       "      <td>0.161</td>\n",
       "      <td>0.191</td>\n",
       "      <td>0.022</td>\n",
       "      <td>0.233</td>\n",
       "      <td>0.054</td>\n",
       "      <td>0.068</td>\n",
       "      <td>0.241</td>\n",
       "      <td>0.013</td>\n",
       "      <td>0.017</td>\n",
       "      <td>3</td>\n",
       "    </tr>\n",
       "    <tr>\n",
       "      <th>3</th>\n",
       "      <td>0.202</td>\n",
       "      <td>0.129</td>\n",
       "      <td>0.021</td>\n",
       "      <td>0.272</td>\n",
       "      <td>0.053</td>\n",
       "      <td>0.059</td>\n",
       "      <td>0.229</td>\n",
       "      <td>0.010</td>\n",
       "      <td>0.025</td>\n",
       "      <td>4</td>\n",
       "    </tr>\n",
       "    <tr>\n",
       "      <th>4</th>\n",
       "      <td>0.173</td>\n",
       "      <td>0.245</td>\n",
       "      <td>0.016</td>\n",
       "      <td>0.130</td>\n",
       "      <td>0.051</td>\n",
       "      <td>0.067</td>\n",
       "      <td>0.301</td>\n",
       "      <td>0.009</td>\n",
       "      <td>0.008</td>\n",
       "      <td>5</td>\n",
       "    </tr>\n",
       "  </tbody>\n",
       "</table>\n",
       "</div>"
      ],
      "text/plain": [
       "   class1  class2  class3  class4  class5  class6  class7  class8  class9  ID\n",
       "0   0.206   0.144   0.033   0.241   0.069   0.082   0.192   0.014   0.019   1\n",
       "1   0.547   0.113   0.006   0.114   0.015   0.053   0.140   0.006   0.006   2\n",
       "2   0.161   0.191   0.022   0.233   0.054   0.068   0.241   0.013   0.017   3\n",
       "3   0.202   0.129   0.021   0.272   0.053   0.059   0.229   0.010   0.025   4\n",
       "4   0.173   0.245   0.016   0.130   0.051   0.067   0.301   0.009   0.008   5"
      ]
     },
     "execution_count": 118,
     "metadata": {},
     "output_type": "execute_result"
    }
   ],
   "source": [
    "df.head()"
   ]
  },
  {
   "cell_type": "code",
   "execution_count": 119,
   "metadata": {},
   "outputs": [
    {
     "data": {
      "text/plain": [
       "(986, 10)"
      ]
     },
     "execution_count": 119,
     "metadata": {},
     "output_type": "execute_result"
    }
   ],
   "source": [
    "df.shape"
   ]
  },
  {
   "cell_type": "code",
   "execution_count": null,
   "metadata": {
    "collapsed": true
   },
   "outputs": [],
   "source": [
    "\n"
   ]
  }
 ],
 "metadata": {
  "kernelspec": {
   "display_name": "Python 3",
   "language": "python",
   "name": "python3"
  },
  "language_info": {
   "codemirror_mode": {
    "name": "ipython",
    "version": 3
   },
   "file_extension": ".py",
   "mimetype": "text/x-python",
   "name": "python",
   "nbconvert_exporter": "python",
   "pygments_lexer": "ipython3",
   "version": "3.6.1"
  }
 },
 "nbformat": 4,
 "nbformat_minor": 2
}
