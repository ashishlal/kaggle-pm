{
 "cells": [
  {
   "cell_type": "code",
   "execution_count": 76,
   "metadata": {
    "collapsed": true
   },
   "outputs": [],
   "source": [
    "import pandas as pd\n",
    "import numpy as np\n",
    "import feather\n",
    "from imblearn.over_sampling import SMOTE\n",
    "from sklearn import preprocessing as pe\n",
    "from tqdm import tqdm\n",
    "import pickle"
   ]
  },
  {
   "cell_type": "code",
   "execution_count": 3,
   "metadata": {
    "collapsed": true
   },
   "outputs": [],
   "source": [
    "train_stage1 = pd.read_csv('../data/training_variants')\n",
    "test_stage1 = pd.read_csv('../data/test_variants')\n",
    "trainx_stage1 = pd.read_csv('../data/training_text', sep=\"\\|\\|\", engine='python', header=None, skiprows=1, names=[\"ID\",\"Text\"])\n",
    "testx_stage1 = pd.read_csv('../data/test_text', sep=\"\\|\\|\", engine='python', header=None, skiprows=1, names=[\"ID\",\"Text\"])"
   ]
  },
  {
   "cell_type": "code",
   "execution_count": 4,
   "metadata": {
    "collapsed": true
   },
   "outputs": [],
   "source": [
    "test_stage1_soln = pd.read_csv('../data/stage1_solution_filtered.csv')"
   ]
  },
  {
   "cell_type": "code",
   "execution_count": 5,
   "metadata": {},
   "outputs": [
    {
     "data": {
      "text/html": [
       "<div>\n",
       "<style>\n",
       "    .dataframe thead tr:only-child th {\n",
       "        text-align: right;\n",
       "    }\n",
       "\n",
       "    .dataframe thead th {\n",
       "        text-align: left;\n",
       "    }\n",
       "\n",
       "    .dataframe tbody tr th {\n",
       "        vertical-align: top;\n",
       "    }\n",
       "</style>\n",
       "<table border=\"1\" class=\"dataframe\">\n",
       "  <thead>\n",
       "    <tr style=\"text-align: right;\">\n",
       "      <th></th>\n",
       "      <th>ID</th>\n",
       "      <th>class1</th>\n",
       "      <th>class2</th>\n",
       "      <th>class3</th>\n",
       "      <th>class4</th>\n",
       "      <th>class5</th>\n",
       "      <th>class6</th>\n",
       "      <th>class7</th>\n",
       "      <th>class8</th>\n",
       "      <th>class9</th>\n",
       "    </tr>\n",
       "  </thead>\n",
       "  <tbody>\n",
       "    <tr>\n",
       "      <th>0</th>\n",
       "      <td>12</td>\n",
       "      <td>1</td>\n",
       "      <td>0</td>\n",
       "      <td>0</td>\n",
       "      <td>0</td>\n",
       "      <td>0</td>\n",
       "      <td>0</td>\n",
       "      <td>0</td>\n",
       "      <td>0</td>\n",
       "      <td>0</td>\n",
       "    </tr>\n",
       "    <tr>\n",
       "      <th>1</th>\n",
       "      <td>19</td>\n",
       "      <td>0</td>\n",
       "      <td>1</td>\n",
       "      <td>0</td>\n",
       "      <td>0</td>\n",
       "      <td>0</td>\n",
       "      <td>0</td>\n",
       "      <td>0</td>\n",
       "      <td>0</td>\n",
       "      <td>0</td>\n",
       "    </tr>\n",
       "    <tr>\n",
       "      <th>2</th>\n",
       "      <td>21</td>\n",
       "      <td>0</td>\n",
       "      <td>1</td>\n",
       "      <td>0</td>\n",
       "      <td>0</td>\n",
       "      <td>0</td>\n",
       "      <td>0</td>\n",
       "      <td>0</td>\n",
       "      <td>0</td>\n",
       "      <td>0</td>\n",
       "    </tr>\n",
       "    <tr>\n",
       "      <th>3</th>\n",
       "      <td>55</td>\n",
       "      <td>0</td>\n",
       "      <td>0</td>\n",
       "      <td>0</td>\n",
       "      <td>1</td>\n",
       "      <td>0</td>\n",
       "      <td>0</td>\n",
       "      <td>0</td>\n",
       "      <td>0</td>\n",
       "      <td>0</td>\n",
       "    </tr>\n",
       "    <tr>\n",
       "      <th>4</th>\n",
       "      <td>64</td>\n",
       "      <td>0</td>\n",
       "      <td>0</td>\n",
       "      <td>0</td>\n",
       "      <td>1</td>\n",
       "      <td>0</td>\n",
       "      <td>0</td>\n",
       "      <td>0</td>\n",
       "      <td>0</td>\n",
       "      <td>0</td>\n",
       "    </tr>\n",
       "  </tbody>\n",
       "</table>\n",
       "</div>"
      ],
      "text/plain": [
       "   ID  class1  class2  class3  class4  class5  class6  class7  class8  class9\n",
       "0  12       1       0       0       0       0       0       0       0       0\n",
       "1  19       0       1       0       0       0       0       0       0       0\n",
       "2  21       0       1       0       0       0       0       0       0       0\n",
       "3  55       0       0       0       1       0       0       0       0       0\n",
       "4  64       0       0       0       1       0       0       0       0       0"
      ]
     },
     "execution_count": 5,
     "metadata": {},
     "output_type": "execute_result"
    }
   ],
   "source": [
    "test_stage1_soln.head()"
   ]
  },
  {
   "cell_type": "code",
   "execution_count": 6,
   "metadata": {
    "collapsed": true
   },
   "outputs": [],
   "source": [
    "stage1_soln_ids = test_stage1_soln['ID']"
   ]
  },
  {
   "cell_type": "code",
   "execution_count": 7,
   "metadata": {
    "collapsed": true
   },
   "outputs": [],
   "source": [
    "test_stage1_soln = test_stage1_soln.drop('ID',axis=1)"
   ]
  },
  {
   "cell_type": "code",
   "execution_count": 8,
   "metadata": {},
   "outputs": [
    {
     "data": {
      "text/plain": [
       "(368, 9)"
      ]
     },
     "execution_count": 8,
     "metadata": {},
     "output_type": "execute_result"
    }
   ],
   "source": [
    "test_stage1_soln.shape"
   ]
  },
  {
   "cell_type": "code",
   "execution_count": 9,
   "metadata": {
    "collapsed": true
   },
   "outputs": [],
   "source": [
    "test_stage1_soln['class'] = test_stage1_soln.idxmax(axis=1)"
   ]
  },
  {
   "cell_type": "code",
   "execution_count": 10,
   "metadata": {
    "collapsed": true
   },
   "outputs": [],
   "source": [
    "test_stage1_soln['class'] = test_stage1_soln['class'].map(lambda x: int(x[-1]))"
   ]
  },
  {
   "cell_type": "code",
   "execution_count": 11,
   "metadata": {
    "collapsed": true
   },
   "outputs": [],
   "source": [
    "test_stage1_soln['ID'] = stage1_soln_ids"
   ]
  },
  {
   "cell_type": "code",
   "execution_count": 12,
   "metadata": {
    "collapsed": true
   },
   "outputs": [],
   "source": [
    "# test_s1_sol['class'] = test_s1_sol.idxmax(axis=1)\n",
    "# test_s1_sol['class'] = test_s1_sol['class'].str[-1].astype(int)\n",
    "# test_s1_sol['class'] = test_s1_sol['class']"
   ]
  },
  {
   "cell_type": "code",
   "execution_count": 13,
   "metadata": {},
   "outputs": [
    {
     "data": {
      "text/html": [
       "<div>\n",
       "<style>\n",
       "    .dataframe thead tr:only-child th {\n",
       "        text-align: right;\n",
       "    }\n",
       "\n",
       "    .dataframe thead th {\n",
       "        text-align: left;\n",
       "    }\n",
       "\n",
       "    .dataframe tbody tr th {\n",
       "        vertical-align: top;\n",
       "    }\n",
       "</style>\n",
       "<table border=\"1\" class=\"dataframe\">\n",
       "  <thead>\n",
       "    <tr style=\"text-align: right;\">\n",
       "      <th></th>\n",
       "      <th>class1</th>\n",
       "      <th>class2</th>\n",
       "      <th>class3</th>\n",
       "      <th>class4</th>\n",
       "      <th>class5</th>\n",
       "      <th>class6</th>\n",
       "      <th>class7</th>\n",
       "      <th>class8</th>\n",
       "      <th>class9</th>\n",
       "      <th>class</th>\n",
       "      <th>ID</th>\n",
       "    </tr>\n",
       "  </thead>\n",
       "  <tbody>\n",
       "    <tr>\n",
       "      <th>363</th>\n",
       "      <td>0</td>\n",
       "      <td>0</td>\n",
       "      <td>0</td>\n",
       "      <td>1</td>\n",
       "      <td>0</td>\n",
       "      <td>0</td>\n",
       "      <td>0</td>\n",
       "      <td>0</td>\n",
       "      <td>0</td>\n",
       "      <td>4</td>\n",
       "      <td>5600</td>\n",
       "    </tr>\n",
       "    <tr>\n",
       "      <th>364</th>\n",
       "      <td>0</td>\n",
       "      <td>0</td>\n",
       "      <td>0</td>\n",
       "      <td>1</td>\n",
       "      <td>0</td>\n",
       "      <td>0</td>\n",
       "      <td>0</td>\n",
       "      <td>0</td>\n",
       "      <td>0</td>\n",
       "      <td>4</td>\n",
       "      <td>5609</td>\n",
       "    </tr>\n",
       "    <tr>\n",
       "      <th>365</th>\n",
       "      <td>0</td>\n",
       "      <td>0</td>\n",
       "      <td>0</td>\n",
       "      <td>0</td>\n",
       "      <td>0</td>\n",
       "      <td>1</td>\n",
       "      <td>0</td>\n",
       "      <td>0</td>\n",
       "      <td>0</td>\n",
       "      <td>6</td>\n",
       "      <td>5626</td>\n",
       "    </tr>\n",
       "    <tr>\n",
       "      <th>366</th>\n",
       "      <td>0</td>\n",
       "      <td>0</td>\n",
       "      <td>0</td>\n",
       "      <td>1</td>\n",
       "      <td>0</td>\n",
       "      <td>0</td>\n",
       "      <td>0</td>\n",
       "      <td>0</td>\n",
       "      <td>0</td>\n",
       "      <td>4</td>\n",
       "      <td>5628</td>\n",
       "    </tr>\n",
       "    <tr>\n",
       "      <th>367</th>\n",
       "      <td>1</td>\n",
       "      <td>0</td>\n",
       "      <td>0</td>\n",
       "      <td>0</td>\n",
       "      <td>0</td>\n",
       "      <td>0</td>\n",
       "      <td>0</td>\n",
       "      <td>0</td>\n",
       "      <td>0</td>\n",
       "      <td>1</td>\n",
       "      <td>5650</td>\n",
       "    </tr>\n",
       "  </tbody>\n",
       "</table>\n",
       "</div>"
      ],
      "text/plain": [
       "     class1  class2  class3  class4  class5  class6  class7  class8  class9  \\\n",
       "363       0       0       0       1       0       0       0       0       0   \n",
       "364       0       0       0       1       0       0       0       0       0   \n",
       "365       0       0       0       0       0       1       0       0       0   \n",
       "366       0       0       0       1       0       0       0       0       0   \n",
       "367       1       0       0       0       0       0       0       0       0   \n",
       "\n",
       "     class    ID  \n",
       "363      4  5600  \n",
       "364      4  5609  \n",
       "365      6  5626  \n",
       "366      4  5628  \n",
       "367      1  5650  "
      ]
     },
     "execution_count": 13,
     "metadata": {},
     "output_type": "execute_result"
    }
   ],
   "source": [
    "test_stage1_soln.tail()"
   ]
  },
  {
   "cell_type": "code",
   "execution_count": 14,
   "metadata": {},
   "outputs": [
    {
     "data": {
      "text/html": [
       "<div>\n",
       "<style>\n",
       "    .dataframe thead tr:only-child th {\n",
       "        text-align: right;\n",
       "    }\n",
       "\n",
       "    .dataframe thead th {\n",
       "        text-align: left;\n",
       "    }\n",
       "\n",
       "    .dataframe tbody tr th {\n",
       "        vertical-align: top;\n",
       "    }\n",
       "</style>\n",
       "<table border=\"1\" class=\"dataframe\">\n",
       "  <thead>\n",
       "    <tr style=\"text-align: right;\">\n",
       "      <th></th>\n",
       "      <th>class1</th>\n",
       "      <th>class2</th>\n",
       "      <th>class3</th>\n",
       "      <th>class4</th>\n",
       "      <th>class5</th>\n",
       "      <th>class6</th>\n",
       "      <th>class7</th>\n",
       "      <th>class8</th>\n",
       "      <th>class9</th>\n",
       "      <th>class</th>\n",
       "      <th>ID</th>\n",
       "    </tr>\n",
       "  </thead>\n",
       "  <tbody>\n",
       "    <tr>\n",
       "      <th>0</th>\n",
       "      <td>1</td>\n",
       "      <td>0</td>\n",
       "      <td>0</td>\n",
       "      <td>0</td>\n",
       "      <td>0</td>\n",
       "      <td>0</td>\n",
       "      <td>0</td>\n",
       "      <td>0</td>\n",
       "      <td>0</td>\n",
       "      <td>1</td>\n",
       "      <td>12</td>\n",
       "    </tr>\n",
       "    <tr>\n",
       "      <th>1</th>\n",
       "      <td>0</td>\n",
       "      <td>1</td>\n",
       "      <td>0</td>\n",
       "      <td>0</td>\n",
       "      <td>0</td>\n",
       "      <td>0</td>\n",
       "      <td>0</td>\n",
       "      <td>0</td>\n",
       "      <td>0</td>\n",
       "      <td>2</td>\n",
       "      <td>19</td>\n",
       "    </tr>\n",
       "    <tr>\n",
       "      <th>2</th>\n",
       "      <td>0</td>\n",
       "      <td>1</td>\n",
       "      <td>0</td>\n",
       "      <td>0</td>\n",
       "      <td>0</td>\n",
       "      <td>0</td>\n",
       "      <td>0</td>\n",
       "      <td>0</td>\n",
       "      <td>0</td>\n",
       "      <td>2</td>\n",
       "      <td>21</td>\n",
       "    </tr>\n",
       "    <tr>\n",
       "      <th>3</th>\n",
       "      <td>0</td>\n",
       "      <td>0</td>\n",
       "      <td>0</td>\n",
       "      <td>1</td>\n",
       "      <td>0</td>\n",
       "      <td>0</td>\n",
       "      <td>0</td>\n",
       "      <td>0</td>\n",
       "      <td>0</td>\n",
       "      <td>4</td>\n",
       "      <td>55</td>\n",
       "    </tr>\n",
       "    <tr>\n",
       "      <th>4</th>\n",
       "      <td>0</td>\n",
       "      <td>0</td>\n",
       "      <td>0</td>\n",
       "      <td>1</td>\n",
       "      <td>0</td>\n",
       "      <td>0</td>\n",
       "      <td>0</td>\n",
       "      <td>0</td>\n",
       "      <td>0</td>\n",
       "      <td>4</td>\n",
       "      <td>64</td>\n",
       "    </tr>\n",
       "  </tbody>\n",
       "</table>\n",
       "</div>"
      ],
      "text/plain": [
       "   class1  class2  class3  class4  class5  class6  class7  class8  class9  \\\n",
       "0       1       0       0       0       0       0       0       0       0   \n",
       "1       0       1       0       0       0       0       0       0       0   \n",
       "2       0       1       0       0       0       0       0       0       0   \n",
       "3       0       0       0       1       0       0       0       0       0   \n",
       "4       0       0       0       1       0       0       0       0       0   \n",
       "\n",
       "   class  ID  \n",
       "0      1  12  \n",
       "1      2  19  \n",
       "2      2  21  \n",
       "3      4  55  \n",
       "4      4  64  "
      ]
     },
     "execution_count": 14,
     "metadata": {},
     "output_type": "execute_result"
    }
   ],
   "source": [
    "test_stage1_soln.head()"
   ]
  },
  {
   "cell_type": "code",
   "execution_count": 15,
   "metadata": {},
   "outputs": [
    {
     "data": {
      "text/html": [
       "<div>\n",
       "<style>\n",
       "    .dataframe thead tr:only-child th {\n",
       "        text-align: right;\n",
       "    }\n",
       "\n",
       "    .dataframe thead th {\n",
       "        text-align: left;\n",
       "    }\n",
       "\n",
       "    .dataframe tbody tr th {\n",
       "        vertical-align: top;\n",
       "    }\n",
       "</style>\n",
       "<table border=\"1\" class=\"dataframe\">\n",
       "  <thead>\n",
       "    <tr style=\"text-align: right;\">\n",
       "      <th></th>\n",
       "      <th>ID</th>\n",
       "      <th>Gene</th>\n",
       "      <th>Variation</th>\n",
       "      <th>Class</th>\n",
       "    </tr>\n",
       "  </thead>\n",
       "  <tbody>\n",
       "    <tr>\n",
       "      <th>0</th>\n",
       "      <td>0</td>\n",
       "      <td>FAM58A</td>\n",
       "      <td>Truncating Mutations</td>\n",
       "      <td>1</td>\n",
       "    </tr>\n",
       "    <tr>\n",
       "      <th>1</th>\n",
       "      <td>1</td>\n",
       "      <td>CBL</td>\n",
       "      <td>W802*</td>\n",
       "      <td>2</td>\n",
       "    </tr>\n",
       "    <tr>\n",
       "      <th>2</th>\n",
       "      <td>2</td>\n",
       "      <td>CBL</td>\n",
       "      <td>Q249E</td>\n",
       "      <td>2</td>\n",
       "    </tr>\n",
       "    <tr>\n",
       "      <th>3</th>\n",
       "      <td>3</td>\n",
       "      <td>CBL</td>\n",
       "      <td>N454D</td>\n",
       "      <td>3</td>\n",
       "    </tr>\n",
       "    <tr>\n",
       "      <th>4</th>\n",
       "      <td>4</td>\n",
       "      <td>CBL</td>\n",
       "      <td>L399V</td>\n",
       "      <td>4</td>\n",
       "    </tr>\n",
       "  </tbody>\n",
       "</table>\n",
       "</div>"
      ],
      "text/plain": [
       "   ID    Gene             Variation  Class\n",
       "0   0  FAM58A  Truncating Mutations      1\n",
       "1   1     CBL                 W802*      2\n",
       "2   2     CBL                 Q249E      2\n",
       "3   3     CBL                 N454D      3\n",
       "4   4     CBL                 L399V      4"
      ]
     },
     "execution_count": 15,
     "metadata": {},
     "output_type": "execute_result"
    }
   ],
   "source": [
    "train_stage1.head()"
   ]
  },
  {
   "cell_type": "code",
   "execution_count": 16,
   "metadata": {
    "collapsed": true
   },
   "outputs": [],
   "source": [
    "train_stage1 = pd.merge(train_stage1, trainx_stage1, how='left', on='ID').fillna('')\n",
    "test_stage1 = pd.merge(test_stage1, testx_stage1, how='left', on='ID').fillna('')\n",
    "#pid = test['ID'].values"
   ]
  },
  {
   "cell_type": "code",
   "execution_count": 17,
   "metadata": {},
   "outputs": [
    {
     "data": {
      "text/html": [
       "<div>\n",
       "<style>\n",
       "    .dataframe thead tr:only-child th {\n",
       "        text-align: right;\n",
       "    }\n",
       "\n",
       "    .dataframe thead th {\n",
       "        text-align: left;\n",
       "    }\n",
       "\n",
       "    .dataframe tbody tr th {\n",
       "        vertical-align: top;\n",
       "    }\n",
       "</style>\n",
       "<table border=\"1\" class=\"dataframe\">\n",
       "  <thead>\n",
       "    <tr style=\"text-align: right;\">\n",
       "      <th></th>\n",
       "      <th>ID</th>\n",
       "      <th>Gene</th>\n",
       "      <th>Variation</th>\n",
       "      <th>Class</th>\n",
       "      <th>Text</th>\n",
       "    </tr>\n",
       "  </thead>\n",
       "  <tbody>\n",
       "    <tr>\n",
       "      <th>0</th>\n",
       "      <td>0</td>\n",
       "      <td>FAM58A</td>\n",
       "      <td>Truncating Mutations</td>\n",
       "      <td>1</td>\n",
       "      <td>Cyclin-dependent kinases (CDKs) regulate a var...</td>\n",
       "    </tr>\n",
       "    <tr>\n",
       "      <th>1</th>\n",
       "      <td>1</td>\n",
       "      <td>CBL</td>\n",
       "      <td>W802*</td>\n",
       "      <td>2</td>\n",
       "      <td>Abstract Background  Non-small cell lung canc...</td>\n",
       "    </tr>\n",
       "    <tr>\n",
       "      <th>2</th>\n",
       "      <td>2</td>\n",
       "      <td>CBL</td>\n",
       "      <td>Q249E</td>\n",
       "      <td>2</td>\n",
       "      <td>Abstract Background  Non-small cell lung canc...</td>\n",
       "    </tr>\n",
       "    <tr>\n",
       "      <th>3</th>\n",
       "      <td>3</td>\n",
       "      <td>CBL</td>\n",
       "      <td>N454D</td>\n",
       "      <td>3</td>\n",
       "      <td>Recent evidence has demonstrated that acquired...</td>\n",
       "    </tr>\n",
       "    <tr>\n",
       "      <th>4</th>\n",
       "      <td>4</td>\n",
       "      <td>CBL</td>\n",
       "      <td>L399V</td>\n",
       "      <td>4</td>\n",
       "      <td>Oncogenic mutations in the monomeric Casitas B...</td>\n",
       "    </tr>\n",
       "  </tbody>\n",
       "</table>\n",
       "</div>"
      ],
      "text/plain": [
       "   ID    Gene             Variation  Class  \\\n",
       "0   0  FAM58A  Truncating Mutations      1   \n",
       "1   1     CBL                 W802*      2   \n",
       "2   2     CBL                 Q249E      2   \n",
       "3   3     CBL                 N454D      3   \n",
       "4   4     CBL                 L399V      4   \n",
       "\n",
       "                                                Text  \n",
       "0  Cyclin-dependent kinases (CDKs) regulate a var...  \n",
       "1   Abstract Background  Non-small cell lung canc...  \n",
       "2   Abstract Background  Non-small cell lung canc...  \n",
       "3  Recent evidence has demonstrated that acquired...  \n",
       "4  Oncogenic mutations in the monomeric Casitas B...  "
      ]
     },
     "execution_count": 17,
     "metadata": {},
     "output_type": "execute_result"
    }
   ],
   "source": [
    "train_stage1.head()"
   ]
  },
  {
   "cell_type": "code",
   "execution_count": 18,
   "metadata": {},
   "outputs": [
    {
     "data": {
      "text/html": [
       "<div>\n",
       "<style>\n",
       "    .dataframe thead tr:only-child th {\n",
       "        text-align: right;\n",
       "    }\n",
       "\n",
       "    .dataframe thead th {\n",
       "        text-align: left;\n",
       "    }\n",
       "\n",
       "    .dataframe tbody tr th {\n",
       "        vertical-align: top;\n",
       "    }\n",
       "</style>\n",
       "<table border=\"1\" class=\"dataframe\">\n",
       "  <thead>\n",
       "    <tr style=\"text-align: right;\">\n",
       "      <th></th>\n",
       "      <th>ID</th>\n",
       "      <th>Gene</th>\n",
       "      <th>Variation</th>\n",
       "      <th>Text</th>\n",
       "    </tr>\n",
       "  </thead>\n",
       "  <tbody>\n",
       "    <tr>\n",
       "      <th>0</th>\n",
       "      <td>0</td>\n",
       "      <td>ACSL4</td>\n",
       "      <td>R570S</td>\n",
       "      <td>2. This mutation resulted in a myeloproliferat...</td>\n",
       "    </tr>\n",
       "    <tr>\n",
       "      <th>1</th>\n",
       "      <td>1</td>\n",
       "      <td>NAGLU</td>\n",
       "      <td>P521L</td>\n",
       "      <td>Abstract The Large Tumor Suppressor 1 (LATS1)...</td>\n",
       "    </tr>\n",
       "    <tr>\n",
       "      <th>2</th>\n",
       "      <td>2</td>\n",
       "      <td>PAH</td>\n",
       "      <td>L333F</td>\n",
       "      <td>Vascular endothelial growth factor receptor (V...</td>\n",
       "    </tr>\n",
       "    <tr>\n",
       "      <th>3</th>\n",
       "      <td>3</td>\n",
       "      <td>ING1</td>\n",
       "      <td>A148D</td>\n",
       "      <td>Inflammatory myofibroblastic tumor (IMT) is a ...</td>\n",
       "    </tr>\n",
       "    <tr>\n",
       "      <th>4</th>\n",
       "      <td>4</td>\n",
       "      <td>TMEM216</td>\n",
       "      <td>G77A</td>\n",
       "      <td>Abstract Retinoblastoma is a pediatric retina...</td>\n",
       "    </tr>\n",
       "  </tbody>\n",
       "</table>\n",
       "</div>"
      ],
      "text/plain": [
       "   ID     Gene Variation                                               Text\n",
       "0   0    ACSL4     R570S  2. This mutation resulted in a myeloproliferat...\n",
       "1   1    NAGLU     P521L   Abstract The Large Tumor Suppressor 1 (LATS1)...\n",
       "2   2      PAH     L333F  Vascular endothelial growth factor receptor (V...\n",
       "3   3     ING1     A148D  Inflammatory myofibroblastic tumor (IMT) is a ...\n",
       "4   4  TMEM216      G77A   Abstract Retinoblastoma is a pediatric retina..."
      ]
     },
     "execution_count": 18,
     "metadata": {},
     "output_type": "execute_result"
    }
   ],
   "source": [
    "test_stage1.head()"
   ]
  },
  {
   "cell_type": "code",
   "execution_count": 19,
   "metadata": {},
   "outputs": [
    {
     "data": {
      "text/plain": [
       "(3321, 5)"
      ]
     },
     "execution_count": 19,
     "metadata": {},
     "output_type": "execute_result"
    }
   ],
   "source": [
    "train_stage1.shape"
   ]
  },
  {
   "cell_type": "code",
   "execution_count": 20,
   "metadata": {},
   "outputs": [
    {
     "data": {
      "text/plain": [
       "(5668, 4)"
      ]
     },
     "execution_count": 20,
     "metadata": {},
     "output_type": "execute_result"
    }
   ],
   "source": [
    "test_stage1.shape"
   ]
  },
  {
   "cell_type": "code",
   "execution_count": 21,
   "metadata": {},
   "outputs": [
    {
     "data": {
      "text/html": [
       "<div>\n",
       "<style>\n",
       "    .dataframe thead tr:only-child th {\n",
       "        text-align: right;\n",
       "    }\n",
       "\n",
       "    .dataframe thead th {\n",
       "        text-align: left;\n",
       "    }\n",
       "\n",
       "    .dataframe tbody tr th {\n",
       "        vertical-align: top;\n",
       "    }\n",
       "</style>\n",
       "<table border=\"1\" class=\"dataframe\">\n",
       "  <thead>\n",
       "    <tr style=\"text-align: right;\">\n",
       "      <th></th>\n",
       "      <th>ID</th>\n",
       "      <th>Gene</th>\n",
       "      <th>Variation</th>\n",
       "      <th>Class</th>\n",
       "      <th>Text</th>\n",
       "    </tr>\n",
       "  </thead>\n",
       "  <tbody>\n",
       "    <tr>\n",
       "      <th>3316</th>\n",
       "      <td>3316</td>\n",
       "      <td>RUNX1</td>\n",
       "      <td>D171N</td>\n",
       "      <td>4</td>\n",
       "      <td>Introduction  Myelodysplastic syndromes (MDS) ...</td>\n",
       "    </tr>\n",
       "    <tr>\n",
       "      <th>3317</th>\n",
       "      <td>3317</td>\n",
       "      <td>RUNX1</td>\n",
       "      <td>A122*</td>\n",
       "      <td>1</td>\n",
       "      <td>Introduction  Myelodysplastic syndromes (MDS) ...</td>\n",
       "    </tr>\n",
       "    <tr>\n",
       "      <th>3318</th>\n",
       "      <td>3318</td>\n",
       "      <td>RUNX1</td>\n",
       "      <td>Fusions</td>\n",
       "      <td>1</td>\n",
       "      <td>The Runt-related transcription factor 1 gene (...</td>\n",
       "    </tr>\n",
       "    <tr>\n",
       "      <th>3319</th>\n",
       "      <td>3319</td>\n",
       "      <td>RUNX1</td>\n",
       "      <td>R80C</td>\n",
       "      <td>4</td>\n",
       "      <td>The RUNX1/AML1 gene is the most frequent targe...</td>\n",
       "    </tr>\n",
       "    <tr>\n",
       "      <th>3320</th>\n",
       "      <td>3320</td>\n",
       "      <td>RUNX1</td>\n",
       "      <td>K83E</td>\n",
       "      <td>4</td>\n",
       "      <td>The most frequent mutations associated with le...</td>\n",
       "    </tr>\n",
       "  </tbody>\n",
       "</table>\n",
       "</div>"
      ],
      "text/plain": [
       "        ID   Gene Variation  Class  \\\n",
       "3316  3316  RUNX1     D171N      4   \n",
       "3317  3317  RUNX1     A122*      1   \n",
       "3318  3318  RUNX1   Fusions      1   \n",
       "3319  3319  RUNX1      R80C      4   \n",
       "3320  3320  RUNX1      K83E      4   \n",
       "\n",
       "                                                   Text  \n",
       "3316  Introduction  Myelodysplastic syndromes (MDS) ...  \n",
       "3317  Introduction  Myelodysplastic syndromes (MDS) ...  \n",
       "3318  The Runt-related transcription factor 1 gene (...  \n",
       "3319  The RUNX1/AML1 gene is the most frequent targe...  \n",
       "3320  The most frequent mutations associated with le...  "
      ]
     },
     "execution_count": 21,
     "metadata": {},
     "output_type": "execute_result"
    }
   ],
   "source": [
    "train_stage1.tail()"
   ]
  },
  {
   "cell_type": "code",
   "execution_count": 22,
   "metadata": {
    "collapsed": true
   },
   "outputs": [],
   "source": [
    "new_test = test_stage1[test_stage1.ID.isin(stage1_soln_ids)]"
   ]
  },
  {
   "cell_type": "code",
   "execution_count": 23,
   "metadata": {},
   "outputs": [
    {
     "data": {
      "text/html": [
       "<div>\n",
       "<style>\n",
       "    .dataframe thead tr:only-child th {\n",
       "        text-align: right;\n",
       "    }\n",
       "\n",
       "    .dataframe thead th {\n",
       "        text-align: left;\n",
       "    }\n",
       "\n",
       "    .dataframe tbody tr th {\n",
       "        vertical-align: top;\n",
       "    }\n",
       "</style>\n",
       "<table border=\"1\" class=\"dataframe\">\n",
       "  <thead>\n",
       "    <tr style=\"text-align: right;\">\n",
       "      <th></th>\n",
       "      <th>ID</th>\n",
       "      <th>Gene</th>\n",
       "      <th>Variation</th>\n",
       "      <th>Text</th>\n",
       "    </tr>\n",
       "  </thead>\n",
       "  <tbody>\n",
       "    <tr>\n",
       "      <th>12</th>\n",
       "      <td>12</td>\n",
       "      <td>TET2</td>\n",
       "      <td>Y1902A</td>\n",
       "      <td>TET proteins oxidize 5-methylcytosine (5mC) on...</td>\n",
       "    </tr>\n",
       "    <tr>\n",
       "      <th>19</th>\n",
       "      <td>19</td>\n",
       "      <td>MTOR</td>\n",
       "      <td>D2512H</td>\n",
       "      <td>Genes encoding components of the PI3K-Akt-mTOR...</td>\n",
       "    </tr>\n",
       "    <tr>\n",
       "      <th>21</th>\n",
       "      <td>21</td>\n",
       "      <td>KIT</td>\n",
       "      <td>D52N</td>\n",
       "      <td>Myeloproliferative disorders (MPD) constitute ...</td>\n",
       "    </tr>\n",
       "    <tr>\n",
       "      <th>55</th>\n",
       "      <td>55</td>\n",
       "      <td>SPOP</td>\n",
       "      <td>F125V</td>\n",
       "      <td>In the largest E3 ligase subfamily, Cul3 binds...</td>\n",
       "    </tr>\n",
       "    <tr>\n",
       "      <th>64</th>\n",
       "      <td>64</td>\n",
       "      <td>KEAP1</td>\n",
       "      <td>C23Y</td>\n",
       "      <td>Keap1 is the substrate recognition module of a...</td>\n",
       "    </tr>\n",
       "  </tbody>\n",
       "</table>\n",
       "</div>"
      ],
      "text/plain": [
       "    ID   Gene Variation                                               Text\n",
       "12  12   TET2    Y1902A  TET proteins oxidize 5-methylcytosine (5mC) on...\n",
       "19  19   MTOR    D2512H  Genes encoding components of the PI3K-Akt-mTOR...\n",
       "21  21    KIT      D52N  Myeloproliferative disorders (MPD) constitute ...\n",
       "55  55   SPOP     F125V  In the largest E3 ligase subfamily, Cul3 binds...\n",
       "64  64  KEAP1      C23Y  Keap1 is the substrate recognition module of a..."
      ]
     },
     "execution_count": 23,
     "metadata": {},
     "output_type": "execute_result"
    }
   ],
   "source": [
    "new_test.head()"
   ]
  },
  {
   "cell_type": "code",
   "execution_count": 24,
   "metadata": {
    "collapsed": true
   },
   "outputs": [],
   "source": [
    "new_test = new_test.drop('ID',axis=1)"
   ]
  },
  {
   "cell_type": "code",
   "execution_count": 25,
   "metadata": {
    "collapsed": true
   },
   "outputs": [],
   "source": [
    "new_test_ids = [i for i in range(3321, 3321+new_test.shape[0])]"
   ]
  },
  {
   "cell_type": "code",
   "execution_count": 26,
   "metadata": {},
   "outputs": [
    {
     "data": {
      "text/plain": [
       "368"
      ]
     },
     "execution_count": 26,
     "metadata": {},
     "output_type": "execute_result"
    }
   ],
   "source": [
    "len(new_test_ids)"
   ]
  },
  {
   "cell_type": "code",
   "execution_count": 27,
   "metadata": {
    "collapsed": true
   },
   "outputs": [],
   "source": [
    "new_test['ID'] = new_test_ids"
   ]
  },
  {
   "cell_type": "code",
   "execution_count": 28,
   "metadata": {},
   "outputs": [
    {
     "data": {
      "text/html": [
       "<div>\n",
       "<style>\n",
       "    .dataframe thead tr:only-child th {\n",
       "        text-align: right;\n",
       "    }\n",
       "\n",
       "    .dataframe thead th {\n",
       "        text-align: left;\n",
       "    }\n",
       "\n",
       "    .dataframe tbody tr th {\n",
       "        vertical-align: top;\n",
       "    }\n",
       "</style>\n",
       "<table border=\"1\" class=\"dataframe\">\n",
       "  <thead>\n",
       "    <tr style=\"text-align: right;\">\n",
       "      <th></th>\n",
       "      <th>class1</th>\n",
       "      <th>class2</th>\n",
       "      <th>class3</th>\n",
       "      <th>class4</th>\n",
       "      <th>class5</th>\n",
       "      <th>class6</th>\n",
       "      <th>class7</th>\n",
       "      <th>class8</th>\n",
       "      <th>class9</th>\n",
       "      <th>class</th>\n",
       "      <th>ID</th>\n",
       "    </tr>\n",
       "  </thead>\n",
       "  <tbody>\n",
       "    <tr>\n",
       "      <th>0</th>\n",
       "      <td>1</td>\n",
       "      <td>0</td>\n",
       "      <td>0</td>\n",
       "      <td>0</td>\n",
       "      <td>0</td>\n",
       "      <td>0</td>\n",
       "      <td>0</td>\n",
       "      <td>0</td>\n",
       "      <td>0</td>\n",
       "      <td>1</td>\n",
       "      <td>12</td>\n",
       "    </tr>\n",
       "    <tr>\n",
       "      <th>1</th>\n",
       "      <td>0</td>\n",
       "      <td>1</td>\n",
       "      <td>0</td>\n",
       "      <td>0</td>\n",
       "      <td>0</td>\n",
       "      <td>0</td>\n",
       "      <td>0</td>\n",
       "      <td>0</td>\n",
       "      <td>0</td>\n",
       "      <td>2</td>\n",
       "      <td>19</td>\n",
       "    </tr>\n",
       "    <tr>\n",
       "      <th>2</th>\n",
       "      <td>0</td>\n",
       "      <td>1</td>\n",
       "      <td>0</td>\n",
       "      <td>0</td>\n",
       "      <td>0</td>\n",
       "      <td>0</td>\n",
       "      <td>0</td>\n",
       "      <td>0</td>\n",
       "      <td>0</td>\n",
       "      <td>2</td>\n",
       "      <td>21</td>\n",
       "    </tr>\n",
       "    <tr>\n",
       "      <th>3</th>\n",
       "      <td>0</td>\n",
       "      <td>0</td>\n",
       "      <td>0</td>\n",
       "      <td>1</td>\n",
       "      <td>0</td>\n",
       "      <td>0</td>\n",
       "      <td>0</td>\n",
       "      <td>0</td>\n",
       "      <td>0</td>\n",
       "      <td>4</td>\n",
       "      <td>55</td>\n",
       "    </tr>\n",
       "    <tr>\n",
       "      <th>4</th>\n",
       "      <td>0</td>\n",
       "      <td>0</td>\n",
       "      <td>0</td>\n",
       "      <td>1</td>\n",
       "      <td>0</td>\n",
       "      <td>0</td>\n",
       "      <td>0</td>\n",
       "      <td>0</td>\n",
       "      <td>0</td>\n",
       "      <td>4</td>\n",
       "      <td>64</td>\n",
       "    </tr>\n",
       "  </tbody>\n",
       "</table>\n",
       "</div>"
      ],
      "text/plain": [
       "   class1  class2  class3  class4  class5  class6  class7  class8  class9  \\\n",
       "0       1       0       0       0       0       0       0       0       0   \n",
       "1       0       1       0       0       0       0       0       0       0   \n",
       "2       0       1       0       0       0       0       0       0       0   \n",
       "3       0       0       0       1       0       0       0       0       0   \n",
       "4       0       0       0       1       0       0       0       0       0   \n",
       "\n",
       "   class  ID  \n",
       "0      1  12  \n",
       "1      2  19  \n",
       "2      2  21  \n",
       "3      4  55  \n",
       "4      4  64  "
      ]
     },
     "execution_count": 28,
     "metadata": {},
     "output_type": "execute_result"
    }
   ],
   "source": [
    "test_stage1_soln.head()"
   ]
  },
  {
   "cell_type": "code",
   "execution_count": 29,
   "metadata": {},
   "outputs": [
    {
     "data": {
      "text/plain": [
       "(368, 4)"
      ]
     },
     "execution_count": 29,
     "metadata": {},
     "output_type": "execute_result"
    }
   ],
   "source": [
    "new_test.shape"
   ]
  },
  {
   "cell_type": "code",
   "execution_count": 30,
   "metadata": {},
   "outputs": [
    {
     "data": {
      "text/plain": [
       "(368, 11)"
      ]
     },
     "execution_count": 30,
     "metadata": {},
     "output_type": "execute_result"
    }
   ],
   "source": [
    "test_stage1_soln.shape"
   ]
  },
  {
   "cell_type": "code",
   "execution_count": 31,
   "metadata": {
    "collapsed": true
   },
   "outputs": [],
   "source": [
    "new_test['Class'] = test_stage1_soln['class'].values"
   ]
  },
  {
   "cell_type": "code",
   "execution_count": 32,
   "metadata": {},
   "outputs": [
    {
     "data": {
      "text/plain": [
       "(368, 5)"
      ]
     },
     "execution_count": 32,
     "metadata": {},
     "output_type": "execute_result"
    }
   ],
   "source": [
    "new_test.shape"
   ]
  },
  {
   "cell_type": "code",
   "execution_count": 33,
   "metadata": {},
   "outputs": [
    {
     "data": {
      "text/html": [
       "<div>\n",
       "<style>\n",
       "    .dataframe thead tr:only-child th {\n",
       "        text-align: right;\n",
       "    }\n",
       "\n",
       "    .dataframe thead th {\n",
       "        text-align: left;\n",
       "    }\n",
       "\n",
       "    .dataframe tbody tr th {\n",
       "        vertical-align: top;\n",
       "    }\n",
       "</style>\n",
       "<table border=\"1\" class=\"dataframe\">\n",
       "  <thead>\n",
       "    <tr style=\"text-align: right;\">\n",
       "      <th></th>\n",
       "      <th>Gene</th>\n",
       "      <th>Variation</th>\n",
       "      <th>Text</th>\n",
       "      <th>ID</th>\n",
       "      <th>Class</th>\n",
       "    </tr>\n",
       "  </thead>\n",
       "  <tbody>\n",
       "    <tr>\n",
       "      <th>12</th>\n",
       "      <td>TET2</td>\n",
       "      <td>Y1902A</td>\n",
       "      <td>TET proteins oxidize 5-methylcytosine (5mC) on...</td>\n",
       "      <td>3321</td>\n",
       "      <td>1</td>\n",
       "    </tr>\n",
       "    <tr>\n",
       "      <th>19</th>\n",
       "      <td>MTOR</td>\n",
       "      <td>D2512H</td>\n",
       "      <td>Genes encoding components of the PI3K-Akt-mTOR...</td>\n",
       "      <td>3322</td>\n",
       "      <td>2</td>\n",
       "    </tr>\n",
       "    <tr>\n",
       "      <th>21</th>\n",
       "      <td>KIT</td>\n",
       "      <td>D52N</td>\n",
       "      <td>Myeloproliferative disorders (MPD) constitute ...</td>\n",
       "      <td>3323</td>\n",
       "      <td>2</td>\n",
       "    </tr>\n",
       "    <tr>\n",
       "      <th>55</th>\n",
       "      <td>SPOP</td>\n",
       "      <td>F125V</td>\n",
       "      <td>In the largest E3 ligase subfamily, Cul3 binds...</td>\n",
       "      <td>3324</td>\n",
       "      <td>4</td>\n",
       "    </tr>\n",
       "    <tr>\n",
       "      <th>64</th>\n",
       "      <td>KEAP1</td>\n",
       "      <td>C23Y</td>\n",
       "      <td>Keap1 is the substrate recognition module of a...</td>\n",
       "      <td>3325</td>\n",
       "      <td>4</td>\n",
       "    </tr>\n",
       "  </tbody>\n",
       "</table>\n",
       "</div>"
      ],
      "text/plain": [
       "     Gene Variation                                               Text    ID  \\\n",
       "12   TET2    Y1902A  TET proteins oxidize 5-methylcytosine (5mC) on...  3321   \n",
       "19   MTOR    D2512H  Genes encoding components of the PI3K-Akt-mTOR...  3322   \n",
       "21    KIT      D52N  Myeloproliferative disorders (MPD) constitute ...  3323   \n",
       "55   SPOP     F125V  In the largest E3 ligase subfamily, Cul3 binds...  3324   \n",
       "64  KEAP1      C23Y  Keap1 is the substrate recognition module of a...  3325   \n",
       "\n",
       "    Class  \n",
       "12      1  \n",
       "19      2  \n",
       "21      2  \n",
       "55      4  \n",
       "64      4  "
      ]
     },
     "execution_count": 33,
     "metadata": {},
     "output_type": "execute_result"
    }
   ],
   "source": [
    "new_test.head()"
   ]
  },
  {
   "cell_type": "code",
   "execution_count": 34,
   "metadata": {},
   "outputs": [
    {
     "data": {
      "text/html": [
       "<div>\n",
       "<style>\n",
       "    .dataframe thead tr:only-child th {\n",
       "        text-align: right;\n",
       "    }\n",
       "\n",
       "    .dataframe thead th {\n",
       "        text-align: left;\n",
       "    }\n",
       "\n",
       "    .dataframe tbody tr th {\n",
       "        vertical-align: top;\n",
       "    }\n",
       "</style>\n",
       "<table border=\"1\" class=\"dataframe\">\n",
       "  <thead>\n",
       "    <tr style=\"text-align: right;\">\n",
       "      <th></th>\n",
       "      <th>Gene</th>\n",
       "      <th>Variation</th>\n",
       "      <th>Text</th>\n",
       "      <th>ID</th>\n",
       "      <th>Class</th>\n",
       "    </tr>\n",
       "  </thead>\n",
       "  <tbody>\n",
       "    <tr>\n",
       "      <th>5600</th>\n",
       "      <td>MAP2K4</td>\n",
       "      <td>S251N</td>\n",
       "      <td>The systematic characterization of somatic mut...</td>\n",
       "      <td>3684</td>\n",
       "      <td>4</td>\n",
       "    </tr>\n",
       "    <tr>\n",
       "      <th>5609</th>\n",
       "      <td>VHL</td>\n",
       "      <td>N90I</td>\n",
       "      <td>The von Hippel-Lindau tumor suppressor protein...</td>\n",
       "      <td>3685</td>\n",
       "      <td>4</td>\n",
       "    </tr>\n",
       "    <tr>\n",
       "      <th>5626</th>\n",
       "      <td>MAP2K1</td>\n",
       "      <td>H119P</td>\n",
       "      <td>Genetic alterations that activate the mitogen-...</td>\n",
       "      <td>3686</td>\n",
       "      <td>6</td>\n",
       "    </tr>\n",
       "    <tr>\n",
       "      <th>5628</th>\n",
       "      <td>ATM</td>\n",
       "      <td>V2424G</td>\n",
       "      <td>Abstract The functional consequences of misse...</td>\n",
       "      <td>3687</td>\n",
       "      <td>4</td>\n",
       "    </tr>\n",
       "    <tr>\n",
       "      <th>5650</th>\n",
       "      <td>TP53</td>\n",
       "      <td>G245C</td>\n",
       "      <td>The transcription factor and tumor suppressor ...</td>\n",
       "      <td>3688</td>\n",
       "      <td>1</td>\n",
       "    </tr>\n",
       "  </tbody>\n",
       "</table>\n",
       "</div>"
      ],
      "text/plain": [
       "        Gene Variation                                               Text  \\\n",
       "5600  MAP2K4     S251N  The systematic characterization of somatic mut...   \n",
       "5609     VHL      N90I  The von Hippel-Lindau tumor suppressor protein...   \n",
       "5626  MAP2K1     H119P  Genetic alterations that activate the mitogen-...   \n",
       "5628     ATM    V2424G   Abstract The functional consequences of misse...   \n",
       "5650    TP53     G245C  The transcription factor and tumor suppressor ...   \n",
       "\n",
       "        ID  Class  \n",
       "5600  3684      4  \n",
       "5609  3685      4  \n",
       "5626  3686      6  \n",
       "5628  3687      4  \n",
       "5650  3688      1  "
      ]
     },
     "execution_count": 34,
     "metadata": {},
     "output_type": "execute_result"
    }
   ],
   "source": [
    "new_test.tail()"
   ]
  },
  {
   "cell_type": "code",
   "execution_count": 35,
   "metadata": {},
   "outputs": [
    {
     "data": {
      "text/html": [
       "<div>\n",
       "<style>\n",
       "    .dataframe thead tr:only-child th {\n",
       "        text-align: right;\n",
       "    }\n",
       "\n",
       "    .dataframe thead th {\n",
       "        text-align: left;\n",
       "    }\n",
       "\n",
       "    .dataframe tbody tr th {\n",
       "        vertical-align: top;\n",
       "    }\n",
       "</style>\n",
       "<table border=\"1\" class=\"dataframe\">\n",
       "  <thead>\n",
       "    <tr style=\"text-align: right;\">\n",
       "      <th></th>\n",
       "      <th>ID</th>\n",
       "      <th>Gene</th>\n",
       "      <th>Variation</th>\n",
       "      <th>Class</th>\n",
       "      <th>Text</th>\n",
       "    </tr>\n",
       "  </thead>\n",
       "  <tbody>\n",
       "    <tr>\n",
       "      <th>0</th>\n",
       "      <td>0</td>\n",
       "      <td>FAM58A</td>\n",
       "      <td>Truncating Mutations</td>\n",
       "      <td>1</td>\n",
       "      <td>Cyclin-dependent kinases (CDKs) regulate a var...</td>\n",
       "    </tr>\n",
       "    <tr>\n",
       "      <th>1</th>\n",
       "      <td>1</td>\n",
       "      <td>CBL</td>\n",
       "      <td>W802*</td>\n",
       "      <td>2</td>\n",
       "      <td>Abstract Background  Non-small cell lung canc...</td>\n",
       "    </tr>\n",
       "    <tr>\n",
       "      <th>2</th>\n",
       "      <td>2</td>\n",
       "      <td>CBL</td>\n",
       "      <td>Q249E</td>\n",
       "      <td>2</td>\n",
       "      <td>Abstract Background  Non-small cell lung canc...</td>\n",
       "    </tr>\n",
       "    <tr>\n",
       "      <th>3</th>\n",
       "      <td>3</td>\n",
       "      <td>CBL</td>\n",
       "      <td>N454D</td>\n",
       "      <td>3</td>\n",
       "      <td>Recent evidence has demonstrated that acquired...</td>\n",
       "    </tr>\n",
       "    <tr>\n",
       "      <th>4</th>\n",
       "      <td>4</td>\n",
       "      <td>CBL</td>\n",
       "      <td>L399V</td>\n",
       "      <td>4</td>\n",
       "      <td>Oncogenic mutations in the monomeric Casitas B...</td>\n",
       "    </tr>\n",
       "  </tbody>\n",
       "</table>\n",
       "</div>"
      ],
      "text/plain": [
       "   ID    Gene             Variation  Class  \\\n",
       "0   0  FAM58A  Truncating Mutations      1   \n",
       "1   1     CBL                 W802*      2   \n",
       "2   2     CBL                 Q249E      2   \n",
       "3   3     CBL                 N454D      3   \n",
       "4   4     CBL                 L399V      4   \n",
       "\n",
       "                                                Text  \n",
       "0  Cyclin-dependent kinases (CDKs) regulate a var...  \n",
       "1   Abstract Background  Non-small cell lung canc...  \n",
       "2   Abstract Background  Non-small cell lung canc...  \n",
       "3  Recent evidence has demonstrated that acquired...  \n",
       "4  Oncogenic mutations in the monomeric Casitas B...  "
      ]
     },
     "execution_count": 35,
     "metadata": {},
     "output_type": "execute_result"
    }
   ],
   "source": [
    "train_stage1.head()"
   ]
  },
  {
   "cell_type": "code",
   "execution_count": 36,
   "metadata": {},
   "outputs": [
    {
     "data": {
      "text/plain": [
       "7    953\n",
       "4    686\n",
       "1    568\n",
       "2    452\n",
       "6    275\n",
       "5    242\n",
       "3     89\n",
       "9     37\n",
       "8     19\n",
       "Name: Class, dtype: int64"
      ]
     },
     "execution_count": 36,
     "metadata": {},
     "output_type": "execute_result"
    }
   ],
   "source": [
    "train_stage1.Class.value_counts()"
   ]
  },
  {
   "cell_type": "code",
   "execution_count": 37,
   "metadata": {},
   "outputs": [
    {
     "data": {
      "text/plain": [
       "(3321, 5)"
      ]
     },
     "execution_count": 37,
     "metadata": {},
     "output_type": "execute_result"
    }
   ],
   "source": [
    "train_stage1.shape"
   ]
  },
  {
   "cell_type": "code",
   "execution_count": 38,
   "metadata": {
    "collapsed": true
   },
   "outputs": [],
   "source": [
    "train_stage2 = pd.concat([train_stage1, new_test], axis=0)"
   ]
  },
  {
   "cell_type": "code",
   "execution_count": null,
   "metadata": {
    "collapsed": true
   },
   "outputs": [],
   "source": [
    "# this is a text mining problem. delete rows where text is not present\n",
    "#"
   ]
  },
  {
   "cell_type": "code",
   "execution_count": 39,
   "metadata": {},
   "outputs": [
    {
     "data": {
      "text/plain": [
       "(3689, 5)"
      ]
     },
     "execution_count": 39,
     "metadata": {},
     "output_type": "execute_result"
    }
   ],
   "source": [
    "train_stage2.shape"
   ]
  },
  {
   "cell_type": "code",
   "execution_count": 48,
   "metadata": {
    "collapsed": true
   },
   "outputs": [],
   "source": [
    "train_stage2['TL'] = train_stage2['Text'].map(lambda x: len(x))"
   ]
  },
  {
   "cell_type": "code",
   "execution_count": 51,
   "metadata": {},
   "outputs": [
    {
     "data": {
      "text/plain": [
       "4"
      ]
     },
     "execution_count": 51,
     "metadata": {},
     "output_type": "execute_result"
    }
   ],
   "source": [
    "min(train_stage2['TL'])"
   ]
  },
  {
   "cell_type": "code",
   "execution_count": 52,
   "metadata": {},
   "outputs": [
    {
     "data": {
      "text/plain": [
       "523393"
      ]
     },
     "execution_count": 52,
     "metadata": {},
     "output_type": "execute_result"
    }
   ],
   "source": [
    "max(train_stage2['TL'])"
   ]
  },
  {
   "cell_type": "code",
   "execution_count": 55,
   "metadata": {},
   "outputs": [],
   "source": [
    "train_stage2 = train_stage2[train_stage2['TL'] > 4]"
   ]
  },
  {
   "cell_type": "code",
   "execution_count": 56,
   "metadata": {},
   "outputs": [
    {
     "data": {
      "text/plain": [
       "(3683, 6)"
      ]
     },
     "execution_count": 56,
     "metadata": {},
     "output_type": "execute_result"
    }
   ],
   "source": [
    "train_stage2.shape"
   ]
  },
  {
   "cell_type": "code",
   "execution_count": 57,
   "metadata": {},
   "outputs": [
    {
     "data": {
      "text/plain": [
       "42789     59\n",
       "50070     52\n",
       "42859     48\n",
       "35403     35\n",
       "34409     35\n",
       "43019     29\n",
       "26803     27\n",
       "28722     25\n",
       "22651     24\n",
       "36711     21\n",
       "58319     19\n",
       "52492     17\n",
       "26713     16\n",
       "65971     16\n",
       "40090     16\n",
       "46287     14\n",
       "46698     13\n",
       "55326     13\n",
       "27153     13\n",
       "26913     13\n",
       "78356     12\n",
       "85023     12\n",
       "49607     12\n",
       "171892    12\n",
       "65063     12\n",
       "29948     12\n",
       "25919     11\n",
       "40773     11\n",
       "37786     11\n",
       "35322     10\n",
       "          ..\n",
       "138446     1\n",
       "108728     1\n",
       "63674      1\n",
       "131263     1\n",
       "112794     1\n",
       "37017      1\n",
       "83421      1\n",
       "54008      1\n",
       "349679     1\n",
       "149620     1\n",
       "125046     1\n",
       "91882      1\n",
       "52718      1\n",
       "419966     1\n",
       "102527     1\n",
       "2176       1\n",
       "78333      1\n",
       "125060     1\n",
       "99821      1\n",
       "70909      1\n",
       "34954      1\n",
       "99182      1\n",
       "84108      1\n",
       "185833     1\n",
       "75233      1\n",
       "105950     1\n",
       "259010     1\n",
       "61589      1\n",
       "88214      1\n",
       "98304      1\n",
       "Name: TL, Length: 2075, dtype: int64"
      ]
     },
     "execution_count": 57,
     "metadata": {},
     "output_type": "execute_result"
    }
   ],
   "source": [
    "pd.value_counts(train_stage2.TL)"
   ]
  },
  {
   "cell_type": "code",
   "execution_count": 58,
   "metadata": {},
   "outputs": [
    {
     "data": {
      "text/plain": [
       "337"
      ]
     },
     "execution_count": 58,
     "metadata": {},
     "output_type": "execute_result"
    }
   ],
   "source": [
    "min(train_stage2['TL'])"
   ]
  },
  {
   "cell_type": "code",
   "execution_count": 59,
   "metadata": {},
   "outputs": [
    {
     "data": {
      "text/html": [
       "<div>\n",
       "<style>\n",
       "    .dataframe thead tr:only-child th {\n",
       "        text-align: right;\n",
       "    }\n",
       "\n",
       "    .dataframe thead th {\n",
       "        text-align: left;\n",
       "    }\n",
       "\n",
       "    .dataframe tbody tr th {\n",
       "        vertical-align: top;\n",
       "    }\n",
       "</style>\n",
       "<table border=\"1\" class=\"dataframe\">\n",
       "  <thead>\n",
       "    <tr style=\"text-align: right;\">\n",
       "      <th></th>\n",
       "      <th>Class</th>\n",
       "      <th>Gene</th>\n",
       "      <th>ID</th>\n",
       "      <th>Text</th>\n",
       "      <th>Variation</th>\n",
       "      <th>TL</th>\n",
       "    </tr>\n",
       "  </thead>\n",
       "  <tbody>\n",
       "    <tr>\n",
       "      <th>1613</th>\n",
       "      <td>4</td>\n",
       "      <td>VHL</td>\n",
       "      <td>1613</td>\n",
       "      <td>The case of a 40-year-old woman with severe ed...</td>\n",
       "      <td>L158Q</td>\n",
       "      <td>337</td>\n",
       "    </tr>\n",
       "  </tbody>\n",
       "</table>\n",
       "</div>"
      ],
      "text/plain": [
       "      Class Gene    ID                                               Text  \\\n",
       "1613      4  VHL  1613  The case of a 40-year-old woman with severe ed...   \n",
       "\n",
       "     Variation   TL  \n",
       "1613     L158Q  337  "
      ]
     },
     "execution_count": 59,
     "metadata": {},
     "output_type": "execute_result"
    }
   ],
   "source": [
    "train_stage2[train_stage2['TL'] == 337]"
   ]
  },
  {
   "cell_type": "code",
   "execution_count": 60,
   "metadata": {},
   "outputs": [
    {
     "data": {
      "text/html": [
       "<div>\n",
       "<style>\n",
       "    .dataframe thead tr:only-child th {\n",
       "        text-align: right;\n",
       "    }\n",
       "\n",
       "    .dataframe thead th {\n",
       "        text-align: left;\n",
       "    }\n",
       "\n",
       "    .dataframe tbody tr th {\n",
       "        vertical-align: top;\n",
       "    }\n",
       "</style>\n",
       "<table border=\"1\" class=\"dataframe\">\n",
       "  <thead>\n",
       "    <tr style=\"text-align: right;\">\n",
       "      <th></th>\n",
       "      <th>Class</th>\n",
       "      <th>Gene</th>\n",
       "      <th>ID</th>\n",
       "      <th>Text</th>\n",
       "      <th>Variation</th>\n",
       "      <th>TL</th>\n",
       "    </tr>\n",
       "  </thead>\n",
       "  <tbody>\n",
       "    <tr>\n",
       "      <th>0</th>\n",
       "      <td>1</td>\n",
       "      <td>FAM58A</td>\n",
       "      <td>0</td>\n",
       "      <td>Cyclin-dependent kinases (CDKs) regulate a var...</td>\n",
       "      <td>Truncating Mutations</td>\n",
       "      <td>39672</td>\n",
       "    </tr>\n",
       "    <tr>\n",
       "      <th>1</th>\n",
       "      <td>2</td>\n",
       "      <td>CBL</td>\n",
       "      <td>1</td>\n",
       "      <td>Abstract Background  Non-small cell lung canc...</td>\n",
       "      <td>W802*</td>\n",
       "      <td>36691</td>\n",
       "    </tr>\n",
       "    <tr>\n",
       "      <th>2</th>\n",
       "      <td>2</td>\n",
       "      <td>CBL</td>\n",
       "      <td>2</td>\n",
       "      <td>Abstract Background  Non-small cell lung canc...</td>\n",
       "      <td>Q249E</td>\n",
       "      <td>36691</td>\n",
       "    </tr>\n",
       "    <tr>\n",
       "      <th>3</th>\n",
       "      <td>3</td>\n",
       "      <td>CBL</td>\n",
       "      <td>3</td>\n",
       "      <td>Recent evidence has demonstrated that acquired...</td>\n",
       "      <td>N454D</td>\n",
       "      <td>36238</td>\n",
       "    </tr>\n",
       "    <tr>\n",
       "      <th>4</th>\n",
       "      <td>4</td>\n",
       "      <td>CBL</td>\n",
       "      <td>4</td>\n",
       "      <td>Oncogenic mutations in the monomeric Casitas B...</td>\n",
       "      <td>L399V</td>\n",
       "      <td>41308</td>\n",
       "    </tr>\n",
       "  </tbody>\n",
       "</table>\n",
       "</div>"
      ],
      "text/plain": [
       "   Class    Gene  ID                                               Text  \\\n",
       "0      1  FAM58A   0  Cyclin-dependent kinases (CDKs) regulate a var...   \n",
       "1      2     CBL   1   Abstract Background  Non-small cell lung canc...   \n",
       "2      2     CBL   2   Abstract Background  Non-small cell lung canc...   \n",
       "3      3     CBL   3  Recent evidence has demonstrated that acquired...   \n",
       "4      4     CBL   4  Oncogenic mutations in the monomeric Casitas B...   \n",
       "\n",
       "              Variation     TL  \n",
       "0  Truncating Mutations  39672  \n",
       "1                 W802*  36691  \n",
       "2                 Q249E  36691  \n",
       "3                 N454D  36238  \n",
       "4                 L399V  41308  "
      ]
     },
     "execution_count": 60,
     "metadata": {},
     "output_type": "execute_result"
    }
   ],
   "source": [
    "train_stage2.head()"
   ]
  },
  {
   "cell_type": "code",
   "execution_count": 61,
   "metadata": {},
   "outputs": [
    {
     "data": {
      "text/html": [
       "<div>\n",
       "<style>\n",
       "    .dataframe thead tr:only-child th {\n",
       "        text-align: right;\n",
       "    }\n",
       "\n",
       "    .dataframe thead th {\n",
       "        text-align: left;\n",
       "    }\n",
       "\n",
       "    .dataframe tbody tr th {\n",
       "        vertical-align: top;\n",
       "    }\n",
       "</style>\n",
       "<table border=\"1\" class=\"dataframe\">\n",
       "  <thead>\n",
       "    <tr style=\"text-align: right;\">\n",
       "      <th></th>\n",
       "      <th>Class</th>\n",
       "      <th>Gene</th>\n",
       "      <th>ID</th>\n",
       "      <th>Text</th>\n",
       "      <th>Variation</th>\n",
       "      <th>TL</th>\n",
       "    </tr>\n",
       "  </thead>\n",
       "  <tbody>\n",
       "    <tr>\n",
       "      <th>5600</th>\n",
       "      <td>4</td>\n",
       "      <td>MAP2K4</td>\n",
       "      <td>3684</td>\n",
       "      <td>The systematic characterization of somatic mut...</td>\n",
       "      <td>S251N</td>\n",
       "      <td>53189</td>\n",
       "    </tr>\n",
       "    <tr>\n",
       "      <th>5609</th>\n",
       "      <td>4</td>\n",
       "      <td>VHL</td>\n",
       "      <td>3685</td>\n",
       "      <td>The von Hippel-Lindau tumor suppressor protein...</td>\n",
       "      <td>N90I</td>\n",
       "      <td>48256</td>\n",
       "    </tr>\n",
       "    <tr>\n",
       "      <th>5626</th>\n",
       "      <td>6</td>\n",
       "      <td>MAP2K1</td>\n",
       "      <td>3686</td>\n",
       "      <td>Genetic alterations that activate the mitogen-...</td>\n",
       "      <td>H119P</td>\n",
       "      <td>24485</td>\n",
       "    </tr>\n",
       "    <tr>\n",
       "      <th>5628</th>\n",
       "      <td>4</td>\n",
       "      <td>ATM</td>\n",
       "      <td>3687</td>\n",
       "      <td>Abstract The functional consequences of misse...</td>\n",
       "      <td>V2424G</td>\n",
       "      <td>74364</td>\n",
       "    </tr>\n",
       "    <tr>\n",
       "      <th>5650</th>\n",
       "      <td>1</td>\n",
       "      <td>TP53</td>\n",
       "      <td>3688</td>\n",
       "      <td>The transcription factor and tumor suppressor ...</td>\n",
       "      <td>G245C</td>\n",
       "      <td>27913</td>\n",
       "    </tr>\n",
       "  </tbody>\n",
       "</table>\n",
       "</div>"
      ],
      "text/plain": [
       "      Class    Gene    ID                                               Text  \\\n",
       "5600      4  MAP2K4  3684  The systematic characterization of somatic mut...   \n",
       "5609      4     VHL  3685  The von Hippel-Lindau tumor suppressor protein...   \n",
       "5626      6  MAP2K1  3686  Genetic alterations that activate the mitogen-...   \n",
       "5628      4     ATM  3687   Abstract The functional consequences of misse...   \n",
       "5650      1    TP53  3688  The transcription factor and tumor suppressor ...   \n",
       "\n",
       "     Variation     TL  \n",
       "5600     S251N  53189  \n",
       "5609      N90I  48256  \n",
       "5626     H119P  24485  \n",
       "5628    V2424G  74364  \n",
       "5650     G245C  27913  "
      ]
     },
     "execution_count": 61,
     "metadata": {},
     "output_type": "execute_result"
    }
   ],
   "source": [
    "train_stage2.tail()"
   ]
  },
  {
   "cell_type": "code",
   "execution_count": 62,
   "metadata": {},
   "outputs": [
    {
     "data": {
      "text/plain": [
       "3683"
      ]
     },
     "execution_count": 62,
     "metadata": {},
     "output_type": "execute_result"
    }
   ],
   "source": [
    "len(train_stage2.ID.unique())"
   ]
  },
  {
   "cell_type": "code",
   "execution_count": 63,
   "metadata": {},
   "outputs": [
    {
     "data": {
      "text/plain": [
       "(3683, 6)"
      ]
     },
     "execution_count": 63,
     "metadata": {},
     "output_type": "execute_result"
    }
   ],
   "source": [
    "train_stage2.shape"
   ]
  },
  {
   "cell_type": "code",
   "execution_count": 64,
   "metadata": {},
   "outputs": [
    {
     "data": {
      "text/plain": [
       "7    1053\n",
       "4     751\n",
       "1     660\n",
       "2     497\n",
       "6     295\n",
       "5     267\n",
       "3      96\n",
       "9      43\n",
       "8      21\n",
       "Name: Class, dtype: int64"
      ]
     },
     "execution_count": 64,
     "metadata": {},
     "output_type": "execute_result"
    }
   ],
   "source": [
    "train_stage2.Class.value_counts()"
   ]
  },
  {
   "cell_type": "code",
   "execution_count": 67,
   "metadata": {},
   "outputs": [
    {
     "data": {
      "text/plain": [
       "3683"
      ]
     },
     "execution_count": 67,
     "metadata": {},
     "output_type": "execute_result"
    }
   ],
   "source": [
    "len(train_stage2.ID.unique())"
   ]
  },
  {
   "cell_type": "code",
   "execution_count": 70,
   "metadata": {},
   "outputs": [],
   "source": [
    "train_stage2 = train_stage2.drop('TL', axis=1)"
   ]
  },
  {
   "cell_type": "code",
   "execution_count": 72,
   "metadata": {
    "collapsed": true
   },
   "outputs": [],
   "source": [
    "train_stage2.reset_index(inplace=True)"
   ]
  },
  {
   "cell_type": "code",
   "execution_count": 73,
   "metadata": {
    "collapsed": true
   },
   "outputs": [],
   "source": [
    "feather.write_dataframe(train_stage2, '../cache/train_stage2.feather')"
   ]
  },
  {
   "cell_type": "code",
   "execution_count": 45,
   "metadata": {
    "collapsed": true
   },
   "outputs": [],
   "source": [
    "train_stage2 = feather.read_dataframe('../cache/train_stage2.feather')"
   ]
  },
  {
   "cell_type": "code",
   "execution_count": 46,
   "metadata": {},
   "outputs": [
    {
     "data": {
      "text/plain": [
       "7    1054\n",
       "4     751\n",
       "1     662\n",
       "2     498\n",
       "6     297\n",
       "5     267\n",
       "3      96\n",
       "9      43\n",
       "8      21\n",
       "Name: Class, dtype: int64"
      ]
     },
     "execution_count": 46,
     "metadata": {},
     "output_type": "execute_result"
    }
   ],
   "source": [
    "train_stage2.Class.value_counts()"
   ]
  },
  {
   "cell_type": "code",
   "execution_count": 47,
   "metadata": {
    "collapsed": true
   },
   "outputs": [],
   "source": [
    "y_class = train_stage2.Class.values"
   ]
  },
  {
   "cell_type": "code",
   "execution_count": 48,
   "metadata": {
    "collapsed": true
   },
   "outputs": [],
   "source": [
    "# from imblearn.over_sampling import RandomOverSampler"
   ]
  },
  {
   "cell_type": "code",
   "execution_count": 49,
   "metadata": {},
   "outputs": [
    {
     "data": {
      "text/plain": [
       "121      121\n",
       "220      220\n",
       "306      306\n",
       "307      307\n",
       "308      308\n",
       "750      750\n",
       "1344    1344\n",
       "1352    1352\n",
       "1756    1756\n",
       "1768    1768\n",
       "1770    1770\n",
       "1825    1825\n",
       "2274    2274\n",
       "2275    2275\n",
       "2277    2277\n",
       "2278    2278\n",
       "2385    2385\n",
       "3109    3109\n",
       "3114    3114\n",
       "3514    3514\n",
       "3548    3548\n",
       "Name: ID, dtype: int64"
      ]
     },
     "execution_count": 49,
     "metadata": {},
     "output_type": "execute_result"
    }
   ],
   "source": [
    "train_stage2.ID[train_stage2['Class'] == 8]"
   ]
  },
  {
   "cell_type": "code",
   "execution_count": 50,
   "metadata": {},
   "outputs": [
    {
     "data": {
      "text/html": [
       "<div>\n",
       "<style>\n",
       "    .dataframe thead tr:only-child th {\n",
       "        text-align: right;\n",
       "    }\n",
       "\n",
       "    .dataframe thead th {\n",
       "        text-align: left;\n",
       "    }\n",
       "\n",
       "    .dataframe tbody tr th {\n",
       "        vertical-align: top;\n",
       "    }\n",
       "</style>\n",
       "<table border=\"1\" class=\"dataframe\">\n",
       "  <thead>\n",
       "    <tr style=\"text-align: right;\">\n",
       "      <th></th>\n",
       "      <th>Class</th>\n",
       "      <th>Gene</th>\n",
       "      <th>ID</th>\n",
       "      <th>Text</th>\n",
       "      <th>Variation</th>\n",
       "    </tr>\n",
       "  </thead>\n",
       "  <tbody>\n",
       "    <tr>\n",
       "      <th>121</th>\n",
       "      <td>8</td>\n",
       "      <td>SF3B1</td>\n",
       "      <td>121</td>\n",
       "      <td>The RNA maturation is an important and complex...</td>\n",
       "      <td>K700R</td>\n",
       "    </tr>\n",
       "  </tbody>\n",
       "</table>\n",
       "</div>"
      ],
      "text/plain": [
       "     Class   Gene   ID                                               Text  \\\n",
       "121      8  SF3B1  121  The RNA maturation is an important and complex...   \n",
       "\n",
       "    Variation  \n",
       "121     K700R  "
      ]
     },
     "execution_count": 50,
     "metadata": {},
     "output_type": "execute_result"
    }
   ],
   "source": [
    "train_stage2[train_stage2.ID == 121]"
   ]
  },
  {
   "cell_type": "code",
   "execution_count": 51,
   "metadata": {
    "collapsed": true
   },
   "outputs": [],
   "source": [
    "# sampler = RandomOverSampler()\n",
    "# X_res, y_res = sampler.fit_sample(ts_2, y_class)"
   ]
  },
  {
   "cell_type": "code",
   "execution_count": 52,
   "metadata": {
    "collapsed": true
   },
   "outputs": [],
   "source": [
    "train_stage2 = train_stage2.drop('ID', axis=1)"
   ]
  },
  {
   "cell_type": "code",
   "execution_count": 53,
   "metadata": {
    "collapsed": true
   },
   "outputs": [],
   "source": [
    "max_rows = 1054 # chosen because class 7 has 955 rows in stage2 train set"
   ]
  },
  {
   "cell_type": "code",
   "execution_count": 54,
   "metadata": {
    "collapsed": true
   },
   "outputs": [],
   "source": [
    "s = train_stage2.Class.value_counts()"
   ]
  },
  {
   "cell_type": "code",
   "execution_count": 55,
   "metadata": {},
   "outputs": [
    {
     "name": "stderr",
     "output_type": "stream",
     "text": [
      "100%|██████████| 9/9 [00:00<00:00, 2854.99it/s]\n"
     ]
    }
   ],
   "source": [
    "num_classes = 9\n",
    "rows_to_append = []\n",
    "ids = {}\n",
    "for i in tqdm(range(1, num_classes+1)):\n",
    "    class_rows = max_rows - s[i]\n",
    "    rows_to_append.append(class_rows)\n",
    "    ids[i] = train_stage2.index[train_stage2['Class'] == i]"
   ]
  },
  {
   "cell_type": "code",
   "execution_count": 56,
   "metadata": {},
   "outputs": [
    {
     "data": {
      "text/plain": [
       "[392, 556, 958, 303, 787, 757, 0, 1033, 1011]"
      ]
     },
     "execution_count": 56,
     "metadata": {},
     "output_type": "execute_result"
    }
   ],
   "source": [
    "rows_to_append"
   ]
  },
  {
   "cell_type": "code",
   "execution_count": 57,
   "metadata": {
    "collapsed": true
   },
   "outputs": [],
   "source": [
    "import math"
   ]
  },
  {
   "cell_type": "code",
   "execution_count": 58,
   "metadata": {},
   "outputs": [
    {
     "name": "stderr",
     "output_type": "stream",
     "text": [
      "100%|██████████| 9/9 [00:00<00:00, 55.34it/s]\n"
     ]
    }
   ],
   "source": [
    "for i in tqdm(range(len(rows_to_append))):\n",
    "    if rows_to_append[i] > 0:\n",
    "        to_append = train_stage2.index.isin(ids[i+1])\n",
    "#         print(to_append)\n",
    "        n = to_append[to_append==True].sum()\n",
    "        if n > rows_to_append[i]:\n",
    "            m = rows_to_append[i]\n",
    "            df = train_stage2.loc[to_append].copy()\n",
    "            df = df[0:m-1]\n",
    "            train_stage2 = pd.concat([train_stage2, df],axis=0)\n",
    "        else:\n",
    "            m = math.floor(rows_to_append[i]/n)\n",
    "            for j in range(m):\n",
    "                df = train_stage2.loc[to_append].copy()\n",
    "                train_stage2 = pd.concat([train_stage2, df],axis=0)\n",
    "            \n",
    "        #df_to_append = train_stage2.loc[to_append].copy()\n",
    "        #train_stage2 = pd.concat([train_stage2,df_to_append],axis=0)"
   ]
  },
  {
   "cell_type": "code",
   "execution_count": 59,
   "metadata": {},
   "outputs": [
    {
     "data": {
      "text/plain": [
       "7    1054\n",
       "4    1053\n",
       "1    1053\n",
       "8    1050\n",
       "9    1032\n",
       "2     996\n",
       "3     960\n",
       "6     891\n",
       "5     801\n",
       "Name: Class, dtype: int64"
      ]
     },
     "execution_count": 59,
     "metadata": {},
     "output_type": "execute_result"
    }
   ],
   "source": [
    "train_stage2.Class.value_counts()"
   ]
  },
  {
   "cell_type": "code",
   "execution_count": 60,
   "metadata": {},
   "outputs": [
    {
     "data": {
      "text/plain": [
       "(8890, 4)"
      ]
     },
     "execution_count": 60,
     "metadata": {},
     "output_type": "execute_result"
    }
   ],
   "source": [
    "train_stage2.shape"
   ]
  },
  {
   "cell_type": "code",
   "execution_count": 61,
   "metadata": {},
   "outputs": [
    {
     "data": {
      "text/html": [
       "<div>\n",
       "<style>\n",
       "    .dataframe thead tr:only-child th {\n",
       "        text-align: right;\n",
       "    }\n",
       "\n",
       "    .dataframe thead th {\n",
       "        text-align: left;\n",
       "    }\n",
       "\n",
       "    .dataframe tbody tr th {\n",
       "        vertical-align: top;\n",
       "    }\n",
       "</style>\n",
       "<table border=\"1\" class=\"dataframe\">\n",
       "  <thead>\n",
       "    <tr style=\"text-align: right;\">\n",
       "      <th></th>\n",
       "      <th>Class</th>\n",
       "      <th>Gene</th>\n",
       "      <th>Text</th>\n",
       "      <th>Variation</th>\n",
       "    </tr>\n",
       "  </thead>\n",
       "  <tbody>\n",
       "    <tr>\n",
       "      <th>0</th>\n",
       "      <td>1</td>\n",
       "      <td>FAM58A</td>\n",
       "      <td>Cyclin-dependent kinases (CDKs) regulate a var...</td>\n",
       "      <td>Truncating Mutations</td>\n",
       "    </tr>\n",
       "    <tr>\n",
       "      <th>1</th>\n",
       "      <td>2</td>\n",
       "      <td>CBL</td>\n",
       "      <td>Abstract Background  Non-small cell lung canc...</td>\n",
       "      <td>W802*</td>\n",
       "    </tr>\n",
       "    <tr>\n",
       "      <th>2</th>\n",
       "      <td>2</td>\n",
       "      <td>CBL</td>\n",
       "      <td>Abstract Background  Non-small cell lung canc...</td>\n",
       "      <td>Q249E</td>\n",
       "    </tr>\n",
       "    <tr>\n",
       "      <th>3</th>\n",
       "      <td>3</td>\n",
       "      <td>CBL</td>\n",
       "      <td>Recent evidence has demonstrated that acquired...</td>\n",
       "      <td>N454D</td>\n",
       "    </tr>\n",
       "    <tr>\n",
       "      <th>4</th>\n",
       "      <td>4</td>\n",
       "      <td>CBL</td>\n",
       "      <td>Oncogenic mutations in the monomeric Casitas B...</td>\n",
       "      <td>L399V</td>\n",
       "    </tr>\n",
       "  </tbody>\n",
       "</table>\n",
       "</div>"
      ],
      "text/plain": [
       "   Class    Gene                                               Text  \\\n",
       "0      1  FAM58A  Cyclin-dependent kinases (CDKs) regulate a var...   \n",
       "1      2     CBL   Abstract Background  Non-small cell lung canc...   \n",
       "2      2     CBL   Abstract Background  Non-small cell lung canc...   \n",
       "3      3     CBL  Recent evidence has demonstrated that acquired...   \n",
       "4      4     CBL  Oncogenic mutations in the monomeric Casitas B...   \n",
       "\n",
       "              Variation  \n",
       "0  Truncating Mutations  \n",
       "1                 W802*  \n",
       "2                 Q249E  \n",
       "3                 N454D  \n",
       "4                 L399V  "
      ]
     },
     "execution_count": 61,
     "metadata": {},
     "output_type": "execute_result"
    }
   ],
   "source": [
    "train_stage2.head()"
   ]
  },
  {
   "cell_type": "code",
   "execution_count": 62,
   "metadata": {},
   "outputs": [
    {
     "data": {
      "text/plain": [
       "7    1054\n",
       "4    1053\n",
       "1    1053\n",
       "8    1050\n",
       "9    1032\n",
       "2     996\n",
       "3     960\n",
       "6     891\n",
       "5     801\n",
       "Name: Class, dtype: int64"
      ]
     },
     "execution_count": 62,
     "metadata": {},
     "output_type": "execute_result"
    }
   ],
   "source": [
    "train_stage2.Class.value_counts()"
   ]
  },
  {
   "cell_type": "code",
   "execution_count": 63,
   "metadata": {
    "collapsed": true
   },
   "outputs": [],
   "source": [
    "feather.write_dataframe(train_stage2, '../cache/train_stage2_os.feather')"
   ]
  },
  {
   "cell_type": "code",
   "execution_count": 64,
   "metadata": {
    "collapsed": true
   },
   "outputs": [],
   "source": [
    "test_stage2 = pd.read_csv('../data/stage2_test_variants.csv')\n",
    "testx_stage2 = pd.read_csv('../data/stage2_test_text.csv', sep=\"\\|\\|\", engine='python', header=None, skiprows=1, names=[\"ID\",\"Text\"])"
   ]
  },
  {
   "cell_type": "code",
   "execution_count": 65,
   "metadata": {},
   "outputs": [
    {
     "data": {
      "text/html": [
       "<div>\n",
       "<style>\n",
       "    .dataframe thead tr:only-child th {\n",
       "        text-align: right;\n",
       "    }\n",
       "\n",
       "    .dataframe thead th {\n",
       "        text-align: left;\n",
       "    }\n",
       "\n",
       "    .dataframe tbody tr th {\n",
       "        vertical-align: top;\n",
       "    }\n",
       "</style>\n",
       "<table border=\"1\" class=\"dataframe\">\n",
       "  <thead>\n",
       "    <tr style=\"text-align: right;\">\n",
       "      <th></th>\n",
       "      <th>ID</th>\n",
       "      <th>Gene</th>\n",
       "      <th>Variation</th>\n",
       "    </tr>\n",
       "  </thead>\n",
       "  <tbody>\n",
       "    <tr>\n",
       "      <th>0</th>\n",
       "      <td>1</td>\n",
       "      <td>CHEK2</td>\n",
       "      <td>H371Y</td>\n",
       "    </tr>\n",
       "    <tr>\n",
       "      <th>1</th>\n",
       "      <td>2</td>\n",
       "      <td>AXIN2</td>\n",
       "      <td>Truncating Mutations</td>\n",
       "    </tr>\n",
       "    <tr>\n",
       "      <th>2</th>\n",
       "      <td>3</td>\n",
       "      <td>WNT4</td>\n",
       "      <td>E216G</td>\n",
       "    </tr>\n",
       "    <tr>\n",
       "      <th>3</th>\n",
       "      <td>4</td>\n",
       "      <td>SUCLA2</td>\n",
       "      <td>G118R</td>\n",
       "    </tr>\n",
       "    <tr>\n",
       "      <th>4</th>\n",
       "      <td>5</td>\n",
       "      <td>BRAF</td>\n",
       "      <td>T599insTT</td>\n",
       "    </tr>\n",
       "  </tbody>\n",
       "</table>\n",
       "</div>"
      ],
      "text/plain": [
       "   ID    Gene             Variation\n",
       "0   1   CHEK2                 H371Y\n",
       "1   2   AXIN2  Truncating Mutations\n",
       "2   3    WNT4                 E216G\n",
       "3   4  SUCLA2                 G118R\n",
       "4   5    BRAF             T599insTT"
      ]
     },
     "execution_count": 65,
     "metadata": {},
     "output_type": "execute_result"
    }
   ],
   "source": [
    "test_stage2.head()"
   ]
  },
  {
   "cell_type": "code",
   "execution_count": 66,
   "metadata": {},
   "outputs": [
    {
     "data": {
      "text/html": [
       "<div>\n",
       "<style>\n",
       "    .dataframe thead tr:only-child th {\n",
       "        text-align: right;\n",
       "    }\n",
       "\n",
       "    .dataframe thead th {\n",
       "        text-align: left;\n",
       "    }\n",
       "\n",
       "    .dataframe tbody tr th {\n",
       "        vertical-align: top;\n",
       "    }\n",
       "</style>\n",
       "<table border=\"1\" class=\"dataframe\">\n",
       "  <thead>\n",
       "    <tr style=\"text-align: right;\">\n",
       "      <th></th>\n",
       "      <th>ID</th>\n",
       "      <th>Text</th>\n",
       "    </tr>\n",
       "  </thead>\n",
       "  <tbody>\n",
       "    <tr>\n",
       "      <th>0</th>\n",
       "      <td>1</td>\n",
       "      <td>The incidence of breast cancer is increasing i...</td>\n",
       "    </tr>\n",
       "    <tr>\n",
       "      <th>1</th>\n",
       "      <td>2</td>\n",
       "      <td>An unselected series of 310 colorectal carcino...</td>\n",
       "    </tr>\n",
       "    <tr>\n",
       "      <th>2</th>\n",
       "      <td>3</td>\n",
       "      <td>Mycosis fungoides and Sézary syndrome are prim...</td>\n",
       "    </tr>\n",
       "    <tr>\n",
       "      <th>3</th>\n",
       "      <td>4</td>\n",
       "      <td>Regulated progression through the cell cycle ...</td>\n",
       "    </tr>\n",
       "    <tr>\n",
       "      <th>4</th>\n",
       "      <td>5</td>\n",
       "      <td>Pilocytic astrocytoma (PA) is emerging as a tu...</td>\n",
       "    </tr>\n",
       "  </tbody>\n",
       "</table>\n",
       "</div>"
      ],
      "text/plain": [
       "   ID                                               Text\n",
       "0   1  The incidence of breast cancer is increasing i...\n",
       "1   2  An unselected series of 310 colorectal carcino...\n",
       "2   3  Mycosis fungoides and Sézary syndrome are prim...\n",
       "3   4   Regulated progression through the cell cycle ...\n",
       "4   5  Pilocytic astrocytoma (PA) is emerging as a tu..."
      ]
     },
     "execution_count": 66,
     "metadata": {},
     "output_type": "execute_result"
    }
   ],
   "source": [
    "testx_stage2.head()"
   ]
  },
  {
   "cell_type": "code",
   "execution_count": 67,
   "metadata": {
    "collapsed": true
   },
   "outputs": [],
   "source": [
    "test = pd.merge(test_stage2, testx_stage2, how='left', on='ID').fillna('')"
   ]
  },
  {
   "cell_type": "code",
   "execution_count": 68,
   "metadata": {},
   "outputs": [
    {
     "data": {
      "text/html": [
       "<div>\n",
       "<style>\n",
       "    .dataframe thead tr:only-child th {\n",
       "        text-align: right;\n",
       "    }\n",
       "\n",
       "    .dataframe thead th {\n",
       "        text-align: left;\n",
       "    }\n",
       "\n",
       "    .dataframe tbody tr th {\n",
       "        vertical-align: top;\n",
       "    }\n",
       "</style>\n",
       "<table border=\"1\" class=\"dataframe\">\n",
       "  <thead>\n",
       "    <tr style=\"text-align: right;\">\n",
       "      <th></th>\n",
       "      <th>ID</th>\n",
       "      <th>Gene</th>\n",
       "      <th>Variation</th>\n",
       "      <th>Text</th>\n",
       "    </tr>\n",
       "  </thead>\n",
       "  <tbody>\n",
       "    <tr>\n",
       "      <th>0</th>\n",
       "      <td>1</td>\n",
       "      <td>CHEK2</td>\n",
       "      <td>H371Y</td>\n",
       "      <td>The incidence of breast cancer is increasing i...</td>\n",
       "    </tr>\n",
       "    <tr>\n",
       "      <th>1</th>\n",
       "      <td>2</td>\n",
       "      <td>AXIN2</td>\n",
       "      <td>Truncating Mutations</td>\n",
       "      <td>An unselected series of 310 colorectal carcino...</td>\n",
       "    </tr>\n",
       "    <tr>\n",
       "      <th>2</th>\n",
       "      <td>3</td>\n",
       "      <td>WNT4</td>\n",
       "      <td>E216G</td>\n",
       "      <td>Mycosis fungoides and Sézary syndrome are prim...</td>\n",
       "    </tr>\n",
       "    <tr>\n",
       "      <th>3</th>\n",
       "      <td>4</td>\n",
       "      <td>SUCLA2</td>\n",
       "      <td>G118R</td>\n",
       "      <td>Regulated progression through the cell cycle ...</td>\n",
       "    </tr>\n",
       "    <tr>\n",
       "      <th>4</th>\n",
       "      <td>5</td>\n",
       "      <td>BRAF</td>\n",
       "      <td>T599insTT</td>\n",
       "      <td>Pilocytic astrocytoma (PA) is emerging as a tu...</td>\n",
       "    </tr>\n",
       "  </tbody>\n",
       "</table>\n",
       "</div>"
      ],
      "text/plain": [
       "   ID    Gene             Variation  \\\n",
       "0   1   CHEK2                 H371Y   \n",
       "1   2   AXIN2  Truncating Mutations   \n",
       "2   3    WNT4                 E216G   \n",
       "3   4  SUCLA2                 G118R   \n",
       "4   5    BRAF             T599insTT   \n",
       "\n",
       "                                                Text  \n",
       "0  The incidence of breast cancer is increasing i...  \n",
       "1  An unselected series of 310 colorectal carcino...  \n",
       "2  Mycosis fungoides and Sézary syndrome are prim...  \n",
       "3   Regulated progression through the cell cycle ...  \n",
       "4  Pilocytic astrocytoma (PA) is emerging as a tu...  "
      ]
     },
     "execution_count": 68,
     "metadata": {},
     "output_type": "execute_result"
    }
   ],
   "source": [
    "test.head()"
   ]
  },
  {
   "cell_type": "code",
   "execution_count": 69,
   "metadata": {},
   "outputs": [
    {
     "data": {
      "text/plain": [
       "(986, 4)"
      ]
     },
     "execution_count": 69,
     "metadata": {},
     "output_type": "execute_result"
    }
   ],
   "source": [
    "test.shape"
   ]
  },
  {
   "cell_type": "code",
   "execution_count": 70,
   "metadata": {},
   "outputs": [
    {
     "data": {
      "text/plain": [
       "132"
      ]
     },
     "execution_count": 70,
     "metadata": {},
     "output_type": "execute_result"
    }
   ],
   "source": [
    "len(set(test.Gene) -set(train_stage2.Gene))"
   ]
  },
  {
   "cell_type": "code",
   "execution_count": 71,
   "metadata": {},
   "outputs": [
    {
     "data": {
      "text/plain": [
       "612"
      ]
     },
     "execution_count": 71,
     "metadata": {},
     "output_type": "execute_result"
    }
   ],
   "source": [
    "len(set(test.Variation) -set(train_stage2.Variation))"
   ]
  },
  {
   "cell_type": "code",
   "execution_count": 72,
   "metadata": {
    "collapsed": true
   },
   "outputs": [],
   "source": [
    "feather.write_dataframe(test, '../cache/test_stage2.feather')"
   ]
  },
  {
   "cell_type": "code",
   "execution_count": 168,
   "metadata": {
    "collapsed": true
   },
   "outputs": [],
   "source": [
    "train_rsid = {}"
   ]
  },
  {
   "cell_type": "code",
   "execution_count": 169,
   "metadata": {},
   "outputs": [],
   "source": [
    "with open('../cache/train_rsid.pkl', 'rb') as f:\n",
    "    train_rsid = pickle.load(f)"
   ]
  },
  {
   "cell_type": "code",
   "execution_count": 170,
   "metadata": {},
   "outputs": [
    {
     "data": {
      "text/plain": [
       "{'RS#:768583659'}"
      ]
     },
     "execution_count": 170,
     "metadata": {},
     "output_type": "execute_result"
    }
   ],
   "source": [
    "train_rsid[0]"
   ]
  },
  {
   "cell_type": "code",
   "execution_count": 171,
   "metadata": {},
   "outputs": [
    {
     "name": "stderr",
     "output_type": "stream",
     "text": [
      "100%|██████████| 3683/3683 [00:00<00:00, 225062.60it/s]\n"
     ]
    }
   ],
   "source": [
    "id_list = []\n",
    "rsid_list = []\n",
    "for i in tqdm(range(len(train_rsid))):\n",
    "    for rsid in train_rsid[i]:\n",
    "        id_list.append(i)\n",
    "        rsid_list.append(rsid)"
   ]
  },
  {
   "cell_type": "code",
   "execution_count": null,
   "metadata": {
    "collapsed": true
   },
   "outputs": [],
   "source": [
    "# train_id_list1 = []\n",
    "# train_rsid_list1 = []\n",
    "# for i in tqdm(range(len(train_rsid))):\n",
    "#     l = []\n",
    "#     train_id_list1.append(i)\n",
    "#     for rsid in train_rsid[i]:\n",
    "#             l.append(rsid)\n",
    "#     if len(l) > 0:\n",
    "#         el = random.choice(l)\n",
    "#         test_rsid_list1.append(el)\n",
    "#     else:\n",
    "#         test_rsid_list1.append('None')    "
   ]
  },
  {
   "cell_type": "code",
   "execution_count": 172,
   "metadata": {},
   "outputs": [],
   "source": [
    "df = pd.DataFrame() "
   ]
  },
  {
   "cell_type": "code",
   "execution_count": 173,
   "metadata": {},
   "outputs": [],
   "source": [
    "df['ID'] = id_list\n",
    "df['rsid'] = rsid_list"
   ]
  },
  {
   "cell_type": "code",
   "execution_count": 174,
   "metadata": {},
   "outputs": [
    {
     "data": {
      "text/html": [
       "<div>\n",
       "<style>\n",
       "    .dataframe thead tr:only-child th {\n",
       "        text-align: right;\n",
       "    }\n",
       "\n",
       "    .dataframe thead th {\n",
       "        text-align: left;\n",
       "    }\n",
       "\n",
       "    .dataframe tbody tr th {\n",
       "        vertical-align: top;\n",
       "    }\n",
       "</style>\n",
       "<table border=\"1\" class=\"dataframe\">\n",
       "  <thead>\n",
       "    <tr style=\"text-align: right;\">\n",
       "      <th></th>\n",
       "      <th>ID</th>\n",
       "      <th>rsid</th>\n",
       "    </tr>\n",
       "  </thead>\n",
       "  <tbody>\n",
       "    <tr>\n",
       "      <th>0</th>\n",
       "      <td>0</td>\n",
       "      <td>RS#:768583659</td>\n",
       "    </tr>\n",
       "    <tr>\n",
       "      <th>1</th>\n",
       "      <td>1</td>\n",
       "      <td>RS#:387906664</td>\n",
       "    </tr>\n",
       "    <tr>\n",
       "      <th>2</th>\n",
       "      <td>1</td>\n",
       "      <td>RS#:2227988</td>\n",
       "    </tr>\n",
       "    <tr>\n",
       "      <th>3</th>\n",
       "      <td>1</td>\n",
       "      <td>RS#:538190997</td>\n",
       "    </tr>\n",
       "    <tr>\n",
       "      <th>4</th>\n",
       "      <td>1</td>\n",
       "      <td>RS#:121434568</td>\n",
       "    </tr>\n",
       "  </tbody>\n",
       "</table>\n",
       "</div>"
      ],
      "text/plain": [
       "   ID           rsid\n",
       "0   0  RS#:768583659\n",
       "1   1  RS#:387906664\n",
       "2   1    RS#:2227988\n",
       "3   1  RS#:538190997\n",
       "4   1  RS#:121434568"
      ]
     },
     "execution_count": 174,
     "metadata": {},
     "output_type": "execute_result"
    }
   ],
   "source": [
    "df.head()"
   ]
  },
  {
   "cell_type": "code",
   "execution_count": 175,
   "metadata": {
    "collapsed": true
   },
   "outputs": [],
   "source": [
    "train_stage2 = feather.read_dataframe('../cache/train_stage2.feather')"
   ]
  },
  {
   "cell_type": "code",
   "execution_count": 176,
   "metadata": {},
   "outputs": [
    {
     "data": {
      "text/plain": [
       "(3683, 6)"
      ]
     },
     "execution_count": 176,
     "metadata": {},
     "output_type": "execute_result"
    }
   ],
   "source": [
    "train_stage2.shape"
   ]
  },
  {
   "cell_type": "code",
   "execution_count": 177,
   "metadata": {},
   "outputs": [
    {
     "data": {
      "text/plain": [
       "index        0\n",
       "Class        0\n",
       "Gene         0\n",
       "ID           0\n",
       "Text         0\n",
       "Variation    0\n",
       "dtype: int64"
      ]
     },
     "execution_count": 177,
     "metadata": {},
     "output_type": "execute_result"
    }
   ],
   "source": [
    "train_stage2.isnull().sum()"
   ]
  },
  {
   "cell_type": "code",
   "execution_count": 178,
   "metadata": {
    "collapsed": true
   },
   "outputs": [],
   "source": [
    "train1_stage2 = pd.merge(train_stage2, df, how='left', on='ID')"
   ]
  },
  {
   "cell_type": "code",
   "execution_count": 179,
   "metadata": {},
   "outputs": [
    {
     "data": {
      "text/plain": [
       "(22044, 7)"
      ]
     },
     "execution_count": 179,
     "metadata": {},
     "output_type": "execute_result"
    }
   ],
   "source": [
    "train1_stage2.shape"
   ]
  },
  {
   "cell_type": "code",
   "execution_count": 180,
   "metadata": {},
   "outputs": [
    {
     "data": {
      "text/plain": [
       "index           0\n",
       "Class           0\n",
       "Gene            0\n",
       "ID              0\n",
       "Text            0\n",
       "Variation       0\n",
       "rsid         1481\n",
       "dtype: int64"
      ]
     },
     "execution_count": 180,
     "metadata": {},
     "output_type": "execute_result"
    }
   ],
   "source": [
    "train1_stage2.isnull().sum()"
   ]
  },
  {
   "cell_type": "code",
   "execution_count": 181,
   "metadata": {
    "collapsed": true
   },
   "outputs": [],
   "source": [
    "train1_stage2.fillna('None', inplace=True)"
   ]
  },
  {
   "cell_type": "code",
   "execution_count": 182,
   "metadata": {},
   "outputs": [
    {
     "data": {
      "text/plain": [
       "index        0\n",
       "Class        0\n",
       "Gene         0\n",
       "ID           0\n",
       "Text         0\n",
       "Variation    0\n",
       "rsid         0\n",
       "dtype: int64"
      ]
     },
     "execution_count": 182,
     "metadata": {},
     "output_type": "execute_result"
    }
   ],
   "source": [
    "train1_stage2.isnull().sum()"
   ]
  },
  {
   "cell_type": "code",
   "execution_count": 183,
   "metadata": {
    "collapsed": true
   },
   "outputs": [],
   "source": [
    "feather.write_dataframe(train1_stage2, '../cache/train1_stage2.feather')"
   ]
  },
  {
   "cell_type": "code",
   "execution_count": 184,
   "metadata": {
    "collapsed": true
   },
   "outputs": [],
   "source": [
    "# now test_rsid"
   ]
  },
  {
   "cell_type": "code",
   "execution_count": 185,
   "metadata": {
    "collapsed": true
   },
   "outputs": [],
   "source": [
    "test_rsid = {}\n",
    "with open('../cache/test_rsid.pkl', 'rb') as f:\n",
    "    test_rsid = pickle.load(f)"
   ]
  },
  {
   "cell_type": "code",
   "execution_count": 186,
   "metadata": {},
   "outputs": [
    {
     "data": {
      "text/plain": [
       "986"
      ]
     },
     "execution_count": 186,
     "metadata": {},
     "output_type": "execute_result"
    }
   ],
   "source": [
    "len(test_rsid)"
   ]
  },
  {
   "cell_type": "code",
   "execution_count": 187,
   "metadata": {},
   "outputs": [
    {
     "data": {
      "text/plain": [
       "set()"
      ]
     },
     "execution_count": 187,
     "metadata": {},
     "output_type": "execute_result"
    }
   ],
   "source": [
    "test_rsid[0]"
   ]
  },
  {
   "cell_type": "code",
   "execution_count": 188,
   "metadata": {},
   "outputs": [
    {
     "name": "stderr",
     "output_type": "stream",
     "text": [
      "100%|██████████| 986/986 [00:00<00:00, 236738.44it/s]\n"
     ]
    }
   ],
   "source": [
    "test_id_list = []\n",
    "test_rsid_list = []\n",
    "for i in tqdm(range(len(test_rsid))):\n",
    "    for rsid in test_rsid[i]:\n",
    "        test_id_list.append(i)\n",
    "        test_rsid_list.append(rsid)"
   ]
  },
  {
   "cell_type": "code",
   "execution_count": 189,
   "metadata": {},
   "outputs": [
    {
     "data": {
      "text/plain": [
       "4296"
      ]
     },
     "execution_count": 189,
     "metadata": {},
     "output_type": "execute_result"
    }
   ],
   "source": [
    "len(test_rsid_list)"
   ]
  },
  {
   "cell_type": "code",
   "execution_count": 190,
   "metadata": {},
   "outputs": [
    {
     "data": {
      "text/plain": [
       "20567"
      ]
     },
     "execution_count": 190,
     "metadata": {},
     "output_type": "execute_result"
    }
   ],
   "source": [
    "len(rsid_list)"
   ]
  },
  {
   "cell_type": "code",
   "execution_count": 191,
   "metadata": {},
   "outputs": [
    {
     "data": {
      "text/plain": [
       "374"
      ]
     },
     "execution_count": 191,
     "metadata": {},
     "output_type": "execute_result"
    }
   ],
   "source": [
    "len(set(test_rsid_list) - set(rsid_list))"
   ]
  },
  {
   "cell_type": "code",
   "execution_count": 192,
   "metadata": {
    "collapsed": true
   },
   "outputs": [],
   "source": [
    "df = pd.DataFrame()\n",
    "df['ID'] = test_id_list\n",
    "df['rsid'] = test_rsid_list\n",
    "df['ID'] = df['ID'].apply(lambda x: x+1)"
   ]
  },
  {
   "cell_type": "code",
   "execution_count": 193,
   "metadata": {},
   "outputs": [
    {
     "data": {
      "text/html": [
       "<div>\n",
       "<style>\n",
       "    .dataframe thead tr:only-child th {\n",
       "        text-align: right;\n",
       "    }\n",
       "\n",
       "    .dataframe thead th {\n",
       "        text-align: left;\n",
       "    }\n",
       "\n",
       "    .dataframe tbody tr th {\n",
       "        vertical-align: top;\n",
       "    }\n",
       "</style>\n",
       "<table border=\"1\" class=\"dataframe\">\n",
       "  <thead>\n",
       "    <tr style=\"text-align: right;\">\n",
       "      <th></th>\n",
       "      <th>ID</th>\n",
       "      <th>rsid</th>\n",
       "    </tr>\n",
       "  </thead>\n",
       "  <tbody>\n",
       "    <tr>\n",
       "      <th>0</th>\n",
       "      <td>2</td>\n",
       "      <td>RS#:749846538</td>\n",
       "    </tr>\n",
       "    <tr>\n",
       "      <th>1</th>\n",
       "      <td>2</td>\n",
       "      <td>RS#:139209450</td>\n",
       "    </tr>\n",
       "    <tr>\n",
       "      <th>2</th>\n",
       "      <td>2</td>\n",
       "      <td>RS#:121908567</td>\n",
       "    </tr>\n",
       "    <tr>\n",
       "      <th>3</th>\n",
       "      <td>4</td>\n",
       "      <td>RS#:121909646</td>\n",
       "    </tr>\n",
       "    <tr>\n",
       "      <th>4</th>\n",
       "      <td>4</td>\n",
       "      <td>RS#:371769427</td>\n",
       "    </tr>\n",
       "  </tbody>\n",
       "</table>\n",
       "</div>"
      ],
      "text/plain": [
       "   ID           rsid\n",
       "0   2  RS#:749846538\n",
       "1   2  RS#:139209450\n",
       "2   2  RS#:121908567\n",
       "3   4  RS#:121909646\n",
       "4   4  RS#:371769427"
      ]
     },
     "execution_count": 193,
     "metadata": {},
     "output_type": "execute_result"
    }
   ],
   "source": [
    "df.head()"
   ]
  },
  {
   "cell_type": "code",
   "execution_count": 194,
   "metadata": {},
   "outputs": [
    {
     "data": {
      "text/plain": [
       "(4296, 2)"
      ]
     },
     "execution_count": 194,
     "metadata": {},
     "output_type": "execute_result"
    }
   ],
   "source": [
    "df.shape"
   ]
  },
  {
   "cell_type": "code",
   "execution_count": 195,
   "metadata": {
    "collapsed": true
   },
   "outputs": [],
   "source": [
    "df_compat = df[df.rsid.isin(rsid_list)]"
   ]
  },
  {
   "cell_type": "code",
   "execution_count": 196,
   "metadata": {},
   "outputs": [
    {
     "data": {
      "text/plain": [
       "(3868, 2)"
      ]
     },
     "execution_count": 196,
     "metadata": {},
     "output_type": "execute_result"
    }
   ],
   "source": [
    "df_compat.shape"
   ]
  },
  {
   "cell_type": "code",
   "execution_count": 197,
   "metadata": {},
   "outputs": [
    {
     "data": {
      "text/html": [
       "<div>\n",
       "<style>\n",
       "    .dataframe thead tr:only-child th {\n",
       "        text-align: right;\n",
       "    }\n",
       "\n",
       "    .dataframe thead th {\n",
       "        text-align: left;\n",
       "    }\n",
       "\n",
       "    .dataframe tbody tr th {\n",
       "        vertical-align: top;\n",
       "    }\n",
       "</style>\n",
       "<table border=\"1\" class=\"dataframe\">\n",
       "  <thead>\n",
       "    <tr style=\"text-align: right;\">\n",
       "      <th></th>\n",
       "      <th>ID</th>\n",
       "      <th>rsid</th>\n",
       "    </tr>\n",
       "  </thead>\n",
       "  <tbody>\n",
       "    <tr>\n",
       "      <th>0</th>\n",
       "      <td>2</td>\n",
       "      <td>RS#:749846538</td>\n",
       "    </tr>\n",
       "    <tr>\n",
       "      <th>1</th>\n",
       "      <td>2</td>\n",
       "      <td>RS#:139209450</td>\n",
       "    </tr>\n",
       "    <tr>\n",
       "      <th>2</th>\n",
       "      <td>2</td>\n",
       "      <td>RS#:121908567</td>\n",
       "    </tr>\n",
       "    <tr>\n",
       "      <th>3</th>\n",
       "      <td>4</td>\n",
       "      <td>RS#:121909646</td>\n",
       "    </tr>\n",
       "    <tr>\n",
       "      <th>4</th>\n",
       "      <td>4</td>\n",
       "      <td>RS#:371769427</td>\n",
       "    </tr>\n",
       "  </tbody>\n",
       "</table>\n",
       "</div>"
      ],
      "text/plain": [
       "   ID           rsid\n",
       "0   2  RS#:749846538\n",
       "1   2  RS#:139209450\n",
       "2   2  RS#:121908567\n",
       "3   4  RS#:121909646\n",
       "4   4  RS#:371769427"
      ]
     },
     "execution_count": 197,
     "metadata": {},
     "output_type": "execute_result"
    }
   ],
   "source": [
    "df_compat.head()"
   ]
  },
  {
   "cell_type": "code",
   "execution_count": 198,
   "metadata": {},
   "outputs": [
    {
     "data": {
      "text/plain": [
       "505"
      ]
     },
     "execution_count": 198,
     "metadata": {},
     "output_type": "execute_result"
    }
   ],
   "source": [
    "len(np.unique(df_compat['ID']))"
   ]
  },
  {
   "cell_type": "code",
   "execution_count": 199,
   "metadata": {},
   "outputs": [
    {
     "data": {
      "text/plain": [
       "291    52\n",
       "385    46\n",
       "283    44\n",
       "762    33\n",
       "901    31\n",
       "376    31\n",
       "194    31\n",
       "312    30\n",
       "196    30\n",
       "827    30\n",
       "139    30\n",
       "420    30\n",
       "223    30\n",
       "57     30\n",
       "219    28\n",
       "830    26\n",
       "187    24\n",
       "737    24\n",
       "887    24\n",
       "784    24\n",
       "265    24\n",
       "953    24\n",
       "942    24\n",
       "333    24\n",
       "52     24\n",
       "459    23\n",
       "497    22\n",
       "785    22\n",
       "816    22\n",
       "268    22\n",
       "       ..\n",
       "506     1\n",
       "617     1\n",
       "607     1\n",
       "424     1\n",
       "462     1\n",
       "342     1\n",
       "431     1\n",
       "253     1\n",
       "753     1\n",
       "825     1\n",
       "823     1\n",
       "809     1\n",
       "748     1\n",
       "746     1\n",
       "301     1\n",
       "230     1\n",
       "329     1\n",
       "765     1\n",
       "725     1\n",
       "387     1\n",
       "276     1\n",
       "698     1\n",
       "717     1\n",
       "674     1\n",
       "302     1\n",
       "703     1\n",
       "693     1\n",
       "351     1\n",
       "691     1\n",
       "960     1\n",
       "Name: ID, Length: 505, dtype: int64"
      ]
     },
     "execution_count": 199,
     "metadata": {},
     "output_type": "execute_result"
    }
   ],
   "source": [
    "pd.value_counts(df_compat['ID'])"
   ]
  },
  {
   "cell_type": "code",
   "execution_count": 200,
   "metadata": {},
   "outputs": [
    {
     "data": {
      "text/plain": [
       "986"
      ]
     },
     "execution_count": 200,
     "metadata": {},
     "output_type": "execute_result"
    }
   ],
   "source": [
    "len(test_rsid)"
   ]
  },
  {
   "cell_type": "code",
   "execution_count": 201,
   "metadata": {},
   "outputs": [
    {
     "name": "stderr",
     "output_type": "stream",
     "text": [
      "100%|██████████| 986/986 [00:00<00:00, 1123.02it/s]\n"
     ]
    }
   ],
   "source": [
    "test_id_list1 = []\n",
    "test_rsid_list1 = []\n",
    "for i in tqdm(range(len(test_rsid))):\n",
    "    l = []\n",
    "    test_id_list1.append(i+1)\n",
    "    for rsid in test_rsid[i]:\n",
    "        if rsid in rsid_list:\n",
    "            l.append(rsid)\n",
    "    if len(l) > 0:\n",
    "        el = random.choice(l)\n",
    "        test_rsid_list1.append(el)\n",
    "    else:\n",
    "        test_rsid_list1.append('None')    "
   ]
  },
  {
   "cell_type": "code",
   "execution_count": 202,
   "metadata": {},
   "outputs": [
    {
     "data": {
      "text/plain": [
       "986"
      ]
     },
     "execution_count": 202,
     "metadata": {},
     "output_type": "execute_result"
    }
   ],
   "source": [
    "len(test_id_list1)"
   ]
  },
  {
   "cell_type": "code",
   "execution_count": 203,
   "metadata": {},
   "outputs": [
    {
     "data": {
      "text/plain": [
       "986"
      ]
     },
     "execution_count": 203,
     "metadata": {},
     "output_type": "execute_result"
    }
   ],
   "source": [
    "len(test_rsid_list1)"
   ]
  },
  {
   "cell_type": "code",
   "execution_count": 204,
   "metadata": {
    "collapsed": true
   },
   "outputs": [],
   "source": [
    "df = pd.DataFrame()\n",
    "df['ID'] = test_id_list1\n",
    "df['rsid'] = test_rsid_list1"
   ]
  },
  {
   "cell_type": "code",
   "execution_count": 205,
   "metadata": {},
   "outputs": [
    {
     "data": {
      "text/html": [
       "<div>\n",
       "<style>\n",
       "    .dataframe thead tr:only-child th {\n",
       "        text-align: right;\n",
       "    }\n",
       "\n",
       "    .dataframe thead th {\n",
       "        text-align: left;\n",
       "    }\n",
       "\n",
       "    .dataframe tbody tr th {\n",
       "        vertical-align: top;\n",
       "    }\n",
       "</style>\n",
       "<table border=\"1\" class=\"dataframe\">\n",
       "  <thead>\n",
       "    <tr style=\"text-align: right;\">\n",
       "      <th></th>\n",
       "      <th>ID</th>\n",
       "      <th>rsid</th>\n",
       "    </tr>\n",
       "  </thead>\n",
       "  <tbody>\n",
       "    <tr>\n",
       "      <th>0</th>\n",
       "      <td>1</td>\n",
       "      <td>None</td>\n",
       "    </tr>\n",
       "    <tr>\n",
       "      <th>1</th>\n",
       "      <td>2</td>\n",
       "      <td>RS#:749846538</td>\n",
       "    </tr>\n",
       "    <tr>\n",
       "      <th>2</th>\n",
       "      <td>3</td>\n",
       "      <td>None</td>\n",
       "    </tr>\n",
       "    <tr>\n",
       "      <th>3</th>\n",
       "      <td>4</td>\n",
       "      <td>RS#:371769427</td>\n",
       "    </tr>\n",
       "    <tr>\n",
       "      <th>4</th>\n",
       "      <td>5</td>\n",
       "      <td>RS#:113488022</td>\n",
       "    </tr>\n",
       "  </tbody>\n",
       "</table>\n",
       "</div>"
      ],
      "text/plain": [
       "   ID           rsid\n",
       "0   1           None\n",
       "1   2  RS#:749846538\n",
       "2   3           None\n",
       "3   4  RS#:371769427\n",
       "4   5  RS#:113488022"
      ]
     },
     "execution_count": 205,
     "metadata": {},
     "output_type": "execute_result"
    }
   ],
   "source": [
    "df.head()"
   ]
  },
  {
   "cell_type": "code",
   "execution_count": 206,
   "metadata": {},
   "outputs": [
    {
     "data": {
      "text/plain": [
       "(986, 2)"
      ]
     },
     "execution_count": 206,
     "metadata": {},
     "output_type": "execute_result"
    }
   ],
   "source": [
    "df.shape"
   ]
  },
  {
   "cell_type": "code",
   "execution_count": 207,
   "metadata": {},
   "outputs": [
    {
     "data": {
      "text/plain": [
       "986"
      ]
     },
     "execution_count": 207,
     "metadata": {},
     "output_type": "execute_result"
    }
   ],
   "source": [
    "len(df.ID.unique())"
   ]
  },
  {
   "cell_type": "code",
   "execution_count": 208,
   "metadata": {
    "collapsed": true
   },
   "outputs": [],
   "source": [
    "test_stage2 = feather.read_dataframe('../cache/test_stage2.feather')"
   ]
  },
  {
   "cell_type": "code",
   "execution_count": 209,
   "metadata": {},
   "outputs": [
    {
     "data": {
      "text/plain": [
       "(986, 4)"
      ]
     },
     "execution_count": 209,
     "metadata": {},
     "output_type": "execute_result"
    }
   ],
   "source": [
    "test_stage2.shape"
   ]
  },
  {
   "cell_type": "code",
   "execution_count": 210,
   "metadata": {},
   "outputs": [
    {
     "data": {
      "text/html": [
       "<div>\n",
       "<style>\n",
       "    .dataframe thead tr:only-child th {\n",
       "        text-align: right;\n",
       "    }\n",
       "\n",
       "    .dataframe thead th {\n",
       "        text-align: left;\n",
       "    }\n",
       "\n",
       "    .dataframe tbody tr th {\n",
       "        vertical-align: top;\n",
       "    }\n",
       "</style>\n",
       "<table border=\"1\" class=\"dataframe\">\n",
       "  <thead>\n",
       "    <tr style=\"text-align: right;\">\n",
       "      <th></th>\n",
       "      <th>ID</th>\n",
       "      <th>Gene</th>\n",
       "      <th>Variation</th>\n",
       "      <th>Text</th>\n",
       "    </tr>\n",
       "  </thead>\n",
       "  <tbody>\n",
       "    <tr>\n",
       "      <th>981</th>\n",
       "      <td>982</td>\n",
       "      <td>TP63</td>\n",
       "      <td>S580P</td>\n",
       "      <td>IκB kinase β (IKKβ) is involved in tumor devel...</td>\n",
       "    </tr>\n",
       "    <tr>\n",
       "      <th>982</th>\n",
       "      <td>983</td>\n",
       "      <td>SCN4A</td>\n",
       "      <td>R672G</td>\n",
       "      <td>he identification of subtype-specific transloc...</td>\n",
       "    </tr>\n",
       "    <tr>\n",
       "      <th>983</th>\n",
       "      <td>984</td>\n",
       "      <td>BRAF</td>\n",
       "      <td>N581H</td>\n",
       "      <td>Cardio-facio-cutaneous (CFC) syndrome (MIM 115...</td>\n",
       "    </tr>\n",
       "    <tr>\n",
       "      <th>984</th>\n",
       "      <td>985</td>\n",
       "      <td>TSHR</td>\n",
       "      <td>S281N</td>\n",
       "      <td>Screening for tumor suppressor genes in breast...</td>\n",
       "    </tr>\n",
       "    <tr>\n",
       "      <th>985</th>\n",
       "      <td>986</td>\n",
       "      <td>ASS1</td>\n",
       "      <td>S180N</td>\n",
       "      <td>Histiocytic neoplasms are clonal, hematopoieti...</td>\n",
       "    </tr>\n",
       "  </tbody>\n",
       "</table>\n",
       "</div>"
      ],
      "text/plain": [
       "      ID   Gene Variation                                               Text\n",
       "981  982   TP63     S580P  IκB kinase β (IKKβ) is involved in tumor devel...\n",
       "982  983  SCN4A     R672G  he identification of subtype-specific transloc...\n",
       "983  984   BRAF     N581H  Cardio-facio-cutaneous (CFC) syndrome (MIM 115...\n",
       "984  985   TSHR     S281N  Screening for tumor suppressor genes in breast...\n",
       "985  986   ASS1     S180N  Histiocytic neoplasms are clonal, hematopoieti..."
      ]
     },
     "execution_count": 210,
     "metadata": {},
     "output_type": "execute_result"
    }
   ],
   "source": [
    "test_stage2.tail()"
   ]
  },
  {
   "cell_type": "code",
   "execution_count": 211,
   "metadata": {},
   "outputs": [
    {
     "data": {
      "text/html": [
       "<div>\n",
       "<style>\n",
       "    .dataframe thead tr:only-child th {\n",
       "        text-align: right;\n",
       "    }\n",
       "\n",
       "    .dataframe thead th {\n",
       "        text-align: left;\n",
       "    }\n",
       "\n",
       "    .dataframe tbody tr th {\n",
       "        vertical-align: top;\n",
       "    }\n",
       "</style>\n",
       "<table border=\"1\" class=\"dataframe\">\n",
       "  <thead>\n",
       "    <tr style=\"text-align: right;\">\n",
       "      <th></th>\n",
       "      <th>ID</th>\n",
       "      <th>rsid</th>\n",
       "    </tr>\n",
       "  </thead>\n",
       "  <tbody>\n",
       "    <tr>\n",
       "      <th>981</th>\n",
       "      <td>982</td>\n",
       "      <td>None</td>\n",
       "    </tr>\n",
       "    <tr>\n",
       "      <th>982</th>\n",
       "      <td>983</td>\n",
       "      <td>None</td>\n",
       "    </tr>\n",
       "    <tr>\n",
       "      <th>983</th>\n",
       "      <td>984</td>\n",
       "      <td>None</td>\n",
       "    </tr>\n",
       "    <tr>\n",
       "      <th>984</th>\n",
       "      <td>985</td>\n",
       "      <td>None</td>\n",
       "    </tr>\n",
       "    <tr>\n",
       "      <th>985</th>\n",
       "      <td>986</td>\n",
       "      <td>None</td>\n",
       "    </tr>\n",
       "  </tbody>\n",
       "</table>\n",
       "</div>"
      ],
      "text/plain": [
       "      ID  rsid\n",
       "981  982  None\n",
       "982  983  None\n",
       "983  984  None\n",
       "984  985  None\n",
       "985  986  None"
      ]
     },
     "execution_count": 211,
     "metadata": {},
     "output_type": "execute_result"
    }
   ],
   "source": [
    "df.tail()"
   ]
  },
  {
   "cell_type": "code",
   "execution_count": 212,
   "metadata": {
    "collapsed": true
   },
   "outputs": [],
   "source": [
    "test_stage2['rsid'] = df['rsid'].values"
   ]
  },
  {
   "cell_type": "code",
   "execution_count": 213,
   "metadata": {},
   "outputs": [
    {
     "data": {
      "text/html": [
       "<div>\n",
       "<style>\n",
       "    .dataframe thead tr:only-child th {\n",
       "        text-align: right;\n",
       "    }\n",
       "\n",
       "    .dataframe thead th {\n",
       "        text-align: left;\n",
       "    }\n",
       "\n",
       "    .dataframe tbody tr th {\n",
       "        vertical-align: top;\n",
       "    }\n",
       "</style>\n",
       "<table border=\"1\" class=\"dataframe\">\n",
       "  <thead>\n",
       "    <tr style=\"text-align: right;\">\n",
       "      <th></th>\n",
       "      <th>ID</th>\n",
       "      <th>Gene</th>\n",
       "      <th>Variation</th>\n",
       "      <th>Text</th>\n",
       "      <th>rsid</th>\n",
       "    </tr>\n",
       "  </thead>\n",
       "  <tbody>\n",
       "    <tr>\n",
       "      <th>0</th>\n",
       "      <td>1</td>\n",
       "      <td>CHEK2</td>\n",
       "      <td>H371Y</td>\n",
       "      <td>The incidence of breast cancer is increasing i...</td>\n",
       "      <td>None</td>\n",
       "    </tr>\n",
       "    <tr>\n",
       "      <th>1</th>\n",
       "      <td>2</td>\n",
       "      <td>AXIN2</td>\n",
       "      <td>Truncating Mutations</td>\n",
       "      <td>An unselected series of 310 colorectal carcino...</td>\n",
       "      <td>RS#:749846538</td>\n",
       "    </tr>\n",
       "    <tr>\n",
       "      <th>2</th>\n",
       "      <td>3</td>\n",
       "      <td>WNT4</td>\n",
       "      <td>E216G</td>\n",
       "      <td>Mycosis fungoides and Sézary syndrome are prim...</td>\n",
       "      <td>None</td>\n",
       "    </tr>\n",
       "    <tr>\n",
       "      <th>3</th>\n",
       "      <td>4</td>\n",
       "      <td>SUCLA2</td>\n",
       "      <td>G118R</td>\n",
       "      <td>Regulated progression through the cell cycle ...</td>\n",
       "      <td>RS#:371769427</td>\n",
       "    </tr>\n",
       "    <tr>\n",
       "      <th>4</th>\n",
       "      <td>5</td>\n",
       "      <td>BRAF</td>\n",
       "      <td>T599insTT</td>\n",
       "      <td>Pilocytic astrocytoma (PA) is emerging as a tu...</td>\n",
       "      <td>RS#:113488022</td>\n",
       "    </tr>\n",
       "  </tbody>\n",
       "</table>\n",
       "</div>"
      ],
      "text/plain": [
       "   ID    Gene             Variation  \\\n",
       "0   1   CHEK2                 H371Y   \n",
       "1   2   AXIN2  Truncating Mutations   \n",
       "2   3    WNT4                 E216G   \n",
       "3   4  SUCLA2                 G118R   \n",
       "4   5    BRAF             T599insTT   \n",
       "\n",
       "                                                Text           rsid  \n",
       "0  The incidence of breast cancer is increasing i...           None  \n",
       "1  An unselected series of 310 colorectal carcino...  RS#:749846538  \n",
       "2  Mycosis fungoides and Sézary syndrome are prim...           None  \n",
       "3   Regulated progression through the cell cycle ...  RS#:371769427  \n",
       "4  Pilocytic astrocytoma (PA) is emerging as a tu...  RS#:113488022  "
      ]
     },
     "execution_count": 213,
     "metadata": {},
     "output_type": "execute_result"
    }
   ],
   "source": [
    "test_stage2.head()"
   ]
  },
  {
   "cell_type": "code",
   "execution_count": 215,
   "metadata": {},
   "outputs": [
    {
     "data": {
      "text/plain": [
       "\"The incidence of breast cancer is increasing in China in recent decades, and familial breast cancer accounts for 5–10% of the total patients in Chinese women. Germline mutations in breast cancer susceptibility genes, BRCA1(MIM♯ 113705) and BRCA2(MIM♯ 600185), are responsible for only approximately 10% of Chinese breast cancer families [Liede and Narod, 2002]; other breast cancer susceptibility genes related to Chinese breast cancer families therefore remain to be identified.  CHEK2 (Cell-cycle-checkpoint kinase 2, also known as CHK2; MIM♯ 604373, NM_007194.3) is located on chromosome 22q and encodes a multifunctional kinase that plays an important role in cell cycle regulation, apoptosis, and DNA repair [Bartek et al., 2001]. The CHEK2 gene contains three distinct functional domains, the SQ/TQ-rich domain (residues 19–69), the forkhead-associated domain (residues 115–165), and the Serine/threonine kinase domain (residues 225–490) [Bartek et al., 2001]. CHEK2 is activated by the ataxia-telangiectasia mutated (ATM; MIM♯ 607585) protein in response to DNA damage. Phosphorylation at T68 in the SQ/TQ-rich domain of CHEK2 is likely to be an initiating event and it is a prerequisite for the subsequent activation step, which is followed by autophosphorylation of CHEK2 on residues T383 and T387 in the activation loop of the kinase domain [Bartek et al., 2001].  A previous study has demonstrated that CHEK2 is a moderate breast cancer susceptibility gene [Meijers-Heijboer et al., 2002]. A recurrent mutation, c.1100delC, which abolishes the kinase function of CHEK2, confers a twofold increased breast cancer risk in European women [Meijers-Heijboer et al., 2002; Weischer et al., 2008]. The germline mutations in CHEK2 gene have not been comprehensively investigated in Chinese women. A few studies with small sample sizes (less than 120 cases) screened mutations in exon 10 of CHEK2 in Chinese women with familial or early-onset breast cancer, the CHEK2 c.1100delC was not found in these studies [Chen et al., 2008; Song et al., 2006]. These preliminary studies suggest that, on account of the apparent low frequency of the CHEK2 c.1100delC in the Chinese women, little of the genetic risk of breast cancer in Chinese women is likely to be attributable to the CHEK2 c.1100delC mutation.  In the present study, we first screened the entire coding regions and exon–intron boundaries of CHEK2 in 118 Chinese women with familial breast cancer who do not carry mutations in BRCA1 and BRCA2 from northern China. A recurrent variant c.1111C>T (p.H371Y) in exon 10 of CHEK2 was identified in this cohort, and functional analysis suggested that the p.H371Y was a pathogenic mutation. We therefore further detected this mutation in 909 unselected breast cancer cases and 1228 healthy women. Our aim was to investigate whether CHEK2 p.H371Y mutation was associated with breast cancer risk in Chinese women.  Breast cancer patients were from the Breast Center, Peking University Cancer Hospital, from October 2003 to January 2007. Familial breast cancer was defined as at least two or more breast cancers in first- or second-degree relatives who were diagnosed prior to age 60 years. One hundred eighteen familial breast cancer cases were from 112 unrelated families; 909 unselected breast cancer cases were selected without consideration of cancer history. One thousand two hundred twenty-eight healthy women served as the controls. In our study both the cases and controls are Chinese women with Han nationality and reside in north China. Peripheral blood samples were collected from the patients and controls after written informed consent was obtained. This study was approved by the Research and Ethical Committee of Peking University Cancer Hospital.  Genomic DNA was extracted from leukocyte pellet by proteinase K digestion followed by phenol-chloroform extraction. Germline mutations in the entire coding regions and exon–intron boundaries of CHEK2 in 118 familial breast cancer patients without mutations in BRCA1 and BRCA2 were detected by polymerase chain reaction (PCR), followed by denaturing high-performance liquid chromatography (DHPLC) and sequencing. The CHEK2 gene was amplified using 14 sets of primers described elsewhere [Baysal et al., 2004; Dufault et al., 2004]. Because exon 10 of CHEK2 is present in multiple homologous copies in the genome, nested PCR procedure was performed to avoid amplification of pseudogene sequences [Sodha et al., 2000]. The p.H371Y mutant CHEK2 was generated using mutagenesis kit from Stratagene (La Jolla, CA) according to the manufacturer's instruction. Transfection, immunoblotting analysis, and in vitro kinase assay were performed essentially as described previously [Xu et al., 2002]. (The detailed methods are described in the Supp. Methods.)  In total, we detected six germline sequence alterations in CHEK2 in the 118 familial breast cancer cases (Supp. Table S1). Among them, c.1608A>G (p.P536P, rs17886242) and c.252A>G (p.E84E) have been reported previously and are likely to be neutral polymorphisms with no elevated risk of breast cancer [Bell et al., 1999; Schutte et al., 2003]. One case carried a novel synonymous c.1491T>C (p.D497D) variant not likely to be associated with disease; a c.538C>T (p.R180C) variant in exon 3 was found in one case; a previous study showed that the p.R180C variant is more abundant in the breast cancer cases than in the controls in Caucasian populations, but the difference does not reach a significance [Dufault et al., 2004]; c.1336–1338 del AAC in exon 11 results in p.N446del. This mutation is novel and was found in one case (Supp. Table S1). In addition, a recurrent variant c.1111C>T (p.H371Y) in exon 10 was found in five index cases (5/118, 4.24%) in this cohort (Supp. Fig. S1A and B and Supp. Table S1). Bioinformatic analysis suggested that the p.H371Y is likely to alter CHEK2 function, whereas p.N446del is unclassified (Supp. Fig. S1C). p.H371Y is within the activation loop of the kinase domain of the CHEK2 protein (Fig. 1A), and it was enriched in Chinese familial breast cancer cases without mutations in BRCA1 and BRCA2. The p.H371Y mutation is therefore highly interesting, and it may compromise the CHEK2 kinase activity.  Figure 1.  Figure 1.  Open in figure viewer Functional analysis of the CHEK2 p.H371Y mutation. A: Schematic diagram of the protein showing predicted functional domains and the site of the p.H371Y mutation. B: T68 phosphorylation of CHEK2 p.H371Y was weaker than that of wild-type CHEK2, kinase-defective mutant p.D347A serves as a negative control. C: Both autophosphorylation and transphosphorylation were impaired in p.H371Y. D: T68 phosphorylation of p.H371Y was compromised in response to DNA damage. U2OS cells stably transfected with HA-CHEK2, HA-CHEK2 p.H371Y, or a control vector were treated with ADM or ETO for 2\\u2009hr. To investigate whether the CHEK2 p.H371Y mutation influenced the efficacy of CHEK2 in response to DNA damage, we therefore first examined the phosphorylation of T68 in wild-type CHEK2 and p.H371Y mutant CHEK2 in an in vitro kinase assay using GST fusion proteins. A previously described kinase-defective mutant CHEK2 p.D347A serves as a negative control. CHEK2 T68 phosphorylation was detected by a phospho-specific antibody in wild-type CHEK2, but not in kinase-defective mutant CHEK2 p.D347A, whereas the p.H371Y mutant had only weak phosphorylation on T68 (Fig. 1B). We then examined CHEK2 autophosphorylation and activation using in vitro kinase assays with 32P-ATP. Kinase-defective CHEK2 p.D347A did not have any autophosphorylation activity or enzymatic activity against its substrate, CDC25C (MIM♯ 157680). The activity of autophosphorylation and transphosphorylation activity of the p.H371Y mutant CHEK2 was decreased by approximately 50% compared with the wild-type CHEK2 (Fig. 1C). Finally, we determined the phosphorylation status of T68 in response to adriamycin (ADM)- and etoposide (ETO)-induced DNA damage. U2OS cells were stably transfected with wild-type CHEK2, p.H371Y mutant, or a mock vector. Transfectants were exposed to the DNA damaging agent ADM or ETO for 2\\u2009hr. T68 phosphorylation of the p.H371Y mutant in response to ADM or ETO treatment was obviously reduced compared with wild-type CHEK2 (Fig. 1D). Taken together, the p.H371Y mutation partially reduces both phosphorylation of CHEK2 at the T68 site and CHEK2 kinase activity.  Functional analysis suggested that p.H371Y is likely to be pathogenic, so we therefore screened exon 10 of CHEK2 for mutations in 909 unselected breast cancer patients and 1228 healthy controls, the p.H371Y mutation was found in 16 of 909 unselected breast cancer cases and 9 of 1228 controls (Table 1). The frequencies of the p.H371Y in familial and unselected breast cancer patients and controls were 4.24%, 1.76%, and 0.73%, respectively (Table 1). Compared with controls, familial breast cancer cases that carried p.H371Y mutation had a nearly sixfold of relative risk to development of breast cancer (odds ratio [OR] 5.99, 95% confidence interval [CI] 1.98–18.19, P = 0.002) (Table 1). Furthermore, a significantly increased risk of breast cancer in unselected cases that carried the p.H371Y mutation was observed (OR 2.43, 95% CI 1.07–5.52, P = 0.034) (Table 1).  Table 1. Association of the p.H371Y and p.N446del Mutations of CHEK2 with Breast Cancer Risk Variant\\tTotal, n\\tFrequency, n (%)\\tOR (95% CI)\\tP OR, odds ratio; CI, confidence interval. p.H371Y  Controls\\t1,228\\t9 (0.73)\\t1.0 (ref.)\\t   Familial cases\\t118\\t5 (4.24)\\t5.99 (1.98–18.19)\\t0.002  Unselected cases\\t909\\t16 (1.76)\\t2.43 (1.07–5.52)\\t0.034 p.N446del  Controls\\t500\\t0\\t–\\t   Familial cases\\t118\\t1\\t–\\t0.191  Unselected cases\\t481\\t0\\t–\\t– We also screened the CHEK2 p.N446del in 481 unselected breast cancer cases and 500 healthy individuals. No p.N446del was found in these subjects, suggesting CHEK2 p.N446del is a rare mutation in Chinese women (Table 1).  The median age at diagnosis of familial breast cancer cases that carried the CHEK2 p.H371Y mutation was 41 years compared to 49 years in noncarriers in the cohort of 118 cases. p.H371Y mutation carriers tended to be diagnosed at an earlier age than did noncarriers, but the difference did not reach a significance (P = 0.42).  Segregation analysis of the CHEK2 p.H371Y mutation was tested in two of the families but was not sufficiently informative to draw meaningful conclusion because of a lack of DNA samples from suitable family members (Supp. Fig. S2A and B). In the remaining three families, the analysis was restricted only to the index individual who initially displayed the p.H371Y mutation (data not shown).  To test whether loss of heterozygosity (LOH) of CHEK2 (deletion of the wild-type allele) had occurred in the tumors of the five familial breast cancer cases that carried the heterozygous p.H371Y mutation, genomic DNA extracted from blood cells and tumor tissues from the four cases was analyzed. The existence of the p.H371Y mutation was confirmed in all tumors, whereas no reproducible evidence of LOH was ever observed.  We have demonstrated that p.H371Y, a recurrent missense mutation in CHEK2, is associated with an increased breast cancer risk in Chinese women. The p.H371Y amino acid change is within the activation loop of the CHEK2 kinase domain, which is essential for activation of CHEK2 in response to DNA damage [Cai et al., 2009]. Our in vitro experimental studies indicated that the p.H371Y mutation resulted in decreased kinase activity of CHEK2 by at least 50% compared with wild-type CHEK2; this mutation may therefore encodes protein with attenuated, rather than complete loss of function. Furthermore, LOH was not involved in p.H371Y mutation-associated tumorigenesis in the present study. These results suggested that CHEK2 p.H371Y-associated tumorigenesis may be through CHEK2 haploinsufficiency, which supports the notion that missense mutation with partial loss of function may contribute to tumorigenesis via haploinsufficiency [Sodha et al., 2006].  In this study, the CHEK2 p.H371Y mutation was found in 4.24% of familial breast cancer cases that are negative for BRCA1/2 mutations, compared with its frequency of 0.73% in the healthy controls, indicating that it confers an increased risk of breast cancer. In addition, the low frequency of CHEK2 p.H371Y mutation in unselected cases (1.76%) suggested that the risk of breast cancer conferred by this mutation is modest. The increased breast cancer risk conferred by CHEK2 p.H371Y is similar to that of CHEK2 c.1100delC in other populations. We also noted that all unselected cases were only screened for p.H371Y. The possible involvement of others, potentially disease-related CHEK2 mutations, in these cases cannot be ruled out.  The p.H371Y mutation had never been reported in other populations, and was only previously reported in Chinese women in a relatively small sample size [Chen et al., 2008; Song et al., 2006]. The p.H371Y mutation is nearby the previous deleterious mutation CHEK2 c.1100delC; however, c.1100delC was not detected among the breast cancer cases and healthy individuals (total 2,255 subjects) in the current study, indicating that the CHEK2 c.1100delC mutation is absent or quite infrequent in Chinese women. It is not surprising that the variants of CHEK2 vary among populations [Narod and Lynch, 2007].  Approximately 150,000 new breast cancer cases are diagnosed in China annually [Cao et al., 2010]. Given the huge number of new breast cancer cases in China, the finding that the CHEK2 p.H371Y mutation confers a moderate risk of breast cancer in Chinese women is interesting; it could identify approximately 0.7% Chinese women at modestly increased risk of breast cancer at the population level. As this mutation may exist in other ethnic groups, it would be of great interest to study this mutation in other populations.  Background  Our previous study suggested that the recurrent CHEK2 H371Y mutation is a novel pathogenic mutation that confers an increased risk of breast cancer. The purpose of this study was to investigate whether breast cancer patients with CHEK2 H371Y mutation were more likely to respond to neoadjuvant chemotherapy.  Methods  We screened a cohort of 2334 Chinese women with operable primary breast cancer who received a neoadjuvant chemotherapy regimen for CHEK2 H371Y germline mutations. Pathologic complete response (pCR) was defined as the absence of tumor cells in the breast after the completion of neoadjuvant chemotherapy.  Results  Thirty-nine patients (1.7%) with CHEK2 H371Y germline mutation were identified in this cohort of 2334 patients. CHEK2 H371Y mutation carriers had a significantly higher pCR rate than non-carriers (33.3% versus 19.5%, P\\u2009=\\u20090.031) in the entire study population, and CHEK2 H371Y mutation-positive status remained an independent favorable predictor of pCR in a multivariate analysis (odds ratio [OR]\\u2009=\\u20093.01; 95% confidence interval [CI]: 1.34- 6.78, P\\u2009=\\u20090.008). CHEK2 H371Y carriers had a slightly worse distant recurrence-free survival than non-carriers (adjusted hazard ratio [HR] =1.24, 95% CI: 0.59-2.63).  Conclusions  CHEK2 H371Y mutation carriers are more likely to respond to neoadjuvant chemotherapy than are non-carriers.  Go to: Background CHEK2 (Cell-cycle-checkpoint kinase 2, also known as CHK2) encodes a multifunctional kinase that is activated mainly by the ataxia-telangiectasia mutated (ATM) protein in response to DNA double-strand breaks [1-4]. Activated CHEK2 in turn phosphorylates several critical cell-cycle proteins, including p53, Cdc25 and BRCA1, which trigger cell-cycle arrest, apoptosis, and the activation of DNA repair [5-7].  Numerous studies have demonstrated that CHEK2 is a moderate breast cancer susceptibility gene [8-12]. CHEK2 1100delC, a truncating mutation that abrogates the kinase activity of the protein, confers an approximately 2-fold increase in breast cancer risk [8,13-15]. However, the prevalence of CHEK2 1100delC mutation varies widely among ethnic groups [8,11,16-19]. The mutation is mostly found in the Dutch population [8,20], and it is absent or very rare in other populations [16-19]. We previously screened 2255 Chinese women (1027 breast cancer cases and 1228 healthy controls) for CHEK2 1100delC and failed to find this mutation in this population. However, a novel recurrent CHEK2 mutation near the CHEK2 1100delC mutation, CHEK2 1111C\\u2009>\\u2009T (H371Y), was found in Chinese women [21]. CHEK2 H371Y is within the activation loop of the CHEK2 protein kinase domain, which is essential for the activation of CHEK2 in response to DNA damage. Functional analysis reveals that the CHEK2 H371Y mutation produces a dramatic decline in CHEK2 activity and is a pathogenic mutation [21]. CHEK2 H371Y confers a 2.43-fold increase in breast cancer risk in Chinese women.  The disruption of CHEK2 kinase activity may not only contribute to breast cancer development but also influence breast cancer survival or response to the adjuvant therapy. Two studies have suggested that the CHEK2 1100delC mutation is associated with poor recurrence-free survival in breast cancer [22,23], indicating that patients with CHEK2 1100delC mutation have an aggressive phenotype.  No previous studies have investigated the association between CHEK2 germline mutation and response to neoadjuvant chemotherapy in breast cancer. Therefore, in the current study, we investigated whether CHEK2 H371Y mutation carriers are more likely to respond to neoadjuvant chemotherapy in terms of pathologic complete response (pCR) in a large cohort of 2334 breast cancer patients who received neoadjuvant chemotherapy and further explored the association between CHEK2 H371Y mutation status and distant recurrence-free survival (DRFS).  Go to: Methods Study population  A total of 2382 operable primary breast cancer patients with stage I-III were treated with neoadjuvant chemotherapy at the Breast Center of Peking University Cancer Hospital from October 2003 to December 2010. The mean age of the subjects was 47.6 years (range, 22–75 years). Tumor stage was classified according to the tumor-node-metastasis classification of the Union Internationale Contre le Cancer. Tumor size was defined as the maximum tumor diameter measured on the mammogram and/or ultrasonogram at the time of diagnosis. The tumors were graded according to the modified Bloom-Richardson system. Written consent was obtained from all subjects. This study was approved by the Research and Ethical Committee of Peking University Cancer Hospital.  CHEK2 H371Y germline mutations  Peripheral blood samples were collected from all patients. Genomic DNA was extracted from the leukocyte pellet by proteinase K digestion followed by phenol-chloroform extraction. The CHEK2 H371Y mutation was detected by polymerase chain reaction (PCR) followed by denaturing high-performance liquid chromatography (DHPLC) and sequencing or directed sequencing as described previously [21]. We screened all 2382 patients for the germline CHEK2 H371Y mutation. CHEK2 H371Y status was not readable for 46 patients, and 41 of the 2336 patients were found to carry the mutation. We then screened these 41 CHEK2 H371Y mutation carriers for germline mutations in BRCA1/2; two patients also carried a BRCA2 germline mutation and were excluded from this study. Therefore, 2334 patients, 39 of whom were CHEK2 H371Y carriers, were included in the final analysis in the current study.  Estrogen receptor (ER), progesterone receptor (PR), and HER2 status  ER, PR, and HER2 status were determined in the core-needle biopsy breast cancer tissue obtained before the initiation of neoadjuvant chemotherapy as described previously [24].  Neoadjuvant chemotherapy regimens  Among the 2334 patients who received neoadjuvant chemotherapy, 94% received 4–8 cycles. Treatments were categorized in three subgroups as follows:  859 patients received an anthracycline-based regimen. The detail of the regimens are described previously [24]. Of these, 537 patients received a CTF regimen; 247 patients received an FEC regimen; 59 patients received a CAF regimen; the remaining 16 patients received other types of anthracycline regimens. 882 patients received an anthracycline-taxane containing regimen. Of these, 682 patients received two cycles of anthracycline followed by 4 cycles of paclitaxel alone (80 mg/m2 IV once per week for 12 weeks) or paclitaxel plus carboplatin (paclitaxel 175 mg/m2 IV on day 1 or paclitaxel 60 mg/m2 IV on day 1, day 8, and day 15, and carboplatin AUC 6 IV on day 1 every three weeks); 181 patients received 4 cycles of paclitaxel alone or docetaxel plus cyclophosphamide (docetaxel 75 mg/m2 IV on day 1 and cyclophosphamide 600 mg/m2 IV on day 1 every three weeks), followed by 2 to 4 cycles of anthracyclines. The remaining 19 patients received other types of anthracycline/taxane containing regimens, i.e., a TE regimen (docetaxel plus epirubicin) or TAC regimen (docetaxel, doxorubicin, and cyclophosphamide). 593 patients received a taxane-based regimen without anthracyclines. Of these, 494 patients received 4 cycles of paclitaxel (80 mg/m2 IV once a week for 12 weeks); 76 patients received paclitaxel plus carboplatin (paclitaxel 60 mg/m2 IV on day 1, day 8, and day 15, and carboplatin AUC 6 IV on day 1 every three weeks). The remaining 23 patients received docetaxel plus cyclophosphamide (docetaxel 75 mg/m2 IV on day 1 and cyclophosphamide 600 mg/m2 IV on day 1 every three weeks). In this cohort of 2334 patients, 108 patients received intravenous trastuzumab in combination with neoadjuvant chemotherapy.  After completion of neoadjuvant chemotherapy, patients were treated with mastectomy (n\\u2009=\\u20091351) or breast-conserving surgery (n\\u2009=\\u2009983) depending on the tumor size, presence of multiple lesions or patient preference. pCR was defined as the absence of invasive breast cancer cells in the breast after the completion of neoadjuvant chemotherapy [25,26].  Sixty-two percent of patients received adjuvant chemotherapy with the same or alternative regimens after operation; patients with axially positive lymph nodes and/or breast-conserving therapy received radiotherapy; patients with ER and/or PR-positive disease received endocrine therapy (20 mg/d tamoxifen for 5 years or 1 mg/d anastrozole for 5 years).  Statistical analysis  The differences in clinicopathological characteristics between CHEK2 H371Y carriers and non-carriers were determined by Pearson’s chi-squared test. The associations between CHEK2 H371Y mutation status, clinicopathologic characteristics, and pathological response to neoadjuvant chemotherapy were determined by Pearson’s chi-squared test or Fisher’s exact test when the number of patients was small. A logistic regression model was applied to determine whether a factor was an independent predictor of pCR in a multivariate analysis. Distant recurrence-free survival (DRFS) was defined as the time from the date of diagnosis to first distant recurrence (not including second primary malignancies) or death from breast cancer without a recorded relapse. Survival curves were derived from Kaplan–Meier estimates and compared using log-rank tests. All statistical tests were two-sided, and P values <0.05 were considered statistically significant. The statistical analyses were performed using SPSS 16.0 software (Chicago, IL, USA).  Go to: Results Patient and tumor characteristics  In this cohort of 2334 patients, 39 women carried a CHEK2 H371Y mutation (39/2334, 1.7%). Since the primers used in this study covered the CHEK2 1100delC mutation, none CHEK2 1100delC was found in the current study. The clinicopathological characteristics and chemotherapy regimens of each group are presented in Table 1. No significant differences were found between CHEK2 H371Y carriers and non-carriers with regard to tumor size, lymph node status, ER or PR status, chemotherapy regimens, surgery type, tumor grade, and pathological type (Table 1). However, CHEK2 carriers were more likely to be diagnosed at or before age of 50 as compared with non-carriers (P\\u2009=\\u20090.036, Table 1), and CHEK2 carriers were less likely to be HER2-positive (15.4%) than non-carriers (30.8%) (P\\u2009=\\u20090.038, Table 1).  Table 1 Table 1 Association of patient/tumor characteristics with CHEK2 H371Y mutation status Response to neoadjuvant chemotherapy in CHEK2 carriers and non-carriers  Overall, 460 patients (19.7%) achieved a pCR after neoadjuvant chemotherapy. The pCR rate was 33.3% (13/39) for CHEK2 H371Y mutation carriers and 19.5% (447/2295) for non-carriers (Table 2), indicating that CHEK2 carriers had a significantly higher pCR rate than did non-carriers (P\\u2009=\\u20090.031; Table 2). In a univariate analysis, other factors associated with improved pCR rates were ER negativity (P\\u2009<\\u20090.001), PR negativity (P\\u2009<\\u20090.001), HER2 positivity (P\\u2009<\\u20090.001), tumor size ≤2 cm (P\\u2009<\\u20090.001), negative lymph nodes (P\\u2009<\\u20090.001), and high tumor grade (P\\u2009<\\u20090.001). The pCR rate was significantly higher in patients who received trastuzumab (43.5%) in combination with neoadjuvant chemotherapy compared with patients who did not (18.6%; P\\u2009<\\u20090.001) (Table 2).  Table 2 Table 2 pCR Rates by clinical characteristics In the multivariate logistic regression model, CHEK2 H371Y mutation-positive status (odds ratio [OR]\\u2009=\\u20093.01; 95% confidence interval [CI]:, 1.34 to 6.78; P =0.008), high tumor grade (OR\\u2009=\\u20092.28; 95% CI: 1.71 to 3.03; P\\u2009<\\u20090.001), tumor size less than 2 cm (OR\\u2009=\\u20091.76; 95% CI: 1.38 to 2.24; P\\u2009=\\u2009<0.001), negative lymph nodes (OR\\u2009=\\u20092.10; 95% CI: 1.63 to 2.71; P\\u2009<\\u20090.001), ER-negativity (OR\\u2009=\\u20091.99; 95% CI, 1.48 to 2.67; P\\u2009<\\u20090.001), PR-negativity (OR\\u2009=\\u20091.65; 95% CI: 1.21 to 2.26; P\\u2009=\\u20090.002), and concurrent trastuzumab use (OR\\u2009=\\u20092.42; 95% CI: 1.47 to 3.99; P\\u2009=\\u20090.001) were independent significant predictors of pCR (Table 3).  Table 3 Table 3 Multivariate logistic regression model for pathological complete response In the anthracycline-treated subgroup, CHEK2 mutation carriers had a higher pCR rate than non-carriers (27.8% vs 18.3%), but this was not statistically significant (P\\u2009=\\u20090.35). In the anthracycline/taxane-treated subgroup, CHEK2 mutation carriers showed a significantly higher pCR rate than non-carriers (50.0% vs 19.7%; P\\u2009=\\u20090.032). In the taxane-treated subgroup, CHEK2 mutation carriers also had a higher pCR rate than non-carriers (27.3% vs 20.8%), but this was not statistically significant (P\\u2009=\\u20090.71) (Table 4).  Table 4 Table 4 Association of CHEK2 H371Y with pathological response according to neoadjuvant treatment regimens Survival estimates  Follow-up data were available for all patients, and the median follow-up time was 38 months (range 1 to 104 months). A total of 258 patients (11.1%) experienced a distant metastases or died of breast cancer during the follow-up period. The estimated 5-year distant recurrence-free survival (DRFS) rate for the entire study population was 84.9% (95% CI: 82.9% to 86.9%). Patients who achieved a pCR had a significantly better 5-year DRFS rate than patients who did not (93.5% vs 82.6%, P\\u2009<\\u20090.001) (Figure 1A). CHEK2 H371Y mutation carriers had a slightly worse DRFS than did non-carriers (adjusted hazard ratio [HR] =1.24, 95% CI: 0.59-2.63), but the difference did not reach significance (P\\u2009=\\u20090.57) (Figure 1B). We then stratified the CHEK2 carriers and non-carriers by pCR status. The 5-year DRFS rates for CHEK2 carriers with or without pCR were 100.0% and 81.2%, respectively, whereas the 5-year DRFS rates for non-carriers with or without pCR were 93.6% and 82.7%, respectively (Figure 1C). Patients who achieved a pCR had a better DRFS than who did not in both CHEK2 mutation carriers and non-carriers (P\\u2009<\\u20090.001). However, CHEK2 carriers without a pCR exhibited the worst DRFS in the four subgroups (Figure 1C).  Figure 1 Figure 1 Kaplan-Meier Estimates of distant recurrence-free survival by pCR andCHEK2H371Y mutation status in 2334 breast cancer patients who received neoadjuvant chemotherapy. Distant recurrence-free survival by pCR status (A); Distant recurrence-free survival ... Go to: Discussion In our previous study, we identified a novel recurrent CHEK2 H371Y mutation in Chinese women, and this mutation decreases CHEK2 activity and confers an approximately 2.4-fold increase in breast cancer risk [21]. In the present study, we investigated the association between CHEK2 H371Y and pathologic response in 2334 women who received neoadjuvant chemotherapy. To the best of our knowledge, this is the first study to report that CHEK2 H371Y mutation carriers are more likely to respond to neoadjuvant chemotherapy than are non-carriers and that the H371Y mutation status was an independent favorable predictor of pCR in a multivariate analysis.  In the subgroup analyses, CHEK2 H371Y mutation carriers had a higher pCR rate than did non-carriers in both neoadjuvant anthracycline-based regimens and taxane-based regimens, although the difference did not reach statistical significance. However, the CHEK2 mutation carriers had a significantly higher pCR than did non-carriers among the subgroup of women who received neoadjuvant anthracycline/taxane-containing regimen.  CHEK2 is involved in various DNA damage responses, including cell-cycle checkpoints, genome maintenance, DNA repair and apoptosis [27]. Anthracyclines induce double-strand DNA breaks [28,29], the repair of which is impaired in the deficiency of CHEK2 protein [21,30,31]. Tumor cells that express mutated CHEK2 347 exhibited a 2-to 4-fold increase in apoptosis upon treatment with adrimycin [6]. CHEK2 kinase activity is also required for proper mitotic spindle assembly and chromosome stability [32], and CHEK2 deficient lymphoma cells are more sensitive to taxol [33]. In line with these findings, our results suggested that CHEK2 H371Y was sensitive to both anthracycline and taxane.  Previous studies showed that breast cancer patients with the CHEK2 1100delC mutation had a worse disease-free survival than did patients without this mutation [22,23]. One recent study suggested that breast cancer patients with CHEK2 1100delC mutation had a worse survival beyond 6 years after diagnosis than did non-carriers [34]. In the current study, CHEK2 H371Y carriers showed a slightly poorer DRFS than non-carriers in the entire study cohort with 5-years, it is worth to investigate the survival impact of the CHEK2 H371Y mutation in a long-term follow-up. However, CHEK2 carriers or non-carriers who achieved a pCR had a significant better DRFS than those who did not, whereas CHEK2 H371Y carriers who did not reach a pCR had the worst DRFS in the four subgroups. Although CHEK2 H371Y carriers were more likely to respond to neoadjuvant chemotherapy, only small subset of mutation carriers achieved a pCR, the majority of CHEK2 H371Y carriers who did not reach a pCR might have a particularly aggressive phenotype.  Germline BRCA1 mutation carriers are sensitive to anthracycline or cisplatin neoadjuvant chemotherapy [35-37]; Byrski et al. recently reported that BRCA1 mutation carriers are extremely sensitive to cisplatin-based neoadjuvant chemotherapy (pCR rate 61%, 65 out of 107 patients) [38]. CHEK2 H371Y mutation may share some similarity to BRCA1 mutation, therefore, an interest issue is to see whether CHEK2 H371Y mutation carriers are responsive to cisplatin. Recent clinical trials showed that BRCA1 mutation carriers are sensitive to poly (ADP-ribose) polymerase (PARP) inhibitors [39,40]. In vitro studies suggested that tumor cells with silenced CHEK2 expression showed an increased sensitivity to the PARP 1 inhibitor [33,41]. Therefore, CHEK2 H371Y mutation carriers may be potential candidates for treatment with PARP1 inhibitors.  Although the entire study population is large, the number of individuals with CHEK2 H371Y is relatively small; particularly when the mutation carriers were stratified in several treatment groups, therefore, the results are premature and should be interpreted cautiously.  Nevertheless, our study suggests that patients with a deficiency of CHEK2 activity due to germline mutation, like H371Y, are sensitive to neoadjuvant chemotherapy. It would be of great interest to explore whether other CHEK2 germline mutations (i.e., CHEK2 1100delC) are similarly responsive to neoadjuvant chemotherapy.  Go to: Conclusions Our results suggest that CHEK2 H371Y mutation carriers are more likely to respond to neoadjuvant chemotherapy than are non-carriers. In addition, CHEK2 H371Y mutation may share some similarity to BRCA1 mutation, therefore, CHEK2 H371Y mutation carriers may be potential candidates for treatment with PARP1 inhibitors.  Go to: Acknowledgements This study was supported by the 973 project 2013CB911004; program for Breast Cancer Tissue Bank of Beijing, and grants from the National Natural Science Foundation of China (No. 30973436, No. 81071629 and No. 81202107).  Go to: Abbreviations A\\tAnthracycline ATM\\tAtaxia-telangiectasia mutated BCS\\tBreast-conserving surgery CHEK2\\tCell-cycle-checkpoint kinase 2 CI\\tConfidence interval DHPLC\\tDenaturing high-performance liquid chromatography ER\\tEstrogen receptor FISH\\tfluorescence in situ hybridization HER2\\tHuman epidermal growth factor receptor-2 HR\\tHazard ratio IHC\\tImmunohistochemistry OR\\tOdds ratio PARP\\tPoly(ADP-ribose) polymerase pCR\\tPathologic complete response PgR\\tProgesterone receptor RFS\\tRecurrence-free survival T\\tTaxane\""
      ]
     },
     "execution_count": 215,
     "metadata": {},
     "output_type": "execute_result"
    }
   ],
   "source": [
    "test_stage2.loc[0].Text"
   ]
  },
  {
   "cell_type": "code",
   "execution_count": 223,
   "metadata": {},
   "outputs": [],
   "source": [
    "# by hand from the demo  page\n",
    "test_stage2.loc[0, 'rsid'] = 'RS#:17886242'"
   ]
  },
  {
   "cell_type": "code",
   "execution_count": 224,
   "metadata": {},
   "outputs": [
    {
     "data": {
      "text/html": [
       "<div>\n",
       "<style>\n",
       "    .dataframe thead tr:only-child th {\n",
       "        text-align: right;\n",
       "    }\n",
       "\n",
       "    .dataframe thead th {\n",
       "        text-align: left;\n",
       "    }\n",
       "\n",
       "    .dataframe tbody tr th {\n",
       "        vertical-align: top;\n",
       "    }\n",
       "</style>\n",
       "<table border=\"1\" class=\"dataframe\">\n",
       "  <thead>\n",
       "    <tr style=\"text-align: right;\">\n",
       "      <th></th>\n",
       "      <th>ID</th>\n",
       "      <th>Gene</th>\n",
       "      <th>Variation</th>\n",
       "      <th>Text</th>\n",
       "      <th>rsid</th>\n",
       "    </tr>\n",
       "  </thead>\n",
       "  <tbody>\n",
       "    <tr>\n",
       "      <th>0</th>\n",
       "      <td>1</td>\n",
       "      <td>CHEK2</td>\n",
       "      <td>H371Y</td>\n",
       "      <td>The incidence of breast cancer is increasing i...</td>\n",
       "      <td>RS#:17886242</td>\n",
       "    </tr>\n",
       "    <tr>\n",
       "      <th>1</th>\n",
       "      <td>2</td>\n",
       "      <td>AXIN2</td>\n",
       "      <td>Truncating Mutations</td>\n",
       "      <td>An unselected series of 310 colorectal carcino...</td>\n",
       "      <td>RS#:749846538</td>\n",
       "    </tr>\n",
       "    <tr>\n",
       "      <th>2</th>\n",
       "      <td>3</td>\n",
       "      <td>WNT4</td>\n",
       "      <td>E216G</td>\n",
       "      <td>Mycosis fungoides and Sézary syndrome are prim...</td>\n",
       "      <td>None</td>\n",
       "    </tr>\n",
       "    <tr>\n",
       "      <th>3</th>\n",
       "      <td>4</td>\n",
       "      <td>SUCLA2</td>\n",
       "      <td>G118R</td>\n",
       "      <td>Regulated progression through the cell cycle ...</td>\n",
       "      <td>RS#:371769427</td>\n",
       "    </tr>\n",
       "    <tr>\n",
       "      <th>4</th>\n",
       "      <td>5</td>\n",
       "      <td>BRAF</td>\n",
       "      <td>T599insTT</td>\n",
       "      <td>Pilocytic astrocytoma (PA) is emerging as a tu...</td>\n",
       "      <td>RS#:113488022</td>\n",
       "    </tr>\n",
       "  </tbody>\n",
       "</table>\n",
       "</div>"
      ],
      "text/plain": [
       "   ID    Gene             Variation  \\\n",
       "0   1   CHEK2                 H371Y   \n",
       "1   2   AXIN2  Truncating Mutations   \n",
       "2   3    WNT4                 E216G   \n",
       "3   4  SUCLA2                 G118R   \n",
       "4   5    BRAF             T599insTT   \n",
       "\n",
       "                                                Text           rsid  \n",
       "0  The incidence of breast cancer is increasing i...   RS#:17886242  \n",
       "1  An unselected series of 310 colorectal carcino...  RS#:749846538  \n",
       "2  Mycosis fungoides and Sézary syndrome are prim...           None  \n",
       "3   Regulated progression through the cell cycle ...  RS#:371769427  \n",
       "4  Pilocytic astrocytoma (PA) is emerging as a tu...  RS#:113488022  "
      ]
     },
     "execution_count": 224,
     "metadata": {},
     "output_type": "execute_result"
    }
   ],
   "source": [
    "test_stage2.head()"
   ]
  },
  {
   "cell_type": "code",
   "execution_count": 225,
   "metadata": {
    "collapsed": true
   },
   "outputs": [],
   "source": [
    "feather.write_dataframe(test_stage2, '../cache/test1_stage2.feather')"
   ]
  },
  {
   "cell_type": "code",
   "execution_count": null,
   "metadata": {
    "collapsed": true
   },
   "outputs": [],
   "source": []
  }
 ],
 "metadata": {
  "kernelspec": {
   "display_name": "Python 3",
   "language": "python",
   "name": "python3"
  },
  "language_info": {
   "codemirror_mode": {
    "name": "ipython",
    "version": 3
   },
   "file_extension": ".py",
   "mimetype": "text/x-python",
   "name": "python",
   "nbconvert_exporter": "python",
   "pygments_lexer": "ipython3",
   "version": "3.6.1"
  }
 },
 "nbformat": 4,
 "nbformat_minor": 2
}
