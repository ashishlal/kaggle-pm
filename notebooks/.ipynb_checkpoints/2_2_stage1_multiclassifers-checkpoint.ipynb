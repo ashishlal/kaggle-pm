{
 "cells": [
  {
   "cell_type": "code",
   "execution_count": 2,
   "metadata": {},
   "outputs": [
    {
     "name": "stderr",
     "output_type": "stream",
     "text": [
      "/home/watts/anaconda2/envs/aind-dog/lib/python3.6/site-packages/sklearn/cross_validation.py:41: DeprecationWarning: This module was deprecated in version 0.18 in favor of the model_selection module into which all the refactored classes and functions are moved. Also note that the interface of the new CV iterators are different from that of this module. This module will be removed in 0.20.\n",
      "  \"This module will be removed in 0.20.\", DeprecationWarning)\n",
      "/home/watts/anaconda2/envs/aind-dog/lib/python3.6/site-packages/sklearn/grid_search.py:42: DeprecationWarning: This module was deprecated in version 0.18 in favor of the model_selection module into which all the refactored classes and functions are moved. This module will be removed in 0.20.\n",
      "  DeprecationWarning)\n"
     ]
    }
   ],
   "source": [
    "import re\n",
    "import numpy as np\n",
    "import pandas as pd\n",
    "import feather\n",
    "import xgboost as xgb\n",
    "import feather\n",
    "from sklearn.multiclass import OneVsRestClassifier\n",
    "from sklearn.multiclass import OneVsOneClassifier\n",
    "from sklearn.multiclass import OutputCodeClassifier\n",
    "  \n",
    "from sklearn.metrics import precision_score\n",
    "from sklearn.metrics import recall_score\n",
    "  \n",
    "from sklearn.svm import LinearSVC\n",
    "from sklearn.naive_bayes import MultinomialNB\n",
    "from sklearn.linear_model import (LinearRegression, Lasso, ElasticNet, Ridge,\n",
    "                                  Perceptron)\n",
    "from sklearn.tree import DecisionTreeClassifier\n",
    "from sklearn.grid_search import GridSearchCV\n",
    "from sklearn import svm\n",
    "from sklearn.linear_model import Perceptron\n",
    "from sklearn.naive_bayes import MultinomialNB\n",
    "\n",
    "from sklearn.utils.testing import assert_array_equal\n",
    "from sklearn.utils.testing import assert_equal\n",
    "from sklearn.utils.testing import assert_almost_equal\n",
    "from sklearn.utils.testing import assert_true\n",
    "from sklearn.utils.testing import assert_false\n",
    "from sklearn.utils.testing import assert_raises\n",
    "  \n",
    "from sklearn.utils.testing import assert_greater\n",
    "import pickle"
   ]
  },
  {
   "cell_type": "code",
   "execution_count": 3,
   "metadata": {
    "collapsed": true
   },
   "outputs": [],
   "source": [
    "\n",
    "def save_classifier(fname, clf):\n",
    "    # save the classifier\n",
    "    with open(fname, 'wb') as fid:\n",
    "        pickle.dump(clf, fid)\n",
    "\n",
    "def load_classifier(fname):\n",
    "    # load it again\n",
    "    with open(fname, 'rb') as fid:\n",
    "        clf = pickle.load(fid)\n",
    "        return clf"
   ]
  },
  {
   "cell_type": "code",
   "execution_count": 4,
   "metadata": {},
   "outputs": [],
   "source": [
    "df_train = np.load('../cache/train_stage1_fe2.npy')"
   ]
  },
  {
   "cell_type": "code",
   "execution_count": 5,
   "metadata": {
    "collapsed": true
   },
   "outputs": [],
   "source": [
    "df_test = np.load('../cache/test_stage1_fe2.npy')"
   ]
  },
  {
   "cell_type": "code",
   "execution_count": 7,
   "metadata": {},
   "outputs": [],
   "source": [
    "df = pd.read_csv('../cache/stage1_labels.csv')"
   ]
  },
  {
   "cell_type": "code",
   "execution_count": 8,
   "metadata": {},
   "outputs": [
    {
     "data": {
      "text/html": [
       "<div>\n",
       "<style>\n",
       "    .dataframe thead tr:only-child th {\n",
       "        text-align: right;\n",
       "    }\n",
       "\n",
       "    .dataframe thead th {\n",
       "        text-align: left;\n",
       "    }\n",
       "\n",
       "    .dataframe tbody tr th {\n",
       "        vertical-align: top;\n",
       "    }\n",
       "</style>\n",
       "<table border=\"1\" class=\"dataframe\">\n",
       "  <thead>\n",
       "    <tr style=\"text-align: right;\">\n",
       "      <th></th>\n",
       "      <th>y</th>\n",
       "    </tr>\n",
       "  </thead>\n",
       "  <tbody>\n",
       "    <tr>\n",
       "      <th>0</th>\n",
       "      <td>0</td>\n",
       "    </tr>\n",
       "    <tr>\n",
       "      <th>1</th>\n",
       "      <td>1</td>\n",
       "    </tr>\n",
       "    <tr>\n",
       "      <th>2</th>\n",
       "      <td>1</td>\n",
       "    </tr>\n",
       "    <tr>\n",
       "      <th>3</th>\n",
       "      <td>2</td>\n",
       "    </tr>\n",
       "    <tr>\n",
       "      <th>4</th>\n",
       "      <td>3</td>\n",
       "    </tr>\n",
       "  </tbody>\n",
       "</table>\n",
       "</div>"
      ],
      "text/plain": [
       "   y\n",
       "0  0\n",
       "1  1\n",
       "2  1\n",
       "3  2\n",
       "4  3"
      ]
     },
     "execution_count": 8,
     "metadata": {},
     "output_type": "execute_result"
    }
   ],
   "source": [
    "df.head()"
   ]
  },
  {
   "cell_type": "code",
   "execution_count": null,
   "metadata": {
    "collapsed": true
   },
   "outputs": [],
   "source": []
  },
  {
   "cell_type": "code",
   "execution_count": null,
   "metadata": {},
   "outputs": [],
   "source": [
    "# def test_ovo_gridsearch():\n",
    "ovo = OneVsOneClassifier(LinearSVC(random_state=0))\n",
    "Cs = [0.1, 0.5, 0.8]\n",
    "cv = GridSearchCV(ovo, {'estimator__C': Cs})\n",
    "cv.fit(df_train, df['y'].values)\n",
    "best_C = cv.best_estimator_.estimators_[0].C\n",
    "assert_true(best_C in Cs)\n"
   ]
  },
  {
   "cell_type": "code",
   "execution_count": null,
   "metadata": {},
   "outputs": [],
   "source": [
    "test_preds = cv.predict(df_test)\n",
    "print(test_preds)"
   ]
  },
  {
   "cell_type": "code",
   "execution_count": null,
   "metadata": {
    "collapsed": true
   },
   "outputs": [],
   "source": [
    "df = pd.DataFrame()\n",
    "df['Class1'] =0\n",
    "df['Class2'] =0\n",
    "df['Class3'] =0\n",
    "df['Class4'] =0\n",
    "df['Class5'] =0\n",
    "df['Class6'] =0\n",
    "df['Class7'] =0\n",
    "df['Class8'] =0\n",
    "df['Class9'] =0"
   ]
  },
  {
   "cell_type": "code",
   "execution_count": null,
   "metadata": {
    "collapsed": true
   },
   "outputs": [],
   "source": [
    "df['Class1'] = [1 if i == 0 else 0 for i in test_preds]\n",
    "df['Class2'] = [1 if i == 1 else 0 for i in test_preds]\n",
    "df['Class3'] = [1 if i == 2 else 0 for i in test_preds]\n",
    "df['Class4'] = [1 if i == 3 else 0 for i in test_preds]\n",
    "df['Class5'] = [1 if i == 4 else 0 for i in test_preds]\n",
    "df['Class6'] = [1 if i == 5 else 0 for i in test_preds]\n",
    "df['Class7'] = [1 if i == 6 else 0 for i in test_preds]\n",
    "df['Class8'] = [1 if i == 7 else 0 for i in test_preds]\n",
    "df['Class9'] = [1 if i == 8 else 0 for i in test_preds]"
   ]
  },
  {
   "cell_type": "code",
   "execution_count": null,
   "metadata": {},
   "outputs": [],
   "source": [
    "df.head()"
   ]
  },
  {
   "cell_type": "code",
   "execution_count": null,
   "metadata": {
    "collapsed": true
   },
   "outputs": [],
   "source": [
    "df1 = pd.read_csv('../cache/stage1_test_id.csv')"
   ]
  },
  {
   "cell_type": "code",
   "execution_count": null,
   "metadata": {},
   "outputs": [],
   "source": [
    "df1.head()"
   ]
  },
  {
   "cell_type": "code",
   "execution_count": null,
   "metadata": {
    "collapsed": true
   },
   "outputs": [],
   "source": [
    "df['ID'] = df1['ID'].values"
   ]
  },
  {
   "cell_type": "code",
   "execution_count": null,
   "metadata": {
    "collapsed": true
   },
   "outputs": [],
   "source": [
    "df.to_csv('../submissions/sub_stage1_svc_one_on_one.csv', index=None)\n"
   ]
  },
  {
   "cell_type": "code",
   "execution_count": null,
   "metadata": {
    "collapsed": true
   },
   "outputs": [],
   "source": [
    "df_target = pd.read_csv('../cache/stage1_labels.csv')"
   ]
  },
  {
   "cell_type": "code",
   "execution_count": null,
   "metadata": {},
   "outputs": [],
   "source": [
    "clf = OneVsRestClassifier(svm.SVR()).fit(df_train, df_target['y'].values)\n",
    "Y_pred = clf.predict(df_test)\n",
    "# Y_proba = clf.predict_proba(df_test)"
   ]
  },
  {
   "cell_type": "code",
   "execution_count": null,
   "metadata": {
    "collapsed": true
   },
   "outputs": [],
   "source": [
    "save_classifier('../cache/stage1_svm_svr_clf.pkl', clf)"
   ]
  },
  {
   "cell_type": "code",
   "execution_count": null,
   "metadata": {},
   "outputs": [],
   "source": [
    "print(Y_pred)"
   ]
  },
  {
   "cell_type": "code",
   "execution_count": null,
   "metadata": {
    "collapsed": true
   },
   "outputs": [],
   "source": [
    "df = pd.DataFrame()\n",
    "df['Class1'] =0\n",
    "df['Class2'] =0\n",
    "df['Class3'] =0\n",
    "df['Class4'] =0\n",
    "df['Class5'] =0\n",
    "df['Class6'] =0\n",
    "df['Class7'] =0\n",
    "df['Class8'] =0\n",
    "df['Class9'] =0\n",
    "\n",
    "df['Class1'] = [1 if i == 0 else 0 for i in Y_pred]\n",
    "df['Class2'] = [1 if i == 1 else 0 for i in Y_pred]\n",
    "df['Class3'] = [1 if i == 2 else 0 for i in Y_pred]\n",
    "df['Class4'] = [1 if i == 3 else 0 for i in Y_pred]\n",
    "df['Class5'] = [1 if i == 4 else 0 for i in Y_pred]\n",
    "df['Class6'] = [1 if i == 5 else 0 for i in Y_pred]\n",
    "df['Class7'] = [1 if i == 6 else 0 for i in Y_pred]\n",
    "df['Class8'] = [1 if i == 7 else 0 for i in Y_pred]\n",
    "df['Class9'] = [1 if i == 8 else 0 for i in Y_pred]"
   ]
  },
  {
   "cell_type": "code",
   "execution_count": null,
   "metadata": {
    "collapsed": true
   },
   "outputs": [],
   "source": [
    "df['ID'] = df1['ID'].values"
   ]
  },
  {
   "cell_type": "code",
   "execution_count": null,
   "metadata": {
    "collapsed": true
   },
   "outputs": [],
   "source": [
    "df.to_csv('../submissions/stage1_sub_svm_one_vs_rest.csv', index=None)"
   ]
  },
  {
   "cell_type": "code",
   "execution_count": null,
   "metadata": {
    "collapsed": true
   },
   "outputs": [],
   "source": [
    "# 33.15722 on stage2 private leaderboard, 2.11461 on stage2 public leaderboard"
   ]
  },
  {
   "cell_type": "code",
   "execution_count": null,
   "metadata": {
    "collapsed": true
   },
   "outputs": [],
   "source": []
  },
  {
   "cell_type": "code",
   "execution_count": null,
   "metadata": {
    "collapsed": true
   },
   "outputs": [],
   "source": [
    "df = pd.read_csv('../cache/stage1_labels.csv')"
   ]
  },
  {
   "cell_type": "code",
   "execution_count": null,
   "metadata": {
    "collapsed": true
   },
   "outputs": [],
   "source": [
    "Y = df['y'].values"
   ]
  },
  {
   "cell_type": "code",
   "execution_count": null,
   "metadata": {},
   "outputs": [],
   "source": [
    "multi_clf = OneVsOneClassifier(Perceptron())\n",
    "ovo_prediction = multi_clf.fit(df_train, Y).predict(df_test)\n"
   ]
  },
  {
   "cell_type": "code",
   "execution_count": null,
   "metadata": {},
   "outputs": [],
   "source": [
    "print(ovo_prediction)"
   ]
  },
  {
   "cell_type": "code",
   "execution_count": null,
   "metadata": {
    "collapsed": true
   },
   "outputs": [],
   "source": [
    "# very bad, won't submit"
   ]
  },
  {
   "cell_type": "code",
   "execution_count": null,
   "metadata": {
    "collapsed": true
   },
   "outputs": [],
   "source": []
  },
  {
   "cell_type": "code",
   "execution_count": null,
   "metadata": {
    "collapsed": true
   },
   "outputs": [],
   "source": [
    "ovo = OneVsOneClassifier(MultinomialNB())\n",
    "Y_pred =ovo.fit(abs(df_train), Y).predict(df_test)"
   ]
  },
  {
   "cell_type": "code",
   "execution_count": null,
   "metadata": {
    "collapsed": true
   },
   "outputs": [],
   "source": [
    "df = pd.DataFrame()\n",
    "df['Class1'] =0\n",
    "df['Class2'] =0\n",
    "df['Class3'] =0\n",
    "df['Class4'] =0\n",
    "df['Class5'] =0\n",
    "df['Class6'] =0\n",
    "df['Class7'] =0\n",
    "df['Class8'] =0\n",
    "df['Class9'] =0\n",
    "\n",
    "df['Class1'] = [1 if i == 0 else 0 for i in Y_pred]\n",
    "df['Class2'] = [1 if i == 1 else 0 for i in Y_pred]\n",
    "df['Class3'] = [1 if i == 2 else 0 for i in Y_pred]\n",
    "df['Class4'] = [1 if i == 3 else 0 for i in Y_pred]\n",
    "df['Class5'] = [1 if i == 4 else 0 for i in Y_pred]\n",
    "df['Class6'] = [1 if i == 5 else 0 for i in Y_pred]\n",
    "df['Class7'] = [1 if i == 6 else 0 for i in Y_pred]\n",
    "df['Class8'] = [1 if i == 7 else 0 for i in Y_pred]\n",
    "df['Class9'] = [1 if i == 8 else 0 for i in Y_pred]\n",
    "\n",
    "df['ID'] = df1['ID'].values\n",
    "df.to_csv('../submissions/sub_stage1_nb_one_on_one.csv', index=None)"
   ]
  },
  {
   "cell_type": "code",
   "execution_count": null,
   "metadata": {
    "collapsed": true
   },
   "outputs": [],
   "source": []
  }
 ],
 "metadata": {
  "kernelspec": {
   "display_name": "Python 3",
   "language": "python",
   "name": "python3"
  },
  "language_info": {
   "codemirror_mode": {
    "name": "ipython",
    "version": 3
   },
   "file_extension": ".py",
   "mimetype": "text/x-python",
   "name": "python",
   "nbconvert_exporter": "python",
   "pygments_lexer": "ipython3",
   "version": "3.6.1"
  }
 },
 "nbformat": 4,
 "nbformat_minor": 2
}
