{
 "cells": [
  {
   "cell_type": "code",
   "execution_count": 1,
   "metadata": {
    "collapsed": true
   },
   "outputs": [],
   "source": [
    "import sys\n",
    "sys.path.insert(0,'/home/watts/Software')"
   ]
  },
  {
   "cell_type": "code",
   "execution_count": 2,
   "metadata": {},
   "outputs": [
    {
     "name": "stderr",
     "output_type": "stream",
     "text": [
      "/home/watts/anaconda2/envs/biop/lib/python3.6/site-packages/sklearn/cross_validation.py:41: DeprecationWarning: This module was deprecated in version 0.18 in favor of the model_selection module into which all the refactored classes and functions are moved. Also note that the interface of the new CV iterators are different from that of this module. This module will be removed in 0.20.\n",
      "  \"This module will be removed in 0.20.\", DeprecationWarning)\n",
      "/home/watts/anaconda2/envs/biop/lib/python3.6/site-packages/sklearn/grid_search.py:42: DeprecationWarning: This module was deprecated in version 0.18 in favor of the model_selection module into which all the refactored classes and functions are moved. This module will be removed in 0.20.\n",
      "  DeprecationWarning)\n"
     ]
    }
   ],
   "source": [
    "import re\n",
    "import numpy as np\n",
    "import pandas as pd\n",
    "import feather\n",
    "import xgboost as xgb\n",
    "import feather\n",
    "\n",
    "from sklearn.model_selection import train_test_split\n",
    "from sklearn.metrics import log_loss, confusion_matrix, f1_score, accuracy_score\n",
    "\n",
    "from sklearn.cross_validation import *\n",
    "from sklearn.grid_search import GridSearchCV\n",
    "\n",
    "from sklearn.ensemble import RandomForestClassifier\n",
    "from sklearn.multioutput import MultiOutputClassifier\n",
    "\n",
    "from sklearn.utils import shuffle\n",
    "\n",
    "import pickle"
   ]
  },
  {
   "cell_type": "code",
   "execution_count": 3,
   "metadata": {
    "collapsed": true
   },
   "outputs": [],
   "source": [
    "\n",
    "def save_classifier(fname, clf):\n",
    "    # save the classifier\n",
    "    with open(fname, 'wb') as fid:\n",
    "        pickle.dump(clf, fid)\n",
    "\n",
    "def load_classifier(fname):\n",
    "    # load it again\n",
    "    with open(fname, 'rb') as fid:\n",
    "        clf = pickle.load(fid)\n",
    "        return clf"
   ]
  },
  {
   "cell_type": "code",
   "execution_count": 4,
   "metadata": {
    "collapsed": true
   },
   "outputs": [],
   "source": [
    "df_train = np.load('../cache/train_stage2_fe2.npy')\n",
    "df1 = pd.read_csv('../cache/stage2_labels.csv')\n",
    "y = df1['y'].values\n",
    "\n",
    "df_test = np.load('../cache/test_stage2_fe2.npy')\n",
    "df = pd.read_csv('../cache/stage2_test_id.csv')\n",
    "pid = df.ID.values"
   ]
  },
  {
   "cell_type": "code",
   "execution_count": 5,
   "metadata": {},
   "outputs": [
    {
     "data": {
      "text/plain": [
       "986"
      ]
     },
     "execution_count": 5,
     "metadata": {},
     "output_type": "execute_result"
    }
   ],
   "source": [
    "len(pid)"
   ]
  },
  {
   "cell_type": "code",
   "execution_count": 6,
   "metadata": {},
   "outputs": [
    {
     "data": {
      "text/plain": [
       "(22044, 3318)"
      ]
     },
     "execution_count": 6,
     "metadata": {},
     "output_type": "execute_result"
    }
   ],
   "source": [
    "df_train.shape"
   ]
  },
  {
   "cell_type": "code",
   "execution_count": 7,
   "metadata": {},
   "outputs": [
    {
     "data": {
      "text/plain": [
       "(986, 3318)"
      ]
     },
     "execution_count": 7,
     "metadata": {},
     "output_type": "execute_result"
    }
   ],
   "source": [
    "df_test.shape"
   ]
  },
  {
   "cell_type": "code",
   "execution_count": 8,
   "metadata": {
    "collapsed": true
   },
   "outputs": [],
   "source": [
    "# y = y - 1 #fix for zero bound array"
   ]
  },
  {
   "cell_type": "code",
   "execution_count": 9,
   "metadata": {},
   "outputs": [
    {
     "name": "stdout",
     "output_type": "stream",
     "text": [
      "(22044,)\n"
     ]
    }
   ],
   "source": [
    "print(y.shape)"
   ]
  },
  {
   "cell_type": "code",
   "execution_count": 10,
   "metadata": {},
   "outputs": [
    {
     "data": {
      "text/plain": [
       "array([1, 2, 3, 4, 5, 6, 7, 8, 9])"
      ]
     },
     "execution_count": 10,
     "metadata": {},
     "output_type": "execute_result"
    }
   ],
   "source": [
    "np.unique(y)"
   ]
  },
  {
   "cell_type": "code",
   "execution_count": 11,
   "metadata": {},
   "outputs": [
    {
     "name": "stdout",
     "output_type": "stream",
     "text": [
      "{1: 4.572507552870091, 2: 6.407630522088353, 3: 37.427083333333336, 4: 3.912117177097204, 5: 12.816479400749063, 6: 11.42087542087542, 7: 2.5, 8: 174.66666666666666, 9: 84.79069767441861}\n"
     ]
    }
   ],
   "source": [
    "wts_per_class = np.load('../cache/stage2_train_weights_per_class.npy')\n",
    "wts_per_class = wts_per_class.tolist()\n",
    "print(wts_per_class)"
   ]
  },
  {
   "cell_type": "code",
   "execution_count": 12,
   "metadata": {
    "collapsed": true
   },
   "outputs": [],
   "source": [
    "param_grid = { \n",
    "    'n_estimators': [50, 200, 700],\n",
    "    'max_features': ['auto', 'sqrt', 'log2']\n",
    "}\n",
    "\n",
    "model_RF = RandomForestClassifier(random_state=0, class_weight='balanced')\n",
    "clf = GridSearchCV(model_RF, param_grid=param_grid, scoring='neg_log_loss',cv=5,n_jobs=4)\n",
    "clf.fit(df_train, y)\n",
    "fname = '../cache/rf_multi_clf.pkl'\n",
    "save_classifier(fname, clf)"
   ]
  },
  {
   "cell_type": "code",
   "execution_count": 13,
   "metadata": {},
   "outputs": [
    {
     "name": "stdout",
     "output_type": "stream",
     "text": [
      "-2.087599363704987\n",
      "{'max_features': 'auto', 'n_estimators': 700}\n"
     ]
    }
   ],
   "source": [
    "print(clf.best_score_)\n",
    "print(clf.best_params_)\n",
    "\n",
    "# with my calculated weights\n",
    "# -1.5031283568737968\n",
    "# {'max_features': 'log2', 'n_estimators': 700}\n",
    "\n",
    "# with balanced weights\n",
    "# -1.4858419408875922\n",
    "# {'max_features': 'auto', 'n_estimators': 700}"
   ]
  },
  {
   "cell_type": "code",
   "execution_count": 14,
   "metadata": {
    "collapsed": true
   },
   "outputs": [],
   "source": [
    "pred_proba = clf.predict_proba(df_test)"
   ]
  },
  {
   "cell_type": "code",
   "execution_count": 15,
   "metadata": {
    "collapsed": true
   },
   "outputs": [],
   "source": [
    "pred_proba = pred_proba.clip(min=0.05, max=0.95)"
   ]
  },
  {
   "cell_type": "code",
   "execution_count": 16,
   "metadata": {},
   "outputs": [
    {
     "name": "stdout",
     "output_type": "stream",
     "text": [
      "(986, 9)\n"
     ]
    }
   ],
   "source": [
    "print(pred_proba.shape)"
   ]
  },
  {
   "cell_type": "code",
   "execution_count": 17,
   "metadata": {
    "collapsed": true
   },
   "outputs": [],
   "source": [
    "n_classes = np.unique(y)"
   ]
  },
  {
   "cell_type": "code",
   "execution_count": 18,
   "metadata": {
    "collapsed": true
   },
   "outputs": [],
   "source": [
    "df = pd.DataFrame(pred_proba)\n",
    "l = []\n",
    "for cls in range(len(n_classes)):\n",
    "    l.append('class'+str(cls+1))\n",
    "df.columns = l"
   ]
  },
  {
   "cell_type": "code",
   "execution_count": 19,
   "metadata": {},
   "outputs": [
    {
     "data": {
      "text/plain": [
       "(986, 9)"
      ]
     },
     "execution_count": 19,
     "metadata": {},
     "output_type": "execute_result"
    }
   ],
   "source": [
    "df.shape"
   ]
  },
  {
   "cell_type": "code",
   "execution_count": 20,
   "metadata": {
    "collapsed": true
   },
   "outputs": [],
   "source": [
    "df['ID'] = pid"
   ]
  },
  {
   "cell_type": "code",
   "execution_count": 21,
   "metadata": {},
   "outputs": [
    {
     "data": {
      "text/html": [
       "<div>\n",
       "<style>\n",
       "    .dataframe thead tr:only-child th {\n",
       "        text-align: right;\n",
       "    }\n",
       "\n",
       "    .dataframe thead th {\n",
       "        text-align: left;\n",
       "    }\n",
       "\n",
       "    .dataframe tbody tr th {\n",
       "        vertical-align: top;\n",
       "    }\n",
       "</style>\n",
       "<table border=\"1\" class=\"dataframe\">\n",
       "  <thead>\n",
       "    <tr style=\"text-align: right;\">\n",
       "      <th></th>\n",
       "      <th>class1</th>\n",
       "      <th>class2</th>\n",
       "      <th>class3</th>\n",
       "      <th>class4</th>\n",
       "      <th>class5</th>\n",
       "      <th>class6</th>\n",
       "      <th>class7</th>\n",
       "      <th>class8</th>\n",
       "      <th>class9</th>\n",
       "      <th>ID</th>\n",
       "    </tr>\n",
       "  </thead>\n",
       "  <tbody>\n",
       "    <tr>\n",
       "      <th>0</th>\n",
       "      <td>0.184286</td>\n",
       "      <td>0.172857</td>\n",
       "      <td>0.05</td>\n",
       "      <td>0.188571</td>\n",
       "      <td>0.05</td>\n",
       "      <td>0.050000</td>\n",
       "      <td>0.314286</td>\n",
       "      <td>0.05</td>\n",
       "      <td>0.05</td>\n",
       "      <td>1</td>\n",
       "    </tr>\n",
       "    <tr>\n",
       "      <th>1</th>\n",
       "      <td>0.434286</td>\n",
       "      <td>0.117143</td>\n",
       "      <td>0.05</td>\n",
       "      <td>0.142857</td>\n",
       "      <td>0.05</td>\n",
       "      <td>0.050000</td>\n",
       "      <td>0.188571</td>\n",
       "      <td>0.05</td>\n",
       "      <td>0.05</td>\n",
       "      <td>2</td>\n",
       "    </tr>\n",
       "    <tr>\n",
       "      <th>2</th>\n",
       "      <td>0.181429</td>\n",
       "      <td>0.190000</td>\n",
       "      <td>0.05</td>\n",
       "      <td>0.180000</td>\n",
       "      <td>0.05</td>\n",
       "      <td>0.055714</td>\n",
       "      <td>0.295714</td>\n",
       "      <td>0.05</td>\n",
       "      <td>0.05</td>\n",
       "      <td>3</td>\n",
       "    </tr>\n",
       "    <tr>\n",
       "      <th>3</th>\n",
       "      <td>0.174286</td>\n",
       "      <td>0.161429</td>\n",
       "      <td>0.05</td>\n",
       "      <td>0.205714</td>\n",
       "      <td>0.05</td>\n",
       "      <td>0.050000</td>\n",
       "      <td>0.300000</td>\n",
       "      <td>0.05</td>\n",
       "      <td>0.05</td>\n",
       "      <td>4</td>\n",
       "    </tr>\n",
       "    <tr>\n",
       "      <th>4</th>\n",
       "      <td>0.164286</td>\n",
       "      <td>0.202857</td>\n",
       "      <td>0.05</td>\n",
       "      <td>0.147143</td>\n",
       "      <td>0.05</td>\n",
       "      <td>0.067143</td>\n",
       "      <td>0.324286</td>\n",
       "      <td>0.05</td>\n",
       "      <td>0.05</td>\n",
       "      <td>5</td>\n",
       "    </tr>\n",
       "  </tbody>\n",
       "</table>\n",
       "</div>"
      ],
      "text/plain": [
       "     class1    class2  class3    class4  class5    class6    class7  class8  \\\n",
       "0  0.184286  0.172857    0.05  0.188571    0.05  0.050000  0.314286    0.05   \n",
       "1  0.434286  0.117143    0.05  0.142857    0.05  0.050000  0.188571    0.05   \n",
       "2  0.181429  0.190000    0.05  0.180000    0.05  0.055714  0.295714    0.05   \n",
       "3  0.174286  0.161429    0.05  0.205714    0.05  0.050000  0.300000    0.05   \n",
       "4  0.164286  0.202857    0.05  0.147143    0.05  0.067143  0.324286    0.05   \n",
       "\n",
       "   class9  ID  \n",
       "0    0.05   1  \n",
       "1    0.05   2  \n",
       "2    0.05   3  \n",
       "3    0.05   4  \n",
       "4    0.05   5  "
      ]
     },
     "execution_count": 21,
     "metadata": {},
     "output_type": "execute_result"
    }
   ],
   "source": [
    "df.head()"
   ]
  },
  {
   "cell_type": "code",
   "execution_count": 22,
   "metadata": {
    "collapsed": true
   },
   "outputs": [],
   "source": [
    "# df.to_csv('../submissions/sub_stage2_mop_rf.csv', index=False)\n",
    "# scored 2.60615 on stage2 private LB and 1.61225 on stage2 public LB with weights\n",
    "\n",
    "\n",
    "df.to_csv('../submissions/sub_stage2_wt_rf.csv', index=False)\n",
    "# 2.20910 on stage2 private LB, 1.58565 on stag2 public LB"
   ]
  },
  {
   "cell_type": "code",
   "execution_count": 23,
   "metadata": {
    "collapsed": true
   },
   "outputs": [],
   "source": [
    "df1 = pd.DataFrame()\n",
    "df1['ID'] = pid\n",
    "df1.to_csv('../cache/test_id.csv', index=False)"
   ]
  },
  {
   "cell_type": "code",
   "execution_count": 24,
   "metadata": {
    "collapsed": true
   },
   "outputs": [],
   "source": [
    "df = pd.DataFrame()\n",
    "df['y'] = y\n",
    "df.to_csv('../cache/train_stage2_labels.csv', index=False)"
   ]
  },
  {
   "cell_type": "code",
   "execution_count": 25,
   "metadata": {
    "collapsed": true
   },
   "outputs": [],
   "source": [
    "X = df_train\n",
    "Y = y\n",
    "Z = df_test\n"
   ]
  },
  {
   "cell_type": "code",
   "execution_count": 29,
   "metadata": {},
   "outputs": [
    {
     "data": {
      "text/plain": [
       "(22044, 1)"
      ]
     },
     "execution_count": 29,
     "metadata": {},
     "output_type": "execute_result"
    }
   ],
   "source": [
    "df.shape"
   ]
  },
  {
   "cell_type": "code",
   "execution_count": 30,
   "metadata": {
    "collapsed": true
   },
   "outputs": [],
   "source": [
    "x1 = np.load('../cache/train_stage2_x1.npy')\n",
    "x2 = np.load('../cache/train_stage2_x2.npy')\n",
    "y1 = np.load('../cache/train_stage2_y1.npy')\n",
    "y2 = np.load('../cache/train_stage2_y2.npy')"
   ]
  },
  {
   "cell_type": "code",
   "execution_count": 31,
   "metadata": {},
   "outputs": [
    {
     "data": {
      "text/plain": [
       "4    1190\n",
       "7     962\n",
       "1     718\n",
       "2     492\n",
       "5     429\n",
       "6     396\n",
       "3     163\n",
       "9      38\n",
       "8      21\n",
       "dtype: int64"
      ]
     },
     "execution_count": 31,
     "metadata": {},
     "output_type": "execute_result"
    }
   ],
   "source": [
    "pd.value_counts(y2)"
   ]
  },
  {
   "cell_type": "code",
   "execution_count": 32,
   "metadata": {},
   "outputs": [
    {
     "data": {
      "text/plain": [
       "(4409,)"
      ]
     },
     "execution_count": 32,
     "metadata": {},
     "output_type": "execute_result"
    }
   ],
   "source": [
    "y2.shape"
   ]
  },
  {
   "cell_type": "code",
   "execution_count": 33,
   "metadata": {},
   "outputs": [
    {
     "data": {
      "text/plain": [
       "0.16089747832417764"
      ]
     },
     "execution_count": 33,
     "metadata": {},
     "output_type": "execute_result"
    }
   ],
   "source": [
    "(2 * (221/738) *0.11)/((221/738) + 0.11) "
   ]
  },
  {
   "cell_type": "code",
   "execution_count": 34,
   "metadata": {
    "collapsed": true
   },
   "outputs": [],
   "source": [
    "w1 = np.array([wts_per_class[j] for j in y1], )\n",
    "w2 = np.array([wts_per_class[j] for j in y2], )\n",
    "\n",
    "clf1 = RandomForestClassifier(random_state=0, max_features='auto', n_estimators=700, class_weight='balanced')\n",
    "\n"
   ]
  },
  {
   "cell_type": "code",
   "execution_count": 35,
   "metadata": {},
   "outputs": [
    {
     "data": {
      "text/plain": [
       "RandomForestClassifier(bootstrap=True, class_weight='balanced',\n",
       "            criterion='gini', max_depth=None, max_features='auto',\n",
       "            max_leaf_nodes=None, min_impurity_decrease=0.0,\n",
       "            min_impurity_split=None, min_samples_leaf=1,\n",
       "            min_samples_split=2, min_weight_fraction_leaf=0.0,\n",
       "            n_estimators=700, n_jobs=1, oob_score=False, random_state=0,\n",
       "            verbose=0, warm_start=False)"
      ]
     },
     "execution_count": 35,
     "metadata": {},
     "output_type": "execute_result"
    }
   ],
   "source": [
    "clf1.fit(x1, y1)\n"
   ]
  },
  {
   "cell_type": "code",
   "execution_count": 36,
   "metadata": {},
   "outputs": [
    {
     "name": "stdout",
     "output_type": "stream",
     "text": [
      "[[ 0.          0.          0.         ...,  1.          0.          0.        ]\n",
      " [ 0.          1.          0.         ...,  0.          0.          0.        ]\n",
      " [ 0.01571429  0.01714286  0.         ...,  0.93142857  0.00142857  0.        ]\n",
      " ..., \n",
      " [ 1.          0.          0.         ...,  0.          0.          0.        ]\n",
      " [ 0.          1.          0.         ...,  0.          0.          0.        ]\n",
      " [ 0.          0.01        0.         ...,  0.          0.          0.        ]]\n"
     ]
    }
   ],
   "source": [
    "test_preds = clf1.predict_proba(x2)\n",
    "print(test_preds)"
   ]
  },
  {
   "cell_type": "code",
   "execution_count": 37,
   "metadata": {},
   "outputs": [
    {
     "name": "stdout",
     "output_type": "stream",
     "text": [
      "final multi_log_loss: 0.1188800416775195\n",
      "final f1_score: 0.9682467679745974\n",
      "final accuracy: 0.9682467679745974\n",
      "[[ 687    1    2    7    4    3   14    0    0]\n",
      " [   1  452    0    0    0    0   39    0    0]\n",
      " [   1    0  160    0    0    0    2    0    0]\n",
      " [  11    0    1 1159    0    1   18    0    0]\n",
      " [   3    1    0    1  415    6    3    0    0]\n",
      " [   0    1    0    1    1  388    5    0    0]\n",
      " [   0    6    3    0    3    0  950    0    0]\n",
      " [   0    0    0    0    0    0    0   20    1]\n",
      " [   0    0    0    0    0    0    0    0   38]]\n"
     ]
    }
   ],
   "source": [
    "score2 = log_loss(y2, test_preds, labels = list(range(1,10)))\n",
    "print('final multi_log_loss: {}'.format(score2))\n",
    "\n",
    "fscore = f1_score(y2, test_preds.argmax(axis=1)+1, labels = list(range(1,10)), average='micro')\n",
    "print('final f1_score: {}'.format(fscore))\n",
    "\n",
    "acc = accuracy_score(y2, test_preds.argmax(axis=1)+1)\n",
    "print('final accuracy: {}'.format(acc))\n",
    "\n",
    "print(confusion_matrix(y2, test_preds.argmax(axis=1)+1, labels = list(range(1,10))))"
   ]
  },
  {
   "cell_type": "code",
   "execution_count": null,
   "metadata": {
    "collapsed": true
   },
   "outputs": [],
   "source": [
    "# with my weights\n",
    "# final multi_log_loss: 1.0051730722455978\n",
    "# final f1_score: 0.7073170731707317\n",
    "# final accuracy: 0.7073170731707317\n",
    "# [[ 97   0   1  19   5   1   6   0   0]\n",
    "#  [  4  43   0   1   0   2  56   0   0]\n",
    "#  [  0   0   4   6   1   0  13   0   0]\n",
    "#  [ 12   1   1 114   0   0  13   0   0]\n",
    "#  [ 16   1   0   4  26   2   5   0   0]\n",
    "#  [  8   0   0   2   2  34   9   0   0]\n",
    "#  [  1  13   2   3   2   0 200   0   0]\n",
    "#  [  0   0   0   0   0   0   2   0   0]\n",
    "#  [  0   0   0   0   0   0   2   0   4]]\n",
    "\n",
    "# with 'balanced' weights\n",
    "# final multi_log_loss: 0.9154469754860213\n",
    "# final f1_score: 0.6964769647696477\n",
    "# final accuracy: 0.6964769647696477\n",
    "# [[ 86   1   2  25  14   3   2   0   0]\n",
    "#  [  2  51   0   2   0   0  44   1   0]\n",
    "#  [  1   3   8   5   0   0   2   0   0]\n",
    "#  [ 17   0   1 119   1   1  11   0   0]\n",
    "#  [ 10   3   1   7  21   3   8   0   0]\n",
    "#  [  6   0   1   5   1  37   9   0   0]\n",
    "#  [  2   8   7   3   5   0 185   0   1]\n",
    "#  [  1   0   0   0   0   0   3   0   0]\n",
    "#  [  0   0   0   1   0   0   1   0   7]]"
   ]
  },
  {
   "cell_type": "code",
   "execution_count": 8,
   "metadata": {},
   "outputs": [],
   "source": [
    "import numpy as np\n",
    "import matplotlib.pyplot as plt\n",
    "\n",
    "# conf_arr = [[33,2,0,0,0,0,0,0,0,1,3], \n",
    "#             [3,31,0,0,0,0,0,0,0,0,0], \n",
    "#             [0,4,41,0,0,0,0,0,0,0,1], \n",
    "#             [0,1,0,30,0,6,0,0,0,0,1], \n",
    "#             [0,0,0,0,38,10,0,0,0,0,0], \n",
    "#             [0,0,0,3,1,39,0,0,0,0,4], \n",
    "#             [0,2,2,0,4,1,31,0,0,0,2],\n",
    "#             [0,1,0,0,0,0,0,36,0,2,0], \n",
    "#             [0,0,0,0,0,0,1,5,37,5,1], \n",
    "#             [3,0,0,0,0,0,0,0,0,39,0], \n",
    "#             [0,0,0,0,0,0,0,0,0,0,38]]\n",
    "\n",
    "conf_arr = [[97,0,1,19,5,1,6,0,0],\n",
    "            [4,43,0,1,0,2,56,0,0],\n",
    "            [0,0,4,6,1,0,13,0,0],\n",
    "            [12,1,1,114,0,0,13,0,0],\n",
    "            [16,1,0,4,26,2,5,0,0],\n",
    "            [8,0,0,2,2,34,9,0,0],\n",
    "            [1,13,2,3,2,0,200,0,0],\n",
    "            [0,0,0,0,0,0,2,0,0],\n",
    "            [0,0,0,0,0,0,2,0,4]]\n",
    "\n"
   ]
  },
  {
   "cell_type": "code",
   "execution_count": 7,
   "metadata": {},
   "outputs": [
    {
     "ename": "AttributeError",
     "evalue": "'list' object has no attribute 'shape'",
     "output_type": "error",
     "traceback": [
      "\u001b[0;31m---------------------------------------------------------------------------\u001b[0m",
      "\u001b[0;31mAttributeError\u001b[0m                            Traceback (most recent call last)",
      "\u001b[0;32m<ipython-input-7-8ff9f6813237>\u001b[0m in \u001b[0;36m<module>\u001b[0;34m()\u001b[0m\n\u001b[0;32m----> 1\u001b[0;31m \u001b[0mconf_arr\u001b[0m\u001b[0;34m.\u001b[0m\u001b[0mshape\u001b[0m\u001b[0;34m\u001b[0m\u001b[0m\n\u001b[0m",
      "\u001b[0;31mAttributeError\u001b[0m: 'list' object has no attribute 'shape'"
     ]
    }
   ],
   "source": [
    "conf_arr.shape"
   ]
  },
  {
   "cell_type": "code",
   "execution_count": 11,
   "metadata": {},
   "outputs": [],
   "source": [
    "norm_conf = []\n",
    "for i in conf_arr:\n",
    "    a = 0\n",
    "    tmp_arr = []\n",
    "    a = sum(i, 0)\n",
    "    for j in i:\n",
    "        tmp_arr.append(float(j)/float(a))\n",
    "    norm_conf.append(tmp_arr)\n",
    "\n",
    "fig = plt.figure()\n",
    "plt.clf()\n",
    "ax = fig.add_subplot(111)\n",
    "ax.set_aspect(1)\n",
    "res = ax.imshow(np.array(norm_conf), cmap=plt.cm.jet, \n",
    "                interpolation='nearest')\n",
    "\n",
    "width, height =[9,9]\n",
    "\n",
    "for x in range(width):\n",
    "    for y in range(height):\n",
    "        ax.annotate(str(conf_arr[x][y]), xy=(y, x), \n",
    "                    horizontalalignment='center',\n",
    "                    verticalalignment='center')\n",
    "\n",
    "cb = fig.colorbar(res)\n",
    "alphabet = 'ABCDEFGHIJKLMNOPQRSTUVWXYZ'\n",
    "plt.xticks(range(width), alphabet[:width])\n",
    "plt.yticks(range(height), alphabet[:height])\n",
    "plt.savefig('../cache/confusion_matrix_rf.png', format='png')\n"
   ]
  },
  {
   "cell_type": "code",
   "execution_count": null,
   "metadata": {
    "collapsed": true
   },
   "outputs": [],
   "source": []
  }
 ],
 "metadata": {
  "kernelspec": {
   "display_name": "Python 3",
   "language": "python",
   "name": "python3"
  },
  "language_info": {
   "codemirror_mode": {
    "name": "ipython",
    "version": 3
   },
   "file_extension": ".py",
   "mimetype": "text/x-python",
   "name": "python",
   "nbconvert_exporter": "python",
   "pygments_lexer": "ipython3",
   "version": "3.6.1"
  }
 },
 "nbformat": 4,
 "nbformat_minor": 2
}
