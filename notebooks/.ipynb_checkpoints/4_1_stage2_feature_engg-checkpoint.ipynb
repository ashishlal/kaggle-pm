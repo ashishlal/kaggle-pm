{
 "cells": [
  {
   "cell_type": "code",
   "execution_count": 1,
   "metadata": {
    "collapsed": true
   },
   "outputs": [],
   "source": [
    "import pandas as pd\n",
    "import numpy as np\n",
    "import feather\n",
    "from sklearn import preprocessing as pe\n",
    "from tqdm import tqdm\n",
    "\n",
    "from utils import text_to_wordlist, get_fp\n",
    "from sklearn.model_selection import train_test_split"
   ]
  },
  {
   "cell_type": "code",
   "execution_count": 2,
   "metadata": {
    "collapsed": true
   },
   "outputs": [],
   "source": [
    "def get_wt(cls):\n",
    "    tot_neg_instances = df_train.shape[0] - p[cls]\n",
    "    tot_pos_instances = p[cls]\n",
    "    return float(tot_neg_instances/tot_pos_instances)"
   ]
  },
  {
   "cell_type": "code",
   "execution_count": 3,
   "metadata": {
    "collapsed": true
   },
   "outputs": [],
   "source": [
    "D = 2 ** 24"
   ]
  },
  {
   "cell_type": "code",
   "execution_count": 4,
   "metadata": {
    "collapsed": true
   },
   "outputs": [],
   "source": [
    "def do_feature_engg(df_all):\n",
    "    \n",
    "    # create a new col GeneVar\n",
    "    df_all['GeneVar'] = df_all['Gene'] + ' ' + df_all['Variation']\n",
    "    \n",
    "    # get the share of the gene expression in the corresponding text in the row\n",
    "    df_all['Gene_Share'] = df_all.apply(lambda row: sum([1 for w in row['Gene'].split(' ') \n",
    "                                                       if w in row['Text'].split(' ')]), axis=1)\n",
    "\n",
    "\n",
    "    # get the share of the variation in the corresponding text in the row\n",
    "    df_all['Variation_Share'] = df_all.apply(lambda row: sum([1 for w in row['Variation'].split(' ') \n",
    "                                                            if w in row['Text'].split(' ')]), axis=1)\n",
    "\n",
    "    # get the share of the gene-variation in the corresponding text in the row\n",
    "    df_all['Gene_Variation_Share'] = df_all.apply(lambda row: sum([1 for w in row['GeneVar'].split(' ') \n",
    "                                                            if w in row['Text'].split(' ')]), axis=1)\n",
    "\n",
    "    # get the gene length\n",
    "    df_all['GL'] = df_all['Gene'].apply(lambda x: len(x))\n",
    "\n",
    "    # get the variation length\n",
    "    df_all['VL'] = df_all['Variation'].apply(lambda x: len(x))\n",
    "\n",
    "    # print(sorted(df_all['VL'].values))\n",
    "\n",
    "    max_len=55 # VL has max length 55 \n",
    "    for i in range(max_len+1):\n",
    "        df_all['Gene_'+str(i)] = df_all['Gene'].map(lambda x: str(x[i]) if len(x)>i else '')\n",
    "        df_all['Variation_'+str(i)] = df_all['Variation'].map(lambda x: str(x[i]) if len(x)>i else '')\n",
    "        df_all['GeneVar_'+str(i)] = df_all['GeneVar'].map(lambda x: str(x[i]) if len(x)>i else '')\n",
    "\n",
    "    # from https://www.kaggle.com/the1owl/redefining-treatment-0-57456\n",
    "#     gene_var_lst = sorted(list(df_train.Gene.unique()) + list(df_train.Variation.unique()))\n",
    "    gene_var_lst = sorted(list(df_all.Gene.unique()) + list(df_all.Variation.unique()))\n",
    "    gene_var_lst = [x for x in gene_var_lst if len(x.split(' '))==1]\n",
    "\n",
    "    i_ = 0\n",
    "\n",
    "    for el in tqdm(gene_var_lst):\n",
    "        df_all['GV_'+str(el)] = df_all['Text'].map(lambda x: str(x).count(str(el)))\n",
    "        i_ += 1\n",
    "    \n",
    "    # gene expression value counts\n",
    "    s = df_all['Gene'].value_counts()\n",
    "    df_all['G_VC'] = df_all['Gene'].apply(lambda gene: s[str(gene)])\n",
    "    # print(df_all.G_VC[df_all.Gene == 'BRCA1'].count())\n",
    "\n",
    "    # variation value counts\n",
    "    s = df_all['Variation'].value_counts()\n",
    "    df_all['V_VC'] = df_all['Variation'].apply(lambda var: s[str(var)])\n",
    "\n",
    "    # gene variation value counts\n",
    "    s = df_all['GeneVar'].value_counts()\n",
    "    df_all['GV_VC'] = df_all['GeneVar'].apply(lambda var: s[str(var)])\n",
    "\n",
    "    # hash gene variation and text\n",
    "    df_all['hash'] = df_all['Gene'] + '_' + df_all['Variation'] + '_' + df_all['Text']\n",
    "    df_all['hash'] = df_all['hash'].apply(lambda x: hash(x) % D)\n",
    "\n",
    "    # label encoding, length of column and number of words in the column\n",
    "    for c in tqdm(df_all.columns):\n",
    "        if df_all[c].dtype == 'object':\n",
    "            if c in ['Gene','Variation','GeneVar']:\n",
    "                lbl = pe.LabelEncoder()\n",
    "                df_all[c+'_lbl_enc'] = lbl.fit_transform(df_all[c].values)  \n",
    "                df_all[c+'_len'] = df_all[c].map(lambda x: len(str(x)))\n",
    "                df_all[c+'_words'] = df_all[c].map(lambda x: len(str(x).split(' ')))\n",
    "            elif c != 'Text':\n",
    "                lbl = pe.LabelEncoder()\n",
    "                df_all[c] = lbl.fit_transform(df_all[c].values)\n",
    "            if c=='Text': \n",
    "                df_all[c+'_len'] = df_all[c].map(lambda x: len(str(x)))\n",
    "                df_all[c+'_words'] = df_all[c].map(lambda x: len(str(x).split(' '))) \n",
    "\n",
    "    return df_all\n"
   ]
  },
  {
   "cell_type": "code",
   "execution_count": 5,
   "metadata": {
    "collapsed": true
   },
   "outputs": [],
   "source": [
    "df_train = feather.read_dataframe('../cache/train_stage2.feather')"
   ]
  },
  {
   "cell_type": "code",
   "execution_count": 6,
   "metadata": {},
   "outputs": [
    {
     "data": {
      "text/html": [
       "<div>\n",
       "<style>\n",
       "    .dataframe thead tr:only-child th {\n",
       "        text-align: right;\n",
       "    }\n",
       "\n",
       "    .dataframe thead th {\n",
       "        text-align: left;\n",
       "    }\n",
       "\n",
       "    .dataframe tbody tr th {\n",
       "        vertical-align: top;\n",
       "    }\n",
       "</style>\n",
       "<table border=\"1\" class=\"dataframe\">\n",
       "  <thead>\n",
       "    <tr style=\"text-align: right;\">\n",
       "      <th></th>\n",
       "      <th>Class</th>\n",
       "      <th>Gene</th>\n",
       "      <th>ID</th>\n",
       "      <th>Text</th>\n",
       "      <th>Variation</th>\n",
       "    </tr>\n",
       "  </thead>\n",
       "  <tbody>\n",
       "    <tr>\n",
       "      <th>0</th>\n",
       "      <td>1</td>\n",
       "      <td>FAM58A</td>\n",
       "      <td>0</td>\n",
       "      <td>Cyclin-dependent kinases (CDKs) regulate a var...</td>\n",
       "      <td>Truncating Mutations</td>\n",
       "    </tr>\n",
       "    <tr>\n",
       "      <th>1</th>\n",
       "      <td>2</td>\n",
       "      <td>CBL</td>\n",
       "      <td>1</td>\n",
       "      <td>Abstract Background  Non-small cell lung canc...</td>\n",
       "      <td>W802*</td>\n",
       "    </tr>\n",
       "    <tr>\n",
       "      <th>2</th>\n",
       "      <td>2</td>\n",
       "      <td>CBL</td>\n",
       "      <td>2</td>\n",
       "      <td>Abstract Background  Non-small cell lung canc...</td>\n",
       "      <td>Q249E</td>\n",
       "    </tr>\n",
       "    <tr>\n",
       "      <th>3</th>\n",
       "      <td>3</td>\n",
       "      <td>CBL</td>\n",
       "      <td>3</td>\n",
       "      <td>Recent evidence has demonstrated that acquired...</td>\n",
       "      <td>N454D</td>\n",
       "    </tr>\n",
       "    <tr>\n",
       "      <th>4</th>\n",
       "      <td>4</td>\n",
       "      <td>CBL</td>\n",
       "      <td>4</td>\n",
       "      <td>Oncogenic mutations in the monomeric Casitas B...</td>\n",
       "      <td>L399V</td>\n",
       "    </tr>\n",
       "  </tbody>\n",
       "</table>\n",
       "</div>"
      ],
      "text/plain": [
       "   Class    Gene  ID                                               Text  \\\n",
       "0      1  FAM58A   0  Cyclin-dependent kinases (CDKs) regulate a var...   \n",
       "1      2     CBL   1   Abstract Background  Non-small cell lung canc...   \n",
       "2      2     CBL   2   Abstract Background  Non-small cell lung canc...   \n",
       "3      3     CBL   3  Recent evidence has demonstrated that acquired...   \n",
       "4      4     CBL   4  Oncogenic mutations in the monomeric Casitas B...   \n",
       "\n",
       "              Variation  \n",
       "0  Truncating Mutations  \n",
       "1                 W802*  \n",
       "2                 Q249E  \n",
       "3                 N454D  \n",
       "4                 L399V  "
      ]
     },
     "execution_count": 6,
     "metadata": {},
     "output_type": "execute_result"
    }
   ],
   "source": [
    "df_train.head()"
   ]
  },
  {
   "cell_type": "code",
   "execution_count": 7,
   "metadata": {
    "collapsed": true
   },
   "outputs": [],
   "source": [
    "df_test = feather.read_dataframe('../cache/test_stage2.feather')"
   ]
  },
  {
   "cell_type": "code",
   "execution_count": 8,
   "metadata": {},
   "outputs": [
    {
     "data": {
      "text/html": [
       "<div>\n",
       "<style>\n",
       "    .dataframe thead tr:only-child th {\n",
       "        text-align: right;\n",
       "    }\n",
       "\n",
       "    .dataframe thead th {\n",
       "        text-align: left;\n",
       "    }\n",
       "\n",
       "    .dataframe tbody tr th {\n",
       "        vertical-align: top;\n",
       "    }\n",
       "</style>\n",
       "<table border=\"1\" class=\"dataframe\">\n",
       "  <thead>\n",
       "    <tr style=\"text-align: right;\">\n",
       "      <th></th>\n",
       "      <th>ID</th>\n",
       "      <th>Gene</th>\n",
       "      <th>Variation</th>\n",
       "      <th>Text</th>\n",
       "    </tr>\n",
       "  </thead>\n",
       "  <tbody>\n",
       "    <tr>\n",
       "      <th>0</th>\n",
       "      <td>1</td>\n",
       "      <td>CHEK2</td>\n",
       "      <td>H371Y</td>\n",
       "      <td>The incidence of breast cancer is increasing i...</td>\n",
       "    </tr>\n",
       "    <tr>\n",
       "      <th>1</th>\n",
       "      <td>2</td>\n",
       "      <td>AXIN2</td>\n",
       "      <td>Truncating Mutations</td>\n",
       "      <td>An unselected series of 310 colorectal carcino...</td>\n",
       "    </tr>\n",
       "    <tr>\n",
       "      <th>2</th>\n",
       "      <td>3</td>\n",
       "      <td>WNT4</td>\n",
       "      <td>E216G</td>\n",
       "      <td>Mycosis fungoides and Sézary syndrome are prim...</td>\n",
       "    </tr>\n",
       "    <tr>\n",
       "      <th>3</th>\n",
       "      <td>4</td>\n",
       "      <td>SUCLA2</td>\n",
       "      <td>G118R</td>\n",
       "      <td>Regulated progression through the cell cycle ...</td>\n",
       "    </tr>\n",
       "    <tr>\n",
       "      <th>4</th>\n",
       "      <td>5</td>\n",
       "      <td>BRAF</td>\n",
       "      <td>T599insTT</td>\n",
       "      <td>Pilocytic astrocytoma (PA) is emerging as a tu...</td>\n",
       "    </tr>\n",
       "  </tbody>\n",
       "</table>\n",
       "</div>"
      ],
      "text/plain": [
       "   ID    Gene             Variation  \\\n",
       "0   1   CHEK2                 H371Y   \n",
       "1   2   AXIN2  Truncating Mutations   \n",
       "2   3    WNT4                 E216G   \n",
       "3   4  SUCLA2                 G118R   \n",
       "4   5    BRAF             T599insTT   \n",
       "\n",
       "                                                Text  \n",
       "0  The incidence of breast cancer is increasing i...  \n",
       "1  An unselected series of 310 colorectal carcino...  \n",
       "2  Mycosis fungoides and Sézary syndrome are prim...  \n",
       "3   Regulated progression through the cell cycle ...  \n",
       "4  Pilocytic astrocytoma (PA) is emerging as a tu...  "
      ]
     },
     "execution_count": 8,
     "metadata": {},
     "output_type": "execute_result"
    }
   ],
   "source": [
    "df_test.head()"
   ]
  },
  {
   "cell_type": "code",
   "execution_count": 9,
   "metadata": {
    "collapsed": true
   },
   "outputs": [],
   "source": [
    "y = df_train['Class'].values\n",
    "df_train = df_train.drop(['Class'], axis=1)\n",
    "\n",
    "test_ids = df_test['ID'].values"
   ]
  },
  {
   "cell_type": "code",
   "execution_count": 10,
   "metadata": {
    "collapsed": true
   },
   "outputs": [],
   "source": [
    "df_all = pd.concat((df_train, df_test), axis=0, ignore_index=True)"
   ]
  },
  {
   "cell_type": "code",
   "execution_count": 11,
   "metadata": {},
   "outputs": [
    {
     "data": {
      "text/html": [
       "<div>\n",
       "<style>\n",
       "    .dataframe thead tr:only-child th {\n",
       "        text-align: right;\n",
       "    }\n",
       "\n",
       "    .dataframe thead th {\n",
       "        text-align: left;\n",
       "    }\n",
       "\n",
       "    .dataframe tbody tr th {\n",
       "        vertical-align: top;\n",
       "    }\n",
       "</style>\n",
       "<table border=\"1\" class=\"dataframe\">\n",
       "  <thead>\n",
       "    <tr style=\"text-align: right;\">\n",
       "      <th></th>\n",
       "      <th>Gene</th>\n",
       "      <th>ID</th>\n",
       "      <th>Text</th>\n",
       "      <th>Variation</th>\n",
       "    </tr>\n",
       "  </thead>\n",
       "  <tbody>\n",
       "    <tr>\n",
       "      <th>0</th>\n",
       "      <td>FAM58A</td>\n",
       "      <td>0</td>\n",
       "      <td>Cyclin-dependent kinases (CDKs) regulate a var...</td>\n",
       "      <td>Truncating Mutations</td>\n",
       "    </tr>\n",
       "    <tr>\n",
       "      <th>1</th>\n",
       "      <td>CBL</td>\n",
       "      <td>1</td>\n",
       "      <td>Abstract Background  Non-small cell lung canc...</td>\n",
       "      <td>W802*</td>\n",
       "    </tr>\n",
       "    <tr>\n",
       "      <th>2</th>\n",
       "      <td>CBL</td>\n",
       "      <td>2</td>\n",
       "      <td>Abstract Background  Non-small cell lung canc...</td>\n",
       "      <td>Q249E</td>\n",
       "    </tr>\n",
       "    <tr>\n",
       "      <th>3</th>\n",
       "      <td>CBL</td>\n",
       "      <td>3</td>\n",
       "      <td>Recent evidence has demonstrated that acquired...</td>\n",
       "      <td>N454D</td>\n",
       "    </tr>\n",
       "    <tr>\n",
       "      <th>4</th>\n",
       "      <td>CBL</td>\n",
       "      <td>4</td>\n",
       "      <td>Oncogenic mutations in the monomeric Casitas B...</td>\n",
       "      <td>L399V</td>\n",
       "    </tr>\n",
       "  </tbody>\n",
       "</table>\n",
       "</div>"
      ],
      "text/plain": [
       "     Gene  ID                                               Text  \\\n",
       "0  FAM58A   0  Cyclin-dependent kinases (CDKs) regulate a var...   \n",
       "1     CBL   1   Abstract Background  Non-small cell lung canc...   \n",
       "2     CBL   2   Abstract Background  Non-small cell lung canc...   \n",
       "3     CBL   3  Recent evidence has demonstrated that acquired...   \n",
       "4     CBL   4  Oncogenic mutations in the monomeric Casitas B...   \n",
       "\n",
       "              Variation  \n",
       "0  Truncating Mutations  \n",
       "1                 W802*  \n",
       "2                 Q249E  \n",
       "3                 N454D  \n",
       "4                 L399V  "
      ]
     },
     "execution_count": 11,
     "metadata": {},
     "output_type": "execute_result"
    }
   ],
   "source": [
    "df_all.head()"
   ]
  },
  {
   "cell_type": "code",
   "execution_count": 12,
   "metadata": {},
   "outputs": [
    {
     "data": {
      "text/plain": [
       "(4675, 4)"
      ]
     },
     "execution_count": 12,
     "metadata": {},
     "output_type": "execute_result"
    }
   ],
   "source": [
    "df_all.shape"
   ]
  },
  {
   "cell_type": "code",
   "execution_count": 13,
   "metadata": {},
   "outputs": [
    {
     "name": "stderr",
     "output_type": "stream",
     "text": [
      "100%|██████████| 4141/4141 [08:05<00:00,  8.53it/s]\n",
      "100%|██████████| 4323/4323 [00:03<00:00, 1254.73it/s]\n"
     ]
    }
   ],
   "source": [
    "df_all = do_feature_engg(df_all)"
   ]
  },
  {
   "cell_type": "code",
   "execution_count": 14,
   "metadata": {
    "collapsed": true
   },
   "outputs": [],
   "source": [
    "df_train = df_all.iloc[:len(df_train)]\n",
    "df_test = df_all.iloc[len(df_train):]"
   ]
  },
  {
   "cell_type": "code",
   "execution_count": 15,
   "metadata": {},
   "outputs": [
    {
     "name": "stderr",
     "output_type": "stream",
     "text": [
      "/home/watts/anaconda2/envs/aind-dog/lib/python3.6/site-packages/ipykernel_launcher.py:1: SettingWithCopyWarning: \n",
      "A value is trying to be set on a copy of a slice from a DataFrame.\n",
      "Try using .loc[row_indexer,col_indexer] = value instead\n",
      "\n",
      "See the caveats in the documentation: http://pandas.pydata.org/pandas-docs/stable/indexing.html#indexing-view-versus-copy\n",
      "  \"\"\"Entry point for launching an IPython kernel.\n"
     ]
    }
   ],
   "source": [
    "df_train['Class'] = y"
   ]
  },
  {
   "cell_type": "code",
   "execution_count": 16,
   "metadata": {},
   "outputs": [
    {
     "data": {
      "text/plain": [
       "(3689, 4335)"
      ]
     },
     "execution_count": 16,
     "metadata": {},
     "output_type": "execute_result"
    }
   ],
   "source": [
    "df_train.shape"
   ]
  },
  {
   "cell_type": "code",
   "execution_count": 17,
   "metadata": {},
   "outputs": [
    {
     "data": {
      "text/plain": [
       "(986, 4334)"
      ]
     },
     "execution_count": 17,
     "metadata": {},
     "output_type": "execute_result"
    }
   ],
   "source": [
    "df_test.shape"
   ]
  },
  {
   "cell_type": "code",
   "execution_count": 18,
   "metadata": {},
   "outputs": [
    {
     "data": {
      "text/html": [
       "<div>\n",
       "<style>\n",
       "    .dataframe thead tr:only-child th {\n",
       "        text-align: right;\n",
       "    }\n",
       "\n",
       "    .dataframe thead th {\n",
       "        text-align: left;\n",
       "    }\n",
       "\n",
       "    .dataframe tbody tr th {\n",
       "        vertical-align: top;\n",
       "    }\n",
       "</style>\n",
       "<table border=\"1\" class=\"dataframe\">\n",
       "  <thead>\n",
       "    <tr style=\"text-align: right;\">\n",
       "      <th></th>\n",
       "      <th>Gene</th>\n",
       "      <th>ID</th>\n",
       "      <th>Text</th>\n",
       "      <th>Variation</th>\n",
       "      <th>GeneVar</th>\n",
       "      <th>Gene_Share</th>\n",
       "      <th>Variation_Share</th>\n",
       "      <th>Gene_Variation_Share</th>\n",
       "      <th>GL</th>\n",
       "      <th>VL</th>\n",
       "      <th>...</th>\n",
       "      <th>Gene_words</th>\n",
       "      <th>Text_len</th>\n",
       "      <th>Text_words</th>\n",
       "      <th>Variation_lbl_enc</th>\n",
       "      <th>Variation_len</th>\n",
       "      <th>Variation_words</th>\n",
       "      <th>GeneVar_lbl_enc</th>\n",
       "      <th>GeneVar_len</th>\n",
       "      <th>GeneVar_words</th>\n",
       "      <th>Class</th>\n",
       "    </tr>\n",
       "  </thead>\n",
       "  <tbody>\n",
       "    <tr>\n",
       "      <th>0</th>\n",
       "      <td>FAM58A</td>\n",
       "      <td>0</td>\n",
       "      <td>Cyclin-dependent kinases (CDKs) regulate a var...</td>\n",
       "      <td>Truncating Mutations</td>\n",
       "      <td>FAM58A Truncating Mutations</td>\n",
       "      <td>1</td>\n",
       "      <td>1</td>\n",
       "      <td>2</td>\n",
       "      <td>6</td>\n",
       "      <td>20</td>\n",
       "      <td>...</td>\n",
       "      <td>1</td>\n",
       "      <td>39672</td>\n",
       "      <td>6105</td>\n",
       "      <td>3460</td>\n",
       "      <td>20</td>\n",
       "      <td>2</td>\n",
       "      <td>1654</td>\n",
       "      <td>27</td>\n",
       "      <td>3</td>\n",
       "      <td>1</td>\n",
       "    </tr>\n",
       "    <tr>\n",
       "      <th>1</th>\n",
       "      <td>CBL</td>\n",
       "      <td>1</td>\n",
       "      <td>Abstract Background  Non-small cell lung canc...</td>\n",
       "      <td>W802*</td>\n",
       "      <td>CBL W802*</td>\n",
       "      <td>1</td>\n",
       "      <td>1</td>\n",
       "      <td>2</td>\n",
       "      <td>3</td>\n",
       "      <td>5</td>\n",
       "      <td>...</td>\n",
       "      <td>1</td>\n",
       "      <td>36691</td>\n",
       "      <td>5783</td>\n",
       "      <td>3748</td>\n",
       "      <td>5</td>\n",
       "      <td>1</td>\n",
       "      <td>941</td>\n",
       "      <td>9</td>\n",
       "      <td>2</td>\n",
       "      <td>2</td>\n",
       "    </tr>\n",
       "    <tr>\n",
       "      <th>2</th>\n",
       "      <td>CBL</td>\n",
       "      <td>2</td>\n",
       "      <td>Abstract Background  Non-small cell lung canc...</td>\n",
       "      <td>Q249E</td>\n",
       "      <td>CBL Q249E</td>\n",
       "      <td>1</td>\n",
       "      <td>1</td>\n",
       "      <td>2</td>\n",
       "      <td>3</td>\n",
       "      <td>5</td>\n",
       "      <td>...</td>\n",
       "      <td>1</td>\n",
       "      <td>36691</td>\n",
       "      <td>5783</td>\n",
       "      <td>2425</td>\n",
       "      <td>5</td>\n",
       "      <td>1</td>\n",
       "      <td>933</td>\n",
       "      <td>9</td>\n",
       "      <td>2</td>\n",
       "      <td>2</td>\n",
       "    </tr>\n",
       "    <tr>\n",
       "      <th>3</th>\n",
       "      <td>CBL</td>\n",
       "      <td>3</td>\n",
       "      <td>Recent evidence has demonstrated that acquired...</td>\n",
       "      <td>N454D</td>\n",
       "      <td>CBL N454D</td>\n",
       "      <td>1</td>\n",
       "      <td>1</td>\n",
       "      <td>2</td>\n",
       "      <td>3</td>\n",
       "      <td>5</td>\n",
       "      <td>...</td>\n",
       "      <td>1</td>\n",
       "      <td>36238</td>\n",
       "      <td>5625</td>\n",
       "      <td>2132</td>\n",
       "      <td>5</td>\n",
       "      <td>1</td>\n",
       "      <td>929</td>\n",
       "      <td>9</td>\n",
       "      <td>2</td>\n",
       "      <td>3</td>\n",
       "    </tr>\n",
       "    <tr>\n",
       "      <th>4</th>\n",
       "      <td>CBL</td>\n",
       "      <td>4</td>\n",
       "      <td>Oncogenic mutations in the monomeric Casitas B...</td>\n",
       "      <td>L399V</td>\n",
       "      <td>CBL L399V</td>\n",
       "      <td>1</td>\n",
       "      <td>1</td>\n",
       "      <td>2</td>\n",
       "      <td>3</td>\n",
       "      <td>5</td>\n",
       "      <td>...</td>\n",
       "      <td>1</td>\n",
       "      <td>41308</td>\n",
       "      <td>6248</td>\n",
       "      <td>1854</td>\n",
       "      <td>5</td>\n",
       "      <td>1</td>\n",
       "      <td>927</td>\n",
       "      <td>9</td>\n",
       "      <td>2</td>\n",
       "      <td>4</td>\n",
       "    </tr>\n",
       "  </tbody>\n",
       "</table>\n",
       "<p>5 rows × 4335 columns</p>\n",
       "</div>"
      ],
      "text/plain": [
       "     Gene  ID                                               Text  \\\n",
       "0  FAM58A   0  Cyclin-dependent kinases (CDKs) regulate a var...   \n",
       "1     CBL   1   Abstract Background  Non-small cell lung canc...   \n",
       "2     CBL   2   Abstract Background  Non-small cell lung canc...   \n",
       "3     CBL   3  Recent evidence has demonstrated that acquired...   \n",
       "4     CBL   4  Oncogenic mutations in the monomeric Casitas B...   \n",
       "\n",
       "              Variation                      GeneVar  Gene_Share  \\\n",
       "0  Truncating Mutations  FAM58A Truncating Mutations           1   \n",
       "1                 W802*                    CBL W802*           1   \n",
       "2                 Q249E                    CBL Q249E           1   \n",
       "3                 N454D                    CBL N454D           1   \n",
       "4                 L399V                    CBL L399V           1   \n",
       "\n",
       "   Variation_Share  Gene_Variation_Share  GL  VL  ...    Gene_words  Text_len  \\\n",
       "0                1                     2   6  20  ...             1     39672   \n",
       "1                1                     2   3   5  ...             1     36691   \n",
       "2                1                     2   3   5  ...             1     36691   \n",
       "3                1                     2   3   5  ...             1     36238   \n",
       "4                1                     2   3   5  ...             1     41308   \n",
       "\n",
       "   Text_words  Variation_lbl_enc  Variation_len  Variation_words  \\\n",
       "0        6105               3460             20                2   \n",
       "1        5783               3748              5                1   \n",
       "2        5783               2425              5                1   \n",
       "3        5625               2132              5                1   \n",
       "4        6248               1854              5                1   \n",
       "\n",
       "   GeneVar_lbl_enc  GeneVar_len  GeneVar_words  Class  \n",
       "0             1654           27              3      1  \n",
       "1              941            9              2      2  \n",
       "2              933            9              2      2  \n",
       "3              929            9              2      3  \n",
       "4              927            9              2      4  \n",
       "\n",
       "[5 rows x 4335 columns]"
      ]
     },
     "execution_count": 18,
     "metadata": {},
     "output_type": "execute_result"
    }
   ],
   "source": [
    "df_train.head()"
   ]
  },
  {
   "cell_type": "code",
   "execution_count": 19,
   "metadata": {},
   "outputs": [
    {
     "data": {
      "text/plain": [
       "1331621     1\n",
       "7282969     1\n",
       "9202392     1\n",
       "3267286     1\n",
       "9666727     1\n",
       "6814418     1\n",
       "819921      1\n",
       "12552912    1\n",
       "2527951     1\n",
       "7240398     1\n",
       "5086951     1\n",
       "3502795     1\n",
       "9524488     1\n",
       "8667849     1\n",
       "13005511    1\n",
       "15358662    1\n",
       "111299      1\n",
       "13212354    1\n",
       "13564606    1\n",
       "15065789    1\n",
       "11491229    1\n",
       "5554869     1\n",
       "11662003    1\n",
       "10748593    1\n",
       "7850119     1\n",
       "11756205    1\n",
       "8179693     1\n",
       "3932889     1\n",
       "16409309    1\n",
       "16317094    1\n",
       "           ..\n",
       "11363650    1\n",
       "2692468     1\n",
       "7855477     1\n",
       "9405814     1\n",
       "5123475     1\n",
       "10807876    1\n",
       "11066036    1\n",
       "2114986     1\n",
       "3593636     1\n",
       "3089826     1\n",
       "2591702     1\n",
       "13516189    1\n",
       "14368153    1\n",
       "4920728     1\n",
       "2641303     1\n",
       "15458692    1\n",
       "3421584     1\n",
       "9720221     1\n",
       "12193167    1\n",
       "7619982     1\n",
       "10757514    1\n",
       "466309      1\n",
       "7067445     1\n",
       "16502147    1\n",
       "2073986     1\n",
       "6462849     1\n",
       "9821565     1\n",
       "839035      1\n",
       "6499813     1\n",
       "16441348    1\n",
       "Name: hash, Length: 3689, dtype: int64"
      ]
     },
     "execution_count": 19,
     "metadata": {},
     "output_type": "execute_result"
    }
   ],
   "source": [
    "df_train['hash'].value_counts()"
   ]
  },
  {
   "cell_type": "code",
   "execution_count": 20,
   "metadata": {},
   "outputs": [
    {
     "data": {
      "text/html": [
       "<div>\n",
       "<style>\n",
       "    .dataframe thead tr:only-child th {\n",
       "        text-align: right;\n",
       "    }\n",
       "\n",
       "    .dataframe thead th {\n",
       "        text-align: left;\n",
       "    }\n",
       "\n",
       "    .dataframe tbody tr th {\n",
       "        vertical-align: top;\n",
       "    }\n",
       "</style>\n",
       "<table border=\"1\" class=\"dataframe\">\n",
       "  <thead>\n",
       "    <tr style=\"text-align: right;\">\n",
       "      <th></th>\n",
       "      <th>Gene</th>\n",
       "      <th>ID</th>\n",
       "      <th>Text</th>\n",
       "      <th>Variation</th>\n",
       "      <th>GeneVar</th>\n",
       "      <th>Gene_Share</th>\n",
       "      <th>Variation_Share</th>\n",
       "      <th>Gene_Variation_Share</th>\n",
       "      <th>GL</th>\n",
       "      <th>VL</th>\n",
       "      <th>...</th>\n",
       "      <th>Gene_len</th>\n",
       "      <th>Gene_words</th>\n",
       "      <th>Text_len</th>\n",
       "      <th>Text_words</th>\n",
       "      <th>Variation_lbl_enc</th>\n",
       "      <th>Variation_len</th>\n",
       "      <th>Variation_words</th>\n",
       "      <th>GeneVar_lbl_enc</th>\n",
       "      <th>GeneVar_len</th>\n",
       "      <th>GeneVar_words</th>\n",
       "    </tr>\n",
       "  </thead>\n",
       "  <tbody>\n",
       "    <tr>\n",
       "      <th>3689</th>\n",
       "      <td>CHEK2</td>\n",
       "      <td>1</td>\n",
       "      <td>The incidence of breast cancer is increasing i...</td>\n",
       "      <td>H371Y</td>\n",
       "      <td>CHEK2 H371Y</td>\n",
       "      <td>1</td>\n",
       "      <td>1</td>\n",
       "      <td>2</td>\n",
       "      <td>5</td>\n",
       "      <td>5</td>\n",
       "      <td>...</td>\n",
       "      <td>5</td>\n",
       "      <td>1</td>\n",
       "      <td>33403</td>\n",
       "      <td>4991</td>\n",
       "      <td>1379</td>\n",
       "      <td>5</td>\n",
       "      <td>1</td>\n",
       "      <td>1080</td>\n",
       "      <td>11</td>\n",
       "      <td>2</td>\n",
       "    </tr>\n",
       "    <tr>\n",
       "      <th>3690</th>\n",
       "      <td>AXIN2</td>\n",
       "      <td>2</td>\n",
       "      <td>An unselected series of 310 colorectal carcino...</td>\n",
       "      <td>Truncating Mutations</td>\n",
       "      <td>AXIN2 Truncating Mutations</td>\n",
       "      <td>1</td>\n",
       "      <td>1</td>\n",
       "      <td>2</td>\n",
       "      <td>5</td>\n",
       "      <td>20</td>\n",
       "      <td>...</td>\n",
       "      <td>5</td>\n",
       "      <td>1</td>\n",
       "      <td>66400</td>\n",
       "      <td>10348</td>\n",
       "      <td>3460</td>\n",
       "      <td>20</td>\n",
       "      <td>2</td>\n",
       "      <td>286</td>\n",
       "      <td>26</td>\n",
       "      <td>3</td>\n",
       "    </tr>\n",
       "    <tr>\n",
       "      <th>3691</th>\n",
       "      <td>WNT4</td>\n",
       "      <td>3</td>\n",
       "      <td>Mycosis fungoides and Sézary syndrome are prim...</td>\n",
       "      <td>E216G</td>\n",
       "      <td>WNT4 E216G</td>\n",
       "      <td>0</td>\n",
       "      <td>1</td>\n",
       "      <td>1</td>\n",
       "      <td>4</td>\n",
       "      <td>5</td>\n",
       "      <td>...</td>\n",
       "      <td>4</td>\n",
       "      <td>1</td>\n",
       "      <td>58544</td>\n",
       "      <td>8638</td>\n",
       "      <td>672</td>\n",
       "      <td>5</td>\n",
       "      <td>1</td>\n",
       "      <td>4287</td>\n",
       "      <td>10</td>\n",
       "      <td>2</td>\n",
       "    </tr>\n",
       "    <tr>\n",
       "      <th>3692</th>\n",
       "      <td>SUCLA2</td>\n",
       "      <td>4</td>\n",
       "      <td>Regulated progression through the cell cycle ...</td>\n",
       "      <td>G118R</td>\n",
       "      <td>SUCLA2 G118R</td>\n",
       "      <td>0</td>\n",
       "      <td>1</td>\n",
       "      <td>1</td>\n",
       "      <td>6</td>\n",
       "      <td>5</td>\n",
       "      <td>...</td>\n",
       "      <td>6</td>\n",
       "      <td>1</td>\n",
       "      <td>42023</td>\n",
       "      <td>6221</td>\n",
       "      <td>1038</td>\n",
       "      <td>5</td>\n",
       "      <td>1</td>\n",
       "      <td>3841</td>\n",
       "      <td>12</td>\n",
       "      <td>2</td>\n",
       "    </tr>\n",
       "    <tr>\n",
       "      <th>3693</th>\n",
       "      <td>BRAF</td>\n",
       "      <td>5</td>\n",
       "      <td>Pilocytic astrocytoma (PA) is emerging as a tu...</td>\n",
       "      <td>T599insTT</td>\n",
       "      <td>BRAF T599insTT</td>\n",
       "      <td>1</td>\n",
       "      <td>0</td>\n",
       "      <td>1</td>\n",
       "      <td>4</td>\n",
       "      <td>9</td>\n",
       "      <td>...</td>\n",
       "      <td>4</td>\n",
       "      <td>1</td>\n",
       "      <td>22499</td>\n",
       "      <td>3280</td>\n",
       "      <td>3402</td>\n",
       "      <td>9</td>\n",
       "      <td>1</td>\n",
       "      <td>430</td>\n",
       "      <td>14</td>\n",
       "      <td>2</td>\n",
       "    </tr>\n",
       "  </tbody>\n",
       "</table>\n",
       "<p>5 rows × 4334 columns</p>\n",
       "</div>"
      ],
      "text/plain": [
       "        Gene  ID                                               Text  \\\n",
       "3689   CHEK2   1  The incidence of breast cancer is increasing i...   \n",
       "3690   AXIN2   2  An unselected series of 310 colorectal carcino...   \n",
       "3691    WNT4   3  Mycosis fungoides and Sézary syndrome are prim...   \n",
       "3692  SUCLA2   4   Regulated progression through the cell cycle ...   \n",
       "3693    BRAF   5  Pilocytic astrocytoma (PA) is emerging as a tu...   \n",
       "\n",
       "                 Variation                     GeneVar  Gene_Share  \\\n",
       "3689                 H371Y                 CHEK2 H371Y           1   \n",
       "3690  Truncating Mutations  AXIN2 Truncating Mutations           1   \n",
       "3691                 E216G                  WNT4 E216G           0   \n",
       "3692                 G118R                SUCLA2 G118R           0   \n",
       "3693             T599insTT              BRAF T599insTT           1   \n",
       "\n",
       "      Variation_Share  Gene_Variation_Share  GL  VL      ...        Gene_len  \\\n",
       "3689                1                     2   5   5      ...               5   \n",
       "3690                1                     2   5  20      ...               5   \n",
       "3691                1                     1   4   5      ...               4   \n",
       "3692                1                     1   6   5      ...               6   \n",
       "3693                0                     1   4   9      ...               4   \n",
       "\n",
       "      Gene_words  Text_len  Text_words  Variation_lbl_enc  Variation_len  \\\n",
       "3689           1     33403        4991               1379              5   \n",
       "3690           1     66400       10348               3460             20   \n",
       "3691           1     58544        8638                672              5   \n",
       "3692           1     42023        6221               1038              5   \n",
       "3693           1     22499        3280               3402              9   \n",
       "\n",
       "      Variation_words  GeneVar_lbl_enc  GeneVar_len  GeneVar_words  \n",
       "3689                1             1080           11              2  \n",
       "3690                2              286           26              3  \n",
       "3691                1             4287           10              2  \n",
       "3692                1             3841           12              2  \n",
       "3693                1              430           14              2  \n",
       "\n",
       "[5 rows x 4334 columns]"
      ]
     },
     "execution_count": 20,
     "metadata": {},
     "output_type": "execute_result"
    }
   ],
   "source": [
    "df_test.head()"
   ]
  },
  {
   "cell_type": "code",
   "execution_count": 21,
   "metadata": {
    "collapsed": true
   },
   "outputs": [],
   "source": [
    "feather.write_dataframe(df_train, '../cache/train_stage2_fe.feather')"
   ]
  },
  {
   "cell_type": "code",
   "execution_count": 22,
   "metadata": {
    "collapsed": true
   },
   "outputs": [],
   "source": [
    "feather.write_dataframe(df_test, '../cache/test_stage2_fe.feather')"
   ]
  },
  {
   "cell_type": "code",
   "execution_count": null,
   "metadata": {
    "collapsed": true
   },
   "outputs": [],
   "source": []
  },
  {
   "cell_type": "code",
   "execution_count": 23,
   "metadata": {},
   "outputs": [
    {
     "name": "stderr",
     "output_type": "stream",
     "text": [
      "/home/watts/anaconda2/envs/aind-dog/lib/python3.6/site-packages/ipykernel_launcher.py:1: SettingWithCopyWarning: \n",
      "A value is trying to be set on a copy of a slice from a DataFrame.\n",
      "Try using .loc[row_indexer,col_indexer] = value instead\n",
      "\n",
      "See the caveats in the documentation: http://pandas.pydata.org/pandas-docs/stable/indexing.html#indexing-view-versus-copy\n",
      "  \"\"\"Entry point for launching an IPython kernel.\n",
      "/home/watts/anaconda2/envs/aind-dog/lib/python3.6/site-packages/ipykernel_launcher.py:2: SettingWithCopyWarning: \n",
      "A value is trying to be set on a copy of a slice from a DataFrame.\n",
      "Try using .loc[row_indexer,col_indexer] = value instead\n",
      "\n",
      "See the caveats in the documentation: http://pandas.pydata.org/pandas-docs/stable/indexing.html#indexing-view-versus-copy\n",
      "  \n"
     ]
    }
   ],
   "source": [
    "df_train['Text'] = [text_to_wordlist(w) for w in df_train['Text'].values]\n",
    "df_test['Text'] = [text_to_wordlist(w) for w in df_test['Text'].values]"
   ]
  },
  {
   "cell_type": "code",
   "execution_count": 24,
   "metadata": {
    "collapsed": true
   },
   "outputs": [],
   "source": [
    "test_id = df_test.ID.values\n",
    "df = pd.DataFrame()\n",
    "df['ID'] = test_id\n",
    "df.to_csv('../cache/stage2_test_id.csv', index=False)"
   ]
  },
  {
   "cell_type": "code",
   "execution_count": 25,
   "metadata": {
    "collapsed": true
   },
   "outputs": [],
   "source": [
    "y = df_train.Class.values\n",
    "df = pd.DataFrame()\n",
    "df['y'] = y\n",
    "df.to_csv('../cache/stage2_labels.csv', index=False)"
   ]
  },
  {
   "cell_type": "code",
   "execution_count": 26,
   "metadata": {
    "collapsed": true
   },
   "outputs": [],
   "source": [
    "df_train = df_train.drop('Class',axis=1)"
   ]
  },
  {
   "cell_type": "code",
   "execution_count": 29,
   "metadata": {
    "collapsed": true
   },
   "outputs": [],
   "source": [
    "fp = 0\n",
    "fp = get_fp(fp)"
   ]
  },
  {
   "cell_type": "code",
   "execution_count": 30,
   "metadata": {},
   "outputs": [
    {
     "name": "stderr",
     "output_type": "stream",
     "text": [
      "/home/watts/anaconda2/envs/aind-dog/lib/python3.6/site-packages/sklearn/feature_extraction/hashing.py:94: DeprecationWarning: the option non_negative=True has been deprecated in 0.19 and will be removed in version 0.21.\n",
      "  \" in version 0.21.\", DeprecationWarning)\n",
      "/home/watts/anaconda2/envs/aind-dog/lib/python3.6/site-packages/sklearn/feature_extraction/hashing.py:94: DeprecationWarning: the option non_negative=True has been deprecated in 0.19 and will be removed in version 0.21.\n",
      "  \" in version 0.21.\", DeprecationWarning)\n"
     ]
    },
    {
     "name": "stdout",
     "output_type": "stream",
     "text": [
      "(3689, 4689)\n"
     ]
    }
   ],
   "source": [
    "df_train = fp.fit_transform(df_train)\n",
    "print (df_train.shape)"
   ]
  },
  {
   "cell_type": "code",
   "execution_count": 31,
   "metadata": {},
   "outputs": [
    {
     "name": "stderr",
     "output_type": "stream",
     "text": [
      "/home/watts/anaconda2/envs/aind-dog/lib/python3.6/site-packages/sklearn/feature_extraction/hashing.py:94: DeprecationWarning: the option non_negative=True has been deprecated in 0.19 and will be removed in version 0.21.\n",
      "  \" in version 0.21.\", DeprecationWarning)\n",
      "/home/watts/anaconda2/envs/aind-dog/lib/python3.6/site-packages/sklearn/feature_extraction/hashing.py:94: DeprecationWarning: the option non_negative=True has been deprecated in 0.19 and will be removed in version 0.21.\n",
      "  \" in version 0.21.\", DeprecationWarning)\n"
     ]
    },
    {
     "name": "stdout",
     "output_type": "stream",
     "text": [
      "(986, 4689)\n"
     ]
    }
   ],
   "source": [
    "df_test = fp.fit_transform(df_test)\n",
    "print (df_test.shape)"
   ]
  },
  {
   "cell_type": "code",
   "execution_count": 32,
   "metadata": {
    "collapsed": true
   },
   "outputs": [],
   "source": [
    "np.save('../cache/train_stage2_fe2', df_train)\n",
    "np.save('../cache/test_stage2_fe2', df_test)"
   ]
  },
  {
   "cell_type": "code",
   "execution_count": 33,
   "metadata": {
    "collapsed": true
   },
   "outputs": [],
   "source": [
    "# now claculate weights"
   ]
  },
  {
   "cell_type": "code",
   "execution_count": 34,
   "metadata": {
    "collapsed": true
   },
   "outputs": [],
   "source": [
    "df_train = feather.read_dataframe('../cache/train_stage2_fe.feather')"
   ]
  },
  {
   "cell_type": "code",
   "execution_count": 35,
   "metadata": {},
   "outputs": [
    {
     "data": {
      "text/html": [
       "<div>\n",
       "<style>\n",
       "    .dataframe thead tr:only-child th {\n",
       "        text-align: right;\n",
       "    }\n",
       "\n",
       "    .dataframe thead th {\n",
       "        text-align: left;\n",
       "    }\n",
       "\n",
       "    .dataframe tbody tr th {\n",
       "        vertical-align: top;\n",
       "    }\n",
       "</style>\n",
       "<table border=\"1\" class=\"dataframe\">\n",
       "  <thead>\n",
       "    <tr style=\"text-align: right;\">\n",
       "      <th></th>\n",
       "      <th>Gene</th>\n",
       "      <th>ID</th>\n",
       "      <th>Text</th>\n",
       "      <th>Variation</th>\n",
       "      <th>GeneVar</th>\n",
       "      <th>Gene_Share</th>\n",
       "      <th>Variation_Share</th>\n",
       "      <th>Gene_Variation_Share</th>\n",
       "      <th>GL</th>\n",
       "      <th>VL</th>\n",
       "      <th>...</th>\n",
       "      <th>Gene_words</th>\n",
       "      <th>Text_len</th>\n",
       "      <th>Text_words</th>\n",
       "      <th>Variation_lbl_enc</th>\n",
       "      <th>Variation_len</th>\n",
       "      <th>Variation_words</th>\n",
       "      <th>GeneVar_lbl_enc</th>\n",
       "      <th>GeneVar_len</th>\n",
       "      <th>GeneVar_words</th>\n",
       "      <th>Class</th>\n",
       "    </tr>\n",
       "  </thead>\n",
       "  <tbody>\n",
       "    <tr>\n",
       "      <th>0</th>\n",
       "      <td>FAM58A</td>\n",
       "      <td>0</td>\n",
       "      <td>Cyclin-dependent kinases (CDKs) regulate a var...</td>\n",
       "      <td>Truncating Mutations</td>\n",
       "      <td>FAM58A Truncating Mutations</td>\n",
       "      <td>1</td>\n",
       "      <td>1</td>\n",
       "      <td>2</td>\n",
       "      <td>6</td>\n",
       "      <td>20</td>\n",
       "      <td>...</td>\n",
       "      <td>1</td>\n",
       "      <td>39672</td>\n",
       "      <td>6105</td>\n",
       "      <td>3460</td>\n",
       "      <td>20</td>\n",
       "      <td>2</td>\n",
       "      <td>1654</td>\n",
       "      <td>27</td>\n",
       "      <td>3</td>\n",
       "      <td>1</td>\n",
       "    </tr>\n",
       "    <tr>\n",
       "      <th>1</th>\n",
       "      <td>CBL</td>\n",
       "      <td>1</td>\n",
       "      <td>Abstract Background  Non-small cell lung canc...</td>\n",
       "      <td>W802*</td>\n",
       "      <td>CBL W802*</td>\n",
       "      <td>1</td>\n",
       "      <td>1</td>\n",
       "      <td>2</td>\n",
       "      <td>3</td>\n",
       "      <td>5</td>\n",
       "      <td>...</td>\n",
       "      <td>1</td>\n",
       "      <td>36691</td>\n",
       "      <td>5783</td>\n",
       "      <td>3748</td>\n",
       "      <td>5</td>\n",
       "      <td>1</td>\n",
       "      <td>941</td>\n",
       "      <td>9</td>\n",
       "      <td>2</td>\n",
       "      <td>2</td>\n",
       "    </tr>\n",
       "    <tr>\n",
       "      <th>2</th>\n",
       "      <td>CBL</td>\n",
       "      <td>2</td>\n",
       "      <td>Abstract Background  Non-small cell lung canc...</td>\n",
       "      <td>Q249E</td>\n",
       "      <td>CBL Q249E</td>\n",
       "      <td>1</td>\n",
       "      <td>1</td>\n",
       "      <td>2</td>\n",
       "      <td>3</td>\n",
       "      <td>5</td>\n",
       "      <td>...</td>\n",
       "      <td>1</td>\n",
       "      <td>36691</td>\n",
       "      <td>5783</td>\n",
       "      <td>2425</td>\n",
       "      <td>5</td>\n",
       "      <td>1</td>\n",
       "      <td>933</td>\n",
       "      <td>9</td>\n",
       "      <td>2</td>\n",
       "      <td>2</td>\n",
       "    </tr>\n",
       "    <tr>\n",
       "      <th>3</th>\n",
       "      <td>CBL</td>\n",
       "      <td>3</td>\n",
       "      <td>Recent evidence has demonstrated that acquired...</td>\n",
       "      <td>N454D</td>\n",
       "      <td>CBL N454D</td>\n",
       "      <td>1</td>\n",
       "      <td>1</td>\n",
       "      <td>2</td>\n",
       "      <td>3</td>\n",
       "      <td>5</td>\n",
       "      <td>...</td>\n",
       "      <td>1</td>\n",
       "      <td>36238</td>\n",
       "      <td>5625</td>\n",
       "      <td>2132</td>\n",
       "      <td>5</td>\n",
       "      <td>1</td>\n",
       "      <td>929</td>\n",
       "      <td>9</td>\n",
       "      <td>2</td>\n",
       "      <td>3</td>\n",
       "    </tr>\n",
       "    <tr>\n",
       "      <th>4</th>\n",
       "      <td>CBL</td>\n",
       "      <td>4</td>\n",
       "      <td>Oncogenic mutations in the monomeric Casitas B...</td>\n",
       "      <td>L399V</td>\n",
       "      <td>CBL L399V</td>\n",
       "      <td>1</td>\n",
       "      <td>1</td>\n",
       "      <td>2</td>\n",
       "      <td>3</td>\n",
       "      <td>5</td>\n",
       "      <td>...</td>\n",
       "      <td>1</td>\n",
       "      <td>41308</td>\n",
       "      <td>6248</td>\n",
       "      <td>1854</td>\n",
       "      <td>5</td>\n",
       "      <td>1</td>\n",
       "      <td>927</td>\n",
       "      <td>9</td>\n",
       "      <td>2</td>\n",
       "      <td>4</td>\n",
       "    </tr>\n",
       "  </tbody>\n",
       "</table>\n",
       "<p>5 rows × 4335 columns</p>\n",
       "</div>"
      ],
      "text/plain": [
       "     Gene  ID                                               Text  \\\n",
       "0  FAM58A   0  Cyclin-dependent kinases (CDKs) regulate a var...   \n",
       "1     CBL   1   Abstract Background  Non-small cell lung canc...   \n",
       "2     CBL   2   Abstract Background  Non-small cell lung canc...   \n",
       "3     CBL   3  Recent evidence has demonstrated that acquired...   \n",
       "4     CBL   4  Oncogenic mutations in the monomeric Casitas B...   \n",
       "\n",
       "              Variation                      GeneVar  Gene_Share  \\\n",
       "0  Truncating Mutations  FAM58A Truncating Mutations           1   \n",
       "1                 W802*                    CBL W802*           1   \n",
       "2                 Q249E                    CBL Q249E           1   \n",
       "3                 N454D                    CBL N454D           1   \n",
       "4                 L399V                    CBL L399V           1   \n",
       "\n",
       "   Variation_Share  Gene_Variation_Share  GL  VL  ...    Gene_words  Text_len  \\\n",
       "0                1                     2   6  20  ...             1     39672   \n",
       "1                1                     2   3   5  ...             1     36691   \n",
       "2                1                     2   3   5  ...             1     36691   \n",
       "3                1                     2   3   5  ...             1     36238   \n",
       "4                1                     2   3   5  ...             1     41308   \n",
       "\n",
       "   Text_words  Variation_lbl_enc  Variation_len  Variation_words  \\\n",
       "0        6105               3460             20                2   \n",
       "1        5783               3748              5                1   \n",
       "2        5783               2425              5                1   \n",
       "3        5625               2132              5                1   \n",
       "4        6248               1854              5                1   \n",
       "\n",
       "   GeneVar_lbl_enc  GeneVar_len  GeneVar_words  Class  \n",
       "0             1654           27              3      1  \n",
       "1              941            9              2      2  \n",
       "2              933            9              2      2  \n",
       "3              929            9              2      3  \n",
       "4              927            9              2      4  \n",
       "\n",
       "[5 rows x 4335 columns]"
      ]
     },
     "execution_count": 35,
     "metadata": {},
     "output_type": "execute_result"
    }
   ],
   "source": [
    "df_train.head()"
   ]
  },
  {
   "cell_type": "code",
   "execution_count": 36,
   "metadata": {},
   "outputs": [
    {
     "data": {
      "text/plain": [
       "(3689, 4335)"
      ]
     },
     "execution_count": 36,
     "metadata": {},
     "output_type": "execute_result"
    }
   ],
   "source": [
    "df_train.shape"
   ]
  },
  {
   "cell_type": "code",
   "execution_count": 37,
   "metadata": {},
   "outputs": [
    {
     "data": {
      "text/plain": [
       "7    1054\n",
       "4     751\n",
       "1     662\n",
       "2     498\n",
       "6     297\n",
       "5     267\n",
       "3      96\n",
       "9      43\n",
       "8      21\n",
       "Name: Class, dtype: int64"
      ]
     },
     "execution_count": 37,
     "metadata": {},
     "output_type": "execute_result"
    }
   ],
   "source": [
    "pd.value_counts(df_train['Class'])"
   ]
  },
  {
   "cell_type": "code",
   "execution_count": 38,
   "metadata": {
    "collapsed": true
   },
   "outputs": [],
   "source": [
    "p =pd.value_counts(df_train['Class'])"
   ]
  },
  {
   "cell_type": "code",
   "execution_count": 39,
   "metadata": {},
   "outputs": [
    {
     "name": "stdout",
     "output_type": "stream",
     "text": [
      "1054\n"
     ]
    }
   ],
   "source": [
    "print(p[7])"
   ]
  },
  {
   "cell_type": "code",
   "execution_count": 40,
   "metadata": {},
   "outputs": [
    {
     "name": "stdout",
     "output_type": "stream",
     "text": [
      "21\n"
     ]
    }
   ],
   "source": [
    "print(p[8])"
   ]
  },
  {
   "cell_type": "code",
   "execution_count": 41,
   "metadata": {
    "collapsed": true
   },
   "outputs": [],
   "source": [
    "df_train['wt'] =  df_train['Class'].map(lambda s: get_wt(s))"
   ]
  },
  {
   "cell_type": "code",
   "execution_count": 42,
   "metadata": {},
   "outputs": [
    {
     "data": {
      "text/html": [
       "<div>\n",
       "<style>\n",
       "    .dataframe thead tr:only-child th {\n",
       "        text-align: right;\n",
       "    }\n",
       "\n",
       "    .dataframe thead th {\n",
       "        text-align: left;\n",
       "    }\n",
       "\n",
       "    .dataframe tbody tr th {\n",
       "        vertical-align: top;\n",
       "    }\n",
       "</style>\n",
       "<table border=\"1\" class=\"dataframe\">\n",
       "  <thead>\n",
       "    <tr style=\"text-align: right;\">\n",
       "      <th></th>\n",
       "      <th>Gene</th>\n",
       "      <th>ID</th>\n",
       "      <th>Text</th>\n",
       "      <th>Variation</th>\n",
       "      <th>GeneVar</th>\n",
       "      <th>Gene_Share</th>\n",
       "      <th>Variation_Share</th>\n",
       "      <th>Gene_Variation_Share</th>\n",
       "      <th>GL</th>\n",
       "      <th>VL</th>\n",
       "      <th>...</th>\n",
       "      <th>Text_len</th>\n",
       "      <th>Text_words</th>\n",
       "      <th>Variation_lbl_enc</th>\n",
       "      <th>Variation_len</th>\n",
       "      <th>Variation_words</th>\n",
       "      <th>GeneVar_lbl_enc</th>\n",
       "      <th>GeneVar_len</th>\n",
       "      <th>GeneVar_words</th>\n",
       "      <th>Class</th>\n",
       "      <th>wt</th>\n",
       "    </tr>\n",
       "  </thead>\n",
       "  <tbody>\n",
       "    <tr>\n",
       "      <th>0</th>\n",
       "      <td>FAM58A</td>\n",
       "      <td>0</td>\n",
       "      <td>Cyclin-dependent kinases (CDKs) regulate a var...</td>\n",
       "      <td>Truncating Mutations</td>\n",
       "      <td>FAM58A Truncating Mutations</td>\n",
       "      <td>1</td>\n",
       "      <td>1</td>\n",
       "      <td>2</td>\n",
       "      <td>6</td>\n",
       "      <td>20</td>\n",
       "      <td>...</td>\n",
       "      <td>39672</td>\n",
       "      <td>6105</td>\n",
       "      <td>3460</td>\n",
       "      <td>20</td>\n",
       "      <td>2</td>\n",
       "      <td>1654</td>\n",
       "      <td>27</td>\n",
       "      <td>3</td>\n",
       "      <td>1</td>\n",
       "      <td>4.572508</td>\n",
       "    </tr>\n",
       "    <tr>\n",
       "      <th>1</th>\n",
       "      <td>CBL</td>\n",
       "      <td>1</td>\n",
       "      <td>Abstract Background  Non-small cell lung canc...</td>\n",
       "      <td>W802*</td>\n",
       "      <td>CBL W802*</td>\n",
       "      <td>1</td>\n",
       "      <td>1</td>\n",
       "      <td>2</td>\n",
       "      <td>3</td>\n",
       "      <td>5</td>\n",
       "      <td>...</td>\n",
       "      <td>36691</td>\n",
       "      <td>5783</td>\n",
       "      <td>3748</td>\n",
       "      <td>5</td>\n",
       "      <td>1</td>\n",
       "      <td>941</td>\n",
       "      <td>9</td>\n",
       "      <td>2</td>\n",
       "      <td>2</td>\n",
       "      <td>6.407631</td>\n",
       "    </tr>\n",
       "    <tr>\n",
       "      <th>2</th>\n",
       "      <td>CBL</td>\n",
       "      <td>2</td>\n",
       "      <td>Abstract Background  Non-small cell lung canc...</td>\n",
       "      <td>Q249E</td>\n",
       "      <td>CBL Q249E</td>\n",
       "      <td>1</td>\n",
       "      <td>1</td>\n",
       "      <td>2</td>\n",
       "      <td>3</td>\n",
       "      <td>5</td>\n",
       "      <td>...</td>\n",
       "      <td>36691</td>\n",
       "      <td>5783</td>\n",
       "      <td>2425</td>\n",
       "      <td>5</td>\n",
       "      <td>1</td>\n",
       "      <td>933</td>\n",
       "      <td>9</td>\n",
       "      <td>2</td>\n",
       "      <td>2</td>\n",
       "      <td>6.407631</td>\n",
       "    </tr>\n",
       "    <tr>\n",
       "      <th>3</th>\n",
       "      <td>CBL</td>\n",
       "      <td>3</td>\n",
       "      <td>Recent evidence has demonstrated that acquired...</td>\n",
       "      <td>N454D</td>\n",
       "      <td>CBL N454D</td>\n",
       "      <td>1</td>\n",
       "      <td>1</td>\n",
       "      <td>2</td>\n",
       "      <td>3</td>\n",
       "      <td>5</td>\n",
       "      <td>...</td>\n",
       "      <td>36238</td>\n",
       "      <td>5625</td>\n",
       "      <td>2132</td>\n",
       "      <td>5</td>\n",
       "      <td>1</td>\n",
       "      <td>929</td>\n",
       "      <td>9</td>\n",
       "      <td>2</td>\n",
       "      <td>3</td>\n",
       "      <td>37.427083</td>\n",
       "    </tr>\n",
       "    <tr>\n",
       "      <th>4</th>\n",
       "      <td>CBL</td>\n",
       "      <td>4</td>\n",
       "      <td>Oncogenic mutations in the monomeric Casitas B...</td>\n",
       "      <td>L399V</td>\n",
       "      <td>CBL L399V</td>\n",
       "      <td>1</td>\n",
       "      <td>1</td>\n",
       "      <td>2</td>\n",
       "      <td>3</td>\n",
       "      <td>5</td>\n",
       "      <td>...</td>\n",
       "      <td>41308</td>\n",
       "      <td>6248</td>\n",
       "      <td>1854</td>\n",
       "      <td>5</td>\n",
       "      <td>1</td>\n",
       "      <td>927</td>\n",
       "      <td>9</td>\n",
       "      <td>2</td>\n",
       "      <td>4</td>\n",
       "      <td>3.912117</td>\n",
       "    </tr>\n",
       "  </tbody>\n",
       "</table>\n",
       "<p>5 rows × 4336 columns</p>\n",
       "</div>"
      ],
      "text/plain": [
       "     Gene  ID                                               Text  \\\n",
       "0  FAM58A   0  Cyclin-dependent kinases (CDKs) regulate a var...   \n",
       "1     CBL   1   Abstract Background  Non-small cell lung canc...   \n",
       "2     CBL   2   Abstract Background  Non-small cell lung canc...   \n",
       "3     CBL   3  Recent evidence has demonstrated that acquired...   \n",
       "4     CBL   4  Oncogenic mutations in the monomeric Casitas B...   \n",
       "\n",
       "              Variation                      GeneVar  Gene_Share  \\\n",
       "0  Truncating Mutations  FAM58A Truncating Mutations           1   \n",
       "1                 W802*                    CBL W802*           1   \n",
       "2                 Q249E                    CBL Q249E           1   \n",
       "3                 N454D                    CBL N454D           1   \n",
       "4                 L399V                    CBL L399V           1   \n",
       "\n",
       "   Variation_Share  Gene_Variation_Share  GL  VL    ...      Text_len  \\\n",
       "0                1                     2   6  20    ...         39672   \n",
       "1                1                     2   3   5    ...         36691   \n",
       "2                1                     2   3   5    ...         36691   \n",
       "3                1                     2   3   5    ...         36238   \n",
       "4                1                     2   3   5    ...         41308   \n",
       "\n",
       "   Text_words  Variation_lbl_enc  Variation_len  Variation_words  \\\n",
       "0        6105               3460             20                2   \n",
       "1        5783               3748              5                1   \n",
       "2        5783               2425              5                1   \n",
       "3        5625               2132              5                1   \n",
       "4        6248               1854              5                1   \n",
       "\n",
       "   GeneVar_lbl_enc  GeneVar_len  GeneVar_words  Class         wt  \n",
       "0             1654           27              3      1   4.572508  \n",
       "1              941            9              2      2   6.407631  \n",
       "2              933            9              2      2   6.407631  \n",
       "3              929            9              2      3  37.427083  \n",
       "4              927            9              2      4   3.912117  \n",
       "\n",
       "[5 rows x 4336 columns]"
      ]
     },
     "execution_count": 42,
     "metadata": {},
     "output_type": "execute_result"
    }
   ],
   "source": [
    "df_train.head()"
   ]
  },
  {
   "cell_type": "code",
   "execution_count": 43,
   "metadata": {
    "collapsed": true
   },
   "outputs": [],
   "source": [
    "wt = df_train.wt.values\n",
    "df = pd.DataFrame()\n",
    "df['wt'] = wt\n",
    "df.to_csv('../cache/stage2_weights.csv', index=False)"
   ]
  },
  {
   "cell_type": "code",
   "execution_count": 44,
   "metadata": {
    "collapsed": true
   },
   "outputs": [],
   "source": [
    "np.save('../cache/stage2_train_weights', wt)"
   ]
  },
  {
   "cell_type": "code",
   "execution_count": 45,
   "metadata": {
    "collapsed": true
   },
   "outputs": [],
   "source": [
    "my_wt = {}\n",
    "n_class = 9"
   ]
  },
  {
   "cell_type": "code",
   "execution_count": 46,
   "metadata": {
    "collapsed": true
   },
   "outputs": [],
   "source": [
    "for cls in range(n_class):\n",
    "    my_wt[cls+1] = get_wt(cls+1)"
   ]
  },
  {
   "cell_type": "code",
   "execution_count": 47,
   "metadata": {},
   "outputs": [
    {
     "data": {
      "text/plain": [
       "{1: 4.572507552870091,\n",
       " 2: 6.407630522088353,\n",
       " 3: 37.427083333333336,\n",
       " 4: 3.912117177097204,\n",
       " 5: 12.816479400749063,\n",
       " 6: 11.42087542087542,\n",
       " 7: 2.5,\n",
       " 8: 174.66666666666666,\n",
       " 9: 84.79069767441861}"
      ]
     },
     "execution_count": 47,
     "metadata": {},
     "output_type": "execute_result"
    }
   ],
   "source": [
    "my_wt"
   ]
  },
  {
   "cell_type": "code",
   "execution_count": 48,
   "metadata": {
    "collapsed": true
   },
   "outputs": [],
   "source": [
    "np.save('../cache/stage2_train_weights_per_class', my_wt)"
   ]
  },
  {
   "cell_type": "code",
   "execution_count": null,
   "metadata": {
    "collapsed": true
   },
   "outputs": [],
   "source": []
  },
  {
   "cell_type": "code",
   "execution_count": null,
   "metadata": {
    "collapsed": true
   },
   "outputs": [],
   "source": [
    "# now create validation data to be used by all stage2 classifers"
   ]
  },
  {
   "cell_type": "code",
   "execution_count": 3,
   "metadata": {
    "collapsed": true
   },
   "outputs": [],
   "source": [
    "df_train = np.load('../cache/train_stage2_fe2.npy')\n",
    "df1 = pd.read_csv('../cache/stage2_labels.csv')\n",
    "y = df1['y'].values"
   ]
  },
  {
   "cell_type": "code",
   "execution_count": 5,
   "metadata": {
    "collapsed": true
   },
   "outputs": [],
   "source": [
    "x1,x2,y1,y2 = train_test_split(df_train, y, test_size=0.2, random_state=42, stratify=y)"
   ]
  },
  {
   "cell_type": "code",
   "execution_count": 6,
   "metadata": {
    "collapsed": true
   },
   "outputs": [],
   "source": [
    "np.save('../cache/train_stage2_x1', x1)\n",
    "np.save('../cache/train_stage2_x2', x2)\n",
    "np.save('../cache/train_stage2_y1', y1)\n",
    "np.save('../cache/train_stage2_y2', y2)"
   ]
  },
  {
   "cell_type": "code",
   "execution_count": 16,
   "metadata": {
    "collapsed": true
   },
   "outputs": [],
   "source": []
  },
  {
   "cell_type": "code",
   "execution_count": 17,
   "metadata": {
    "collapsed": true
   },
   "outputs": [],
   "source": []
  },
  {
   "cell_type": "code",
   "execution_count": 18,
   "metadata": {},
   "outputs": [
    {
     "name": "stdout",
     "output_type": "stream",
     "text": [
      "{1: 4.578449905482041, 2: 6.414572864321608, 3: 37.324675324675326, 4: 3.9101497504159735, 5: 12.789719626168225, 6: 11.399159663865547, 7: 2.5005931198102016, 8: 172.58823529411765, 9: 85.79411764705883}\n"
     ]
    }
   ],
   "source": [
    "p =pd.value_counts(y1)\n",
    "df_train = pd.DataFrame(x1)\n",
    "my_wt = {}\n",
    "n_class = 9\n",
    "\n",
    "for cls in range(n_class):\n",
    "    my_wt[cls+1] = get_wt(cls+1)\n",
    "print(my_wt)\n",
    "\n",
    "np.save('../cache/stage2_x1_weights_per_class', my_wt)"
   ]
  },
  {
   "cell_type": "code",
   "execution_count": 19,
   "metadata": {
    "collapsed": true
   },
   "outputs": [],
   "source": []
  },
  {
   "cell_type": "code",
   "execution_count": 20,
   "metadata": {},
   "outputs": [
    {
     "name": "stdout",
     "output_type": "stream",
     "text": [
      "{1: 4.548872180451128, 2: 6.38, 3: 37.8421052631579, 4: 3.92, 5: 12.924528301886792, 6: 11.508474576271187, 7: 2.4976303317535544, 8: 183.5, 9: 81.0}\n"
     ]
    }
   ],
   "source": [
    "df_train = pd.DataFrame(x2)\n",
    "p =pd.value_counts(y2)\n",
    "\n",
    "my_wt = {}\n",
    "n_class = 9\n",
    "\n",
    "for cls in range(n_class):\n",
    "    my_wt[cls+1] = get_wt(cls+1)\n",
    "print(my_wt)"
   ]
  },
  {
   "cell_type": "code",
   "execution_count": 21,
   "metadata": {
    "collapsed": true
   },
   "outputs": [],
   "source": [
    "np.save('../cache/stage2_x2_weights_per_class', my_wt)"
   ]
  },
  {
   "cell_type": "code",
   "execution_count": null,
   "metadata": {
    "collapsed": true
   },
   "outputs": [],
   "source": []
  }
 ],
 "metadata": {
  "kernelspec": {
   "display_name": "Python 3",
   "language": "python",
   "name": "python3"
  },
  "language_info": {
   "codemirror_mode": {
    "name": "ipython",
    "version": 3
   },
   "file_extension": ".py",
   "mimetype": "text/x-python",
   "name": "python",
   "nbconvert_exporter": "python",
   "pygments_lexer": "ipython3",
   "version": "3.6.1"
  }
 },
 "nbformat": 4,
 "nbformat_minor": 2
}
