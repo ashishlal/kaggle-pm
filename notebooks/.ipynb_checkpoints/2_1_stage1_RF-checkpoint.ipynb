{
 "cells": [
  {
   "cell_type": "code",
   "execution_count": 1,
   "metadata": {},
   "outputs": [
    {
     "name": "stderr",
     "output_type": "stream",
     "text": [
      "/home/watts/anaconda2/envs/aind-dog/lib/python3.6/site-packages/sklearn/cross_validation.py:41: DeprecationWarning: This module was deprecated in version 0.18 in favor of the model_selection module into which all the refactored classes and functions are moved. Also note that the interface of the new CV iterators are different from that of this module. This module will be removed in 0.20.\n",
      "  \"This module will be removed in 0.20.\", DeprecationWarning)\n",
      "/home/watts/anaconda2/envs/aind-dog/lib/python3.6/site-packages/sklearn/grid_search.py:42: DeprecationWarning: This module was deprecated in version 0.18 in favor of the model_selection module into which all the refactored classes and functions are moved. This module will be removed in 0.20.\n",
      "  DeprecationWarning)\n"
     ]
    }
   ],
   "source": [
    "import re\n",
    "import numpy as np\n",
    "import pandas as pd\n",
    "import feather\n",
    "import xgboost as xgb\n",
    "import feather\n",
    "from sklearn.base import BaseEstimator as be\n",
    "from sklearn.base import TransformerMixin as tm\n",
    "from sklearn.pipeline import Pipeline\n",
    "from sklearn.pipeline import FeatureUnion\n",
    "from sklearn.feature_extraction.text import CountVectorizer\n",
    "from sklearn.feature_extraction.text import HashingVectorizer\n",
    "from sklearn.feature_extraction.text import TfidfTransformer\n",
    "from sklearn.decomposition import TruncatedSVD\n",
    "from sklearn.model_selection import train_test_split\n",
    "from sklearn.metrics import log_loss\n",
    "\n",
    "from sklearn.cross_validation import *\n",
    "from sklearn.grid_search import GridSearchCV\n",
    "\n",
    "from nltk.corpus import stopwords\n",
    "from nltk.stem import SnowballStemmer\n",
    "\n",
    "from sklearn.ensemble import RandomForestClassifier\n",
    "from sklearn.multioutput import MultiOutputClassifier\n",
    "\n",
    "from sklearn.utils import shuffle\n",
    "\n",
    "import pickle"
   ]
  },
  {
   "cell_type": "code",
   "execution_count": 2,
   "metadata": {
    "collapsed": true
   },
   "outputs": [],
   "source": [
    "def save_classifier(fname, clf):\n",
    "    # save the classifier\n",
    "    with open(fname, 'wb') as fid:\n",
    "        pickle.dump(clf, fid)\n",
    "\n",
    "def load_classifier(fname):\n",
    "    # load it again\n",
    "    with open(fname, 'rb') as fid:\n",
    "        clf = pickle.load(fid)\n",
    "        return clf"
   ]
  },
  {
   "cell_type": "code",
   "execution_count": 4,
   "metadata": {},
   "outputs": [],
   "source": [
    "df_train = np.load('../cache/train_stage1_fe2.npy')"
   ]
  },
  {
   "cell_type": "code",
   "execution_count": 5,
   "metadata": {
    "collapsed": true
   },
   "outputs": [],
   "source": [
    "df_test = np.load('../cache/test_stage1_fe2.npy')"
   ]
  },
  {
   "cell_type": "code",
   "execution_count": 6,
   "metadata": {
    "collapsed": true
   },
   "outputs": [],
   "source": [
    "df = pd.read_csv('../cache/stage1_labels.csv')"
   ]
  },
  {
   "cell_type": "code",
   "execution_count": 9,
   "metadata": {
    "collapsed": true
   },
   "outputs": [],
   "source": [
    "y = df['y'].values"
   ]
  },
  {
   "cell_type": "code",
   "execution_count": 10,
   "metadata": {
    "collapsed": true
   },
   "outputs": [],
   "source": [
    "df1 = pd.read_csv('../cache/stage1_test_id.csv')\n",
    "test_id = df1['ID'].values"
   ]
  },
  {
   "cell_type": "code",
   "execution_count": 11,
   "metadata": {},
   "outputs": [
    {
     "name": "stdout",
     "output_type": "stream",
     "text": [
      "(3321,)\n"
     ]
    }
   ],
   "source": [
    "print(y.shape)"
   ]
  },
  {
   "cell_type": "code",
   "execution_count": 12,
   "metadata": {},
   "outputs": [
    {
     "data": {
      "text/plain": [
       "array([0, 1, 2, 3, 4, 5, 6, 7, 8])"
      ]
     },
     "execution_count": 12,
     "metadata": {},
     "output_type": "execute_result"
    }
   ],
   "source": [
    "np.unique(y)"
   ]
  },
  {
   "cell_type": "code",
   "execution_count": 13,
   "metadata": {
    "collapsed": true
   },
   "outputs": [],
   "source": [
    "\n",
    "param_grid = { \n",
    "    'n_estimators': [50, 200, 700],\n",
    "    'max_features': ['auto', 'sqrt', 'log2']\n",
    "}\n",
    "\n",
    "for cls in [0,1,2,3,4,5,6,7,8]:\n",
    "    y_this_class = [1 if cls==i else 0 for i in y]\n",
    "#     print(y_this_class)\n",
    "    model_RF = RandomForestClassifier(random_state=0)\n",
    "    clf = GridSearchCV(model_RF, param_grid=param_grid, cv=5,n_jobs=4)\n",
    "    clf.fit(df_train, y_this_class )\n",
    "    fname = '../cache/stage1_rf_cls_' + str(cls) + '.pkl'\n",
    "    save_classifier(fname, clf)"
   ]
  },
  {
   "cell_type": "code",
   "execution_count": 14,
   "metadata": {
    "collapsed": true
   },
   "outputs": [],
   "source": [
    "n_classes = np.unique(y)"
   ]
  },
  {
   "cell_type": "code",
   "execution_count": 15,
   "metadata": {},
   "outputs": [
    {
     "name": "stdout",
     "output_type": "stream",
     "text": [
      "0.7961457392351702\n",
      "{'max_features': 'log2', 'n_estimators': 200}\n",
      "0.8551641071966275\n",
      "{'max_features': 'log2', 'n_estimators': 50}\n",
      "0.9433905450165613\n",
      "{'max_features': 'log2', 'n_estimators': 50}\n",
      "0.7500752785305631\n",
      "{'max_features': 'log2', 'n_estimators': 50}\n",
      "0.8798554652213189\n",
      "{'max_features': 'log2', 'n_estimators': 200}\n",
      "0.9337548931044866\n",
      "{'max_features': 'log2', 'n_estimators': 50}\n",
      "0.6967780788919\n",
      "{'max_features': 'log2', 'n_estimators': 50}\n",
      "0.9948810599217103\n",
      "{'max_features': 'log2', 'n_estimators': 50}\n",
      "0.9894610057211684\n",
      "{'max_features': 'auto', 'n_estimators': 200}\n"
     ]
    }
   ],
   "source": [
    "df = pd.DataFrame()\n",
    "for cls in n_classes:\n",
    "    fname = '../cache/stage1_rf_cls_' + str(cls) + '.pkl'\n",
    "    clf = load_classifier(fname)\n",
    "    print(clf.best_score_)\n",
    "    print(clf.best_params_)\n",
    "    test_probs = clf.predict_proba(df_test)[:,1]\n",
    "    df['class' + str(cls+1)] = test_probs"
   ]
  },
  {
   "cell_type": "code",
   "execution_count": 16,
   "metadata": {
    "collapsed": true
   },
   "outputs": [],
   "source": [
    "df['ID'] = test_id"
   ]
  },
  {
   "cell_type": "code",
   "execution_count": 17,
   "metadata": {},
   "outputs": [
    {
     "data": {
      "text/html": [
       "<div>\n",
       "<style>\n",
       "    .dataframe thead tr:only-child th {\n",
       "        text-align: right;\n",
       "    }\n",
       "\n",
       "    .dataframe thead th {\n",
       "        text-align: left;\n",
       "    }\n",
       "\n",
       "    .dataframe tbody tr th {\n",
       "        vertical-align: top;\n",
       "    }\n",
       "</style>\n",
       "<table border=\"1\" class=\"dataframe\">\n",
       "  <thead>\n",
       "    <tr style=\"text-align: right;\">\n",
       "      <th></th>\n",
       "      <th>class1</th>\n",
       "      <th>class2</th>\n",
       "      <th>class3</th>\n",
       "      <th>class4</th>\n",
       "      <th>class5</th>\n",
       "      <th>class6</th>\n",
       "      <th>class7</th>\n",
       "      <th>class8</th>\n",
       "      <th>class9</th>\n",
       "      <th>ID</th>\n",
       "    </tr>\n",
       "  </thead>\n",
       "  <tbody>\n",
       "    <tr>\n",
       "      <th>0</th>\n",
       "      <td>0.105</td>\n",
       "      <td>0.18</td>\n",
       "      <td>0.00</td>\n",
       "      <td>0.10</td>\n",
       "      <td>0.030</td>\n",
       "      <td>0.06</td>\n",
       "      <td>0.32</td>\n",
       "      <td>0.02</td>\n",
       "      <td>0.000</td>\n",
       "      <td>0</td>\n",
       "    </tr>\n",
       "    <tr>\n",
       "      <th>1</th>\n",
       "      <td>0.155</td>\n",
       "      <td>0.18</td>\n",
       "      <td>0.06</td>\n",
       "      <td>0.16</td>\n",
       "      <td>0.090</td>\n",
       "      <td>0.10</td>\n",
       "      <td>0.34</td>\n",
       "      <td>0.00</td>\n",
       "      <td>0.005</td>\n",
       "      <td>1</td>\n",
       "    </tr>\n",
       "    <tr>\n",
       "      <th>2</th>\n",
       "      <td>0.120</td>\n",
       "      <td>0.18</td>\n",
       "      <td>0.00</td>\n",
       "      <td>0.10</td>\n",
       "      <td>0.035</td>\n",
       "      <td>0.04</td>\n",
       "      <td>0.26</td>\n",
       "      <td>0.02</td>\n",
       "      <td>0.005</td>\n",
       "      <td>2</td>\n",
       "    </tr>\n",
       "    <tr>\n",
       "      <th>3</th>\n",
       "      <td>0.075</td>\n",
       "      <td>0.14</td>\n",
       "      <td>0.00</td>\n",
       "      <td>0.12</td>\n",
       "      <td>0.045</td>\n",
       "      <td>0.04</td>\n",
       "      <td>0.18</td>\n",
       "      <td>0.00</td>\n",
       "      <td>0.005</td>\n",
       "      <td>3</td>\n",
       "    </tr>\n",
       "    <tr>\n",
       "      <th>4</th>\n",
       "      <td>0.140</td>\n",
       "      <td>0.18</td>\n",
       "      <td>0.02</td>\n",
       "      <td>0.40</td>\n",
       "      <td>0.055</td>\n",
       "      <td>0.06</td>\n",
       "      <td>0.32</td>\n",
       "      <td>0.00</td>\n",
       "      <td>0.005</td>\n",
       "      <td>4</td>\n",
       "    </tr>\n",
       "  </tbody>\n",
       "</table>\n",
       "</div>"
      ],
      "text/plain": [
       "   class1  class2  class3  class4  class5  class6  class7  class8  class9  ID\n",
       "0   0.105    0.18    0.00    0.10   0.030    0.06    0.32    0.02   0.000   0\n",
       "1   0.155    0.18    0.06    0.16   0.090    0.10    0.34    0.00   0.005   1\n",
       "2   0.120    0.18    0.00    0.10   0.035    0.04    0.26    0.02   0.005   2\n",
       "3   0.075    0.14    0.00    0.12   0.045    0.04    0.18    0.00   0.005   3\n",
       "4   0.140    0.18    0.02    0.40   0.055    0.06    0.32    0.00   0.005   4"
      ]
     },
     "execution_count": 17,
     "metadata": {},
     "output_type": "execute_result"
    }
   ],
   "source": [
    "df.head()"
   ]
  },
  {
   "cell_type": "code",
   "execution_count": 29,
   "metadata": {
    "collapsed": true
   },
   "outputs": [],
   "source": [
    "df.to_csv('../submissions/submission_stage1_rf.csv', index=False)\n"
   ]
  },
  {
   "cell_type": "code",
   "execution_count": null,
   "metadata": {
    "collapsed": true
   },
   "outputs": [],
   "source": [
    "# scored 2.18400 on stage2 public leaderboard, and 8.10579 on private leaderboard\n"
   ]
  },
  {
   "cell_type": "code",
   "execution_count": null,
   "metadata": {
    "collapsed": true
   },
   "outputs": [],
   "source": []
  },
  {
   "cell_type": "code",
   "execution_count": 19,
   "metadata": {
    "collapsed": true
   },
   "outputs": [],
   "source": [
    "X = df_train\n",
    "Y = y\n",
    "Z = df_test\n"
   ]
  },
  {
   "cell_type": "code",
   "execution_count": 20,
   "metadata": {
    "collapsed": true
   },
   "outputs": [],
   "source": [
    "y2 = shuffle(Y, random_state=1)\n",
    "y3 = shuffle(Y, random_state=2)\n",
    "y4 = shuffle(Y, random_state=3)\n",
    "y5 = shuffle(Y, random_state=4)\n",
    "y6 = shuffle(Y, random_state=5)\n",
    "y7 = shuffle(Y, random_state=6)\n",
    "y8 = shuffle(Y, random_state=7)\n",
    "y9 = shuffle(Y, random_state=8)\n",
    "\n",
    "Y1 = np.vstack((Y, y2, y3, y4, y5, y6, y7, y8, y9)).T"
   ]
  },
  {
   "cell_type": "code",
   "execution_count": 21,
   "metadata": {
    "collapsed": true
   },
   "outputs": [],
   "source": [
    "forest = RandomForestClassifier(n_estimators=1000, random_state=1)\n",
    "multi_target_forest = MultiOutputClassifier(forest, n_jobs=-1)"
   ]
  },
  {
   "cell_type": "code",
   "execution_count": 22,
   "metadata": {
    "collapsed": true
   },
   "outputs": [],
   "source": [
    "\n",
    "preds = multi_target_forest.fit(X, Y1).predict(Z)"
   ]
  },
  {
   "cell_type": "code",
   "execution_count": 23,
   "metadata": {},
   "outputs": [
    {
     "data": {
      "text/plain": [
       "(5668, 9)"
      ]
     },
     "execution_count": 23,
     "metadata": {},
     "output_type": "execute_result"
    }
   ],
   "source": [
    "preds.shape"
   ]
  },
  {
   "cell_type": "code",
   "execution_count": 24,
   "metadata": {},
   "outputs": [
    {
     "name": "stdout",
     "output_type": "stream",
     "text": [
      "[[6 6 6 ..., 6 6 6]\n",
      " [6 6 6 ..., 6 6 6]\n",
      " [6 6 6 ..., 6 6 6]\n",
      " ..., \n",
      " [6 6 6 ..., 6 6 6]\n",
      " [6 6 6 ..., 6 6 6]\n",
      " [6 6 6 ..., 6 6 6]]\n"
     ]
    }
   ],
   "source": [
    "print(preds)"
   ]
  },
  {
   "cell_type": "code",
   "execution_count": 25,
   "metadata": {
    "collapsed": true
   },
   "outputs": [],
   "source": [
    "preds_proba = multi_target_forest.fit(X, Y1).predict_proba(Z)"
   ]
  },
  {
   "cell_type": "code",
   "execution_count": 26,
   "metadata": {},
   "outputs": [
    {
     "name": "stdout",
     "output_type": "stream",
     "text": [
      "[array([[ 0.153,  0.201,  0.024, ...,  0.296,  0.011,  0.007],\n",
      "       [ 0.151,  0.167,  0.023, ...,  0.286,  0.01 ,  0.015],\n",
      "       [ 0.106,  0.2  ,  0.034, ...,  0.384,  0.008,  0.009],\n",
      "       ..., \n",
      "       [ 0.169,  0.155,  0.025, ...,  0.245,  0.01 ,  0.011],\n",
      "       [ 0.135,  0.172,  0.022, ...,  0.315,  0.01 ,  0.011],\n",
      "       [ 0.115,  0.197,  0.018, ...,  0.31 ,  0.007,  0.014]]), array([[ 0.171,  0.138,  0.031, ...,  0.306,  0.008,  0.008],\n",
      "       [ 0.188,  0.126,  0.031, ...,  0.283,  0.005,  0.018],\n",
      "       [ 0.18 ,  0.134,  0.042, ...,  0.292,  0.006,  0.012],\n",
      "       ..., \n",
      "       [ 0.166,  0.124,  0.036, ...,  0.294,  0.002,  0.008],\n",
      "       [ 0.184,  0.142,  0.021, ...,  0.291,  0.002,  0.014],\n",
      "       [ 0.175,  0.146,  0.028, ...,  0.278,  0.006,  0.009]]), array([[ 0.168,  0.162,  0.028, ...,  0.263,  0.002,  0.01 ],\n",
      "       [ 0.175,  0.126,  0.036, ...,  0.269,  0.003,  0.013],\n",
      "       [ 0.147,  0.131,  0.033, ...,  0.266,  0.008,  0.012],\n",
      "       ..., \n",
      "       [ 0.16 ,  0.151,  0.024, ...,  0.278,  0.008,  0.011],\n",
      "       [ 0.175,  0.147,  0.022, ...,  0.286,  0.001,  0.011],\n",
      "       [ 0.17 ,  0.156,  0.026, ...,  0.255,  0.003,  0.012]]), array([[ 0.181,  0.126,  0.028, ...,  0.269,  0.007,  0.016],\n",
      "       [ 0.159,  0.129,  0.032, ...,  0.308,  0.009,  0.008],\n",
      "       [ 0.184,  0.145,  0.024, ...,  0.245,  0.008,  0.014],\n",
      "       ..., \n",
      "       [ 0.17 ,  0.133,  0.03 , ...,  0.304,  0.009,  0.014],\n",
      "       [ 0.193,  0.138,  0.024, ...,  0.257,  0.006,  0.008],\n",
      "       [ 0.194,  0.154,  0.032, ...,  0.26 ,  0.01 ,  0.01 ]]), array([[ 0.173,  0.13 ,  0.023, ...,  0.318,  0.004,  0.013],\n",
      "       [ 0.18 ,  0.135,  0.024, ...,  0.276,  0.005,  0.013],\n",
      "       [ 0.205,  0.13 ,  0.025, ...,  0.254,  0.005,  0.015],\n",
      "       ..., \n",
      "       [ 0.18 ,  0.135,  0.021, ...,  0.289,  0.004,  0.014],\n",
      "       [ 0.193,  0.125,  0.037, ...,  0.265,  0.006,  0.011],\n",
      "       [ 0.151,  0.135,  0.03 , ...,  0.292,  0.005,  0.014]]), array([[ 0.15 ,  0.15 ,  0.044, ...,  0.277,  0.004,  0.01 ],\n",
      "       [ 0.147,  0.165,  0.021, ...,  0.295,  0.005,  0.014],\n",
      "       [ 0.17 ,  0.128,  0.025, ...,  0.296,  0.008,  0.009],\n",
      "       ..., \n",
      "       [ 0.185,  0.161,  0.027, ...,  0.283,  0.006,  0.006],\n",
      "       [ 0.167,  0.148,  0.024, ...,  0.26 ,  0.006,  0.01 ],\n",
      "       [ 0.167,  0.133,  0.019, ...,  0.312,  0.004,  0.013]]), array([[ 0.185,  0.146,  0.026, ...,  0.286,  0.008,  0.019],\n",
      "       [ 0.183,  0.137,  0.029, ...,  0.279,  0.009,  0.011],\n",
      "       [ 0.179,  0.172,  0.031, ...,  0.247,  0.007,  0.013],\n",
      "       ..., \n",
      "       [ 0.166,  0.122,  0.014, ...,  0.296,  0.013,  0.008],\n",
      "       [ 0.172,  0.147,  0.032, ...,  0.261,  0.003,  0.011],\n",
      "       [ 0.176,  0.105,  0.031, ...,  0.302,  0.006,  0.011]]), array([[ 0.165,  0.119,  0.038, ...,  0.28 ,  0.006,  0.016],\n",
      "       [ 0.17 ,  0.149,  0.024, ...,  0.278,  0.004,  0.007],\n",
      "       [ 0.174,  0.127,  0.03 , ...,  0.31 ,  0.003,  0.007],\n",
      "       ..., \n",
      "       [ 0.179,  0.146,  0.031, ...,  0.275,  0.01 ,  0.008],\n",
      "       [ 0.156,  0.143,  0.027, ...,  0.257,  0.009,  0.018],\n",
      "       [ 0.138,  0.128,  0.034, ...,  0.294,  0.009,  0.007]]), array([[ 0.179,  0.123,  0.028, ...,  0.331,  0.004,  0.006],\n",
      "       [ 0.192,  0.128,  0.034, ...,  0.265,  0.01 ,  0.012],\n",
      "       [ 0.177,  0.125,  0.033, ...,  0.278,  0.005,  0.01 ],\n",
      "       ..., \n",
      "       [ 0.143,  0.136,  0.036, ...,  0.277,  0.006,  0.009],\n",
      "       [ 0.171,  0.132,  0.029, ...,  0.268,  0.01 ,  0.012],\n",
      "       [ 0.178,  0.138,  0.023, ...,  0.297,  0.005,  0.016]])]\n"
     ]
    }
   ],
   "source": [
    "print(preds_proba)"
   ]
  },
  {
   "cell_type": "code",
   "execution_count": 32,
   "metadata": {
    "collapsed": true
   },
   "outputs": [],
   "source": [
    "df = pd.DataFrame()\n",
    "for cls in n_classes:\n",
    "    df['class' + str(cls+1)] = preds_proba"
   ]
  },
  {
   "cell_type": "code",
   "execution_count": null,
   "metadata": {
    "collapsed": true
   },
   "outputs": [],
   "source": []
  },
  {
   "cell_type": "code",
   "execution_count": 30,
   "metadata": {},
   "outputs": [
    {
     "ename": "ValueError",
     "evalue": "Length of values does not match length of index",
     "output_type": "error",
     "traceback": [
      "\u001b[0;31m---------------------------------------------------------------------------\u001b[0m",
      "\u001b[0;31mValueError\u001b[0m                                Traceback (most recent call last)",
      "\u001b[0;32m<ipython-input-30-a6cf9e58487e>\u001b[0m in \u001b[0;36m<module>\u001b[0;34m()\u001b[0m\n\u001b[0;32m----> 1\u001b[0;31m \u001b[0mdf\u001b[0m\u001b[0;34m[\u001b[0m\u001b[0;34m'ID'\u001b[0m\u001b[0;34m]\u001b[0m \u001b[0;34m=\u001b[0m \u001b[0mtest_id\u001b[0m\u001b[0;34m\u001b[0m\u001b[0m\n\u001b[0m\u001b[1;32m      2\u001b[0m \u001b[0mdf\u001b[0m\u001b[0;34m.\u001b[0m\u001b[0mto_csv\u001b[0m\u001b[0;34m(\u001b[0m\u001b[0;34m'../submissions/submission_stage1_multi_rf.csv'\u001b[0m\u001b[0;34m,\u001b[0m \u001b[0mindex\u001b[0m\u001b[0;34m=\u001b[0m\u001b[0;32mFalse\u001b[0m\u001b[0;34m)\u001b[0m\u001b[0;34m\u001b[0m\u001b[0m\n",
      "\u001b[0;32m~/anaconda2/envs/aind-dog/lib/python3.6/site-packages/pandas/core/frame.py\u001b[0m in \u001b[0;36m__setitem__\u001b[0;34m(self, key, value)\u001b[0m\n\u001b[1;32m   2329\u001b[0m         \u001b[0;32melse\u001b[0m\u001b[0;34m:\u001b[0m\u001b[0;34m\u001b[0m\u001b[0m\n\u001b[1;32m   2330\u001b[0m             \u001b[0;31m# set column\u001b[0m\u001b[0;34m\u001b[0m\u001b[0;34m\u001b[0m\u001b[0m\n\u001b[0;32m-> 2331\u001b[0;31m             \u001b[0mself\u001b[0m\u001b[0;34m.\u001b[0m\u001b[0m_set_item\u001b[0m\u001b[0;34m(\u001b[0m\u001b[0mkey\u001b[0m\u001b[0;34m,\u001b[0m \u001b[0mvalue\u001b[0m\u001b[0;34m)\u001b[0m\u001b[0;34m\u001b[0m\u001b[0m\n\u001b[0m\u001b[1;32m   2332\u001b[0m \u001b[0;34m\u001b[0m\u001b[0m\n\u001b[1;32m   2333\u001b[0m     \u001b[0;32mdef\u001b[0m \u001b[0m_setitem_slice\u001b[0m\u001b[0;34m(\u001b[0m\u001b[0mself\u001b[0m\u001b[0;34m,\u001b[0m \u001b[0mkey\u001b[0m\u001b[0;34m,\u001b[0m \u001b[0mvalue\u001b[0m\u001b[0;34m)\u001b[0m\u001b[0;34m:\u001b[0m\u001b[0;34m\u001b[0m\u001b[0m\n",
      "\u001b[0;32m~/anaconda2/envs/aind-dog/lib/python3.6/site-packages/pandas/core/frame.py\u001b[0m in \u001b[0;36m_set_item\u001b[0;34m(self, key, value)\u001b[0m\n\u001b[1;32m   2395\u001b[0m \u001b[0;34m\u001b[0m\u001b[0m\n\u001b[1;32m   2396\u001b[0m         \u001b[0mself\u001b[0m\u001b[0;34m.\u001b[0m\u001b[0m_ensure_valid_index\u001b[0m\u001b[0;34m(\u001b[0m\u001b[0mvalue\u001b[0m\u001b[0;34m)\u001b[0m\u001b[0;34m\u001b[0m\u001b[0m\n\u001b[0;32m-> 2397\u001b[0;31m         \u001b[0mvalue\u001b[0m \u001b[0;34m=\u001b[0m \u001b[0mself\u001b[0m\u001b[0;34m.\u001b[0m\u001b[0m_sanitize_column\u001b[0m\u001b[0;34m(\u001b[0m\u001b[0mkey\u001b[0m\u001b[0;34m,\u001b[0m \u001b[0mvalue\u001b[0m\u001b[0;34m)\u001b[0m\u001b[0;34m\u001b[0m\u001b[0m\n\u001b[0m\u001b[1;32m   2398\u001b[0m         \u001b[0mNDFrame\u001b[0m\u001b[0;34m.\u001b[0m\u001b[0m_set_item\u001b[0m\u001b[0;34m(\u001b[0m\u001b[0mself\u001b[0m\u001b[0;34m,\u001b[0m \u001b[0mkey\u001b[0m\u001b[0;34m,\u001b[0m \u001b[0mvalue\u001b[0m\u001b[0;34m)\u001b[0m\u001b[0;34m\u001b[0m\u001b[0m\n\u001b[1;32m   2399\u001b[0m \u001b[0;34m\u001b[0m\u001b[0m\n",
      "\u001b[0;32m~/anaconda2/envs/aind-dog/lib/python3.6/site-packages/pandas/core/frame.py\u001b[0m in \u001b[0;36m_sanitize_column\u001b[0;34m(self, key, value, broadcast)\u001b[0m\n\u001b[1;32m   2566\u001b[0m \u001b[0;34m\u001b[0m\u001b[0m\n\u001b[1;32m   2567\u001b[0m             \u001b[0;31m# turn me into an ndarray\u001b[0m\u001b[0;34m\u001b[0m\u001b[0;34m\u001b[0m\u001b[0m\n\u001b[0;32m-> 2568\u001b[0;31m             \u001b[0mvalue\u001b[0m \u001b[0;34m=\u001b[0m \u001b[0m_sanitize_index\u001b[0m\u001b[0;34m(\u001b[0m\u001b[0mvalue\u001b[0m\u001b[0;34m,\u001b[0m \u001b[0mself\u001b[0m\u001b[0;34m.\u001b[0m\u001b[0mindex\u001b[0m\u001b[0;34m,\u001b[0m \u001b[0mcopy\u001b[0m\u001b[0;34m=\u001b[0m\u001b[0;32mFalse\u001b[0m\u001b[0;34m)\u001b[0m\u001b[0;34m\u001b[0m\u001b[0m\n\u001b[0m\u001b[1;32m   2569\u001b[0m             \u001b[0;32mif\u001b[0m \u001b[0;32mnot\u001b[0m \u001b[0misinstance\u001b[0m\u001b[0;34m(\u001b[0m\u001b[0mvalue\u001b[0m\u001b[0;34m,\u001b[0m \u001b[0;34m(\u001b[0m\u001b[0mnp\u001b[0m\u001b[0;34m.\u001b[0m\u001b[0mndarray\u001b[0m\u001b[0;34m,\u001b[0m \u001b[0mIndex\u001b[0m\u001b[0;34m)\u001b[0m\u001b[0;34m)\u001b[0m\u001b[0;34m:\u001b[0m\u001b[0;34m\u001b[0m\u001b[0m\n\u001b[1;32m   2570\u001b[0m                 \u001b[0;32mif\u001b[0m \u001b[0misinstance\u001b[0m\u001b[0;34m(\u001b[0m\u001b[0mvalue\u001b[0m\u001b[0;34m,\u001b[0m \u001b[0mlist\u001b[0m\u001b[0;34m)\u001b[0m \u001b[0;32mand\u001b[0m \u001b[0mlen\u001b[0m\u001b[0;34m(\u001b[0m\u001b[0mvalue\u001b[0m\u001b[0;34m)\u001b[0m \u001b[0;34m>\u001b[0m \u001b[0;36m0\u001b[0m\u001b[0;34m:\u001b[0m\u001b[0;34m\u001b[0m\u001b[0m\n",
      "\u001b[0;32m~/anaconda2/envs/aind-dog/lib/python3.6/site-packages/pandas/core/series.py\u001b[0m in \u001b[0;36m_sanitize_index\u001b[0;34m(data, index, copy)\u001b[0m\n\u001b[1;32m   2877\u001b[0m \u001b[0;34m\u001b[0m\u001b[0m\n\u001b[1;32m   2878\u001b[0m     \u001b[0;32mif\u001b[0m \u001b[0mlen\u001b[0m\u001b[0;34m(\u001b[0m\u001b[0mdata\u001b[0m\u001b[0;34m)\u001b[0m \u001b[0;34m!=\u001b[0m \u001b[0mlen\u001b[0m\u001b[0;34m(\u001b[0m\u001b[0mindex\u001b[0m\u001b[0;34m)\u001b[0m\u001b[0;34m:\u001b[0m\u001b[0;34m\u001b[0m\u001b[0m\n\u001b[0;32m-> 2879\u001b[0;31m         \u001b[0;32mraise\u001b[0m \u001b[0mValueError\u001b[0m\u001b[0;34m(\u001b[0m\u001b[0;34m'Length of values does not match length of '\u001b[0m \u001b[0;34m'index'\u001b[0m\u001b[0;34m)\u001b[0m\u001b[0;34m\u001b[0m\u001b[0m\n\u001b[0m\u001b[1;32m   2880\u001b[0m \u001b[0;34m\u001b[0m\u001b[0m\n\u001b[1;32m   2881\u001b[0m     \u001b[0;32mif\u001b[0m \u001b[0misinstance\u001b[0m\u001b[0;34m(\u001b[0m\u001b[0mdata\u001b[0m\u001b[0;34m,\u001b[0m \u001b[0mPeriodIndex\u001b[0m\u001b[0;34m)\u001b[0m\u001b[0;34m:\u001b[0m\u001b[0;34m\u001b[0m\u001b[0m\n",
      "\u001b[0;31mValueError\u001b[0m: Length of values does not match length of index"
     ]
    }
   ],
   "source": [
    "df['ID'] = test_id\n",
    "df.to_csv('../submissions/submission_stage1_multi_rf.csv', index=False)"
   ]
  },
  {
   "cell_type": "code",
   "execution_count": 31,
   "metadata": {},
   "outputs": [
    {
     "data": {
      "text/html": [
       "<div>\n",
       "<style>\n",
       "    .dataframe thead tr:only-child th {\n",
       "        text-align: right;\n",
       "    }\n",
       "\n",
       "    .dataframe thead th {\n",
       "        text-align: left;\n",
       "    }\n",
       "\n",
       "    .dataframe tbody tr th {\n",
       "        vertical-align: top;\n",
       "    }\n",
       "</style>\n",
       "<table border=\"1\" class=\"dataframe\">\n",
       "  <thead>\n",
       "    <tr style=\"text-align: right;\">\n",
       "      <th></th>\n",
       "      <th>class1</th>\n",
       "      <th>class2</th>\n",
       "      <th>class3</th>\n",
       "      <th>class4</th>\n",
       "      <th>class5</th>\n",
       "      <th>class6</th>\n",
       "      <th>class7</th>\n",
       "      <th>class8</th>\n",
       "      <th>class9</th>\n",
       "    </tr>\n",
       "  </thead>\n",
       "  <tbody>\n",
       "    <tr>\n",
       "      <th>0</th>\n",
       "      <td>[[0.153, 0.201, 0.024, 0.159, 0.073, 0.076, 0....</td>\n",
       "      <td>[[0.153, 0.201, 0.024, 0.159, 0.073, 0.076, 0....</td>\n",
       "      <td>[[0.153, 0.201, 0.024, 0.159, 0.073, 0.076, 0....</td>\n",
       "      <td>[[0.153, 0.201, 0.024, 0.159, 0.073, 0.076, 0....</td>\n",
       "      <td>[[0.153, 0.201, 0.024, 0.159, 0.073, 0.076, 0....</td>\n",
       "      <td>[[0.153, 0.201, 0.024, 0.159, 0.073, 0.076, 0....</td>\n",
       "      <td>[[0.153, 0.201, 0.024, 0.159, 0.073, 0.076, 0....</td>\n",
       "      <td>[[0.153, 0.201, 0.024, 0.159, 0.073, 0.076, 0....</td>\n",
       "      <td>[[0.153, 0.201, 0.024, 0.159, 0.073, 0.076, 0....</td>\n",
       "    </tr>\n",
       "    <tr>\n",
       "      <th>1</th>\n",
       "      <td>[[0.171, 0.138, 0.031, 0.2, 0.069, 0.069, 0.30...</td>\n",
       "      <td>[[0.171, 0.138, 0.031, 0.2, 0.069, 0.069, 0.30...</td>\n",
       "      <td>[[0.171, 0.138, 0.031, 0.2, 0.069, 0.069, 0.30...</td>\n",
       "      <td>[[0.171, 0.138, 0.031, 0.2, 0.069, 0.069, 0.30...</td>\n",
       "      <td>[[0.171, 0.138, 0.031, 0.2, 0.069, 0.069, 0.30...</td>\n",
       "      <td>[[0.171, 0.138, 0.031, 0.2, 0.069, 0.069, 0.30...</td>\n",
       "      <td>[[0.171, 0.138, 0.031, 0.2, 0.069, 0.069, 0.30...</td>\n",
       "      <td>[[0.171, 0.138, 0.031, 0.2, 0.069, 0.069, 0.30...</td>\n",
       "      <td>[[0.171, 0.138, 0.031, 0.2, 0.069, 0.069, 0.30...</td>\n",
       "    </tr>\n",
       "    <tr>\n",
       "      <th>2</th>\n",
       "      <td>[[0.168, 0.162, 0.028, 0.238, 0.059, 0.07, 0.2...</td>\n",
       "      <td>[[0.168, 0.162, 0.028, 0.238, 0.059, 0.07, 0.2...</td>\n",
       "      <td>[[0.168, 0.162, 0.028, 0.238, 0.059, 0.07, 0.2...</td>\n",
       "      <td>[[0.168, 0.162, 0.028, 0.238, 0.059, 0.07, 0.2...</td>\n",
       "      <td>[[0.168, 0.162, 0.028, 0.238, 0.059, 0.07, 0.2...</td>\n",
       "      <td>[[0.168, 0.162, 0.028, 0.238, 0.059, 0.07, 0.2...</td>\n",
       "      <td>[[0.168, 0.162, 0.028, 0.238, 0.059, 0.07, 0.2...</td>\n",
       "      <td>[[0.168, 0.162, 0.028, 0.238, 0.059, 0.07, 0.2...</td>\n",
       "      <td>[[0.168, 0.162, 0.028, 0.238, 0.059, 0.07, 0.2...</td>\n",
       "    </tr>\n",
       "    <tr>\n",
       "      <th>3</th>\n",
       "      <td>[[0.181, 0.126, 0.028, 0.208, 0.073, 0.092, 0....</td>\n",
       "      <td>[[0.181, 0.126, 0.028, 0.208, 0.073, 0.092, 0....</td>\n",
       "      <td>[[0.181, 0.126, 0.028, 0.208, 0.073, 0.092, 0....</td>\n",
       "      <td>[[0.181, 0.126, 0.028, 0.208, 0.073, 0.092, 0....</td>\n",
       "      <td>[[0.181, 0.126, 0.028, 0.208, 0.073, 0.092, 0....</td>\n",
       "      <td>[[0.181, 0.126, 0.028, 0.208, 0.073, 0.092, 0....</td>\n",
       "      <td>[[0.181, 0.126, 0.028, 0.208, 0.073, 0.092, 0....</td>\n",
       "      <td>[[0.181, 0.126, 0.028, 0.208, 0.073, 0.092, 0....</td>\n",
       "      <td>[[0.181, 0.126, 0.028, 0.208, 0.073, 0.092, 0....</td>\n",
       "    </tr>\n",
       "    <tr>\n",
       "      <th>4</th>\n",
       "      <td>[[0.173, 0.13, 0.023, 0.174, 0.079, 0.086, 0.3...</td>\n",
       "      <td>[[0.173, 0.13, 0.023, 0.174, 0.079, 0.086, 0.3...</td>\n",
       "      <td>[[0.173, 0.13, 0.023, 0.174, 0.079, 0.086, 0.3...</td>\n",
       "      <td>[[0.173, 0.13, 0.023, 0.174, 0.079, 0.086, 0.3...</td>\n",
       "      <td>[[0.173, 0.13, 0.023, 0.174, 0.079, 0.086, 0.3...</td>\n",
       "      <td>[[0.173, 0.13, 0.023, 0.174, 0.079, 0.086, 0.3...</td>\n",
       "      <td>[[0.173, 0.13, 0.023, 0.174, 0.079, 0.086, 0.3...</td>\n",
       "      <td>[[0.173, 0.13, 0.023, 0.174, 0.079, 0.086, 0.3...</td>\n",
       "      <td>[[0.173, 0.13, 0.023, 0.174, 0.079, 0.086, 0.3...</td>\n",
       "    </tr>\n",
       "  </tbody>\n",
       "</table>\n",
       "</div>"
      ],
      "text/plain": [
       "                                              class1  \\\n",
       "0  [[0.153, 0.201, 0.024, 0.159, 0.073, 0.076, 0....   \n",
       "1  [[0.171, 0.138, 0.031, 0.2, 0.069, 0.069, 0.30...   \n",
       "2  [[0.168, 0.162, 0.028, 0.238, 0.059, 0.07, 0.2...   \n",
       "3  [[0.181, 0.126, 0.028, 0.208, 0.073, 0.092, 0....   \n",
       "4  [[0.173, 0.13, 0.023, 0.174, 0.079, 0.086, 0.3...   \n",
       "\n",
       "                                              class2  \\\n",
       "0  [[0.153, 0.201, 0.024, 0.159, 0.073, 0.076, 0....   \n",
       "1  [[0.171, 0.138, 0.031, 0.2, 0.069, 0.069, 0.30...   \n",
       "2  [[0.168, 0.162, 0.028, 0.238, 0.059, 0.07, 0.2...   \n",
       "3  [[0.181, 0.126, 0.028, 0.208, 0.073, 0.092, 0....   \n",
       "4  [[0.173, 0.13, 0.023, 0.174, 0.079, 0.086, 0.3...   \n",
       "\n",
       "                                              class3  \\\n",
       "0  [[0.153, 0.201, 0.024, 0.159, 0.073, 0.076, 0....   \n",
       "1  [[0.171, 0.138, 0.031, 0.2, 0.069, 0.069, 0.30...   \n",
       "2  [[0.168, 0.162, 0.028, 0.238, 0.059, 0.07, 0.2...   \n",
       "3  [[0.181, 0.126, 0.028, 0.208, 0.073, 0.092, 0....   \n",
       "4  [[0.173, 0.13, 0.023, 0.174, 0.079, 0.086, 0.3...   \n",
       "\n",
       "                                              class4  \\\n",
       "0  [[0.153, 0.201, 0.024, 0.159, 0.073, 0.076, 0....   \n",
       "1  [[0.171, 0.138, 0.031, 0.2, 0.069, 0.069, 0.30...   \n",
       "2  [[0.168, 0.162, 0.028, 0.238, 0.059, 0.07, 0.2...   \n",
       "3  [[0.181, 0.126, 0.028, 0.208, 0.073, 0.092, 0....   \n",
       "4  [[0.173, 0.13, 0.023, 0.174, 0.079, 0.086, 0.3...   \n",
       "\n",
       "                                              class5  \\\n",
       "0  [[0.153, 0.201, 0.024, 0.159, 0.073, 0.076, 0....   \n",
       "1  [[0.171, 0.138, 0.031, 0.2, 0.069, 0.069, 0.30...   \n",
       "2  [[0.168, 0.162, 0.028, 0.238, 0.059, 0.07, 0.2...   \n",
       "3  [[0.181, 0.126, 0.028, 0.208, 0.073, 0.092, 0....   \n",
       "4  [[0.173, 0.13, 0.023, 0.174, 0.079, 0.086, 0.3...   \n",
       "\n",
       "                                              class6  \\\n",
       "0  [[0.153, 0.201, 0.024, 0.159, 0.073, 0.076, 0....   \n",
       "1  [[0.171, 0.138, 0.031, 0.2, 0.069, 0.069, 0.30...   \n",
       "2  [[0.168, 0.162, 0.028, 0.238, 0.059, 0.07, 0.2...   \n",
       "3  [[0.181, 0.126, 0.028, 0.208, 0.073, 0.092, 0....   \n",
       "4  [[0.173, 0.13, 0.023, 0.174, 0.079, 0.086, 0.3...   \n",
       "\n",
       "                                              class7  \\\n",
       "0  [[0.153, 0.201, 0.024, 0.159, 0.073, 0.076, 0....   \n",
       "1  [[0.171, 0.138, 0.031, 0.2, 0.069, 0.069, 0.30...   \n",
       "2  [[0.168, 0.162, 0.028, 0.238, 0.059, 0.07, 0.2...   \n",
       "3  [[0.181, 0.126, 0.028, 0.208, 0.073, 0.092, 0....   \n",
       "4  [[0.173, 0.13, 0.023, 0.174, 0.079, 0.086, 0.3...   \n",
       "\n",
       "                                              class8  \\\n",
       "0  [[0.153, 0.201, 0.024, 0.159, 0.073, 0.076, 0....   \n",
       "1  [[0.171, 0.138, 0.031, 0.2, 0.069, 0.069, 0.30...   \n",
       "2  [[0.168, 0.162, 0.028, 0.238, 0.059, 0.07, 0.2...   \n",
       "3  [[0.181, 0.126, 0.028, 0.208, 0.073, 0.092, 0....   \n",
       "4  [[0.173, 0.13, 0.023, 0.174, 0.079, 0.086, 0.3...   \n",
       "\n",
       "                                              class9  \n",
       "0  [[0.153, 0.201, 0.024, 0.159, 0.073, 0.076, 0....  \n",
       "1  [[0.171, 0.138, 0.031, 0.2, 0.069, 0.069, 0.30...  \n",
       "2  [[0.168, 0.162, 0.028, 0.238, 0.059, 0.07, 0.2...  \n",
       "3  [[0.181, 0.126, 0.028, 0.208, 0.073, 0.092, 0....  \n",
       "4  [[0.173, 0.13, 0.023, 0.174, 0.079, 0.086, 0.3...  "
      ]
     },
     "execution_count": 31,
     "metadata": {},
     "output_type": "execute_result"
    }
   ],
   "source": [
    "df.head()"
   ]
  },
  {
   "cell_type": "code",
   "execution_count": null,
   "metadata": {
    "collapsed": true
   },
   "outputs": [],
   "source": [
    "save_classifier('../cache/stage1_multi_rf.pkl', multi_target_forest)"
   ]
  },
  {
   "cell_type": "code",
   "execution_count": null,
   "metadata": {
    "collapsed": true
   },
   "outputs": [],
   "source": []
  }
 ],
 "metadata": {
  "kernelspec": {
   "display_name": "Python 3",
   "language": "python",
   "name": "python3"
  },
  "language_info": {
   "codemirror_mode": {
    "name": "ipython",
    "version": 3
   },
   "file_extension": ".py",
   "mimetype": "text/x-python",
   "name": "python",
   "nbconvert_exporter": "python",
   "pygments_lexer": "ipython3",
   "version": "3.6.1"
  }
 },
 "nbformat": 4,
 "nbformat_minor": 2
}
