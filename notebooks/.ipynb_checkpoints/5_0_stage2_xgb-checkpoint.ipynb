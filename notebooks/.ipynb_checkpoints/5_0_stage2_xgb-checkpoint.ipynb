{
 "cells": [
  {
   "cell_type": "code",
   "execution_count": 1,
   "metadata": {
    "collapsed": true
   },
   "outputs": [],
   "source": [
    "import re\n",
    "import numpy as np\n",
    "import pandas as pd\n",
    "import feather\n",
    "import xgboost as xgb\n",
    "import feather\n",
    "\n",
    "from sklearn.model_selection import train_test_split\n",
    "from sklearn.metrics import log_loss, confusion_matrix, f1_score, accuracy_score\n",
    "\n",
    "from utils import print_confusion_matrix"
   ]
  },
  {
   "cell_type": "code",
   "execution_count": 2,
   "metadata": {
    "collapsed": true
   },
   "outputs": [],
   "source": [
    "def get_wt(cls, df):\n",
    "    tot_neg_instances = df.shape[0] - p[cls]\n",
    "    tot_pos_instances = p[cls]\n",
    "    return float(tot_neg_instances/tot_pos_instances)"
   ]
  },
  {
   "cell_type": "code",
   "execution_count": 3,
   "metadata": {
    "collapsed": true
   },
   "outputs": [],
   "source": [
    "def get_wt2(cls, tot):\n",
    "    tot_neg_instances = tot - p[cls]\n",
    "    tot_pos_instances = p[cls]\n",
    "    return float(tot_neg_instances/tot_pos_instances)"
   ]
  },
  {
   "cell_type": "code",
   "execution_count": 4,
   "metadata": {
    "collapsed": true
   },
   "outputs": [],
   "source": [
    "df_train = np.load('../cache/train_stage2_fe2.npy')"
   ]
  },
  {
   "cell_type": "code",
   "execution_count": 5,
   "metadata": {},
   "outputs": [
    {
     "data": {
      "text/plain": [
       "(22044, 3318)"
      ]
     },
     "execution_count": 5,
     "metadata": {},
     "output_type": "execute_result"
    }
   ],
   "source": [
    "df_train.shape"
   ]
  },
  {
   "cell_type": "code",
   "execution_count": 6,
   "metadata": {
    "collapsed": true
   },
   "outputs": [],
   "source": [
    "df_test = np.load('../cache/test_stage2_fe2.npy')"
   ]
  },
  {
   "cell_type": "code",
   "execution_count": 7,
   "metadata": {},
   "outputs": [
    {
     "data": {
      "text/plain": [
       "(986, 3318)"
      ]
     },
     "execution_count": 7,
     "metadata": {},
     "output_type": "execute_result"
    }
   ],
   "source": [
    "df_test.shape"
   ]
  },
  {
   "cell_type": "code",
   "execution_count": 8,
   "metadata": {
    "collapsed": true
   },
   "outputs": [],
   "source": [
    "df = pd.read_csv('../cache/stage2_test_id.csv')"
   ]
  },
  {
   "cell_type": "code",
   "execution_count": 9,
   "metadata": {
    "collapsed": true
   },
   "outputs": [],
   "source": [
    "pid = df.ID"
   ]
  },
  {
   "cell_type": "code",
   "execution_count": 10,
   "metadata": {
    "collapsed": true
   },
   "outputs": [],
   "source": [
    "df1 = pd.read_csv('../cache/stage2_labels.csv')"
   ]
  },
  {
   "cell_type": "code",
   "execution_count": 11,
   "metadata": {},
   "outputs": [
    {
     "data": {
      "text/html": [
       "<div>\n",
       "<style>\n",
       "    .dataframe thead tr:only-child th {\n",
       "        text-align: right;\n",
       "    }\n",
       "\n",
       "    .dataframe thead th {\n",
       "        text-align: left;\n",
       "    }\n",
       "\n",
       "    .dataframe tbody tr th {\n",
       "        vertical-align: top;\n",
       "    }\n",
       "</style>\n",
       "<table border=\"1\" class=\"dataframe\">\n",
       "  <thead>\n",
       "    <tr style=\"text-align: right;\">\n",
       "      <th></th>\n",
       "      <th>y</th>\n",
       "    </tr>\n",
       "  </thead>\n",
       "  <tbody>\n",
       "    <tr>\n",
       "      <th>0</th>\n",
       "      <td>1</td>\n",
       "    </tr>\n",
       "    <tr>\n",
       "      <th>1</th>\n",
       "      <td>2</td>\n",
       "    </tr>\n",
       "    <tr>\n",
       "      <th>2</th>\n",
       "      <td>2</td>\n",
       "    </tr>\n",
       "    <tr>\n",
       "      <th>3</th>\n",
       "      <td>2</td>\n",
       "    </tr>\n",
       "    <tr>\n",
       "      <th>4</th>\n",
       "      <td>2</td>\n",
       "    </tr>\n",
       "  </tbody>\n",
       "</table>\n",
       "</div>"
      ],
      "text/plain": [
       "   y\n",
       "0  1\n",
       "1  2\n",
       "2  2\n",
       "3  2\n",
       "4  2"
      ]
     },
     "execution_count": 11,
     "metadata": {},
     "output_type": "execute_result"
    }
   ],
   "source": [
    "df1.head()"
   ]
  },
  {
   "cell_type": "code",
   "execution_count": 12,
   "metadata": {
    "collapsed": true
   },
   "outputs": [],
   "source": [
    "y = df1['y'].values"
   ]
  },
  {
   "cell_type": "code",
   "execution_count": 13,
   "metadata": {
    "collapsed": true
   },
   "outputs": [],
   "source": [
    "y = y - 1 #fix for zero bound array"
   ]
  },
  {
   "cell_type": "code",
   "execution_count": 14,
   "metadata": {},
   "outputs": [
    {
     "data": {
      "text/plain": [
       "array([0, 1, 1, ..., 5, 3, 0])"
      ]
     },
     "execution_count": 14,
     "metadata": {},
     "output_type": "execute_result"
    }
   ],
   "source": [
    "y"
   ]
  },
  {
   "cell_type": "code",
   "execution_count": 15,
   "metadata": {
    "collapsed": true
   },
   "outputs": [],
   "source": [
    "wts = np.load('../cache/stage2_train_weights.npy')"
   ]
  },
  {
   "cell_type": "code",
   "execution_count": 16,
   "metadata": {},
   "outputs": [
    {
     "data": {
      "text/plain": [
       "(22044,)"
      ]
     },
     "execution_count": 16,
     "metadata": {},
     "output_type": "execute_result"
    }
   ],
   "source": [
    "wts.shape"
   ]
  },
  {
   "cell_type": "code",
   "execution_count": 17,
   "metadata": {
    "collapsed": true
   },
   "outputs": [],
   "source": [
    "wts_per_class = np.load('../cache/stage2_train_weights_per_class.npy')\n",
    "wts_per_class = wts_per_class.tolist()"
   ]
  },
  {
   "cell_type": "code",
   "execution_count": 18,
   "metadata": {},
   "outputs": [
    {
     "name": "stdout",
     "output_type": "stream",
     "text": [
      "{1: 5.1438127090301, 2: 7.957334416903698, 3: 25.948655256723715, 4: 2.7054967221381743, 5: 9.276923076923078, 6: 10.144590495449949, 7: 3.5839051777916406, 8: 206.96226415094338, 9: 115.02105263157895}\n"
     ]
    }
   ],
   "source": [
    "print(wts_per_class)"
   ]
  },
  {
   "cell_type": "code",
   "execution_count": 19,
   "metadata": {},
   "outputs": [
    {
     "data": {
      "text/plain": [
       "7.957334416903698"
      ]
     },
     "execution_count": 19,
     "metadata": {},
     "output_type": "execute_result"
    }
   ],
   "source": [
    "wts_per_class[2]"
   ]
  },
  {
   "cell_type": "code",
   "execution_count": 22,
   "metadata": {},
   "outputs": [
    {
     "name": "stdout",
     "output_type": "stream",
     "text": [
      "[0]\ttrain-mlogloss:2.0982\tvalid-mlogloss:2.10236\n",
      "Multiple eval metrics have been passed: 'valid-mlogloss' will be used for early stopping.\n",
      "\n",
      "Will train until valid-mlogloss hasn't improved in 100 rounds.\n",
      "[50]\ttrain-mlogloss:0.5892\tvalid-mlogloss:0.666544\n",
      "[100]\ttrain-mlogloss:0.274805\tvalid-mlogloss:0.370445\n",
      "[150]\ttrain-mlogloss:0.16157\tvalid-mlogloss:0.27276\n",
      "[200]\ttrain-mlogloss:0.106156\tvalid-mlogloss:0.230782\n",
      "[250]\ttrain-mlogloss:0.069974\tvalid-mlogloss:0.208361\n",
      "[300]\ttrain-mlogloss:0.046394\tvalid-mlogloss:0.197071\n",
      "[350]\ttrain-mlogloss:0.031589\tvalid-mlogloss:0.193724\n",
      "[400]\ttrain-mlogloss:0.021918\tvalid-mlogloss:0.193179\n",
      "[450]\ttrain-mlogloss:0.01518\tvalid-mlogloss:0.193155\n",
      "[500]\ttrain-mlogloss:0.010525\tvalid-mlogloss:0.193671\n",
      "Stopping. Best iteration:\n",
      "[408]\ttrain-mlogloss:0.020486\tvalid-mlogloss:0.192414\n",
      "\n",
      "fold = 0\n",
      "val multi_log_loss: 0.1085512381422941\n",
      "val f1_score: 0.9709853189781563\n",
      "val accuracy: 0.972556135178045\n",
      "[[ 698    0    1    8    4    1    6    0    0]\n",
      " [   0  458    0    0    0    1   33    0    0]\n",
      " [   0    0  159    2    0    0    2    0    0]\n",
      " [  15    1    2 1165    1    0    6    0    0]\n",
      " [   4    1    0    3  416    3    2    0    0]\n",
      " [   4    0    0    1    2  385    4    0    0]\n",
      " [   0    7    1    0    2    1  951    0    0]\n",
      " [   0    1    0    0    0    0    1   19    0]\n",
      " [   1    0    0    0    0    0    0    0   37]]\n",
      "-------------------\n",
      "\n",
      "\n",
      "\n",
      "[0]\ttrain-mlogloss:2.09626\tvalid-mlogloss:2.09677\n",
      "Multiple eval metrics have been passed: 'valid-mlogloss' will be used for early stopping.\n",
      "\n",
      "Will train until valid-mlogloss hasn't improved in 100 rounds.\n",
      "[50]\ttrain-mlogloss:0.59156\tvalid-mlogloss:0.62607\n",
      "[100]\ttrain-mlogloss:0.277337\tvalid-mlogloss:0.32534\n",
      "[150]\ttrain-mlogloss:0.164718\tvalid-mlogloss:0.219888\n",
      "[200]\ttrain-mlogloss:0.109021\tvalid-mlogloss:0.170506\n",
      "[250]\ttrain-mlogloss:0.07267\tvalid-mlogloss:0.142669\n",
      "[300]\ttrain-mlogloss:0.048892\tvalid-mlogloss:0.124626\n",
      "[350]\ttrain-mlogloss:0.033409\tvalid-mlogloss:0.112188\n",
      "[400]\ttrain-mlogloss:0.023355\tvalid-mlogloss:0.106161\n",
      "[450]\ttrain-mlogloss:0.016357\tvalid-mlogloss:0.10166\n",
      "[500]\ttrain-mlogloss:0.011563\tvalid-mlogloss:0.097592\n",
      "[550]\ttrain-mlogloss:0.008168\tvalid-mlogloss:0.095069\n",
      "[600]\ttrain-mlogloss:0.005919\tvalid-mlogloss:0.093811\n",
      "[650]\ttrain-mlogloss:0.004285\tvalid-mlogloss:0.093422\n",
      "[700]\ttrain-mlogloss:0.003194\tvalid-mlogloss:0.093862\n",
      "[750]\ttrain-mlogloss:0.002423\tvalid-mlogloss:0.093971\n",
      "Stopping. Best iteration:\n",
      "[654]\ttrain-mlogloss:0.004191\tvalid-mlogloss:0.093391\n",
      "\n",
      "fold = 1\n",
      "val multi_log_loss: 0.07823453002893681\n",
      "val f1_score: 0.9749265862041747\n",
      "val accuracy: 0.9775459287820367\n",
      "[[ 704    0    0    9    1    1    2    1    0]\n",
      " [   0  472    0    2    0    0   18    0    0]\n",
      " [   0    0  161    1    0    0    1    0    0]\n",
      " [  12    2    0 1163    1    2   10    0    0]\n",
      " [   6    0    2    0  416    3    2    0    0]\n",
      " [   0    2    0    1    0  389    4    0    0]\n",
      " [   1    9    1    2    0    0  949    0    0]\n",
      " [   0    0    0    0    0    0    1   20    0]\n",
      " [   0    0    0    0    0    0    2    0   36]]\n",
      "-------------------\n",
      "\n",
      "\n",
      "\n",
      "[0]\ttrain-mlogloss:2.09823\tvalid-mlogloss:2.10312\n",
      "Multiple eval metrics have been passed: 'valid-mlogloss' will be used for early stopping.\n",
      "\n",
      "Will train until valid-mlogloss hasn't improved in 100 rounds.\n",
      "[50]\ttrain-mlogloss:0.586332\tvalid-mlogloss:0.659681\n",
      "[100]\ttrain-mlogloss:0.273329\tvalid-mlogloss:0.368019\n",
      "[150]\ttrain-mlogloss:0.161084\tvalid-mlogloss:0.269009\n",
      "[200]\ttrain-mlogloss:0.105968\tvalid-mlogloss:0.22802\n",
      "[250]\ttrain-mlogloss:0.069479\tvalid-mlogloss:0.20433\n",
      "[300]\ttrain-mlogloss:0.046618\tvalid-mlogloss:0.193559\n",
      "[350]\ttrain-mlogloss:0.0316\tvalid-mlogloss:0.189302\n",
      "[400]\ttrain-mlogloss:0.021927\tvalid-mlogloss:0.186185\n",
      "[450]\ttrain-mlogloss:0.015297\tvalid-mlogloss:0.187415\n",
      "Stopping. Best iteration:\n",
      "[395]\ttrain-mlogloss:0.022707\tvalid-mlogloss:0.18606\n",
      "\n",
      "fold = 2\n",
      "val multi_log_loss: 0.11538953810876414\n",
      "val f1_score: 0.9698901116675712\n",
      "val accuracy: 0.9711952823769562\n",
      "[[ 694    1    1   10    7    3    2    0    0]\n",
      " [   1  458    1    1    0    0   31    0    0]\n",
      " [   0    0  161    2    0    0    0    0    0]\n",
      " [  17    1    2 1162    2    0    6    0    0]\n",
      " [   6    0    1    1  414    1    6    0    0]\n",
      " [   1    0    0    2    0  392    1    0    0]\n",
      " [   0    9    4    2    2    0  945    0    0]\n",
      " [   0    0    0    0    0    0    2   19    0]\n",
      " [   0    0    0    0    0    0    1    0   37]]\n",
      "-------------------\n",
      "\n",
      "\n",
      "\n",
      "[0]\ttrain-mlogloss:2.09749\tvalid-mlogloss:2.10311\n",
      "Multiple eval metrics have been passed: 'valid-mlogloss' will be used for early stopping.\n",
      "\n",
      "Will train until valid-mlogloss hasn't improved in 100 rounds.\n",
      "[50]\ttrain-mlogloss:0.585904\tvalid-mlogloss:0.658759\n",
      "[100]\ttrain-mlogloss:0.27433\tvalid-mlogloss:0.366136\n",
      "[150]\ttrain-mlogloss:0.161021\tvalid-mlogloss:0.26715\n",
      "[200]\ttrain-mlogloss:0.104986\tvalid-mlogloss:0.223278\n",
      "[250]\ttrain-mlogloss:0.068637\tvalid-mlogloss:0.200525\n",
      "[300]\ttrain-mlogloss:0.046561\tvalid-mlogloss:0.189644\n",
      "[350]\ttrain-mlogloss:0.032135\tvalid-mlogloss:0.185998\n",
      "[400]\ttrain-mlogloss:0.021992\tvalid-mlogloss:0.184374\n",
      "[450]\ttrain-mlogloss:0.015387\tvalid-mlogloss:0.185341\n",
      "[500]\ttrain-mlogloss:0.01065\tvalid-mlogloss:0.187504\n",
      "Stopping. Best iteration:\n",
      "[413]\ttrain-mlogloss:0.019937\tvalid-mlogloss:0.184041\n",
      "\n",
      "fold = 3\n",
      "val multi_log_loss: 0.1113881829031013\n",
      "val f1_score: 0.9697281274180453\n",
      "val accuracy: 0.9693808119755046\n",
      "[[ 700    2    1    5    5    4    1    0    0]\n",
      " [   0  462    0    3    0    1   26    0    0]\n",
      " [   0    2  157    2    0    0    2    0    0]\n",
      " [  26    1    1 1155    1    1    5    0    0]\n",
      " [  10    2    0    1  411    3    2    0    0]\n",
      " [   1    0    0    3    1  388    3    0    0]\n",
      " [   0   14    1    2    1    0  944    0    0]\n",
      " [   0    1    0    0    0    0    1   19    0]\n",
      " [   0    0    0    0    0    0    0    0   38]]\n",
      "-------------------\n",
      "\n",
      "\n",
      "\n",
      "[0]\ttrain-mlogloss:2.09804\tvalid-mlogloss:2.1014\n",
      "Multiple eval metrics have been passed: 'valid-mlogloss' will be used for early stopping.\n",
      "\n",
      "Will train until valid-mlogloss hasn't improved in 100 rounds.\n",
      "[50]\ttrain-mlogloss:0.590931\tvalid-mlogloss:0.665083\n",
      "[100]\ttrain-mlogloss:0.27614\tvalid-mlogloss:0.377332\n",
      "[150]\ttrain-mlogloss:0.162575\tvalid-mlogloss:0.284138\n",
      "[200]\ttrain-mlogloss:0.10576\tvalid-mlogloss:0.242994\n",
      "[250]\ttrain-mlogloss:0.070484\tvalid-mlogloss:0.223213\n",
      "[300]\ttrain-mlogloss:0.046886\tvalid-mlogloss:0.2114\n",
      "[350]\ttrain-mlogloss:0.032074\tvalid-mlogloss:0.207946\n",
      "[400]\ttrain-mlogloss:0.022133\tvalid-mlogloss:0.205879\n",
      "[450]\ttrain-mlogloss:0.015428\tvalid-mlogloss:0.204861\n",
      "[500]\ttrain-mlogloss:0.010946\tvalid-mlogloss:0.205359\n",
      "Stopping. Best iteration:\n",
      "[446]\ttrain-mlogloss:0.015818\tvalid-mlogloss:0.204545\n",
      "\n",
      "fold = 4\n",
      "val multi_log_loss: 0.10379391401121843\n",
      "val f1_score: 0.9693606957607932\n",
      "val accuracy: 0.9734633703787707\n",
      "[[ 690    4    0   11    6    3    4    0    0]\n",
      " [   1  468    0    1    0    0   22    0    0]\n",
      " [   0    1  161    0    0    0    1    0    0]\n",
      " [  16    1    1 1165    2    1    4    0    0]\n",
      " [   2    0    1    1  419    3    3    0    0]\n",
      " [   5    1    0    2    2  381    5    0    0]\n",
      " [   0   10    0    0    0    0  952    0    0]\n",
      " [   0    2    0    0    0    0    0   18    1]\n",
      " [   0    0    0    0    0    0    0    0   38]]\n",
      "-------------------\n",
      "\n",
      "\n",
      "\n",
      "[0]\ttrain-mlogloss:2.09818\tvalid-mlogloss:2.09968\n",
      "Multiple eval metrics have been passed: 'valid-mlogloss' will be used for early stopping.\n",
      "\n",
      "Will train until valid-mlogloss hasn't improved in 100 rounds.\n",
      "[50]\ttrain-mlogloss:0.589211\tvalid-mlogloss:0.639591\n",
      "[100]\ttrain-mlogloss:0.274463\tvalid-mlogloss:0.346902\n",
      "[150]\ttrain-mlogloss:0.161278\tvalid-mlogloss:0.248099\n",
      "[200]\ttrain-mlogloss:0.106176\tvalid-mlogloss:0.204387\n",
      "[250]\ttrain-mlogloss:0.070474\tvalid-mlogloss:0.178519\n",
      "[300]\ttrain-mlogloss:0.047594\tvalid-mlogloss:0.165799\n",
      "[350]\ttrain-mlogloss:0.031963\tvalid-mlogloss:0.157659\n",
      "[400]\ttrain-mlogloss:0.022198\tvalid-mlogloss:0.155105\n",
      "[450]\ttrain-mlogloss:0.015478\tvalid-mlogloss:0.155246\n",
      "Stopping. Best iteration:\n",
      "[382]\ttrain-mlogloss:0.025118\tvalid-mlogloss:0.154134\n",
      "\n",
      "fold = 5\n",
      "val multi_log_loss: 0.11910915972796339\n",
      "val f1_score: 0.9662650768679644\n",
      "val accuracy: 0.970061238376049\n",
      "[[ 702    1    0    9    5    0    0    0    1]\n",
      " [   0  470    0    1    0    1   20    0    0]\n",
      " [   2    0  157    2    0    0    2    0    0]\n",
      " [  24    0    1 1152    3    2    7    0    1]\n",
      " [   8    0    1    0  413    5    2    0    0]\n",
      " [   2    1    0    3    1  387    2    0    0]\n",
      " [   0   14    3    4    2    0  939    0    0]\n",
      " [   0    1    0    0    0    0    0   19    1]\n",
      " [   0    0    0    0    0    0    0    0   38]]\n",
      "-------------------\n",
      "\n",
      "\n",
      "\n"
     ]
    },
    {
     "name": "stdout",
     "output_type": "stream",
     "text": [
      "[0]\ttrain-mlogloss:2.10013\tvalid-mlogloss:2.10145\n",
      "Multiple eval metrics have been passed: 'valid-mlogloss' will be used for early stopping.\n",
      "\n",
      "Will train until valid-mlogloss hasn't improved in 100 rounds.\n",
      "[50]\ttrain-mlogloss:0.589546\tvalid-mlogloss:0.638028\n",
      "[100]\ttrain-mlogloss:0.274019\tvalid-mlogloss:0.334943\n",
      "[150]\ttrain-mlogloss:0.162013\tvalid-mlogloss:0.230471\n",
      "[200]\ttrain-mlogloss:0.104649\tvalid-mlogloss:0.180342\n",
      "[250]\ttrain-mlogloss:0.06786\tvalid-mlogloss:0.150139\n",
      "[300]\ttrain-mlogloss:0.045822\tvalid-mlogloss:0.133799\n",
      "[350]\ttrain-mlogloss:0.030743\tvalid-mlogloss:0.124317\n",
      "[400]\ttrain-mlogloss:0.021116\tvalid-mlogloss:0.120772\n",
      "[450]\ttrain-mlogloss:0.014673\tvalid-mlogloss:0.118902\n",
      "[500]\ttrain-mlogloss:0.010062\tvalid-mlogloss:0.117629\n",
      "[550]\ttrain-mlogloss:0.007056\tvalid-mlogloss:0.117941\n",
      "[600]\ttrain-mlogloss:0.00508\tvalid-mlogloss:0.11858\n",
      "Stopping. Best iteration:\n",
      "[518]\ttrain-mlogloss:0.008841\tvalid-mlogloss:0.117071\n",
      "\n",
      "fold = 6\n",
      "val multi_log_loss: 0.11051360416093563\n",
      "val f1_score: 0.9681962505052013\n",
      "val accuracy: 0.9691540031753232\n",
      "[[ 699    1    0   10    2    2    2    1    1]\n",
      " [   2  457    0    1    0    0   32    0    0]\n",
      " [   2    1  159    0    1    0    0    0    0]\n",
      " [  18    1    2 1162    1    1    5    0    0]\n",
      " [  11    2    0    3  409    3    1    0    0]\n",
      " [   4    2    0    2    1  383    4    0    0]\n",
      " [   0    7    4    5    0    0  946    0    0]\n",
      " [   0    0    0    0    0    0    1   20    0]\n",
      " [   0    0    0    0    0    0    0    0   38]]\n",
      "-------------------\n",
      "\n",
      "\n",
      "\n",
      "[0]\ttrain-mlogloss:2.0995\tvalid-mlogloss:2.10637\n",
      "Multiple eval metrics have been passed: 'valid-mlogloss' will be used for early stopping.\n",
      "\n",
      "Will train until valid-mlogloss hasn't improved in 100 rounds.\n",
      "[50]\ttrain-mlogloss:0.589612\tvalid-mlogloss:0.666818\n",
      "[100]\ttrain-mlogloss:0.275619\tvalid-mlogloss:0.381134\n",
      "[150]\ttrain-mlogloss:0.163863\tvalid-mlogloss:0.290035\n",
      "[200]\ttrain-mlogloss:0.106712\tvalid-mlogloss:0.250943\n",
      "[250]\ttrain-mlogloss:0.069936\tvalid-mlogloss:0.231896\n",
      "[300]\ttrain-mlogloss:0.047232\tvalid-mlogloss:0.224167\n",
      "[350]\ttrain-mlogloss:0.03169\tvalid-mlogloss:0.222718\n",
      "[400]\ttrain-mlogloss:0.022247\tvalid-mlogloss:0.225464\n",
      "[450]\ttrain-mlogloss:0.015368\tvalid-mlogloss:0.229203\n",
      "Stopping. Best iteration:\n",
      "[352]\ttrain-mlogloss:0.031244\tvalid-mlogloss:0.222634\n",
      "\n",
      "fold = 7\n",
      "val multi_log_loss: 0.1369127886336443\n",
      "val f1_score: 0.9664776069703306\n",
      "val accuracy: 0.9687003855749603\n",
      "[[ 690    5    0   11    9    0    3    0    0]\n",
      " [   2  466    0    1    0    1   22    0    0]\n",
      " [   0    0  158    3    0    0    2    0    0]\n",
      " [  21    6    1 1154    2    2    4    0    0]\n",
      " [   4    0    0    2  415    4    4    0    0]\n",
      " [   4    0    0    3    1  386    2    0    0]\n",
      " [   0    9    4    3    0    0  946    0    0]\n",
      " [   0    1    0    0    0    0    2   18    0]\n",
      " [   0    0    0    0    0    0    0    0   38]]\n",
      "-------------------\n",
      "\n",
      "\n",
      "\n",
      "[0]\ttrain-mlogloss:2.09775\tvalid-mlogloss:2.10239\n",
      "Multiple eval metrics have been passed: 'valid-mlogloss' will be used for early stopping.\n",
      "\n",
      "Will train until valid-mlogloss hasn't improved in 100 rounds.\n",
      "[50]\ttrain-mlogloss:0.593029\tvalid-mlogloss:0.648674\n",
      "[100]\ttrain-mlogloss:0.276915\tvalid-mlogloss:0.348811\n",
      "[150]\ttrain-mlogloss:0.163429\tvalid-mlogloss:0.248449\n",
      "[200]\ttrain-mlogloss:0.106893\tvalid-mlogloss:0.205128\n",
      "[250]\ttrain-mlogloss:0.069694\tvalid-mlogloss:0.180553\n",
      "[300]\ttrain-mlogloss:0.046351\tvalid-mlogloss:0.16763\n",
      "[350]\ttrain-mlogloss:0.031333\tvalid-mlogloss:0.163353\n",
      "[400]\ttrain-mlogloss:0.021374\tvalid-mlogloss:0.16261\n",
      "[450]\ttrain-mlogloss:0.014689\tvalid-mlogloss:0.163684\n",
      "[500]\ttrain-mlogloss:0.010315\tvalid-mlogloss:0.165021\n",
      "Stopping. Best iteration:\n",
      "[407]\ttrain-mlogloss:0.020282\tvalid-mlogloss:0.162544\n",
      "\n",
      "fold = 8\n",
      "val multi_log_loss: 0.11318282003780364\n",
      "val f1_score: 0.9713446832578411\n",
      "val accuracy: 0.9714220911771376\n",
      "[[ 697    1    1    6    5    2    6    0    0]\n",
      " [   2  470    1    0    0    0   19    0    0]\n",
      " [   0    1  158    1    0    0    3    0    0]\n",
      " [  14    0    1 1164    2    1    8    0    0]\n",
      " [   4    0    0    1  417    3    4    0    0]\n",
      " [   3    2    0    0    3  384    4    0    0]\n",
      " [   1   17    1    4    2    0  937    0    0]\n",
      " [   0    0    0    0    0    0    1   20    0]\n",
      " [   0    0    0    2    0    0    0    0   36]]\n",
      "-------------------\n",
      "\n",
      "\n",
      "\n",
      "[0]\ttrain-mlogloss:2.09993\tvalid-mlogloss:2.1038\n",
      "Multiple eval metrics have been passed: 'valid-mlogloss' will be used for early stopping.\n",
      "\n",
      "Will train until valid-mlogloss hasn't improved in 100 rounds.\n",
      "[50]\ttrain-mlogloss:0.591118\tvalid-mlogloss:0.643005\n",
      "[100]\ttrain-mlogloss:0.277068\tvalid-mlogloss:0.350667\n",
      "[150]\ttrain-mlogloss:0.163017\tvalid-mlogloss:0.250754\n",
      "[200]\ttrain-mlogloss:0.107493\tvalid-mlogloss:0.206262\n",
      "[250]\ttrain-mlogloss:0.072119\tvalid-mlogloss:0.181996\n",
      "[300]\ttrain-mlogloss:0.048362\tvalid-mlogloss:0.167876\n",
      "[350]\ttrain-mlogloss:0.032813\tvalid-mlogloss:0.162183\n",
      "[400]\ttrain-mlogloss:0.022299\tvalid-mlogloss:0.159015\n",
      "[450]\ttrain-mlogloss:0.01569\tvalid-mlogloss:0.157709\n",
      "[500]\ttrain-mlogloss:0.011009\tvalid-mlogloss:0.157074\n",
      "[550]\ttrain-mlogloss:0.007837\tvalid-mlogloss:0.1588\n",
      "Stopping. Best iteration:\n",
      "[484]\ttrain-mlogloss:0.012285\tvalid-mlogloss:0.157023\n",
      "\n",
      "fold = 9\n",
      "val multi_log_loss: 0.10731891721559848\n",
      "val f1_score: 0.9722828468091022\n",
      "val accuracy: 0.9721025175776821\n",
      "[[ 704    1    2    5    4    0    2    0    0]\n",
      " [   2  471    0    1    1    1   16    0    0]\n",
      " [   1    0  157    1    0    0    4    0    0]\n",
      " [  19    2    1 1163    1    0    4    0    0]\n",
      " [   8    1    4    5  405    3    3    0    0]\n",
      " [   6    2    0    3    2  382    1    0    0]\n",
      " [   0   14    2    0    0    0  946    0    0]\n",
      " [   0    1    0    0    0    0    0   20    0]\n",
      " [   0    0    0    0    0    0    0    0   38]]\n",
      "-------------------\n",
      "\n",
      "\n",
      "\n"
     ]
    }
   ],
   "source": [
    " \n",
    "\n",
    "denom = 0\n",
    "fold = 10 \n",
    "for i in range(fold):\n",
    "    params = {\n",
    "        'eta': 0.03333,\n",
    "        'max_depth': 6,\n",
    "        'subsample' : 0.8,\n",
    "        'colsample_bytree':0.8,\n",
    "        'objective': 'multi:softprob',\n",
    "        'eval_metric': 'mlogloss',\n",
    "        'num_class': 9,\n",
    "        'seed': i,\n",
    "        'tree_method': 'gpu_hist',\n",
    "        'silent': True\n",
    "    }\n",
    "    x1, x2, y1, y2 = train_test_split(df_train, y, test_size=0.2, random_state=i, stratify=y, shuffle=True)\n",
    "    \n",
    "    w1 = [wts_per_class[j+1] for j in y1]\n",
    "    w2 = [wts_per_class[j+1] for j in y2]\n",
    "    watchlist = [(xgb.DMatrix(x1, y1, weight=w1), 'train'), (xgb.DMatrix(x2, y2, weight=w2), 'valid')]\n",
    "    model = xgb.train(params, xgb.DMatrix(x1, y1, weight=w1), 1000,  watchlist, \n",
    "                      verbose_eval=50, early_stopping_rounds=100)\n",
    "    pred_val =  model.predict(xgb.DMatrix(x2), ntree_limit=model.best_ntree_limit)\n",
    "    score1 = log_loss(y2, pred_val, labels = list(range(9)))\n",
    "    \n",
    "    print('fold = {:d}'.format(i))\n",
    "    print('val multi_log_loss: {}'.format(score1))\n",
    "    \n",
    "    fscore = f1_score(y2, pred_val.argmax(axis=1), labels = list(range(9)), average='macro')\n",
    "    print('val f1_score: {}'.format(fscore))\n",
    "    \n",
    "    acc = accuracy_score(y2, pred_val.argmax(axis=1))\n",
    "    print('val accuracy: {}'.format(acc))\n",
    "    \n",
    "    print(confusion_matrix(y2, pred_val.argmax(axis=1), labels = list(range(9))))\n",
    "    \n",
    "    print('-------------------')\n",
    "    print('\\n\\n')\n",
    "    #if score < 0.9:\n",
    "    if denom != 0:\n",
    "        pred = model.predict(xgb.DMatrix(df_test), ntree_limit=model.best_ntree_limit+80)\n",
    "        preds += pred\n",
    "    else:\n",
    "        pred = model.predict(xgb.DMatrix(df_test), ntree_limit=model.best_ntree_limit+80)\n",
    "        preds = pred.copy()\n",
    "    denom += 1\n",
    "    submission = pd.DataFrame(pred, columns=['class'+str(c+1) for c in range(9)])\n",
    "    submission['ID'] = pid\n",
    "    submission.to_csv('../submissions/sub5_0_stage2_xgb_fold_'  + str(i) + '.csv', index=False)\n"
   ]
  },
  {
   "cell_type": "code",
   "execution_count": 24,
   "metadata": {
    "collapsed": true
   },
   "outputs": [],
   "source": [
    "preds1 = preds/denom"
   ]
  },
  {
   "cell_type": "code",
   "execution_count": 25,
   "metadata": {
    "collapsed": true
   },
   "outputs": [],
   "source": [
    "preds1 = np.clip(preds1, a_min=0.05, a_max=0.95)"
   ]
  },
  {
   "cell_type": "code",
   "execution_count": 26,
   "metadata": {
    "collapsed": true
   },
   "outputs": [],
   "source": [
    "submission = pd.DataFrame(preds1, columns=['class'+str(c+1) for c in range(9)])\n",
    "submission['ID'] = pid\n",
    "submission.to_csv('../submissions/sub5_0_stage2_all_2_2_xgb.csv', index=False)\n",
    "# scored 2.82570 on stage2 private LB, 1.70018 on stage2 public LB\n",
    "# scored 2.81200 on stage2 private LB, 1.71324 on stage2 public LB (with new feature engg)\n",
    "# scored 2.46932 on stage2 private LB, 1.33261 on stage2 public LB (without stratify and shuffle in train_test_split)\n",
    "\n"
   ]
  },
  {
   "cell_type": "code",
   "execution_count": null,
   "metadata": {
    "collapsed": true
   },
   "outputs": [],
   "source": []
  }
 ],
 "metadata": {
  "kernelspec": {
   "display_name": "Python 3",
   "language": "python",
   "name": "python3"
  },
  "language_info": {
   "codemirror_mode": {
    "name": "ipython",
    "version": 3
   },
   "file_extension": ".py",
   "mimetype": "text/x-python",
   "name": "python",
   "nbconvert_exporter": "python",
   "pygments_lexer": "ipython3",
   "version": "3.6.1"
  }
 },
 "nbformat": 4,
 "nbformat_minor": 2
}
