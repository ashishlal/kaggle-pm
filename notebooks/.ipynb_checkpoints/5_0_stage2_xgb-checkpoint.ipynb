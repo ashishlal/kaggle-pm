{
 "cells": [
  {
   "cell_type": "code",
   "execution_count": 1,
   "metadata": {
    "collapsed": true
   },
   "outputs": [],
   "source": [
    "import re\n",
    "import numpy as np\n",
    "import pandas as pd\n",
    "import feather\n",
    "import xgboost as xgb\n",
    "import feather\n",
    "\n",
    "from sklearn.model_selection import train_test_split\n",
    "from sklearn.metrics import log_loss, confusion_matrix, f1_score, accuracy_score\n",
    "\n",
    "from utils import print_confusion_matrix"
   ]
  },
  {
   "cell_type": "code",
   "execution_count": 2,
   "metadata": {
    "collapsed": true
   },
   "outputs": [],
   "source": [
    "def get_wt(cls, df):\n",
    "    tot_neg_instances = df.shape[0] - p[cls]\n",
    "    tot_pos_instances = p[cls]\n",
    "    return float(tot_neg_instances/tot_pos_instances)"
   ]
  },
  {
   "cell_type": "code",
   "execution_count": 3,
   "metadata": {
    "collapsed": true
   },
   "outputs": [],
   "source": [
    "def get_wt2(cls, tot):\n",
    "    tot_neg_instances = tot - p[cls]\n",
    "    tot_pos_instances = p[cls]\n",
    "    return float(tot_neg_instances/tot_pos_instances)"
   ]
  },
  {
   "cell_type": "code",
   "execution_count": 4,
   "metadata": {
    "collapsed": true
   },
   "outputs": [],
   "source": [
    "df_train = np.load('../cache/train_stage2_fe2.npy')"
   ]
  },
  {
   "cell_type": "code",
   "execution_count": 5,
   "metadata": {},
   "outputs": [
    {
     "data": {
      "text/plain": [
       "(3689, 4689)"
      ]
     },
     "execution_count": 5,
     "metadata": {},
     "output_type": "execute_result"
    }
   ],
   "source": [
    "df_train.shape"
   ]
  },
  {
   "cell_type": "code",
   "execution_count": 6,
   "metadata": {
    "collapsed": true
   },
   "outputs": [],
   "source": [
    "df_test = np.load('../cache/test_stage2_fe2.npy')"
   ]
  },
  {
   "cell_type": "code",
   "execution_count": 7,
   "metadata": {},
   "outputs": [
    {
     "data": {
      "text/plain": [
       "(986, 4689)"
      ]
     },
     "execution_count": 7,
     "metadata": {},
     "output_type": "execute_result"
    }
   ],
   "source": [
    "df_test.shape"
   ]
  },
  {
   "cell_type": "code",
   "execution_count": 8,
   "metadata": {
    "collapsed": true
   },
   "outputs": [],
   "source": [
    "df = pd.read_csv('../cache/stage2_test_id.csv')"
   ]
  },
  {
   "cell_type": "code",
   "execution_count": 9,
   "metadata": {
    "collapsed": true
   },
   "outputs": [],
   "source": [
    "pid = df.ID"
   ]
  },
  {
   "cell_type": "code",
   "execution_count": 10,
   "metadata": {
    "collapsed": true
   },
   "outputs": [],
   "source": [
    "df1 = pd.read_csv('../cache/stage2_labels.csv')"
   ]
  },
  {
   "cell_type": "code",
   "execution_count": 11,
   "metadata": {},
   "outputs": [
    {
     "data": {
      "text/html": [
       "<div>\n",
       "<style>\n",
       "    .dataframe thead tr:only-child th {\n",
       "        text-align: right;\n",
       "    }\n",
       "\n",
       "    .dataframe thead th {\n",
       "        text-align: left;\n",
       "    }\n",
       "\n",
       "    .dataframe tbody tr th {\n",
       "        vertical-align: top;\n",
       "    }\n",
       "</style>\n",
       "<table border=\"1\" class=\"dataframe\">\n",
       "  <thead>\n",
       "    <tr style=\"text-align: right;\">\n",
       "      <th></th>\n",
       "      <th>y</th>\n",
       "    </tr>\n",
       "  </thead>\n",
       "  <tbody>\n",
       "    <tr>\n",
       "      <th>0</th>\n",
       "      <td>1</td>\n",
       "    </tr>\n",
       "    <tr>\n",
       "      <th>1</th>\n",
       "      <td>2</td>\n",
       "    </tr>\n",
       "    <tr>\n",
       "      <th>2</th>\n",
       "      <td>2</td>\n",
       "    </tr>\n",
       "    <tr>\n",
       "      <th>3</th>\n",
       "      <td>3</td>\n",
       "    </tr>\n",
       "    <tr>\n",
       "      <th>4</th>\n",
       "      <td>4</td>\n",
       "    </tr>\n",
       "  </tbody>\n",
       "</table>\n",
       "</div>"
      ],
      "text/plain": [
       "   y\n",
       "0  1\n",
       "1  2\n",
       "2  2\n",
       "3  3\n",
       "4  4"
      ]
     },
     "execution_count": 11,
     "metadata": {},
     "output_type": "execute_result"
    }
   ],
   "source": [
    "df1.head()"
   ]
  },
  {
   "cell_type": "code",
   "execution_count": 12,
   "metadata": {
    "collapsed": true
   },
   "outputs": [],
   "source": [
    "y = df1['y'].values"
   ]
  },
  {
   "cell_type": "code",
   "execution_count": 13,
   "metadata": {
    "collapsed": true
   },
   "outputs": [],
   "source": [
    "y = y - 1 #fix for zero bound array"
   ]
  },
  {
   "cell_type": "code",
   "execution_count": 14,
   "metadata": {},
   "outputs": [
    {
     "data": {
      "text/plain": [
       "array([0, 1, 1, ..., 5, 3, 0])"
      ]
     },
     "execution_count": 14,
     "metadata": {},
     "output_type": "execute_result"
    }
   ],
   "source": [
    "y"
   ]
  },
  {
   "cell_type": "code",
   "execution_count": 15,
   "metadata": {
    "collapsed": true
   },
   "outputs": [],
   "source": [
    "wts = np.load('../cache/stage2_train_weights.npy')"
   ]
  },
  {
   "cell_type": "code",
   "execution_count": 16,
   "metadata": {},
   "outputs": [
    {
     "data": {
      "text/plain": [
       "(3689,)"
      ]
     },
     "execution_count": 16,
     "metadata": {},
     "output_type": "execute_result"
    }
   ],
   "source": [
    "wts.shape"
   ]
  },
  {
   "cell_type": "code",
   "execution_count": 17,
   "metadata": {},
   "outputs": [],
   "source": [
    "wts_per_class = np.load('../cache/stage2_train_weights_per_class.npy')\n",
    "wts_per_class = wts_per_class.tolist()"
   ]
  },
  {
   "cell_type": "code",
   "execution_count": 18,
   "metadata": {},
   "outputs": [
    {
     "name": "stdout",
     "output_type": "stream",
     "text": [
      "{1: 4.572507552870091, 2: 6.407630522088353, 3: 37.427083333333336, 4: 3.912117177097204, 5: 12.816479400749063, 6: 11.42087542087542, 7: 2.5, 8: 174.66666666666666, 9: 84.79069767441861}\n"
     ]
    }
   ],
   "source": [
    "print(wts_per_class)"
   ]
  },
  {
   "cell_type": "code",
   "execution_count": 19,
   "metadata": {},
   "outputs": [
    {
     "data": {
      "text/plain": [
       "6.407630522088353"
      ]
     },
     "execution_count": 19,
     "metadata": {},
     "output_type": "execute_result"
    }
   ],
   "source": [
    "wts_per_class[2]"
   ]
  },
  {
   "cell_type": "code",
   "execution_count": 20,
   "metadata": {},
   "outputs": [
    {
     "name": "stdout",
     "output_type": "stream",
     "text": [
      "[0]\ttrain-mlogloss:2.11353\tvalid-mlogloss:2.14249\n",
      "Multiple eval metrics have been passed: 'valid-mlogloss' will be used for early stopping.\n",
      "\n",
      "Will train until valid-mlogloss hasn't improved in 100 rounds.\n",
      "[50]\ttrain-mlogloss:0.64771\tvalid-mlogloss:1.2431\n",
      "[100]\ttrain-mlogloss:0.304906\tvalid-mlogloss:1.13823\n",
      "[150]\ttrain-mlogloss:0.170686\tvalid-mlogloss:1.17548\n",
      "Stopping. Best iteration:\n",
      "[96]\ttrain-mlogloss:0.32087\tvalid-mlogloss:1.13618\n",
      "\n",
      "fold = 0\n",
      "val multi_log_loss: 0.9857176823950395\n",
      "val f1_score: 0.6555427505688386\n",
      "val accuracy: 0.6842818428184282\n",
      "[[ 88   3   0  15  10   9   5   1   0]\n",
      " [  0  62   2   1   2   0  28   0   0]\n",
      " [  0   0  15   3   2   0   5   0   0]\n",
      " [ 30   2   7 118   9   2   4   0   0]\n",
      " [  7   3   1   4  35   3   2   0   0]\n",
      " [  5   3   1   1   4  33   5   0   0]\n",
      " [  2  24  12   4   5   2 144   0   0]\n",
      " [  0   0   0   0   0   0   0   3   2]\n",
      " [  0   1   0   1   1   0   0   0   7]]\n",
      "-------------------\n",
      "\n",
      "\n",
      "\n",
      "[0]\ttrain-mlogloss:2.11211\tvalid-mlogloss:2.14689\n",
      "Multiple eval metrics have been passed: 'valid-mlogloss' will be used for early stopping.\n",
      "\n",
      "Will train until valid-mlogloss hasn't improved in 100 rounds.\n",
      "[50]\ttrain-mlogloss:0.644643\tvalid-mlogloss:1.24782\n",
      "[100]\ttrain-mlogloss:0.305044\tvalid-mlogloss:1.1027\n",
      "[150]\ttrain-mlogloss:0.173929\tvalid-mlogloss:1.1111\n",
      "[200]\ttrain-mlogloss:0.106361\tvalid-mlogloss:1.17375\n",
      "Stopping. Best iteration:\n",
      "[125]\ttrain-mlogloss:0.227237\tvalid-mlogloss:1.09179\n",
      "\n",
      "fold = 1\n",
      "val multi_log_loss: 0.8403991454389441\n",
      "val f1_score: 0.7053603630916921\n",
      "val accuracy: 0.7344173441734417\n",
      "[[ 90   1   1  23  12   3   2   0   0]\n",
      " [  4  67   0   3   1   0  27   0   0]\n",
      " [  0   1  16   7   3   0   2   0   0]\n",
      " [ 17   0   3 109   4   1   2   0   0]\n",
      " [  3   0   0   2  37   1   6   0   0]\n",
      " [  3   5   0   2   4  40   5   0   0]\n",
      " [  2  25   7   5   5   0 175   0   0]\n",
      " [  0   0   0   0   0   0   2   2   0]\n",
      " [  0   1   0   0   0   0   0   1   6]]\n",
      "-------------------\n",
      "\n",
      "\n",
      "\n",
      "[0]\ttrain-mlogloss:2.1108\tvalid-mlogloss:2.14225\n",
      "Multiple eval metrics have been passed: 'valid-mlogloss' will be used for early stopping.\n",
      "\n",
      "Will train until valid-mlogloss hasn't improved in 100 rounds.\n",
      "[50]\ttrain-mlogloss:0.647835\tvalid-mlogloss:1.22913\n",
      "[100]\ttrain-mlogloss:0.30399\tvalid-mlogloss:1.07175\n",
      "[150]\ttrain-mlogloss:0.174309\tvalid-mlogloss:1.06298\n",
      "[200]\ttrain-mlogloss:0.104433\tvalid-mlogloss:1.10972\n",
      "Stopping. Best iteration:\n",
      "[123]\ttrain-mlogloss:0.232002\tvalid-mlogloss:1.05421\n",
      "\n",
      "fold = 2\n",
      "val multi_log_loss: 0.9251795399499941\n",
      "val f1_score: 0.6566511272579925\n",
      "val accuracy: 0.6951219512195121\n",
      "[[ 85   3   1  26  14   5   6   0   0]\n",
      " [  0  61   1   3   2   1  39   0   0]\n",
      " [  0   0   7   5   0   0   0   0   0]\n",
      " [ 19   0   4 113   8   1  10   0   2]\n",
      " [  6   3   1   1  29   2   4   0   0]\n",
      " [  3   1   0   3   5  44   5   0   0]\n",
      " [  1  25   7   2   2   0 161   0   0]\n",
      " [  0   1   0   0   0   0   0   3   1]\n",
      " [  0   0   0   0   0   0   0   2  10]]\n",
      "-------------------\n",
      "\n",
      "\n",
      "\n",
      "[0]\ttrain-mlogloss:2.10857\tvalid-mlogloss:2.15153\n",
      "Multiple eval metrics have been passed: 'valid-mlogloss' will be used for early stopping.\n",
      "\n",
      "Will train until valid-mlogloss hasn't improved in 100 rounds.\n",
      "[50]\ttrain-mlogloss:0.647062\tvalid-mlogloss:1.32095\n",
      "[100]\ttrain-mlogloss:0.306958\tvalid-mlogloss:1.22292\n",
      "[150]\ttrain-mlogloss:0.176187\tvalid-mlogloss:1.27462\n",
      "Stopping. Best iteration:\n",
      "[99]\ttrain-mlogloss:0.311055\tvalid-mlogloss:1.22185\n",
      "\n",
      "fold = 3\n",
      "val multi_log_loss: 0.9256658498803533\n",
      "val f1_score: 0.6267212975469193\n",
      "val accuracy: 0.7127371273712737\n",
      "[[ 97   1   1  16  14   4   1   0   0]\n",
      " [  2  68   0   0   2   2  19   2   0]\n",
      " [  0   0  17   2   0   0   1   0   0]\n",
      " [ 22   3   2  97   6   0   2   1   0]\n",
      " [ 10   3   0   2  30   0   5   0   0]\n",
      " [  6   9   2   2   3  42   4   0   0]\n",
      " [  0  33  12   6   3   1 169   0   2]\n",
      " [  0   1   0   0   0   0   1   1   2]\n",
      " [  0   1   0   1   0   0   0   0   5]]\n",
      "-------------------\n",
      "\n",
      "\n",
      "\n",
      "[0]\ttrain-mlogloss:2.11567\tvalid-mlogloss:2.14072\n",
      "Multiple eval metrics have been passed: 'valid-mlogloss' will be used for early stopping.\n",
      "\n",
      "Will train until valid-mlogloss hasn't improved in 100 rounds.\n",
      "[50]\ttrain-mlogloss:0.642425\tvalid-mlogloss:1.20004\n",
      "[100]\ttrain-mlogloss:0.304611\tvalid-mlogloss:1.05887\n",
      "[150]\ttrain-mlogloss:0.174091\tvalid-mlogloss:1.0595\n",
      "[200]\ttrain-mlogloss:0.106635\tvalid-mlogloss:1.09993\n",
      "Stopping. Best iteration:\n",
      "[124]\ttrain-mlogloss:0.229277\tvalid-mlogloss:1.04902\n",
      "\n",
      "fold = 4\n",
      "val multi_log_loss: 0.8819861687987356\n",
      "val f1_score: 0.6494354038032708\n",
      "val accuracy: 0.6924119241192412\n",
      "[[ 87   1   2  25  11   3   1   1   0]\n",
      " [  2  65   0   0   5   3  26   0   0]\n",
      " [  0   0  13   2   0   0   1   0   0]\n",
      " [ 17   3   4 113   4   2   4   1   1]\n",
      " [  9   0   1   3  37   3   4   0   0]\n",
      " [  5   6   0   2   4  43   5   0   0]\n",
      " [  0  39   8   4   5   3 145   0   2]\n",
      " [  0   1   0   0   0   1   1   3   0]\n",
      " [  0   0   0   0   1   0   0   1   5]]\n",
      "-------------------\n",
      "\n",
      "\n",
      "\n",
      "[0]\ttrain-mlogloss:2.11039\tvalid-mlogloss:2.14665\n",
      "Multiple eval metrics have been passed: 'valid-mlogloss' will be used for early stopping.\n",
      "\n",
      "Will train until valid-mlogloss hasn't improved in 100 rounds.\n",
      "[50]\ttrain-mlogloss:0.635103\tvalid-mlogloss:1.31975\n",
      "[100]\ttrain-mlogloss:0.297586\tvalid-mlogloss:1.18975\n",
      "[150]\ttrain-mlogloss:0.167154\tvalid-mlogloss:1.19877\n",
      "[200]\ttrain-mlogloss:0.099991\tvalid-mlogloss:1.25812\n",
      "Stopping. Best iteration:\n",
      "[117]\ttrain-mlogloss:0.242009\tvalid-mlogloss:1.18086\n",
      "\n",
      "fold = 5\n",
      "val multi_log_loss: 0.9902080776558578\n",
      "val f1_score: 0.5875846041267859\n",
      "val accuracy: 0.6531165311653117\n",
      "[[ 90   4   3  21  15   2   2   0   0]\n",
      " [  2  61   0   1   1   1  33   0   0]\n",
      " [  0   1   8   4   2   0   4   0   0]\n",
      " [ 30   1   4 101  16   3   9   1   4]\n",
      " [  8   4   2   3  31   5   2   0   1]\n",
      " [  8   3   1   1   2  35   4   0   0]\n",
      " [  2  25   5   8   2   3 148   0   0]\n",
      " [  0   1   0   0   0   0   0   1   0]\n",
      " [  0   1   0   0   0   0   0   1   7]]\n",
      "-------------------\n",
      "\n",
      "\n",
      "\n",
      "[0]\ttrain-mlogloss:2.10711\tvalid-mlogloss:2.13849\n",
      "Multiple eval metrics have been passed: 'valid-mlogloss' will be used for early stopping.\n",
      "\n",
      "Will train until valid-mlogloss hasn't improved in 100 rounds.\n",
      "[50]\ttrain-mlogloss:0.638453\tvalid-mlogloss:1.37342\n",
      "[100]\ttrain-mlogloss:0.30326\tvalid-mlogloss:1.31357\n",
      "[150]\ttrain-mlogloss:0.170488\tvalid-mlogloss:1.36891\n",
      "Stopping. Best iteration:\n",
      "[94]\ttrain-mlogloss:0.326997\tvalid-mlogloss:1.30895\n",
      "\n",
      "fold = 6\n",
      "val multi_log_loss: 0.9942134959285014\n",
      "val f1_score: 0.6335098141628573\n",
      "val accuracy: 0.7018970189701897\n",
      "[[100   3   1  20  13   3   5   0   0]\n",
      " [  1  62   1   1   0   2  27   0   0]\n",
      " [  1   0  17   1   1   0   0   0   0]\n",
      " [ 22   3   2 112   1   1   2   0   1]\n",
      " [  7   4   1   3  32   3   2   0   0]\n",
      " [  6   4   3   2   5  36   4   0   0]\n",
      " [  1  34  13   4   2   2 152   0   2]\n",
      " [  0   2   0   0   0   0   1   1   1]\n",
      " [  0   1   0   0   0   0   1   0   6]]\n",
      "-------------------\n",
      "\n",
      "\n",
      "\n",
      "[0]\ttrain-mlogloss:2.1081\tvalid-mlogloss:2.14203\n",
      "Multiple eval metrics have been passed: 'valid-mlogloss' will be used for early stopping.\n",
      "\n",
      "Will train until valid-mlogloss hasn't improved in 100 rounds.\n",
      "[50]\ttrain-mlogloss:0.640469\tvalid-mlogloss:1.34587\n",
      "[100]\ttrain-mlogloss:0.301326\tvalid-mlogloss:1.2466\n",
      "[150]\ttrain-mlogloss:0.171022\tvalid-mlogloss:1.27553\n",
      "[200]\ttrain-mlogloss:0.105405\tvalid-mlogloss:1.34179\n",
      "Stopping. Best iteration:\n",
      "[104]\ttrain-mlogloss:0.286601\tvalid-mlogloss:1.24519\n",
      "\n",
      "fold = 7\n",
      "val multi_log_loss: 0.9966859809983633\n",
      "val f1_score: 0.5512098089322359\n",
      "val accuracy: 0.6571815718157181\n",
      "[[ 75   2   2  19  12   6   2   0   0]\n",
      " [  3  60   0   1   4   4  31   0   0]\n",
      " [  0   0   9   0   1   0   2   0   0]\n",
      " [ 27   3   7 112   9   1   7   0   1]\n",
      " [ 10   3   2   2  31   4   2   0   0]\n",
      " [  4   5   1   4   4  32   6   0   0]\n",
      " [  0  31  13   6   2   3 156   0   0]\n",
      " [  0   2   0   0   0   0   0   0   1]\n",
      " [  2   0   0   0   0   0   2   0  10]]\n",
      "-------------------\n",
      "\n",
      "\n",
      "\n"
     ]
    },
    {
     "name": "stderr",
     "output_type": "stream",
     "text": [
      "/home/watts/anaconda2/envs/aind-dog/lib/python3.6/site-packages/sklearn/metrics/classification.py:1135: UndefinedMetricWarning: F-score is ill-defined and being set to 0.0 in labels with no predicted samples.\n",
      "  'precision', 'predicted', average, warn_for)\n"
     ]
    },
    {
     "name": "stdout",
     "output_type": "stream",
     "text": [
      "[0]\ttrain-mlogloss:2.11262\tvalid-mlogloss:2.14416\n",
      "Multiple eval metrics have been passed: 'valid-mlogloss' will be used for early stopping.\n",
      "\n",
      "Will train until valid-mlogloss hasn't improved in 100 rounds.\n",
      "[50]\ttrain-mlogloss:0.639682\tvalid-mlogloss:1.34389\n",
      "[100]\ttrain-mlogloss:0.303972\tvalid-mlogloss:1.26214\n",
      "[150]\ttrain-mlogloss:0.171396\tvalid-mlogloss:1.30762\n",
      "Stopping. Best iteration:\n",
      "[91]\ttrain-mlogloss:0.341781\tvalid-mlogloss:1.25775\n",
      "\n",
      "fold = 8\n",
      "val multi_log_loss: 0.9932491372372239\n",
      "val f1_score: 0.5926026132921262\n",
      "val accuracy: 0.6693766937669376\n",
      "[[ 89   2   0  19  19   5   4   0   0]\n",
      " [  3  60   1   3   4   1  32   0   0]\n",
      " [  0   0  16   3   2   0   2   0   0]\n",
      " [ 25   3   4  92   4   0   6   0   1]\n",
      " [  7   2   3   4  31   0   4   0   0]\n",
      " [  4   3   0   1   7  47   5   0   0]\n",
      " [  1  31  11   4   8   0 152   0   0]\n",
      " [  2   0   0   1   0   0   1   0   1]\n",
      " [  0   0   0   1   0   0   0   0   7]]\n",
      "-------------------\n",
      "\n",
      "\n",
      "\n",
      "[0]\ttrain-mlogloss:2.11252\tvalid-mlogloss:2.16167\n",
      "Multiple eval metrics have been passed: 'valid-mlogloss' will be used for early stopping.\n",
      "\n",
      "Will train until valid-mlogloss hasn't improved in 100 rounds.\n",
      "[50]\ttrain-mlogloss:0.643126\tvalid-mlogloss:1.59901\n",
      "[100]\ttrain-mlogloss:0.304913\tvalid-mlogloss:1.5707\n",
      "[150]\ttrain-mlogloss:0.173454\tvalid-mlogloss:1.65512\n",
      "Stopping. Best iteration:\n",
      "[73]\ttrain-mlogloss:0.44021\tvalid-mlogloss:1.56255\n",
      "\n",
      "fold = 9\n",
      "val multi_log_loss: 1.1401607413602068\n",
      "val f1_score: 0.5292003158354467\n",
      "val accuracy: 0.6395663956639567\n",
      "[[ 72   1   1  22  18   5   4   0   0]\n",
      " [  3  67   0   3   0   2  32   0   0]\n",
      " [  0   0  10   3   2   0   2   0   0]\n",
      " [ 34   3   7  95   4   1  12   0   0]\n",
      " [  3   7   1   3  31   0   8   0   0]\n",
      " [  3   2   0   2   3  36   7   0   0]\n",
      " [  1  35   7   4   4   2 157   0   1]\n",
      " [  0   5   0   0   0   0   1   0   0]\n",
      " [  0   0   0   4   1   0   1   2   4]]\n",
      "-------------------\n",
      "\n",
      "\n",
      "\n"
     ]
    }
   ],
   "source": [
    " \n",
    "\n",
    "denom = 0\n",
    "fold = 10 \n",
    "for i in range(fold):\n",
    "    params = {\n",
    "        'eta': 0.03333,\n",
    "        'max_depth': 6,\n",
    "        'subsample' : 0.8,\n",
    "        'colsample_bytree':0.8,\n",
    "        'objective': 'multi:softprob',\n",
    "        'eval_metric': 'mlogloss',\n",
    "        'num_class': 9,\n",
    "        'seed': i,\n",
    "        'tree_method': 'gpu_hist',\n",
    "        'silent': True\n",
    "    }\n",
    "    x1, x2, y1, y2 = train_test_split(df_train, y, test_size=0.2, random_state=i)\n",
    "    \n",
    "    w1 = [wts_per_class[j+1] for j in y1]\n",
    "    w2 = [wts_per_class[j+1] for j in y2]\n",
    "    watchlist = [(xgb.DMatrix(x1, y1, weight=w1), 'train'), (xgb.DMatrix(x2, y2, weight=w2), 'valid')]\n",
    "    model = xgb.train(params, xgb.DMatrix(x1, y1, weight=w1), 1000,  watchlist, \n",
    "                      verbose_eval=50, early_stopping_rounds=100)\n",
    "    pred_val =  model.predict(xgb.DMatrix(x2), ntree_limit=model.best_ntree_limit)\n",
    "    score1 = log_loss(y2, pred_val, labels = list(range(9)))\n",
    "    \n",
    "    print('fold = {:d}'.format(i))\n",
    "    print('val multi_log_loss: {}'.format(score1))\n",
    "    \n",
    "    fscore = f1_score(y2, pred_val.argmax(axis=1), labels = list(range(9)), average='macro')\n",
    "    print('val f1_score: {}'.format(fscore))\n",
    "    \n",
    "    acc = accuracy_score(y2, pred_val.argmax(axis=1))\n",
    "    print('val accuracy: {}'.format(acc))\n",
    "    \n",
    "    print(confusion_matrix(y2, pred_val.argmax(axis=1), labels = list(range(9))))\n",
    "    \n",
    "    print('-------------------')\n",
    "    print('\\n\\n')\n",
    "    #if score < 0.9:\n",
    "    if denom != 0:\n",
    "        pred = model.predict(xgb.DMatrix(df_test), ntree_limit=model.best_ntree_limit+80)\n",
    "        preds += pred\n",
    "    else:\n",
    "        pred = model.predict(xgb.DMatrix(df_test), ntree_limit=model.best_ntree_limit+80)\n",
    "        preds = pred.copy()\n",
    "    denom += 1\n",
    "    submission = pd.DataFrame(pred, columns=['class'+str(c+1) for c in range(9)])\n",
    "    submission['ID'] = pid\n",
    "    submission.to_csv('../submissions/sub5_0_stage2_xgb_fold_'  + str(i) + '.csv', index=False)\n"
   ]
  },
  {
   "cell_type": "code",
   "execution_count": 21,
   "metadata": {
    "collapsed": true
   },
   "outputs": [],
   "source": [
    "submission = pd.DataFrame(preds/denom, columns=['class'+str(c+1) for c in range(9)])\n",
    "submission['ID'] = pid\n",
    "submission.to_csv('../submissions/sub5_0_stage2_all_2_2_xgb.csv', index=False)\n",
    "# scored 2.82570 on stage2 private LB, 1.70018 on stage2 public LB\n",
    "# scored 2.81200 on stage2 private LB, 1.71324 on stage2 public LB (with new feature engg)\n",
    "\n"
   ]
  }
 ],
 "metadata": {
  "kernelspec": {
   "display_name": "Python 3",
   "language": "python",
   "name": "python3"
  },
  "language_info": {
   "codemirror_mode": {
    "name": "ipython",
    "version": 3
   },
   "file_extension": ".py",
   "mimetype": "text/x-python",
   "name": "python",
   "nbconvert_exporter": "python",
   "pygments_lexer": "ipython3",
   "version": "3.6.1"
  }
 },
 "nbformat": 4,
 "nbformat_minor": 2
}
