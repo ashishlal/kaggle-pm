{
 "cells": [
  {
   "cell_type": "code",
   "execution_count": 1,
   "metadata": {
    "collapsed": true
   },
   "outputs": [],
   "source": [
    "# import sys\n",
    "# sys.path.insert(0,'/home/watts/Software')"
   ]
  },
  {
   "cell_type": "code",
   "execution_count": 1,
   "metadata": {},
   "outputs": [
    {
     "name": "stderr",
     "output_type": "stream",
     "text": [
      "/home/watts/anaconda2/envs/aind-dog/lib/python3.6/site-packages/sklearn/cross_validation.py:41: DeprecationWarning: This module was deprecated in version 0.18 in favor of the model_selection module into which all the refactored classes and functions are moved. Also note that the interface of the new CV iterators are different from that of this module. This module will be removed in 0.20.\n",
      "  \"This module will be removed in 0.20.\", DeprecationWarning)\n",
      "/home/watts/anaconda2/envs/aind-dog/lib/python3.6/site-packages/sklearn/grid_search.py:42: DeprecationWarning: This module was deprecated in version 0.18 in favor of the model_selection module into which all the refactored classes and functions are moved. This module will be removed in 0.20.\n",
      "  DeprecationWarning)\n"
     ]
    }
   ],
   "source": [
    "import re\n",
    "import numpy as np\n",
    "import pandas as pd\n",
    "import feather\n",
    "import xgboost as xgb\n",
    "import feather\n",
    "\n",
    "from sklearn.cross_validation import StratifiedKFold\n",
    "# from sklearn.cross_validation import *\n",
    "from sklearn.grid_search import GridSearchCV\n",
    "\n",
    "from nltk.corpus import stopwords\n",
    "from nltk.stem import SnowballStemmer\n",
    "\n",
    "import pickle\n",
    "\n",
    "from sklearn.metrics import log_loss, confusion_matrix, f1_score, accuracy_score"
   ]
  },
  {
   "cell_type": "code",
   "execution_count": 2,
   "metadata": {
    "collapsed": true
   },
   "outputs": [],
   "source": [
    "def save_classifier(fname, clf):\n",
    "    # save the classifier\n",
    "    with open(fname, 'wb') as fid:\n",
    "        pickle.dump(clf, fid)\n",
    "\n",
    "def load_classifier(fname):\n",
    "    # load it again\n",
    "    with open(fname, 'rb') as fid:\n",
    "        clf = pickle.load(fid)\n",
    "        return clf"
   ]
  },
  {
   "cell_type": "code",
   "execution_count": 3,
   "metadata": {
    "collapsed": true,
    "scrolled": true
   },
   "outputs": [],
   "source": [
    "# Any results you write to the current directory are saved as output.\n",
    "submission = pd.read_csv('../data/stage2_sample_submission.csv')\n",
    "stage1_test = pd.read_csv('../data/test_variants')\n",
    "stage2_test = pd.read_csv('../data/stage2_test_variants.csv')\n",
    "stage1_solution = pd.read_csv('../data/stage1_solution_filtered.csv')\n",
    "\n",
    "stage1_solution = stage1_solution.merge(stage1_test, how = 'left', on = 'ID')\n",
    "\n"
   ]
  },
  {
   "cell_type": "code",
   "execution_count": 4,
   "metadata": {},
   "outputs": [
    {
     "name": "stdout",
     "output_type": "stream",
     "text": [
      "{1: 4.572507552870091, 2: 6.407630522088353, 3: 37.427083333333336, 4: 3.912117177097204, 5: 12.816479400749063, 6: 11.42087542087542, 7: 2.5, 8: 174.66666666666666, 9: 84.79069767441861}\n"
     ]
    }
   ],
   "source": [
    "wts_per_class = np.load('../cache/stage2_train_weights_per_class.npy')\n",
    "wts_per_class = wts_per_class.tolist()\n",
    "print(wts_per_class)"
   ]
  },
  {
   "cell_type": "code",
   "execution_count": 5,
   "metadata": {},
   "outputs": [],
   "source": [
    "df_train = np.load('../cache/train_stage2_fe2.npy')\n",
    "df1 = pd.read_csv('../cache/stage2_labels.csv')\n",
    "y = df1['y'].values\n",
    "\n",
    "df_test = np.load('../cache/test_stage2_fe2.npy')\n",
    "df = pd.read_csv('../cache/stage2_test_id.csv')\n",
    "pid = df.ID.values"
   ]
  },
  {
   "cell_type": "code",
   "execution_count": 6,
   "metadata": {
    "collapsed": true
   },
   "outputs": [],
   "source": [
    "y = y - 1 #fix for zero bound array"
   ]
  },
  {
   "cell_type": "code",
   "execution_count": 7,
   "metadata": {},
   "outputs": [
    {
     "name": "stdout",
     "output_type": "stream",
     "text": [
      "(3689,)\n"
     ]
    }
   ],
   "source": [
    "print(y.shape)"
   ]
  },
  {
   "cell_type": "code",
   "execution_count": 8,
   "metadata": {},
   "outputs": [
    {
     "data": {
      "text/plain": [
       "array([0, 1, 2, 3, 4, 5, 6, 7, 8])"
      ]
     },
     "execution_count": 8,
     "metadata": {},
     "output_type": "execute_result"
    }
   ],
   "source": [
    "np.unique(y)"
   ]
  },
  {
   "cell_type": "code",
   "execution_count": 11,
   "metadata": {},
   "outputs": [],
   "source": [
    "w = np.array([wts_per_class[j+1] for j in y], )"
   ]
  },
  {
   "cell_type": "code",
   "execution_count": 14,
   "metadata": {},
   "outputs": [
    {
     "name": "stdout",
     "output_type": "stream",
     "text": [
      "Fitting 5 folds for each of 48 candidates, totalling 240 fits\n",
      "[CV] colsample_bytree=0.7, learning_rate=0.02, max_depth=5, min_child_weight=5, missing=-999, seed=1337, silent=1, subsample=0.8 \n",
      "[CV] colsample_bytree=0.7, learning_rate=0.02, max_depth=5, min_child_weight=5, missing=-999, seed=1337, silent=1, subsample=0.8 \n",
      "[CV] colsample_bytree=0.7, learning_rate=0.02, max_depth=5, min_child_weight=5, missing=-999, seed=1337, silent=1, subsample=0.8 \n",
      "[CV] colsample_bytree=0.7, learning_rate=0.02, max_depth=5, min_child_weight=5, missing=-999, seed=1337, silent=1, subsample=0.8 \n",
      "[CV] colsample_bytree=0.7, learning_rate=0.02, max_depth=5, min_child_weight=5, missing=-999, seed=1337, silent=1, subsample=0.8 \n",
      "[CV] colsample_bytree=0.7, learning_rate=0.02, max_depth=5, min_child_weight=5, missing=-999, seed=1337, silent=1, subsample=0.8 \n",
      "[CV] colsample_bytree=0.7, learning_rate=0.02, max_depth=5, min_child_weight=5, missing=-999, seed=1337, silent=1, subsample=0.8 \n",
      "[CV] colsample_bytree=0.7, learning_rate=0.02, max_depth=5, min_child_weight=5, missing=-999, seed=1337, silent=1, subsample=0.8 \n",
      "[CV] colsample_bytree=0.7, learning_rate=0.02, max_depth=5, min_child_weight=5, missing=-999, seed=1337, silent=1, subsample=0.8 \n",
      "[CV] colsample_bytree=0.7, learning_rate=0.02, max_depth=5, min_child_weight=5, missing=-999, seed=1337, silent=1, subsample=0.8 \n",
      "[CV]  colsample_bytree=0.7, learning_rate=0.02, max_depth=5, min_child_weight=5, missing=-999, seed=1337, silent=1, subsample=0.8 - 7.9min\n",
      "[CV] colsample_bytree=0.7, learning_rate=0.02, max_depth=5, min_child_weight=11, missing=-999, seed=1337, silent=1, subsample=0.8 \n",
      "[CV]  colsample_bytree=0.7, learning_rate=0.02, max_depth=5, min_child_weight=5, missing=-999, seed=1337, silent=1, subsample=0.8 - 8.0min\n",
      "[CV] colsample_bytree=0.7, learning_rate=0.02, max_depth=5, min_child_weight=11, missing=-999, seed=1337, silent=1, subsample=0.8 \n",
      "[CV]  colsample_bytree=0.7, learning_rate=0.02, max_depth=5, min_child_weight=5, missing=-999, seed=1337, silent=1, subsample=0.8 - 8.0min\n",
      "[CV] colsample_bytree=0.7, learning_rate=0.02, max_depth=5, min_child_weight=11, missing=-999, seed=1337, silent=1, subsample=0.8 \n",
      "[CV]  colsample_bytree=0.7, learning_rate=0.02, max_depth=5, min_child_weight=5, missing=-999, seed=1337, silent=1, subsample=0.8 - 8.0min\n",
      "[CV] colsample_bytree=0.7, learning_rate=0.02, max_depth=5, min_child_weight=11, missing=-999, seed=1337, silent=1, subsample=0.8 \n",
      "[CV]  colsample_bytree=0.7, learning_rate=0.02, max_depth=5, min_child_weight=5, missing=-999, seed=1337, silent=1, subsample=0.8 - 8.0min\n",
      "[CV] colsample_bytree=0.7, learning_rate=0.02, max_depth=5, min_child_weight=11, missing=-999, seed=1337, silent=1, subsample=0.8 \n",
      "[CV]  colsample_bytree=0.7, learning_rate=0.02, max_depth=5, min_child_weight=5, missing=-999, seed=1337, silent=1, subsample=0.8 - 8.1min\n",
      "[CV] colsample_bytree=0.7, learning_rate=0.02, max_depth=5, min_child_weight=11, missing=-999, seed=1337, silent=1, subsample=0.8 \n",
      "[CV]  colsample_bytree=0.7, learning_rate=0.02, max_depth=5, min_child_weight=5, missing=-999, seed=1337, silent=1, subsample=0.8 - 8.1min\n",
      "[CV] colsample_bytree=0.7, learning_rate=0.02, max_depth=5, min_child_weight=11, missing=-999, seed=1337, silent=1, subsample=0.8 \n",
      "[CV]  colsample_bytree=0.7, learning_rate=0.02, max_depth=5, min_child_weight=5, missing=-999, seed=1337, silent=1, subsample=0.8 - 8.1min\n",
      "[CV] colsample_bytree=0.7, learning_rate=0.02, max_depth=5, min_child_weight=11, missing=-999, seed=1337, silent=1, subsample=0.8 \n",
      "[CV]  colsample_bytree=0.7, learning_rate=0.02, max_depth=5, min_child_weight=5, missing=-999, seed=1337, silent=1, subsample=0.8 - 8.2min\n",
      "[CV] colsample_bytree=0.7, learning_rate=0.02, max_depth=5, min_child_weight=11, missing=-999, seed=1337, silent=1, subsample=0.8 \n",
      "[CV]  colsample_bytree=0.7, learning_rate=0.02, max_depth=5, min_child_weight=5, missing=-999, seed=1337, silent=1, subsample=0.8 - 8.2min\n",
      "[CV] colsample_bytree=0.7, learning_rate=0.02, max_depth=5, min_child_weight=11, missing=-999, seed=1337, silent=1, subsample=0.8 \n",
      "[CV]  colsample_bytree=0.7, learning_rate=0.02, max_depth=5, min_child_weight=11, missing=-999, seed=1337, silent=1, subsample=0.8 - 7.7min\n",
      "[CV] colsample_bytree=0.7, learning_rate=0.02, max_depth=6, min_child_weight=5, missing=-999, seed=1337, silent=1, subsample=0.8 \n",
      "[CV]  colsample_bytree=0.7, learning_rate=0.02, max_depth=5, min_child_weight=11, missing=-999, seed=1337, silent=1, subsample=0.8 - 7.7min\n",
      "[CV] colsample_bytree=0.7, learning_rate=0.02, max_depth=6, min_child_weight=5, missing=-999, seed=1337, silent=1, subsample=0.8 \n",
      "[CV]  colsample_bytree=0.7, learning_rate=0.02, max_depth=5, min_child_weight=11, missing=-999, seed=1337, silent=1, subsample=0.8 - 7.9min\n",
      "[CV] colsample_bytree=0.7, learning_rate=0.02, max_depth=6, min_child_weight=5, missing=-999, seed=1337, silent=1, subsample=0.8 \n",
      "[CV]  colsample_bytree=0.7, learning_rate=0.02, max_depth=5, min_child_weight=11, missing=-999, seed=1337, silent=1, subsample=0.8 - 7.8min\n",
      "[CV] colsample_bytree=0.7, learning_rate=0.02, max_depth=6, min_child_weight=5, missing=-999, seed=1337, silent=1, subsample=0.8 \n",
      "[CV]  colsample_bytree=0.7, learning_rate=0.02, max_depth=5, min_child_weight=11, missing=-999, seed=1337, silent=1, subsample=0.8 - 7.8min\n",
      "[CV] colsample_bytree=0.7, learning_rate=0.02, max_depth=6, min_child_weight=5, missing=-999, seed=1337, silent=1, subsample=0.8 \n",
      "[CV]  colsample_bytree=0.7, learning_rate=0.02, max_depth=5, min_child_weight=11, missing=-999, seed=1337, silent=1, subsample=0.8 - 7.7min\n",
      "[CV] colsample_bytree=0.7, learning_rate=0.02, max_depth=6, min_child_weight=5, missing=-999, seed=1337, silent=1, subsample=0.8 \n",
      "[CV]  colsample_bytree=0.7, learning_rate=0.02, max_depth=5, min_child_weight=11, missing=-999, seed=1337, silent=1, subsample=0.8 - 7.9min\n",
      "[CV] colsample_bytree=0.7, learning_rate=0.02, max_depth=6, min_child_weight=5, missing=-999, seed=1337, silent=1, subsample=0.8 \n",
      "[CV]  colsample_bytree=0.7, learning_rate=0.02, max_depth=5, min_child_weight=11, missing=-999, seed=1337, silent=1, subsample=0.8 - 8.0min\n",
      "[CV] colsample_bytree=0.7, learning_rate=0.02, max_depth=6, min_child_weight=5, missing=-999, seed=1337, silent=1, subsample=0.8 \n",
      "[CV]  colsample_bytree=0.7, learning_rate=0.02, max_depth=5, min_child_weight=11, missing=-999, seed=1337, silent=1, subsample=0.8 - 7.9min\n",
      "[CV] colsample_bytree=0.7, learning_rate=0.02, max_depth=6, min_child_weight=5, missing=-999, seed=1337, silent=1, subsample=0.8 \n",
      "[CV]  colsample_bytree=0.7, learning_rate=0.02, max_depth=5, min_child_weight=11, missing=-999, seed=1337, silent=1, subsample=0.8 - 7.9min\n",
      "[CV] colsample_bytree=0.7, learning_rate=0.02, max_depth=6, min_child_weight=5, missing=-999, seed=1337, silent=1, subsample=0.8 \n",
      "[CV]  colsample_bytree=0.7, learning_rate=0.02, max_depth=6, min_child_weight=5, missing=-999, seed=1337, silent=1, subsample=0.8 - 8.7min\n",
      "[CV] colsample_bytree=0.7, learning_rate=0.02, max_depth=6, min_child_weight=11, missing=-999, seed=1337, silent=1, subsample=0.8 \n"
     ]
    },
    {
     "name": "stderr",
     "output_type": "stream",
     "text": [
      "[Parallel(n_jobs=10)]: Done  21 tasks      | elapsed: 24.4min\n"
     ]
    },
    {
     "name": "stdout",
     "output_type": "stream",
     "text": [
      "[CV]  colsample_bytree=0.7, learning_rate=0.02, max_depth=6, min_child_weight=5, missing=-999, seed=1337, silent=1, subsample=0.8 - 8.9min\n",
      "[CV] colsample_bytree=0.7, learning_rate=0.02, max_depth=6, min_child_weight=11, missing=-999, seed=1337, silent=1, subsample=0.8 \n",
      "[CV]  colsample_bytree=0.7, learning_rate=0.02, max_depth=6, min_child_weight=5, missing=-999, seed=1337, silent=1, subsample=0.8 - 8.7min\n",
      "[CV] colsample_bytree=0.7, learning_rate=0.02, max_depth=6, min_child_weight=11, missing=-999, seed=1337, silent=1, subsample=0.8 \n",
      "[CV]  colsample_bytree=0.7, learning_rate=0.02, max_depth=6, min_child_weight=5, missing=-999, seed=1337, silent=1, subsample=0.8 - 9.0min\n",
      "[CV] colsample_bytree=0.7, learning_rate=0.02, max_depth=6, min_child_weight=11, missing=-999, seed=1337, silent=1, subsample=0.8 \n",
      "[CV]  colsample_bytree=0.7, learning_rate=0.02, max_depth=6, min_child_weight=5, missing=-999, seed=1337, silent=1, subsample=0.8 - 9.1min\n",
      "[CV] colsample_bytree=0.7, learning_rate=0.02, max_depth=6, min_child_weight=11, missing=-999, seed=1337, silent=1, subsample=0.8 \n",
      "[CV]  colsample_bytree=0.7, learning_rate=0.02, max_depth=6, min_child_weight=5, missing=-999, seed=1337, silent=1, subsample=0.8 - 9.1min\n",
      "[CV] colsample_bytree=0.7, learning_rate=0.02, max_depth=6, min_child_weight=11, missing=-999, seed=1337, silent=1, subsample=0.8 \n",
      "[CV]  colsample_bytree=0.7, learning_rate=0.02, max_depth=6, min_child_weight=5, missing=-999, seed=1337, silent=1, subsample=0.8 - 8.9min\n",
      "[CV] colsample_bytree=0.7, learning_rate=0.02, max_depth=6, min_child_weight=11, missing=-999, seed=1337, silent=1, subsample=0.8 \n",
      "[CV]  colsample_bytree=0.7, learning_rate=0.02, max_depth=6, min_child_weight=5, missing=-999, seed=1337, silent=1, subsample=0.8 - 9.1min\n",
      "[CV] colsample_bytree=0.7, learning_rate=0.02, max_depth=6, min_child_weight=11, missing=-999, seed=1337, silent=1, subsample=0.8 \n",
      "[CV]  colsample_bytree=0.7, learning_rate=0.02, max_depth=6, min_child_weight=5, missing=-999, seed=1337, silent=1, subsample=0.8 - 9.1min\n",
      "[CV] colsample_bytree=0.7, learning_rate=0.02, max_depth=6, min_child_weight=11, missing=-999, seed=1337, silent=1, subsample=0.8 \n",
      "[CV]  colsample_bytree=0.7, learning_rate=0.02, max_depth=6, min_child_weight=5, missing=-999, seed=1337, silent=1, subsample=0.8 - 9.2min\n",
      "[CV] colsample_bytree=0.7, learning_rate=0.02, max_depth=6, min_child_weight=11, missing=-999, seed=1337, silent=1, subsample=0.8 \n",
      "[CV]  colsample_bytree=0.7, learning_rate=0.02, max_depth=6, min_child_weight=11, missing=-999, seed=1337, silent=1, subsample=0.8 - 8.5min\n",
      "[CV] colsample_bytree=0.7, learning_rate=0.01, max_depth=5, min_child_weight=5, missing=-999, seed=1337, silent=1, subsample=0.8 \n",
      "[CV]  colsample_bytree=0.7, learning_rate=0.02, max_depth=6, min_child_weight=11, missing=-999, seed=1337, silent=1, subsample=0.8 - 8.6min\n",
      "[CV] colsample_bytree=0.7, learning_rate=0.01, max_depth=5, min_child_weight=5, missing=-999, seed=1337, silent=1, subsample=0.8 \n",
      "[CV]  colsample_bytree=0.7, learning_rate=0.02, max_depth=6, min_child_weight=11, missing=-999, seed=1337, silent=1, subsample=0.8 - 8.6min\n",
      "[CV] colsample_bytree=0.7, learning_rate=0.01, max_depth=5, min_child_weight=5, missing=-999, seed=1337, silent=1, subsample=0.8 \n",
      "[CV]  colsample_bytree=0.7, learning_rate=0.02, max_depth=6, min_child_weight=11, missing=-999, seed=1337, silent=1, subsample=0.8 - 8.8min\n",
      "[CV] colsample_bytree=0.7, learning_rate=0.01, max_depth=5, min_child_weight=5, missing=-999, seed=1337, silent=1, subsample=0.8 \n",
      "[CV]  colsample_bytree=0.7, learning_rate=0.02, max_depth=6, min_child_weight=11, missing=-999, seed=1337, silent=1, subsample=0.8 - 8.8min\n",
      "[CV] colsample_bytree=0.7, learning_rate=0.01, max_depth=5, min_child_weight=5, missing=-999, seed=1337, silent=1, subsample=0.8 \n",
      "[CV]  colsample_bytree=0.7, learning_rate=0.02, max_depth=6, min_child_weight=11, missing=-999, seed=1337, silent=1, subsample=0.8 - 8.7min\n",
      "[CV] colsample_bytree=0.7, learning_rate=0.01, max_depth=5, min_child_weight=5, missing=-999, seed=1337, silent=1, subsample=0.8 \n",
      "[CV]  colsample_bytree=0.7, learning_rate=0.02, max_depth=6, min_child_weight=11, missing=-999, seed=1337, silent=1, subsample=0.8 - 8.7min\n",
      "[CV] colsample_bytree=0.7, learning_rate=0.01, max_depth=5, min_child_weight=5, missing=-999, seed=1337, silent=1, subsample=0.8 \n",
      "[CV]  colsample_bytree=0.7, learning_rate=0.02, max_depth=6, min_child_weight=11, missing=-999, seed=1337, silent=1, subsample=0.8 - 8.7min\n",
      "[CV] colsample_bytree=0.7, learning_rate=0.01, max_depth=5, min_child_weight=5, missing=-999, seed=1337, silent=1, subsample=0.8 \n",
      "[CV]  colsample_bytree=0.7, learning_rate=0.02, max_depth=6, min_child_weight=11, missing=-999, seed=1337, silent=1, subsample=0.8 - 8.6min\n",
      "[CV] colsample_bytree=0.7, learning_rate=0.01, max_depth=5, min_child_weight=5, missing=-999, seed=1337, silent=1, subsample=0.8 \n",
      "[CV]  colsample_bytree=0.7, learning_rate=0.02, max_depth=6, min_child_weight=11, missing=-999, seed=1337, silent=1, subsample=0.8 - 8.8min\n",
      "[CV] colsample_bytree=0.7, learning_rate=0.01, max_depth=5, min_child_weight=5, missing=-999, seed=1337, silent=1, subsample=0.8 \n",
      "[CV]  colsample_bytree=0.7, learning_rate=0.01, max_depth=5, min_child_weight=5, missing=-999, seed=1337, silent=1, subsample=0.8 - 8.0min\n",
      "[CV] colsample_bytree=0.7, learning_rate=0.01, max_depth=5, min_child_weight=11, missing=-999, seed=1337, silent=1, subsample=0.8 \n",
      "[CV]  colsample_bytree=0.7, learning_rate=0.01, max_depth=5, min_child_weight=5, missing=-999, seed=1337, silent=1, subsample=0.8 - 8.0min\n",
      "[CV] colsample_bytree=0.7, learning_rate=0.01, max_depth=5, min_child_weight=11, missing=-999, seed=1337, silent=1, subsample=0.8 \n",
      "[CV]  colsample_bytree=0.7, learning_rate=0.01, max_depth=5, min_child_weight=5, missing=-999, seed=1337, silent=1, subsample=0.8 - 7.8min\n",
      "[CV] colsample_bytree=0.7, learning_rate=0.01, max_depth=5, min_child_weight=11, missing=-999, seed=1337, silent=1, subsample=0.8 \n",
      "[CV]  colsample_bytree=0.7, learning_rate=0.01, max_depth=5, min_child_weight=5, missing=-999, seed=1337, silent=1, subsample=0.8 - 8.0min\n",
      "[CV] colsample_bytree=0.7, learning_rate=0.01, max_depth=5, min_child_weight=11, missing=-999, seed=1337, silent=1, subsample=0.8 \n",
      "[CV]  colsample_bytree=0.7, learning_rate=0.01, max_depth=5, min_child_weight=5, missing=-999, seed=1337, silent=1, subsample=0.8 - 8.2min\n",
      "[CV] colsample_bytree=0.7, learning_rate=0.01, max_depth=5, min_child_weight=11, missing=-999, seed=1337, silent=1, subsample=0.8 \n",
      "[CV]  colsample_bytree=0.7, learning_rate=0.01, max_depth=5, min_child_weight=5, missing=-999, seed=1337, silent=1, subsample=0.8 - 8.1min\n",
      "[CV] colsample_bytree=0.7, learning_rate=0.01, max_depth=5, min_child_weight=11, missing=-999, seed=1337, silent=1, subsample=0.8 \n",
      "[CV]  colsample_bytree=0.7, learning_rate=0.01, max_depth=5, min_child_weight=5, missing=-999, seed=1337, silent=1, subsample=0.8 - 8.1min\n",
      "[CV] colsample_bytree=0.7, learning_rate=0.01, max_depth=5, min_child_weight=11, missing=-999, seed=1337, silent=1, subsample=0.8 \n",
      "[CV]  colsample_bytree=0.7, learning_rate=0.01, max_depth=5, min_child_weight=5, missing=-999, seed=1337, silent=1, subsample=0.8 - 8.1min\n",
      "[CV] colsample_bytree=0.7, learning_rate=0.01, max_depth=5, min_child_weight=11, missing=-999, seed=1337, silent=1, subsample=0.8 \n",
      "[CV]  colsample_bytree=0.7, learning_rate=0.01, max_depth=5, min_child_weight=5, missing=-999, seed=1337, silent=1, subsample=0.8 - 8.1min\n",
      "[CV] colsample_bytree=0.7, learning_rate=0.01, max_depth=5, min_child_weight=11, missing=-999, seed=1337, silent=1, subsample=0.8 \n",
      "[CV]  colsample_bytree=0.7, learning_rate=0.01, max_depth=5, min_child_weight=5, missing=-999, seed=1337, silent=1, subsample=0.8 - 8.2min\n",
      "[CV] colsample_bytree=0.7, learning_rate=0.01, max_depth=5, min_child_weight=11, missing=-999, seed=1337, silent=1, subsample=0.8 \n",
      "[CV]  colsample_bytree=0.7, learning_rate=0.01, max_depth=5, min_child_weight=11, missing=-999, seed=1337, silent=1, subsample=0.8 - 7.8min\n",
      "[CV] colsample_bytree=0.7, learning_rate=0.01, max_depth=6, min_child_weight=5, missing=-999, seed=1337, silent=1, subsample=0.8 \n",
      "[CV]  colsample_bytree=0.7, learning_rate=0.01, max_depth=5, min_child_weight=11, missing=-999, seed=1337, silent=1, subsample=0.8 - 7.8min\n"
     ]
    },
    {
     "name": "stdout",
     "output_type": "stream",
     "text": [
      "[CV] colsample_bytree=0.7, learning_rate=0.01, max_depth=6, min_child_weight=5, missing=-999, seed=1337, silent=1, subsample=0.8 \n",
      "[CV]  colsample_bytree=0.7, learning_rate=0.01, max_depth=5, min_child_weight=11, missing=-999, seed=1337, silent=1, subsample=0.8 - 7.8min\n",
      "[CV] colsample_bytree=0.7, learning_rate=0.01, max_depth=6, min_child_weight=5, missing=-999, seed=1337, silent=1, subsample=0.8 \n",
      "[CV]  colsample_bytree=0.7, learning_rate=0.01, max_depth=5, min_child_weight=11, missing=-999, seed=1337, silent=1, subsample=0.8 - 8.0min\n",
      "[CV] colsample_bytree=0.7, learning_rate=0.01, max_depth=6, min_child_weight=5, missing=-999, seed=1337, silent=1, subsample=0.8 \n",
      "[CV]  colsample_bytree=0.7, learning_rate=0.01, max_depth=5, min_child_weight=11, missing=-999, seed=1337, silent=1, subsample=0.8 - 8.0min\n",
      "[CV] colsample_bytree=0.7, learning_rate=0.01, max_depth=6, min_child_weight=5, missing=-999, seed=1337, silent=1, subsample=0.8 \n",
      "[CV]  colsample_bytree=0.7, learning_rate=0.01, max_depth=5, min_child_weight=11, missing=-999, seed=1337, silent=1, subsample=0.8 - 7.8min\n",
      "[CV] colsample_bytree=0.7, learning_rate=0.01, max_depth=6, min_child_weight=5, missing=-999, seed=1337, silent=1, subsample=0.8 \n",
      "[CV]  colsample_bytree=0.7, learning_rate=0.01, max_depth=5, min_child_weight=11, missing=-999, seed=1337, silent=1, subsample=0.8 - 7.8min\n",
      "[CV] colsample_bytree=0.7, learning_rate=0.01, max_depth=6, min_child_weight=5, missing=-999, seed=1337, silent=1, subsample=0.8 \n",
      "[CV]  colsample_bytree=0.7, learning_rate=0.01, max_depth=5, min_child_weight=11, missing=-999, seed=1337, silent=1, subsample=0.8 - 7.9min\n",
      "[CV] colsample_bytree=0.7, learning_rate=0.01, max_depth=6, min_child_weight=5, missing=-999, seed=1337, silent=1, subsample=0.8 \n",
      "[CV]  colsample_bytree=0.7, learning_rate=0.01, max_depth=5, min_child_weight=11, missing=-999, seed=1337, silent=1, subsample=0.8 - 8.0min\n",
      "[CV] colsample_bytree=0.7, learning_rate=0.01, max_depth=6, min_child_weight=5, missing=-999, seed=1337, silent=1, subsample=0.8 \n",
      "[CV]  colsample_bytree=0.7, learning_rate=0.01, max_depth=5, min_child_weight=11, missing=-999, seed=1337, silent=1, subsample=0.8 - 8.0min\n",
      "[CV] colsample_bytree=0.7, learning_rate=0.01, max_depth=6, min_child_weight=5, missing=-999, seed=1337, silent=1, subsample=0.8 \n",
      "[CV]  colsample_bytree=0.7, learning_rate=0.01, max_depth=6, min_child_weight=5, missing=-999, seed=1337, silent=1, subsample=0.8 - 9.1min\n",
      "[CV] colsample_bytree=0.7, learning_rate=0.01, max_depth=6, min_child_weight=11, missing=-999, seed=1337, silent=1, subsample=0.8 \n",
      "[CV]  colsample_bytree=0.7, learning_rate=0.01, max_depth=6, min_child_weight=5, missing=-999, seed=1337, silent=1, subsample=0.8 - 9.0min\n",
      "[CV] colsample_bytree=0.7, learning_rate=0.01, max_depth=6, min_child_weight=11, missing=-999, seed=1337, silent=1, subsample=0.8 \n",
      "[CV]  colsample_bytree=0.7, learning_rate=0.01, max_depth=6, min_child_weight=5, missing=-999, seed=1337, silent=1, subsample=0.8 - 9.0min\n",
      "[CV] colsample_bytree=0.7, learning_rate=0.01, max_depth=6, min_child_weight=11, missing=-999, seed=1337, silent=1, subsample=0.8 \n",
      "[CV]  colsample_bytree=0.7, learning_rate=0.01, max_depth=6, min_child_weight=5, missing=-999, seed=1337, silent=1, subsample=0.8 - 9.0min\n",
      "[CV] colsample_bytree=0.7, learning_rate=0.01, max_depth=6, min_child_weight=11, missing=-999, seed=1337, silent=1, subsample=0.8 \n",
      "[CV]  colsample_bytree=0.7, learning_rate=0.01, max_depth=6, min_child_weight=5, missing=-999, seed=1337, silent=1, subsample=0.8 - 9.0min\n",
      "[CV] colsample_bytree=0.7, learning_rate=0.01, max_depth=6, min_child_weight=11, missing=-999, seed=1337, silent=1, subsample=0.8 \n",
      "[CV]  colsample_bytree=0.7, learning_rate=0.01, max_depth=6, min_child_weight=5, missing=-999, seed=1337, silent=1, subsample=0.8 - 9.2min\n",
      "[CV] colsample_bytree=0.7, learning_rate=0.01, max_depth=6, min_child_weight=11, missing=-999, seed=1337, silent=1, subsample=0.8 \n",
      "[CV]  colsample_bytree=0.7, learning_rate=0.01, max_depth=6, min_child_weight=5, missing=-999, seed=1337, silent=1, subsample=0.8 - 9.1min\n",
      "[CV] colsample_bytree=0.7, learning_rate=0.01, max_depth=6, min_child_weight=11, missing=-999, seed=1337, silent=1, subsample=0.8 \n",
      "[CV]  colsample_bytree=0.7, learning_rate=0.01, max_depth=6, min_child_weight=5, missing=-999, seed=1337, silent=1, subsample=0.8 - 9.0min\n",
      "[CV] colsample_bytree=0.7, learning_rate=0.01, max_depth=6, min_child_weight=11, missing=-999, seed=1337, silent=1, subsample=0.8 \n",
      "[CV]  colsample_bytree=0.7, learning_rate=0.01, max_depth=6, min_child_weight=5, missing=-999, seed=1337, silent=1, subsample=0.8 - 9.2min\n",
      "[CV] colsample_bytree=0.7, learning_rate=0.01, max_depth=6, min_child_weight=11, missing=-999, seed=1337, silent=1, subsample=0.8 \n",
      "[CV]  colsample_bytree=0.7, learning_rate=0.01, max_depth=6, min_child_weight=5, missing=-999, seed=1337, silent=1, subsample=0.8 - 9.0min\n",
      "[CV] colsample_bytree=0.7, learning_rate=0.01, max_depth=6, min_child_weight=11, missing=-999, seed=1337, silent=1, subsample=0.8 \n",
      "[CV]  colsample_bytree=0.7, learning_rate=0.01, max_depth=6, min_child_weight=11, missing=-999, seed=1337, silent=1, subsample=0.8 - 8.6min\n",
      "[CV] colsample_bytree=0.7, learning_rate=0.03, max_depth=5, min_child_weight=5, missing=-999, seed=1337, silent=1, subsample=0.8 \n",
      "[CV]  colsample_bytree=0.7, learning_rate=0.01, max_depth=6, min_child_weight=11, missing=-999, seed=1337, silent=1, subsample=0.8 - 8.8min\n",
      "[CV]  colsample_bytree=0.7, learning_rate=0.01, max_depth=6, min_child_weight=11, missing=-999, seed=1337, silent=1, subsample=0.8 - 8.7min\n",
      "[CV] colsample_bytree=0.7, learning_rate=0.03, max_depth=5, min_child_weight=5, missing=-999, seed=1337, silent=1, subsample=0.8 \n",
      "[CV] colsample_bytree=0.7, learning_rate=0.03, max_depth=5, min_child_weight=5, missing=-999, seed=1337, silent=1, subsample=0.8 \n",
      "[CV]  colsample_bytree=0.7, learning_rate=0.01, max_depth=6, min_child_weight=11, missing=-999, seed=1337, silent=1, subsample=0.8 - 8.7min\n",
      "[CV] colsample_bytree=0.7, learning_rate=0.03, max_depth=5, min_child_weight=5, missing=-999, seed=1337, silent=1, subsample=0.8 \n",
      "[CV]  colsample_bytree=0.7, learning_rate=0.01, max_depth=6, min_child_weight=11, missing=-999, seed=1337, silent=1, subsample=0.8 - 8.7min\n",
      "[CV] colsample_bytree=0.7, learning_rate=0.03, max_depth=5, min_child_weight=5, missing=-999, seed=1337, silent=1, subsample=0.8 \n",
      "[CV]  colsample_bytree=0.7, learning_rate=0.01, max_depth=6, min_child_weight=11, missing=-999, seed=1337, silent=1, subsample=0.8 - 8.8min\n",
      "[CV] colsample_bytree=0.7, learning_rate=0.03, max_depth=5, min_child_weight=5, missing=-999, seed=1337, silent=1, subsample=0.8 \n",
      "[CV]  colsample_bytree=0.7, learning_rate=0.01, max_depth=6, min_child_weight=11, missing=-999, seed=1337, silent=1, subsample=0.8 - 8.6min\n",
      "[CV] colsample_bytree=0.7, learning_rate=0.03, max_depth=5, min_child_weight=5, missing=-999, seed=1337, silent=1, subsample=0.8 \n",
      "[CV]  colsample_bytree=0.7, learning_rate=0.01, max_depth=6, min_child_weight=11, missing=-999, seed=1337, silent=1, subsample=0.8 - 8.7min\n",
      "[CV] colsample_bytree=0.7, learning_rate=0.03, max_depth=5, min_child_weight=5, missing=-999, seed=1337, silent=1, subsample=0.8 \n",
      "[CV]  colsample_bytree=0.7, learning_rate=0.01, max_depth=6, min_child_weight=11, missing=-999, seed=1337, silent=1, subsample=0.8 - 8.8min\n",
      "[CV] colsample_bytree=0.7, learning_rate=0.03, max_depth=5, min_child_weight=5, missing=-999, seed=1337, silent=1, subsample=0.8 \n",
      "[CV]  colsample_bytree=0.7, learning_rate=0.01, max_depth=6, min_child_weight=11, missing=-999, seed=1337, silent=1, subsample=0.8 - 8.6min\n",
      "[CV] colsample_bytree=0.7, learning_rate=0.03, max_depth=5, min_child_weight=5, missing=-999, seed=1337, silent=1, subsample=0.8 \n",
      "[CV]  colsample_bytree=0.7, learning_rate=0.03, max_depth=5, min_child_weight=5, missing=-999, seed=1337, silent=1, subsample=0.8 - 8.1min\n",
      "[CV] colsample_bytree=0.7, learning_rate=0.03, max_depth=5, min_child_weight=11, missing=-999, seed=1337, silent=1, subsample=0.8 \n",
      "[CV]  colsample_bytree=0.7, learning_rate=0.03, max_depth=5, min_child_weight=5, missing=-999, seed=1337, silent=1, subsample=0.8 - 8.0min\n",
      "[CV] colsample_bytree=0.7, learning_rate=0.03, max_depth=5, min_child_weight=11, missing=-999, seed=1337, silent=1, subsample=0.8 \n"
     ]
    },
    {
     "name": "stdout",
     "output_type": "stream",
     "text": [
      "[CV]  colsample_bytree=0.7, learning_rate=0.03, max_depth=5, min_child_weight=5, missing=-999, seed=1337, silent=1, subsample=0.8 - 7.9min\n",
      "[CV] colsample_bytree=0.7, learning_rate=0.03, max_depth=5, min_child_weight=11, missing=-999, seed=1337, silent=1, subsample=0.8 \n",
      "[CV]  colsample_bytree=0.7, learning_rate=0.03, max_depth=5, min_child_weight=5, missing=-999, seed=1337, silent=1, subsample=0.8 - 8.0min\n",
      "[CV] colsample_bytree=0.7, learning_rate=0.03, max_depth=5, min_child_weight=11, missing=-999, seed=1337, silent=1, subsample=0.8 \n",
      "[CV]  colsample_bytree=0.7, learning_rate=0.03, max_depth=5, min_child_weight=5, missing=-999, seed=1337, silent=1, subsample=0.8 - 8.1min\n",
      "[CV] colsample_bytree=0.7, learning_rate=0.03, max_depth=5, min_child_weight=11, missing=-999, seed=1337, silent=1, subsample=0.8 \n",
      "[CV]  colsample_bytree=0.7, learning_rate=0.03, max_depth=5, min_child_weight=5, missing=-999, seed=1337, silent=1, subsample=0.8 - 8.1min\n",
      "[CV] colsample_bytree=0.7, learning_rate=0.03, max_depth=5, min_child_weight=11, missing=-999, seed=1337, silent=1, subsample=0.8 \n",
      "[CV]  colsample_bytree=0.7, learning_rate=0.03, max_depth=5, min_child_weight=5, missing=-999, seed=1337, silent=1, subsample=0.8 - 8.1min\n",
      "[CV] colsample_bytree=0.7, learning_rate=0.03, max_depth=5, min_child_weight=11, missing=-999, seed=1337, silent=1, subsample=0.8 \n",
      "[CV]  colsample_bytree=0.7, learning_rate=0.03, max_depth=5, min_child_weight=5, missing=-999, seed=1337, silent=1, subsample=0.8 - 8.0min\n",
      "[CV] colsample_bytree=0.7, learning_rate=0.03, max_depth=5, min_child_weight=11, missing=-999, seed=1337, silent=1, subsample=0.8 \n",
      "[CV]  colsample_bytree=0.7, learning_rate=0.03, max_depth=5, min_child_weight=5, missing=-999, seed=1337, silent=1, subsample=0.8 - 7.9min\n",
      "[CV] colsample_bytree=0.7, learning_rate=0.03, max_depth=5, min_child_weight=11, missing=-999, seed=1337, silent=1, subsample=0.8 \n",
      "[CV]  colsample_bytree=0.7, learning_rate=0.03, max_depth=5, min_child_weight=5, missing=-999, seed=1337, silent=1, subsample=0.8 - 8.0min\n",
      "[CV] colsample_bytree=0.7, learning_rate=0.03, max_depth=5, min_child_weight=11, missing=-999, seed=1337, silent=1, subsample=0.8 \n",
      "[CV]  colsample_bytree=0.7, learning_rate=0.03, max_depth=5, min_child_weight=11, missing=-999, seed=1337, silent=1, subsample=0.8 - 7.7min\n",
      "[CV] colsample_bytree=0.7, learning_rate=0.03, max_depth=6, min_child_weight=5, missing=-999, seed=1337, silent=1, subsample=0.8 \n",
      "[CV]  colsample_bytree=0.7, learning_rate=0.03, max_depth=5, min_child_weight=11, missing=-999, seed=1337, silent=1, subsample=0.8 - 7.8min\n",
      "[CV] colsample_bytree=0.7, learning_rate=0.03, max_depth=6, min_child_weight=5, missing=-999, seed=1337, silent=1, subsample=0.8 \n",
      "[CV]  colsample_bytree=0.7, learning_rate=0.03, max_depth=5, min_child_weight=11, missing=-999, seed=1337, silent=1, subsample=0.8 - 7.8min\n",
      "[CV] colsample_bytree=0.7, learning_rate=0.03, max_depth=6, min_child_weight=5, missing=-999, seed=1337, silent=1, subsample=0.8 \n",
      "[CV]  colsample_bytree=0.7, learning_rate=0.03, max_depth=5, min_child_weight=11, missing=-999, seed=1337, silent=1, subsample=0.8 - 7.8min\n",
      "[CV] colsample_bytree=0.7, learning_rate=0.03, max_depth=6, min_child_weight=5, missing=-999, seed=1337, silent=1, subsample=0.8 \n",
      "[CV]  colsample_bytree=0.7, learning_rate=0.03, max_depth=5, min_child_weight=11, missing=-999, seed=1337, silent=1, subsample=0.8 - 7.8min\n",
      "[CV] colsample_bytree=0.7, learning_rate=0.03, max_depth=6, min_child_weight=5, missing=-999, seed=1337, silent=1, subsample=0.8 \n",
      "[CV]  colsample_bytree=0.7, learning_rate=0.03, max_depth=5, min_child_weight=11, missing=-999, seed=1337, silent=1, subsample=0.8 - 7.8min\n",
      "[CV] colsample_bytree=0.7, learning_rate=0.03, max_depth=6, min_child_weight=5, missing=-999, seed=1337, silent=1, subsample=0.8 \n",
      "[CV]  colsample_bytree=0.7, learning_rate=0.03, max_depth=5, min_child_weight=11, missing=-999, seed=1337, silent=1, subsample=0.8 - 7.7min\n",
      "[CV] colsample_bytree=0.7, learning_rate=0.03, max_depth=6, min_child_weight=5, missing=-999, seed=1337, silent=1, subsample=0.8 \n",
      "[CV]  colsample_bytree=0.7, learning_rate=0.03, max_depth=5, min_child_weight=11, missing=-999, seed=1337, silent=1, subsample=0.8 - 7.8min\n",
      "[CV] colsample_bytree=0.7, learning_rate=0.03, max_depth=6, min_child_weight=5, missing=-999, seed=1337, silent=1, subsample=0.8 \n",
      "[CV]  colsample_bytree=0.7, learning_rate=0.03, max_depth=5, min_child_weight=11, missing=-999, seed=1337, silent=1, subsample=0.8 - 7.9min\n",
      "[CV] colsample_bytree=0.7, learning_rate=0.03, max_depth=6, min_child_weight=5, missing=-999, seed=1337, silent=1, subsample=0.8 \n",
      "[CV]  colsample_bytree=0.7, learning_rate=0.03, max_depth=5, min_child_weight=11, missing=-999, seed=1337, silent=1, subsample=0.8 - 7.9min\n",
      "[CV] colsample_bytree=0.7, learning_rate=0.03, max_depth=6, min_child_weight=5, missing=-999, seed=1337, silent=1, subsample=0.8 \n",
      "[CV]  colsample_bytree=0.7, learning_rate=0.03, max_depth=6, min_child_weight=5, missing=-999, seed=1337, silent=1, subsample=0.8 - 9.1min\n",
      "[CV] colsample_bytree=0.7, learning_rate=0.03, max_depth=6, min_child_weight=11, missing=-999, seed=1337, silent=1, subsample=0.8 \n",
      "[CV]  colsample_bytree=0.7, learning_rate=0.03, max_depth=6, min_child_weight=5, missing=-999, seed=1337, silent=1, subsample=0.8 - 8.8min\n",
      "[CV] colsample_bytree=0.7, learning_rate=0.03, max_depth=6, min_child_weight=11, missing=-999, seed=1337, silent=1, subsample=0.8 \n",
      "[CV]  colsample_bytree=0.7, learning_rate=0.03, max_depth=6, min_child_weight=5, missing=-999, seed=1337, silent=1, subsample=0.8 - 8.9min\n",
      "[CV] colsample_bytree=0.7, learning_rate=0.03, max_depth=6, min_child_weight=11, missing=-999, seed=1337, silent=1, subsample=0.8 \n",
      "[CV]  colsample_bytree=0.7, learning_rate=0.03, max_depth=6, min_child_weight=5, missing=-999, seed=1337, silent=1, subsample=0.8 - 8.9min\n",
      "[CV] colsample_bytree=0.7, learning_rate=0.03, max_depth=6, min_child_weight=11, missing=-999, seed=1337, silent=1, subsample=0.8 \n",
      "[CV]  colsample_bytree=0.7, learning_rate=0.03, max_depth=6, min_child_weight=5, missing=-999, seed=1337, silent=1, subsample=0.8 - 9.0min\n",
      "[CV] colsample_bytree=0.7, learning_rate=0.03, max_depth=6, min_child_weight=11, missing=-999, seed=1337, silent=1, subsample=0.8 \n",
      "[CV]  colsample_bytree=0.7, learning_rate=0.03, max_depth=6, min_child_weight=5, missing=-999, seed=1337, silent=1, subsample=0.8 - 9.0min\n",
      "[CV] colsample_bytree=0.7, learning_rate=0.03, max_depth=6, min_child_weight=11, missing=-999, seed=1337, silent=1, subsample=0.8 \n",
      "[CV]  colsample_bytree=0.7, learning_rate=0.03, max_depth=6, min_child_weight=5, missing=-999, seed=1337, silent=1, subsample=0.8 - 9.0min\n",
      "[CV] colsample_bytree=0.7, learning_rate=0.03, max_depth=6, min_child_weight=11, missing=-999, seed=1337, silent=1, subsample=0.8 \n",
      "[CV]  colsample_bytree=0.7, learning_rate=0.03, max_depth=6, min_child_weight=5, missing=-999, seed=1337, silent=1, subsample=0.8 - 9.1min\n",
      "[CV] colsample_bytree=0.7, learning_rate=0.03, max_depth=6, min_child_weight=11, missing=-999, seed=1337, silent=1, subsample=0.8 \n",
      "[CV]  colsample_bytree=0.7, learning_rate=0.03, max_depth=6, min_child_weight=5, missing=-999, seed=1337, silent=1, subsample=0.8 - 9.0min\n",
      "[CV] colsample_bytree=0.7, learning_rate=0.03, max_depth=6, min_child_weight=11, missing=-999, seed=1337, silent=1, subsample=0.8 \n",
      "[CV]  colsample_bytree=0.7, learning_rate=0.03, max_depth=6, min_child_weight=5, missing=-999, seed=1337, silent=1, subsample=0.8 - 9.0min\n",
      "[CV] colsample_bytree=0.7, learning_rate=0.03, max_depth=6, min_child_weight=11, missing=-999, seed=1337, silent=1, subsample=0.8 \n",
      "[CV]  colsample_bytree=0.7, learning_rate=0.03, max_depth=6, min_child_weight=11, missing=-999, seed=1337, silent=1, subsample=0.8 - 8.5min\n",
      "[CV] colsample_bytree=0.8, learning_rate=0.02, max_depth=5, min_child_weight=5, missing=-999, seed=1337, silent=1, subsample=0.8 \n",
      "[CV]  colsample_bytree=0.7, learning_rate=0.03, max_depth=6, min_child_weight=11, missing=-999, seed=1337, silent=1, subsample=0.8 - 8.5min\n",
      "[CV] colsample_bytree=0.8, learning_rate=0.02, max_depth=5, min_child_weight=5, missing=-999, seed=1337, silent=1, subsample=0.8 \n",
      "[CV]  colsample_bytree=0.7, learning_rate=0.03, max_depth=6, min_child_weight=11, missing=-999, seed=1337, silent=1, subsample=0.8 - 8.4min\n"
     ]
    },
    {
     "name": "stdout",
     "output_type": "stream",
     "text": [
      "[CV] colsample_bytree=0.8, learning_rate=0.02, max_depth=5, min_child_weight=5, missing=-999, seed=1337, silent=1, subsample=0.8 \n",
      "[CV]  colsample_bytree=0.7, learning_rate=0.03, max_depth=6, min_child_weight=11, missing=-999, seed=1337, silent=1, subsample=0.8 - 8.6min\n",
      "[CV] colsample_bytree=0.8, learning_rate=0.02, max_depth=5, min_child_weight=5, missing=-999, seed=1337, silent=1, subsample=0.8 \n",
      "[CV]  colsample_bytree=0.7, learning_rate=0.03, max_depth=6, min_child_weight=11, missing=-999, seed=1337, silent=1, subsample=0.8 - 8.6min\n",
      "[CV] colsample_bytree=0.8, learning_rate=0.02, max_depth=5, min_child_weight=5, missing=-999, seed=1337, silent=1, subsample=0.8 \n",
      "[CV]  colsample_bytree=0.7, learning_rate=0.03, max_depth=6, min_child_weight=11, missing=-999, seed=1337, silent=1, subsample=0.8 - 8.7min\n",
      "[CV] colsample_bytree=0.8, learning_rate=0.02, max_depth=5, min_child_weight=5, missing=-999, seed=1337, silent=1, subsample=0.8 \n",
      "[CV]  colsample_bytree=0.7, learning_rate=0.03, max_depth=6, min_child_weight=11, missing=-999, seed=1337, silent=1, subsample=0.8 - 8.6min\n",
      "[CV] colsample_bytree=0.8, learning_rate=0.02, max_depth=5, min_child_weight=5, missing=-999, seed=1337, silent=1, subsample=0.8 \n",
      "[CV]  colsample_bytree=0.7, learning_rate=0.03, max_depth=6, min_child_weight=11, missing=-999, seed=1337, silent=1, subsample=0.8 - 8.6min\n",
      "[CV] colsample_bytree=0.8, learning_rate=0.02, max_depth=5, min_child_weight=5, missing=-999, seed=1337, silent=1, subsample=0.8 \n",
      "[CV]  colsample_bytree=0.7, learning_rate=0.03, max_depth=6, min_child_weight=11, missing=-999, seed=1337, silent=1, subsample=0.8 - 8.6min\n",
      "[CV] colsample_bytree=0.8, learning_rate=0.02, max_depth=5, min_child_weight=5, missing=-999, seed=1337, silent=1, subsample=0.8 \n",
      "[CV]  colsample_bytree=0.7, learning_rate=0.03, max_depth=6, min_child_weight=11, missing=-999, seed=1337, silent=1, subsample=0.8 - 8.6min\n",
      "[CV] colsample_bytree=0.8, learning_rate=0.02, max_depth=5, min_child_weight=5, missing=-999, seed=1337, silent=1, subsample=0.8 \n",
      "[CV]  colsample_bytree=0.8, learning_rate=0.02, max_depth=5, min_child_weight=5, missing=-999, seed=1337, silent=1, subsample=0.8 - 8.8min\n",
      "[CV] colsample_bytree=0.8, learning_rate=0.02, max_depth=5, min_child_weight=11, missing=-999, seed=1337, silent=1, subsample=0.8 \n",
      "[CV]  colsample_bytree=0.8, learning_rate=0.02, max_depth=5, min_child_weight=5, missing=-999, seed=1337, silent=1, subsample=0.8 - 8.6min\n",
      "[CV] colsample_bytree=0.8, learning_rate=0.02, max_depth=5, min_child_weight=11, missing=-999, seed=1337, silent=1, subsample=0.8 \n",
      "[CV]  colsample_bytree=0.8, learning_rate=0.02, max_depth=5, min_child_weight=5, missing=-999, seed=1337, silent=1, subsample=0.8 - 8.8min\n",
      "[CV] colsample_bytree=0.8, learning_rate=0.02, max_depth=5, min_child_weight=11, missing=-999, seed=1337, silent=1, subsample=0.8 \n",
      "[CV]  colsample_bytree=0.8, learning_rate=0.02, max_depth=5, min_child_weight=5, missing=-999, seed=1337, silent=1, subsample=0.8 - 8.8min\n",
      "[CV] colsample_bytree=0.8, learning_rate=0.02, max_depth=5, min_child_weight=11, missing=-999, seed=1337, silent=1, subsample=0.8 \n",
      "[CV]  colsample_bytree=0.8, learning_rate=0.02, max_depth=5, min_child_weight=5, missing=-999, seed=1337, silent=1, subsample=0.8 - 8.9min\n",
      "[CV] colsample_bytree=0.8, learning_rate=0.02, max_depth=5, min_child_weight=11, missing=-999, seed=1337, silent=1, subsample=0.8 \n",
      "[CV]  colsample_bytree=0.8, learning_rate=0.02, max_depth=5, min_child_weight=5, missing=-999, seed=1337, silent=1, subsample=0.8 - 8.9min\n",
      "[CV] colsample_bytree=0.8, learning_rate=0.02, max_depth=5, min_child_weight=11, missing=-999, seed=1337, silent=1, subsample=0.8 \n",
      "[CV]  colsample_bytree=0.8, learning_rate=0.02, max_depth=5, min_child_weight=5, missing=-999, seed=1337, silent=1, subsample=0.8 - 9.0min\n",
      "[CV] colsample_bytree=0.8, learning_rate=0.02, max_depth=5, min_child_weight=11, missing=-999, seed=1337, silent=1, subsample=0.8 \n",
      "[CV]  colsample_bytree=0.8, learning_rate=0.02, max_depth=5, min_child_weight=5, missing=-999, seed=1337, silent=1, subsample=0.8 - 8.7min\n",
      "[CV] colsample_bytree=0.8, learning_rate=0.02, max_depth=5, min_child_weight=11, missing=-999, seed=1337, silent=1, subsample=0.8 \n",
      "[CV]  colsample_bytree=0.8, learning_rate=0.02, max_depth=5, min_child_weight=5, missing=-999, seed=1337, silent=1, subsample=0.8 - 9.0min\n",
      "[CV] colsample_bytree=0.8, learning_rate=0.02, max_depth=5, min_child_weight=11, missing=-999, seed=1337, silent=1, subsample=0.8 \n",
      "[CV]  colsample_bytree=0.8, learning_rate=0.02, max_depth=5, min_child_weight=5, missing=-999, seed=1337, silent=1, subsample=0.8 - 8.9min\n",
      "[CV] colsample_bytree=0.8, learning_rate=0.02, max_depth=5, min_child_weight=11, missing=-999, seed=1337, silent=1, subsample=0.8 \n",
      "[CV]  colsample_bytree=0.8, learning_rate=0.02, max_depth=5, min_child_weight=11, missing=-999, seed=1337, silent=1, subsample=0.8 - 8.6min\n",
      "[CV] colsample_bytree=0.8, learning_rate=0.02, max_depth=6, min_child_weight=5, missing=-999, seed=1337, silent=1, subsample=0.8 \n",
      "[CV]  colsample_bytree=0.8, learning_rate=0.02, max_depth=5, min_child_weight=11, missing=-999, seed=1337, silent=1, subsample=0.8 - 8.3min\n",
      "[CV] colsample_bytree=0.8, learning_rate=0.02, max_depth=6, min_child_weight=5, missing=-999, seed=1337, silent=1, subsample=0.8 \n",
      "[CV]  colsample_bytree=0.8, learning_rate=0.02, max_depth=5, min_child_weight=11, missing=-999, seed=1337, silent=1, subsample=0.8 - 8.6min\n",
      "[CV] colsample_bytree=0.8, learning_rate=0.02, max_depth=6, min_child_weight=5, missing=-999, seed=1337, silent=1, subsample=0.8 \n",
      "[CV]  colsample_bytree=0.8, learning_rate=0.02, max_depth=5, min_child_weight=11, missing=-999, seed=1337, silent=1, subsample=0.8 - 8.7min\n",
      "[CV] colsample_bytree=0.8, learning_rate=0.02, max_depth=6, min_child_weight=5, missing=-999, seed=1337, silent=1, subsample=0.8 \n",
      "[CV]  colsample_bytree=0.8, learning_rate=0.02, max_depth=5, min_child_weight=11, missing=-999, seed=1337, silent=1, subsample=0.8 - 8.3min\n",
      "[CV] colsample_bytree=0.8, learning_rate=0.02, max_depth=6, min_child_weight=5, missing=-999, seed=1337, silent=1, subsample=0.8 \n",
      "[CV]  colsample_bytree=0.8, learning_rate=0.02, max_depth=5, min_child_weight=11, missing=-999, seed=1337, silent=1, subsample=0.8 - 8.4min\n",
      "[CV] colsample_bytree=0.8, learning_rate=0.02, max_depth=6, min_child_weight=5, missing=-999, seed=1337, silent=1, subsample=0.8 \n",
      "[CV]  colsample_bytree=0.8, learning_rate=0.02, max_depth=5, min_child_weight=11, missing=-999, seed=1337, silent=1, subsample=0.8 - 8.6min\n",
      "[CV] colsample_bytree=0.8, learning_rate=0.02, max_depth=6, min_child_weight=5, missing=-999, seed=1337, silent=1, subsample=0.8 \n",
      "[CV]  colsample_bytree=0.8, learning_rate=0.02, max_depth=5, min_child_weight=11, missing=-999, seed=1337, silent=1, subsample=0.8 - 8.6min\n",
      "[CV] colsample_bytree=0.8, learning_rate=0.02, max_depth=6, min_child_weight=5, missing=-999, seed=1337, silent=1, subsample=0.8 \n",
      "[CV]  colsample_bytree=0.8, learning_rate=0.02, max_depth=5, min_child_weight=11, missing=-999, seed=1337, silent=1, subsample=0.8 - 8.5min\n",
      "[CV] colsample_bytree=0.8, learning_rate=0.02, max_depth=6, min_child_weight=5, missing=-999, seed=1337, silent=1, subsample=0.8 \n",
      "[CV]  colsample_bytree=0.8, learning_rate=0.02, max_depth=5, min_child_weight=11, missing=-999, seed=1337, silent=1, subsample=0.8 - 8.7min\n",
      "[CV] colsample_bytree=0.8, learning_rate=0.02, max_depth=6, min_child_weight=5, missing=-999, seed=1337, silent=1, subsample=0.8 \n",
      "[CV]  colsample_bytree=0.8, learning_rate=0.02, max_depth=6, min_child_weight=5, missing=-999, seed=1337, silent=1, subsample=0.8 - 9.7min\n",
      "[CV] colsample_bytree=0.8, learning_rate=0.02, max_depth=6, min_child_weight=11, missing=-999, seed=1337, silent=1, subsample=0.8 \n",
      "[CV]  colsample_bytree=0.8, learning_rate=0.02, max_depth=6, min_child_weight=5, missing=-999, seed=1337, silent=1, subsample=0.8 - 9.9min\n",
      "[CV] colsample_bytree=0.8, learning_rate=0.02, max_depth=6, min_child_weight=11, missing=-999, seed=1337, silent=1, subsample=0.8 \n"
     ]
    },
    {
     "name": "stderr",
     "output_type": "stream",
     "text": [
      "[Parallel(n_jobs=10)]: Done 142 tasks      | elapsed: 127.5min\n"
     ]
    },
    {
     "name": "stdout",
     "output_type": "stream",
     "text": [
      "[CV]  colsample_bytree=0.8, learning_rate=0.02, max_depth=6, min_child_weight=5, missing=-999, seed=1337, silent=1, subsample=0.8 - 9.7min\n",
      "[CV] colsample_bytree=0.8, learning_rate=0.02, max_depth=6, min_child_weight=11, missing=-999, seed=1337, silent=1, subsample=0.8 \n",
      "[CV]  colsample_bytree=0.8, learning_rate=0.02, max_depth=6, min_child_weight=5, missing=-999, seed=1337, silent=1, subsample=0.8 -10.0min\n",
      "[CV] colsample_bytree=0.8, learning_rate=0.02, max_depth=6, min_child_weight=11, missing=-999, seed=1337, silent=1, subsample=0.8 \n",
      "[CV]  colsample_bytree=0.8, learning_rate=0.02, max_depth=6, min_child_weight=5, missing=-999, seed=1337, silent=1, subsample=0.8 - 9.8min\n",
      "[CV] colsample_bytree=0.8, learning_rate=0.02, max_depth=6, min_child_weight=11, missing=-999, seed=1337, silent=1, subsample=0.8 \n",
      "[CV]  colsample_bytree=0.8, learning_rate=0.02, max_depth=6, min_child_weight=5, missing=-999, seed=1337, silent=1, subsample=0.8 - 9.5min\n",
      "[CV] colsample_bytree=0.8, learning_rate=0.02, max_depth=6, min_child_weight=11, missing=-999, seed=1337, silent=1, subsample=0.8 \n",
      "[CV]  colsample_bytree=0.8, learning_rate=0.02, max_depth=6, min_child_weight=5, missing=-999, seed=1337, silent=1, subsample=0.8 - 9.8min\n",
      "[CV] colsample_bytree=0.8, learning_rate=0.02, max_depth=6, min_child_weight=11, missing=-999, seed=1337, silent=1, subsample=0.8 \n",
      "[CV]  colsample_bytree=0.8, learning_rate=0.02, max_depth=6, min_child_weight=5, missing=-999, seed=1337, silent=1, subsample=0.8 -10.0min\n",
      "[CV] colsample_bytree=0.8, learning_rate=0.02, max_depth=6, min_child_weight=11, missing=-999, seed=1337, silent=1, subsample=0.8 \n",
      "[CV]  colsample_bytree=0.8, learning_rate=0.02, max_depth=6, min_child_weight=5, missing=-999, seed=1337, silent=1, subsample=0.8 -10.0min\n",
      "[CV] colsample_bytree=0.8, learning_rate=0.02, max_depth=6, min_child_weight=11, missing=-999, seed=1337, silent=1, subsample=0.8 \n",
      "[CV]  colsample_bytree=0.8, learning_rate=0.02, max_depth=6, min_child_weight=5, missing=-999, seed=1337, silent=1, subsample=0.8 - 9.7min\n",
      "[CV] colsample_bytree=0.8, learning_rate=0.02, max_depth=6, min_child_weight=11, missing=-999, seed=1337, silent=1, subsample=0.8 \n",
      "[CV]  colsample_bytree=0.8, learning_rate=0.02, max_depth=6, min_child_weight=11, missing=-999, seed=1337, silent=1, subsample=0.8 - 9.4min\n",
      "[CV] colsample_bytree=0.8, learning_rate=0.01, max_depth=5, min_child_weight=5, missing=-999, seed=1337, silent=1, subsample=0.8 \n",
      "[CV]  colsample_bytree=0.8, learning_rate=0.02, max_depth=6, min_child_weight=11, missing=-999, seed=1337, silent=1, subsample=0.8 - 9.2min\n",
      "[CV] colsample_bytree=0.8, learning_rate=0.01, max_depth=5, min_child_weight=5, missing=-999, seed=1337, silent=1, subsample=0.8 \n",
      "[CV]  colsample_bytree=0.8, learning_rate=0.02, max_depth=6, min_child_weight=11, missing=-999, seed=1337, silent=1, subsample=0.8 - 9.6min\n",
      "[CV] colsample_bytree=0.8, learning_rate=0.01, max_depth=5, min_child_weight=5, missing=-999, seed=1337, silent=1, subsample=0.8 \n",
      "[CV]  colsample_bytree=0.8, learning_rate=0.02, max_depth=6, min_child_weight=11, missing=-999, seed=1337, silent=1, subsample=0.8 - 9.5min\n",
      "[CV] colsample_bytree=0.8, learning_rate=0.01, max_depth=5, min_child_weight=5, missing=-999, seed=1337, silent=1, subsample=0.8 \n",
      "[CV]  colsample_bytree=0.8, learning_rate=0.02, max_depth=6, min_child_weight=11, missing=-999, seed=1337, silent=1, subsample=0.8 - 9.4min\n",
      "[CV] colsample_bytree=0.8, learning_rate=0.01, max_depth=5, min_child_weight=5, missing=-999, seed=1337, silent=1, subsample=0.8 \n",
      "[CV]  colsample_bytree=0.8, learning_rate=0.02, max_depth=6, min_child_weight=11, missing=-999, seed=1337, silent=1, subsample=0.8 - 9.7min\n",
      "[CV] colsample_bytree=0.8, learning_rate=0.01, max_depth=5, min_child_weight=5, missing=-999, seed=1337, silent=1, subsample=0.8 \n",
      "[CV]  colsample_bytree=0.8, learning_rate=0.02, max_depth=6, min_child_weight=11, missing=-999, seed=1337, silent=1, subsample=0.8 - 9.5min\n",
      "[CV] colsample_bytree=0.8, learning_rate=0.01, max_depth=5, min_child_weight=5, missing=-999, seed=1337, silent=1, subsample=0.8 \n",
      "[CV]  colsample_bytree=0.8, learning_rate=0.02, max_depth=6, min_child_weight=11, missing=-999, seed=1337, silent=1, subsample=0.8 - 9.4min\n",
      "[CV] colsample_bytree=0.8, learning_rate=0.01, max_depth=5, min_child_weight=5, missing=-999, seed=1337, silent=1, subsample=0.8 \n",
      "[CV]  colsample_bytree=0.8, learning_rate=0.02, max_depth=6, min_child_weight=11, missing=-999, seed=1337, silent=1, subsample=0.8 - 9.4min\n",
      "[CV] colsample_bytree=0.8, learning_rate=0.01, max_depth=5, min_child_weight=5, missing=-999, seed=1337, silent=1, subsample=0.8 \n",
      "[CV]  colsample_bytree=0.8, learning_rate=0.02, max_depth=6, min_child_weight=11, missing=-999, seed=1337, silent=1, subsample=0.8 - 9.3min\n",
      "[CV] colsample_bytree=0.8, learning_rate=0.01, max_depth=5, min_child_weight=5, missing=-999, seed=1337, silent=1, subsample=0.8 \n",
      "[CV]  colsample_bytree=0.8, learning_rate=0.01, max_depth=5, min_child_weight=5, missing=-999, seed=1337, silent=1, subsample=0.8 - 8.9min\n",
      "[CV] colsample_bytree=0.8, learning_rate=0.01, max_depth=5, min_child_weight=11, missing=-999, seed=1337, silent=1, subsample=0.8 \n",
      "[CV]  colsample_bytree=0.8, learning_rate=0.01, max_depth=5, min_child_weight=5, missing=-999, seed=1337, silent=1, subsample=0.8 - 8.5min\n",
      "[CV] colsample_bytree=0.8, learning_rate=0.01, max_depth=5, min_child_weight=11, missing=-999, seed=1337, silent=1, subsample=0.8 \n",
      "[CV]  colsample_bytree=0.8, learning_rate=0.01, max_depth=5, min_child_weight=5, missing=-999, seed=1337, silent=1, subsample=0.8 - 8.6min\n",
      "[CV] colsample_bytree=0.8, learning_rate=0.01, max_depth=5, min_child_weight=11, missing=-999, seed=1337, silent=1, subsample=0.8 \n",
      "[CV]  colsample_bytree=0.8, learning_rate=0.01, max_depth=5, min_child_weight=5, missing=-999, seed=1337, silent=1, subsample=0.8 - 8.9min\n",
      "[CV] colsample_bytree=0.8, learning_rate=0.01, max_depth=5, min_child_weight=11, missing=-999, seed=1337, silent=1, subsample=0.8 \n",
      "[CV]  colsample_bytree=0.8, learning_rate=0.01, max_depth=5, min_child_weight=5, missing=-999, seed=1337, silent=1, subsample=0.8 - 8.8min\n",
      "[CV] colsample_bytree=0.8, learning_rate=0.01, max_depth=5, min_child_weight=11, missing=-999, seed=1337, silent=1, subsample=0.8 \n",
      "[CV]  colsample_bytree=0.8, learning_rate=0.01, max_depth=5, min_child_weight=5, missing=-999, seed=1337, silent=1, subsample=0.8 - 9.1min\n",
      "[CV] colsample_bytree=0.8, learning_rate=0.01, max_depth=5, min_child_weight=11, missing=-999, seed=1337, silent=1, subsample=0.8 \n",
      "[CV]  colsample_bytree=0.8, learning_rate=0.01, max_depth=5, min_child_weight=5, missing=-999, seed=1337, silent=1, subsample=0.8 - 8.8min\n",
      "[CV] colsample_bytree=0.8, learning_rate=0.01, max_depth=5, min_child_weight=11, missing=-999, seed=1337, silent=1, subsample=0.8 \n",
      "[CV]  colsample_bytree=0.8, learning_rate=0.01, max_depth=5, min_child_weight=5, missing=-999, seed=1337, silent=1, subsample=0.8 - 8.9min\n",
      "[CV] colsample_bytree=0.8, learning_rate=0.01, max_depth=5, min_child_weight=11, missing=-999, seed=1337, silent=1, subsample=0.8 \n",
      "[CV]  colsample_bytree=0.8, learning_rate=0.01, max_depth=5, min_child_weight=5, missing=-999, seed=1337, silent=1, subsample=0.8 - 8.6min\n",
      "[CV] colsample_bytree=0.8, learning_rate=0.01, max_depth=5, min_child_weight=11, missing=-999, seed=1337, silent=1, subsample=0.8 \n",
      "[CV]  colsample_bytree=0.8, learning_rate=0.01, max_depth=5, min_child_weight=5, missing=-999, seed=1337, silent=1, subsample=0.8 - 8.6min\n",
      "[CV] colsample_bytree=0.8, learning_rate=0.01, max_depth=5, min_child_weight=11, missing=-999, seed=1337, silent=1, subsample=0.8 \n",
      "[CV]  colsample_bytree=0.8, learning_rate=0.01, max_depth=5, min_child_weight=11, missing=-999, seed=1337, silent=1, subsample=0.8 - 8.6min\n",
      "[CV] colsample_bytree=0.8, learning_rate=0.01, max_depth=6, min_child_weight=5, missing=-999, seed=1337, silent=1, subsample=0.8 \n",
      "[CV]  colsample_bytree=0.8, learning_rate=0.01, max_depth=5, min_child_weight=11, missing=-999, seed=1337, silent=1, subsample=0.8 - 8.7min\n",
      "[CV] colsample_bytree=0.8, learning_rate=0.01, max_depth=6, min_child_weight=5, missing=-999, seed=1337, silent=1, subsample=0.8 \n",
      "[CV]  colsample_bytree=0.8, learning_rate=0.01, max_depth=5, min_child_weight=11, missing=-999, seed=1337, silent=1, subsample=0.8 - 8.5min\n"
     ]
    },
    {
     "name": "stdout",
     "output_type": "stream",
     "text": [
      "[CV] colsample_bytree=0.8, learning_rate=0.01, max_depth=6, min_child_weight=5, missing=-999, seed=1337, silent=1, subsample=0.8 \n",
      "[CV]  colsample_bytree=0.8, learning_rate=0.01, max_depth=5, min_child_weight=11, missing=-999, seed=1337, silent=1, subsample=0.8 - 8.5min\n",
      "[CV] colsample_bytree=0.8, learning_rate=0.01, max_depth=6, min_child_weight=5, missing=-999, seed=1337, silent=1, subsample=0.8 \n",
      "[CV]  colsample_bytree=0.8, learning_rate=0.01, max_depth=5, min_child_weight=11, missing=-999, seed=1337, silent=1, subsample=0.8 - 8.3min\n",
      "[CV] colsample_bytree=0.8, learning_rate=0.01, max_depth=6, min_child_weight=5, missing=-999, seed=1337, silent=1, subsample=0.8 \n",
      "[CV]  colsample_bytree=0.8, learning_rate=0.01, max_depth=5, min_child_weight=11, missing=-999, seed=1337, silent=1, subsample=0.8 - 8.4min\n",
      "[CV] colsample_bytree=0.8, learning_rate=0.01, max_depth=6, min_child_weight=5, missing=-999, seed=1337, silent=1, subsample=0.8 \n",
      "[CV]  colsample_bytree=0.8, learning_rate=0.01, max_depth=5, min_child_weight=11, missing=-999, seed=1337, silent=1, subsample=0.8 - 8.5min\n",
      "[CV] colsample_bytree=0.8, learning_rate=0.01, max_depth=6, min_child_weight=5, missing=-999, seed=1337, silent=1, subsample=0.8 \n",
      "[CV]  colsample_bytree=0.8, learning_rate=0.01, max_depth=5, min_child_weight=11, missing=-999, seed=1337, silent=1, subsample=0.8 - 8.5min\n",
      "[CV] colsample_bytree=0.8, learning_rate=0.01, max_depth=6, min_child_weight=5, missing=-999, seed=1337, silent=1, subsample=0.8 \n",
      "[CV]  colsample_bytree=0.8, learning_rate=0.01, max_depth=5, min_child_weight=11, missing=-999, seed=1337, silent=1, subsample=0.8 - 8.8min\n",
      "[CV] colsample_bytree=0.8, learning_rate=0.01, max_depth=6, min_child_weight=5, missing=-999, seed=1337, silent=1, subsample=0.8 \n",
      "[CV]  colsample_bytree=0.8, learning_rate=0.01, max_depth=5, min_child_weight=11, missing=-999, seed=1337, silent=1, subsample=0.8 - 8.6min\n",
      "[CV] colsample_bytree=0.8, learning_rate=0.01, max_depth=6, min_child_weight=5, missing=-999, seed=1337, silent=1, subsample=0.8 \n",
      "[CV]  colsample_bytree=0.8, learning_rate=0.01, max_depth=6, min_child_weight=5, missing=-999, seed=1337, silent=1, subsample=0.8 - 9.9min\n",
      "[CV] colsample_bytree=0.8, learning_rate=0.01, max_depth=6, min_child_weight=11, missing=-999, seed=1337, silent=1, subsample=0.8 \n",
      "[CV]  colsample_bytree=0.8, learning_rate=0.01, max_depth=6, min_child_weight=5, missing=-999, seed=1337, silent=1, subsample=0.8 - 9.8min\n",
      "[CV] colsample_bytree=0.8, learning_rate=0.01, max_depth=6, min_child_weight=11, missing=-999, seed=1337, silent=1, subsample=0.8 \n",
      "[CV]  colsample_bytree=0.8, learning_rate=0.01, max_depth=6, min_child_weight=5, missing=-999, seed=1337, silent=1, subsample=0.8 - 9.8min\n",
      "[CV] colsample_bytree=0.8, learning_rate=0.01, max_depth=6, min_child_weight=11, missing=-999, seed=1337, silent=1, subsample=0.8 \n",
      "[CV]  colsample_bytree=0.8, learning_rate=0.01, max_depth=6, min_child_weight=5, missing=-999, seed=1337, silent=1, subsample=0.8 -10.2min\n",
      "[CV] colsample_bytree=0.8, learning_rate=0.01, max_depth=6, min_child_weight=11, missing=-999, seed=1337, silent=1, subsample=0.8 \n",
      "[CV]  colsample_bytree=0.8, learning_rate=0.01, max_depth=6, min_child_weight=5, missing=-999, seed=1337, silent=1, subsample=0.8 -10.1min\n",
      "[CV] colsample_bytree=0.8, learning_rate=0.01, max_depth=6, min_child_weight=11, missing=-999, seed=1337, silent=1, subsample=0.8 \n",
      "[CV]  colsample_bytree=0.8, learning_rate=0.01, max_depth=6, min_child_weight=5, missing=-999, seed=1337, silent=1, subsample=0.8 -10.0min\n",
      "[CV] colsample_bytree=0.8, learning_rate=0.01, max_depth=6, min_child_weight=11, missing=-999, seed=1337, silent=1, subsample=0.8 \n",
      "[CV]  colsample_bytree=0.8, learning_rate=0.01, max_depth=6, min_child_weight=5, missing=-999, seed=1337, silent=1, subsample=0.8 - 9.6min\n",
      "[CV] colsample_bytree=0.8, learning_rate=0.01, max_depth=6, min_child_weight=11, missing=-999, seed=1337, silent=1, subsample=0.8 \n",
      "[CV]  colsample_bytree=0.8, learning_rate=0.01, max_depth=6, min_child_weight=5, missing=-999, seed=1337, silent=1, subsample=0.8 - 9.8min\n",
      "[CV] colsample_bytree=0.8, learning_rate=0.01, max_depth=6, min_child_weight=11, missing=-999, seed=1337, silent=1, subsample=0.8 \n",
      "[CV]  colsample_bytree=0.8, learning_rate=0.01, max_depth=6, min_child_weight=5, missing=-999, seed=1337, silent=1, subsample=0.8 - 9.9min\n",
      "[CV] colsample_bytree=0.8, learning_rate=0.01, max_depth=6, min_child_weight=11, missing=-999, seed=1337, silent=1, subsample=0.8 \n",
      "[CV]  colsample_bytree=0.8, learning_rate=0.01, max_depth=6, min_child_weight=5, missing=-999, seed=1337, silent=1, subsample=0.8 -10.1min\n",
      "[CV] colsample_bytree=0.8, learning_rate=0.01, max_depth=6, min_child_weight=11, missing=-999, seed=1337, silent=1, subsample=0.8 \n",
      "[CV]  colsample_bytree=0.8, learning_rate=0.01, max_depth=6, min_child_weight=11, missing=-999, seed=1337, silent=1, subsample=0.8 - 9.6min\n",
      "[CV] colsample_bytree=0.8, learning_rate=0.03, max_depth=5, min_child_weight=5, missing=-999, seed=1337, silent=1, subsample=0.8 \n",
      "[CV]  colsample_bytree=0.8, learning_rate=0.01, max_depth=6, min_child_weight=11, missing=-999, seed=1337, silent=1, subsample=0.8 - 9.3min\n",
      "[CV] colsample_bytree=0.8, learning_rate=0.03, max_depth=5, min_child_weight=5, missing=-999, seed=1337, silent=1, subsample=0.8 \n",
      "[CV]  colsample_bytree=0.8, learning_rate=0.01, max_depth=6, min_child_weight=11, missing=-999, seed=1337, silent=1, subsample=0.8 - 9.2min\n",
      "[CV] colsample_bytree=0.8, learning_rate=0.03, max_depth=5, min_child_weight=5, missing=-999, seed=1337, silent=1, subsample=0.8 \n",
      "[CV]  colsample_bytree=0.8, learning_rate=0.01, max_depth=6, min_child_weight=11, missing=-999, seed=1337, silent=1, subsample=0.8 - 9.5min\n",
      "[CV] colsample_bytree=0.8, learning_rate=0.03, max_depth=5, min_child_weight=5, missing=-999, seed=1337, silent=1, subsample=0.8 \n",
      "[CV]  colsample_bytree=0.8, learning_rate=0.01, max_depth=6, min_child_weight=11, missing=-999, seed=1337, silent=1, subsample=0.8 - 9.5min\n",
      "[CV] colsample_bytree=0.8, learning_rate=0.03, max_depth=5, min_child_weight=5, missing=-999, seed=1337, silent=1, subsample=0.8 \n",
      "[CV]  colsample_bytree=0.8, learning_rate=0.01, max_depth=6, min_child_weight=11, missing=-999, seed=1337, silent=1, subsample=0.8 - 9.2min\n",
      "[CV] colsample_bytree=0.8, learning_rate=0.03, max_depth=5, min_child_weight=5, missing=-999, seed=1337, silent=1, subsample=0.8 \n",
      "[CV]  colsample_bytree=0.8, learning_rate=0.01, max_depth=6, min_child_weight=11, missing=-999, seed=1337, silent=1, subsample=0.8 - 9.8min\n",
      "[CV] colsample_bytree=0.8, learning_rate=0.03, max_depth=5, min_child_weight=5, missing=-999, seed=1337, silent=1, subsample=0.8 \n",
      "[CV]  colsample_bytree=0.8, learning_rate=0.01, max_depth=6, min_child_weight=11, missing=-999, seed=1337, silent=1, subsample=0.8 - 9.4min\n",
      "[CV] colsample_bytree=0.8, learning_rate=0.03, max_depth=5, min_child_weight=5, missing=-999, seed=1337, silent=1, subsample=0.8 \n",
      "[CV]  colsample_bytree=0.8, learning_rate=0.01, max_depth=6, min_child_weight=11, missing=-999, seed=1337, silent=1, subsample=0.8 - 9.6min\n",
      "[CV] colsample_bytree=0.8, learning_rate=0.03, max_depth=5, min_child_weight=5, missing=-999, seed=1337, silent=1, subsample=0.8 \n",
      "[CV]  colsample_bytree=0.8, learning_rate=0.01, max_depth=6, min_child_weight=11, missing=-999, seed=1337, silent=1, subsample=0.8 - 9.6min\n",
      "[CV] colsample_bytree=0.8, learning_rate=0.03, max_depth=5, min_child_weight=5, missing=-999, seed=1337, silent=1, subsample=0.8 \n",
      "[CV]  colsample_bytree=0.8, learning_rate=0.03, max_depth=5, min_child_weight=5, missing=-999, seed=1337, silent=1, subsample=0.8 - 8.8min\n",
      "[CV] colsample_bytree=0.8, learning_rate=0.03, max_depth=5, min_child_weight=11, missing=-999, seed=1337, silent=1, subsample=0.8 \n",
      "[CV]  colsample_bytree=0.8, learning_rate=0.03, max_depth=5, min_child_weight=5, missing=-999, seed=1337, silent=1, subsample=0.8 - 8.7min\n",
      "[CV] colsample_bytree=0.8, learning_rate=0.03, max_depth=5, min_child_weight=11, missing=-999, seed=1337, silent=1, subsample=0.8 \n",
      "[CV]  colsample_bytree=0.8, learning_rate=0.03, max_depth=5, min_child_weight=5, missing=-999, seed=1337, silent=1, subsample=0.8 - 8.5min\n",
      "[CV] colsample_bytree=0.8, learning_rate=0.03, max_depth=5, min_child_weight=11, missing=-999, seed=1337, silent=1, subsample=0.8 \n"
     ]
    },
    {
     "name": "stdout",
     "output_type": "stream",
     "text": [
      "[CV]  colsample_bytree=0.8, learning_rate=0.03, max_depth=5, min_child_weight=5, missing=-999, seed=1337, silent=1, subsample=0.8 - 8.8min\n",
      "[CV] colsample_bytree=0.8, learning_rate=0.03, max_depth=5, min_child_weight=11, missing=-999, seed=1337, silent=1, subsample=0.8 \n",
      "[CV]  colsample_bytree=0.8, learning_rate=0.03, max_depth=5, min_child_weight=5, missing=-999, seed=1337, silent=1, subsample=0.8 - 8.8min\n",
      "[CV] colsample_bytree=0.8, learning_rate=0.03, max_depth=5, min_child_weight=11, missing=-999, seed=1337, silent=1, subsample=0.8 \n",
      "[CV]  colsample_bytree=0.8, learning_rate=0.03, max_depth=5, min_child_weight=5, missing=-999, seed=1337, silent=1, subsample=0.8 - 8.6min\n",
      "[CV] colsample_bytree=0.8, learning_rate=0.03, max_depth=5, min_child_weight=11, missing=-999, seed=1337, silent=1, subsample=0.8 \n",
      "[CV]  colsample_bytree=0.8, learning_rate=0.03, max_depth=5, min_child_weight=5, missing=-999, seed=1337, silent=1, subsample=0.8 - 8.7min\n",
      "[CV] colsample_bytree=0.8, learning_rate=0.03, max_depth=5, min_child_weight=11, missing=-999, seed=1337, silent=1, subsample=0.8 \n",
      "[CV]  colsample_bytree=0.8, learning_rate=0.03, max_depth=5, min_child_weight=5, missing=-999, seed=1337, silent=1, subsample=0.8 - 8.7min\n",
      "[CV] colsample_bytree=0.8, learning_rate=0.03, max_depth=5, min_child_weight=11, missing=-999, seed=1337, silent=1, subsample=0.8 \n",
      "[CV]  colsample_bytree=0.8, learning_rate=0.03, max_depth=5, min_child_weight=5, missing=-999, seed=1337, silent=1, subsample=0.8 - 8.6min\n",
      "[CV] colsample_bytree=0.8, learning_rate=0.03, max_depth=5, min_child_weight=11, missing=-999, seed=1337, silent=1, subsample=0.8 \n",
      "[CV]  colsample_bytree=0.8, learning_rate=0.03, max_depth=5, min_child_weight=5, missing=-999, seed=1337, silent=1, subsample=0.8 - 9.0min\n",
      "[CV] colsample_bytree=0.8, learning_rate=0.03, max_depth=5, min_child_weight=11, missing=-999, seed=1337, silent=1, subsample=0.8 \n",
      "[CV]  colsample_bytree=0.8, learning_rate=0.03, max_depth=5, min_child_weight=11, missing=-999, seed=1337, silent=1, subsample=0.8 - 8.3min\n",
      "[CV] colsample_bytree=0.8, learning_rate=0.03, max_depth=6, min_child_weight=5, missing=-999, seed=1337, silent=1, subsample=0.8 \n",
      "[CV]  colsample_bytree=0.8, learning_rate=0.03, max_depth=5, min_child_weight=11, missing=-999, seed=1337, silent=1, subsample=0.8 - 8.0min\n",
      "[CV] colsample_bytree=0.8, learning_rate=0.03, max_depth=6, min_child_weight=5, missing=-999, seed=1337, silent=1, subsample=0.8 \n",
      "[CV]  colsample_bytree=0.8, learning_rate=0.03, max_depth=5, min_child_weight=11, missing=-999, seed=1337, silent=1, subsample=0.8 - 8.4min\n",
      "[CV] colsample_bytree=0.8, learning_rate=0.03, max_depth=6, min_child_weight=5, missing=-999, seed=1337, silent=1, subsample=0.8 \n",
      "[CV]  colsample_bytree=0.8, learning_rate=0.03, max_depth=5, min_child_weight=11, missing=-999, seed=1337, silent=1, subsample=0.8 - 8.6min\n",
      "[CV] colsample_bytree=0.8, learning_rate=0.03, max_depth=6, min_child_weight=5, missing=-999, seed=1337, silent=1, subsample=0.8 \n",
      "[CV]  colsample_bytree=0.8, learning_rate=0.03, max_depth=5, min_child_weight=11, missing=-999, seed=1337, silent=1, subsample=0.8 - 8.6min\n",
      "[CV] colsample_bytree=0.8, learning_rate=0.03, max_depth=6, min_child_weight=5, missing=-999, seed=1337, silent=1, subsample=0.8 \n",
      "[CV]  colsample_bytree=0.8, learning_rate=0.03, max_depth=5, min_child_weight=11, missing=-999, seed=1337, silent=1, subsample=0.8 - 8.3min\n",
      "[CV] colsample_bytree=0.8, learning_rate=0.03, max_depth=6, min_child_weight=5, missing=-999, seed=1337, silent=1, subsample=0.8 \n",
      "[CV]  colsample_bytree=0.8, learning_rate=0.03, max_depth=5, min_child_weight=11, missing=-999, seed=1337, silent=1, subsample=0.8 - 8.6min\n",
      "[CV] colsample_bytree=0.8, learning_rate=0.03, max_depth=6, min_child_weight=5, missing=-999, seed=1337, silent=1, subsample=0.8 \n",
      "[CV]  colsample_bytree=0.8, learning_rate=0.03, max_depth=5, min_child_weight=11, missing=-999, seed=1337, silent=1, subsample=0.8 - 8.6min\n",
      "[CV] colsample_bytree=0.8, learning_rate=0.03, max_depth=6, min_child_weight=5, missing=-999, seed=1337, silent=1, subsample=0.8 \n",
      "[CV]  colsample_bytree=0.8, learning_rate=0.03, max_depth=5, min_child_weight=11, missing=-999, seed=1337, silent=1, subsample=0.8 - 8.5min\n",
      "[CV] colsample_bytree=0.8, learning_rate=0.03, max_depth=6, min_child_weight=5, missing=-999, seed=1337, silent=1, subsample=0.8 \n",
      "[CV]  colsample_bytree=0.8, learning_rate=0.03, max_depth=5, min_child_weight=11, missing=-999, seed=1337, silent=1, subsample=0.8 - 8.6min\n",
      "[CV] colsample_bytree=0.8, learning_rate=0.03, max_depth=6, min_child_weight=5, missing=-999, seed=1337, silent=1, subsample=0.8 \n",
      "[CV]  colsample_bytree=0.8, learning_rate=0.03, max_depth=6, min_child_weight=5, missing=-999, seed=1337, silent=1, subsample=0.8 - 9.8min\n",
      "[CV] colsample_bytree=0.8, learning_rate=0.03, max_depth=6, min_child_weight=11, missing=-999, seed=1337, silent=1, subsample=0.8 \n",
      "[CV]  colsample_bytree=0.8, learning_rate=0.03, max_depth=6, min_child_weight=5, missing=-999, seed=1337, silent=1, subsample=0.8 - 9.7min\n",
      "[CV] colsample_bytree=0.8, learning_rate=0.03, max_depth=6, min_child_weight=11, missing=-999, seed=1337, silent=1, subsample=0.8 \n",
      "[CV]  colsample_bytree=0.8, learning_rate=0.03, max_depth=6, min_child_weight=5, missing=-999, seed=1337, silent=1, subsample=0.8 - 9.7min\n",
      "[CV] colsample_bytree=0.8, learning_rate=0.03, max_depth=6, min_child_weight=11, missing=-999, seed=1337, silent=1, subsample=0.8 \n",
      "[CV]  colsample_bytree=0.8, learning_rate=0.03, max_depth=6, min_child_weight=5, missing=-999, seed=1337, silent=1, subsample=0.8 - 9.8min\n",
      "[CV] colsample_bytree=0.8, learning_rate=0.03, max_depth=6, min_child_weight=11, missing=-999, seed=1337, silent=1, subsample=0.8 \n",
      "[CV]  colsample_bytree=0.8, learning_rate=0.03, max_depth=6, min_child_weight=5, missing=-999, seed=1337, silent=1, subsample=0.8 - 9.8min\n",
      "[CV] colsample_bytree=0.8, learning_rate=0.03, max_depth=6, min_child_weight=11, missing=-999, seed=1337, silent=1, subsample=0.8 \n",
      "[CV]  colsample_bytree=0.8, learning_rate=0.03, max_depth=6, min_child_weight=5, missing=-999, seed=1337, silent=1, subsample=0.8 - 9.8min\n",
      "[CV] colsample_bytree=0.8, learning_rate=0.03, max_depth=6, min_child_weight=11, missing=-999, seed=1337, silent=1, subsample=0.8 \n",
      "[CV]  colsample_bytree=0.8, learning_rate=0.03, max_depth=6, min_child_weight=5, missing=-999, seed=1337, silent=1, subsample=0.8 - 9.8min\n",
      "[CV] colsample_bytree=0.8, learning_rate=0.03, max_depth=6, min_child_weight=11, missing=-999, seed=1337, silent=1, subsample=0.8 \n",
      "[CV]  colsample_bytree=0.8, learning_rate=0.03, max_depth=6, min_child_weight=5, missing=-999, seed=1337, silent=1, subsample=0.8 - 9.7min\n",
      "[CV] colsample_bytree=0.8, learning_rate=0.03, max_depth=6, min_child_weight=11, missing=-999, seed=1337, silent=1, subsample=0.8 \n",
      "[CV]  colsample_bytree=0.8, learning_rate=0.03, max_depth=6, min_child_weight=5, missing=-999, seed=1337, silent=1, subsample=0.8 - 9.6min\n",
      "[CV] colsample_bytree=0.8, learning_rate=0.03, max_depth=6, min_child_weight=11, missing=-999, seed=1337, silent=1, subsample=0.8 \n",
      "[CV]  colsample_bytree=0.8, learning_rate=0.03, max_depth=6, min_child_weight=5, missing=-999, seed=1337, silent=1, subsample=0.8 - 9.7min\n",
      "[CV] colsample_bytree=0.8, learning_rate=0.03, max_depth=6, min_child_weight=11, missing=-999, seed=1337, silent=1, subsample=0.8 \n",
      "[CV]  colsample_bytree=0.8, learning_rate=0.03, max_depth=6, min_child_weight=11, missing=-999, seed=1337, silent=1, subsample=0.8 - 9.4min\n",
      "[CV]  colsample_bytree=0.8, learning_rate=0.03, max_depth=6, min_child_weight=11, missing=-999, seed=1337, silent=1, subsample=0.8 - 9.4min\n",
      "[CV]  colsample_bytree=0.8, learning_rate=0.03, max_depth=6, min_child_weight=11, missing=-999, seed=1337, silent=1, subsample=0.8 - 9.1min\n",
      "[CV]  colsample_bytree=0.8, learning_rate=0.03, max_depth=6, min_child_weight=11, missing=-999, seed=1337, silent=1, subsample=0.8 - 9.5min\n",
      "[CV]  colsample_bytree=0.8, learning_rate=0.03, max_depth=6, min_child_weight=11, missing=-999, seed=1337, silent=1, subsample=0.8 - 9.0min\n",
      "[CV]  colsample_bytree=0.8, learning_rate=0.03, max_depth=6, min_child_weight=11, missing=-999, seed=1337, silent=1, subsample=0.8 - 8.8min\n",
      "[CV]  colsample_bytree=0.8, learning_rate=0.03, max_depth=6, min_child_weight=11, missing=-999, seed=1337, silent=1, subsample=0.8 - 9.2min\n"
     ]
    },
    {
     "name": "stdout",
     "output_type": "stream",
     "text": [
      "[CV]  colsample_bytree=0.8, learning_rate=0.03, max_depth=6, min_child_weight=11, missing=-999, seed=1337, silent=1, subsample=0.8 - 9.4min\n",
      "[CV]  colsample_bytree=0.8, learning_rate=0.03, max_depth=6, min_child_weight=11, missing=-999, seed=1337, silent=1, subsample=0.8 - 9.1min\n",
      "[CV]  colsample_bytree=0.8, learning_rate=0.03, max_depth=6, min_child_weight=11, missing=-999, seed=1337, silent=1, subsample=0.8 - 9.1min\n"
     ]
    },
    {
     "name": "stderr",
     "output_type": "stream",
     "text": [
      "[Parallel(n_jobs=10)]: Done 240 out of 240 | elapsed: 210.7min finished\n"
     ]
    },
    {
     "data": {
      "text/plain": [
       "GridSearchCV(cv=sklearn.cross_validation.StratifiedKFold(labels=[0 1 ..., 3 0], n_folds=5, shuffle=True, random_state=None),\n",
       "       error_score='raise',\n",
       "       estimator=XGBClassifier(base_score=0.5, booster='gbtree', colsample_bylevel=1,\n",
       "       colsample_bytree=1, gamma=0, learning_rate=0.1, max_delta_step=0,\n",
       "       max_depth=3, min_child_weight=1, missing=None, n_estimators=100,\n",
       "       n_jobs=1, nthread=None, objective='multi:softprob', random_state=0,\n",
       "       reg_alpha=0, reg_lambda=1,\n",
       "       sample_weight=array([ 4.57251,  6.40763, ...,  3.91212,  4.57251]),\n",
       "       scale_pos_weight=1, seed=None, silent=True, subsample=1),\n",
       "       fit_params={}, iid=True, n_jobs=10,\n",
       "       param_grid={'learning_rate': [0.02, 0.01, 0.03], 'max_depth': [5, 6], 'min_child_weight': [5, 11], 'silent': [1], 'subsample': [0.8, 0.8], 'colsample_bytree': [0.7, 0.8], 'missing': [-999], 'seed': [1337]},\n",
       "       pre_dispatch='2*n_jobs', refit=True, scoring='neg_log_loss',\n",
       "       verbose=2)"
      ]
     },
     "execution_count": 14,
     "metadata": {},
     "output_type": "execute_result"
    }
   ],
   "source": [
    "xgb_model = xgb.XGBClassifier(objective='multi:softprob', sample_weight=w)\n",
    "xgbParams = xgb_model.get_xgb_params()\n",
    "xgbParams['num_class'] = 9\n",
    "parameters = {\n",
    "              'learning_rate': [0.02, 0.01, 0.03], #so called `eta` value\n",
    "              'max_depth': [5,6],\n",
    "              'min_child_weight': [5,11],\n",
    "              'silent': [1],\n",
    "              'subsample': [0.8, 0.8],\n",
    "              'colsample_bytree': [0.7, 0.8],\n",
    "              'missing':[-999],\n",
    "              'seed': [1337]}\n",
    "\n",
    "\n",
    "clf = GridSearchCV(xgb_model, parameters, n_jobs=10, \n",
    "                   cv=StratifiedKFold(y, 5, True),\n",
    "                   scoring = 'neg_log_loss',\n",
    "                   verbose=2, refit=True)\n",
    "\n",
    "clf.fit(df_train, y) "
   ]
  },
  {
   "cell_type": "code",
   "execution_count": 15,
   "metadata": {},
   "outputs": [
    {
     "name": "stdout",
     "output_type": "stream",
     "text": [
      "-0.9878011259178897\n",
      "{'colsample_bytree': 0.8, 'learning_rate': 0.03, 'max_depth': 6, 'min_child_weight': 5, 'missing': -999, 'seed': 1337, 'silent': 1, 'subsample': 0.8}\n"
     ]
    }
   ],
   "source": [
    "print(clf.best_score_)\n",
    "print(clf.best_params_)\n",
    "\n",
    "# -1.4032872189073649\n",
    "# {'colsample_bytree': 0.7, 'learning_rate': 0.03, 'max_depth': 6, 'min_child_weight': 11,\n",
    "#  'missing': -999, 'nthread': 4, 'seed': 1337, 'silent': 1, 'subsample': 0.8}\n",
    "# scored 1.70423 on the public leaderboard, 2.40243 on the private leaderboard\n",
    "\n",
    "# -0.9878011259178897\n",
    "# {'colsample_bytree': 0.8, 'learning_rate': 0.03, 'max_depth': 6, 'min_child_weight': 5, \n",
    "#  'missing': -999, 'seed': 1337, 'silent': 1, 'subsample': 0.8}\n",
    "# 2.39785 stage2 private, 1.76875 stage2 public"
   ]
  },
  {
   "cell_type": "code",
   "execution_count": 16,
   "metadata": {},
   "outputs": [
    {
     "name": "stdout",
     "output_type": "stream",
     "text": [
      "colsample_bytree: 0.8\n",
      "learning_rate: 0.03\n",
      "max_depth: 6\n",
      "min_child_weight: 5\n",
      "missing: -999\n",
      "seed: 1337\n",
      "silent: 1\n",
      "subsample: 0.8\n"
     ]
    }
   ],
   "source": [
    "best_parameters, score, _ = max(clf.grid_scores_, key=lambda x: x[1])\n",
    "for param_name in sorted(best_parameters.keys()):\n",
    "    print(\"%s: %r\" % (param_name, best_parameters[param_name]))\n",
    "\n"
   ]
  },
  {
   "cell_type": "code",
   "execution_count": 17,
   "metadata": {
    "collapsed": true
   },
   "outputs": [],
   "source": [
    "test_probs = clf.predict_proba(df_test)"
   ]
  },
  {
   "cell_type": "code",
   "execution_count": 18,
   "metadata": {},
   "outputs": [
    {
     "data": {
      "text/plain": [
       "(986, 9)"
      ]
     },
     "execution_count": 18,
     "metadata": {},
     "output_type": "execute_result"
    }
   ],
   "source": [
    "test_probs.shape"
   ]
  },
  {
   "cell_type": "code",
   "execution_count": 19,
   "metadata": {},
   "outputs": [
    {
     "name": "stdout",
     "output_type": "stream",
     "text": [
      "[[ 0.33049321  0.06149287  0.05308967 ...,  0.05455594  0.04212979\n",
      "   0.03629088]\n",
      " [ 0.68748361  0.04168593  0.02672858 ...,  0.07167713  0.02397234\n",
      "   0.02268044]\n",
      " [ 0.07840352  0.12953877  0.03945153 ...,  0.18681523  0.04965307\n",
      "   0.03312046]\n",
      " ..., \n",
      " [ 0.15991221  0.25659147  0.09603902 ...,  0.08183043  0.04435106\n",
      "   0.04458332]\n",
      " [ 0.09167782  0.09034436  0.05185667 ...,  0.18306001  0.03573376\n",
      "   0.04422927]\n",
      " [ 0.25500301  0.21611592  0.04664295 ...,  0.13935812  0.04523982\n",
      "   0.04633448]]\n"
     ]
    }
   ],
   "source": [
    "print(test_probs)"
   ]
  },
  {
   "cell_type": "code",
   "execution_count": 32,
   "metadata": {
    "collapsed": true
   },
   "outputs": [],
   "source": [
    "test_probs = test_probs.clip(min=0.05, max=0.95) # hack for kaggle since kaggle punishes severly if you predict \n",
    "# 1 and it is 0"
   ]
  },
  {
   "cell_type": "code",
   "execution_count": 33,
   "metadata": {
    "collapsed": true
   },
   "outputs": [],
   "source": [
    "submission = pd.DataFrame(test_probs, columns=['class'+str(c+1) for c in range(9)])\n",
    "submission['ID'] = pid\n",
    "submission.to_csv('../submissions/subm_xgb_stage2_with_gridcv.csv', index=False)\n"
   ]
  },
  {
   "cell_type": "code",
   "execution_count": null,
   "metadata": {
    "collapsed": true
   },
   "outputs": [],
   "source": [
    "# scored 1.70423 on the public leaderboard, 2.40243 on the private leaderboard"
   ]
  },
  {
   "cell_type": "code",
   "execution_count": 21,
   "metadata": {
    "collapsed": true
   },
   "outputs": [],
   "source": [
    "save_classifier('../cache/xgb_clf.pkl', clf)"
   ]
  },
  {
   "cell_type": "code",
   "execution_count": 22,
   "metadata": {
    "collapsed": true
   },
   "outputs": [],
   "source": [
    "# now get the CV score"
   ]
  },
  {
   "cell_type": "code",
   "execution_count": 23,
   "metadata": {
    "collapsed": true
   },
   "outputs": [],
   "source": [
    "x1 = np.load('../cache/train_stage2_x1.npy')\n",
    "x2 = np.load('../cache/train_stage2_x2.npy')\n",
    "y1 = np.load('../cache/train_stage2_y1.npy')\n",
    "y2 = np.load('../cache/train_stage2_y2.npy')\n",
    "\n",
    "w1 = np.array([wts_per_class[j] for j in y1], )\n",
    "w2 = np.array([wts_per_class[j] for j in y2], )"
   ]
  },
  {
   "cell_type": "code",
   "execution_count": 24,
   "metadata": {},
   "outputs": [],
   "source": []
  },
  {
   "cell_type": "code",
   "execution_count": 26,
   "metadata": {},
   "outputs": [],
   "source": [
    "params = {\n",
    "    'objective': 'multi:softprob', 'eval_metric': 'mlogloss',\n",
    "    'colsample_bytree': 0.8, 'learning_rate': 0.03, 'max_depth': 6, \n",
    "    'min_child_weight': 5, 'missing': -999, 'nthread': 4, 'seed': 1337, \n",
    "    'silent': 1, 'subsample': 0.8\n",
    "}\n",
    "clf = xgb.XGBClassifier(**params)"
   ]
  },
  {
   "cell_type": "code",
   "execution_count": 27,
   "metadata": {},
   "outputs": [
    {
     "data": {
      "text/plain": [
       "array([1, 2, 3, 4, 5, 6, 7, 8, 9])"
      ]
     },
     "execution_count": 27,
     "metadata": {},
     "output_type": "execute_result"
    }
   ],
   "source": [
    "np.unique(y2)"
   ]
  },
  {
   "cell_type": "code",
   "execution_count": 28,
   "metadata": {
    "collapsed": true
   },
   "outputs": [],
   "source": [
    "y1= y1 - 1 #fix for zero bound array\n",
    "y2 = y2-1"
   ]
  },
  {
   "cell_type": "code",
   "execution_count": 29,
   "metadata": {},
   "outputs": [
    {
     "data": {
      "text/plain": [
       "XGBClassifier(base_score=0.5, booster='gbtree', colsample_bylevel=1,\n",
       "       colsample_bytree=0.8, eval_metric='mlogloss', gamma=0,\n",
       "       learning_rate=0.03, max_delta_step=0, max_depth=6,\n",
       "       min_child_weight=5, missing=-999, n_estimators=100, n_jobs=1,\n",
       "       nthread=4, objective='multi:softprob', random_state=0, reg_alpha=0,\n",
       "       reg_lambda=1, scale_pos_weight=1, seed=1337, silent=1,\n",
       "       subsample=0.8)"
      ]
     },
     "execution_count": 29,
     "metadata": {},
     "output_type": "execute_result"
    }
   ],
   "source": [
    "clf.fit(x1, y1, sample_weight=w1)"
   ]
  },
  {
   "cell_type": "code",
   "execution_count": 30,
   "metadata": {},
   "outputs": [
    {
     "name": "stdout",
     "output_type": "stream",
     "text": [
      "[[ 0.15708803  0.17165062  0.05956545 ...,  0.13615917  0.05413428\n",
      "   0.06323037]\n",
      " [ 0.18408817  0.17899454  0.04392019 ...,  0.21083157  0.08432684\n",
      "   0.04044345]\n",
      " [ 0.68083388  0.03023573  0.03602589 ...,  0.0237685   0.02016535\n",
      "   0.01887462]\n",
      " ..., \n",
      " [ 0.08288088  0.03511532  0.03581681 ...,  0.03521154  0.03064454\n",
      "   0.03060152]\n",
      " [ 0.06455959  0.0630419   0.0339923  ...,  0.06395639  0.02938597\n",
      "   0.02933312]\n",
      " [ 0.82741207  0.02686219  0.01165848 ...,  0.01620625  0.01778851\n",
      "   0.01041117]]\n"
     ]
    }
   ],
   "source": [
    "test_preds = clf.predict_proba(x2)\n",
    "print(test_preds)"
   ]
  },
  {
   "cell_type": "code",
   "execution_count": 31,
   "metadata": {},
   "outputs": [
    {
     "name": "stdout",
     "output_type": "stream",
     "text": [
      "final multi_log_loss: 0.9736272455230961\n",
      "final f1_score: 0.7005420054200542\n",
      "final accuracy: 0.7005420054200542\n",
      "[[ 90   0   3  17  15   1   3   0   0]\n",
      " [  3  60   0   2   2   2  37   0   0]\n",
      " [  0   0  15   4   4   0   1   0   0]\n",
      " [ 17   2   5 106   5   1   5   0   0]\n",
      " [  6   1   0   3  39   1   3   0   1]\n",
      " [  6   4   1   1   5  34   4   0   0]\n",
      " [  1  36  11   5   0   0 167   0   1]\n",
      " [  0   0   0   0   0   0   1   1   0]\n",
      " [  0   1   0   0   0   0   0   0   5]]\n"
     ]
    }
   ],
   "source": [
    "score2 = log_loss(y2, test_preds, labels = list(range(9)))\n",
    "print('final multi_log_loss: {}'.format(score2))\n",
    "\n",
    "fscore = f1_score(y2, test_preds.argmax(axis=1), labels = list(range(9)), average='micro')\n",
    "print('final f1_score: {}'.format(fscore))\n",
    "\n",
    "acc = accuracy_score(y2, test_preds.argmax(axis=1))\n",
    "print('final accuracy: {}'.format(acc))\n",
    "\n",
    "print(confusion_matrix(y2, test_preds.argmax(axis=1), labels = list(range(9))))"
   ]
  },
  {
   "cell_type": "code",
   "execution_count": null,
   "metadata": {
    "collapsed": true
   },
   "outputs": [],
   "source": []
  }
 ],
 "metadata": {
  "kernelspec": {
   "display_name": "Python 3",
   "language": "python",
   "name": "python3"
  },
  "language_info": {
   "codemirror_mode": {
    "name": "ipython",
    "version": 3
   },
   "file_extension": ".py",
   "mimetype": "text/x-python",
   "name": "python",
   "nbconvert_exporter": "python",
   "pygments_lexer": "ipython3",
   "version": "3.6.1"
  }
 },
 "nbformat": 4,
 "nbformat_minor": 2
}
