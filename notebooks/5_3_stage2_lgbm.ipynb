{
 "cells": [
  {
   "cell_type": "code",
   "execution_count": 1,
   "metadata": {},
   "outputs": [
    {
     "name": "stderr",
     "output_type": "stream",
     "text": [
      "/home/watts/anaconda2/envs/aind-dog/lib/python3.6/site-packages/sklearn/cross_validation.py:41: DeprecationWarning: This module was deprecated in version 0.18 in favor of the model_selection module into which all the refactored classes and functions are moved. Also note that the interface of the new CV iterators are different from that of this module. This module will be removed in 0.20.\n",
      "  \"This module will be removed in 0.20.\", DeprecationWarning)\n"
     ]
    }
   ],
   "source": [
    "import numpy as np\n",
    "import pandas as pd\n",
    "import sys\n",
    "\n",
    "from sklearn.metrics import log_loss, confusion_matrix, f1_score, accuracy_score\n",
    "from sklearn.model_selection import GridSearchCV\n",
    "from sklearn.cross_validation import StratifiedKFold\n",
    "from sklearn.model_selection import train_test_split\n",
    "\n",
    "\n",
    "from lightgbm import LGBMClassifier"
   ]
  },
  {
   "cell_type": "code",
   "execution_count": 2,
   "metadata": {},
   "outputs": [
    {
     "name": "stdout",
     "output_type": "stream",
     "text": [
      "{1: 4.572507552870091, 2: 6.407630522088353, 3: 37.427083333333336, 4: 3.912117177097204, 5: 12.816479400749063, 6: 11.42087542087542, 7: 2.5, 8: 174.66666666666666, 9: 84.79069767441861}\n"
     ]
    }
   ],
   "source": [
    "df_train = np.load('../cache/train_stage2_fe2.npy')\n",
    "df_test = np.load('../cache/test_stage2_fe2.npy')\n",
    "df = pd.read_csv('../cache/stage2_labels.csv')\n",
    "y = df['y'].values\n",
    "\n",
    "df = pd.read_csv('../cache/stage2_test_id.csv')\n",
    "pid = df.ID.values\n",
    "\n",
    "wts_per_class = np.load('../cache/stage2_train_weights_per_class.npy')\n",
    "wts_per_class = wts_per_class.tolist()\n",
    "print(wts_per_class)"
   ]
  },
  {
   "cell_type": "code",
   "execution_count": 3,
   "metadata": {
    "collapsed": true
   },
   "outputs": [],
   "source": [
    "w = np.array([wts_per_class[j] for j in y],)"
   ]
  },
  {
   "cell_type": "code",
   "execution_count": 4,
   "metadata": {
    "collapsed": true
   },
   "outputs": [],
   "source": [
    "# params = {\n",
    "#     'boosting_type': 'gbdt',\n",
    "#     'objective': 'multiclass',\n",
    "#     'metric': 'multi_logloss',\n",
    "#     'num_leaves': 50,\n",
    "#     'learning_rate': 0.05,\n",
    "#     'feature_fraction': 0.9,\n",
    "#     'bagging_fraction': 0.8,\n",
    "#     'colsample_bytree': 0.8,\n",
    "#     'n_estimators': 500,\n",
    "#     'verbose': 1\n",
    "# }\n",
    "\n",
    "params = {'num_leaves':[150,200], 'max_depth':[7,10],\n",
    "          'learning_rate':[0.05,0.03],'max_bin':[100,200], 'n_estimators': [200]}\n",
    "\n",
    "\n",
    "lgbm = LGBMClassifier(objective='multiclass', sample_weight=w)\n",
    "\n",
    "\n",
    "\n",
    "clf = GridSearchCV(lgbm, params, n_jobs=4, \n",
    "                   cv=StratifiedKFold(y, 5, True),\n",
    "                   scoring = 'neg_log_loss',\n",
    "                   verbose=2, refit=True)\n",
    "\n"
   ]
  },
  {
   "cell_type": "code",
   "execution_count": 5,
   "metadata": {},
   "outputs": [
    {
     "name": "stdout",
     "output_type": "stream",
     "text": [
      "Fitting 5 folds for each of 16 candidates, totalling 80 fits\n",
      "[CV] learning_rate=0.05, max_bin=100, max_depth=7, n_estimators=200, num_leaves=150 \n",
      "[CV] learning_rate=0.05, max_bin=100, max_depth=7, n_estimators=200, num_leaves=150 \n",
      "[CV] learning_rate=0.05, max_bin=100, max_depth=7, n_estimators=200, num_leaves=150 \n",
      "[CV] learning_rate=0.05, max_bin=100, max_depth=7, n_estimators=200, num_leaves=150 \n",
      "[CV]  learning_rate=0.05, max_bin=100, max_depth=7, n_estimators=200, num_leaves=150, total=47.1min\n",
      "[CV] learning_rate=0.05, max_bin=100, max_depth=7, n_estimators=200, num_leaves=150 \n",
      "[CV]  learning_rate=0.05, max_bin=100, max_depth=7, n_estimators=200, num_leaves=150, total=47.8min\n",
      "[CV] learning_rate=0.05, max_bin=100, max_depth=7, n_estimators=200, num_leaves=200 \n",
      "[CV]  learning_rate=0.05, max_bin=100, max_depth=7, n_estimators=200, num_leaves=150, total=48.0min\n",
      "[CV] learning_rate=0.05, max_bin=100, max_depth=7, n_estimators=200, num_leaves=200 \n",
      "[CV]  learning_rate=0.05, max_bin=100, max_depth=7, n_estimators=200, num_leaves=150, total=48.2min\n",
      "[CV] learning_rate=0.05, max_bin=100, max_depth=7, n_estimators=200, num_leaves=200 \n",
      "[CV]  learning_rate=0.05, max_bin=100, max_depth=7, n_estimators=200, num_leaves=200, total=36.2min\n",
      "[CV] learning_rate=0.05, max_bin=100, max_depth=7, n_estimators=200, num_leaves=200 \n",
      "[CV]  learning_rate=0.05, max_bin=100, max_depth=7, n_estimators=200, num_leaves=150, total=37.0min\n",
      "[CV] learning_rate=0.05, max_bin=100, max_depth=7, n_estimators=200, num_leaves=200 \n",
      "[CV]  learning_rate=0.05, max_bin=100, max_depth=7, n_estimators=200, num_leaves=200, total=36.7min\n",
      "[CV] learning_rate=0.05, max_bin=100, max_depth=10, n_estimators=200, num_leaves=150 \n",
      "[CV]  learning_rate=0.05, max_bin=100, max_depth=7, n_estimators=200, num_leaves=200, total=37.5min\n",
      "[CV] learning_rate=0.05, max_bin=100, max_depth=10, n_estimators=200, num_leaves=150 \n",
      "[CV]  learning_rate=0.05, max_bin=100, max_depth=7, n_estimators=200, num_leaves=200, total=36.6min\n",
      "[CV] learning_rate=0.05, max_bin=100, max_depth=10, n_estimators=200, num_leaves=150 \n",
      "[CV]  learning_rate=0.05, max_bin=100, max_depth=7, n_estimators=200, num_leaves=200, total=36.8min\n",
      "[CV] learning_rate=0.05, max_bin=100, max_depth=10, n_estimators=200, num_leaves=150 \n",
      "[CV]  learning_rate=0.05, max_bin=100, max_depth=10, n_estimators=200, num_leaves=150, total=50.2min\n",
      "[CV] learning_rate=0.05, max_bin=100, max_depth=10, n_estimators=200, num_leaves=150 \n",
      "[CV]  learning_rate=0.05, max_bin=100, max_depth=10, n_estimators=200, num_leaves=150, total=50.2min\n",
      "[CV] learning_rate=0.05, max_bin=100, max_depth=10, n_estimators=200, num_leaves=200 \n",
      "[CV]  learning_rate=0.05, max_bin=100, max_depth=10, n_estimators=200, num_leaves=150, total=50.3min\n",
      "[CV] learning_rate=0.05, max_bin=100, max_depth=10, n_estimators=200, num_leaves=200 \n",
      "[CV]  learning_rate=0.05, max_bin=100, max_depth=10, n_estimators=200, num_leaves=150, total=50.7min\n",
      "[CV] learning_rate=0.05, max_bin=100, max_depth=10, n_estimators=200, num_leaves=200 \n",
      "[CV]  learning_rate=0.05, max_bin=100, max_depth=10, n_estimators=200, num_leaves=150, total=50.7min\n",
      "[CV] learning_rate=0.05, max_bin=100, max_depth=10, n_estimators=200, num_leaves=200 \n",
      "[CV]  learning_rate=0.05, max_bin=100, max_depth=10, n_estimators=200, num_leaves=200, total=49.9min\n",
      "[CV] learning_rate=0.05, max_bin=100, max_depth=10, n_estimators=200, num_leaves=200 \n",
      "[CV]  learning_rate=0.05, max_bin=100, max_depth=10, n_estimators=200, num_leaves=200, total=50.3min\n",
      "[CV] learning_rate=0.05, max_bin=200, max_depth=7, n_estimators=200, num_leaves=150 \n",
      "[CV]  learning_rate=0.05, max_bin=100, max_depth=10, n_estimators=200, num_leaves=200, total=50.4min\n",
      "[CV] learning_rate=0.05, max_bin=200, max_depth=7, n_estimators=200, num_leaves=150 \n",
      "[CV]  learning_rate=0.05, max_bin=100, max_depth=10, n_estimators=200, num_leaves=200, total=49.7min\n",
      "[CV] learning_rate=0.05, max_bin=200, max_depth=7, n_estimators=200, num_leaves=150 \n",
      "[CV]  learning_rate=0.05, max_bin=100, max_depth=10, n_estimators=200, num_leaves=200, total=49.6min\n",
      "[CV] learning_rate=0.05, max_bin=200, max_depth=7, n_estimators=200, num_leaves=150 \n",
      "[CV]  learning_rate=0.05, max_bin=200, max_depth=7, n_estimators=200, num_leaves=150, total=36.3min\n",
      "[CV] learning_rate=0.05, max_bin=200, max_depth=7, n_estimators=200, num_leaves=150 \n",
      "[CV]  learning_rate=0.05, max_bin=200, max_depth=7, n_estimators=200, num_leaves=150, total=36.7min\n",
      "[CV] learning_rate=0.05, max_bin=200, max_depth=7, n_estimators=200, num_leaves=200 \n",
      "[CV]  learning_rate=0.05, max_bin=200, max_depth=7, n_estimators=200, num_leaves=150, total=36.7min\n",
      "[CV] learning_rate=0.05, max_bin=200, max_depth=7, n_estimators=200, num_leaves=200 \n",
      "[CV]  learning_rate=0.05, max_bin=200, max_depth=7, n_estimators=200, num_leaves=150, total=37.7min\n",
      "[CV] learning_rate=0.05, max_bin=200, max_depth=7, n_estimators=200, num_leaves=200 \n",
      "[CV]  learning_rate=0.05, max_bin=200, max_depth=7, n_estimators=200, num_leaves=150, total=37.7min\n",
      "[CV] learning_rate=0.05, max_bin=200, max_depth=7, n_estimators=200, num_leaves=200 \n",
      "[CV]  learning_rate=0.05, max_bin=200, max_depth=7, n_estimators=200, num_leaves=200, total=37.4min\n",
      "[CV] learning_rate=0.05, max_bin=200, max_depth=7, n_estimators=200, num_leaves=200 \n",
      "[CV]  learning_rate=0.05, max_bin=200, max_depth=7, n_estimators=200, num_leaves=200, total=37.6min\n",
      "[CV] learning_rate=0.05, max_bin=200, max_depth=10, n_estimators=200, num_leaves=150 \n",
      "[CV]  learning_rate=0.05, max_bin=200, max_depth=7, n_estimators=200, num_leaves=200, total=38.0min\n",
      "[CV] learning_rate=0.05, max_bin=200, max_depth=10, n_estimators=200, num_leaves=150 \n",
      "[CV]  learning_rate=0.05, max_bin=200, max_depth=7, n_estimators=200, num_leaves=200, total=37.3min\n",
      "[CV] learning_rate=0.05, max_bin=200, max_depth=10, n_estimators=200, num_leaves=150 \n",
      "[CV]  learning_rate=0.05, max_bin=200, max_depth=7, n_estimators=200, num_leaves=200, total=37.8min\n",
      "[CV] learning_rate=0.05, max_bin=200, max_depth=10, n_estimators=200, num_leaves=150 \n",
      "[CV]  learning_rate=0.05, max_bin=200, max_depth=10, n_estimators=200, num_leaves=150, total=51.1min\n",
      "[CV] learning_rate=0.05, max_bin=200, max_depth=10, n_estimators=200, num_leaves=150 \n",
      "[CV]  learning_rate=0.05, max_bin=200, max_depth=10, n_estimators=200, num_leaves=150, total=52.1min\n",
      "[CV] learning_rate=0.05, max_bin=200, max_depth=10, n_estimators=200, num_leaves=200 \n",
      "[CV]  learning_rate=0.05, max_bin=200, max_depth=10, n_estimators=200, num_leaves=150, total=51.4min\n",
      "[CV] learning_rate=0.05, max_bin=200, max_depth=10, n_estimators=200, num_leaves=200 \n"
     ]
    },
    {
     "name": "stderr",
     "output_type": "stream",
     "text": [
      "[Parallel(n_jobs=4)]: Done  33 tasks      | elapsed: 384.3min\n"
     ]
    },
    {
     "name": "stdout",
     "output_type": "stream",
     "text": [
      "[CV]  learning_rate=0.05, max_bin=200, max_depth=10, n_estimators=200, num_leaves=150, total=51.2min\n",
      "[CV] learning_rate=0.05, max_bin=200, max_depth=10, n_estimators=200, num_leaves=200 \n",
      "[CV]  learning_rate=0.05, max_bin=200, max_depth=10, n_estimators=200, num_leaves=150, total=51.4min\n",
      "[CV] learning_rate=0.05, max_bin=200, max_depth=10, n_estimators=200, num_leaves=200 \n",
      "[CV]  learning_rate=0.05, max_bin=200, max_depth=10, n_estimators=200, num_leaves=200, total=51.3min\n",
      "[CV] learning_rate=0.05, max_bin=200, max_depth=10, n_estimators=200, num_leaves=200 \n",
      "[CV]  learning_rate=0.05, max_bin=200, max_depth=10, n_estimators=200, num_leaves=200, total=52.1min\n",
      "[CV] learning_rate=0.03, max_bin=100, max_depth=7, n_estimators=200, num_leaves=150 \n",
      "[CV]  learning_rate=0.05, max_bin=200, max_depth=10, n_estimators=200, num_leaves=200, total=51.5min\n",
      "[CV] learning_rate=0.03, max_bin=100, max_depth=7, n_estimators=200, num_leaves=150 \n",
      "[CV]  learning_rate=0.05, max_bin=200, max_depth=10, n_estimators=200, num_leaves=200, total=51.2min\n",
      "[CV] learning_rate=0.03, max_bin=100, max_depth=7, n_estimators=200, num_leaves=150 \n",
      "[CV]  learning_rate=0.05, max_bin=200, max_depth=10, n_estimators=200, num_leaves=200, total=51.3min\n",
      "[CV] learning_rate=0.03, max_bin=100, max_depth=7, n_estimators=200, num_leaves=150 \n",
      "[CV]  learning_rate=0.03, max_bin=100, max_depth=7, n_estimators=200, num_leaves=150, total=42.3min\n",
      "[CV] learning_rate=0.03, max_bin=100, max_depth=7, n_estimators=200, num_leaves=150 \n",
      "[CV]  learning_rate=0.03, max_bin=100, max_depth=7, n_estimators=200, num_leaves=150, total=43.5min\n",
      "[CV] learning_rate=0.03, max_bin=100, max_depth=7, n_estimators=200, num_leaves=200 \n",
      "[CV]  learning_rate=0.03, max_bin=100, max_depth=7, n_estimators=200, num_leaves=150, total=44.5min\n",
      "[CV] learning_rate=0.03, max_bin=100, max_depth=7, n_estimators=200, num_leaves=200 \n",
      "[CV]  learning_rate=0.03, max_bin=100, max_depth=7, n_estimators=200, num_leaves=150, total=43.0min\n",
      "[CV] learning_rate=0.03, max_bin=100, max_depth=7, n_estimators=200, num_leaves=200 \n",
      "[CV]  learning_rate=0.03, max_bin=100, max_depth=7, n_estimators=200, num_leaves=200, total=42.1min\n",
      "[CV] learning_rate=0.03, max_bin=100, max_depth=7, n_estimators=200, num_leaves=200 \n",
      "[CV]  learning_rate=0.03, max_bin=100, max_depth=7, n_estimators=200, num_leaves=150, total=43.6min\n",
      "[CV] learning_rate=0.03, max_bin=100, max_depth=7, n_estimators=200, num_leaves=200 \n",
      "[CV]  learning_rate=0.03, max_bin=100, max_depth=7, n_estimators=200, num_leaves=200, total=43.6min\n",
      "[CV] learning_rate=0.03, max_bin=100, max_depth=10, n_estimators=200, num_leaves=150 \n",
      "[CV]  learning_rate=0.03, max_bin=100, max_depth=7, n_estimators=200, num_leaves=200, total=44.1min\n",
      "[CV] learning_rate=0.03, max_bin=100, max_depth=10, n_estimators=200, num_leaves=150 \n",
      "[CV]  learning_rate=0.03, max_bin=100, max_depth=7, n_estimators=200, num_leaves=200, total=43.1min\n",
      "[CV] learning_rate=0.03, max_bin=100, max_depth=10, n_estimators=200, num_leaves=150 \n",
      "[CV]  learning_rate=0.03, max_bin=100, max_depth=7, n_estimators=200, num_leaves=200, total=43.4min\n",
      "[CV] learning_rate=0.03, max_bin=100, max_depth=10, n_estimators=200, num_leaves=150 \n",
      "[CV]  learning_rate=0.03, max_bin=100, max_depth=10, n_estimators=200, num_leaves=150, total=64.3min\n",
      "[CV] learning_rate=0.03, max_bin=100, max_depth=10, n_estimators=200, num_leaves=150 \n",
      "[CV]  learning_rate=0.03, max_bin=100, max_depth=10, n_estimators=200, num_leaves=150, total=66.2min\n",
      "[CV] learning_rate=0.03, max_bin=100, max_depth=10, n_estimators=200, num_leaves=200 \n",
      "[CV]  learning_rate=0.03, max_bin=100, max_depth=10, n_estimators=200, num_leaves=150, total=64.8min\n",
      "[CV] learning_rate=0.03, max_bin=100, max_depth=10, n_estimators=200, num_leaves=200 \n",
      "[CV]  learning_rate=0.03, max_bin=100, max_depth=10, n_estimators=200, num_leaves=150, total=65.8min\n",
      "[CV] learning_rate=0.03, max_bin=100, max_depth=10, n_estimators=200, num_leaves=200 \n",
      "[CV]  learning_rate=0.03, max_bin=100, max_depth=10, n_estimators=200, num_leaves=150, total=65.8min\n",
      "[CV] learning_rate=0.03, max_bin=100, max_depth=10, n_estimators=200, num_leaves=200 \n",
      "[CV]  learning_rate=0.03, max_bin=100, max_depth=10, n_estimators=200, num_leaves=200, total=64.4min\n",
      "[CV] learning_rate=0.03, max_bin=100, max_depth=10, n_estimators=200, num_leaves=200 \n",
      "[CV]  learning_rate=0.03, max_bin=100, max_depth=10, n_estimators=200, num_leaves=200, total=66.3min\n",
      "[CV] learning_rate=0.03, max_bin=200, max_depth=7, n_estimators=200, num_leaves=150 \n",
      "[CV]  learning_rate=0.03, max_bin=100, max_depth=10, n_estimators=200, num_leaves=200, total=65.8min\n",
      "[CV] learning_rate=0.03, max_bin=200, max_depth=7, n_estimators=200, num_leaves=150 \n",
      "[CV]  learning_rate=0.03, max_bin=200, max_depth=7, n_estimators=200, num_leaves=150, total=42.5min\n",
      "[CV] learning_rate=0.03, max_bin=200, max_depth=7, n_estimators=200, num_leaves=150 \n",
      "[CV]  learning_rate=0.03, max_bin=200, max_depth=7, n_estimators=200, num_leaves=150, total=43.4min\n",
      "[CV] learning_rate=0.03, max_bin=200, max_depth=7, n_estimators=200, num_leaves=150 \n",
      "[CV]  learning_rate=0.03, max_bin=100, max_depth=10, n_estimators=200, num_leaves=200, total=65.3min\n",
      "[CV] learning_rate=0.03, max_bin=200, max_depth=7, n_estimators=200, num_leaves=150 \n",
      "[CV]  learning_rate=0.03, max_bin=100, max_depth=10, n_estimators=200, num_leaves=200, total=66.0min\n",
      "[CV] learning_rate=0.03, max_bin=200, max_depth=7, n_estimators=200, num_leaves=200 \n",
      "[CV]  learning_rate=0.03, max_bin=200, max_depth=7, n_estimators=200, num_leaves=150, total=42.7min\n",
      "[CV] learning_rate=0.03, max_bin=200, max_depth=7, n_estimators=200, num_leaves=200 \n",
      "[CV]  learning_rate=0.03, max_bin=200, max_depth=7, n_estimators=200, num_leaves=150, total=44.0min\n",
      "[CV] learning_rate=0.03, max_bin=200, max_depth=7, n_estimators=200, num_leaves=200 \n",
      "[CV]  learning_rate=0.03, max_bin=200, max_depth=7, n_estimators=200, num_leaves=150, total=43.6min\n",
      "[CV] learning_rate=0.03, max_bin=200, max_depth=7, n_estimators=200, num_leaves=200 \n",
      "[CV]  learning_rate=0.03, max_bin=200, max_depth=7, n_estimators=200, num_leaves=200, total=42.3min\n",
      "[CV] learning_rate=0.03, max_bin=200, max_depth=7, n_estimators=200, num_leaves=200 \n",
      "[CV]  learning_rate=0.03, max_bin=200, max_depth=7, n_estimators=200, num_leaves=200, total=43.4min\n",
      "[CV] learning_rate=0.03, max_bin=200, max_depth=10, n_estimators=200, num_leaves=150 \n",
      "[CV]  learning_rate=0.03, max_bin=200, max_depth=7, n_estimators=200, num_leaves=200, total=44.1min\n",
      "[CV] learning_rate=0.03, max_bin=200, max_depth=10, n_estimators=200, num_leaves=150 \n",
      "[CV]  learning_rate=0.03, max_bin=200, max_depth=7, n_estimators=200, num_leaves=200, total=42.7min\n",
      "[CV] learning_rate=0.03, max_bin=200, max_depth=10, n_estimators=200, num_leaves=150 \n",
      "[CV]  learning_rate=0.03, max_bin=200, max_depth=7, n_estimators=200, num_leaves=200, total=43.9min\n",
      "[CV] learning_rate=0.03, max_bin=200, max_depth=10, n_estimators=200, num_leaves=150 \n",
      "[CV]  learning_rate=0.03, max_bin=200, max_depth=10, n_estimators=200, num_leaves=150, total=64.1min\n",
      "[CV] learning_rate=0.03, max_bin=200, max_depth=10, n_estimators=200, num_leaves=150 \n",
      "[CV]  learning_rate=0.03, max_bin=200, max_depth=10, n_estimators=200, num_leaves=150, total=66.5min\n",
      "[CV] learning_rate=0.03, max_bin=200, max_depth=10, n_estimators=200, num_leaves=200 \n",
      "[CV]  learning_rate=0.03, max_bin=200, max_depth=10, n_estimators=200, num_leaves=150, total=65.3min\n",
      "[CV] learning_rate=0.03, max_bin=200, max_depth=10, n_estimators=200, num_leaves=200 \n",
      "[CV]  learning_rate=0.03, max_bin=200, max_depth=10, n_estimators=200, num_leaves=150, total=64.4min\n",
      "[CV] learning_rate=0.03, max_bin=200, max_depth=10, n_estimators=200, num_leaves=200 \n",
      "[CV]  learning_rate=0.03, max_bin=200, max_depth=10, n_estimators=200, num_leaves=150, total=65.6min\n",
      "[CV] learning_rate=0.03, max_bin=200, max_depth=10, n_estimators=200, num_leaves=200 \n",
      "[CV]  learning_rate=0.03, max_bin=200, max_depth=10, n_estimators=200, num_leaves=200, total=64.3min\n",
      "[CV] learning_rate=0.03, max_bin=200, max_depth=10, n_estimators=200, num_leaves=200 \n",
      "[CV]  learning_rate=0.03, max_bin=200, max_depth=10, n_estimators=200, num_leaves=200, total=66.4min\n",
      "[CV]  learning_rate=0.03, max_bin=200, max_depth=10, n_estimators=200, num_leaves=200, total=65.3min\n"
     ]
    },
    {
     "name": "stdout",
     "output_type": "stream",
     "text": [
      "[CV]  learning_rate=0.03, max_bin=200, max_depth=10, n_estimators=200, num_leaves=200, total=28.9min\n",
      "[CV]  learning_rate=0.03, max_bin=200, max_depth=10, n_estimators=200, num_leaves=200, total=26.9min\n"
     ]
    },
    {
     "name": "stderr",
     "output_type": "stream",
     "text": [
      "[Parallel(n_jobs=4)]: Done  80 out of  80 | elapsed: 985.0min finished\n"
     ]
    },
    {
     "data": {
      "text/plain": [
       "GridSearchCV(cv=sklearn.cross_validation.StratifiedKFold(labels=[1 2 ..., 4 1], n_folds=5, shuffle=True, random_state=None),\n",
       "       error_score='raise',\n",
       "       estimator=LGBMClassifier(boosting_type='gbdt', colsample_bytree=1.0, learning_rate=0.1,\n",
       "        max_bin=255, max_depth=-1, min_child_samples=10,\n",
       "        min_child_weight=5, min_split_gain=0.0, n_estimators=10, n_jobs=-1,\n",
       "        num_leaves=31, objective='multiclass', random_state=0,\n",
       "        reg_alpha=0.0, reg_lambda=0.0,\n",
       "        sample_weight=array([ 4.57251,  6.40763, ...,  3.91212,  4.57251]),\n",
       "        silent=True, subsample=1.0, subsample_for_bin=50000,\n",
       "        subsample_freq=1),\n",
       "       fit_params=None, iid=True, n_jobs=4,\n",
       "       param_grid={'num_leaves': [150, 200], 'max_depth': [7, 10], 'learning_rate': [0.05, 0.03], 'max_bin': [100, 200], 'n_estimators': [200]},\n",
       "       pre_dispatch='2*n_jobs', refit=True, return_train_score='warn',\n",
       "       scoring='neg_log_loss', verbose=2)"
      ]
     },
     "execution_count": 5,
     "metadata": {},
     "output_type": "execute_result"
    }
   ],
   "source": [
    "clf.fit(df_train, y)"
   ]
  },
  {
   "cell_type": "code",
   "execution_count": 6,
   "metadata": {},
   "outputs": [
    {
     "name": "stdout",
     "output_type": "stream",
     "text": [
      "-0.871917791514\n",
      "{'learning_rate': 0.03, 'max_bin': 100, 'max_depth': 7, 'n_estimators': 200, 'num_leaves': 150}\n"
     ]
    }
   ],
   "source": [
    "print(clf.best_score_)\n",
    "print(clf.best_params_)\n",
    "\n",
    "# -1.87263813814\n",
    "# {'learning_rate': 0.05, 'max_bin': 100, 'max_depth': 7, 'n_estimators': 200, 'num_leaves': 150}\n",
    "#final multi_log_loss: 1.2407789319265683\n",
    "# final f1_score: 0.5135869565217391\n",
    "# final accuracy: 0.5135869565217391\n",
    "# [[53  1  1 24 11  0  4  0  0]\n",
    "#  [ 3 11  0  1  0  0 31  0  0]\n",
    "#  [ 1  0  1  2  0  0  3  0  0]\n",
    "#  [12  2  0 38  0  2 11  0  0]\n",
    "#  [ 6  0  0  6  7  5  1  0  0]\n",
    "#  [ 4  2  0  2  7  1  6  0  0]\n",
    "#  [ 1 13  1  7  4  0 75  0  0]\n",
    "#  [ 1  0  0  0  0  0  1  0  0]\n",
    "#  [ 1  0  0  1  0  0  1  0  3]]\n",
    "\n",
    "# -0.885334702923\n",
    "# {'learning_rate': 0.03, 'max_bin': 200, 'max_depth': 7, 'n_estimators': 200, 'num_leaves': 150}\n",
    "# imp: !!!!!!!!!!!! test labels?????????\n",
    "# final multi_log_loss: 1.2407789319265683\n",
    "# final f1_score: 0.5135869565217391\n",
    "# final accuracy: 0.5135869565217391\n",
    "# [[53  1  1 24 11  0  4  0  0]\n",
    "#  [ 3 11  0  1  0  0 31  0  0]\n",
    "#  [ 1  0  1  2  0  0  3  0  0]\n",
    "#  [12  2  0 38  0  2 11  0  0]\n",
    "#  [ 6  0  0  6  7  5  1  0  0]\n",
    "#  [ 4  2  0  2  7  1  6  0  0]\n",
    "#  [ 1 13  1  7  4  0 75  0  0]\n",
    "#  [ 1  0  0  0  0  0  1  0  0]\n",
    "#  [ 1  0  0  1  0  0  1  0  3]]\n",
    "\n",
    "#-0.871917791514\n",
    "# {'learning_rate': 0.03, 'max_bin': 100, 'max_depth': 7, 'n_estimators': 200, 'num_leaves': 150}\n",
    "\n"
   ]
  },
  {
   "cell_type": "code",
   "execution_count": 11,
   "metadata": {},
   "outputs": [
    {
     "name": "stdout",
     "output_type": "stream",
     "text": [
      "[[ 0.31318263  0.02497605  0.03084461 ...,  0.04175446  0.01697367\n",
      "   0.03246677]\n",
      " [ 0.87676647  0.03387073  0.00731554 ...,  0.01248632  0.01044598\n",
      "   0.00793319]\n",
      " [ 0.08155912  0.120782    0.03508653 ...,  0.29990438  0.08416308\n",
      "   0.0380386 ]\n",
      " ..., \n",
      " [ 0.16690811  0.2039015   0.08834835 ...,  0.05275838  0.02663067\n",
      "   0.01562058]\n",
      " [ 0.05823572  0.16886471  0.02484933 ...,  0.25140667  0.01988973\n",
      "   0.02358954]\n",
      " [ 0.37225815  0.30451184  0.01946348 ...,  0.10202609  0.03557978\n",
      "   0.02117382]]\n"
     ]
    }
   ],
   "source": [
    "test_preds = clf.predict_proba(df_test)\n",
    "print(test_preds)"
   ]
  },
  {
   "cell_type": "code",
   "execution_count": 12,
   "metadata": {
    "collapsed": true
   },
   "outputs": [],
   "source": [
    "test_preds = test_preds.clip(min=0.05, max=0.95) # hack for kaggle since kaggle punishes severly if you predict \n",
    "# 1 and it is 0"
   ]
  },
  {
   "cell_type": "code",
   "execution_count": 13,
   "metadata": {
    "collapsed": true
   },
   "outputs": [],
   "source": [
    "\n",
    "\n",
    "submission = pd.DataFrame(test_preds, columns=['class'+str(c+1) for c in range(9)])\n",
    "submission['ID'] = pid\n",
    "submission.to_csv('../submissions/subm_xgb_stage2_lgbm.csv', index=False)\n",
    "# 2.62613 on stage2 private LB, 1.77046 on stage2 public LB\n"
   ]
  },
  {
   "cell_type": "code",
   "execution_count": 5,
   "metadata": {},
   "outputs": [],
   "source": [
    "x1 = np.load('../cache/train_stage2_x1.npy')\n",
    "x2 = np.load('../cache/train_stage2_x2.npy')\n",
    "y1 = np.load('../cache/train_stage2_y1.npy')\n",
    "y2 = np.load('../cache/train_stage2_y2.npy')\n",
    "\n",
    "# w1 = np.array([wts_per_class[j] for j in y1], )\n",
    "# w2 = np.array([wts_per_class[j] for j in y2], )\n",
    "\n",
    "w1 = np.load('../cache/stage2_train_weights_per_class.npy').tolist()\n",
    "w2 = np.load('../cache/stage2_train_weights_per_class.npy').tolist()\n",
    "\n",
    "w1_p = np.array([w1[j] for j in y1], )\n",
    "w2_p = np.array([w2[j] for j in y2], )"
   ]
  },
  {
   "cell_type": "code",
   "execution_count": 6,
   "metadata": {
    "collapsed": true
   },
   "outputs": [],
   "source": [
    "best_params_ = {'learning_rate': 0.03, 'max_bin': 100, 'max_depth': 7, 'n_estimators': 200, 'num_leaves': 150}\n",
    "# clf1 = LGBMClassifier(** clf.best_params_)\n",
    "clf1 = LGBMClassifier(** best_params_)"
   ]
  },
  {
   "cell_type": "code",
   "execution_count": 8,
   "metadata": {},
   "outputs": [
    {
     "data": {
      "text/plain": [
       "LGBMClassifier(boosting_type='gbdt', colsample_bytree=1.0, learning_rate=0.03,\n",
       "        max_bin=100, max_depth=7, min_child_samples=10, min_child_weight=5,\n",
       "        min_split_gain=0.0, n_estimators=200, n_jobs=-1, num_leaves=150,\n",
       "        objective=None, random_state=0, reg_alpha=0.0, reg_lambda=0.0,\n",
       "        silent=True, subsample=1.0, subsample_for_bin=50000,\n",
       "        subsample_freq=1)"
      ]
     },
     "execution_count": 8,
     "metadata": {},
     "output_type": "execute_result"
    }
   ],
   "source": [
    "clf1.fit(x1, y1, sample_weight=w1_p, eval_metric='multi_logloss')"
   ]
  },
  {
   "cell_type": "code",
   "execution_count": 51,
   "metadata": {
    "collapsed": true
   },
   "outputs": [],
   "source": [
    "# Notes -\n",
    "# params = {\n",
    "#     'boosting_type': 'gbdt',\n",
    "#     'objective': 'multiclass',\n",
    "#     'metric': 'multi_logloss',\n",
    "#     'num_leaves': 50,\n",
    "#     'learning_rate': 0.05,\n",
    "#     'feature_fraction': 0.9,\n",
    "#     'bagging_fraction': 0.8,\n",
    "#     'colsample_bytree': 0.8,\n",
    "#     'n_estimators': 500,\n",
    "#     'verbose': 1\n",
    "# }\n",
    "# with above params we get\n",
    "# final multi_log_loss: 1.3155948686089638\n",
    "# final f1_score: 0.0517503805175038\n",
    "# final accuracy: 0.04619565217391304\n",
    "# [[ 0  1 26  7  4  6  0  0  0]\n",
    "#  [ 6  0  2  0  0 32  0  0  0]\n",
    "#  [ 0  1  2  0  0  3  0  0  0]\n",
    "#  [ 4  0 42  0  0  6  0  0  0]\n",
    "#  [ 0  0  7  1  8  3  0  0  0]\n",
    "#  [ 2  0  2  4  4  7  0  0  0]\n",
    "#  [11  4  4  1  1 80  0  0  0]\n",
    "#  [ 1  0  0  0  0  1  0  0  0]\n",
    "#  [ 0  0  2  0  0  1  0  3  0]]\n",
    "\n",
    "# params = {'num_leaves':150, 'objective':'multiclass','max_depth':7,'metric': 'multi_logloss',\n",
    "#           'learning_rate':.05,'max_bin':200, 'n_estimators': 500}\n",
    "# x1, x2, y1, y2 = train_test_split(df_train, y, test_size=0.2, random_state=42)\n",
    "# final multi_log_loss: 1.5149298479876543\n",
    "# final f1_score: 0.07496251874062969\n",
    "# final accuracy: 0.06793478260869565\n",
    "# [[10  2 17  4 13  5  0  0  0]\n",
    "#  [12  0  4  3  1 22  0  0  0]\n",
    "#  [ 0  1  1  1  2  2  0  0  0]\n",
    "#  [ 4  5 37  0  2  4  0  0  0]\n",
    "#  [ 0  2  5  7  8  1  0  0  0]\n",
    "#  [ 5  0  1  2  7  4  0  1  0]\n",
    "#  [25  5  5  4  5 52  2  0  0]\n",
    "#  [ 1  0  0  0  0  1  0  0  0]\n",
    "#  [ 0  1  1  1  0  0  0  1  0]]"
   ]
  },
  {
   "cell_type": "code",
   "execution_count": 9,
   "metadata": {},
   "outputs": [
    {
     "name": "stdout",
     "output_type": "stream",
     "text": [
      "[[  3.98097263e-03   1.45361353e-03   1.44987537e-03 ...,   1.81148520e-03\n",
      "    6.51550650e-04   9.83917936e-01]\n",
      " [  7.25566393e-03   5.17022718e-01   1.24489887e-02 ...,   4.04780439e-01\n",
      "    8.39524935e-03   5.28026041e-03]\n",
      " [  6.13050334e-02   2.60611772e-02   6.01954447e-03 ...,   6.96236997e-02\n",
      "    4.16880102e-03   4.18837863e-03]\n",
      " ..., \n",
      " [  8.71636363e-02   4.54541879e-03   5.23193718e-03 ...,   4.38509766e-03\n",
      "    4.03257215e-03   4.03006113e-03]\n",
      " [  6.88071590e-03   2.60055707e-03   3.54152727e-03 ...,   1.80902596e-03\n",
      "    1.35111532e-03   1.31035357e-03]\n",
      " [  1.25262168e-02   3.57814879e-01   6.90259009e-03 ...,   5.74976752e-01\n",
      "    6.36528906e-03   6.16424207e-03]]\n"
     ]
    }
   ],
   "source": [
    "test_preds = clf1.predict_proba(x2)\n",
    "print(test_preds)"
   ]
  },
  {
   "cell_type": "code",
   "execution_count": 10,
   "metadata": {
    "collapsed": true
   },
   "outputs": [],
   "source": [
    "test_preds = test_preds.clip(min=0.05, max=0.95)"
   ]
  },
  {
   "cell_type": "code",
   "execution_count": 13,
   "metadata": {},
   "outputs": [
    {
     "name": "stdout",
     "output_type": "stream",
     "text": [
      "CV multi_log_loss: 1.066500698876787\n",
      "CV f1_score: 0.6855632734162391\n",
      "CV accuracy: 0.6842818428184282\n",
      "[[ 82   3   0  22  19   5   2   0   0]\n",
      " [  2  65   0   1   1   0  29   2   0]\n",
      " [  1   1  11   4   0   0   2   0   0]\n",
      " [ 23   3   1 110   6   1   5   0   1]\n",
      " [  9   2   1   4  27   3   7   0   0]\n",
      " [  6   4   1   5   2  38   3   0   0]\n",
      " [  2  22  11   6   4   0 164   1   1]\n",
      " [  0   1   0   0   0   0   2   1   0]\n",
      " [  0   0   0   1   0   0   1   0   7]]\n"
     ]
    }
   ],
   "source": [
    "score2 = log_loss(y2, test_preds, labels = list(range(1,10)))\n",
    "print('CV multi_log_loss: {}'.format(score2))\n",
    "\n",
    "fscore = f1_score(y2, test_preds.argmax(axis=1)+1, labels = list(range(1,10)), average='weighted')\n",
    "print('CV f1_score: {}'.format(fscore))\n",
    "\n",
    "acc = accuracy_score(y2, test_preds.argmax(axis=1)+1)\n",
    "print('CV accuracy: {}'.format(acc))\n",
    "\n",
    "print(confusion_matrix(y2, test_preds.argmax(axis=1)+1, labels = list(range(1,10))))\n",
    "\n",
    "# final multi_log_loss: 1.5149298479876543\n",
    "# final f1_score: 0.07496251874062969\n",
    "# final accuracy: 0.06793478260869565\n",
    "# [[10  2 17  4 13  5  0  0  0]\n",
    "#  [12  0  4  3  1 22  0  0  0]\n",
    "#  [ 0  1  1  1  2  2  0  0  0]\n",
    "#  [ 4  5 37  0  2  4  0  0  0]\n",
    "#  [ 0  2  5  7  8  1  0  0  0]\n",
    "#  [ 5  0  1  2  7  4  0  1  0]\n",
    "#  [25  5  5  4  5 52  2  0  0]\n",
    "#  [ 1  0  0  0  0  1  0  0  0]\n",
    "#  [ 0  1  1  1  0  0  0  1  0]]"
   ]
  },
  {
   "cell_type": "code",
   "execution_count": null,
   "metadata": {
    "collapsed": true
   },
   "outputs": [],
   "source": [
    "# with stratified split\n",
    "# CV multi_log_loss: 1.066500698876787\n",
    "# CV f1_score: 0.6842818428184282, CV f1_score: 0.6117058344203261 (macro), 0.6855632734162391 (weigted)\n",
    "# CV accuracy: 0.6842818428184282\n",
    "# [[ 82   3   0  22  19   5   2   0   0]\n",
    "#  [  2  65   0   1   1   0  29   2   0]\n",
    "#  [  1   1  11   4   0   0   2   0   0]\n",
    "#  [ 23   3   1 110   6   1   5   0   1]\n",
    "#  [  9   2   1   4  27   3   7   0   0]\n",
    "#  [  6   4   1   5   2  38   3   0   0]\n",
    "#  [  2  22  11   6   4   0 164   1   1]\n",
    "#  [  0   1   0   0   0   0   2   1   0]\n",
    "#  [  0   0   0   1   0   0   1   0   7]]\n",
    "\n",
    "# without stratified split\n",
    "# CV multi_log_loss: 0.8681909129878375\n",
    "# CV f1_score: 0.6964769647696477\n",
    "# CV accuracy: 0.6964769647696477\n",
    "# [[ 92   0   3  19  10   1   4   0   0]\n",
    "#  [  4  56   0   3   0   2  41   0   0]\n",
    "#  [  0   0  11   5   3   0   5   0   0]\n",
    "#  [ 17   4   2 110   2   2   4   0   0]\n",
    "#  [ 12   0   0   1  33   2   5   0   1]\n",
    "#  [  4   3   1   3   4  37   3   0   0]\n",
    "#  [  1  34   9   6   1   0 169   0   1]\n",
    "#  [  0   0   0   0   0   0   1   1   0]\n",
    "#  [  0   1   0   0   0   0   0   0   5]]"
   ]
  }
 ],
 "metadata": {
  "kernelspec": {
   "display_name": "Python 3",
   "language": "python",
   "name": "python3"
  },
  "language_info": {
   "codemirror_mode": {
    "name": "ipython",
    "version": 3
   },
   "file_extension": ".py",
   "mimetype": "text/x-python",
   "name": "python",
   "nbconvert_exporter": "python",
   "pygments_lexer": "ipython3",
   "version": "3.6.1"
  }
 },
 "nbformat": 4,
 "nbformat_minor": 2
}
