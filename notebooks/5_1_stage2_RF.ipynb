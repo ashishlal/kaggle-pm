{
 "cells": [
  {
   "cell_type": "code",
   "execution_count": 1,
   "metadata": {
    "collapsed": true
   },
   "outputs": [],
   "source": [
    "import sys\n",
    "sys.path.insert(0,'/home/watts/Software')"
   ]
  },
  {
   "cell_type": "code",
   "execution_count": 2,
   "metadata": {},
   "outputs": [
    {
     "name": "stderr",
     "output_type": "stream",
     "text": [
      "/home/watts/anaconda2/envs/aind-dog/lib/python3.6/site-packages/sklearn/cross_validation.py:41: DeprecationWarning: This module was deprecated in version 0.18 in favor of the model_selection module into which all the refactored classes and functions are moved. Also note that the interface of the new CV iterators are different from that of this module. This module will be removed in 0.20.\n",
      "  \"This module will be removed in 0.20.\", DeprecationWarning)\n",
      "/home/watts/anaconda2/envs/aind-dog/lib/python3.6/site-packages/sklearn/grid_search.py:42: DeprecationWarning: This module was deprecated in version 0.18 in favor of the model_selection module into which all the refactored classes and functions are moved. This module will be removed in 0.20.\n",
      "  DeprecationWarning)\n"
     ]
    }
   ],
   "source": [
    "import re\n",
    "import numpy as np\n",
    "import pandas as pd\n",
    "import feather\n",
    "import xgboost as xgb\n",
    "import feather\n",
    "\n",
    "from sklearn.model_selection import train_test_split\n",
    "from sklearn.metrics import log_loss, confusion_matrix, f1_score, accuracy_score\n",
    "\n",
    "from sklearn.cross_validation import *\n",
    "from sklearn.grid_search import GridSearchCV\n",
    "\n",
    "from sklearn.ensemble import RandomForestClassifier\n",
    "from sklearn.multioutput import MultiOutputClassifier\n",
    "\n",
    "from sklearn.utils import shuffle\n",
    "\n",
    "import pickle"
   ]
  },
  {
   "cell_type": "code",
   "execution_count": 3,
   "metadata": {
    "collapsed": true
   },
   "outputs": [],
   "source": [
    "\n",
    "def save_classifier(fname, clf):\n",
    "    # save the classifier\n",
    "    with open(fname, 'wb') as fid:\n",
    "        pickle.dump(clf, fid)\n",
    "\n",
    "def load_classifier(fname):\n",
    "    # load it again\n",
    "    with open(fname, 'rb') as fid:\n",
    "        clf = pickle.load(fid)\n",
    "        return clf"
   ]
  },
  {
   "cell_type": "code",
   "execution_count": 4,
   "metadata": {
    "collapsed": true
   },
   "outputs": [],
   "source": [
    "df_train = np.load('../cache/train_stage2_fe2.npy')\n",
    "df1 = pd.read_csv('../cache/stage2_labels.csv')\n",
    "y = df1['y'].values\n",
    "\n",
    "df_test = np.load('../cache/test_stage2_fe2.npy')\n",
    "df = pd.read_csv('../cache/stage2_test_id.csv')\n",
    "pid = df.ID.values"
   ]
  },
  {
   "cell_type": "code",
   "execution_count": 5,
   "metadata": {},
   "outputs": [
    {
     "data": {
      "text/plain": [
       "986"
      ]
     },
     "execution_count": 5,
     "metadata": {},
     "output_type": "execute_result"
    }
   ],
   "source": [
    "len(pid)"
   ]
  },
  {
   "cell_type": "code",
   "execution_count": 6,
   "metadata": {},
   "outputs": [
    {
     "data": {
      "text/plain": [
       "(3689, 4689)"
      ]
     },
     "execution_count": 6,
     "metadata": {},
     "output_type": "execute_result"
    }
   ],
   "source": [
    "df_train.shape"
   ]
  },
  {
   "cell_type": "code",
   "execution_count": 7,
   "metadata": {},
   "outputs": [
    {
     "data": {
      "text/plain": [
       "(986, 4689)"
      ]
     },
     "execution_count": 7,
     "metadata": {},
     "output_type": "execute_result"
    }
   ],
   "source": [
    "df_test.shape"
   ]
  },
  {
   "cell_type": "code",
   "execution_count": 8,
   "metadata": {
    "collapsed": true
   },
   "outputs": [],
   "source": [
    "# y = y - 1 #fix for zero bound array"
   ]
  },
  {
   "cell_type": "code",
   "execution_count": 9,
   "metadata": {},
   "outputs": [
    {
     "name": "stdout",
     "output_type": "stream",
     "text": [
      "(3689,)\n"
     ]
    }
   ],
   "source": [
    "print(y.shape)"
   ]
  },
  {
   "cell_type": "code",
   "execution_count": 10,
   "metadata": {},
   "outputs": [
    {
     "data": {
      "text/plain": [
       "array([1, 2, 3, 4, 5, 6, 7, 8, 9])"
      ]
     },
     "execution_count": 10,
     "metadata": {},
     "output_type": "execute_result"
    }
   ],
   "source": [
    "np.unique(y)"
   ]
  },
  {
   "cell_type": "code",
   "execution_count": 11,
   "metadata": {},
   "outputs": [
    {
     "name": "stdout",
     "output_type": "stream",
     "text": [
      "{1: 4.572507552870091, 2: 6.407630522088353, 3: 37.427083333333336, 4: 3.912117177097204, 5: 12.816479400749063, 6: 11.42087542087542, 7: 2.5, 8: 174.66666666666666, 9: 84.79069767441861}\n"
     ]
    }
   ],
   "source": [
    "wts_per_class = np.load('../cache/stage2_train_weights_per_class.npy')\n",
    "wts_per_class = wts_per_class.tolist()\n",
    "print(wts_per_class)"
   ]
  },
  {
   "cell_type": "code",
   "execution_count": 12,
   "metadata": {
    "collapsed": true
   },
   "outputs": [],
   "source": [
    "param_grid = { \n",
    "    'n_estimators': [50, 200, 700],\n",
    "    'max_features': ['auto', 'sqrt', 'log2']\n",
    "}\n",
    "\n",
    "model_RF = RandomForestClassifier(random_state=0, class_weight='balanced')\n",
    "clf = GridSearchCV(model_RF, param_grid=param_grid, scoring='neg_log_loss',cv=5,n_jobs=4)\n",
    "clf.fit(df_train, y)\n",
    "fname = '../cache/rf_multi_clf.pkl'\n",
    "save_classifier(fname, clf)"
   ]
  },
  {
   "cell_type": "code",
   "execution_count": 13,
   "metadata": {},
   "outputs": [
    {
     "name": "stdout",
     "output_type": "stream",
     "text": [
      "-1.4858419408875922\n",
      "{'max_features': 'auto', 'n_estimators': 700}\n"
     ]
    }
   ],
   "source": [
    "print(clf.best_score_)\n",
    "print(clf.best_params_)\n",
    "\n",
    "# with my calculated weights\n",
    "# -1.5031283568737968\n",
    "# {'max_features': 'log2', 'n_estimators': 700}\n",
    "\n",
    "# with balanced weights\n",
    "# -1.4858419408875922\n",
    "# {'max_features': 'auto', 'n_estimators': 700}"
   ]
  },
  {
   "cell_type": "code",
   "execution_count": 14,
   "metadata": {
    "collapsed": true
   },
   "outputs": [],
   "source": [
    "pred_proba = clf.predict_proba(df_test)"
   ]
  },
  {
   "cell_type": "code",
   "execution_count": 31,
   "metadata": {
    "collapsed": true
   },
   "outputs": [],
   "source": [
    "pred_proba = pred_proba.clip(min=0.05, max=0.95)"
   ]
  },
  {
   "cell_type": "code",
   "execution_count": 34,
   "metadata": {},
   "outputs": [
    {
     "name": "stdout",
     "output_type": "stream",
     "text": [
      "(986, 9)\n"
     ]
    }
   ],
   "source": [
    "print(pred_proba.shape)"
   ]
  },
  {
   "cell_type": "code",
   "execution_count": 35,
   "metadata": {
    "collapsed": true
   },
   "outputs": [],
   "source": [
    "n_classes = np.unique(y)"
   ]
  },
  {
   "cell_type": "code",
   "execution_count": 36,
   "metadata": {
    "collapsed": true
   },
   "outputs": [],
   "source": [
    "df = pd.DataFrame(pred_proba)\n",
    "l = []\n",
    "for cls in range(len(n_classes)):\n",
    "    l.append('class'+str(cls+1))\n",
    "df.columns = l"
   ]
  },
  {
   "cell_type": "code",
   "execution_count": 37,
   "metadata": {},
   "outputs": [
    {
     "data": {
      "text/plain": [
       "(986, 9)"
      ]
     },
     "execution_count": 37,
     "metadata": {},
     "output_type": "execute_result"
    }
   ],
   "source": [
    "df.shape"
   ]
  },
  {
   "cell_type": "code",
   "execution_count": 38,
   "metadata": {
    "collapsed": true
   },
   "outputs": [],
   "source": [
    "df['ID'] = pid"
   ]
  },
  {
   "cell_type": "code",
   "execution_count": 39,
   "metadata": {},
   "outputs": [
    {
     "data": {
      "text/html": [
       "<div>\n",
       "<style>\n",
       "    .dataframe thead tr:only-child th {\n",
       "        text-align: right;\n",
       "    }\n",
       "\n",
       "    .dataframe thead th {\n",
       "        text-align: left;\n",
       "    }\n",
       "\n",
       "    .dataframe tbody tr th {\n",
       "        vertical-align: top;\n",
       "    }\n",
       "</style>\n",
       "<table border=\"1\" class=\"dataframe\">\n",
       "  <thead>\n",
       "    <tr style=\"text-align: right;\">\n",
       "      <th></th>\n",
       "      <th>class1</th>\n",
       "      <th>class2</th>\n",
       "      <th>class3</th>\n",
       "      <th>class4</th>\n",
       "      <th>class5</th>\n",
       "      <th>class6</th>\n",
       "      <th>class7</th>\n",
       "      <th>class8</th>\n",
       "      <th>class9</th>\n",
       "      <th>ID</th>\n",
       "    </tr>\n",
       "  </thead>\n",
       "  <tbody>\n",
       "    <tr>\n",
       "      <th>0</th>\n",
       "      <td>0.170000</td>\n",
       "      <td>0.157143</td>\n",
       "      <td>0.05</td>\n",
       "      <td>0.220000</td>\n",
       "      <td>0.064286</td>\n",
       "      <td>0.084286</td>\n",
       "      <td>0.257143</td>\n",
       "      <td>0.05</td>\n",
       "      <td>0.05</td>\n",
       "      <td>1</td>\n",
       "    </tr>\n",
       "    <tr>\n",
       "      <th>1</th>\n",
       "      <td>0.414286</td>\n",
       "      <td>0.108571</td>\n",
       "      <td>0.05</td>\n",
       "      <td>0.128571</td>\n",
       "      <td>0.050000</td>\n",
       "      <td>0.064286</td>\n",
       "      <td>0.220000</td>\n",
       "      <td>0.05</td>\n",
       "      <td>0.05</td>\n",
       "      <td>2</td>\n",
       "    </tr>\n",
       "    <tr>\n",
       "      <th>2</th>\n",
       "      <td>0.185714</td>\n",
       "      <td>0.165714</td>\n",
       "      <td>0.05</td>\n",
       "      <td>0.232857</td>\n",
       "      <td>0.050000</td>\n",
       "      <td>0.050000</td>\n",
       "      <td>0.282857</td>\n",
       "      <td>0.05</td>\n",
       "      <td>0.05</td>\n",
       "      <td>3</td>\n",
       "    </tr>\n",
       "    <tr>\n",
       "      <th>3</th>\n",
       "      <td>0.192857</td>\n",
       "      <td>0.134286</td>\n",
       "      <td>0.05</td>\n",
       "      <td>0.237143</td>\n",
       "      <td>0.057143</td>\n",
       "      <td>0.052857</td>\n",
       "      <td>0.268571</td>\n",
       "      <td>0.05</td>\n",
       "      <td>0.05</td>\n",
       "      <td>4</td>\n",
       "    </tr>\n",
       "    <tr>\n",
       "      <th>4</th>\n",
       "      <td>0.155714</td>\n",
       "      <td>0.162857</td>\n",
       "      <td>0.05</td>\n",
       "      <td>0.150000</td>\n",
       "      <td>0.054286</td>\n",
       "      <td>0.075714</td>\n",
       "      <td>0.371429</td>\n",
       "      <td>0.05</td>\n",
       "      <td>0.05</td>\n",
       "      <td>5</td>\n",
       "    </tr>\n",
       "  </tbody>\n",
       "</table>\n",
       "</div>"
      ],
      "text/plain": [
       "     class1    class2  class3    class4    class5    class6    class7  class8  \\\n",
       "0  0.170000  0.157143    0.05  0.220000  0.064286  0.084286  0.257143    0.05   \n",
       "1  0.414286  0.108571    0.05  0.128571  0.050000  0.064286  0.220000    0.05   \n",
       "2  0.185714  0.165714    0.05  0.232857  0.050000  0.050000  0.282857    0.05   \n",
       "3  0.192857  0.134286    0.05  0.237143  0.057143  0.052857  0.268571    0.05   \n",
       "4  0.155714  0.162857    0.05  0.150000  0.054286  0.075714  0.371429    0.05   \n",
       "\n",
       "   class9  ID  \n",
       "0    0.05   1  \n",
       "1    0.05   2  \n",
       "2    0.05   3  \n",
       "3    0.05   4  \n",
       "4    0.05   5  "
      ]
     },
     "execution_count": 39,
     "metadata": {},
     "output_type": "execute_result"
    }
   ],
   "source": [
    "df.head()"
   ]
  },
  {
   "cell_type": "code",
   "execution_count": 40,
   "metadata": {
    "collapsed": true
   },
   "outputs": [],
   "source": [
    "# df.to_csv('../submissions/sub_stage2_mop_rf.csv', index=False)\n",
    "# scored 2.60615 on stage2 private LB and 1.61225 on stage2 public LB with weights\n",
    "\n",
    "\n",
    "df.to_csv('../submissions/sub_stage2_wt_rf.csv', index=False)\n",
    "# 2.29757 on stage2 private LB, 1.61310 on stag2 public LB"
   ]
  },
  {
   "cell_type": "code",
   "execution_count": 29,
   "metadata": {
    "collapsed": true
   },
   "outputs": [],
   "source": [
    "df1 = pd.DataFrame()\n",
    "df1['ID'] = pid\n",
    "df1.to_csv('../cache/test_id.csv', index=False)"
   ]
  },
  {
   "cell_type": "code",
   "execution_count": 30,
   "metadata": {
    "collapsed": true
   },
   "outputs": [],
   "source": [
    "df = pd.DataFrame()\n",
    "df['y'] = y\n",
    "df.to_csv('../cache/train_stage2_labels.csv', index=False)"
   ]
  },
  {
   "cell_type": "code",
   "execution_count": 44,
   "metadata": {
    "collapsed": true
   },
   "outputs": [],
   "source": [
    "X = df_train\n",
    "Y = y\n",
    "Z = df_test\n"
   ]
  },
  {
   "cell_type": "code",
   "execution_count": 45,
   "metadata": {
    "collapsed": true
   },
   "outputs": [],
   "source": [
    "Y1 = Y.T"
   ]
  },
  {
   "cell_type": "code",
   "execution_count": 46,
   "metadata": {
    "collapsed": true
   },
   "outputs": [],
   "source": [
    "y2 = shuffle(Y, random_state=1)\n",
    "y3 = shuffle(Y, random_state=2)\n",
    "y4 = shuffle(Y, random_state=3)\n",
    "y5 = shuffle(Y, random_state=4)\n",
    "y6 = shuffle(Y, random_state=5)\n",
    "y7 = shuffle(Y, random_state=6)\n",
    "y8 = shuffle(Y, random_state=7)\n",
    "y9 = shuffle(Y, random_state=8)\n",
    "\n",
    "Y1 = np.vstack((Y, y2, y3, y4, y5, y6, y7, y8, y9)).T"
   ]
  },
  {
   "cell_type": "code",
   "execution_count": 47,
   "metadata": {
    "collapsed": true
   },
   "outputs": [],
   "source": [
    "forest = RandomForestClassifier(n_estimators=700, max_features:'log2', random_state=1, class_weight=wts_per_class)\n",
    "multi_target_forest = MultiOutputClassifier(forest, n_jobs=-1)"
   ]
  },
  {
   "cell_type": "code",
   "execution_count": 48,
   "metadata": {
    "collapsed": true
   },
   "outputs": [],
   "source": [
    "\n",
    "preds = multi_target_forest.fit(X, Y1).predict(Z)"
   ]
  },
  {
   "cell_type": "code",
   "execution_count": 49,
   "metadata": {},
   "outputs": [
    {
     "data": {
      "text/plain": [
       "(986, 9)"
      ]
     },
     "execution_count": 49,
     "metadata": {},
     "output_type": "execute_result"
    }
   ],
   "source": [
    "preds.shape"
   ]
  },
  {
   "cell_type": "code",
   "execution_count": 50,
   "metadata": {},
   "outputs": [
    {
     "name": "stdout",
     "output_type": "stream",
     "text": [
      "[[7 7 7 ..., 7 7 7]\n",
      " [1 7 7 ..., 7 7 7]\n",
      " [7 7 7 ..., 7 7 7]\n",
      " ..., \n",
      " [7 7 7 ..., 7 7 7]\n",
      " [4 7 7 ..., 7 7 7]\n",
      " [7 7 7 ..., 7 7 7]]\n"
     ]
    }
   ],
   "source": [
    "print(preds)"
   ]
  },
  {
   "cell_type": "code",
   "execution_count": 51,
   "metadata": {
    "collapsed": true
   },
   "outputs": [],
   "source": [
    "preds_proba = multi_target_forest.fit(X, Y1).predict_proba(Z)"
   ]
  },
  {
   "cell_type": "code",
   "execution_count": 52,
   "metadata": {},
   "outputs": [
    {
     "data": {
      "text/plain": [
       "(986, 9)"
      ]
     },
     "execution_count": 52,
     "metadata": {},
     "output_type": "execute_result"
    }
   ],
   "source": [
    "preds_proba[0].shape"
   ]
  },
  {
   "cell_type": "code",
   "execution_count": 53,
   "metadata": {},
   "outputs": [
    {
     "data": {
      "text/plain": [
       "array([[ 0.176,  0.137,  0.025, ...,  0.247,  0.015,  0.021],\n",
       "       [ 0.395,  0.138,  0.01 , ...,  0.204,  0.009,  0.011],\n",
       "       [ 0.199,  0.153,  0.019, ...,  0.292,  0.021,  0.027],\n",
       "       ..., \n",
       "       [ 0.161,  0.169,  0.018, ...,  0.326,  0.01 ,  0.009],\n",
       "       [ 0.189,  0.138,  0.019, ...,  0.254,  0.012,  0.022],\n",
       "       [ 0.193,  0.125,  0.016, ...,  0.302,  0.013,  0.027]])"
      ]
     },
     "execution_count": 53,
     "metadata": {},
     "output_type": "execute_result"
    }
   ],
   "source": [
    "preds_proba[0]"
   ]
  },
  {
   "cell_type": "code",
   "execution_count": 54,
   "metadata": {},
   "outputs": [
    {
     "data": {
      "text/plain": [
       "array([[ 0.176,  0.137,  0.025, ...,  0.247,  0.015,  0.021],\n",
       "       [ 0.395,  0.138,  0.01 , ...,  0.204,  0.009,  0.011],\n",
       "       [ 0.199,  0.153,  0.019, ...,  0.292,  0.021,  0.027],\n",
       "       ..., \n",
       "       [ 0.161,  0.169,  0.018, ...,  0.326,  0.01 ,  0.009],\n",
       "       [ 0.189,  0.138,  0.019, ...,  0.254,  0.012,  0.022],\n",
       "       [ 0.193,  0.125,  0.016, ...,  0.302,  0.013,  0.027]])"
      ]
     },
     "execution_count": 54,
     "metadata": {},
     "output_type": "execute_result"
    }
   ],
   "source": [
    "preds_proba[0]"
   ]
  },
  {
   "cell_type": "code",
   "execution_count": 55,
   "metadata": {
    "collapsed": true
   },
   "outputs": [],
   "source": [
    "df = pd.DataFrame(preds_proba[0], \n",
    "                  columns=['class1', 'class2', 'class3', 'class4', 'class5', 'class6', 'class7', 'class8', 'class9'])\n"
   ]
  },
  {
   "cell_type": "code",
   "execution_count": 56,
   "metadata": {
    "collapsed": true
   },
   "outputs": [],
   "source": [
    "df['ID'] = pid\n",
    "# df.to_csv('../submissions/sub_stage2_multi_rf.csv', index=False)\n",
    "df.to_csv('../submissions/sub_stage2_multi_rf_wts.csv', index=False)"
   ]
  },
  {
   "cell_type": "code",
   "execution_count": null,
   "metadata": {
    "collapsed": true
   },
   "outputs": [],
   "source": [
    "# scored 2.64206 on stage2 private LB, 1.54953 on stage2 public LB without weights\n",
    "# scored 2.60869 on stage2 private LB, 1.60590 on stage2 public LB with weights\n"
   ]
  },
  {
   "cell_type": "code",
   "execution_count": 114,
   "metadata": {
    "collapsed": true
   },
   "outputs": [],
   "source": [
    "save_classifier('../cache/stage2_multi_rf.pkl', multi_target_forest)"
   ]
  },
  {
   "cell_type": "code",
   "execution_count": 118,
   "metadata": {},
   "outputs": [
    {
     "data": {
      "text/html": [
       "<div>\n",
       "<style>\n",
       "    .dataframe thead tr:only-child th {\n",
       "        text-align: right;\n",
       "    }\n",
       "\n",
       "    .dataframe thead th {\n",
       "        text-align: left;\n",
       "    }\n",
       "\n",
       "    .dataframe tbody tr th {\n",
       "        vertical-align: top;\n",
       "    }\n",
       "</style>\n",
       "<table border=\"1\" class=\"dataframe\">\n",
       "  <thead>\n",
       "    <tr style=\"text-align: right;\">\n",
       "      <th></th>\n",
       "      <th>class1</th>\n",
       "      <th>class2</th>\n",
       "      <th>class3</th>\n",
       "      <th>class4</th>\n",
       "      <th>class5</th>\n",
       "      <th>class6</th>\n",
       "      <th>class7</th>\n",
       "      <th>class8</th>\n",
       "      <th>class9</th>\n",
       "      <th>ID</th>\n",
       "    </tr>\n",
       "  </thead>\n",
       "  <tbody>\n",
       "    <tr>\n",
       "      <th>0</th>\n",
       "      <td>0.206</td>\n",
       "      <td>0.144</td>\n",
       "      <td>0.033</td>\n",
       "      <td>0.241</td>\n",
       "      <td>0.069</td>\n",
       "      <td>0.082</td>\n",
       "      <td>0.192</td>\n",
       "      <td>0.014</td>\n",
       "      <td>0.019</td>\n",
       "      <td>1</td>\n",
       "    </tr>\n",
       "    <tr>\n",
       "      <th>1</th>\n",
       "      <td>0.547</td>\n",
       "      <td>0.113</td>\n",
       "      <td>0.006</td>\n",
       "      <td>0.114</td>\n",
       "      <td>0.015</td>\n",
       "      <td>0.053</td>\n",
       "      <td>0.140</td>\n",
       "      <td>0.006</td>\n",
       "      <td>0.006</td>\n",
       "      <td>2</td>\n",
       "    </tr>\n",
       "    <tr>\n",
       "      <th>2</th>\n",
       "      <td>0.161</td>\n",
       "      <td>0.191</td>\n",
       "      <td>0.022</td>\n",
       "      <td>0.233</td>\n",
       "      <td>0.054</td>\n",
       "      <td>0.068</td>\n",
       "      <td>0.241</td>\n",
       "      <td>0.013</td>\n",
       "      <td>0.017</td>\n",
       "      <td>3</td>\n",
       "    </tr>\n",
       "    <tr>\n",
       "      <th>3</th>\n",
       "      <td>0.202</td>\n",
       "      <td>0.129</td>\n",
       "      <td>0.021</td>\n",
       "      <td>0.272</td>\n",
       "      <td>0.053</td>\n",
       "      <td>0.059</td>\n",
       "      <td>0.229</td>\n",
       "      <td>0.010</td>\n",
       "      <td>0.025</td>\n",
       "      <td>4</td>\n",
       "    </tr>\n",
       "    <tr>\n",
       "      <th>4</th>\n",
       "      <td>0.173</td>\n",
       "      <td>0.245</td>\n",
       "      <td>0.016</td>\n",
       "      <td>0.130</td>\n",
       "      <td>0.051</td>\n",
       "      <td>0.067</td>\n",
       "      <td>0.301</td>\n",
       "      <td>0.009</td>\n",
       "      <td>0.008</td>\n",
       "      <td>5</td>\n",
       "    </tr>\n",
       "  </tbody>\n",
       "</table>\n",
       "</div>"
      ],
      "text/plain": [
       "   class1  class2  class3  class4  class5  class6  class7  class8  class9  ID\n",
       "0   0.206   0.144   0.033   0.241   0.069   0.082   0.192   0.014   0.019   1\n",
       "1   0.547   0.113   0.006   0.114   0.015   0.053   0.140   0.006   0.006   2\n",
       "2   0.161   0.191   0.022   0.233   0.054   0.068   0.241   0.013   0.017   3\n",
       "3   0.202   0.129   0.021   0.272   0.053   0.059   0.229   0.010   0.025   4\n",
       "4   0.173   0.245   0.016   0.130   0.051   0.067   0.301   0.009   0.008   5"
      ]
     },
     "execution_count": 118,
     "metadata": {},
     "output_type": "execute_result"
    }
   ],
   "source": [
    "df.head()"
   ]
  },
  {
   "cell_type": "code",
   "execution_count": 119,
   "metadata": {},
   "outputs": [
    {
     "data": {
      "text/plain": [
       "(986, 10)"
      ]
     },
     "execution_count": 119,
     "metadata": {},
     "output_type": "execute_result"
    }
   ],
   "source": [
    "df.shape"
   ]
  },
  {
   "cell_type": "code",
   "execution_count": 22,
   "metadata": {
    "collapsed": true
   },
   "outputs": [],
   "source": [
    "x1 = np.load('../cache/train_stage2_x1.npy')\n",
    "x2 = np.load('../cache/train_stage2_x2.npy')\n",
    "y1 = np.load('../cache/train_stage2_y1.npy')\n",
    "y2 = np.load('../cache/train_stage2_y2.npy')"
   ]
  },
  {
   "cell_type": "code",
   "execution_count": 23,
   "metadata": {},
   "outputs": [
    {
     "data": {
      "text/plain": [
       "7    211\n",
       "4    150\n",
       "1    133\n",
       "2    100\n",
       "6     59\n",
       "5     53\n",
       "3     19\n",
       "9      9\n",
       "8      4\n",
       "dtype: int64"
      ]
     },
     "execution_count": 23,
     "metadata": {},
     "output_type": "execute_result"
    }
   ],
   "source": [
    "pd.value_counts(y2)"
   ]
  },
  {
   "cell_type": "code",
   "execution_count": 24,
   "metadata": {},
   "outputs": [
    {
     "data": {
      "text/plain": [
       "(738,)"
      ]
     },
     "execution_count": 24,
     "metadata": {},
     "output_type": "execute_result"
    }
   ],
   "source": [
    "y2.shape"
   ]
  },
  {
   "cell_type": "code",
   "execution_count": 25,
   "metadata": {},
   "outputs": [
    {
     "data": {
      "text/plain": [
       "0.16089747832417764"
      ]
     },
     "execution_count": 25,
     "metadata": {},
     "output_type": "execute_result"
    }
   ],
   "source": [
    "(2 * (221/738) *0.11)/((221/738) + 0.11) "
   ]
  },
  {
   "cell_type": "code",
   "execution_count": 29,
   "metadata": {
    "collapsed": true
   },
   "outputs": [],
   "source": [
    "w1 = np.array([wts_per_class[j] for j in y1], )\n",
    "w2 = np.array([wts_per_class[j] for j in y2], )\n",
    "\n",
    "clf1 = RandomForestClassifier(random_state=0, max_features='auto', n_estimators=700, class_weight='balanced')\n",
    "\n"
   ]
  },
  {
   "cell_type": "code",
   "execution_count": 30,
   "metadata": {},
   "outputs": [
    {
     "data": {
      "text/plain": [
       "RandomForestClassifier(bootstrap=True, class_weight='balanced',\n",
       "            criterion='gini', max_depth=None, max_features='auto',\n",
       "            max_leaf_nodes=None, min_impurity_decrease=0.0,\n",
       "            min_impurity_split=None, min_samples_leaf=1,\n",
       "            min_samples_split=2, min_weight_fraction_leaf=0.0,\n",
       "            n_estimators=700, n_jobs=1, oob_score=False, random_state=0,\n",
       "            verbose=0, warm_start=False)"
      ]
     },
     "execution_count": 30,
     "metadata": {},
     "output_type": "execute_result"
    }
   ],
   "source": [
    "clf1.fit(x1, y1)\n"
   ]
  },
  {
   "cell_type": "code",
   "execution_count": 32,
   "metadata": {},
   "outputs": [
    {
     "name": "stdout",
     "output_type": "stream",
     "text": [
      "[[ 0.07        0.04285714  0.00428571 ...,  0.07714286  0.01142857\n",
      "   0.65571429]\n",
      " [ 0.05714286  0.35428571  0.00714286 ...,  0.47571429  0.00285714  0.        ]\n",
      " [ 0.12285714  0.05142857  0.00428571 ...,  0.11428571  0.00142857\n",
      "   0.00428571]\n",
      " ..., \n",
      " [ 0.20428571  0.04857143  0.00857143 ...,  0.13142857  0.00142857  0.        ]\n",
      " [ 0.00428571  0.00142857  0.         ...,  0.00285714  0.          0.        ]\n",
      " [ 0.04        0.39285714  0.00285714 ...,  0.48714286  0.          0.        ]]\n"
     ]
    }
   ],
   "source": [
    "test_preds = clf1.predict_proba(x2)\n",
    "print(test_preds)"
   ]
  },
  {
   "cell_type": "code",
   "execution_count": 33,
   "metadata": {},
   "outputs": [
    {
     "name": "stdout",
     "output_type": "stream",
     "text": [
      "final multi_log_loss: 0.9154469754860213\n",
      "final f1_score: 0.6964769647696477\n",
      "final accuracy: 0.6964769647696477\n",
      "[[ 86   1   2  25  14   3   2   0   0]\n",
      " [  2  51   0   2   0   0  44   1   0]\n",
      " [  1   3   8   5   0   0   2   0   0]\n",
      " [ 17   0   1 119   1   1  11   0   0]\n",
      " [ 10   3   1   7  21   3   8   0   0]\n",
      " [  6   0   1   5   1  37   9   0   0]\n",
      " [  2   8   7   3   5   0 185   0   1]\n",
      " [  1   0   0   0   0   0   3   0   0]\n",
      " [  0   0   0   1   0   0   1   0   7]]\n"
     ]
    }
   ],
   "source": [
    "score2 = log_loss(y2, test_preds, labels = list(range(1,10)))\n",
    "print('final multi_log_loss: {}'.format(score2))\n",
    "\n",
    "fscore = f1_score(y2, test_preds.argmax(axis=1)+1, labels = list(range(1,10)), average='micro')\n",
    "print('final f1_score: {}'.format(fscore))\n",
    "\n",
    "acc = accuracy_score(y2, test_preds.argmax(axis=1)+1)\n",
    "print('final accuracy: {}'.format(acc))\n",
    "\n",
    "print(confusion_matrix(y2, test_preds.argmax(axis=1)+1, labels = list(range(1,10))))"
   ]
  },
  {
   "cell_type": "code",
   "execution_count": null,
   "metadata": {
    "collapsed": true
   },
   "outputs": [],
   "source": [
    "# with my weights\n",
    "# final multi_log_loss: 1.0051730722455978\n",
    "# final f1_score: 0.7073170731707317\n",
    "# final accuracy: 0.7073170731707317\n",
    "# [[ 97   0   1  19   5   1   6   0   0]\n",
    "#  [  4  43   0   1   0   2  56   0   0]\n",
    "#  [  0   0   4   6   1   0  13   0   0]\n",
    "#  [ 12   1   1 114   0   0  13   0   0]\n",
    "#  [ 16   1   0   4  26   2   5   0   0]\n",
    "#  [  8   0   0   2   2  34   9   0   0]\n",
    "#  [  1  13   2   3   2   0 200   0   0]\n",
    "#  [  0   0   0   0   0   0   2   0   0]\n",
    "#  [  0   0   0   0   0   0   2   0   4]]\n",
    "\n",
    "# with 'balanced' weights\n",
    "# final multi_log_loss: 0.9154469754860213\n",
    "# final f1_score: 0.6964769647696477\n",
    "# final accuracy: 0.6964769647696477\n",
    "# [[ 86   1   2  25  14   3   2   0   0]\n",
    "#  [  2  51   0   2   0   0  44   1   0]\n",
    "#  [  1   3   8   5   0   0   2   0   0]\n",
    "#  [ 17   0   1 119   1   1  11   0   0]\n",
    "#  [ 10   3   1   7  21   3   8   0   0]\n",
    "#  [  6   0   1   5   1  37   9   0   0]\n",
    "#  [  2   8   7   3   5   0 185   0   1]\n",
    "#  [  1   0   0   0   0   0   3   0   0]\n",
    "#  [  0   0   0   1   0   0   1   0   7]]"
   ]
  }
 ],
 "metadata": {
  "kernelspec": {
   "display_name": "Python 3",
   "language": "python",
   "name": "python3"
  },
  "language_info": {
   "codemirror_mode": {
    "name": "ipython",
    "version": 3
   },
   "file_extension": ".py",
   "mimetype": "text/x-python",
   "name": "python",
   "nbconvert_exporter": "python",
   "pygments_lexer": "ipython3",
   "version": "3.6.1"
  }
 },
 "nbformat": 4,
 "nbformat_minor": 2
}
