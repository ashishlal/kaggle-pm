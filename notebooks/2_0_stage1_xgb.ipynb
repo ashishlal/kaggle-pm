{
 "cells": [
  {
   "cell_type": "code",
   "execution_count": 1,
   "metadata": {},
   "outputs": [
    {
     "name": "stderr",
     "output_type": "stream",
     "text": [
      "/home/watts/anaconda2/envs/aind-dog/lib/python3.6/site-packages/sklearn/cross_validation.py:41: DeprecationWarning: This module was deprecated in version 0.18 in favor of the model_selection module into which all the refactored classes and functions are moved. Also note that the interface of the new CV iterators are different from that of this module. This module will be removed in 0.20.\n",
      "  \"This module will be removed in 0.20.\", DeprecationWarning)\n"
     ]
    }
   ],
   "source": [
    "import re\n",
    "import numpy as np\n",
    "import pandas as pd\n",
    "import feather\n",
    "import xgboost as xgb\n",
    "import feather\n",
    "\n",
    "from sklearn.model_selection import train_test_split\n",
    "from sklearn.metrics import log_loss, confusion_matrix, f1_score, accuracy_score\n",
    "\n",
    "from utils import print_confusion_matrix"
   ]
  },
  {
   "cell_type": "code",
   "execution_count": 2,
   "metadata": {
    "collapsed": true
   },
   "outputs": [],
   "source": [
    "df_train = np.load('../cache/train_stage1_fe2.npy')\n",
    "\n",
    "df1 = pd.read_csv('../cache/stage1_labels.csv')\n",
    "y = df1['y'].values\n",
    "\n",
    "df_test = np.load('../cache/test_stage1_fe2.npy')\n",
    "df = pd.read_csv('../cache/stage1_test_id.csv')\n",
    "pid = df.ID.values"
   ]
  },
  {
   "cell_type": "code",
   "execution_count": 3,
   "metadata": {},
   "outputs": [
    {
     "data": {
      "text/plain": [
       "(5668, 10483)"
      ]
     },
     "execution_count": 3,
     "metadata": {},
     "output_type": "execute_result"
    }
   ],
   "source": [
    "df_test.shape"
   ]
  },
  {
   "cell_type": "code",
   "execution_count": 4,
   "metadata": {},
   "outputs": [
    {
     "data": {
      "text/plain": [
       "(3321, 10483)"
      ]
     },
     "execution_count": 4,
     "metadata": {},
     "output_type": "execute_result"
    }
   ],
   "source": [
    "df_train.shape"
   ]
  },
  {
   "cell_type": "code",
   "execution_count": 5,
   "metadata": {
    "collapsed": true
   },
   "outputs": [],
   "source": [
    "y = y - 1 #fix for zero bound array"
   ]
  },
  {
   "cell_type": "code",
   "execution_count": 6,
   "metadata": {
    "collapsed": true
   },
   "outputs": [],
   "source": [
    "wts_per_class = np.load('../cache/stage1_train_weights_per_class.npy')\n",
    "wts_per_class = wts_per_class.tolist()"
   ]
  },
  {
   "cell_type": "code",
   "execution_count": 7,
   "metadata": {},
   "outputs": [
    {
     "name": "stdout",
     "output_type": "stream",
     "text": [
      "{1: 4.846830985915493, 2: 6.347345132743363, 3: 36.31460674157304, 4: 3.8411078717201166, 5: 12.723140495867769, 6: 11.076363636363636, 7: 2.484784889821616, 8: 173.78947368421052, 9: 88.75675675675676}\n"
     ]
    }
   ],
   "source": [
    "print(wts_per_class)"
   ]
  },
  {
   "cell_type": "code",
   "execution_count": 8,
   "metadata": {
    "collapsed": true
   },
   "outputs": [],
   "source": [
    " \n",
    "-"
   ]
  },
  {
   "cell_type": "code",
   "execution_count": 9,
   "metadata": {
    "collapsed": true
   },
   "outputs": [],
   "source": [
    "submission = pd.DataFrame(preds/denom, columns=['class'+str(c+1) for c in range(9)])\n",
    "submission['ID'] = pid\n",
    "# submission.to_csv('../submissions/sub_stage1_all_2_2_xgb.csv', index=False)\n",
    "submission.to_csv('../submissions/sub_stage1_all_2_2_wt_xgb.csv', index=False)"
   ]
  },
  {
   "cell_type": "code",
   "execution_count": 10,
   "metadata": {
    "collapsed": true
   },
   "outputs": [],
   "source": [
    "# score 0.4571 on stage1 public leader board"
   ]
  },
  {
   "cell_type": "code",
   "execution_count": null,
   "metadata": {
    "collapsed": true
   },
   "outputs": [],
   "source": []
  },
  {
   "cell_type": "code",
   "execution_count": 11,
   "metadata": {
    "collapsed": true
   },
   "outputs": [],
   "source": [
    "df_train = np.load('../cache/train_p_stage1_fe2.npy')\n",
    "\n",
    "df1 = pd.read_csv('../cache/stage1_labels.csv')\n",
    "y = df1['y'].values\n",
    "\n",
    "df_test = np.load('../cache/test_p_stage1_fe2.npy')\n",
    "df = pd.read_csv('../cache/stage1_p_test_id.csv')\n",
    "pid = df.ID.values"
   ]
  },
  {
   "cell_type": "code",
   "execution_count": 12,
   "metadata": {},
   "outputs": [
    {
     "name": "stdout",
     "output_type": "stream",
     "text": [
      "(3321, 10233) (368, 10233)\n"
     ]
    }
   ],
   "source": [
    "print(df_train.shape, df_test.shape)\n"
   ]
  },
  {
   "cell_type": "code",
   "execution_count": 13,
   "metadata": {
    "collapsed": true
   },
   "outputs": [],
   "source": [
    "df = pd.read_csv('../cache/stage1_p_test_labels.csv')\n",
    "test_labels = df['y'].values-1"
   ]
  },
  {
   "cell_type": "code",
   "execution_count": 14,
   "metadata": {},
   "outputs": [
    {
     "data": {
      "text/plain": [
       "(368,)"
      ]
     },
     "execution_count": 14,
     "metadata": {},
     "output_type": "execute_result"
    }
   ],
   "source": [
    "test_labels.shape"
   ]
  },
  {
   "cell_type": "code",
   "execution_count": 15,
   "metadata": {
    "collapsed": true
   },
   "outputs": [],
   "source": [
    "y = y - 1 #fix for zero bound array"
   ]
  },
  {
   "cell_type": "code",
   "execution_count": 19,
   "metadata": {},
   "outputs": [
    {
     "name": "stdout",
     "output_type": "stream",
     "text": [
      "[0]\ttrain-mlogloss:2.10856\tvalid-mlogloss:2.14116\n",
      "Multiple eval metrics have been passed: 'valid-mlogloss' will be used for early stopping.\n",
      "\n",
      "Will train until valid-mlogloss hasn't improved in 100 rounds.\n",
      "[50]\ttrain-mlogloss:0.649044\tvalid-mlogloss:1.31363\n",
      "[100]\ttrain-mlogloss:0.307304\tvalid-mlogloss:1.19975\n",
      "[150]\ttrain-mlogloss:0.177905\tvalid-mlogloss:1.20502\n",
      "[200]\ttrain-mlogloss:0.111166\tvalid-mlogloss:1.2464\n",
      "Stopping. Best iteration:\n",
      "[121]\ttrain-mlogloss:0.241751\tvalid-mlogloss:1.18755\n",
      "\n",
      "fold = 0\n",
      "val multi_log_loss: 1.0166732667196066\n",
      "test multi_log_loss: 1.2472289983770284\n",
      "test f1_score: 0.3422667306312961\n",
      "test accuracy: 0.529891304347826\n",
      "[[53  2  1 21 12  2  3  0  0]\n",
      " [ 4 14  0  3  0  3 22  0  0]\n",
      " [ 0  0  2  2  0  1  2  0  0]\n",
      " [17  0  1 42  2  0  3  0  0]\n",
      " [ 3  0  0  6  7  6  3  0  0]\n",
      " [ 2  1  0  2  5  6  6  0  0]\n",
      " [ 3 16  0  7  1  3 71  0  0]\n",
      " [ 0  1  0  0  0  0  1  0  0]\n",
      " [ 2  0  0  3  0  0  1  0  0]]\n",
      "-------------------\n",
      "\n",
      "\n",
      "\n"
     ]
    },
    {
     "name": "stderr",
     "output_type": "stream",
     "text": [
      "/home/watts/anaconda2/envs/aind-dog/lib/python3.6/site-packages/sklearn/metrics/classification.py:1135: UndefinedMetricWarning: F-score is ill-defined and being set to 0.0 in labels with no predicted samples.\n",
      "  'precision', 'predicted', average, warn_for)\n"
     ]
    },
    {
     "name": "stdout",
     "output_type": "stream",
     "text": [
      "[0]\ttrain-mlogloss:2.11198\tvalid-mlogloss:2.14265\n",
      "Multiple eval metrics have been passed: 'valid-mlogloss' will be used for early stopping.\n",
      "\n",
      "Will train until valid-mlogloss hasn't improved in 100 rounds.\n",
      "[50]\ttrain-mlogloss:0.656255\tvalid-mlogloss:1.38142\n",
      "[100]\ttrain-mlogloss:0.31457\tvalid-mlogloss:1.30404\n",
      "[150]\ttrain-mlogloss:0.185324\tvalid-mlogloss:1.34003\n",
      "Stopping. Best iteration:\n",
      "[91]\ttrain-mlogloss:0.352454\tvalid-mlogloss:1.29816\n",
      "\n",
      "fold = 1\n",
      "val multi_log_loss: 1.0484916906159623\n",
      "test multi_log_loss: 1.2944071755704025\n",
      "test f1_score: 0.33961538623616216\n",
      "test accuracy: 0.5027173913043478\n",
      "[[52  2  0 22 13  4  1  0  0]\n",
      " [ 3  9  1  4  0  2 27  0  0]\n",
      " [ 0  0  2  2  0  2  1  0  0]\n",
      " [20  1  1 36  1  0  6  0  0]\n",
      " [ 0  0  1  5 13  2  4  0  0]\n",
      " [ 3  1  3  1  4  2  8  0  0]\n",
      " [ 2 21  2  4  0  2 70  0  0]\n",
      " [ 0  1  0  0  0  0  1  0  0]\n",
      " [ 2  0  0  2  0  0  1  0  1]]\n",
      "-------------------\n",
      "\n",
      "\n",
      "\n",
      "[0]\ttrain-mlogloss:2.11042\tvalid-mlogloss:2.1419\n",
      "Multiple eval metrics have been passed: 'valid-mlogloss' will be used for early stopping.\n",
      "\n",
      "Will train until valid-mlogloss hasn't improved in 100 rounds.\n",
      "[50]\ttrain-mlogloss:0.658143\tvalid-mlogloss:1.23247\n",
      "[100]\ttrain-mlogloss:0.315611\tvalid-mlogloss:1.07802\n",
      "[150]\ttrain-mlogloss:0.183361\tvalid-mlogloss:1.04739\n",
      "[200]\ttrain-mlogloss:0.113414\tvalid-mlogloss:1.06984\n",
      "Stopping. Best iteration:\n",
      "[137]\ttrain-mlogloss:0.209975\tvalid-mlogloss:1.04619\n",
      "\n",
      "fold = 2\n",
      "val multi_log_loss: 0.9402146710545048\n",
      "test multi_log_loss: 1.2604206049531375\n",
      "test f1_score: 0.35737277084286057\n",
      "test accuracy: 0.5434782608695652\n",
      "[[52  2  1 26 10  0  3  0  0]\n",
      " [ 3 11  0  4  1  1 26  0  0]\n",
      " [ 0  0  2  2  0  1  2  0  0]\n",
      " [14  0  1 44  2  0  4  0  0]\n",
      " [ 1  0  0  5 14  2  3  0  0]\n",
      " [ 2  1  1  3  3  5  7  0  0]\n",
      " [ 4 16  1  5  1  2 72  0  0]\n",
      " [ 0  0  0  1  0  0  1  0  0]\n",
      " [ 2  0  0  3  0  0  1  0  0]]\n",
      "-------------------\n",
      "\n",
      "\n",
      "\n",
      "[0]\ttrain-mlogloss:2.11293\tvalid-mlogloss:2.14535\n",
      "Multiple eval metrics have been passed: 'valid-mlogloss' will be used for early stopping.\n",
      "\n",
      "Will train until valid-mlogloss hasn't improved in 100 rounds.\n",
      "[50]\ttrain-mlogloss:0.662671\tvalid-mlogloss:1.41288\n",
      "[100]\ttrain-mlogloss:0.31578\tvalid-mlogloss:1.29178\n",
      "[150]\ttrain-mlogloss:0.183051\tvalid-mlogloss:1.29303\n",
      "[200]\ttrain-mlogloss:0.112902\tvalid-mlogloss:1.33641\n",
      "Stopping. Best iteration:\n",
      "[128]\ttrain-mlogloss:0.229381\tvalid-mlogloss:1.28046\n",
      "\n",
      "fold = 3\n",
      "val multi_log_loss: 0.9898033901236784\n",
      "test multi_log_loss: 1.2256306202515312\n",
      "test f1_score: 0.3470932168123179\n",
      "test accuracy: 0.529891304347826\n",
      "[[53  3  2 24  7  1  4  0  0]\n",
      " [ 3  9  0  5  0  0 29  0  0]\n",
      " [ 0  0  2  2  0  0  3  0  0]\n",
      " [14  0  1 46  0  0  4  0  0]\n",
      " [ 6  0  0  5 11  1  2  0  0]\n",
      " [ 2  1  3  3  5  1  7  0  0]\n",
      " [ 4 15  1  9  0  0 72  0  0]\n",
      " [ 0  1  0  0  0  0  1  0  0]\n",
      " [ 2  0  0  2  0  0  1  0  1]]\n",
      "-------------------\n",
      "\n",
      "\n",
      "\n",
      "[0]\ttrain-mlogloss:2.11077\tvalid-mlogloss:2.14398\n",
      "Multiple eval metrics have been passed: 'valid-mlogloss' will be used for early stopping.\n",
      "\n",
      "Will train until valid-mlogloss hasn't improved in 100 rounds.\n",
      "[50]\ttrain-mlogloss:0.666117\tvalid-mlogloss:1.36434\n",
      "[100]\ttrain-mlogloss:0.321147\tvalid-mlogloss:1.32114\n",
      "[150]\ttrain-mlogloss:0.188033\tvalid-mlogloss:1.40519\n",
      "Stopping. Best iteration:\n",
      "[82]\ttrain-mlogloss:0.403711\tvalid-mlogloss:1.31251\n",
      "\n",
      "fold = 4\n",
      "val multi_log_loss: 1.0298388697150955\n",
      "test multi_log_loss: 1.277698427580459\n",
      "test f1_score: 0.38573332081939454\n",
      "test accuracy: 0.5461956521739131\n",
      "[[59  3  1 18 11  1  1  0  0]\n",
      " [ 2 19  0  4  1  2 18  0  0]\n",
      " [ 0  0  1  3  0  1  2  0  0]\n",
      " [19  2  1 39  0  0  3  1  0]\n",
      " [ 1  0  2  6 12  2  2  0  0]\n",
      " [ 2  2  1  2  2  7  6  0  0]\n",
      " [ 5 18  3  9  1  2 63  0  0]\n",
      " [ 0  1  0  0  0  0  1  0  0]\n",
      " [ 2  1  0  2  0  0  0  0  1]]\n",
      "-------------------\n",
      "\n",
      "\n",
      "\n",
      "[0]\ttrain-mlogloss:2.10835\tvalid-mlogloss:2.15058\n",
      "Multiple eval metrics have been passed: 'valid-mlogloss' will be used for early stopping.\n",
      "\n",
      "Will train until valid-mlogloss hasn't improved in 100 rounds.\n",
      "[50]\ttrain-mlogloss:0.643403\tvalid-mlogloss:1.49583\n",
      "[100]\ttrain-mlogloss:0.308988\tvalid-mlogloss:1.42668\n",
      "[150]\ttrain-mlogloss:0.18365\tvalid-mlogloss:1.47931\n",
      "Stopping. Best iteration:\n",
      "[91]\ttrain-mlogloss:0.346088\tvalid-mlogloss:1.42283\n",
      "\n",
      "fold = 5\n",
      "val multi_log_loss: 1.0671165500592468\n",
      "test multi_log_loss: 1.2975208423019426\n",
      "test f1_score: 0.387646240587662\n",
      "test accuracy: 0.5380434782608695\n",
      "[[49  1  3 20 13  6  2  0  0]\n",
      " [ 4 14  0  3  3  2 20  0  0]\n",
      " [ 0  0  3  2  0  1  1  0  0]\n",
      " [13  3  1 44  0  0  4  0  0]\n",
      " [ 1  0  2  5 13  1  3  0  0]\n",
      " [ 2  1  2  3  2  6  6  0  0]\n",
      " [ 4 12  3 10  4  0 68  0  0]\n",
      " [ 0  0  0  1  0  0  1  0  0]\n",
      " [ 2  0  0  2  0  0  1  0  1]]\n",
      "-------------------\n",
      "\n",
      "\n",
      "\n",
      "[0]\ttrain-mlogloss:2.11086\tvalid-mlogloss:2.14113\n",
      "Multiple eval metrics have been passed: 'valid-mlogloss' will be used for early stopping.\n",
      "\n",
      "Will train until valid-mlogloss hasn't improved in 100 rounds.\n",
      "[50]\ttrain-mlogloss:0.668234\tvalid-mlogloss:1.29379\n",
      "[100]\ttrain-mlogloss:0.319219\tvalid-mlogloss:1.15958\n",
      "[150]\ttrain-mlogloss:0.184643\tvalid-mlogloss:1.16981\n",
      "[200]\ttrain-mlogloss:0.11522\tvalid-mlogloss:1.21776\n",
      "Stopping. Best iteration:\n",
      "[111]\ttrain-mlogloss:0.278403\tvalid-mlogloss:1.15226\n",
      "\n",
      "fold = 6\n",
      "val multi_log_loss: 0.9644744088046981\n",
      "test multi_log_loss: 1.2659985149360222\n",
      "test f1_score: 0.37339840172077604\n",
      "test accuracy: 0.529891304347826\n",
      "[[50  3  1 22 11  4  3  0  0]\n",
      " [ 3 13  0  3  1  1 25  0  0]\n",
      " [ 0  0  1  2  0  2  2  0  0]\n",
      " [15  3  1 43  0  0  3  0  0]\n",
      " [ 1  0  0  6 14  2  2  0  0]\n",
      " [ 1  2  0  3  4  6  6  0  0]\n",
      " [ 2 17  1 11  0  3 67  0  0]\n",
      " [ 0  1  0  0  0  0  1  0  0]\n",
      " [ 2  0  0  2  0  0  1  0  1]]\n",
      "-------------------\n",
      "\n",
      "\n",
      "\n",
      "[0]\ttrain-mlogloss:2.11692\tvalid-mlogloss:2.15405\n",
      "Multiple eval metrics have been passed: 'valid-mlogloss' will be used for early stopping.\n",
      "\n",
      "Will train until valid-mlogloss hasn't improved in 100 rounds.\n",
      "[50]\ttrain-mlogloss:0.645591\tvalid-mlogloss:1.40137\n",
      "[100]\ttrain-mlogloss:0.307392\tvalid-mlogloss:1.31716\n",
      "[150]\ttrain-mlogloss:0.176969\tvalid-mlogloss:1.36797\n",
      "Stopping. Best iteration:\n",
      "[95]\ttrain-mlogloss:0.327073\tvalid-mlogloss:1.31285\n",
      "\n",
      "fold = 7\n",
      "val multi_log_loss: 1.024945417136178\n",
      "test multi_log_loss: 1.2933327689534053\n",
      "test f1_score: 0.37690335613548087\n",
      "test accuracy: 0.5380434782608695\n",
      "[[56  1  1 19 11  3  3  0  0]\n",
      " [ 3 12  0  3  1  1 26  0  0]\n",
      " [ 1  0  3  0  0  1  2  0  0]\n",
      " [15  2  1 40  2  1  4  0  0]\n",
      " [ 4  0  1  7  9  2  2  0  0]\n",
      " [ 1  1  0  4  5  4  7  0  0]\n",
      " [ 3 12  2  8  2  1 73  0  0]\n",
      " [ 0  0  0  1  0  0  1  0  0]\n",
      " [ 2  0  0  2  0  0  1  0  1]]\n",
      "-------------------\n",
      "\n",
      "\n",
      "\n",
      "[0]\ttrain-mlogloss:2.10834\tvalid-mlogloss:2.12493\n",
      "Multiple eval metrics have been passed: 'valid-mlogloss' will be used for early stopping.\n",
      "\n",
      "Will train until valid-mlogloss hasn't improved in 100 rounds.\n",
      "[50]\ttrain-mlogloss:0.666243\tvalid-mlogloss:1.18477\n",
      "[100]\ttrain-mlogloss:0.320782\tvalid-mlogloss:0.998256\n",
      "[150]\ttrain-mlogloss:0.187587\tvalid-mlogloss:0.952016\n",
      "[200]\ttrain-mlogloss:0.119245\tvalid-mlogloss:0.959287\n",
      "[250]\ttrain-mlogloss:0.076597\tvalid-mlogloss:0.990664\n",
      "Stopping. Best iteration:\n",
      "[171]\ttrain-mlogloss:0.154329\tvalid-mlogloss:0.94981\n",
      "\n",
      "fold = 8\n",
      "val multi_log_loss: 0.8545271657183207\n",
      "test multi_log_loss: 1.2123984736542257\n",
      "test f1_score: 0.3526775723284687\n",
      "test accuracy: 0.5570652173913043\n",
      "[[50  1  2 19 14  3  5  0  0]\n",
      " [ 3 11  0  3  0  0 29  0  0]\n",
      " [ 1  0  2  1  0  0  3  0  0]\n",
      " [18  0  1 40  0  0  6  0  0]\n",
      " [ 2  0  0  5 17  0  1  0  0]\n",
      " [ 2  1  1  2  6  3  7  0  0]\n",
      " [ 3 10  2  4  0  0 82  0  0]\n",
      " [ 0  1  0  0  0  0  1  0  0]\n",
      " [ 3  0  0  2  0  0  1  0  0]]\n",
      "-------------------\n",
      "\n",
      "\n",
      "\n",
      "[0]\ttrain-mlogloss:2.1099\tvalid-mlogloss:2.156\n",
      "Multiple eval metrics have been passed: 'valid-mlogloss' will be used for early stopping.\n",
      "\n",
      "Will train until valid-mlogloss hasn't improved in 100 rounds.\n",
      "[50]\ttrain-mlogloss:0.657886\tvalid-mlogloss:1.44884\n",
      "[100]\ttrain-mlogloss:0.312525\tvalid-mlogloss:1.39657\n",
      "[150]\ttrain-mlogloss:0.183675\tvalid-mlogloss:1.45504\n",
      "Stopping. Best iteration:\n",
      "[90]\ttrain-mlogloss:0.355348\tvalid-mlogloss:1.38871\n",
      "\n",
      "fold = 9\n",
      "val multi_log_loss: 1.0714815211363304\n",
      "test multi_log_loss: 1.2932468328888163\n",
      "test f1_score: 0.43393423412464877\n",
      "test accuracy: 0.5380434782608695\n",
      "[[52  0  1 18 17  2  4  0  0]\n",
      " [ 4 12  0  3  0  1 26  0  0]\n",
      " [ 1  0  1  1  0  0  4  0  0]\n",
      " [18  1  1 39  0  0  6  0  0]\n",
      " [ 0  0  1  7 14  1  2  0  0]\n",
      " [ 1  1  1  4  1  7  7  0  0]\n",
      " [ 6 11  2 10  2  1 69  0  0]\n",
      " [ 0  0  0  1  0  0  1  0  0]\n",
      " [ 0  0  0  2  0  0  0  0  4]]\n",
      "-------------------\n",
      "\n",
      "\n",
      "\n"
     ]
    }
   ],
   "source": [
    "denom = 0\n",
    "fold = 10 \n",
    "for i in range(fold):\n",
    "    params = {\n",
    "        'eta': 0.03333,\n",
    "        'max_depth': 6,\n",
    "        'subsample' : 0.8,\n",
    "        'colsample_bytree':0.8,\n",
    "        'objective': 'multi:softprob',\n",
    "        'eval_metric': 'mlogloss',\n",
    "        'num_class': 9,\n",
    "        'seed': i,\n",
    "        'silent': True\n",
    "    }\n",
    "    x1, x2, y1, y2 = train_test_split(df_train, y, test_size=0.2, random_state=i)\n",
    "    w1 = [wts_per_class[j+1] for j in y1]\n",
    "    w2 = [wts_per_class[j+1] for j in y2]\n",
    "    watchlist = [(xgb.DMatrix(x1, y1,weight=w1), 'train'), (xgb.DMatrix(x2, y2,weight=w2), 'valid')]\n",
    "    model = xgb.train(params, xgb.DMatrix(x1, y1,weight=w1), 1000,  watchlist, verbose_eval=50, early_stopping_rounds=100)\n",
    "    score1 = log_loss(y2, model.predict(xgb.DMatrix(x2), \n",
    "                                        ntree_limit=model.best_ntree_limit),  \n",
    "                      labels = list(range(9)))\n",
    "    print('fold = {:d}'.format(i))\n",
    "    print('val multi_log_loss: {}'.format(score1))\n",
    "    \n",
    "    #if score < 0.9:\n",
    "    if denom != 0:\n",
    "        pred = model.predict(xgb.DMatrix(df_test), ntree_limit=model.best_ntree_limit+80)\n",
    "        preds += pred\n",
    "    else:\n",
    "        pred = model.predict(xgb.DMatrix(df_test), ntree_limit=model.best_ntree_limit+80)\n",
    "        preds = pred.copy()\n",
    "    \n",
    "    denom += 1\n",
    "    score2 = log_loss(test_labels, pred, labels = list(range(9)))\n",
    "    print('test multi_log_loss: {}'.format(score2))\n",
    "    \n",
    "    fscore = f1_score(test_labels, pred.argmax(axis=1), labels = list(range(9)), average='macro')\n",
    "    print('test f1_score: {}'.format(fscore))\n",
    "    \n",
    "    acc = accuracy_score(test_labels, pred.argmax(axis=1))\n",
    "    print('test accuracy: {}'.format(acc))\n",
    "    \n",
    "    print(confusion_matrix(test_labels, pred.argmax(axis=1), labels = list(range(9))))\n",
    "    \n",
    "    print('-------------------')\n",
    "    print('\\n\\n')\n",
    "    \n",
    "#     submission = pd.DataFrame(pred, columns=['class'+str(c+1) for c in range(9)])\n",
    "#     submission['ID'] = pid\n",
    "#     submission.to_csv('../submissions/sub_stage1_2_2_wt_xgb_fold_'  + str(i) + '.csv', index=False)"
   ]
  },
  {
   "cell_type": "code",
   "execution_count": 20,
   "metadata": {},
   "outputs": [
    {
     "name": "stdout",
     "output_type": "stream",
     "text": [
      "test multi_log_loss: 1.2932468328888163\n",
      "test f1_score: 0.43393423412464877\n",
      "test accuracy: 0.5380434782608695\n",
      "[[52  0  1 18 17  2  4  0  0]\n",
      " [ 4 12  0  3  0  1 26  0  0]\n",
      " [ 1  0  1  1  0  0  4  0  0]\n",
      " [18  1  1 39  0  0  6  0  0]\n",
      " [ 0  0  1  7 14  1  2  0  0]\n",
      " [ 1  1  1  4  1  7  7  0  0]\n",
      " [ 6 11  2 10  2  1 69  0  0]\n",
      " [ 0  0  0  1  0  0  1  0  0]\n",
      " [ 0  0  0  2  0  0  0  0  4]]\n"
     ]
    },
    {
     "name": "stderr",
     "output_type": "stream",
     "text": [
      "/home/watts/anaconda2/envs/aind-dog/lib/python3.6/site-packages/sklearn/metrics/classification.py:1135: UndefinedMetricWarning: F-score is ill-defined and being set to 0.0 in labels with no predicted samples.\n",
      "  'precision', 'predicted', average, warn_for)\n"
     ]
    }
   ],
   "source": [
    "score2 = log_loss(test_labels, pred, labels = list(range(9)))\n",
    "print('test multi_log_loss: {}'.format(score2))\n",
    "\n",
    "fscore = f1_score(test_labels, pred.argmax(axis=1), labels = list(range(9)), average='macro')\n",
    "print('test f1_score: {}'.format(fscore))\n",
    "\n",
    "acc = accuracy_score(test_labels, pred.argmax(axis=1))\n",
    "print('test accuracy: {}'.format(acc))\n",
    "\n",
    "print(confusion_matrix(test_labels, pred.argmax(axis=1), labels = list(range(9))))\n",
    "\n",
    "# with no lambda, no alpha we get\n",
    "# val multi_log_loss: 1.0247328862547875\n",
    "# test multi_log_loss: 1.41869956478679\n",
    "# test f1_score: 0.2549920698056178\n",
    "# test accuracy: 0.4429347826086957\n",
    "\n",
    "# with alpha: 100 we get:\n",
    "# val multi_log_loss: 1.1108881736468328\n",
    "# test multi_log_loss: 1.5692192874848843\n",
    "# test f1_score: 0.27029986646550364\n",
    "# test accuracy: 0.40217391304347827\n",
    "\n",
    "# with alpha 500 we get:\n",
    "# test multi_log_loss: 1.9443259673274083\n",
    "# test f1_score: 0.2713471712458167\n",
    "# test accuracy: 0.30978260869565216\n",
    "    \n",
    "# below with lambda 700\n",
    "# test multi_log_loss: 1.45"
   ]
  },
  {
   "cell_type": "code",
   "execution_count": 21,
   "metadata": {},
   "outputs": [
    {
     "name": "stdout",
     "output_type": "stream",
     "text": [
      "final multi_log_loss: 1.2342428618070225\n",
      "final f1_score: 0.36933577459893246\n",
      "final accuracy: 0.5652173913043478\n",
      "[[57  2  1 18 13  1  2  0  0]\n",
      " [ 3 11  0  4  0  1 27  0  0]\n",
      " [ 1  0  2  1  0  1  2  0  0]\n",
      " [17  1  1 42  0  0  4  0  0]\n",
      " [ 0  0  0  6 16  1  2  0  0]\n",
      " [ 2  1  1  3  3  5  7  0  0]\n",
      " [ 4 12  2  6  0  2 75  0  0]\n",
      " [ 0  1  0  0  0  0  1  0  0]\n",
      " [ 2  0  0  3  0  0  1  0  0]]\n"
     ]
    },
    {
     "name": "stderr",
     "output_type": "stream",
     "text": [
      "/home/watts/anaconda2/envs/aind-dog/lib/python3.6/site-packages/sklearn/metrics/classification.py:1135: UndefinedMetricWarning: F-score is ill-defined and being set to 0.0 in labels with no predicted samples.\n",
      "  'precision', 'predicted', average, warn_for)\n"
     ]
    }
   ],
   "source": [
    "pred1 = preds/denom\n",
    "\n",
    "score2 = log_loss(test_labels, pred1, labels = list(range(9)))\n",
    "print('final multi_log_loss: {}'.format(score2))\n",
    "\n",
    "fscore = f1_score(test_labels, pred1.argmax(axis=1), labels = list(range(9)), average='macro')\n",
    "print('final f1_score: {}'.format(fscore))\n",
    "\n",
    "acc = accuracy_score(test_labels, pred1.argmax(axis=1))\n",
    "print('final accuracy: {}'.format(acc))\n",
    "\n",
    "print(confusion_matrix(test_labels, pred1.argmax(axis=1), labels = list(range(9))))"
   ]
  },
  {
   "cell_type": "code",
   "execution_count": null,
   "metadata": {
    "collapsed": true
   },
   "outputs": [],
   "source": []
  }
 ],
 "metadata": {
  "kernelspec": {
   "display_name": "Python 3",
   "language": "python",
   "name": "python3"
  },
  "language_info": {
   "codemirror_mode": {
    "name": "ipython",
    "version": 3
   },
   "file_extension": ".py",
   "mimetype": "text/x-python",
   "name": "python",
   "nbconvert_exporter": "python",
   "pygments_lexer": "ipython3",
   "version": "3.6.1"
  }
 },
 "nbformat": 4,
 "nbformat_minor": 2
}
