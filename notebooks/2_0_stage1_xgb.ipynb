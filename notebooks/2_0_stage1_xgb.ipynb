{
 "cells": [
  {
   "cell_type": "code",
   "execution_count": 1,
   "metadata": {
    "collapsed": true
   },
   "outputs": [],
   "source": [
    "import re\n",
    "import numpy as np\n",
    "import pandas as pd\n",
    "import feather\n",
    "import xgboost as xgb\n",
    "import feather\n",
    "from sklearn.base import BaseEstimator as be\n",
    "from sklearn.base import TransformerMixin as tm\n",
    "from sklearn.pipeline import Pipeline\n",
    "from sklearn.pipeline import FeatureUnion\n",
    "from sklearn.feature_extraction.text import CountVectorizer\n",
    "from sklearn.feature_extraction.text import HashingVectorizer\n",
    "from sklearn.feature_extraction.text import TfidfTransformer\n",
    "from sklearn.decomposition import TruncatedSVD\n",
    "from sklearn.model_selection import train_test_split\n",
    "from sklearn.metrics import log_loss\n",
    "\n",
    "from nltk.corpus import stopwords\n",
    "from nltk.stem import SnowballStemmer"
   ]
  },
  {
   "cell_type": "code",
   "execution_count": 2,
   "metadata": {
    "collapsed": true
   },
   "outputs": [],
   "source": [
    "df_train = feather.read_dataframe('../cache/train_stage1_fe.feather')"
   ]
  },
  {
   "cell_type": "code",
   "execution_count": 3,
   "metadata": {},
   "outputs": [
    {
     "data": {
      "text/plain": [
       "(3321, 3285)"
      ]
     },
     "execution_count": 3,
     "metadata": {},
     "output_type": "execute_result"
    }
   ],
   "source": [
    "df_train.shape"
   ]
  },
  {
   "cell_type": "code",
   "execution_count": 4,
   "metadata": {},
   "outputs": [
    {
     "data": {
      "text/html": [
       "<div>\n",
       "<style>\n",
       "    .dataframe thead tr:only-child th {\n",
       "        text-align: right;\n",
       "    }\n",
       "\n",
       "    .dataframe thead th {\n",
       "        text-align: left;\n",
       "    }\n",
       "\n",
       "    .dataframe tbody tr th {\n",
       "        vertical-align: top;\n",
       "    }\n",
       "</style>\n",
       "<table border=\"1\" class=\"dataframe\">\n",
       "  <thead>\n",
       "    <tr style=\"text-align: right;\">\n",
       "      <th></th>\n",
       "      <th>ID</th>\n",
       "      <th>Gene</th>\n",
       "      <th>Variation</th>\n",
       "      <th>Text</th>\n",
       "      <th>GeneVar</th>\n",
       "      <th>Gene_Share</th>\n",
       "      <th>Variation_Share</th>\n",
       "      <th>Gene_Variation_Share</th>\n",
       "      <th>GL</th>\n",
       "      <th>VL</th>\n",
       "      <th>...</th>\n",
       "      <th>Gene_words</th>\n",
       "      <th>Variation_lbl_enc</th>\n",
       "      <th>Variation_len</th>\n",
       "      <th>Variation_words</th>\n",
       "      <th>Text_len</th>\n",
       "      <th>Text_words</th>\n",
       "      <th>GeneVar_lbl_enc</th>\n",
       "      <th>GeneVar_len</th>\n",
       "      <th>GeneVar_words</th>\n",
       "      <th>Class</th>\n",
       "    </tr>\n",
       "  </thead>\n",
       "  <tbody>\n",
       "    <tr>\n",
       "      <th>0</th>\n",
       "      <td>0</td>\n",
       "      <td>FAM58A</td>\n",
       "      <td>Truncating Mutations</td>\n",
       "      <td>Cyclin-dependent kinases (CDKs) regulate a var...</td>\n",
       "      <td>FAM58A Truncating Mutations</td>\n",
       "      <td>1</td>\n",
       "      <td>1</td>\n",
       "      <td>2</td>\n",
       "      <td>6</td>\n",
       "      <td>20</td>\n",
       "      <td>...</td>\n",
       "      <td>1</td>\n",
       "      <td>7654</td>\n",
       "      <td>20</td>\n",
       "      <td>2</td>\n",
       "      <td>39672</td>\n",
       "      <td>6105</td>\n",
       "      <td>3213</td>\n",
       "      <td>27</td>\n",
       "      <td>3</td>\n",
       "      <td>1</td>\n",
       "    </tr>\n",
       "    <tr>\n",
       "      <th>1</th>\n",
       "      <td>1</td>\n",
       "      <td>CBL</td>\n",
       "      <td>W802*</td>\n",
       "      <td>Abstract Background  Non-small cell lung canc...</td>\n",
       "      <td>CBL W802*</td>\n",
       "      <td>1</td>\n",
       "      <td>1</td>\n",
       "      <td>2</td>\n",
       "      <td>3</td>\n",
       "      <td>5</td>\n",
       "      <td>...</td>\n",
       "      <td>1</td>\n",
       "      <td>8255</td>\n",
       "      <td>5</td>\n",
       "      <td>1</td>\n",
       "      <td>36691</td>\n",
       "      <td>5783</td>\n",
       "      <td>1680</td>\n",
       "      <td>9</td>\n",
       "      <td>2</td>\n",
       "      <td>2</td>\n",
       "    </tr>\n",
       "    <tr>\n",
       "      <th>2</th>\n",
       "      <td>2</td>\n",
       "      <td>CBL</td>\n",
       "      <td>Q249E</td>\n",
       "      <td>Abstract Background  Non-small cell lung canc...</td>\n",
       "      <td>CBL Q249E</td>\n",
       "      <td>1</td>\n",
       "      <td>1</td>\n",
       "      <td>2</td>\n",
       "      <td>3</td>\n",
       "      <td>5</td>\n",
       "      <td>...</td>\n",
       "      <td>1</td>\n",
       "      <td>5191</td>\n",
       "      <td>5</td>\n",
       "      <td>1</td>\n",
       "      <td>36691</td>\n",
       "      <td>5783</td>\n",
       "      <td>1672</td>\n",
       "      <td>9</td>\n",
       "      <td>2</td>\n",
       "      <td>2</td>\n",
       "    </tr>\n",
       "    <tr>\n",
       "      <th>3</th>\n",
       "      <td>3</td>\n",
       "      <td>CBL</td>\n",
       "      <td>N454D</td>\n",
       "      <td>Recent evidence has demonstrated that acquired...</td>\n",
       "      <td>CBL N454D</td>\n",
       "      <td>1</td>\n",
       "      <td>1</td>\n",
       "      <td>2</td>\n",
       "      <td>3</td>\n",
       "      <td>5</td>\n",
       "      <td>...</td>\n",
       "      <td>1</td>\n",
       "      <td>4572</td>\n",
       "      <td>5</td>\n",
       "      <td>1</td>\n",
       "      <td>36238</td>\n",
       "      <td>5625</td>\n",
       "      <td>1668</td>\n",
       "      <td>9</td>\n",
       "      <td>2</td>\n",
       "      <td>3</td>\n",
       "    </tr>\n",
       "    <tr>\n",
       "      <th>4</th>\n",
       "      <td>4</td>\n",
       "      <td>CBL</td>\n",
       "      <td>L399V</td>\n",
       "      <td>Oncogenic mutations in the monomeric Casitas B...</td>\n",
       "      <td>CBL L399V</td>\n",
       "      <td>1</td>\n",
       "      <td>1</td>\n",
       "      <td>2</td>\n",
       "      <td>3</td>\n",
       "      <td>5</td>\n",
       "      <td>...</td>\n",
       "      <td>1</td>\n",
       "      <td>3958</td>\n",
       "      <td>5</td>\n",
       "      <td>1</td>\n",
       "      <td>41308</td>\n",
       "      <td>6248</td>\n",
       "      <td>1666</td>\n",
       "      <td>9</td>\n",
       "      <td>2</td>\n",
       "      <td>4</td>\n",
       "    </tr>\n",
       "  </tbody>\n",
       "</table>\n",
       "<p>5 rows × 3285 columns</p>\n",
       "</div>"
      ],
      "text/plain": [
       "   ID    Gene             Variation  \\\n",
       "0   0  FAM58A  Truncating Mutations   \n",
       "1   1     CBL                 W802*   \n",
       "2   2     CBL                 Q249E   \n",
       "3   3     CBL                 N454D   \n",
       "4   4     CBL                 L399V   \n",
       "\n",
       "                                                Text  \\\n",
       "0  Cyclin-dependent kinases (CDKs) regulate a var...   \n",
       "1   Abstract Background  Non-small cell lung canc...   \n",
       "2   Abstract Background  Non-small cell lung canc...   \n",
       "3  Recent evidence has demonstrated that acquired...   \n",
       "4  Oncogenic mutations in the monomeric Casitas B...   \n",
       "\n",
       "                       GeneVar  Gene_Share  Variation_Share  \\\n",
       "0  FAM58A Truncating Mutations           1                1   \n",
       "1                    CBL W802*           1                1   \n",
       "2                    CBL Q249E           1                1   \n",
       "3                    CBL N454D           1                1   \n",
       "4                    CBL L399V           1                1   \n",
       "\n",
       "   Gene_Variation_Share  GL  VL  ...    Gene_words  Variation_lbl_enc  \\\n",
       "0                     2   6  20  ...             1               7654   \n",
       "1                     2   3   5  ...             1               8255   \n",
       "2                     2   3   5  ...             1               5191   \n",
       "3                     2   3   5  ...             1               4572   \n",
       "4                     2   3   5  ...             1               3958   \n",
       "\n",
       "   Variation_len  Variation_words  Text_len  Text_words  GeneVar_lbl_enc  \\\n",
       "0             20                2     39672        6105             3213   \n",
       "1              5                1     36691        5783             1680   \n",
       "2              5                1     36691        5783             1672   \n",
       "3              5                1     36238        5625             1668   \n",
       "4              5                1     41308        6248             1666   \n",
       "\n",
       "   GeneVar_len  GeneVar_words  Class  \n",
       "0           27              3      1  \n",
       "1            9              2      2  \n",
       "2            9              2      2  \n",
       "3            9              2      3  \n",
       "4            9              2      4  \n",
       "\n",
       "[5 rows x 3285 columns]"
      ]
     },
     "execution_count": 4,
     "metadata": {},
     "output_type": "execute_result"
    }
   ],
   "source": [
    "df_train.head()"
   ]
  },
  {
   "cell_type": "code",
   "execution_count": 6,
   "metadata": {
    "collapsed": true
   },
   "outputs": [],
   "source": [
    "df_test = feather.read_dataframe('../cache/test_stage1_fe.feather')"
   ]
  },
  {
   "cell_type": "code",
   "execution_count": 7,
   "metadata": {},
   "outputs": [
    {
     "data": {
      "text/plain": [
       "(5668, 3284)"
      ]
     },
     "execution_count": 7,
     "metadata": {},
     "output_type": "execute_result"
    }
   ],
   "source": [
    "df_test.shape"
   ]
  },
  {
   "cell_type": "code",
   "execution_count": 8,
   "metadata": {},
   "outputs": [
    {
     "data": {
      "text/html": [
       "<div>\n",
       "<style>\n",
       "    .dataframe thead tr:only-child th {\n",
       "        text-align: right;\n",
       "    }\n",
       "\n",
       "    .dataframe thead th {\n",
       "        text-align: left;\n",
       "    }\n",
       "\n",
       "    .dataframe tbody tr th {\n",
       "        vertical-align: top;\n",
       "    }\n",
       "</style>\n",
       "<table border=\"1\" class=\"dataframe\">\n",
       "  <thead>\n",
       "    <tr style=\"text-align: right;\">\n",
       "      <th></th>\n",
       "      <th>ID</th>\n",
       "      <th>Gene</th>\n",
       "      <th>Variation</th>\n",
       "      <th>Text</th>\n",
       "      <th>GeneVar</th>\n",
       "      <th>Gene_Share</th>\n",
       "      <th>Variation_Share</th>\n",
       "      <th>Gene_Variation_Share</th>\n",
       "      <th>GL</th>\n",
       "      <th>VL</th>\n",
       "      <th>...</th>\n",
       "      <th>Gene_len</th>\n",
       "      <th>Gene_words</th>\n",
       "      <th>Variation_lbl_enc</th>\n",
       "      <th>Variation_len</th>\n",
       "      <th>Variation_words</th>\n",
       "      <th>Text_len</th>\n",
       "      <th>Text_words</th>\n",
       "      <th>GeneVar_lbl_enc</th>\n",
       "      <th>GeneVar_len</th>\n",
       "      <th>GeneVar_words</th>\n",
       "    </tr>\n",
       "  </thead>\n",
       "  <tbody>\n",
       "    <tr>\n",
       "      <th>0</th>\n",
       "      <td>0</td>\n",
       "      <td>ACSL4</td>\n",
       "      <td>R570S</td>\n",
       "      <td>2. This mutation resulted in a myeloproliferat...</td>\n",
       "      <td>ACSL4 R570S</td>\n",
       "      <td>0</td>\n",
       "      <td>1</td>\n",
       "      <td>1</td>\n",
       "      <td>5</td>\n",
       "      <td>5</td>\n",
       "      <td>...</td>\n",
       "      <td>5</td>\n",
       "      <td>1</td>\n",
       "      <td>6404</td>\n",
       "      <td>5</td>\n",
       "      <td>1</td>\n",
       "      <td>49829</td>\n",
       "      <td>7495</td>\n",
       "      <td>188</td>\n",
       "      <td>11</td>\n",
       "      <td>2</td>\n",
       "    </tr>\n",
       "    <tr>\n",
       "      <th>1</th>\n",
       "      <td>1</td>\n",
       "      <td>NAGLU</td>\n",
       "      <td>P521L</td>\n",
       "      <td>Abstract The Large Tumor Suppressor 1 (LATS1)...</td>\n",
       "      <td>NAGLU P521L</td>\n",
       "      <td>0</td>\n",
       "      <td>1</td>\n",
       "      <td>1</td>\n",
       "      <td>5</td>\n",
       "      <td>5</td>\n",
       "      <td>...</td>\n",
       "      <td>5</td>\n",
       "      <td>1</td>\n",
       "      <td>5005</td>\n",
       "      <td>5</td>\n",
       "      <td>1</td>\n",
       "      <td>31326</td>\n",
       "      <td>4762</td>\n",
       "      <td>5540</td>\n",
       "      <td>11</td>\n",
       "      <td>2</td>\n",
       "    </tr>\n",
       "    <tr>\n",
       "      <th>2</th>\n",
       "      <td>2</td>\n",
       "      <td>PAH</td>\n",
       "      <td>L333F</td>\n",
       "      <td>Vascular endothelial growth factor receptor (V...</td>\n",
       "      <td>PAH L333F</td>\n",
       "      <td>0</td>\n",
       "      <td>1</td>\n",
       "      <td>1</td>\n",
       "      <td>3</td>\n",
       "      <td>5</td>\n",
       "      <td>...</td>\n",
       "      <td>3</td>\n",
       "      <td>1</td>\n",
       "      <td>3915</td>\n",
       "      <td>5</td>\n",
       "      <td>1</td>\n",
       "      <td>75282</td>\n",
       "      <td>11191</td>\n",
       "      <td>6023</td>\n",
       "      <td>9</td>\n",
       "      <td>2</td>\n",
       "    </tr>\n",
       "    <tr>\n",
       "      <th>3</th>\n",
       "      <td>3</td>\n",
       "      <td>ING1</td>\n",
       "      <td>A148D</td>\n",
       "      <td>Inflammatory myofibroblastic tumor (IMT) is a ...</td>\n",
       "      <td>ING1 A148D</td>\n",
       "      <td>0</td>\n",
       "      <td>1</td>\n",
       "      <td>1</td>\n",
       "      <td>4</td>\n",
       "      <td>5</td>\n",
       "      <td>...</td>\n",
       "      <td>4</td>\n",
       "      <td>1</td>\n",
       "      <td>85</td>\n",
       "      <td>5</td>\n",
       "      <td>1</td>\n",
       "      <td>53996</td>\n",
       "      <td>8439</td>\n",
       "      <td>4354</td>\n",
       "      <td>10</td>\n",
       "      <td>2</td>\n",
       "    </tr>\n",
       "    <tr>\n",
       "      <th>4</th>\n",
       "      <td>4</td>\n",
       "      <td>TMEM216</td>\n",
       "      <td>G77A</td>\n",
       "      <td>Abstract Retinoblastoma is a pediatric retina...</td>\n",
       "      <td>TMEM216 G77A</td>\n",
       "      <td>0</td>\n",
       "      <td>1</td>\n",
       "      <td>1</td>\n",
       "      <td>7</td>\n",
       "      <td>4</td>\n",
       "      <td>...</td>\n",
       "      <td>7</td>\n",
       "      <td>1</td>\n",
       "      <td>2780</td>\n",
       "      <td>4</td>\n",
       "      <td>1</td>\n",
       "      <td>76967</td>\n",
       "      <td>11226</td>\n",
       "      <td>8211</td>\n",
       "      <td>12</td>\n",
       "      <td>2</td>\n",
       "    </tr>\n",
       "  </tbody>\n",
       "</table>\n",
       "<p>5 rows × 3284 columns</p>\n",
       "</div>"
      ],
      "text/plain": [
       "   ID     Gene Variation                                               Text  \\\n",
       "0   0    ACSL4     R570S  2. This mutation resulted in a myeloproliferat...   \n",
       "1   1    NAGLU     P521L   Abstract The Large Tumor Suppressor 1 (LATS1)...   \n",
       "2   2      PAH     L333F  Vascular endothelial growth factor receptor (V...   \n",
       "3   3     ING1     A148D  Inflammatory myofibroblastic tumor (IMT) is a ...   \n",
       "4   4  TMEM216      G77A   Abstract Retinoblastoma is a pediatric retina...   \n",
       "\n",
       "        GeneVar  Gene_Share  Variation_Share  Gene_Variation_Share  GL  VL  \\\n",
       "0   ACSL4 R570S           0                1                     1   5   5   \n",
       "1   NAGLU P521L           0                1                     1   5   5   \n",
       "2     PAH L333F           0                1                     1   3   5   \n",
       "3    ING1 A148D           0                1                     1   4   5   \n",
       "4  TMEM216 G77A           0                1                     1   7   4   \n",
       "\n",
       "       ...        Gene_len  Gene_words  Variation_lbl_enc  Variation_len  \\\n",
       "0      ...               5           1               6404              5   \n",
       "1      ...               5           1               5005              5   \n",
       "2      ...               3           1               3915              5   \n",
       "3      ...               4           1                 85              5   \n",
       "4      ...               7           1               2780              4   \n",
       "\n",
       "   Variation_words  Text_len  Text_words  GeneVar_lbl_enc  GeneVar_len  \\\n",
       "0                1     49829        7495              188           11   \n",
       "1                1     31326        4762             5540           11   \n",
       "2                1     75282       11191             6023            9   \n",
       "3                1     53996        8439             4354           10   \n",
       "4                1     76967       11226             8211           12   \n",
       "\n",
       "   GeneVar_words  \n",
       "0              2  \n",
       "1              2  \n",
       "2              2  \n",
       "3              2  \n",
       "4              2  \n",
       "\n",
       "[5 rows x 3284 columns]"
      ]
     },
     "execution_count": 8,
     "metadata": {},
     "output_type": "execute_result"
    }
   ],
   "source": [
    "df_test.head()"
   ]
  },
  {
   "cell_type": "code",
   "execution_count": 9,
   "metadata": {
    "collapsed": true
   },
   "outputs": [],
   "source": [
    "pid = df_test.ID.values"
   ]
  },
  {
   "cell_type": "code",
   "execution_count": 10,
   "metadata": {
    "collapsed": true
   },
   "outputs": [],
   "source": [
    "########################################\n",
    "## process texts in datasets\n",
    "########################################\n",
    "\n",
    "\n",
    "# The function \"text_to_wordlist\" is from\n",
    "# https://www.kaggle.com/currie32/quora-question-pairs/the-importance-of-cleaning-text\n",
    "def text_to_wordlist(text, remove_stopwords=True, stem_words=True):\n",
    "    # Clean the text, with the option to remove stopwords and to stem words.\n",
    "    \n",
    "    # Convert words to lower case and split them\n",
    "    text = text.lower().split()\n",
    "\n",
    "    my_stopwords = [\n",
    "        \"fig\", \"figure\", \"et\", \"al\", \"table\",\n",
    "        \"data\", \"analysis\", \"analyze\", \"study\",\n",
    "        \"method\", \"result\", \"conclusion\", \"author\",\n",
    "        \"find\", \"found\", \"show\", \"perform\",\n",
    "        \"demonstrate\", \"evaluate\", \"discuss\"\n",
    "    ]\n",
    "    \n",
    "    # Optionally, remove stop words\n",
    "    if remove_stopwords:\n",
    "        stops = set(stopwords.words(\"english\"))\n",
    "        text = [w for w in text if not w in stops]\n",
    "        text = [w for w in text if not w in my_stopwords]\n",
    "    \n",
    "    text = \" \".join(text)\n",
    "\n",
    "    # Clean the text\n",
    "    text = re.sub(r\"[^A-Za-z0-9^,!.\\/'+-=]\", \" \", text)\n",
    "    text = re.sub(r\"what's\", \"what is \", text)\n",
    "    text = re.sub(r\"\\'s\", \" \", text)\n",
    "    text = re.sub(r\"\\'ve\", \" have \", text)\n",
    "    text = re.sub(r\"can't\", \"cannot \", text)\n",
    "    text = re.sub(r\"n't\", \" not \", text)\n",
    "    text = re.sub(r\"i'm\", \"i am \", text)\n",
    "    text = re.sub(r\"\\'re\", \" are \", text)\n",
    "    text = re.sub(r\"\\'d\", \" would \", text)\n",
    "    text = re.sub(r\"\\'ll\", \" will \", text)\n",
    "    text = re.sub(r\",\", \" \", text)\n",
    "    text = re.sub(r\"\\.\", \" \", text)\n",
    "    text = re.sub(r\"!\", \" ! \", text)\n",
    "    text = re.sub(r\"\\/\", \" \", text)\n",
    "    text = re.sub(r\"\\^\", \" ^ \", text)\n",
    "    text = re.sub(r\"\\+\", \" + \", text)\n",
    "    text = re.sub(r\"\\-\", \" - \", text)\n",
    "    text = re.sub(r\"\\=\", \" = \", text)\n",
    "    text = re.sub(r\"'\", \" \", text)\n",
    "    text = re.sub(r\"(\\d+)(k)\", r\"\\g<1>000\", text)\n",
    "    text = re.sub(r\":\", \" : \", text)\n",
    "    text = re.sub(r\" e g \", \" eg \", text)\n",
    "    text = re.sub(r\" b g \", \" bg \", text)\n",
    "    text = re.sub(r\" u s \", \" american \", text)\n",
    "    text = re.sub(r\"\\0s\", \"0\", text)\n",
    "    text = re.sub(r\" 9 11 \", \"911\", text)\n",
    "    text = re.sub(r\"e - mail\", \"email\", text)\n",
    "    text = re.sub(r\"j k\", \"jk\", text)\n",
    "    text = re.sub(r\"\\s{2,}\", \" \", text)\n",
    "    \n",
    "    # Optionally, shorten words to their stems\n",
    "    if stem_words:\n",
    "        text = text.split()\n",
    "        stemmer = SnowballStemmer('english')\n",
    "        stemmed_words = [stemmer.stem(word) for word in text]\n",
    "        text = \" \".join(stemmed_words)\n",
    "    \n",
    "    # Return a list of words\n",
    "    return(text)"
   ]
  },
  {
   "cell_type": "code",
   "execution_count": 11,
   "metadata": {
    "collapsed": true
   },
   "outputs": [],
   "source": [
    "# from https://www.kaggle.com/the1owl/redefining-treatment-0-57456\n",
    "class cust_regression_vals(be, tm):\n",
    "    def fit(self, x, y=None):\n",
    "        return self\n",
    "    def transform(self, x):\n",
    "        x = x.drop(['Gene', 'Variation', 'ID','Text', 'GeneVar'],axis=1).values\n",
    "        return x\n",
    "\n",
    "class cust_txt_col(be, tm):\n",
    "    def __init__(self, key):\n",
    "        self.key = key\n",
    "    def fit(self, x, y=None):\n",
    "        return self\n",
    "    def transform(self, x):\n",
    "        return x[self.key].apply(str)\n"
   ]
  },
  {
   "cell_type": "code",
   "execution_count": 12,
   "metadata": {
    "collapsed": true
   },
   "outputs": [],
   "source": [
    "# from https://www.kaggle.com/the1owl/redefining-treatment-0-57456\n",
    "fp = Pipeline([\n",
    "    ('union', FeatureUnion(\n",
    "        n_jobs = -1,\n",
    "        transformer_list = [\n",
    "            ('standard', cust_regression_vals()),\n",
    "            ('pi1', Pipeline([('Gene', cust_txt_col('Gene')), \n",
    "                                       ('count_Gene', CountVectorizer(analyzer=u'char',ngram_range=(1, 3))), \n",
    "                                       ('tsvd1', TruncatedSVD(n_components=20, n_iter=25, random_state=12))])),\n",
    "            ('pi2', Pipeline([('Variation', cust_txt_col('Variation')), \n",
    "                                       ('count_Variation', CountVectorizer(analyzer=u'char',ngram_range=(1, 3))), \n",
    "                                       ('tsvd2', TruncatedSVD(n_components=20, n_iter=25, random_state=12))])),\n",
    "            ('pi3', Pipeline([('GeneVar', cust_txt_col('GeneVar')), \n",
    "                                       ('count_GeneVar', CountVectorizer(analyzer=u'char', ngram_range=(1, 3))), \n",
    "                                       ('tsvd2', TruncatedSVD(n_components=20, n_iter=25, \n",
    "                                                                            random_state=12))])),\n",
    "            ('pi4',Pipeline([('Text', cust_txt_col('Text')), \n",
    "                                       ('hv', HashingVectorizer(decode_error='ignore', \n",
    "                                                                                        n_features=2 ** 16,\n",
    "                                                                                        non_negative=True, \n",
    "                                                                                        ngram_range=(1, 5))),\n",
    "                                       ('tfidf_Text', TfidfTransformer()), \n",
    "                                       ('tsvd3', TruncatedSVD(n_components=300, n_iter=25, \n",
    "                                                                            random_state=12))]))\n",
    "\n",
    "        \n",
    "        ])\n",
    "    )])\n"
   ]
  },
  {
   "cell_type": "code",
   "execution_count": 13,
   "metadata": {
    "collapsed": true
   },
   "outputs": [],
   "source": [
    "df_train['Text'] = [text_to_wordlist(w) for w in df_train['Text'].values]"
   ]
  },
  {
   "cell_type": "code",
   "execution_count": 14,
   "metadata": {
    "collapsed": true
   },
   "outputs": [],
   "source": [
    "df_test['Text'] = [text_to_wordlist(w) for w in df_test['Text'].values]"
   ]
  },
  {
   "cell_type": "code",
   "execution_count": 15,
   "metadata": {},
   "outputs": [
    {
     "data": {
      "text/html": [
       "<div>\n",
       "<style>\n",
       "    .dataframe thead tr:only-child th {\n",
       "        text-align: right;\n",
       "    }\n",
       "\n",
       "    .dataframe thead th {\n",
       "        text-align: left;\n",
       "    }\n",
       "\n",
       "    .dataframe tbody tr th {\n",
       "        vertical-align: top;\n",
       "    }\n",
       "</style>\n",
       "<table border=\"1\" class=\"dataframe\">\n",
       "  <thead>\n",
       "    <tr style=\"text-align: right;\">\n",
       "      <th></th>\n",
       "      <th>ID</th>\n",
       "      <th>Gene</th>\n",
       "      <th>Variation</th>\n",
       "      <th>Text</th>\n",
       "      <th>GeneVar</th>\n",
       "      <th>Gene_Share</th>\n",
       "      <th>Variation_Share</th>\n",
       "      <th>Gene_Variation_Share</th>\n",
       "      <th>GL</th>\n",
       "      <th>VL</th>\n",
       "      <th>...</th>\n",
       "      <th>Gene_words</th>\n",
       "      <th>Variation_lbl_enc</th>\n",
       "      <th>Variation_len</th>\n",
       "      <th>Variation_words</th>\n",
       "      <th>Text_len</th>\n",
       "      <th>Text_words</th>\n",
       "      <th>GeneVar_lbl_enc</th>\n",
       "      <th>GeneVar_len</th>\n",
       "      <th>GeneVar_words</th>\n",
       "      <th>Class</th>\n",
       "    </tr>\n",
       "  </thead>\n",
       "  <tbody>\n",
       "    <tr>\n",
       "      <th>0</th>\n",
       "      <td>0</td>\n",
       "      <td>FAM58A</td>\n",
       "      <td>Truncating Mutations</td>\n",
       "      <td>cyclin - depend kinas cdks regul varieti funda...</td>\n",
       "      <td>FAM58A Truncating Mutations</td>\n",
       "      <td>1</td>\n",
       "      <td>1</td>\n",
       "      <td>2</td>\n",
       "      <td>6</td>\n",
       "      <td>20</td>\n",
       "      <td>...</td>\n",
       "      <td>1</td>\n",
       "      <td>7654</td>\n",
       "      <td>20</td>\n",
       "      <td>2</td>\n",
       "      <td>39672</td>\n",
       "      <td>6105</td>\n",
       "      <td>3213</td>\n",
       "      <td>27</td>\n",
       "      <td>3</td>\n",
       "      <td>1</td>\n",
       "    </tr>\n",
       "    <tr>\n",
       "      <th>1</th>\n",
       "      <td>1</td>\n",
       "      <td>CBL</td>\n",
       "      <td>W802*</td>\n",
       "      <td>abstract background non - small cell lung canc...</td>\n",
       "      <td>CBL W802*</td>\n",
       "      <td>1</td>\n",
       "      <td>1</td>\n",
       "      <td>2</td>\n",
       "      <td>3</td>\n",
       "      <td>5</td>\n",
       "      <td>...</td>\n",
       "      <td>1</td>\n",
       "      <td>8255</td>\n",
       "      <td>5</td>\n",
       "      <td>1</td>\n",
       "      <td>36691</td>\n",
       "      <td>5783</td>\n",
       "      <td>1680</td>\n",
       "      <td>9</td>\n",
       "      <td>2</td>\n",
       "      <td>2</td>\n",
       "    </tr>\n",
       "    <tr>\n",
       "      <th>2</th>\n",
       "      <td>2</td>\n",
       "      <td>CBL</td>\n",
       "      <td>Q249E</td>\n",
       "      <td>abstract background non - small cell lung canc...</td>\n",
       "      <td>CBL Q249E</td>\n",
       "      <td>1</td>\n",
       "      <td>1</td>\n",
       "      <td>2</td>\n",
       "      <td>3</td>\n",
       "      <td>5</td>\n",
       "      <td>...</td>\n",
       "      <td>1</td>\n",
       "      <td>5191</td>\n",
       "      <td>5</td>\n",
       "      <td>1</td>\n",
       "      <td>36691</td>\n",
       "      <td>5783</td>\n",
       "      <td>1672</td>\n",
       "      <td>9</td>\n",
       "      <td>2</td>\n",
       "      <td>2</td>\n",
       "    </tr>\n",
       "    <tr>\n",
       "      <th>3</th>\n",
       "      <td>3</td>\n",
       "      <td>CBL</td>\n",
       "      <td>N454D</td>\n",
       "      <td>recent evid demonstr acquir uniparent disomi a...</td>\n",
       "      <td>CBL N454D</td>\n",
       "      <td>1</td>\n",
       "      <td>1</td>\n",
       "      <td>2</td>\n",
       "      <td>3</td>\n",
       "      <td>5</td>\n",
       "      <td>...</td>\n",
       "      <td>1</td>\n",
       "      <td>4572</td>\n",
       "      <td>5</td>\n",
       "      <td>1</td>\n",
       "      <td>36238</td>\n",
       "      <td>5625</td>\n",
       "      <td>1668</td>\n",
       "      <td>9</td>\n",
       "      <td>2</td>\n",
       "      <td>3</td>\n",
       "    </tr>\n",
       "    <tr>\n",
       "      <th>4</th>\n",
       "      <td>4</td>\n",
       "      <td>CBL</td>\n",
       "      <td>L399V</td>\n",
       "      <td>oncogen mutat monomer casita b - lineag lympho...</td>\n",
       "      <td>CBL L399V</td>\n",
       "      <td>1</td>\n",
       "      <td>1</td>\n",
       "      <td>2</td>\n",
       "      <td>3</td>\n",
       "      <td>5</td>\n",
       "      <td>...</td>\n",
       "      <td>1</td>\n",
       "      <td>3958</td>\n",
       "      <td>5</td>\n",
       "      <td>1</td>\n",
       "      <td>41308</td>\n",
       "      <td>6248</td>\n",
       "      <td>1666</td>\n",
       "      <td>9</td>\n",
       "      <td>2</td>\n",
       "      <td>4</td>\n",
       "    </tr>\n",
       "  </tbody>\n",
       "</table>\n",
       "<p>5 rows × 3285 columns</p>\n",
       "</div>"
      ],
      "text/plain": [
       "   ID    Gene             Variation  \\\n",
       "0   0  FAM58A  Truncating Mutations   \n",
       "1   1     CBL                 W802*   \n",
       "2   2     CBL                 Q249E   \n",
       "3   3     CBL                 N454D   \n",
       "4   4     CBL                 L399V   \n",
       "\n",
       "                                                Text  \\\n",
       "0  cyclin - depend kinas cdks regul varieti funda...   \n",
       "1  abstract background non - small cell lung canc...   \n",
       "2  abstract background non - small cell lung canc...   \n",
       "3  recent evid demonstr acquir uniparent disomi a...   \n",
       "4  oncogen mutat monomer casita b - lineag lympho...   \n",
       "\n",
       "                       GeneVar  Gene_Share  Variation_Share  \\\n",
       "0  FAM58A Truncating Mutations           1                1   \n",
       "1                    CBL W802*           1                1   \n",
       "2                    CBL Q249E           1                1   \n",
       "3                    CBL N454D           1                1   \n",
       "4                    CBL L399V           1                1   \n",
       "\n",
       "   Gene_Variation_Share  GL  VL  ...    Gene_words  Variation_lbl_enc  \\\n",
       "0                     2   6  20  ...             1               7654   \n",
       "1                     2   3   5  ...             1               8255   \n",
       "2                     2   3   5  ...             1               5191   \n",
       "3                     2   3   5  ...             1               4572   \n",
       "4                     2   3   5  ...             1               3958   \n",
       "\n",
       "   Variation_len  Variation_words  Text_len  Text_words  GeneVar_lbl_enc  \\\n",
       "0             20                2     39672        6105             3213   \n",
       "1              5                1     36691        5783             1680   \n",
       "2              5                1     36691        5783             1672   \n",
       "3              5                1     36238        5625             1668   \n",
       "4              5                1     41308        6248             1666   \n",
       "\n",
       "   GeneVar_len  GeneVar_words  Class  \n",
       "0           27              3      1  \n",
       "1            9              2      2  \n",
       "2            9              2      2  \n",
       "3            9              2      3  \n",
       "4            9              2      4  \n",
       "\n",
       "[5 rows x 3285 columns]"
      ]
     },
     "execution_count": 15,
     "metadata": {},
     "output_type": "execute_result"
    }
   ],
   "source": [
    "df_train.head()"
   ]
  },
  {
   "cell_type": "code",
   "execution_count": 16,
   "metadata": {
    "collapsed": true
   },
   "outputs": [],
   "source": [
    "y = df_train['Class'].values"
   ]
  },
  {
   "cell_type": "code",
   "execution_count": null,
   "metadata": {
    "collapsed": true
   },
   "outputs": [],
   "source": []
  },
  {
   "cell_type": "code",
   "execution_count": 17,
   "metadata": {
    "collapsed": true
   },
   "outputs": [],
   "source": [
    "tr = df_train\n",
    "te = df_test"
   ]
  },
  {
   "cell_type": "code",
   "execution_count": 18,
   "metadata": {
    "collapsed": true
   },
   "outputs": [],
   "source": [
    "# y = tr['Class'].values"
   ]
  },
  {
   "cell_type": "code",
   "execution_count": 19,
   "metadata": {},
   "outputs": [
    {
     "data": {
      "text/plain": [
       "set()"
      ]
     },
     "execution_count": 19,
     "metadata": {},
     "output_type": "execute_result"
    }
   ],
   "source": [
    "set(te.columns) - set(tr.columns)"
   ]
  },
  {
   "cell_type": "code",
   "execution_count": 20,
   "metadata": {
    "collapsed": true
   },
   "outputs": [],
   "source": [
    "df_train = df_train.drop('Class',axis=1)"
   ]
  },
  {
   "cell_type": "code",
   "execution_count": 21,
   "metadata": {
    "collapsed": true
   },
   "outputs": [],
   "source": [
    "# df_train = df_train.drop('ID', axis=1)\n",
    "# df_test = df_test.drop('ID', axis=1)"
   ]
  },
  {
   "cell_type": "code",
   "execution_count": 22,
   "metadata": {
    "collapsed": true
   },
   "outputs": [],
   "source": [
    "# df_train = tr"
   ]
  },
  {
   "cell_type": "code",
   "execution_count": 23,
   "metadata": {},
   "outputs": [
    {
     "name": "stderr",
     "output_type": "stream",
     "text": [
      "/home/watts/anaconda2/envs/aind-dog/lib/python3.6/site-packages/sklearn/feature_extraction/hashing.py:94: DeprecationWarning: the option non_negative=True has been deprecated in 0.19 and will be removed in version 0.21.\n",
      "  \" in version 0.21.\", DeprecationWarning)\n",
      "/home/watts/anaconda2/envs/aind-dog/lib/python3.6/site-packages/sklearn/feature_extraction/hashing.py:94: DeprecationWarning: the option non_negative=True has been deprecated in 0.19 and will be removed in version 0.21.\n",
      "  \" in version 0.21.\", DeprecationWarning)\n"
     ]
    },
    {
     "name": "stdout",
     "output_type": "stream",
     "text": [
      "(3321, 3639)\n"
     ]
    }
   ],
   "source": [
    "df_train = fp.fit_transform(df_train)\n",
    "print (df_train.shape)\n"
   ]
  },
  {
   "cell_type": "code",
   "execution_count": 24,
   "metadata": {},
   "outputs": [
    {
     "name": "stderr",
     "output_type": "stream",
     "text": [
      "/home/watts/anaconda2/envs/aind-dog/lib/python3.6/site-packages/sklearn/feature_extraction/hashing.py:94: DeprecationWarning: the option non_negative=True has been deprecated in 0.19 and will be removed in version 0.21.\n",
      "  \" in version 0.21.\", DeprecationWarning)\n",
      "/home/watts/anaconda2/envs/aind-dog/lib/python3.6/site-packages/sklearn/feature_extraction/hashing.py:94: DeprecationWarning: the option non_negative=True has been deprecated in 0.19 and will be removed in version 0.21.\n",
      "  \" in version 0.21.\", DeprecationWarning)\n"
     ]
    },
    {
     "name": "stdout",
     "output_type": "stream",
     "text": [
      "(5668, 3639)\n"
     ]
    }
   ],
   "source": [
    "df_test = fp.fit_transform(df_test)\n",
    "print (df_test.shape)"
   ]
  },
  {
   "cell_type": "code",
   "execution_count": 39,
   "metadata": {
    "collapsed": true
   },
   "outputs": [],
   "source": [
    "np.save('../cache/train_stage1_fe2', df_train)\n",
    "np.save('../cache/test_stage1_fe2', df_test)"
   ]
  },
  {
   "cell_type": "code",
   "execution_count": null,
   "metadata": {
    "collapsed": true
   },
   "outputs": [],
   "source": []
  },
  {
   "cell_type": "code",
   "execution_count": 26,
   "metadata": {
    "collapsed": true
   },
   "outputs": [],
   "source": [
    "y = y - 1 #fix for zero bound array"
   ]
  },
  {
   "cell_type": "code",
   "execution_count": 27,
   "metadata": {},
   "outputs": [
    {
     "name": "stdout",
     "output_type": "stream",
     "text": [
      "[0]\ttrain-mlogloss:2.12726\tvalid-mlogloss:2.14125\n",
      "Multiple eval metrics have been passed: 'valid-mlogloss' will be used for early stopping.\n",
      "\n",
      "Will train until valid-mlogloss hasn't improved in 100 rounds.\n",
      "[50]\ttrain-mlogloss:0.799957\tvalid-mlogloss:1.19866\n",
      "[100]\ttrain-mlogloss:0.438798\tvalid-mlogloss:1.01021\n",
      "[150]\ttrain-mlogloss:0.266687\tvalid-mlogloss:0.963871\n",
      "[200]\ttrain-mlogloss:0.1701\tvalid-mlogloss:0.953723\n",
      "[250]\ttrain-mlogloss:0.112619\tvalid-mlogloss:0.961239\n",
      "Stopping. Best iteration:\n",
      "[199]\ttrain-mlogloss:0.17176\tvalid-mlogloss:0.95365\n",
      "\n",
      "0.953650406181\n",
      "[0]\ttrain-mlogloss:2.12734\tvalid-mlogloss:2.1407\n",
      "Multiple eval metrics have been passed: 'valid-mlogloss' will be used for early stopping.\n",
      "\n",
      "Will train until valid-mlogloss hasn't improved in 100 rounds.\n",
      "[50]\ttrain-mlogloss:0.797302\tvalid-mlogloss:1.16073\n",
      "[100]\ttrain-mlogloss:0.435802\tvalid-mlogloss:0.969399\n",
      "[150]\ttrain-mlogloss:0.264644\tvalid-mlogloss:0.920349\n",
      "[200]\ttrain-mlogloss:0.167103\tvalid-mlogloss:0.915376\n",
      "[250]\ttrain-mlogloss:0.110169\tvalid-mlogloss:0.922531\n",
      "Stopping. Best iteration:\n",
      "[198]\ttrain-mlogloss:0.169868\tvalid-mlogloss:0.914961\n",
      "\n",
      "0.91496095865\n",
      "[0]\ttrain-mlogloss:2.1294\tvalid-mlogloss:2.14222\n",
      "Multiple eval metrics have been passed: 'valid-mlogloss' will be used for early stopping.\n",
      "\n",
      "Will train until valid-mlogloss hasn't improved in 100 rounds.\n",
      "[50]\ttrain-mlogloss:0.808902\tvalid-mlogloss:1.14632\n",
      "[100]\ttrain-mlogloss:0.438453\tvalid-mlogloss:0.94233\n",
      "[150]\ttrain-mlogloss:0.264736\tvalid-mlogloss:0.885387\n",
      "[200]\ttrain-mlogloss:0.169028\tvalid-mlogloss:0.871481\n",
      "[250]\ttrain-mlogloss:0.111475\tvalid-mlogloss:0.875538\n",
      "[300]\ttrain-mlogloss:0.077146\tvalid-mlogloss:0.886403\n",
      "Stopping. Best iteration:\n",
      "[206]\ttrain-mlogloss:0.160363\tvalid-mlogloss:0.871027\n",
      "\n",
      "0.871026978411\n",
      "[0]\ttrain-mlogloss:2.13011\tvalid-mlogloss:2.14143\n",
      "Multiple eval metrics have been passed: 'valid-mlogloss' will be used for early stopping.\n",
      "\n",
      "Will train until valid-mlogloss hasn't improved in 100 rounds.\n",
      "[50]\ttrain-mlogloss:0.802527\tvalid-mlogloss:1.17218\n",
      "[100]\ttrain-mlogloss:0.437015\tvalid-mlogloss:0.980017\n",
      "[150]\ttrain-mlogloss:0.263095\tvalid-mlogloss:0.928522\n",
      "[200]\ttrain-mlogloss:0.165725\tvalid-mlogloss:0.921086\n",
      "[250]\ttrain-mlogloss:0.109206\tvalid-mlogloss:0.926559\n",
      "Stopping. Best iteration:\n",
      "[197]\ttrain-mlogloss:0.170405\tvalid-mlogloss:0.920175\n",
      "\n",
      "0.92017507451\n",
      "[0]\ttrain-mlogloss:2.12974\tvalid-mlogloss:2.14049\n",
      "Multiple eval metrics have been passed: 'valid-mlogloss' will be used for early stopping.\n",
      "\n",
      "Will train until valid-mlogloss hasn't improved in 100 rounds.\n",
      "[50]\ttrain-mlogloss:0.810087\tvalid-mlogloss:1.12033\n",
      "[100]\ttrain-mlogloss:0.441714\tvalid-mlogloss:0.909461\n",
      "[150]\ttrain-mlogloss:0.264221\tvalid-mlogloss:0.845996\n",
      "[200]\ttrain-mlogloss:0.167343\tvalid-mlogloss:0.828013\n",
      "[250]\ttrain-mlogloss:0.110649\tvalid-mlogloss:0.824872\n",
      "[300]\ttrain-mlogloss:0.076273\tvalid-mlogloss:0.830748\n",
      "Stopping. Best iteration:\n",
      "[222]\ttrain-mlogloss:0.139005\tvalid-mlogloss:0.82374\n",
      "\n",
      "0.823740037804\n",
      "[0]\ttrain-mlogloss:2.12699\tvalid-mlogloss:2.14183\n",
      "Multiple eval metrics have been passed: 'valid-mlogloss' will be used for early stopping.\n",
      "\n",
      "Will train until valid-mlogloss hasn't improved in 100 rounds.\n",
      "[50]\ttrain-mlogloss:0.80748\tvalid-mlogloss:1.17935\n",
      "[100]\ttrain-mlogloss:0.441361\tvalid-mlogloss:0.993499\n",
      "[150]\ttrain-mlogloss:0.270503\tvalid-mlogloss:0.943816\n",
      "[200]\ttrain-mlogloss:0.170988\tvalid-mlogloss:0.931826\n",
      "[250]\ttrain-mlogloss:0.113006\tvalid-mlogloss:0.934602\n",
      "Stopping. Best iteration:\n",
      "[192]\ttrain-mlogloss:0.182727\tvalid-mlogloss:0.929937\n",
      "\n",
      "0.929936654432\n",
      "[0]\ttrain-mlogloss:2.12961\tvalid-mlogloss:2.13884\n",
      "Multiple eval metrics have been passed: 'valid-mlogloss' will be used for early stopping.\n",
      "\n",
      "Will train until valid-mlogloss hasn't improved in 100 rounds.\n",
      "[50]\ttrain-mlogloss:0.815248\tvalid-mlogloss:1.15226\n",
      "[100]\ttrain-mlogloss:0.445149\tvalid-mlogloss:0.949697\n",
      "[150]\ttrain-mlogloss:0.269699\tvalid-mlogloss:0.890216\n",
      "[200]\ttrain-mlogloss:0.170426\tvalid-mlogloss:0.876392\n",
      "[250]\ttrain-mlogloss:0.112963\tvalid-mlogloss:0.87753\n",
      "Stopping. Best iteration:\n",
      "[197]\ttrain-mlogloss:0.175332\tvalid-mlogloss:0.876005\n",
      "\n",
      "0.876005132782\n",
      "[0]\ttrain-mlogloss:2.128\tvalid-mlogloss:2.14146\n",
      "Multiple eval metrics have been passed: 'valid-mlogloss' will be used for early stopping.\n",
      "\n",
      "Will train until valid-mlogloss hasn't improved in 100 rounds.\n",
      "[50]\ttrain-mlogloss:0.808223\tvalid-mlogloss:1.16636\n",
      "[100]\ttrain-mlogloss:0.441976\tvalid-mlogloss:0.968107\n",
      "[150]\ttrain-mlogloss:0.264478\tvalid-mlogloss:0.917108\n",
      "[200]\ttrain-mlogloss:0.165176\tvalid-mlogloss:0.904134\n",
      "[250]\ttrain-mlogloss:0.109382\tvalid-mlogloss:0.908188\n",
      "[300]\ttrain-mlogloss:0.075907\tvalid-mlogloss:0.917294\n",
      "Stopping. Best iteration:\n",
      "[219]\ttrain-mlogloss:0.140162\tvalid-mlogloss:0.90375\n",
      "\n",
      "0.903750057213\n",
      "[0]\ttrain-mlogloss:2.12912\tvalid-mlogloss:2.1356\n",
      "Multiple eval metrics have been passed: 'valid-mlogloss' will be used for early stopping.\n",
      "\n",
      "Will train until valid-mlogloss hasn't improved in 100 rounds.\n",
      "[50]\ttrain-mlogloss:0.824965\tvalid-mlogloss:1.1017\n",
      "[100]\ttrain-mlogloss:0.452066\tvalid-mlogloss:0.898486\n",
      "[150]\ttrain-mlogloss:0.274094\tvalid-mlogloss:0.835974\n",
      "[200]\ttrain-mlogloss:0.172355\tvalid-mlogloss:0.819654\n",
      "[250]\ttrain-mlogloss:0.115103\tvalid-mlogloss:0.815337\n",
      "[300]\ttrain-mlogloss:0.07897\tvalid-mlogloss:0.81862\n",
      "Stopping. Best iteration:\n",
      "[241]\ttrain-mlogloss:0.123334\tvalid-mlogloss:0.81488\n",
      "\n",
      "0.814880219776\n",
      "[0]\ttrain-mlogloss:2.12817\tvalid-mlogloss:2.14055\n",
      "Multiple eval metrics have been passed: 'valid-mlogloss' will be used for early stopping.\n",
      "\n",
      "Will train until valid-mlogloss hasn't improved in 100 rounds.\n",
      "[50]\ttrain-mlogloss:0.803354\tvalid-mlogloss:1.18186\n",
      "[100]\ttrain-mlogloss:0.436727\tvalid-mlogloss:0.989291\n",
      "[150]\ttrain-mlogloss:0.264096\tvalid-mlogloss:0.936578\n",
      "[200]\ttrain-mlogloss:0.166797\tvalid-mlogloss:0.926567\n",
      "[250]\ttrain-mlogloss:0.110861\tvalid-mlogloss:0.932927\n",
      "Stopping. Best iteration:\n",
      "[198]\ttrain-mlogloss:0.169936\tvalid-mlogloss:0.926486\n",
      "\n",
      "0.9264864546\n"
     ]
    }
   ],
   "source": [
    " \n",
    "\n",
    "denom = 0\n",
    "fold = 10 \n",
    "for i in range(fold):\n",
    "    params = {\n",
    "        'eta': 0.03333,\n",
    "        'max_depth': 6,\n",
    "        'subsample' : 0.8,\n",
    "        'colsample_bytree':0.8,\n",
    "        'objective': 'multi:softprob',\n",
    "        'eval_metric': 'mlogloss',\n",
    "        'num_class': 9,\n",
    "        'seed': i,\n",
    "        'silent': True\n",
    "    }\n",
    "    x1, x2, y1, y2 = train_test_split(df_train, y, test_size=0.2, random_state=i)\n",
    "    watchlist = [(xgb.DMatrix(x1, y1), 'train'), (xgb.DMatrix(x2, y2), 'valid')]\n",
    "    model = xgb.train(params, xgb.DMatrix(x1, y1), 1000,  watchlist, verbose_eval=50, early_stopping_rounds=100)\n",
    "    score1 = log_loss(y2, model.predict(xgb.DMatrix(x2), \n",
    "                                                ntree_limit=model.best_ntree_limit), labels = list(range(9)))\n",
    "    print(score1)\n",
    "    #if score < 0.9:\n",
    "    if denom != 0:\n",
    "        pred = model.predict(xgb.DMatrix(df_test), ntree_limit=model.best_ntree_limit+80)\n",
    "        preds += pred\n",
    "    else:\n",
    "        pred = model.predict(xgb.DMatrix(df_test), ntree_limit=model.best_ntree_limit+80)\n",
    "        preds = pred.copy()\n",
    "    denom += 1\n",
    "    submission = pd.DataFrame(pred, columns=['class'+str(c+1) for c in range(9)])\n",
    "    submission['ID'] = pid\n",
    "    submission.to_csv('../submissions/sub_stage1_2_2_xgb_fold_'  + str(i) + '.csv', index=False)\n"
   ]
  },
  {
   "cell_type": "code",
   "execution_count": 28,
   "metadata": {
    "collapsed": true
   },
   "outputs": [],
   "source": [
    "submission = pd.DataFrame(preds/denom, columns=['class'+str(c+1) for c in range(9)])\n",
    "submission['ID'] = pid\n",
    "submission.to_csv('../submissions/sub_stage1_all_2_2_xgb.csv', index=False)\n"
   ]
  },
  {
   "cell_type": "code",
   "execution_count": 29,
   "metadata": {},
   "outputs": [
    {
     "data": {
      "text/plain": [
       "3321"
      ]
     },
     "execution_count": 29,
     "metadata": {},
     "output_type": "execute_result"
    }
   ],
   "source": [
    "len(y)"
   ]
  },
  {
   "cell_type": "code",
   "execution_count": 30,
   "metadata": {},
   "outputs": [
    {
     "data": {
      "text/plain": [
       "array([0, 1, 1, ..., 0, 3, 3])"
      ]
     },
     "execution_count": 30,
     "metadata": {},
     "output_type": "execute_result"
    }
   ],
   "source": [
    "y"
   ]
  },
  {
   "cell_type": "code",
   "execution_count": 31,
   "metadata": {
    "collapsed": true
   },
   "outputs": [],
   "source": [
    "y_pseudo = preds/denom"
   ]
  },
  {
   "cell_type": "code",
   "execution_count": 32,
   "metadata": {},
   "outputs": [
    {
     "data": {
      "text/plain": [
       "5668"
      ]
     },
     "execution_count": 32,
     "metadata": {},
     "output_type": "execute_result"
    }
   ],
   "source": [
    "len(y_pseudo)"
   ]
  },
  {
   "cell_type": "code",
   "execution_count": 33,
   "metadata": {},
   "outputs": [
    {
     "data": {
      "text/plain": [
       "array([[ 0.42293793,  0.04093169,  0.02649179, ...,  0.04608678,\n",
       "         0.00649906,  0.00520817],\n",
       "       [ 0.06321549,  0.16644001,  0.01254174, ...,  0.34201264,\n",
       "         0.00726146,  0.00739465],\n",
       "       [ 0.02275894,  0.08454458,  0.00732368, ...,  0.72487676,\n",
       "         0.00386394,  0.00228659],\n",
       "       ..., \n",
       "       [ 0.36186638,  0.03774822,  0.05082253, ...,  0.08273716,\n",
       "         0.00941261,  0.0176475 ],\n",
       "       [ 0.12545305,  0.11037054,  0.01478463, ...,  0.11276084,\n",
       "         0.01581366,  0.01079275],\n",
       "       [ 0.20397992,  0.18298969,  0.01799526, ...,  0.15102887,\n",
       "         0.00847349,  0.01424411]], dtype=float32)"
      ]
     },
     "execution_count": 33,
     "metadata": {},
     "output_type": "execute_result"
    }
   ],
   "source": [
    "y_pseudo"
   ]
  },
  {
   "cell_type": "code",
   "execution_count": 35,
   "metadata": {},
   "outputs": [],
   "source": [
    "df_preds = pd.read_csv('../submissions/sub_stage1_all_2_2_xgb.csv',index_col=False)\n",
    "df_preds = df_preds.drop('ID', axis=1)\n",
    "df_preds['class'] = df_preds.idxmax(axis=1)\n",
    "df_preds['class'] = df_preds['class'].str[-1].astype(int)\n",
    "df_preds['class'] = df_preds['class'] -1\n",
    "df_preds = df_preds.drop(['class1','class2','class3','class4','class5','class6',\n",
    "                          'class7','class8','class9'],axis=1)\n",
    "y_pseudo = df_preds['class'].values"
   ]
  },
  {
   "cell_type": "code",
   "execution_count": 36,
   "metadata": {
    "collapsed": true
   },
   "outputs": [],
   "source": [
    "Y = np.concatenate((y, y_pseudo), axis=0)"
   ]
  },
  {
   "cell_type": "code",
   "execution_count": 37,
   "metadata": {
    "collapsed": true
   },
   "outputs": [],
   "source": [
    "X = np.concatenate((df_train, df_test), axis=0)"
   ]
  },
  {
   "cell_type": "code",
   "execution_count": 43,
   "metadata": {},
   "outputs": [
    {
     "name": "stdout",
     "output_type": "stream",
     "text": [
      "[0]\ttrain-mlogloss:2.1168\tvalid-mlogloss:2.12448\n",
      "Multiple eval metrics have been passed: 'valid-mlogloss' will be used for early stopping.\n",
      "\n",
      "Will train until valid-mlogloss hasn't improved in 100 rounds.\n",
      "[50]\ttrain-mlogloss:0.796193\tvalid-mlogloss:0.993495\n",
      "[100]\ttrain-mlogloss:0.451584\tvalid-mlogloss:0.757996\n",
      "[150]\ttrain-mlogloss:0.29264\tvalid-mlogloss:0.673757\n",
      "[200]\ttrain-mlogloss:0.202792\tvalid-mlogloss:0.63976\n",
      "[250]\ttrain-mlogloss:0.145965\tvalid-mlogloss:0.622585\n",
      "[300]\ttrain-mlogloss:0.108087\tvalid-mlogloss:0.614343\n",
      "[350]\ttrain-mlogloss:0.08203\tvalid-mlogloss:0.612182\n",
      "[400]\ttrain-mlogloss:0.063684\tvalid-mlogloss:0.612438\n",
      "[450]\ttrain-mlogloss:0.05001\tvalid-mlogloss:0.614068\n",
      "Stopping. Best iteration:\n",
      "[357]\ttrain-mlogloss:0.079067\tvalid-mlogloss:0.611551\n",
      "\n",
      "0.611551246865\n",
      "[0]\ttrain-mlogloss:2.13221\tvalid-mlogloss:2.13776\n",
      "Multiple eval metrics have been passed: 'valid-mlogloss' will be used for early stopping.\n",
      "\n",
      "Will train until valid-mlogloss hasn't improved in 100 rounds.\n",
      "[50]\ttrain-mlogloss:0.801871\tvalid-mlogloss:0.97285\n",
      "[100]\ttrain-mlogloss:0.455834\tvalid-mlogloss:0.735601\n",
      "[150]\ttrain-mlogloss:0.296887\tvalid-mlogloss:0.656609\n",
      "[200]\ttrain-mlogloss:0.206619\tvalid-mlogloss:0.625296\n",
      "[250]\ttrain-mlogloss:0.1483\tvalid-mlogloss:0.609947\n",
      "[300]\ttrain-mlogloss:0.109374\tvalid-mlogloss:0.603445\n",
      "[350]\ttrain-mlogloss:0.082699\tvalid-mlogloss:0.601384\n",
      "[400]\ttrain-mlogloss:0.06382\tvalid-mlogloss:0.600965\n",
      "[450]\ttrain-mlogloss:0.049892\tvalid-mlogloss:0.602511\n",
      "Stopping. Best iteration:\n",
      "[367]\ttrain-mlogloss:0.075524\tvalid-mlogloss:0.600455\n",
      "\n",
      "0.600455326573\n",
      "[0]\ttrain-mlogloss:2.12782\tvalid-mlogloss:2.13483\n",
      "Multiple eval metrics have been passed: 'valid-mlogloss' will be used for early stopping.\n",
      "\n",
      "Will train until valid-mlogloss hasn't improved in 100 rounds.\n",
      "[50]\ttrain-mlogloss:0.793925\tvalid-mlogloss:0.996019\n",
      "[100]\ttrain-mlogloss:0.449107\tvalid-mlogloss:0.759008\n",
      "[150]\ttrain-mlogloss:0.293887\tvalid-mlogloss:0.676027\n",
      "[200]\ttrain-mlogloss:0.202923\tvalid-mlogloss:0.641459\n",
      "[250]\ttrain-mlogloss:0.146212\tvalid-mlogloss:0.624324\n",
      "[300]\ttrain-mlogloss:0.108438\tvalid-mlogloss:0.616291\n",
      "[350]\ttrain-mlogloss:0.082164\tvalid-mlogloss:0.61286\n",
      "[400]\ttrain-mlogloss:0.063484\tvalid-mlogloss:0.610757\n",
      "[450]\ttrain-mlogloss:0.049749\tvalid-mlogloss:0.610266\n",
      "[500]\ttrain-mlogloss:0.039598\tvalid-mlogloss:0.611056\n",
      "[550]\ttrain-mlogloss:0.032162\tvalid-mlogloss:0.613295\n",
      "Stopping. Best iteration:\n",
      "[455]\ttrain-mlogloss:0.048594\tvalid-mlogloss:0.609742\n",
      "\n",
      "0.609741902183\n",
      "[0]\ttrain-mlogloss:2.12261\tvalid-mlogloss:2.12913\n",
      "Multiple eval metrics have been passed: 'valid-mlogloss' will be used for early stopping.\n",
      "\n",
      "Will train until valid-mlogloss hasn't improved in 100 rounds.\n",
      "[50]\ttrain-mlogloss:0.800618\tvalid-mlogloss:0.993927\n",
      "[100]\ttrain-mlogloss:0.451489\tvalid-mlogloss:0.754521\n",
      "[150]\ttrain-mlogloss:0.293475\tvalid-mlogloss:0.671862\n",
      "[200]\ttrain-mlogloss:0.203097\tvalid-mlogloss:0.637663\n",
      "[250]\ttrain-mlogloss:0.146039\tvalid-mlogloss:0.622256\n",
      "[300]\ttrain-mlogloss:0.108408\tvalid-mlogloss:0.614248\n",
      "[350]\ttrain-mlogloss:0.081976\tvalid-mlogloss:0.611594\n",
      "[400]\ttrain-mlogloss:0.06333\tvalid-mlogloss:0.610319\n",
      "[450]\ttrain-mlogloss:0.049446\tvalid-mlogloss:0.611749\n",
      "Stopping. Best iteration:\n",
      "[384]\ttrain-mlogloss:0.068568\tvalid-mlogloss:0.6102\n",
      "\n",
      "0.610199913192\n",
      "[0]\ttrain-mlogloss:2.11421\tvalid-mlogloss:2.12117\n",
      "Multiple eval metrics have been passed: 'valid-mlogloss' will be used for early stopping.\n",
      "\n",
      "Will train until valid-mlogloss hasn't improved in 100 rounds.\n",
      "[50]\ttrain-mlogloss:0.786363\tvalid-mlogloss:1.01262\n",
      "[100]\ttrain-mlogloss:0.444837\tvalid-mlogloss:0.785449\n",
      "[150]\ttrain-mlogloss:0.289232\tvalid-mlogloss:0.709207\n",
      "[200]\ttrain-mlogloss:0.199498\tvalid-mlogloss:0.676959\n",
      "[250]\ttrain-mlogloss:0.143688\tvalid-mlogloss:0.662868\n",
      "[300]\ttrain-mlogloss:0.106301\tvalid-mlogloss:0.656092\n",
      "[350]\ttrain-mlogloss:0.080686\tvalid-mlogloss:0.65531\n",
      "[400]\ttrain-mlogloss:0.062353\tvalid-mlogloss:0.655474\n",
      "Stopping. Best iteration:\n",
      "[335]\ttrain-mlogloss:0.087467\tvalid-mlogloss:0.654561\n",
      "\n",
      "0.654560474352\n",
      "[0]\ttrain-mlogloss:2.12744\tvalid-mlogloss:2.13469\n",
      "Multiple eval metrics have been passed: 'valid-mlogloss' will be used for early stopping.\n",
      "\n",
      "Will train until valid-mlogloss hasn't improved in 100 rounds.\n",
      "[50]\ttrain-mlogloss:0.786025\tvalid-mlogloss:0.990552\n",
      "[100]\ttrain-mlogloss:0.446288\tvalid-mlogloss:0.761808\n",
      "[150]\ttrain-mlogloss:0.288308\tvalid-mlogloss:0.683697\n",
      "[200]\ttrain-mlogloss:0.197725\tvalid-mlogloss:0.65009\n",
      "[250]\ttrain-mlogloss:0.142814\tvalid-mlogloss:0.636661\n",
      "[300]\ttrain-mlogloss:0.105714\tvalid-mlogloss:0.632456\n",
      "[350]\ttrain-mlogloss:0.07997\tvalid-mlogloss:0.631934\n",
      "[400]\ttrain-mlogloss:0.061221\tvalid-mlogloss:0.63532\n",
      "Stopping. Best iteration:\n",
      "[325]\ttrain-mlogloss:0.091829\tvalid-mlogloss:0.631389\n",
      "\n",
      "0.631388843116\n",
      "[0]\ttrain-mlogloss:2.12884\tvalid-mlogloss:2.13639\n",
      "Multiple eval metrics have been passed: 'valid-mlogloss' will be used for early stopping.\n",
      "\n",
      "Will train until valid-mlogloss hasn't improved in 100 rounds.\n",
      "[50]\ttrain-mlogloss:0.798235\tvalid-mlogloss:0.992801\n",
      "[100]\ttrain-mlogloss:0.449339\tvalid-mlogloss:0.748408\n",
      "[150]\ttrain-mlogloss:0.292433\tvalid-mlogloss:0.665144\n",
      "[200]\ttrain-mlogloss:0.202282\tvalid-mlogloss:0.627671\n",
      "[250]\ttrain-mlogloss:0.146166\tvalid-mlogloss:0.610937\n",
      "[300]\ttrain-mlogloss:0.108177\tvalid-mlogloss:0.603759\n",
      "[350]\ttrain-mlogloss:0.081925\tvalid-mlogloss:0.600203\n",
      "[400]\ttrain-mlogloss:0.063051\tvalid-mlogloss:0.599771\n",
      "[450]\ttrain-mlogloss:0.049397\tvalid-mlogloss:0.600068\n",
      "[500]\ttrain-mlogloss:0.039339\tvalid-mlogloss:0.603055\n",
      "Stopping. Best iteration:\n",
      "[413]\ttrain-mlogloss:0.059066\tvalid-mlogloss:0.599059\n",
      "\n",
      "0.599058625063\n",
      "[0]\ttrain-mlogloss:2.12311\tvalid-mlogloss:2.13066\n",
      "Multiple eval metrics have been passed: 'valid-mlogloss' will be used for early stopping.\n",
      "\n",
      "Will train until valid-mlogloss hasn't improved in 100 rounds.\n",
      "[50]\ttrain-mlogloss:0.79671\tvalid-mlogloss:0.995084\n",
      "[100]\ttrain-mlogloss:0.450506\tvalid-mlogloss:0.761867\n",
      "[150]\ttrain-mlogloss:0.290977\tvalid-mlogloss:0.68338\n",
      "[200]\ttrain-mlogloss:0.201353\tvalid-mlogloss:0.649064\n",
      "[250]\ttrain-mlogloss:0.144339\tvalid-mlogloss:0.634259\n",
      "[300]\ttrain-mlogloss:0.107141\tvalid-mlogloss:0.626418\n",
      "[350]\ttrain-mlogloss:0.081293\tvalid-mlogloss:0.623547\n",
      "[400]\ttrain-mlogloss:0.062544\tvalid-mlogloss:0.623682\n",
      "[450]\ttrain-mlogloss:0.04907\tvalid-mlogloss:0.625864\n",
      "Stopping. Best iteration:\n",
      "[377]\ttrain-mlogloss:0.070183\tvalid-mlogloss:0.623064\n",
      "\n",
      "0.623064044306\n",
      "[0]\ttrain-mlogloss:2.1165\tvalid-mlogloss:2.12369\n",
      "Multiple eval metrics have been passed: 'valid-mlogloss' will be used for early stopping.\n",
      "\n",
      "Will train until valid-mlogloss hasn't improved in 100 rounds.\n",
      "[50]\ttrain-mlogloss:0.787091\tvalid-mlogloss:0.995726\n",
      "[100]\ttrain-mlogloss:0.445113\tvalid-mlogloss:0.76145\n",
      "[150]\ttrain-mlogloss:0.28884\tvalid-mlogloss:0.680233\n",
      "[200]\ttrain-mlogloss:0.199455\tvalid-mlogloss:0.646595\n",
      "[250]\ttrain-mlogloss:0.143911\tvalid-mlogloss:0.628696\n",
      "[300]\ttrain-mlogloss:0.106615\tvalid-mlogloss:0.621046\n",
      "[350]\ttrain-mlogloss:0.080413\tvalid-mlogloss:0.617528\n",
      "[400]\ttrain-mlogloss:0.062084\tvalid-mlogloss:0.616079\n",
      "[450]\ttrain-mlogloss:0.048472\tvalid-mlogloss:0.617034\n",
      "Stopping. Best iteration:\n",
      "[381]\ttrain-mlogloss:0.068339\tvalid-mlogloss:0.61553\n",
      "\n",
      "0.615530103517\n",
      "[0]\ttrain-mlogloss:2.12461\tvalid-mlogloss:2.13199\n",
      "Multiple eval metrics have been passed: 'valid-mlogloss' will be used for early stopping.\n",
      "\n",
      "Will train until valid-mlogloss hasn't improved in 100 rounds.\n",
      "[50]\ttrain-mlogloss:0.795989\tvalid-mlogloss:0.990281\n",
      "[100]\ttrain-mlogloss:0.45225\tvalid-mlogloss:0.747979\n",
      "[150]\ttrain-mlogloss:0.294634\tvalid-mlogloss:0.661951\n",
      "[200]\ttrain-mlogloss:0.203974\tvalid-mlogloss:0.625576\n",
      "[250]\ttrain-mlogloss:0.146712\tvalid-mlogloss:0.607301\n",
      "[300]\ttrain-mlogloss:0.108861\tvalid-mlogloss:0.598144\n",
      "[350]\ttrain-mlogloss:0.08257\tvalid-mlogloss:0.591511\n",
      "[400]\ttrain-mlogloss:0.063798\tvalid-mlogloss:0.590588\n",
      "[450]\ttrain-mlogloss:0.049691\tvalid-mlogloss:0.591051\n",
      "Stopping. Best iteration:\n",
      "[399]\ttrain-mlogloss:0.064116\tvalid-mlogloss:0.590405\n",
      "\n",
      "0.590404707582\n"
     ]
    }
   ],
   "source": [
    "denom = 0\n",
    "fold = 10 \n",
    "for i in range(fold):\n",
    "    params = {\n",
    "        'eta': 0.03333,\n",
    "        'max_depth': 6,\n",
    "        'subsample' : 0.8,\n",
    "        'colsample_bytree':0.8,\n",
    "        'objective': 'multi:softprob',\n",
    "        'eval_metric': 'mlogloss',\n",
    "        'num_class': 9,\n",
    "        'seed': i,\n",
    "        'silent': True,\n",
    "        'tree_method': 'gpu_hist'\n",
    "    }\n",
    "    x1, x2, y1, y2 = train_test_split(X, Y, test_size=0.2, random_state=i)\n",
    "    watchlist = [(xgb.DMatrix(x1, y1), 'train'), (xgb.DMatrix(x2, y2), 'valid')]\n",
    "    model = xgb.train(params, xgb.DMatrix(x1, y1), 1000,  watchlist, verbose_eval=50, early_stopping_rounds=100)\n",
    "    score1 = log_loss(y2, model.predict(xgb.DMatrix(x2), \n",
    "                                                ntree_limit=model.best_ntree_limit), labels = list(range(9)))\n",
    "    print(score1)\n",
    "    #if score < 0.9:\n",
    "    if denom != 0:\n",
    "        pred = model.predict(xgb.DMatrix(df_test), ntree_limit=model.best_ntree_limit+80)\n",
    "        preds += pred\n",
    "    else:\n",
    "        pred = model.predict(xgb.DMatrix(df_test), ntree_limit=model.best_ntree_limit+80)\n",
    "        preds = pred.copy()\n",
    "    denom += 1\n",
    "    submission = pd.DataFrame(pred, columns=['class'+str(c+1) for c in range(9)])\n",
    "    submission['ID'] = pid\n",
    "    submission.to_csv('../submissions/sub_stage1_pseudo_2_2_xgb_fold_'  + str(i) + '.csv', index=False)\n"
   ]
  },
  {
   "cell_type": "code",
   "execution_count": 44,
   "metadata": {
    "collapsed": true
   },
   "outputs": [],
   "source": [
    "submission = pd.DataFrame(preds/denom, columns=['class'+str(c+1) for c in range(9)])\n",
    "submission['ID'] = pid\n",
    "submission.to_csv('../submissions/sub_stage1_all_2_2_2_xgb.csv', index=False)\n"
   ]
  },
  {
   "cell_type": "code",
   "execution_count": null,
   "metadata": {
    "collapsed": true
   },
   "outputs": [],
   "source": [
    "# score 0.4571 on stage1 public leader board"
   ]
  },
  {
   "cell_type": "code",
   "execution_count": 38,
   "metadata": {
    "collapsed": true
   },
   "outputs": [],
   "source": []
  },
  {
   "cell_type": "code",
   "execution_count": 41,
   "metadata": {
    "collapsed": true
   },
   "outputs": [],
   "source": [
    "df = pd.DataFrame()\n",
    "df['y'] = y\n",
    "df.to_csv('../cache/stage1_labels.csv', index=None)"
   ]
  },
  {
   "cell_type": "code",
   "execution_count": 42,
   "metadata": {
    "collapsed": true
   },
   "outputs": [],
   "source": [
    "df = pd.DataFrame()\n",
    "df['ID'] = pid\n",
    "df.to_csv('../cache/stage1_test_id.csv', index=None)"
   ]
  },
  {
   "cell_type": "code",
   "execution_count": null,
   "metadata": {
    "collapsed": true
   },
   "outputs": [],
   "source": []
  }
 ],
 "metadata": {
  "kernelspec": {
   "display_name": "Python 3",
   "language": "python",
   "name": "python3"
  },
  "language_info": {
   "codemirror_mode": {
    "name": "ipython",
    "version": 3
   },
   "file_extension": ".py",
   "mimetype": "text/x-python",
   "name": "python",
   "nbconvert_exporter": "python",
   "pygments_lexer": "ipython3",
   "version": "3.6.1"
  }
 },
 "nbformat": 4,
 "nbformat_minor": 2
}
