{
 "cells": [
  {
   "cell_type": "code",
   "execution_count": 39,
   "metadata": {
    "collapsed": true
   },
   "outputs": [],
   "source": [
    "import numpy as np\n",
    "import pandas as pd\n",
    "import feather\n",
    "\n",
    "from sklearn.multiclass import OneVsRestClassifier\n",
    "from sklearn.multiclass import OneVsOneClassifier\n",
    "from sklearn.multiclass import OutputCodeClassifier\n",
    "  \n",
    "from sklearn.metrics import precision_score\n",
    "from sklearn.metrics import recall_score\n",
    "  \n",
    "from sklearn.svm import LinearSVC\n",
    "from sklearn.naive_bayes import MultinomialNB\n",
    "from sklearn.linear_model import (LinearRegression, Lasso, ElasticNet, Ridge,\n",
    "                                  Perceptron)\n",
    "from sklearn.tree import DecisionTreeClassifier\n",
    "from sklearn.grid_search import GridSearchCV\n",
    "from sklearn import svm\n",
    "from sklearn.linear_model import Perceptron\n",
    "from sklearn.naive_bayes import MultinomialNB\n",
    "\n",
    "from sklearn.utils.testing import assert_array_equal\n",
    "from sklearn.utils.testing import assert_equal\n",
    "from sklearn.utils.testing import assert_almost_equal\n",
    "from sklearn.utils.testing import assert_true\n",
    "from sklearn.utils.testing import assert_false\n",
    "from sklearn.utils.testing import assert_raises\n",
    "  \n",
    "from sklearn.utils.testing import assert_greater\n",
    "import pickle\n",
    "\n",
    "from sklearn.metrics import log_loss, confusion_matrix, f1_score, accuracy_score"
   ]
  },
  {
   "cell_type": "code",
   "execution_count": 3,
   "metadata": {
    "collapsed": true
   },
   "outputs": [],
   "source": [
    "df_train = np.load('../cache/train_stage2_fe2.npy')"
   ]
  },
  {
   "cell_type": "code",
   "execution_count": 5,
   "metadata": {
    "collapsed": true
   },
   "outputs": [],
   "source": [
    "df_test = np.load('../cache/test_stage2_fe2.npy')"
   ]
  },
  {
   "cell_type": "code",
   "execution_count": 7,
   "metadata": {
    "collapsed": true
   },
   "outputs": [],
   "source": [
    "df = pd.read_csv('../cache/train_stage2_labels.csv')"
   ]
  },
  {
   "cell_type": "code",
   "execution_count": 8,
   "metadata": {},
   "outputs": [
    {
     "data": {
      "text/html": [
       "<div>\n",
       "<style>\n",
       "    .dataframe thead tr:only-child th {\n",
       "        text-align: right;\n",
       "    }\n",
       "\n",
       "    .dataframe thead th {\n",
       "        text-align: left;\n",
       "    }\n",
       "\n",
       "    .dataframe tbody tr th {\n",
       "        vertical-align: top;\n",
       "    }\n",
       "</style>\n",
       "<table border=\"1\" class=\"dataframe\">\n",
       "  <thead>\n",
       "    <tr style=\"text-align: right;\">\n",
       "      <th></th>\n",
       "      <th>y</th>\n",
       "    </tr>\n",
       "  </thead>\n",
       "  <tbody>\n",
       "    <tr>\n",
       "      <th>0</th>\n",
       "      <td>1</td>\n",
       "    </tr>\n",
       "    <tr>\n",
       "      <th>1</th>\n",
       "      <td>2</td>\n",
       "    </tr>\n",
       "    <tr>\n",
       "      <th>2</th>\n",
       "      <td>2</td>\n",
       "    </tr>\n",
       "    <tr>\n",
       "      <th>3</th>\n",
       "      <td>3</td>\n",
       "    </tr>\n",
       "    <tr>\n",
       "      <th>4</th>\n",
       "      <td>4</td>\n",
       "    </tr>\n",
       "  </tbody>\n",
       "</table>\n",
       "</div>"
      ],
      "text/plain": [
       "   y\n",
       "0  1\n",
       "1  2\n",
       "2  2\n",
       "3  3\n",
       "4  4"
      ]
     },
     "execution_count": 8,
     "metadata": {},
     "output_type": "execute_result"
    }
   ],
   "source": [
    "df.head()"
   ]
  },
  {
   "cell_type": "code",
   "execution_count": 10,
   "metadata": {
    "collapsed": true
   },
   "outputs": [],
   "source": [
    "y = df['y'].values"
   ]
  },
  {
   "cell_type": "code",
   "execution_count": 11,
   "metadata": {},
   "outputs": [
    {
     "name": "stdout",
     "output_type": "stream",
     "text": [
      "{1: 4.572507552870091, 2: 6.407630522088353, 3: 37.427083333333336, 4: 3.912117177097204, 5: 12.816479400749063, 6: 11.42087542087542, 7: 2.5, 8: 174.66666666666666, 9: 84.79069767441861}\n"
     ]
    }
   ],
   "source": [
    "x1 = np.load('../cache/train_stage2_x1.npy')\n",
    "x2 = np.load('../cache/train_stage2_x2.npy')\n",
    "y1 = np.load('../cache/train_stage2_y1.npy')\n",
    "y2 = np.load('../cache/train_stage2_y2.npy')\n",
    "\n",
    "wts_per_class = np.load('../cache/stage2_train_weights_per_class.npy')\n",
    "wts_per_class = wts_per_class.tolist()\n",
    "print(wts_per_class)\n",
    "\n",
    "w1 = np.array([wts_per_class[j] for j in y1], )\n",
    "w2 = np.array([wts_per_class[j] for j in y2], )\n",
    "\n",
    "w = np.array([wts_per_class[j] for j in y], )"
   ]
  },
  {
   "cell_type": "code",
   "execution_count": 28,
   "metadata": {},
   "outputs": [
    {
     "name": "stdout",
     "output_type": "stream",
     "text": [
      "Fitting 3 folds for each of 5 candidates, totalling 15 fits\n",
      "[CV] estimator__C=0.1 ................................................\n",
      "[CV] ....................................... estimator__C=0.1 -  13.5s\n",
      "[CV] estimator__C=0.1 ................................................\n"
     ]
    },
    {
     "name": "stderr",
     "output_type": "stream",
     "text": [
      "[Parallel(n_jobs=1)]: Done   1 out of   1 | elapsed:   13.5s remaining:    0.0s\n"
     ]
    },
    {
     "name": "stdout",
     "output_type": "stream",
     "text": [
      "[CV] ....................................... estimator__C=0.1 -  13.3s\n",
      "[CV] estimator__C=0.1 ................................................\n",
      "[CV] ....................................... estimator__C=0.1 -  13.1s\n",
      "[CV] estimator__C=0.01 ...............................................\n",
      "[CV] ...................................... estimator__C=0.01 -  13.2s\n",
      "[CV] estimator__C=0.01 ...............................................\n",
      "[CV] ...................................... estimator__C=0.01 -  13.4s\n",
      "[CV] estimator__C=0.01 ...............................................\n",
      "[CV] ...................................... estimator__C=0.01 -  13.0s\n",
      "[CV] estimator__C=0.03 ...............................................\n",
      "[CV] ...................................... estimator__C=0.03 -  13.2s\n",
      "[CV] estimator__C=0.03 ...............................................\n",
      "[CV] ...................................... estimator__C=0.03 -  13.3s\n",
      "[CV] estimator__C=0.03 ...............................................\n",
      "[CV] ...................................... estimator__C=0.03 -  13.1s\n",
      "[CV] estimator__C=0.05 ...............................................\n",
      "[CV] ...................................... estimator__C=0.05 -  13.3s\n",
      "[CV] estimator__C=0.05 ...............................................\n",
      "[CV] ...................................... estimator__C=0.05 -  13.3s\n",
      "[CV] estimator__C=0.05 ...............................................\n",
      "[CV] ...................................... estimator__C=0.05 -  13.2s\n",
      "[CV] estimator__C=0.08 ...............................................\n",
      "[CV] ...................................... estimator__C=0.08 -  13.3s\n",
      "[CV] estimator__C=0.08 ...............................................\n",
      "[CV] ...................................... estimator__C=0.08 -  13.4s\n",
      "[CV] estimator__C=0.08 ...............................................\n",
      "[CV] ...................................... estimator__C=0.08 -  13.0s\n"
     ]
    },
    {
     "name": "stderr",
     "output_type": "stream",
     "text": [
      "[Parallel(n_jobs=1)]: Done  15 out of  15 | elapsed:  3.3min finished\n"
     ]
    }
   ],
   "source": [
    "ovo = OneVsOneClassifier(LinearSVC(random_state=0))\n",
    "Cs = [0.1, 0.01, 0.03, 0.05, 0.08, 0.5, 0.8]\n",
    "cv = GridSearchCV(ovo, {'estimator__C': Cs}, verbose=2, refit=True)\n",
    "cv.fit(df_train, y)\n",
    "best_C = cv.best_estimator_.estimators_[0].C\n",
    "assert_true(best_C in Cs)\n"
   ]
  },
  {
   "cell_type": "code",
   "execution_count": 29,
   "metadata": {},
   "outputs": [
    {
     "name": "stdout",
     "output_type": "stream",
     "text": [
      "0.1\n"
     ]
    }
   ],
   "source": [
    "print(best_C)"
   ]
  },
  {
   "cell_type": "code",
   "execution_count": 30,
   "metadata": {},
   "outputs": [
    {
     "name": "stdout",
     "output_type": "stream",
     "text": [
      "[1 1 4 4 1 1 1 4 1 7 1 7 7 7 1 1 1 7 1 1 1 1 7 1 1 1 4 2 4 1 1 7 1 1 1 2 1\n",
      " 7 1 1 1 1 1 4 7 2 1 1 7 7 1 7 2 1 4 1 4 1 1 1 1 1 1 2 1 4 1 1 7 1 4 1 1 7\n",
      " 1 4 7 1 1 1 1 1 1 7 1 1 1 1 1 1 1 1 1 1 7 1 1 1 1 1 1 7 1 1 4 1 1 1 1 1 7\n",
      " 4 1 7 7 1 4 1 1 1 1 7 1 1 1 1 1 1 7 7 1 4 1 7 1 1 1 7 4 1 1 1 1 1 1 7 1 1\n",
      " 1 2 4 1 4 1 1 7 1 1 1 2 1 4 1 7 1 1 2 4 4 1 4 1 7 1 7 1 1 4 1 1 1 1 1 1 4\n",
      " 4 1 1 1 1 7 1 1 1 1 1 1 1 1 2 1 1 1 1 1 1 1 1 1 1 7 2 1 7 7 7 1 7 7 1 1 1\n",
      " 1 1 7 1 1 1 4 1 1 1 4 1 1 1 1 7 1 4 1 1 1 1 1 1 7 1 7 7 7 4 1 1 7 1 1 1 1\n",
      " 4 7 4 1 1 7 1 4 1 1 7 2 1 7 1 1 7 1 7 7 1 1 1 1 1 1 7 1 7 1 1 1 4 7 1 1 7\n",
      " 1 1 1 1 4 7 1 7 1 7 1 1 1 1 4 4 1 1 1 1 2 7 7 1 4 1 1 1 7 1 7 7 1 1 4 1 1\n",
      " 1 1 7 2 1 1 1 4 1 1 1 4 1 4 1 1 4 7 1 4 2 1 7 1 1 1 4 1 7 7 2 1 4 7 7 2 1\n",
      " 1 7 1 7 4 7 1 7 1 1 1 1 1 1 1 1 7 1 1 1 1 1 1 1 1 1 1 1 1 1 1 7 7 1 2 1 1\n",
      " 1 4 1 1 1 4 1 1 7 4 1 1 7 1 1 1 7 7 1 1 1 1 1 1 1 1 7 7 1 7 1 1 4 7 7 1 1\n",
      " 1 4 1 1 4 7 1 1 1 1 1 7 1 1 1 1 1 1 1 7 7 2 1 1 7 7 1 7 1 1 1 1 7 1 1 1 4\n",
      " 4 7 1 1 1 7 4 7 1 1 7 1 1 1 7 1 1 1 1 1 1 4 1 1 1 1 1 2 1 1 2 1 1 1 1 1 4\n",
      " 1 7 1 7 1 4 7 1 1 7 1 7 1 4 4 1 1 1 7 1 1 1 4 7 1 4 1 7 1 1 1 1 7 1 1 7 1\n",
      " 1 7 1 1 1 1 1 7 1 7 7 1 1 1 4 4 1 1 1 1 4 1 1 1 1 1 2 1 1 1 1 7 1 4 7 1 7\n",
      " 1 7 7 1 4 7 1 1 1 4 1 4 1 1 1 1 1 7 1 1 7 1 7 1 1 7 1 1 4 7 1 4 7 4 1 4 7\n",
      " 1 1 7 1 1 7 1 1 7 1 7 1 4 1 7 1 2 1 1 1 1 1 2 1 1 4 1 7 4 7 1 1 7 4 1 1 1\n",
      " 1 1 7 1 1 7 1 1 1 4 1 7 1 1 1 1 4 1 7 1 4 1 7 7 1 1 1 1 1 7 2 1 1 1 1 1 1\n",
      " 1 4 1 1 1 1 1 1 7 7 1 4 1 7 1 1 1 2 1 1 2 1 7 1 1 1 4 2 1 4 7 1 7 1 1 1 4\n",
      " 4 1 7 1 1 4 1 1 1 1 1 1 7 1 1 1 1 1 1 1 1 7 1 1 1 4 1 7 1 1 7 1 1 1 7 1 1\n",
      " 2 1 1 1 1 1 7 1 7 1 1 1 1 7 7 1 1 1 1 4 1 1 7 1 1 1 1 4 1 4 1 1 2 1 1 2 1\n",
      " 7 7 1 1 1 1 1 1 1 1 1 7 4 1 1 1 1 1 1 1 1 1 7 7 1 1 1 1 1 1 7 7 7 1 7 1 1\n",
      " 1 1 1 1 7 1 1 4 1 1 1 7 7 1 1 1 1 1 1 7 2 1 1 1 1 1 1 1 4 1 7 1 1 1 1 1 7\n",
      " 1 7 2 7 1 1 1 1 7 1 1 1 1 1 1 1 1 4 2 7 1 7 1 1 1 1 1 1 7 1 1 1 7 1 7 1 7\n",
      " 4 2 7 1 7 1 7 1 1 1 1 7 7 4 1 1 1 7 1 1 1 7 1 1 1 1 4 7 1 1 7 1 7 7 7 1 4\n",
      " 7 7 1 1 1 1 1 1 1 1 1 1 1 1 2 1 7 1 1 2 1 7 4 7]\n"
     ]
    }
   ],
   "source": [
    "test_preds = cv.predict(df_test)\n",
    "print(test_preds)"
   ]
  },
  {
   "cell_type": "code",
   "execution_count": 20,
   "metadata": {
    "collapsed": true
   },
   "outputs": [],
   "source": [
    "df = pd.DataFrame()\n",
    "df['Class1'] =0\n",
    "df['Class2'] =0\n",
    "df['Class3'] =0\n",
    "df['Class4'] =0\n",
    "df['Class5'] =0\n",
    "df['Class6'] =0\n",
    "df['Class7'] =0\n",
    "df['Class8'] =0\n",
    "df['Class9'] =0"
   ]
  },
  {
   "cell_type": "code",
   "execution_count": 21,
   "metadata": {
    "collapsed": true
   },
   "outputs": [],
   "source": [
    "df['Class1'] = [0.95 if i == 0 else 0.05 for i in test_preds]\n",
    "df['Class2'] = [0.95 if i == 1 else 0.05 for i in test_preds]\n",
    "df['Class3'] = [0.95 if i == 2 else 0.05 for i in test_preds]\n",
    "df['Class4'] = [0.95 if i == 3 else 0.05 for i in test_preds]\n",
    "df['Class5'] = [0.95 if i == 4 else 0.05 for i in test_preds]\n",
    "df['Class6'] = [0.95 if i == 5 else 0.05 for i in test_preds]\n",
    "df['Class7'] = [0.95 if i == 6 else 0.05 for i in test_preds]\n",
    "df['Class8'] = [0.95 if i == 7 else 0.05 for i in test_preds]\n",
    "df['Class9'] = [0.95 if i == 8 else 0.05 for i in test_preds]"
   ]
  },
  {
   "cell_type": "code",
   "execution_count": 22,
   "metadata": {},
   "outputs": [
    {
     "data": {
      "text/html": [
       "<div>\n",
       "<style>\n",
       "    .dataframe thead tr:only-child th {\n",
       "        text-align: right;\n",
       "    }\n",
       "\n",
       "    .dataframe thead th {\n",
       "        text-align: left;\n",
       "    }\n",
       "\n",
       "    .dataframe tbody tr th {\n",
       "        vertical-align: top;\n",
       "    }\n",
       "</style>\n",
       "<table border=\"1\" class=\"dataframe\">\n",
       "  <thead>\n",
       "    <tr style=\"text-align: right;\">\n",
       "      <th></th>\n",
       "      <th>Class1</th>\n",
       "      <th>Class2</th>\n",
       "      <th>Class3</th>\n",
       "      <th>Class4</th>\n",
       "      <th>Class5</th>\n",
       "      <th>Class6</th>\n",
       "      <th>Class7</th>\n",
       "      <th>Class8</th>\n",
       "      <th>Class9</th>\n",
       "    </tr>\n",
       "  </thead>\n",
       "  <tbody>\n",
       "    <tr>\n",
       "      <th>0</th>\n",
       "      <td>0.05</td>\n",
       "      <td>0.95</td>\n",
       "      <td>0.05</td>\n",
       "      <td>0.05</td>\n",
       "      <td>0.05</td>\n",
       "      <td>0.05</td>\n",
       "      <td>0.05</td>\n",
       "      <td>0.05</td>\n",
       "      <td>0.05</td>\n",
       "    </tr>\n",
       "    <tr>\n",
       "      <th>1</th>\n",
       "      <td>0.05</td>\n",
       "      <td>0.95</td>\n",
       "      <td>0.05</td>\n",
       "      <td>0.05</td>\n",
       "      <td>0.05</td>\n",
       "      <td>0.05</td>\n",
       "      <td>0.05</td>\n",
       "      <td>0.05</td>\n",
       "      <td>0.05</td>\n",
       "    </tr>\n",
       "    <tr>\n",
       "      <th>2</th>\n",
       "      <td>0.05</td>\n",
       "      <td>0.05</td>\n",
       "      <td>0.05</td>\n",
       "      <td>0.05</td>\n",
       "      <td>0.95</td>\n",
       "      <td>0.05</td>\n",
       "      <td>0.05</td>\n",
       "      <td>0.05</td>\n",
       "      <td>0.05</td>\n",
       "    </tr>\n",
       "    <tr>\n",
       "      <th>3</th>\n",
       "      <td>0.05</td>\n",
       "      <td>0.05</td>\n",
       "      <td>0.05</td>\n",
       "      <td>0.05</td>\n",
       "      <td>0.95</td>\n",
       "      <td>0.05</td>\n",
       "      <td>0.05</td>\n",
       "      <td>0.05</td>\n",
       "      <td>0.05</td>\n",
       "    </tr>\n",
       "    <tr>\n",
       "      <th>4</th>\n",
       "      <td>0.05</td>\n",
       "      <td>0.95</td>\n",
       "      <td>0.05</td>\n",
       "      <td>0.05</td>\n",
       "      <td>0.05</td>\n",
       "      <td>0.05</td>\n",
       "      <td>0.05</td>\n",
       "      <td>0.05</td>\n",
       "      <td>0.05</td>\n",
       "    </tr>\n",
       "  </tbody>\n",
       "</table>\n",
       "</div>"
      ],
      "text/plain": [
       "   Class1  Class2  Class3  Class4  Class5  Class6  Class7  Class8  Class9\n",
       "0    0.05    0.95    0.05    0.05    0.05    0.05    0.05    0.05    0.05\n",
       "1    0.05    0.95    0.05    0.05    0.05    0.05    0.05    0.05    0.05\n",
       "2    0.05    0.05    0.05    0.05    0.95    0.05    0.05    0.05    0.05\n",
       "3    0.05    0.05    0.05    0.05    0.95    0.05    0.05    0.05    0.05\n",
       "4    0.05    0.95    0.05    0.05    0.05    0.05    0.05    0.05    0.05"
      ]
     },
     "execution_count": 22,
     "metadata": {},
     "output_type": "execute_result"
    }
   ],
   "source": [
    "df.head()"
   ]
  },
  {
   "cell_type": "code",
   "execution_count": 23,
   "metadata": {
    "collapsed": true
   },
   "outputs": [],
   "source": [
    "df1 = pd.read_csv('../cache/test_id.csv')"
   ]
  },
  {
   "cell_type": "code",
   "execution_count": 24,
   "metadata": {},
   "outputs": [
    {
     "data": {
      "text/html": [
       "<div>\n",
       "<style>\n",
       "    .dataframe thead tr:only-child th {\n",
       "        text-align: right;\n",
       "    }\n",
       "\n",
       "    .dataframe thead th {\n",
       "        text-align: left;\n",
       "    }\n",
       "\n",
       "    .dataframe tbody tr th {\n",
       "        vertical-align: top;\n",
       "    }\n",
       "</style>\n",
       "<table border=\"1\" class=\"dataframe\">\n",
       "  <thead>\n",
       "    <tr style=\"text-align: right;\">\n",
       "      <th></th>\n",
       "      <th>ID</th>\n",
       "    </tr>\n",
       "  </thead>\n",
       "  <tbody>\n",
       "    <tr>\n",
       "      <th>0</th>\n",
       "      <td>1</td>\n",
       "    </tr>\n",
       "    <tr>\n",
       "      <th>1</th>\n",
       "      <td>2</td>\n",
       "    </tr>\n",
       "    <tr>\n",
       "      <th>2</th>\n",
       "      <td>3</td>\n",
       "    </tr>\n",
       "    <tr>\n",
       "      <th>3</th>\n",
       "      <td>4</td>\n",
       "    </tr>\n",
       "    <tr>\n",
       "      <th>4</th>\n",
       "      <td>5</td>\n",
       "    </tr>\n",
       "  </tbody>\n",
       "</table>\n",
       "</div>"
      ],
      "text/plain": [
       "   ID\n",
       "0   1\n",
       "1   2\n",
       "2   3\n",
       "3   4\n",
       "4   5"
      ]
     },
     "execution_count": 24,
     "metadata": {},
     "output_type": "execute_result"
    }
   ],
   "source": [
    "df1.head()"
   ]
  },
  {
   "cell_type": "code",
   "execution_count": 25,
   "metadata": {
    "collapsed": true
   },
   "outputs": [],
   "source": [
    "df['ID'] = df1['ID'].values"
   ]
  },
  {
   "cell_type": "code",
   "execution_count": 26,
   "metadata": {
    "collapsed": true
   },
   "outputs": [],
   "source": [
    "df.to_csv('../submissions/sub_svc_one_on_one.csv', index=None)\n",
    "# 2.25939 on stage2 private LB, 2.90524 on stage2 public LB"
   ]
  },
  {
   "cell_type": "code",
   "execution_count": 31,
   "metadata": {
    "collapsed": true
   },
   "outputs": [],
   "source": [
    "clf = OneVsOneClassifier(LinearSVC(random_state=0, C=0.1))"
   ]
  },
  {
   "cell_type": "code",
   "execution_count": 34,
   "metadata": {},
   "outputs": [
    {
     "data": {
      "text/plain": [
       "OneVsOneClassifier(estimator=LinearSVC(C=0.1, class_weight=None, dual=True, fit_intercept=True,\n",
       "     intercept_scaling=1, loss='squared_hinge', max_iter=1000,\n",
       "     multi_class='ovr', penalty='l2', random_state=0, tol=0.0001,\n",
       "     verbose=0),\n",
       "          n_jobs=1)"
      ]
     },
     "execution_count": 34,
     "metadata": {},
     "output_type": "execute_result"
    }
   ],
   "source": [
    "clf.fit(x1,y1)"
   ]
  },
  {
   "cell_type": "code",
   "execution_count": 37,
   "metadata": {},
   "outputs": [
    {
     "name": "stdout",
     "output_type": "stream",
     "text": [
      "[4 4 4 4 7 4 4 4 4 4 4 4 4 1 4 1 7 1 1 4 7 4 4 4 4 7 7 4 4 6 4 7 4 4 4 4 1\n",
      " 4 1 4 4 4 4 7 4 4 1 4 4 4 4 1 4 1 1 4 4 4 4 1 6 1 4 4 4 4 4 6 1 4 4 7 4 4\n",
      " 4 4 4 4 4 4 7 4 4 4 7 4 7 7 4 4 4 4 7 4 4 4 4 4 4 4 4 4 4 4 1 4 7 4 4 7 4\n",
      " 4 1 4 4 4 4 4 4 4 4 4 4 2 4 4 4 4 1 4 4 4 4 4 4 4 4 1 4 1 4 4 4 4 4 4 1 4\n",
      " 4 4 4 7 4 4 1 4 4 4 4 4 1 4 4 4 4 4 1 4 1 4 4 7 4 4 4 1 4 1 4 6 7 4 4 4 1\n",
      " 4 7 4 4 4 4 4 4 4 4 4 4 4 4 4 4 4 4 4 4 6 4 4 4 4 4 4 4 4 4 4 4 4 1 4 7 4\n",
      " 4 4 4 4 7 4 4 4 4 4 1 1 1 4 4 4 4 4 4 1 4 4 4 4 4 6 4 4 4 4 4 4 1 1 4 4 7\n",
      " 4 4 4 4 1 6 4 1 6 4 6 4 1 4 4 4 4 7 4 4 4 4 4 4 1 4 4 4 4 4 4 2 1 4 4 4 7\n",
      " 4 4 4 1 4 4 4 4 7 4 4 4 4 4 7 4 4 7 4 4 4 4 1 4 4 4 4 4 1 7 1 1 4 4 4 4 4\n",
      " 1 1 4 4 7 4 1 7 7 4 4 7 7 4 7 4 4 4 1 4 4 4 4 4 1 4 1 4 4 4 4 4 4 1 4 4 4\n",
      " 4 4 4 4 4 4 4 4 4 4 4 4 4 4 4 6 2 4 1 7 4 4 4 7 4 4 4 1 1 7 7 4 4 4 7 4 6\n",
      " 7 4 4 7 4 4 4 1 4 4 4 4 4 4 4 4 4 4 4 4 4 4 2 4 1 1 4 1 4 7 1 4 4 4 1 4 6\n",
      " 7 4 4 4 4 2 4 4 4 2 4 1 4 7 7 4 4 4 4 4 7 1 4 4 7 4 4 7 4 4 4 1 4 4 4 4 4\n",
      " 4 4 4 1 4 1 4 7 7 4 1 4 4 4 4 4 1 4 4 1 4 7 1 4 4 1 2 4 4 4 1 4 4 7 4 4 4\n",
      " 4 4 4 4 3 4 4 4 4 4 1 7 4 4 4 4 4 4 4 4 4 4 4 4 4 1 1 7 4 4 4 4 1 4 4 4 1\n",
      " 7 1 1 1 7 7 4 4 7 7 4 4 4 4 4 4 4 4 4 4 4 1 4 4 4 4 7 4 4 1 4 7 4 4 7 4 4\n",
      " 4 4 6 4 4 4 4 4 4 4 4 4 4 4 4 7 4 4 4 4 4 4 4 4 4 4 4 4 1 4 2 4 1 1 4 1 1\n",
      " 4 7 7 4 4 4 4 4 1 4 4 4 2 4 4 4 4 4 4 2 4 4 4 4 4 4 1 4 4 2 4 4 1 4 4 4 4\n",
      " 4 4 4 4 7 4 1 4 6 1 4 4 7 4 4 4 4 4 4 4 1 4 4 4 4 7 4 4 4 4 4 4 4 4 2 4 4\n",
      " 4 4 1 7 1 4 4 4 4 4 4 4 4 7 1 4 4 4 4 7 7 4 7 4 4 4 4 4 4 4 4 4 4 1 4]\n"
     ]
    }
   ],
   "source": [
    "test_preds = clf.predict(x2)\n",
    "print(test_preds)"
   ]
  },
  {
   "cell_type": "code",
   "execution_count": 42,
   "metadata": {},
   "outputs": [
    {
     "data": {
      "text/plain": [
       "array([2, 2, 2, 7, 7, 7, 4, 7, 3, 4, 7, 1, 3, 1, 7, 6, 5, 7, 4, 5, 5, 4, 4,\n",
       "       4, 2, 6, 7, 7, 6, 2, 1, 1, 1, 4, 6, 7, 7, 1, 7, 5, 1, 2, 7, 3, 7, 7,\n",
       "       6, 4, 7, 7, 2, 7, 5, 7, 7, 4, 7, 4, 5, 4, 4, 4, 4, 2, 6, 5, 7, 7, 3,\n",
       "       4, 7, 7, 4, 4, 4, 4, 7, 7, 6, 4, 4, 6, 4, 7, 5, 7, 2, 2, 3, 2, 7, 7,\n",
       "       2, 1, 1, 7, 7, 1, 6, 7, 2, 7, 4, 4, 9, 4, 5, 7, 1, 4, 6, 4, 1, 9, 4,\n",
       "       5, 4, 4, 1, 1, 5, 6, 2, 1, 2, 5, 7, 7, 1, 7, 1, 5, 7, 7, 6, 2, 4, 4,\n",
       "       5, 6, 7, 7, 3, 2, 3, 4, 6, 5, 7, 7, 1, 4, 4, 4, 7, 1, 5, 7, 9, 2, 4,\n",
       "       5, 7, 4, 1, 6, 4, 5, 1, 4, 7, 7, 7, 4, 6, 7, 7, 7, 8, 6, 7, 4, 5, 7,\n",
       "       7, 1, 1, 7, 2, 7, 4, 4, 7, 7, 6, 1, 6, 5, 4, 5, 7, 4, 6, 4, 2, 7, 8,\n",
       "       1, 2, 3, 9, 2, 7, 5, 2, 4, 2, 2, 7, 2, 4, 1, 2, 6, 2, 6, 2, 2, 7, 7,\n",
       "       4, 4, 1, 1, 1, 1, 7, 3, 1, 2, 7, 2, 4, 7, 1, 6, 2, 7, 4, 1, 4, 5, 1,\n",
       "       1, 7, 2, 7, 1, 7, 7, 7, 2, 1, 7, 7, 2, 7, 7, 7, 2, 6, 2, 7, 7, 1, 7,\n",
       "       1, 7, 7, 6, 1, 4, 1, 7, 4, 7, 4, 1, 7, 1, 1, 7, 4, 1, 1, 2, 4, 1, 4,\n",
       "       2, 5, 7, 1, 1, 4, 7, 6, 1, 7, 1, 9, 1, 3, 4, 4, 6, 2, 4, 7, 7, 5, 1,\n",
       "       4, 4, 7, 7, 1, 1, 4, 1, 7, 7, 4, 4, 3, 7, 7, 2, 7, 7, 5, 7, 7, 7, 7,\n",
       "       7, 1, 2, 2, 2, 3, 5, 4, 1, 7, 1, 2, 7, 4, 2, 7, 4, 5, 5, 4, 1, 6, 6,\n",
       "       2, 6, 7, 5, 2, 1, 1, 7, 7, 1, 4, 2, 2, 4, 2, 4, 3, 7, 7, 7, 7, 1, 2,\n",
       "       1, 2, 5, 1, 4, 2, 2, 7, 3, 7, 7, 2, 1, 6, 2, 7, 2, 2, 2, 4, 7, 2, 7,\n",
       "       7, 7, 1, 7, 1, 4, 5, 5, 1, 2, 7, 4, 4, 7, 6, 7, 1, 2, 4, 5, 4, 7, 7,\n",
       "       1, 4, 4, 1, 1, 7, 7, 4, 1, 7, 7, 7, 1, 6, 2, 4, 1, 4, 7, 7, 7, 2, 4,\n",
       "       7, 1, 1, 2, 3, 1, 2, 1, 5, 7, 4, 1, 1, 3, 7, 4, 4, 1, 4, 4, 6, 7, 4,\n",
       "       7, 7, 1, 5, 7, 1, 7, 7, 6, 7, 2, 1, 7, 7, 7, 7, 1, 7, 6, 2, 7, 7, 1,\n",
       "       7, 4, 7, 7, 2, 6, 1, 7, 2, 6, 2, 4, 7, 3, 4, 6, 4, 7, 3, 4, 2, 7, 7,\n",
       "       7, 6, 2, 1, 7, 7, 7, 7, 1, 7, 6, 7, 4, 4, 2, 4, 2, 7, 4, 5, 2, 3, 3,\n",
       "       2, 1, 5, 2, 7, 2, 7, 4, 4, 4, 1, 7, 7, 1, 2, 1, 6, 7, 7, 1, 1, 6, 4,\n",
       "       7, 2, 4, 1, 5, 4, 7, 4, 7, 4, 1, 7, 2, 7, 7, 4, 4, 6, 1, 7, 1, 2, 2,\n",
       "       6, 1, 6, 1, 7, 4, 4, 2, 7, 1, 7, 5, 5, 6, 7, 5, 5, 2, 1, 3, 1, 4, 1,\n",
       "       7, 6, 1, 1, 1, 1, 1, 5, 7, 5, 2, 2, 7, 3, 1, 1, 4, 7, 2, 7, 7, 4, 4,\n",
       "       7, 4, 4, 4, 4, 7, 7, 4, 3, 6, 4, 6, 1, 1, 7, 1, 7, 5, 6, 4, 2, 1, 7,\n",
       "       4, 2, 4, 4, 4, 7, 3, 7, 1, 7, 7, 7, 7, 2, 7, 2, 6, 1, 7, 2, 4, 2, 2,\n",
       "       4, 7, 1, 1, 2, 4, 5, 5, 4, 2, 7, 4, 7, 4, 1, 6, 7, 7, 7, 2, 4, 7, 5,\n",
       "       7, 2, 2, 2, 1, 2, 7, 4, 7, 9, 1, 7, 5, 1, 6, 5, 4, 2, 6, 4, 1, 5, 5,\n",
       "       5, 1])"
      ]
     },
     "execution_count": 42,
     "metadata": {},
     "output_type": "execute_result"
    }
   ],
   "source": [
    "y2"
   ]
  },
  {
   "cell_type": "code",
   "execution_count": 58,
   "metadata": {},
   "outputs": [
    {
     "name": "stdout",
     "output_type": "stream",
     "text": [
      "CV multi_log_loss: -114.94471360052813\n",
      "CV f1_score: 0.07517463719109137\n",
      "CV accuracy: 0.21002710027100271\n",
      "[[ 18   4   0  99   0   0   8   0   0]\n",
      " [ 11   0   0  78   0   2  15   0   0]\n",
      " [  3   0   0  18   0   0   3   0   0]\n",
      " [ 13   2   1 113   0   1  11   0   0]\n",
      " [  6   0   0  39   0   0   9   0   0]\n",
      " [  9   1   0  42   0   1   2   0   0]\n",
      " [ 34   5   0 149   0  10  23   0   0]\n",
      " [  0   0   0   2   0   0   0   0   0]\n",
      " [  1   0   0   3   0   0   2   0   0]]\n"
     ]
    },
    {
     "name": "stderr",
     "output_type": "stream",
     "text": [
      "/home/watts/anaconda2/envs/aind-dog/lib/python3.6/site-packages/sklearn/metrics/classification.py:1135: UndefinedMetricWarning: F-score is ill-defined and being set to 0.0 in labels with no predicted samples.\n",
      "  'precision', 'predicted', average, warn_for)\n"
     ]
    }
   ],
   "source": [
    "from utils import *\n",
    "score2 = log_loss(y2, test_preds)\n",
    "# score2 = multi_log_loss(y2, test_preds, labels = list(range(1,10)))\n",
    "print('CV multi_log_loss: {}'.format(score2))\n",
    "\n",
    "fscore = f1_score(y2, test_preds, average='macro')\n",
    "print('CV f1_score: {}'.format(fscore))\n",
    "\n",
    "acc = accuracy_score(y2, test_preds)\n",
    "print('CV accuracy: {}'.format(acc))\n",
    "\n",
    "print(confusion_matrix(y2, test_preds, labels = list(range(1,10))))"
   ]
  },
  {
   "cell_type": "code",
   "execution_count": 59,
   "metadata": {
    "collapsed": true
   },
   "outputs": [],
   "source": [
    "clf = OneVsRestClassifier(svm.SVC()).fit(df_train, y)\n",
    "Y_pred = clf.predict(df_test)\n"
   ]
  },
  {
   "cell_type": "code",
   "execution_count": 60,
   "metadata": {
    "collapsed": true
   },
   "outputs": [],
   "source": [
    "save_classifier('../cache/svm_svr_clf.pkl', clf)"
   ]
  },
  {
   "cell_type": "code",
   "execution_count": 61,
   "metadata": {},
   "outputs": [
    {
     "name": "stdout",
     "output_type": "stream",
     "text": [
      "[4 1 7 7 7 7 7 7 7 7 7 2 1 7 7 7 7 7 7 7 7 7 7 7 7 7 7 7 4 7 7 7 1 7 7 7 6\n",
      " 7 7 7 7 7 7 1 4 7 7 7 4 7 7 1 7 7 7 7 4 7 7 6 7 7 7 1 6 7 7 8 7 7 7 1 7 7\n",
      " 3 7 1 7 5 7 7 5 7 7 7 7 7 1 7 7 7 5 7 7 7 7 7 7 7 7 7 7 7 7 7 7 7 7 7 5 7\n",
      " 6 7 1 7 7 7 1 7 7 6 7 2 7 7 7 1 7 7 7 7 7 7 7 7 7 7 7 4 7 7 7 7 7 7 7 4 7\n",
      " 7 7 7 5 7 1 7 7 7 7 7 7 7 7 7 1 7 7 7 7 1 7 7 7 1 1 7 7 7 4 7 7 7 7 7 7 7\n",
      " 4 7 7 7 7 7 7 4 5 7 4 1 6 7 7 7 1 7 7 1 7 7 7 7 7 7 4 7 7 7 5 2 7 7 7 7 7\n",
      " 4 7 7 7 7 7 7 7 7 7 7 7 1 1 1 7 4 1 7 7 7 7 7 7 7 1 7 7 7 7 7 7 7 1 7 7 4\n",
      " 7 7 7 7 5 1 7 7 4 7 7 6 7 7 7 7 7 1 7 7 7 7 7 4 7 7 1 7 7 7 7 5 4 7 7 2 7\n",
      " 1 2 7 7 1 7 7 7 4 7 1 1 7 7 4 4 7 7 6 7 4 7 4 7 7 7 7 7 7 7 7 1 2 7 7 4 1\n",
      " 7 7 7 7 4 7 7 7 7 2 7 7 2 5 7 7 7 7 7 4 7 7 7 6 1 1 7 7 7 7 9 7 7 7 4 1 7\n",
      " 2 1 1 7 7 1 7 1 7 7 7 7 7 7 5 7 7 7 7 4 7 7 7 7 7 7 7 6 5 7 7 7 7 4 7 7 7\n",
      " 7 2 7 7 7 1 6 2 5 7 7 7 6 7 7 7 7 7 7 7 1 5 4 7 7 7 7 7 7 7 1 7 7 7 7 7 7\n",
      " 5 7 7 7 7 1 7 7 7 7 1 4 7 7 7 1 1 7 7 7 7 7 1 7 7 7 7 7 7 1 7 7 7 6 4 7 7\n",
      " 2 7 6 7 7 7 7 6 5 7 7 7 7 7 7 7 7 7 7 4 2 7 7 7 1 2 7 7 7 7 7 1 1 7 7 7 7\n",
      " 7 7 7 7 2 7 7 9 1 7 7 7 1 7 7 7 1 7 7 7 2 7 2 7 7 7 7 7 2 7 4 7 7 7 7 7 3\n",
      " 2 7 7 6 5 1 4 7 7 7 7 7 7 7 7 9 7 7 7 5 7 5 7 7 4 7 7 1 7 9 1 7 7 7 2 7 7\n",
      " 7 7 7 7 4 7 4 2 7 7 7 7 2 7 7 7 7 7 7 7 7 7 7 3 7 7 7 7 7 7 2 7 1 7 7 7 6\n",
      " 7 4 7 7 5 7 5 2 7 7 7 7 1 7 7 5 7 7 1 1 7 5 7 7 1 4 7 7 4 4 7 7 7 1 7 7 7\n",
      " 2 7 7 7 7 1 7 2 7 7 7 7 2 4 7 7 1 7 4 7 7 7 7 7 7 7 7 7 7 7 7 7 7 7 7 7 4\n",
      " 4 1 4 7 7 4 7 7 9 7 7 7 7 7 7 7 7 7 4 7 7 7 7 7 7 1 7 7 7 7 7 6 7 7 1 7 7\n",
      " 7 2 4 2 7 7 7 7 7 7 7 1 7 7 7 7 3 7 6 2 7 7 1 7 7 2 7 1 7 7 2 7 1 7 5 7 1\n",
      " 7 7 7 7 7 7 1 4 7 7 7 7 7 7 7 7 7 7 4 7 7 1 7 7 7 7 4 7 2 7 1 7 1 1 2 7 7\n",
      " 7 7 7 1 7 1 7 7 2 7 7 7 4 6 7 7 7 7 1 4 7 7 7 2 4 7 2 7 7 7 7 7 2 7 7 7 6\n",
      " 7 7 7 7 7 7 4 3 7 7 7 7 7 7 7 7 4 7 2 7 7 7 7 7 7 7 7 3 1 2 7 7 7 7 1 1 7\n",
      " 7 7 7 7 7 3 1 7 7 7 7 7 7 7 1 7 7 9 7 7 7 7 7 1 7 2 7 7 7 4 7 7 6 7 4 7 7\n",
      " 7 7 7 7 7 7 7 7 1 4 7 7 7 2 7 7 2 5 7 7 7 8 4 7 7 7 1 7 7 4 2 4 7 1 7 7 7\n",
      " 1 7 2 7 4 7 7 7 7 7 7 7 7 7 7 7 7 7 7 7 7 7 7 7]\n"
     ]
    }
   ],
   "source": [
    "print(Y_pred)"
   ]
  },
  {
   "cell_type": "code",
   "execution_count": 62,
   "metadata": {
    "collapsed": true
   },
   "outputs": [],
   "source": [
    "df = pd.DataFrame()\n",
    "df['Class1'] =0\n",
    "df['Class2'] =0\n",
    "df['Class3'] =0\n",
    "df['Class4'] =0\n",
    "df['Class5'] =0\n",
    "df['Class6'] =0\n",
    "df['Class7'] =0\n",
    "df['Class8'] =0\n",
    "df['Class9'] =0\n",
    "\n",
    "df['Class1'] = [0.95 if i == 0 else 0.05 for i in Y_pred]\n",
    "df['Class2'] = [0.95 if i == 1 else 0.05 for i in Y_pred]\n",
    "df['Class3'] = [0.95 if i == 2 else 0.05 for i in Y_pred]\n",
    "df['Class4'] = [0.95 if i == 3 else 0.05 for i in Y_pred]\n",
    "df['Class5'] = [0.95 if i == 4 else 0.05 for i in Y_pred]\n",
    "df['Class6'] = [0.95 if i == 5 else 0.05 for i in Y_pred]\n",
    "df['Class7'] = [0.95 if i == 6 else 0.05 for i in Y_pred]\n",
    "df['Class8'] = [0.95 if i == 7 else 0.05 for i in Y_pred]\n",
    "df['Class9'] = [0.95 if i == 8 else 0.05 for i in Y_pred]"
   ]
  },
  {
   "cell_type": "code",
   "execution_count": 63,
   "metadata": {
    "collapsed": true
   },
   "outputs": [],
   "source": [
    "df['ID'] = df1['ID'].values"
   ]
  },
  {
   "cell_type": "code",
   "execution_count": 64,
   "metadata": {
    "collapsed": true
   },
   "outputs": [],
   "source": [
    "df.to_csv('../submissions/sub_svm_one_vs_rest.csv', index=None)"
   ]
  },
  {
   "cell_type": "code",
   "execution_count": null,
   "metadata": {
    "collapsed": true
   },
   "outputs": [],
   "source": [
    "# 2.54206 on stage2 private leaderboard, 3.16635 on stage2 public leaderboard"
   ]
  },
  {
   "cell_type": "code",
   "execution_count": 65,
   "metadata": {},
   "outputs": [
    {
     "name": "stdout",
     "output_type": "stream",
     "text": [
      "CV multi_log_loss: -114.94471360052813\n",
      "CV f1_score: 0.05121075194067895\n",
      "CV accuracy: 0.2994579945799458\n",
      "[[  0   0   0   0   0   0 129   0   0]\n",
      " [  0   0   0   0   0   0 106   0   0]\n",
      " [  0   0   0   0   0   0  24   0   0]\n",
      " [  0   0   0   0   0   0 141   0   0]\n",
      " [  0   0   0   0   0   0  54   0   0]\n",
      " [  0   0   0   0   0   0  55   0   0]\n",
      " [  0   0   0   0   0   0 221   0   0]\n",
      " [  0   0   0   0   0   0   2   0   0]\n",
      " [  0   0   0   0   0   0   6   0   0]]\n"
     ]
    },
    {
     "name": "stderr",
     "output_type": "stream",
     "text": [
      "/home/watts/anaconda2/envs/aind-dog/lib/python3.6/site-packages/sklearn/metrics/classification.py:1135: UndefinedMetricWarning: F-score is ill-defined and being set to 0.0 in labels with no predicted samples.\n",
      "  'precision', 'predicted', average, warn_for)\n"
     ]
    }
   ],
   "source": [
    "clf.fit(x1,y1)\n",
    "test_preds = clf.predict(x2)\n",
    "\n",
    "score2 = log_loss(y2, test_preds)\n",
    "# score2 = multi_log_loss(y2, test_preds, labels = list(range(1,10)))\n",
    "print('CV multi_log_loss: {}'.format(score2))\n",
    "\n",
    "fscore = f1_score(y2, test_preds, average='macro')\n",
    "print('CV f1_score: {}'.format(fscore))\n",
    "\n",
    "acc = accuracy_score(y2, test_preds)\n",
    "print('CV accuracy: {}'.format(acc))\n",
    "\n",
    "print(confusion_matrix(y2, test_preds, labels = list(range(1,10))))"
   ]
  },
  {
   "cell_type": "code",
   "execution_count": null,
   "metadata": {
    "collapsed": true
   },
   "outputs": [],
   "source": []
  },
  {
   "cell_type": "code",
   "execution_count": 67,
   "metadata": {
    "collapsed": true
   },
   "outputs": [],
   "source": [
    "ovo = OneVsOneClassifier(MultinomialNB())\n",
    "Y_pred =ovo.fit(abs(df_train), y).predict(df_test)"
   ]
  },
  {
   "cell_type": "code",
   "execution_count": 68,
   "metadata": {
    "collapsed": true
   },
   "outputs": [],
   "source": [
    "df = pd.DataFrame()\n",
    "df['Class1'] =0\n",
    "df['Class2'] =0\n",
    "df['Class3'] =0\n",
    "df['Class4'] =0\n",
    "df['Class5'] =0\n",
    "df['Class6'] =0\n",
    "df['Class7'] =0\n",
    "df['Class8'] =0\n",
    "df['Class9'] =0\n",
    "\n",
    "df['Class1'] = [0.95 if i == 0 else 0.05 for i in Y_pred]\n",
    "df['Class2'] = [0.95 if i == 1 else 0.05 for i in Y_pred]\n",
    "df['Class3'] = [0.95 if i == 2 else 0.05 for i in Y_pred]\n",
    "df['Class4'] = [0.95 if i == 3 else 0.05 for i in Y_pred]\n",
    "df['Class5'] = [0.95 if i == 4 else 0.05 for i in Y_pred]\n",
    "df['Class6'] = [0.95 if i == 5 else 0.05 for i in Y_pred]\n",
    "df['Class7'] = [0.95 if i == 6 else 0.05 for i in Y_pred]\n",
    "df['Class8'] = [0.95 if i == 7 else 0.05 for i in Y_pred]\n",
    "df['Class9'] = [0.95 if i == 8 else 0.05 for i in Y_pred]\n",
    "df['ID'] = df1['ID'].values\n",
    "df.to_csv('../submissions/sub_nb_one_on_one.csv', index=None)"
   ]
  },
  {
   "cell_type": "code",
   "execution_count": null,
   "metadata": {
    "collapsed": true
   },
   "outputs": [],
   "source": [
    "# 2.89574 on stage2 private leaderboard, 2.95424 on stage2 public leaderboard"
   ]
  },
  {
   "cell_type": "code",
   "execution_count": 75,
   "metadata": {},
   "outputs": [
    {
     "name": "stdout",
     "output_type": "stream",
     "text": [
      "CV multi_log_loss: -114.94471360052813\n",
      "CV f1_score: 0.13107980028068605\n",
      "CV accuracy: 0.10298102981029811\n",
      "[[ 6  2 41  6 12  8  5 45  4]\n",
      " [ 1 13 35  2 13  4  9 28  1]\n",
      " [ 1  1  8  1  5  2  0  5  1]\n",
      " [ 2  1 73  6  6  1  3 43  6]\n",
      " [ 2  0 10  1 17  3  5 15  1]\n",
      " [ 1  2 17  1 18  4  0 10  2]\n",
      " [ 3 17 62  3 16  7 22 88  3]\n",
      " [ 0  1  0  0  1  0  0  0  0]\n",
      " [ 0  0  1  0  0  0  0  5  0]]\n"
     ]
    }
   ],
   "source": [
    "ovo.fit(abs(x1),y1)\n",
    "test_preds = ovo.predict(x2)\n",
    "\n",
    "score2 = log_loss(y2, test_preds)\n",
    "# score2 = multi_log_loss(y2, test_preds, labels = list(range(1,10)))\n",
    "print('CV multi_log_loss: {}'.format(score2))\n",
    "\n",
    "fscore = f1_score(y2, test_preds, average='weighted')\n",
    "print('CV f1_score: {}'.format(fscore))\n",
    "\n",
    "acc = accuracy_score(y2, test_preds)\n",
    "print('CV accuracy: {}'.format(acc))\n",
    "\n",
    "print(confusion_matrix(y2, test_preds, labels = list(range(1,10))))"
   ]
  },
  {
   "cell_type": "code",
   "execution_count": null,
   "metadata": {
    "collapsed": true
   },
   "outputs": [],
   "source": []
  }
 ],
 "metadata": {
  "kernelspec": {
   "display_name": "Python 3",
   "language": "python",
   "name": "python3"
  },
  "language_info": {
   "codemirror_mode": {
    "name": "ipython",
    "version": 3
   },
   "file_extension": ".py",
   "mimetype": "text/x-python",
   "name": "python",
   "nbconvert_exporter": "python",
   "pygments_lexer": "ipython3",
   "version": "3.6.1"
  }
 },
 "nbformat": 4,
 "nbformat_minor": 2
}
