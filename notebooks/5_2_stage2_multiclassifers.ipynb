{
 "cells": [
  {
   "cell_type": "code",
   "execution_count": 1,
   "metadata": {},
   "outputs": [
    {
     "name": "stderr",
     "output_type": "stream",
     "text": [
      "/home/watts/anaconda2/envs/aind-dog/lib/python3.6/site-packages/sklearn/cross_validation.py:41: DeprecationWarning: This module was deprecated in version 0.18 in favor of the model_selection module into which all the refactored classes and functions are moved. Also note that the interface of the new CV iterators are different from that of this module. This module will be removed in 0.20.\n",
      "  \"This module will be removed in 0.20.\", DeprecationWarning)\n",
      "/home/watts/anaconda2/envs/aind-dog/lib/python3.6/site-packages/sklearn/grid_search.py:42: DeprecationWarning: This module was deprecated in version 0.18 in favor of the model_selection module into which all the refactored classes and functions are moved. This module will be removed in 0.20.\n",
      "  DeprecationWarning)\n"
     ]
    }
   ],
   "source": [
    "import re\n",
    "import numpy as np\n",
    "import pandas as pd\n",
    "import feather\n",
    "import xgboost as xgb\n",
    "import feather\n",
    "from sklearn.multiclass import OneVsRestClassifier\n",
    "from sklearn.multiclass import OneVsOneClassifier\n",
    "from sklearn.multiclass import OutputCodeClassifier\n",
    "  \n",
    "from sklearn.metrics import precision_score\n",
    "from sklearn.metrics import recall_score\n",
    "  \n",
    "from sklearn.svm import LinearSVC\n",
    "from sklearn.naive_bayes import MultinomialNB\n",
    "from sklearn.linear_model import (LinearRegression, Lasso, ElasticNet, Ridge,\n",
    "                                  Perceptron)\n",
    "from sklearn.tree import DecisionTreeClassifier\n",
    "from sklearn.grid_search import GridSearchCV\n",
    "from sklearn import svm\n",
    "from sklearn.linear_model import Perceptron\n",
    "from sklearn.naive_bayes import MultinomialNB\n",
    "\n",
    "from sklearn.utils.testing import assert_array_equal\n",
    "from sklearn.utils.testing import assert_equal\n",
    "from sklearn.utils.testing import assert_almost_equal\n",
    "from sklearn.utils.testing import assert_true\n",
    "from sklearn.utils.testing import assert_false\n",
    "from sklearn.utils.testing import assert_raises\n",
    "  \n",
    "from sklearn.utils.testing import assert_greater\n",
    "import pickle"
   ]
  },
  {
   "cell_type": "code",
   "execution_count": 2,
   "metadata": {
    "collapsed": true
   },
   "outputs": [],
   "source": [
    "\n",
    "def save_classifier(fname, clf):\n",
    "    # save the classifier\n",
    "    with open(fname, 'wb') as fid:\n",
    "        pickle.dump(clf, fid)\n",
    "\n",
    "def load_classifier(fname):\n",
    "    # load it again\n",
    "    with open(fname, 'rb') as fid:\n",
    "        clf = pickle.load(fid)\n",
    "        return clf"
   ]
  },
  {
   "cell_type": "code",
   "execution_count": 3,
   "metadata": {
    "collapsed": true
   },
   "outputs": [],
   "source": [
    "df_train = np.load('../cache/train_stage2_fe2.npy')"
   ]
  },
  {
   "cell_type": "code",
   "execution_count": 5,
   "metadata": {},
   "outputs": [
    {
     "data": {
      "text/plain": [
       "(3689, 3945)"
      ]
     },
     "execution_count": 5,
     "metadata": {},
     "output_type": "execute_result"
    }
   ],
   "source": [
    "df_train.shape"
   ]
  },
  {
   "cell_type": "code",
   "execution_count": 4,
   "metadata": {
    "collapsed": true
   },
   "outputs": [],
   "source": [
    "df_test = np.load('../cache/test_stage2_fe2.npy')"
   ]
  },
  {
   "cell_type": "code",
   "execution_count": 6,
   "metadata": {},
   "outputs": [
    {
     "data": {
      "text/plain": [
       "(986, 3945)"
      ]
     },
     "execution_count": 6,
     "metadata": {},
     "output_type": "execute_result"
    }
   ],
   "source": [
    "df_test.shape"
   ]
  },
  {
   "cell_type": "code",
   "execution_count": 10,
   "metadata": {
    "collapsed": true
   },
   "outputs": [],
   "source": [
    "df = pd.read_csv('../cache/train_stage2_labels.csv')"
   ]
  },
  {
   "cell_type": "code",
   "execution_count": 11,
   "metadata": {},
   "outputs": [
    {
     "data": {
      "text/html": [
       "<div>\n",
       "<style>\n",
       "    .dataframe thead tr:only-child th {\n",
       "        text-align: right;\n",
       "    }\n",
       "\n",
       "    .dataframe thead th {\n",
       "        text-align: left;\n",
       "    }\n",
       "\n",
       "    .dataframe tbody tr th {\n",
       "        vertical-align: top;\n",
       "    }\n",
       "</style>\n",
       "<table border=\"1\" class=\"dataframe\">\n",
       "  <thead>\n",
       "    <tr style=\"text-align: right;\">\n",
       "      <th></th>\n",
       "      <th>y</th>\n",
       "    </tr>\n",
       "  </thead>\n",
       "  <tbody>\n",
       "    <tr>\n",
       "      <th>0</th>\n",
       "      <td>0</td>\n",
       "    </tr>\n",
       "    <tr>\n",
       "      <th>1</th>\n",
       "      <td>1</td>\n",
       "    </tr>\n",
       "    <tr>\n",
       "      <th>2</th>\n",
       "      <td>1</td>\n",
       "    </tr>\n",
       "    <tr>\n",
       "      <th>3</th>\n",
       "      <td>2</td>\n",
       "    </tr>\n",
       "    <tr>\n",
       "      <th>4</th>\n",
       "      <td>3</td>\n",
       "    </tr>\n",
       "  </tbody>\n",
       "</table>\n",
       "</div>"
      ],
      "text/plain": [
       "   y\n",
       "0  0\n",
       "1  1\n",
       "2  1\n",
       "3  2\n",
       "4  3"
      ]
     },
     "execution_count": 11,
     "metadata": {},
     "output_type": "execute_result"
    }
   ],
   "source": [
    "df.head()"
   ]
  },
  {
   "cell_type": "code",
   "execution_count": null,
   "metadata": {
    "collapsed": true
   },
   "outputs": [],
   "source": []
  },
  {
   "cell_type": "code",
   "execution_count": 17,
   "metadata": {},
   "outputs": [
    {
     "ename": "AttributeError",
     "evalue": "'OneVsOneClassifier' object has no attribute 'predict_proba'",
     "output_type": "error",
     "traceback": [
      "\u001b[0;31m---------------------------------------------------------------------------\u001b[0m",
      "\u001b[0;31mAttributeError\u001b[0m                            Traceback (most recent call last)",
      "\u001b[0;32m<ipython-input-17-8a45c005fa04>\u001b[0m in \u001b[0;36m<module>\u001b[0;34m()\u001b[0m\n\u001b[1;32m      6\u001b[0m \u001b[0mbest_C\u001b[0m \u001b[0;34m=\u001b[0m \u001b[0mcv\u001b[0m\u001b[0;34m.\u001b[0m\u001b[0mbest_estimator_\u001b[0m\u001b[0;34m.\u001b[0m\u001b[0mestimators_\u001b[0m\u001b[0;34m[\u001b[0m\u001b[0;36m0\u001b[0m\u001b[0;34m]\u001b[0m\u001b[0;34m.\u001b[0m\u001b[0mC\u001b[0m\u001b[0;34m\u001b[0m\u001b[0m\n\u001b[1;32m      7\u001b[0m \u001b[0massert_true\u001b[0m\u001b[0;34m(\u001b[0m\u001b[0mbest_C\u001b[0m \u001b[0;32min\u001b[0m \u001b[0mCs\u001b[0m\u001b[0;34m)\u001b[0m\u001b[0;34m\u001b[0m\u001b[0m\n\u001b[0;32m----> 8\u001b[0;31m \u001b[0mtest_proba\u001b[0m \u001b[0;34m=\u001b[0m \u001b[0mcv\u001b[0m\u001b[0;34m.\u001b[0m\u001b[0mpredict_proba\u001b[0m\u001b[0;34m(\u001b[0m\u001b[0mdf_test\u001b[0m\u001b[0;34m)\u001b[0m\u001b[0;34m\u001b[0m\u001b[0m\n\u001b[0m\u001b[1;32m      9\u001b[0m \u001b[0mprint\u001b[0m\u001b[0;34m(\u001b[0m\u001b[0mtest_proba\u001b[0m\u001b[0;34m)\u001b[0m\u001b[0;34m\u001b[0m\u001b[0m\n",
      "\u001b[0;32m~/anaconda2/envs/aind-dog/lib/python3.6/site-packages/sklearn/utils/metaestimators.py\u001b[0m in \u001b[0;36m__get__\u001b[0;34m(self, obj, type)\u001b[0m\n\u001b[1;32m    107\u001b[0m                     \u001b[0;32mcontinue\u001b[0m\u001b[0;34m\u001b[0m\u001b[0m\n\u001b[1;32m    108\u001b[0m                 \u001b[0;32melse\u001b[0m\u001b[0;34m:\u001b[0m\u001b[0;34m\u001b[0m\u001b[0m\n\u001b[0;32m--> 109\u001b[0;31m                     \u001b[0mgetattr\u001b[0m\u001b[0;34m(\u001b[0m\u001b[0mdelegate\u001b[0m\u001b[0;34m,\u001b[0m \u001b[0mself\u001b[0m\u001b[0;34m.\u001b[0m\u001b[0mattribute_name\u001b[0m\u001b[0;34m)\u001b[0m\u001b[0;34m\u001b[0m\u001b[0m\n\u001b[0m\u001b[1;32m    110\u001b[0m                     \u001b[0;32mbreak\u001b[0m\u001b[0;34m\u001b[0m\u001b[0m\n\u001b[1;32m    111\u001b[0m             \u001b[0;32melse\u001b[0m\u001b[0;34m:\u001b[0m\u001b[0;34m\u001b[0m\u001b[0m\n",
      "\u001b[0;31mAttributeError\u001b[0m: 'OneVsOneClassifier' object has no attribute 'predict_proba'"
     ]
    }
   ],
   "source": [
    "# def test_ovo_gridsearch():\n",
    "ovo = OneVsOneClassifier(LinearSVC(random_state=0))\n",
    "Cs = [0.1, 0.5, 0.8]\n",
    "cv = GridSearchCV(ovo, {'estimator__C': Cs})\n",
    "cv.fit(df_train, df['y'].values)\n",
    "best_C = cv.best_estimator_.estimators_[0].C\n",
    "assert_true(best_C in Cs)\n"
   ]
  },
  {
   "cell_type": "code",
   "execution_count": 22,
   "metadata": {},
   "outputs": [
    {
     "name": "stdout",
     "output_type": "stream",
     "text": [
      "[0 5 3 3 5 1 3 3 3 5 3 1 0 3 0 0 3 0 3 1 0 0 5 1 3 0 3 3 3 1 1 1 1 3 1 5 0\n",
      " 0 3 5 1 3 3 3 3 1 3 3 1 3 3 1 0 0 3 1 1 1 3 5 0 1 0 3 3 3 3 0 3 3 3 3 3 0\n",
      " 0 3 5 3 3 3 3 0 1 5 0 5 2 0 0 1 1 5 3 0 1 1 3 3 3 3 1 3 0 5 3 3 1 3 3 3 3\n",
      " 1 1 0 3 3 3 3 3 0 3 1 3 0 1 1 0 3 5 1 1 0 3 5 0 3 1 5 3 1 6 5 1 1 3 5 3 3\n",
      " 3 3 3 1 3 0 1 1 1 3 3 3 1 3 3 0 3 3 3 1 3 3 3 3 1 3 1 3 1 3 0 3 3 5 1 3 1\n",
      " 3 5 1 0 3 5 1 3 1 3 1 1 0 3 3 3 0 3 5 1 1 0 3 3 5 1 1 3 0 0 3 1 5 0 3 3 0\n",
      " 0 3 1 3 3 5 1 3 3 3 3 3 1 1 3 3 3 3 0 5 1 1 3 1 3 5 5 3 3 1 1 3 3 3 3 1 1\n",
      " 3 1 3 1 1 1 3 1 3 3 1 1 0 3 3 0 1 1 0 3 5 0 3 0 0 0 3 3 0 5 3 1 3 3 3 1 3\n",
      " 1 0 1 2 3 0 3 3 3 1 3 3 0 1 3 3 3 0 3 3 3 0 5 1 3 1 0 0 0 1 0 0 1 3 3 3 1\n",
      " 3 0 6 3 3 1 0 3 0 1 5 3 3 1 3 0 1 0 1 1 0 1 3 0 3 5 3 0 3 3 0 3 3 3 5 1 0\n",
      " 0 5 1 3 3 1 1 3 3 1 3 3 3 0 5 3 1 1 1 5 3 3 3 3 3 3 0 1 1 3 3 3 3 3 3 0 3\n",
      " 1 1 1 1 3 3 3 3 3 3 6 1 3 3 3 1 0 3 1 3 1 3 3 1 0 3 3 3 1 1 3 0 3 1 3 1 3\n",
      " 1 3 3 3 3 0 3 1 0 3 3 6 5 0 3 3 6 3 1 3 1 1 3 3 1 1 3 3 1 1 1 5 3 1 3 3 0\n",
      " 1 1 3 3 3 6 3 3 3 5 1 3 0 3 3 3 1 1 3 1 3 3 3 1 3 1 1 0 0 3 3 1 3 3 3 1 1\n",
      " 3 1 3 5 1 3 0 3 3 1 1 0 5 0 3 0 1 3 3 3 3 1 3 0 3 3 0 5 1 5 3 3 3 3 1 3 5\n",
      " 3 3 3 1 3 0 0 1 5 3 3 1 3 1 0 1 3 1 3 1 3 3 3 6 3 1 1 3 0 1 1 5 3 3 1 5 3\n",
      " 0 3 0 1 3 0 1 1 5 3 3 3 1 1 1 3 5 3 3 3 3 3 1 3 1 3 0 3 1 3 1 3 0 3 5 0 3\n",
      " 0 3 0 1 1 3 1 3 0 1 1 1 0 1 0 1 1 3 3 3 0 3 1 3 3 3 1 1 3 3 1 3 1 3 3 1 3\n",
      " 1 1 1 1 3 0 1 0 1 1 1 0 3 0 3 0 1 3 0 3 3 0 0 3 3 3 1 3 1 1 3 1 0 3 0 3 3\n",
      " 2 3 3 5 3 1 3 3 0 3 3 3 0 3 3 3 3 1 1 1 3 3 1 3 3 3 3 3 1 3 5 1 5 3 1 0 3\n",
      " 3 3 5 3 3 3 0 3 3 1 3 0 3 5 1 3 3 3 5 3 3 1 3 0 3 3 3 3 1 0 5 1 3 3 3 3 3\n",
      " 3 0 3 5 1 3 1 3 3 1 3 0 3 1 1 3 3 3 3 3 1 3 1 3 1 3 3 3 1 3 3 3 3 3 3 3 3\n",
      " 3 5 0 3 5 3 3 3 3 3 3 5 3 3 3 0 1 3 5 1 3 5 5 5 3 3 3 3 3 1 5 3 1 0 0 1 3\n",
      " 1 1 3 3 0 5 3 3 1 5 1 0 5 1 3 0 3 0 3 3 3 3 3 3 3 5 3 3 1 1 5 3 1 5 0 3 3\n",
      " 1 1 0 0 3 3 0 3 3 0 1 6 5 3 1 0 3 3 0 1 0 3 3 3 3 1 0 3 0 1 1 1 0 3 1 1 3\n",
      " 3 0 3 0 6 3 3 3 3 1 1 3 3 3 1 3 0 0 0 3 3 5 1 0 3 3 3 5 3 1 1 1 1 1 1 3 3\n",
      " 5 3 3 5 3 0 5 3 3 0 1 3 3 0 1 0 0 1 1 3 0 3 1 1]\n"
     ]
    }
   ],
   "source": [
    "test_preds = cv.predict(df_test)\n",
    "print(test_preds)"
   ]
  },
  {
   "cell_type": "code",
   "execution_count": 21,
   "metadata": {
    "collapsed": true
   },
   "outputs": [],
   "source": [
    "df = pd.DataFrame()\n",
    "df['Class1'] =0\n",
    "df['Class2'] =0\n",
    "df['Class3'] =0\n",
    "df['Class4'] =0\n",
    "df['Class5'] =0\n",
    "df['Class6'] =0\n",
    "df['Class7'] =0\n",
    "df['Class8'] =0\n",
    "df['Class9'] =0"
   ]
  },
  {
   "cell_type": "code",
   "execution_count": 23,
   "metadata": {
    "collapsed": true
   },
   "outputs": [],
   "source": [
    "df['Class1'] = [1 if i == 0 else 0 for i in test_preds]\n",
    "df['Class2'] = [1 if i == 1 else 0 for i in test_preds]\n",
    "df['Class3'] = [1 if i == 2 else 0 for i in test_preds]\n",
    "df['Class4'] = [1 if i == 3 else 0 for i in test_preds]\n",
    "df['Class5'] = [1 if i == 4 else 0 for i in test_preds]\n",
    "df['Class6'] = [1 if i == 5 else 0 for i in test_preds]\n",
    "df['Class7'] = [1 if i == 6 else 0 for i in test_preds]\n",
    "df['Class8'] = [1 if i == 7 else 0 for i in test_preds]\n",
    "df['Class9'] = [1 if i == 8 else 0 for i in test_preds]"
   ]
  },
  {
   "cell_type": "code",
   "execution_count": 24,
   "metadata": {},
   "outputs": [
    {
     "data": {
      "text/html": [
       "<div>\n",
       "<style>\n",
       "    .dataframe thead tr:only-child th {\n",
       "        text-align: right;\n",
       "    }\n",
       "\n",
       "    .dataframe thead th {\n",
       "        text-align: left;\n",
       "    }\n",
       "\n",
       "    .dataframe tbody tr th {\n",
       "        vertical-align: top;\n",
       "    }\n",
       "</style>\n",
       "<table border=\"1\" class=\"dataframe\">\n",
       "  <thead>\n",
       "    <tr style=\"text-align: right;\">\n",
       "      <th></th>\n",
       "      <th>Class1</th>\n",
       "      <th>Class2</th>\n",
       "      <th>Class3</th>\n",
       "      <th>Class4</th>\n",
       "      <th>Class5</th>\n",
       "      <th>Class6</th>\n",
       "      <th>Class7</th>\n",
       "      <th>Class8</th>\n",
       "      <th>Class9</th>\n",
       "    </tr>\n",
       "  </thead>\n",
       "  <tbody>\n",
       "    <tr>\n",
       "      <th>0</th>\n",
       "      <td>1</td>\n",
       "      <td>0</td>\n",
       "      <td>0</td>\n",
       "      <td>0</td>\n",
       "      <td>0</td>\n",
       "      <td>0</td>\n",
       "      <td>0</td>\n",
       "      <td>0</td>\n",
       "      <td>0</td>\n",
       "    </tr>\n",
       "    <tr>\n",
       "      <th>1</th>\n",
       "      <td>0</td>\n",
       "      <td>0</td>\n",
       "      <td>0</td>\n",
       "      <td>0</td>\n",
       "      <td>0</td>\n",
       "      <td>1</td>\n",
       "      <td>0</td>\n",
       "      <td>0</td>\n",
       "      <td>0</td>\n",
       "    </tr>\n",
       "    <tr>\n",
       "      <th>2</th>\n",
       "      <td>0</td>\n",
       "      <td>0</td>\n",
       "      <td>0</td>\n",
       "      <td>1</td>\n",
       "      <td>0</td>\n",
       "      <td>0</td>\n",
       "      <td>0</td>\n",
       "      <td>0</td>\n",
       "      <td>0</td>\n",
       "    </tr>\n",
       "    <tr>\n",
       "      <th>3</th>\n",
       "      <td>0</td>\n",
       "      <td>0</td>\n",
       "      <td>0</td>\n",
       "      <td>1</td>\n",
       "      <td>0</td>\n",
       "      <td>0</td>\n",
       "      <td>0</td>\n",
       "      <td>0</td>\n",
       "      <td>0</td>\n",
       "    </tr>\n",
       "    <tr>\n",
       "      <th>4</th>\n",
       "      <td>0</td>\n",
       "      <td>0</td>\n",
       "      <td>0</td>\n",
       "      <td>0</td>\n",
       "      <td>0</td>\n",
       "      <td>1</td>\n",
       "      <td>0</td>\n",
       "      <td>0</td>\n",
       "      <td>0</td>\n",
       "    </tr>\n",
       "  </tbody>\n",
       "</table>\n",
       "</div>"
      ],
      "text/plain": [
       "   Class1  Class2  Class3  Class4  Class5  Class6  Class7  Class8  Class9\n",
       "0       1       0       0       0       0       0       0       0       0\n",
       "1       0       0       0       0       0       1       0       0       0\n",
       "2       0       0       0       1       0       0       0       0       0\n",
       "3       0       0       0       1       0       0       0       0       0\n",
       "4       0       0       0       0       0       1       0       0       0"
      ]
     },
     "execution_count": 24,
     "metadata": {},
     "output_type": "execute_result"
    }
   ],
   "source": [
    "df.head()"
   ]
  },
  {
   "cell_type": "code",
   "execution_count": 25,
   "metadata": {
    "collapsed": true
   },
   "outputs": [],
   "source": [
    "df1 = pd.read_csv('../cache/test_id.csv')"
   ]
  },
  {
   "cell_type": "code",
   "execution_count": 26,
   "metadata": {},
   "outputs": [
    {
     "data": {
      "text/html": [
       "<div>\n",
       "<style>\n",
       "    .dataframe thead tr:only-child th {\n",
       "        text-align: right;\n",
       "    }\n",
       "\n",
       "    .dataframe thead th {\n",
       "        text-align: left;\n",
       "    }\n",
       "\n",
       "    .dataframe tbody tr th {\n",
       "        vertical-align: top;\n",
       "    }\n",
       "</style>\n",
       "<table border=\"1\" class=\"dataframe\">\n",
       "  <thead>\n",
       "    <tr style=\"text-align: right;\">\n",
       "      <th></th>\n",
       "      <th>ID</th>\n",
       "    </tr>\n",
       "  </thead>\n",
       "  <tbody>\n",
       "    <tr>\n",
       "      <th>0</th>\n",
       "      <td>1</td>\n",
       "    </tr>\n",
       "    <tr>\n",
       "      <th>1</th>\n",
       "      <td>2</td>\n",
       "    </tr>\n",
       "    <tr>\n",
       "      <th>2</th>\n",
       "      <td>3</td>\n",
       "    </tr>\n",
       "    <tr>\n",
       "      <th>3</th>\n",
       "      <td>4</td>\n",
       "    </tr>\n",
       "    <tr>\n",
       "      <th>4</th>\n",
       "      <td>5</td>\n",
       "    </tr>\n",
       "  </tbody>\n",
       "</table>\n",
       "</div>"
      ],
      "text/plain": [
       "   ID\n",
       "0   1\n",
       "1   2\n",
       "2   3\n",
       "3   4\n",
       "4   5"
      ]
     },
     "execution_count": 26,
     "metadata": {},
     "output_type": "execute_result"
    }
   ],
   "source": [
    "df1.head()"
   ]
  },
  {
   "cell_type": "code",
   "execution_count": 27,
   "metadata": {
    "collapsed": true
   },
   "outputs": [],
   "source": [
    "df['ID'] = df1['ID'].values"
   ]
  },
  {
   "cell_type": "code",
   "execution_count": 28,
   "metadata": {
    "collapsed": true
   },
   "outputs": [],
   "source": [
    "df.to_csv('../submissions/sub_svc_one_on_one.csv', index=None)\n",
    "# 27.63102 on stage2 private, 27.75437 on stage2 public\n"
   ]
  },
  {
   "cell_type": "code",
   "execution_count": 29,
   "metadata": {
    "collapsed": true
   },
   "outputs": [],
   "source": [
    "df_target = pd.read_csv('../cache/train_stage2_labels.csv')"
   ]
  },
  {
   "cell_type": "code",
   "execution_count": 32,
   "metadata": {},
   "outputs": [
    {
     "ename": "AttributeError",
     "evalue": "'SVR' object has no attribute 'predict_proba'",
     "output_type": "error",
     "traceback": [
      "\u001b[0;31m---------------------------------------------------------------------------\u001b[0m",
      "\u001b[0;31mAttributeError\u001b[0m                            Traceback (most recent call last)",
      "\u001b[0;32m<ipython-input-32-85f99ed1c291>\u001b[0m in \u001b[0;36m<module>\u001b[0;34m()\u001b[0m\n\u001b[1;32m      1\u001b[0m \u001b[0mclf\u001b[0m \u001b[0;34m=\u001b[0m \u001b[0mOneVsRestClassifier\u001b[0m\u001b[0;34m(\u001b[0m\u001b[0msvm\u001b[0m\u001b[0;34m.\u001b[0m\u001b[0mSVR\u001b[0m\u001b[0;34m(\u001b[0m\u001b[0;34m)\u001b[0m\u001b[0;34m)\u001b[0m\u001b[0;34m.\u001b[0m\u001b[0mfit\u001b[0m\u001b[0;34m(\u001b[0m\u001b[0mdf_train\u001b[0m\u001b[0;34m,\u001b[0m \u001b[0mdf_target\u001b[0m\u001b[0;34m[\u001b[0m\u001b[0;34m'y'\u001b[0m\u001b[0;34m]\u001b[0m\u001b[0;34m.\u001b[0m\u001b[0mvalues\u001b[0m\u001b[0;34m)\u001b[0m\u001b[0;34m\u001b[0m\u001b[0m\n\u001b[1;32m      2\u001b[0m \u001b[0mY_pred\u001b[0m \u001b[0;34m=\u001b[0m \u001b[0mclf\u001b[0m\u001b[0;34m.\u001b[0m\u001b[0mpredict\u001b[0m\u001b[0;34m(\u001b[0m\u001b[0mdf_test\u001b[0m\u001b[0;34m)\u001b[0m\u001b[0;34m\u001b[0m\u001b[0m\n\u001b[0;32m----> 3\u001b[0;31m \u001b[0mY_proba\u001b[0m \u001b[0;34m=\u001b[0m \u001b[0mclf\u001b[0m\u001b[0;34m.\u001b[0m\u001b[0mpredict_proba\u001b[0m\u001b[0;34m(\u001b[0m\u001b[0mdf_test\u001b[0m\u001b[0;34m)\u001b[0m\u001b[0;34m\u001b[0m\u001b[0m\n\u001b[0m",
      "\u001b[0;32m~/anaconda2/envs/aind-dog/lib/python3.6/site-packages/sklearn/utils/metaestimators.py\u001b[0m in \u001b[0;36m__get__\u001b[0;34m(self, obj, type)\u001b[0m\n\u001b[1;32m    107\u001b[0m                     \u001b[0;32mcontinue\u001b[0m\u001b[0;34m\u001b[0m\u001b[0m\n\u001b[1;32m    108\u001b[0m                 \u001b[0;32melse\u001b[0m\u001b[0;34m:\u001b[0m\u001b[0;34m\u001b[0m\u001b[0m\n\u001b[0;32m--> 109\u001b[0;31m                     \u001b[0mgetattr\u001b[0m\u001b[0;34m(\u001b[0m\u001b[0mdelegate\u001b[0m\u001b[0;34m,\u001b[0m \u001b[0mself\u001b[0m\u001b[0;34m.\u001b[0m\u001b[0mattribute_name\u001b[0m\u001b[0;34m)\u001b[0m\u001b[0;34m\u001b[0m\u001b[0m\n\u001b[0m\u001b[1;32m    110\u001b[0m                     \u001b[0;32mbreak\u001b[0m\u001b[0;34m\u001b[0m\u001b[0m\n\u001b[1;32m    111\u001b[0m             \u001b[0;32melse\u001b[0m\u001b[0;34m:\u001b[0m\u001b[0;34m\u001b[0m\u001b[0m\n",
      "\u001b[0;31mAttributeError\u001b[0m: 'SVR' object has no attribute 'predict_proba'"
     ]
    }
   ],
   "source": [
    "clf = OneVsRestClassifier(svm.SVR()).fit(df_train, df_target['y'].values)\n",
    "Y_pred = clf.predict(df_test)\n",
    "# Y_proba = clf.predict_proba(df_test)"
   ]
  },
  {
   "cell_type": "code",
   "execution_count": 40,
   "metadata": {
    "collapsed": true
   },
   "outputs": [],
   "source": [
    "save_classifier('../cache/svm_svr_clf.pkl', clf)"
   ]
  },
  {
   "cell_type": "code",
   "execution_count": 33,
   "metadata": {},
   "outputs": [
    {
     "name": "stdout",
     "output_type": "stream",
     "text": [
      "[3 0 6 6 6 6 6 6 6 6 6 1 0 6 6 6 6 6 6 6 6 6 6 6 6 6 6 6 3 6 6 6 0 6 6 6 5\n",
      " 6 6 6 6 6 6 0 3 6 6 6 3 6 6 0 6 6 6 6 3 6 6 5 6 6 6 0 5 6 6 7 6 6 6 0 6 6\n",
      " 2 6 0 6 4 6 6 4 6 6 6 6 6 0 6 6 6 4 6 6 6 6 6 6 6 6 6 6 6 6 6 6 6 6 6 4 6\n",
      " 5 6 0 6 6 6 0 6 6 5 6 1 6 6 6 0 6 6 6 6 6 6 6 6 6 6 6 3 6 6 6 6 6 6 6 3 6\n",
      " 6 6 6 4 6 0 6 6 6 6 6 6 6 6 6 0 6 6 6 6 0 6 6 6 0 0 6 6 6 3 6 6 6 6 6 6 6\n",
      " 3 6 6 6 6 6 6 3 4 6 3 0 5 6 6 6 0 6 6 0 6 6 6 6 6 6 3 6 6 6 4 1 6 6 6 6 6\n",
      " 3 6 6 6 6 6 6 6 6 6 6 6 0 0 0 6 3 0 6 6 6 6 6 6 6 0 6 6 6 6 6 6 6 0 6 6 3\n",
      " 6 6 6 6 4 0 6 6 3 6 6 5 6 6 6 6 6 0 6 6 6 6 6 3 6 6 0 6 6 6 6 4 3 6 6 1 6\n",
      " 0 1 6 6 0 6 6 6 3 6 0 0 6 6 3 3 6 6 5 6 3 6 3 6 6 6 6 6 6 6 6 0 1 6 6 3 0\n",
      " 6 6 6 6 3 6 6 6 6 1 6 6 1 4 6 6 6 6 6 3 6 6 6 5 0 0 6 6 6 6 8 6 6 6 3 0 6\n",
      " 1 0 0 6 6 0 6 0 6 6 6 6 6 6 4 6 6 6 6 3 6 6 6 6 6 6 6 5 4 6 6 6 6 3 6 6 6\n",
      " 6 1 6 6 6 0 5 1 4 6 6 6 5 6 6 6 6 6 6 6 0 4 3 6 6 6 6 6 6 6 0 6 6 6 6 6 6\n",
      " 4 6 6 6 6 0 6 6 6 6 0 3 6 6 6 0 0 6 6 6 6 6 0 6 6 6 6 6 6 0 6 6 6 5 3 6 6\n",
      " 1 6 5 6 6 6 6 5 4 6 6 6 6 6 6 6 6 6 6 3 1 6 6 6 0 1 6 6 6 6 6 0 0 6 6 6 6\n",
      " 6 6 6 6 1 6 6 8 0 6 6 6 0 6 6 6 0 6 6 6 1 6 1 6 6 6 6 6 1 6 3 6 6 6 6 6 2\n",
      " 1 6 6 5 4 0 3 6 6 6 6 6 6 6 6 8 6 6 6 4 6 4 6 6 3 6 6 0 6 8 0 6 6 6 1 6 6\n",
      " 6 6 6 6 3 6 3 1 6 6 6 6 1 6 6 6 6 6 6 6 6 6 6 2 6 6 6 6 6 6 1 6 0 6 6 6 5\n",
      " 6 3 6 6 4 6 4 1 6 6 6 6 0 6 6 4 6 6 0 0 6 4 6 6 0 3 6 6 3 3 6 6 6 0 6 6 6\n",
      " 1 6 6 6 6 0 6 1 6 6 6 6 1 3 6 6 0 6 3 6 6 6 6 6 6 6 6 6 6 6 6 6 6 6 6 6 3\n",
      " 3 0 3 6 6 3 6 6 8 6 6 6 6 6 6 6 6 6 3 6 6 6 6 6 6 0 6 6 6 6 6 5 6 6 0 6 6\n",
      " 6 1 3 1 6 6 6 6 6 6 6 0 6 6 6 6 2 6 5 1 6 6 0 6 6 1 6 0 6 6 1 6 0 6 4 6 0\n",
      " 6 6 6 6 6 6 0 3 6 6 6 6 6 6 6 6 6 6 3 6 6 0 6 6 6 6 3 6 1 6 0 6 0 0 1 6 6\n",
      " 6 6 6 0 6 0 6 6 1 6 6 6 3 5 6 6 6 6 0 3 6 6 6 1 3 6 1 6 6 6 6 6 1 6 6 6 5\n",
      " 6 6 6 6 6 6 3 2 6 6 6 6 6 6 6 6 3 6 1 6 6 6 6 6 6 6 6 2 0 1 6 6 6 6 0 0 6\n",
      " 6 6 6 6 6 2 0 6 6 6 6 6 6 6 0 6 6 8 6 6 6 6 6 0 6 1 6 6 6 3 6 6 5 6 3 6 6\n",
      " 6 6 6 6 6 6 6 6 0 3 6 6 6 1 6 6 1 4 6 6 6 7 3 6 6 6 0 6 6 3 1 3 6 0 6 6 6\n",
      " 0 6 1 6 3 6 6 6 6 6 6 6 6 6 6 6 6 6 6 6 6 6 6 6]\n"
     ]
    }
   ],
   "source": [
    "print(Y_pred)"
   ]
  },
  {
   "cell_type": "code",
   "execution_count": 34,
   "metadata": {
    "collapsed": true
   },
   "outputs": [],
   "source": [
    "df = pd.DataFrame()\n",
    "df['Class1'] =0\n",
    "df['Class2'] =0\n",
    "df['Class3'] =0\n",
    "df['Class4'] =0\n",
    "df['Class5'] =0\n",
    "df['Class6'] =0\n",
    "df['Class7'] =0\n",
    "df['Class8'] =0\n",
    "df['Class9'] =0\n",
    "\n",
    "df['Class1'] = [1 if i == 0 else 0 for i in Y_pred]\n",
    "df['Class2'] = [1 if i == 1 else 0 for i in Y_pred]\n",
    "df['Class3'] = [1 if i == 2 else 0 for i in Y_pred]\n",
    "df['Class4'] = [1 if i == 3 else 0 for i in Y_pred]\n",
    "df['Class5'] = [1 if i == 4 else 0 for i in Y_pred]\n",
    "df['Class6'] = [1 if i == 5 else 0 for i in Y_pred]\n",
    "df['Class7'] = [1 if i == 6 else 0 for i in Y_pred]\n",
    "df['Class8'] = [1 if i == 7 else 0 for i in Y_pred]\n",
    "df['Class9'] = [1 if i == 8 else 0 for i in Y_pred]"
   ]
  },
  {
   "cell_type": "code",
   "execution_count": 35,
   "metadata": {
    "collapsed": true
   },
   "outputs": [],
   "source": [
    "df['ID'] = df1['ID'].values"
   ]
  },
  {
   "cell_type": "code",
   "execution_count": 36,
   "metadata": {
    "collapsed": true
   },
   "outputs": [],
   "source": [
    "df.to_csv('../submissions/sub_svm_one_vs_rest.csv', index=None)"
   ]
  },
  {
   "cell_type": "code",
   "execution_count": null,
   "metadata": {
    "collapsed": true
   },
   "outputs": [],
   "source": [
    "# 33.15722 on stage2 private leaderboard, 2.11461 on stage2 public leaderboard"
   ]
  },
  {
   "cell_type": "code",
   "execution_count": null,
   "metadata": {
    "collapsed": true
   },
   "outputs": [],
   "source": []
  },
  {
   "cell_type": "code",
   "execution_count": 47,
   "metadata": {
    "collapsed": true
   },
   "outputs": [],
   "source": [
    "df = pd.read_csv('../cache/train_stage2_labels.csv')"
   ]
  },
  {
   "cell_type": "code",
   "execution_count": 48,
   "metadata": {
    "collapsed": true
   },
   "outputs": [],
   "source": [
    "Y = df['y'].values"
   ]
  },
  {
   "cell_type": "code",
   "execution_count": 49,
   "metadata": {},
   "outputs": [
    {
     "name": "stderr",
     "output_type": "stream",
     "text": [
      "/home/watts/anaconda2/envs/aind-dog/lib/python3.6/site-packages/sklearn/linear_model/stochastic_gradient.py:84: FutureWarning: max_iter and tol parameters have been added in <class 'sklearn.linear_model.perceptron.Perceptron'> in 0.19. If both are left unset, they default to max_iter=5 and tol=None. If tol is not None, max_iter defaults to max_iter=1000. From 0.21, default max_iter will be 1000, and default tol will be 1e-3.\n",
      "  \"and default tol will be 1e-3.\" % type(self), FutureWarning)\n"
     ]
    }
   ],
   "source": [
    "multi_clf = OneVsOneClassifier(Perceptron())\n",
    "ovo_prediction = multi_clf.fit(df_train, Y).predict(df_test)\n"
   ]
  },
  {
   "cell_type": "code",
   "execution_count": 52,
   "metadata": {},
   "outputs": [
    {
     "name": "stdout",
     "output_type": "stream",
     "text": [
      "[6 6 6 6 6 6 6 6 6 6 6 6 6 6 6 6 6 6 6 6 6 6 6 6 6 6 6 6 6 6 6 6 6 6 6 6 6\n",
      " 6 6 6 6 6 6 6 6 6 6 6 6 6 6 6 6 6 6 6 6 6 6 6 6 6 6 6 6 6 6 6 6 6 6 6 6 6\n",
      " 6 6 6 6 6 6 6 6 6 6 6 6 6 6 6 6 6 6 6 6 6 6 6 6 6 6 6 6 6 6 6 6 6 6 6 6 6\n",
      " 6 6 6 6 6 6 6 6 6 6 6 6 6 6 6 6 6 6 6 6 6 6 6 6 6 6 6 6 6 6 6 6 6 6 6 6 6\n",
      " 6 6 6 6 6 6 6 6 6 6 6 6 6 6 6 6 6 6 6 6 6 6 6 6 6 6 6 6 6 6 6 6 6 6 6 6 6\n",
      " 6 6 6 6 6 6 6 6 6 6 6 6 6 6 6 6 6 6 6 6 6 6 6 6 6 6 6 6 6 6 6 6 6 6 6 6 6\n",
      " 6 6 6 6 6 6 6 6 6 6 6 6 6 6 6 6 6 6 6 6 6 6 6 6 6 6 6 6 6 6 6 6 6 6 6 6 6\n",
      " 6 6 6 6 6 6 6 6 6 6 6 6 6 6 6 6 6 6 6 6 6 6 6 6 6 6 6 6 6 6 6 6 6 6 6 6 6\n",
      " 6 6 6 6 6 6 6 6 6 6 6 6 6 6 6 6 6 6 6 6 6 6 6 6 6 6 6 6 6 6 6 6 6 6 6 6 6\n",
      " 6 6 6 6 6 6 6 6 6 6 6 6 6 6 6 6 6 6 6 6 6 6 6 6 6 6 6 6 6 6 6 6 6 6 6 6 6\n",
      " 6 6 6 6 6 6 6 6 6 6 6 6 6 6 6 6 6 6 6 6 6 6 6 6 6 6 6 6 6 6 6 6 6 6 6 6 6\n",
      " 6 6 6 6 6 6 6 6 6 6 6 6 6 6 6 6 6 6 6 6 6 6 6 6 6 6 6 6 6 6 6 6 6 6 6 6 6\n",
      " 6 6 6 6 6 6 6 6 6 6 6 6 6 6 6 6 6 6 6 6 6 6 6 6 6 6 6 6 6 6 6 6 6 6 6 6 6\n",
      " 6 6 6 6 6 6 6 6 6 6 6 6 6 6 6 6 6 6 6 6 6 6 6 6 6 6 6 6 6 6 6 6 6 6 6 6 6\n",
      " 6 6 6 6 6 6 6 6 6 6 6 6 6 6 6 6 6 6 6 6 6 6 6 6 6 6 6 6 6 6 6 6 6 6 6 6 6\n",
      " 6 6 6 6 6 6 6 6 6 6 6 6 6 6 6 6 6 6 6 6 6 6 6 6 6 6 6 6 6 6 6 6 6 6 6 6 6\n",
      " 6 6 6 6 6 6 6 6 6 6 6 6 6 6 6 6 6 6 6 6 6 6 6 6 6 6 6 6 6 6 6 6 6 6 6 6 6\n",
      " 6 6 6 6 6 6 6 6 6 6 6 6 6 6 6 6 6 6 6 6 6 6 6 6 6 6 6 6 6 6 6 6 6 6 6 6 6\n",
      " 6 6 6 6 6 6 6 6 6 6 6 6 6 6 6 6 6 6 6 6 6 6 6 6 6 6 6 6 6 6 6 6 6 6 6 6 6\n",
      " 6 6 6 6 6 6 6 6 6 6 6 6 6 6 6 6 6 6 6 6 6 6 6 6 6 6 6 6 6 6 6 6 6 6 6 6 6\n",
      " 6 6 6 6 6 6 6 6 6 6 6 6 6 6 6 6 6 6 6 6 6 6 6 6 6 6 6 6 6 6 6 6 6 6 6 6 6\n",
      " 6 6 6 6 6 6 6 6 6 6 6 6 6 6 6 6 6 6 6 6 6 6 6 6 6 6 6 6 6 6 6 6 6 6 6 6 6\n",
      " 6 6 6 6 6 6 6 6 6 6 6 6 6 6 6 6 6 6 6 6 6 6 6 6 6 6 6 6 6 6 6 6 6 6 6 6 6\n",
      " 6 6 6 6 6 6 6 6 6 6 6 6 6 6 6 6 6 6 6 6 6 6 6 6 6 6 6 6 6 6 6 6 6 6 6 6 6\n",
      " 6 6 6 6 6 6 6 6 6 6 6 6 6 6 6 6 6 6 6 6 6 6 6 6 6 6 6 6 6 6 6 6 6 6 6 6 6\n",
      " 6 6 6 6 6 6 6 6 6 6 6 6 6 6 6 6 6 6 6 6 6 6 6 6 6 6 6 6 6 6 6 6 6 6 6 6 6\n",
      " 6 6 6 6 6 6 6 6 6 6 6 6 6 6 6 6 6 6 6 6 6 6 6 6]\n"
     ]
    }
   ],
   "source": [
    "print(ovo_prediction)"
   ]
  },
  {
   "cell_type": "code",
   "execution_count": null,
   "metadata": {
    "collapsed": true
   },
   "outputs": [],
   "source": [
    "# very bad, won't submit"
   ]
  },
  {
   "cell_type": "code",
   "execution_count": null,
   "metadata": {
    "collapsed": true
   },
   "outputs": [],
   "source": []
  },
  {
   "cell_type": "code",
   "execution_count": 57,
   "metadata": {
    "collapsed": true
   },
   "outputs": [],
   "source": [
    "ovo = OneVsOneClassifier(MultinomialNB())\n",
    "Y_pred =ovo.fit(abs(df_train), Y).predict(df_test)"
   ]
  },
  {
   "cell_type": "code",
   "execution_count": 58,
   "metadata": {
    "collapsed": true
   },
   "outputs": [],
   "source": [
    "df = pd.DataFrame()\n",
    "df['Class1'] =0\n",
    "df['Class2'] =0\n",
    "df['Class3'] =0\n",
    "df['Class4'] =0\n",
    "df['Class5'] =0\n",
    "df['Class6'] =0\n",
    "df['Class7'] =0\n",
    "df['Class8'] =0\n",
    "df['Class9'] =0\n",
    "\n",
    "df['Class1'] = [1 if i == 0 else 0 for i in Y_pred]\n",
    "df['Class2'] = [1 if i == 1 else 0 for i in Y_pred]\n",
    "df['Class3'] = [1 if i == 2 else 0 for i in Y_pred]\n",
    "df['Class4'] = [1 if i == 3 else 0 for i in Y_pred]\n",
    "df['Class5'] = [1 if i == 4 else 0 for i in Y_pred]\n",
    "df['Class6'] = [1 if i == 5 else 0 for i in Y_pred]\n",
    "df['Class7'] = [1 if i == 6 else 0 for i in Y_pred]\n",
    "df['Class8'] = [1 if i == 7 else 0 for i in Y_pred]\n",
    "df['Class9'] = [1 if i == 8 else 0 for i in Y_pred]\n",
    "\n",
    "df['ID'] = df1['ID'].values\n",
    "df.to_csv('../submissions/sub_nb_one_on_one.csv', index=None)"
   ]
  },
  {
   "cell_type": "code",
   "execution_count": null,
   "metadata": {
    "collapsed": true
   },
   "outputs": [],
   "source": [
    "# 29.28888 on stage2 private leaderboard, 29.25222 on stage2 public leaderboard"
   ]
  }
 ],
 "metadata": {
  "kernelspec": {
   "display_name": "Python 3",
   "language": "python",
   "name": "python3"
  },
  "language_info": {
   "codemirror_mode": {
    "name": "ipython",
    "version": 3
   },
   "file_extension": ".py",
   "mimetype": "text/x-python",
   "name": "python",
   "nbconvert_exporter": "python",
   "pygments_lexer": "ipython3",
   "version": "3.6.1"
  }
 },
 "nbformat": 4,
 "nbformat_minor": 2
}
