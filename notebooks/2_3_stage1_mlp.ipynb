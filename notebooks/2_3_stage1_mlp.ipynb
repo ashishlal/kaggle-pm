{
 "cells": [
  {
   "cell_type": "code",
   "execution_count": 1,
   "metadata": {
    "collapsed": true
   },
   "outputs": [],
   "source": [
    "import numpy as np\n",
    "import pandas as pd\n",
    "\n",
    "from sklearn.metrics import log_loss, confusion_matrix, f1_score, accuracy_score\n",
    "from sklearn.model_selection import GridSearchCV, StratifiedKFold\n",
    "\n",
    "from sklearn.linear_model import SGDClassifier\n",
    "from sklearn.neural_network import MLPClassifier"
   ]
  },
  {
   "cell_type": "code",
   "execution_count": 2,
   "metadata": {},
   "outputs": [
    {
     "name": "stdout",
     "output_type": "stream",
     "text": [
      "{1: 4.846830985915493, 2: 6.347345132743363, 3: 36.31460674157304, 4: 3.8411078717201166, 5: 12.723140495867769, 6: 11.076363636363636, 7: 2.484784889821616, 8: 173.78947368421052, 9: 88.75675675675676}\n"
     ]
    }
   ],
   "source": [
    "df_train = np.load('../cache/train_p_stage1_fe2.npy')\n",
    "df_test = np.load('../cache/test_p_stage1_fe2.npy')\n",
    "df = pd.read_csv('../cache/stage1_labels.csv')\n",
    "y = df['y'].values\n",
    "\n",
    "df1 = pd.read_csv('../cache/stage1_p_test_labels.csv')\n",
    "test_labels = df1['y'].values\n",
    "\n",
    "wts_per_class = np.load('../cache/stage1_train_weights_per_class.npy')\n",
    "wts_per_class = wts_per_class.tolist()\n",
    "print(wts_per_class)"
   ]
  },
  {
   "cell_type": "code",
   "execution_count": 3,
   "metadata": {
    "collapsed": true
   },
   "outputs": [],
   "source": [
    "y = y-1"
   ]
  },
  {
   "cell_type": "code",
   "execution_count": 10,
   "metadata": {
    "collapsed": true
   },
   "outputs": [],
   "source": [
    "wts_per_class2 = {}\n",
    "wts_per_class2 = {i:wts_per_class[i+1] for i in y}"
   ]
  },
  {
   "cell_type": "code",
   "execution_count": 20,
   "metadata": {
    "collapsed": true
   },
   "outputs": [],
   "source": [
    "# SGDClassifier(alpha=0.0001, average=False, class_weight=None, epsilon=0.1,\n",
    "#        eta0=0.0, fit_intercept=True, l1_ratio=0.15,\n",
    "#        learning_rate='optimal', loss='hinge', max_iter=None, n_iter=None,\n",
    "#        n_jobs=1, penalty='l2', power_t=0.5, random_state=None,\n",
    "#        shuffle=True, tol=None, verbose=0, warm_start=False)\n",
    "# sgd_model = SGDClassifier(class_weight=wts_per_class2)\n",
    "\n",
    "sgd_model = SGDClassifier()\n",
    "\n",
    "# parameters = {\n",
    "#     'alpha': [0.0001, 0.0005, 0.001, 0.01, 0.1], \n",
    "#     'epsilon':[0.1, 0.5, 0.05],\n",
    "#     'eta0': [0.0, 0.0001, 0.001],\n",
    "#     'l1_ratio': [0.01, 0.1, 0.15, 0.2],\n",
    "#     'loss': ['log'],\n",
    "#     'random_state': [1337]\n",
    "# }\n",
    "\n",
    "parameters = {\n",
    "    'alpha': [0.001, 0.01], \n",
    "    'max_iter': [50,250,500],\n",
    "    'loss': ['log'],\n",
    "    'penalty': ['l2', 'l1', 'elasticnet'],\n",
    "    'power_t': [0.05, 0.1],\n",
    "    'random_state': [1337],\n",
    "}\n",
    "\n",
    "p = {\n",
    "    'alpha': [0.001], \n",
    "    'loss': ['log'], \n",
    "    'max_iter': [50], \n",
    "    'penalty': ['elasticnet'], \n",
    "    'power_t': [0.05], \n",
    "    'random_state': [1337]}\n",
    "\n",
    "\n",
    "\n",
    "clf0 = GridSearchCV(sgd_model, p, n_jobs=1, \n",
    "                   cv=2,\n",
    "                   scoring = 'neg_log_loss',\n",
    "                   verbose=2, refit=True)\n",
    "\n"
   ]
  },
  {
   "cell_type": "code",
   "execution_count": 21,
   "metadata": {},
   "outputs": [
    {
     "name": "stdout",
     "output_type": "stream",
     "text": [
      "Fitting 2 folds for each of 1 candidates, totalling 2 fits\n",
      "[CV] alpha=0.001, loss=log, max_iter=50, penalty=elasticnet, power_t=0.05, random_state=1337 \n"
     ]
    },
    {
     "name": "stderr",
     "output_type": "stream",
     "text": [
      "/home/watts/anaconda2/envs/aind-dog/lib/python3.6/site-packages/sklearn/linear_model/base.py:340: RuntimeWarning: overflow encountered in exp\n",
      "  np.exp(prob, prob)\n",
      "[Parallel(n_jobs=1)]: Done   1 out of   1 | elapsed:   54.3s remaining:    0.0s\n"
     ]
    },
    {
     "name": "stdout",
     "output_type": "stream",
     "text": [
      "[CV]  alpha=0.001, loss=log, max_iter=50, penalty=elasticnet, power_t=0.05, random_state=1337, total=  54.2s\n",
      "[CV] alpha=0.001, loss=log, max_iter=50, penalty=elasticnet, power_t=0.05, random_state=1337 \n"
     ]
    },
    {
     "name": "stderr",
     "output_type": "stream",
     "text": [
      "/home/watts/anaconda2/envs/aind-dog/lib/python3.6/site-packages/sklearn/linear_model/base.py:340: RuntimeWarning: overflow encountered in exp\n",
      "  np.exp(prob, prob)\n",
      "[Parallel(n_jobs=1)]: Done   2 out of   2 | elapsed:  1.8min finished\n"
     ]
    },
    {
     "name": "stdout",
     "output_type": "stream",
     "text": [
      "[CV]  alpha=0.001, loss=log, max_iter=50, penalty=elasticnet, power_t=0.05, random_state=1337, total=  54.4s\n"
     ]
    },
    {
     "data": {
      "text/plain": [
       "GridSearchCV(cv=2, error_score='raise',\n",
       "       estimator=SGDClassifier(alpha=0.0001, average=False, class_weight=None, epsilon=0.1,\n",
       "       eta0=0.0, fit_intercept=True, l1_ratio=0.15,\n",
       "       learning_rate='optimal', loss='hinge', max_iter=None, n_iter=None,\n",
       "       n_jobs=1, penalty='l2', power_t=0.5, random_state=None,\n",
       "       shuffle=True, tol=None, verbose=0, warm_start=False),\n",
       "       fit_params=None, iid=True, n_jobs=1,\n",
       "       param_grid={'alpha': [0.001], 'loss': ['log'], 'max_iter': [50], 'penalty': ['elasticnet'], 'power_t': [0.05], 'random_state': [1337]},\n",
       "       pre_dispatch='2*n_jobs', refit=True, return_train_score='warn',\n",
       "       scoring='neg_log_loss', verbose=2)"
      ]
     },
     "execution_count": 21,
     "metadata": {},
     "output_type": "execute_result"
    }
   ],
   "source": [
    "clf0.fit(df_train, y)"
   ]
  },
  {
   "cell_type": "code",
   "execution_count": 22,
   "metadata": {},
   "outputs": [
    {
     "name": "stdout",
     "output_type": "stream",
     "text": [
      "-26.9960520848\n",
      "{'alpha': 0.001, 'loss': 'log', 'max_iter': 50, 'penalty': 'elasticnet', 'power_t': 0.05, 'random_state': 1337}\n"
     ]
    }
   ],
   "source": [
    "print(clf0.best_score_)\n",
    "print(clf0.best_params_)\n",
    "# -14.8125892222\n",
    "# {'alpha': 0.001, 'loss': 'log', 'max_iter': 250, 'random_state': 1337}\n",
    "\n",
    "# parameters = {\n",
    "#     'alpha': [0.001, 0.0001], \n",
    "#     'max_iter': [50,250,500],\n",
    "#     'loss': ['log'],\n",
    "#     'penalty': ['l2', 'l1', 'elasticnet'],\n",
    "#     'power_t': [0.1, 0.3, 0.5],\n",
    "#     'random_state': [1337],\n",
    "# }\n",
    "# -14.4717413019\n",
    "# {'alpha': 0.001, 'loss': 'log', 'max_iter': 50, 'penalty': 'elasticnet', 'power_t': 0.1, 'random_state': 1337}\n",
    "# In [14]:\n",
    "\n",
    "# -14.4717413019\n",
    "# {'alpha': 0.001, 'loss': 'log', 'max_iter': 50, 'penalty': 'elasticnet', 'power_t': 0.05, 'random_state': 1337}"
   ]
  },
  {
   "cell_type": "code",
   "execution_count": 14,
   "metadata": {},
   "outputs": [
    {
     "name": "stdout",
     "output_type": "stream",
     "text": [
      "[[ 0.    0.25  0.   ...,  0.    0.    0.25]\n",
      " [ 0.    0.25  0.   ...,  0.    0.    0.25]\n",
      " [ 0.    0.25  0.   ...,  0.    0.    0.25]\n",
      " ..., \n",
      " [ 0.    0.25  0.   ...,  0.    0.    0.25]\n",
      " [ 0.    0.25  0.   ...,  0.    0.    0.25]\n",
      " [ 0.    0.25  0.   ...,  0.    0.    0.25]]\n"
     ]
    },
    {
     "name": "stderr",
     "output_type": "stream",
     "text": [
      "/home/watts/anaconda2/envs/aind-dog/lib/python3.6/site-packages/sklearn/linear_model/base.py:340: RuntimeWarning: overflow encountered in exp\n",
      "  np.exp(prob, prob)\n"
     ]
    }
   ],
   "source": [
    "test_preds = clf0.predict_proba(df_test)\n",
    "print(test_preds)"
   ]
  },
  {
   "cell_type": "code",
   "execution_count": 15,
   "metadata": {},
   "outputs": [
    {
     "name": "stdout",
     "output_type": "stream",
     "text": [
      "final multi_log_loss: 2.197224577336219\n",
      "final f1_score: 0.125\n",
      "final accuracy: 0.125\n",
      "[[  0  94   0   0   0   0   0   0   0]\n",
      " [  0  46   0   0   0   0   0   0   0]\n",
      " [  0   7   0   0   0   0   0   0   0]\n",
      " [  0  65   0   0   0   0   0   0   0]\n",
      " [  0  25   0   0   0   0   0   0   0]\n",
      " [  0  22   0   0   0   0   0   0   0]\n",
      " [  0 101   0   0   0   0   0   0   0]\n",
      " [  0   2   0   0   0   0   0   0   0]\n",
      " [  0   6   0   0   0   0   0   0   0]]\n"
     ]
    }
   ],
   "source": [
    "score2 = log_loss(test_labels, test_preds+1, labels = list(range(1,10)))\n",
    "print('final multi_log_loss: {}'.format(score2))\n",
    "\n",
    "fscore = f1_score(test_labels, test_preds.argmax(axis=1)+1, labels = list(range(1,10)), average='micro')\n",
    "print('final f1_score: {}'.format(fscore))\n",
    "\n",
    "acc = accuracy_score(test_labels, test_preds.argmax(axis=1)+1)\n",
    "print('final accuracy: {}'.format(acc))\n",
    "\n",
    "print(confusion_matrix(test_labels, test_preds.argmax(axis=1)+1, labels = list(range(1,10))))\n",
    "\n",
    "# earlier:\n",
    "# parameters = {\n",
    "#     'alpha': [0.001, 0.0001, 0.00001], \n",
    "#     'max_iter': [50,250,500,1000,5000],\n",
    "#     'loss': ['log'],\n",
    "#     'penalty': ['L2', 'L1', 'elasticnet'],\n",
    "#     'power': [0.1, 0.03, 0.5]\n",
    "#     'random_state': [1337],\n",
    "# }\n",
    "# final multi_log_loss: 21.11335970669253\n",
    "# final f1_score: 0.2554347826086957\n",
    "# final accuracy: 0.2554347826086957\n",
    "# [[ 94   0   0   0   0   0   0   0   0]\n",
    "#  [ 46   0   0   0   0   0   0   0   0]\n",
    "#  [  7   0   0   0   0   0   0   0   0]\n",
    "#  [ 65   0   0   0   0   0   0   0   0]\n",
    "#  [ 25   0   0   0   0   0   0   0   0]\n",
    "#  [ 22   0   0   0   0   0   0   0   0]\n",
    "#  [101   0   0   0   0   0   0   0   0]\n",
    "#  [  2   0   0   0   0   0   0   0   0]\n",
    "#  [  6   0   0   0   0   0   0   0   0]]\n",
    "# In [ ]:\n"
   ]
  },
  {
   "cell_type": "code",
   "execution_count": null,
   "metadata": {
    "collapsed": true
   },
   "outputs": [],
   "source": []
  },
  {
   "cell_type": "code",
   "execution_count": 20,
   "metadata": {
    "collapsed": true
   },
   "outputs": [],
   "source": [
    "mlp_model = MLPClassifier()\n",
    "\n",
    "# MLPClassifier(hidden_layer_sizes=(100, ), activation=’relu’, solver=’adam’, alpha=0.0001, \n",
    "#               batch_size=’auto’, learning_rate=’constant’, learning_rate_init=0.001, \n",
    "#               power_t=0.5, max_iter=200, shuffle=True, random_state=None, tol=0.0001, \n",
    "#               verbose=False, warm_start=False, momentum=0.9, nesterovs_momentum=True,\n",
    "#               early_stopping=False, validation_fraction=0.1,\n",
    "#               beta_1=0.9, beta_2=0.999, epsilon=1e-08)\n",
    "parameters = {\n",
    "    'solver': ['adam', 'sgd'], \n",
    "    'max_iter': [50,250,500],\n",
    "    'learning_rate_init': [0.001, 0.0001, 0.01, 0.1]\n",
    "    'alpha': [0.001],\n",
    "    'power_t': [0.1],\n",
    "    'random_state': [1337],\n",
    "}\n",
    "\n",
    "clf = GridSearchCV(mlp_model, parameters, n_jobs=4, \n",
    "                   cv=5,\n",
    "                   scoring = 'neg_log_loss',\n",
    "                   verbose=2, refit=True)\n",
    "\n"
   ]
  },
  {
   "cell_type": "code",
   "execution_count": 21,
   "metadata": {},
   "outputs": [
    {
     "name": "stdout",
     "output_type": "stream",
     "text": [
      "Fitting 5 folds for each of 36 candidates, totalling 180 fits\n",
      "[CV] alpha=0.0001, max_iter=50, power_t=0.1, random_state=1337, solver=adam \n",
      "[CV] alpha=0.0001, max_iter=50, power_t=0.1, random_state=1337, solver=adam \n",
      "[CV] alpha=0.0001, max_iter=50, power_t=0.1, random_state=1337, solver=adam \n",
      "[CV] alpha=0.0001, max_iter=50, power_t=0.1, random_state=1337, solver=adam \n",
      "[CV]  alpha=0.0001, max_iter=50, power_t=0.1, random_state=1337, solver=adam, total=  22.8s\n",
      "[CV] alpha=0.0001, max_iter=50, power_t=0.1, random_state=1337, solver=adam \n",
      "[CV]  alpha=0.0001, max_iter=50, power_t=0.1, random_state=1337, solver=adam, total=  26.3s\n",
      "[CV] alpha=0.0001, max_iter=50, power_t=0.1, random_state=1337, solver=sgd \n",
      "[CV]  alpha=0.0001, max_iter=50, power_t=0.1, random_state=1337, solver=adam, total=  40.3s\n",
      "[CV] alpha=0.0001, max_iter=50, power_t=0.1, random_state=1337, solver=sgd \n",
      "[CV]  alpha=0.0001, max_iter=50, power_t=0.1, random_state=1337, solver=sgd, total=  19.0s\n",
      "[CV] alpha=0.0001, max_iter=50, power_t=0.1, random_state=1337, solver=sgd \n",
      "[CV]  alpha=0.0001, max_iter=50, power_t=0.1, random_state=1337, solver=adam, total=  26.3s\n",
      "[CV] alpha=0.0001, max_iter=50, power_t=0.1, random_state=1337, solver=sgd \n",
      "[CV]  alpha=0.0001, max_iter=50, power_t=0.1, random_state=1337, solver=sgd, total=  13.2s\n",
      "[CV] alpha=0.0001, max_iter=50, power_t=0.1, random_state=1337, solver=sgd \n",
      "[CV]  alpha=0.0001, max_iter=50, power_t=0.1, random_state=1337, solver=sgd, total=  17.3s\n",
      "[CV] alpha=0.0001, max_iter=50, power_t=0.3, random_state=1337, solver=adam \n",
      "[CV]  alpha=0.0001, max_iter=50, power_t=0.1, random_state=1337, solver=sgd, total=  14.8s\n",
      "[CV] alpha=0.0001, max_iter=50, power_t=0.3, random_state=1337, solver=adam \n",
      "[CV]  alpha=0.0001, max_iter=50, power_t=0.1, random_state=1337, solver=sgd, total=  21.2s\n",
      "[CV] alpha=0.0001, max_iter=50, power_t=0.3, random_state=1337, solver=adam \n",
      "[CV]  alpha=0.0001, max_iter=50, power_t=0.1, random_state=1337, solver=adam, total= 1.4min\n",
      "[CV] alpha=0.0001, max_iter=50, power_t=0.3, random_state=1337, solver=adam \n",
      "[CV]  alpha=0.0001, max_iter=50, power_t=0.3, random_state=1337, solver=adam, total=  24.7s\n",
      "[CV] alpha=0.0001, max_iter=50, power_t=0.3, random_state=1337, solver=adam \n",
      "[CV]  alpha=0.0001, max_iter=50, power_t=0.3, random_state=1337, solver=adam, total=  36.3s\n",
      "[CV] alpha=0.0001, max_iter=50, power_t=0.3, random_state=1337, solver=sgd \n",
      "[CV]  alpha=0.0001, max_iter=50, power_t=0.3, random_state=1337, solver=adam, total=  27.4s\n",
      "[CV] alpha=0.0001, max_iter=50, power_t=0.3, random_state=1337, solver=sgd \n",
      "[CV]  alpha=0.0001, max_iter=50, power_t=0.3, random_state=1337, solver=sgd, total=  17.8s\n",
      "[CV] alpha=0.0001, max_iter=50, power_t=0.3, random_state=1337, solver=sgd \n",
      "[CV]  alpha=0.0001, max_iter=50, power_t=0.3, random_state=1337, solver=adam, total=  30.2s\n",
      "[CV] alpha=0.0001, max_iter=50, power_t=0.3, random_state=1337, solver=sgd \n",
      "[CV]  alpha=0.0001, max_iter=50, power_t=0.3, random_state=1337, solver=sgd, total=  16.5s\n",
      "[CV] alpha=0.0001, max_iter=50, power_t=0.3, random_state=1337, solver=sgd \n",
      "[CV]  alpha=0.0001, max_iter=50, power_t=0.3, random_state=1337, solver=sgd, total=  15.0s\n",
      "[CV] alpha=0.0001, max_iter=50, power_t=0.5, random_state=1337, solver=adam \n",
      "[CV]  alpha=0.0001, max_iter=50, power_t=0.3, random_state=1337, solver=sgd, total=  15.2s\n",
      "[CV] alpha=0.0001, max_iter=50, power_t=0.5, random_state=1337, solver=adam \n",
      "[CV]  alpha=0.0001, max_iter=50, power_t=0.3, random_state=1337, solver=sgd, total=  19.0s\n",
      "[CV] alpha=0.0001, max_iter=50, power_t=0.5, random_state=1337, solver=adam \n",
      "[CV]  alpha=0.0001, max_iter=50, power_t=0.3, random_state=1337, solver=adam, total= 1.4min\n",
      "[CV] alpha=0.0001, max_iter=50, power_t=0.5, random_state=1337, solver=adam \n",
      "[CV]  alpha=0.0001, max_iter=50, power_t=0.5, random_state=1337, solver=adam, total=  22.6s\n",
      "[CV] alpha=0.0001, max_iter=50, power_t=0.5, random_state=1337, solver=adam \n",
      "[CV]  alpha=0.0001, max_iter=50, power_t=0.5, random_state=1337, solver=adam, total=  35.2s\n",
      "[CV] alpha=0.0001, max_iter=50, power_t=0.5, random_state=1337, solver=sgd \n",
      "[CV]  alpha=0.0001, max_iter=50, power_t=0.5, random_state=1337, solver=adam, total=  25.7s\n",
      "[CV] alpha=0.0001, max_iter=50, power_t=0.5, random_state=1337, solver=sgd \n",
      "[CV]  alpha=0.0001, max_iter=50, power_t=0.5, random_state=1337, solver=sgd, total=  19.0s\n",
      "[CV] alpha=0.0001, max_iter=50, power_t=0.5, random_state=1337, solver=sgd \n",
      "[CV]  alpha=0.0001, max_iter=50, power_t=0.5, random_state=1337, solver=adam, total=  29.6s\n",
      "[CV] alpha=0.0001, max_iter=50, power_t=0.5, random_state=1337, solver=sgd \n",
      "[CV]  alpha=0.0001, max_iter=50, power_t=0.5, random_state=1337, solver=sgd, total=  15.8s\n",
      "[CV] alpha=0.0001, max_iter=50, power_t=0.5, random_state=1337, solver=sgd \n",
      "[CV]  alpha=0.0001, max_iter=50, power_t=0.5, random_state=1337, solver=sgd, total=  16.3s\n",
      "[CV] alpha=0.0001, max_iter=250, power_t=0.1, random_state=1337, solver=adam \n",
      "[CV]  alpha=0.0001, max_iter=50, power_t=0.5, random_state=1337, solver=sgd, total=  16.7s\n",
      "[CV] alpha=0.0001, max_iter=250, power_t=0.1, random_state=1337, solver=adam \n",
      "[CV]  alpha=0.0001, max_iter=50, power_t=0.5, random_state=1337, solver=sgd, total=  21.3s\n",
      "[CV] alpha=0.0001, max_iter=250, power_t=0.1, random_state=1337, solver=adam \n",
      "[CV]  alpha=0.0001, max_iter=50, power_t=0.5, random_state=1337, solver=adam, total= 1.3min\n",
      "[CV] alpha=0.0001, max_iter=250, power_t=0.1, random_state=1337, solver=adam \n",
      "[CV]  alpha=0.0001, max_iter=250, power_t=0.1, random_state=1337, solver=adam, total=  33.5s\n",
      "[CV] alpha=0.0001, max_iter=250, power_t=0.1, random_state=1337, solver=adam \n",
      "[CV]  alpha=0.0001, max_iter=250, power_t=0.1, random_state=1337, solver=adam, total=  38.3s\n",
      "[CV] alpha=0.0001, max_iter=250, power_t=0.1, random_state=1337, solver=sgd \n",
      "[CV]  alpha=0.0001, max_iter=250, power_t=0.1, random_state=1337, solver=adam, total=  29.6s\n",
      "[CV] alpha=0.0001, max_iter=250, power_t=0.1, random_state=1337, solver=sgd \n"
     ]
    },
    {
     "name": "stderr",
     "output_type": "stream",
     "text": [
      "[Parallel(n_jobs=4)]: Done  33 tasks      | elapsed:  4.4min\n"
     ]
    },
    {
     "name": "stdout",
     "output_type": "stream",
     "text": [
      "[CV]  alpha=0.0001, max_iter=250, power_t=0.1, random_state=1337, solver=sgd, total=  14.8s\n",
      "[CV] alpha=0.0001, max_iter=250, power_t=0.1, random_state=1337, solver=sgd \n",
      "[CV]  alpha=0.0001, max_iter=250, power_t=0.1, random_state=1337, solver=adam, total=  28.0s\n",
      "[CV] alpha=0.0001, max_iter=250, power_t=0.1, random_state=1337, solver=sgd \n",
      "[CV]  alpha=0.0001, max_iter=250, power_t=0.1, random_state=1337, solver=sgd, total=  18.8s\n",
      "[CV] alpha=0.0001, max_iter=250, power_t=0.1, random_state=1337, solver=sgd \n",
      "[CV]  alpha=0.0001, max_iter=250, power_t=0.1, random_state=1337, solver=sgd, total=  18.5s\n",
      "[CV] alpha=0.0001, max_iter=250, power_t=0.3, random_state=1337, solver=adam \n",
      "[CV]  alpha=0.0001, max_iter=250, power_t=0.1, random_state=1337, solver=adam, total= 1.2min\n",
      "[CV] alpha=0.0001, max_iter=250, power_t=0.3, random_state=1337, solver=adam \n",
      "[CV]  alpha=0.0001, max_iter=250, power_t=0.1, random_state=1337, solver=sgd, total=  17.8s\n",
      "[CV] alpha=0.0001, max_iter=250, power_t=0.3, random_state=1337, solver=adam \n",
      "[CV]  alpha=0.0001, max_iter=250, power_t=0.1, random_state=1337, solver=sgd, total=  13.2s\n",
      "[CV] alpha=0.0001, max_iter=250, power_t=0.3, random_state=1337, solver=adam \n",
      "[CV]  alpha=0.0001, max_iter=250, power_t=0.3, random_state=1337, solver=adam, total=  24.7s\n",
      "[CV] alpha=0.0001, max_iter=250, power_t=0.3, random_state=1337, solver=adam \n",
      "[CV]  alpha=0.0001, max_iter=250, power_t=0.3, random_state=1337, solver=adam, total=  33.1s\n",
      "[CV] alpha=0.0001, max_iter=250, power_t=0.3, random_state=1337, solver=sgd \n",
      "[CV]  alpha=0.0001, max_iter=250, power_t=0.3, random_state=1337, solver=adam, total=  29.7s\n",
      "[CV] alpha=0.0001, max_iter=250, power_t=0.3, random_state=1337, solver=sgd \n",
      "[CV]  alpha=0.0001, max_iter=250, power_t=0.3, random_state=1337, solver=sgd, total=  17.9s\n",
      "[CV] alpha=0.0001, max_iter=250, power_t=0.3, random_state=1337, solver=sgd \n",
      "[CV]  alpha=0.0001, max_iter=250, power_t=0.3, random_state=1337, solver=adam, total=  26.6s\n",
      "[CV] alpha=0.0001, max_iter=250, power_t=0.3, random_state=1337, solver=sgd \n",
      "[CV]  alpha=0.0001, max_iter=250, power_t=0.3, random_state=1337, solver=sgd, total=  22.1s\n",
      "[CV] alpha=0.0001, max_iter=250, power_t=0.3, random_state=1337, solver=sgd \n",
      "[CV]  alpha=0.0001, max_iter=250, power_t=0.3, random_state=1337, solver=sgd, total=  12.4s\n",
      "[CV] alpha=0.0001, max_iter=250, power_t=0.5, random_state=1337, solver=adam \n",
      "[CV]  alpha=0.0001, max_iter=250, power_t=0.3, random_state=1337, solver=sgd, total=  17.9s\n",
      "[CV] alpha=0.0001, max_iter=250, power_t=0.5, random_state=1337, solver=adam \n",
      "[CV]  alpha=0.0001, max_iter=250, power_t=0.3, random_state=1337, solver=sgd, total=  20.3s\n",
      "[CV] alpha=0.0001, max_iter=250, power_t=0.5, random_state=1337, solver=adam \n",
      "[CV]  alpha=0.0001, max_iter=250, power_t=0.3, random_state=1337, solver=adam, total= 1.3min\n",
      "[CV] alpha=0.0001, max_iter=250, power_t=0.5, random_state=1337, solver=adam \n",
      "[CV]  alpha=0.0001, max_iter=250, power_t=0.5, random_state=1337, solver=adam, total=  29.7s\n",
      "[CV] alpha=0.0001, max_iter=250, power_t=0.5, random_state=1337, solver=adam \n",
      "[CV]  alpha=0.0001, max_iter=250, power_t=0.5, random_state=1337, solver=adam, total=  39.0s\n",
      "[CV] alpha=0.0001, max_iter=250, power_t=0.5, random_state=1337, solver=sgd \n",
      "[CV]  alpha=0.0001, max_iter=250, power_t=0.5, random_state=1337, solver=adam, total=  23.9s\n",
      "[CV] alpha=0.0001, max_iter=250, power_t=0.5, random_state=1337, solver=sgd \n",
      "[CV]  alpha=0.0001, max_iter=250, power_t=0.5, random_state=1337, solver=sgd, total=  21.2s\n",
      "[CV] alpha=0.0001, max_iter=250, power_t=0.5, random_state=1337, solver=sgd \n",
      "[CV]  alpha=0.0001, max_iter=250, power_t=0.5, random_state=1337, solver=adam, total=  28.8s\n",
      "[CV] alpha=0.0001, max_iter=250, power_t=0.5, random_state=1337, solver=sgd \n",
      "[CV]  alpha=0.0001, max_iter=250, power_t=0.5, random_state=1337, solver=sgd, total=  17.6s\n",
      "[CV] alpha=0.0001, max_iter=250, power_t=0.5, random_state=1337, solver=sgd \n",
      "[CV]  alpha=0.0001, max_iter=250, power_t=0.5, random_state=1337, solver=sgd, total=  14.9s\n",
      "[CV] alpha=0.0001, max_iter=500, power_t=0.1, random_state=1337, solver=adam \n",
      "[CV]  alpha=0.0001, max_iter=250, power_t=0.5, random_state=1337, solver=sgd, total=  19.1s\n",
      "[CV] alpha=0.0001, max_iter=500, power_t=0.1, random_state=1337, solver=adam \n",
      "[CV]  alpha=0.0001, max_iter=250, power_t=0.5, random_state=1337, solver=sgd, total=  20.2s\n",
      "[CV] alpha=0.0001, max_iter=500, power_t=0.1, random_state=1337, solver=adam \n",
      "[CV]  alpha=0.0001, max_iter=250, power_t=0.5, random_state=1337, solver=adam, total= 1.2min\n",
      "[CV] alpha=0.0001, max_iter=500, power_t=0.1, random_state=1337, solver=adam \n",
      "[CV]  alpha=0.0001, max_iter=500, power_t=0.1, random_state=1337, solver=adam, total=  21.6s\n",
      "[CV] alpha=0.0001, max_iter=500, power_t=0.1, random_state=1337, solver=adam \n",
      "[CV]  alpha=0.0001, max_iter=500, power_t=0.1, random_state=1337, solver=adam, total=  23.1s\n",
      "[CV] alpha=0.0001, max_iter=500, power_t=0.1, random_state=1337, solver=sgd \n",
      "[CV]  alpha=0.0001, max_iter=500, power_t=0.1, random_state=1337, solver=adam, total=  44.0s\n",
      "[CV] alpha=0.0001, max_iter=500, power_t=0.1, random_state=1337, solver=sgd \n",
      "[CV]  alpha=0.0001, max_iter=500, power_t=0.1, random_state=1337, solver=sgd, total=  16.0s\n",
      "[CV] alpha=0.0001, max_iter=500, power_t=0.1, random_state=1337, solver=sgd \n",
      "[CV]  alpha=0.0001, max_iter=500, power_t=0.1, random_state=1337, solver=adam, total=  30.3s\n",
      "[CV] alpha=0.0001, max_iter=500, power_t=0.1, random_state=1337, solver=sgd \n",
      "[CV]  alpha=0.0001, max_iter=500, power_t=0.1, random_state=1337, solver=sgd, total=  17.7s\n",
      "[CV] alpha=0.0001, max_iter=500, power_t=0.1, random_state=1337, solver=sgd \n",
      "[CV]  alpha=0.0001, max_iter=500, power_t=0.1, random_state=1337, solver=sgd, total=  20.2s\n",
      "[CV] alpha=0.0001, max_iter=500, power_t=0.3, random_state=1337, solver=adam \n",
      "[CV]  alpha=0.0001, max_iter=500, power_t=0.1, random_state=1337, solver=sgd, total=  16.1s\n",
      "[CV] alpha=0.0001, max_iter=500, power_t=0.3, random_state=1337, solver=adam \n",
      "[CV]  alpha=0.0001, max_iter=500, power_t=0.1, random_state=1337, solver=adam, total= 1.3min\n",
      "[CV] alpha=0.0001, max_iter=500, power_t=0.3, random_state=1337, solver=adam \n",
      "[CV]  alpha=0.0001, max_iter=500, power_t=0.1, random_state=1337, solver=sgd, total=  21.7s\n",
      "[CV] alpha=0.0001, max_iter=500, power_t=0.3, random_state=1337, solver=adam \n",
      "[CV]  alpha=0.0001, max_iter=500, power_t=0.3, random_state=1337, solver=adam, total=  24.7s\n",
      "[CV] alpha=0.0001, max_iter=500, power_t=0.3, random_state=1337, solver=adam \n",
      "[CV]  alpha=0.0001, max_iter=500, power_t=0.3, random_state=1337, solver=adam, total=  22.5s\n",
      "[CV] alpha=0.0001, max_iter=500, power_t=0.3, random_state=1337, solver=sgd \n",
      "[CV]  alpha=0.0001, max_iter=500, power_t=0.3, random_state=1337, solver=adam, total=  46.1s\n",
      "[CV] alpha=0.0001, max_iter=500, power_t=0.3, random_state=1337, solver=sgd \n",
      "[CV]  alpha=0.0001, max_iter=500, power_t=0.3, random_state=1337, solver=adam, total=  26.0s\n",
      "[CV] alpha=0.0001, max_iter=500, power_t=0.3, random_state=1337, solver=sgd \n",
      "[CV]  alpha=0.0001, max_iter=500, power_t=0.3, random_state=1337, solver=sgd, total=  20.6s\n",
      "[CV] alpha=0.0001, max_iter=500, power_t=0.3, random_state=1337, solver=sgd \n",
      "[CV]  alpha=0.0001, max_iter=500, power_t=0.3, random_state=1337, solver=sgd, total=  22.3s\n",
      "[CV] alpha=0.0001, max_iter=500, power_t=0.3, random_state=1337, solver=sgd \n",
      "[CV]  alpha=0.0001, max_iter=500, power_t=0.3, random_state=1337, solver=sgd, total=  13.8s\n",
      "[CV] alpha=0.0001, max_iter=500, power_t=0.5, random_state=1337, solver=adam \n",
      "[CV]  alpha=0.0001, max_iter=500, power_t=0.3, random_state=1337, solver=sgd, total=  18.1s\n",
      "[CV] alpha=0.0001, max_iter=500, power_t=0.5, random_state=1337, solver=adam \n",
      "[CV]  alpha=0.0001, max_iter=500, power_t=0.3, random_state=1337, solver=sgd, total=  16.7s\n",
      "[CV] alpha=0.0001, max_iter=500, power_t=0.5, random_state=1337, solver=adam \n",
      "[CV]  alpha=0.0001, max_iter=500, power_t=0.3, random_state=1337, solver=adam, total= 1.3min\n",
      "[CV] alpha=0.0001, max_iter=500, power_t=0.5, random_state=1337, solver=adam \n",
      "[CV]  alpha=0.0001, max_iter=500, power_t=0.5, random_state=1337, solver=adam, total=  28.4s\n",
      "[CV] alpha=0.0001, max_iter=500, power_t=0.5, random_state=1337, solver=adam \n",
      "[CV]  alpha=0.0001, max_iter=500, power_t=0.5, random_state=1337, solver=adam, total=  39.6s\n"
     ]
    },
    {
     "name": "stdout",
     "output_type": "stream",
     "text": [
      "[CV] alpha=0.0001, max_iter=500, power_t=0.5, random_state=1337, solver=sgd \n",
      "[CV]  alpha=0.0001, max_iter=500, power_t=0.5, random_state=1337, solver=adam, total=  26.2s\n",
      "[CV] alpha=0.0001, max_iter=500, power_t=0.5, random_state=1337, solver=sgd \n",
      "[CV]  alpha=0.0001, max_iter=500, power_t=0.5, random_state=1337, solver=sgd, total=  19.3s\n",
      "[CV] alpha=0.0001, max_iter=500, power_t=0.5, random_state=1337, solver=sgd \n",
      "[CV]  alpha=0.0001, max_iter=500, power_t=0.5, random_state=1337, solver=sgd, total=  16.4s\n",
      "[CV] alpha=0.0001, max_iter=500, power_t=0.5, random_state=1337, solver=sgd \n",
      "[CV]  alpha=0.0001, max_iter=500, power_t=0.5, random_state=1337, solver=adam, total=  30.8s\n",
      "[CV] alpha=0.0001, max_iter=500, power_t=0.5, random_state=1337, solver=sgd \n",
      "[CV]  alpha=0.0001, max_iter=500, power_t=0.5, random_state=1337, solver=sgd, total=  16.5s\n",
      "[CV] alpha=0.001, max_iter=50, power_t=0.1, random_state=1337, solver=adam \n",
      "[CV]  alpha=0.0001, max_iter=500, power_t=0.5, random_state=1337, solver=sgd, total=  18.8s\n",
      "[CV] alpha=0.001, max_iter=50, power_t=0.1, random_state=1337, solver=adam \n",
      "[CV]  alpha=0.0001, max_iter=500, power_t=0.5, random_state=1337, solver=sgd, total=  15.7s\n",
      "[CV] alpha=0.001, max_iter=50, power_t=0.1, random_state=1337, solver=adam \n",
      "[CV]  alpha=0.0001, max_iter=500, power_t=0.5, random_state=1337, solver=adam, total= 1.4min\n",
      "[CV] alpha=0.001, max_iter=50, power_t=0.1, random_state=1337, solver=adam \n",
      "[CV]  alpha=0.001, max_iter=50, power_t=0.1, random_state=1337, solver=adam, total=  29.9s\n",
      "[CV] alpha=0.001, max_iter=50, power_t=0.1, random_state=1337, solver=adam \n",
      "[CV]  alpha=0.001, max_iter=50, power_t=0.1, random_state=1337, solver=adam, total=  25.0s\n",
      "[CV] alpha=0.001, max_iter=50, power_t=0.1, random_state=1337, solver=sgd \n",
      "[CV]  alpha=0.001, max_iter=50, power_t=0.1, random_state=1337, solver=adam, total=  24.8s\n",
      "[CV] alpha=0.001, max_iter=50, power_t=0.1, random_state=1337, solver=sgd \n",
      "[CV]  alpha=0.001, max_iter=50, power_t=0.1, random_state=1337, solver=sgd, total=  17.6s\n",
      "[CV] alpha=0.001, max_iter=50, power_t=0.1, random_state=1337, solver=sgd \n",
      "[CV]  alpha=0.001, max_iter=50, power_t=0.1, random_state=1337, solver=adam, total=  26.1s\n",
      "[CV] alpha=0.001, max_iter=50, power_t=0.1, random_state=1337, solver=sgd \n",
      "[CV]  alpha=0.001, max_iter=50, power_t=0.1, random_state=1337, solver=sgd, total=  15.6s\n",
      "[CV] alpha=0.001, max_iter=50, power_t=0.1, random_state=1337, solver=sgd \n",
      "[CV]  alpha=0.001, max_iter=50, power_t=0.1, random_state=1337, solver=sgd, total=  14.9s\n",
      "[CV] alpha=0.001, max_iter=50, power_t=0.3, random_state=1337, solver=adam \n",
      "[CV]  alpha=0.001, max_iter=50, power_t=0.1, random_state=1337, solver=sgd, total=  19.1s\n",
      "[CV] alpha=0.001, max_iter=50, power_t=0.3, random_state=1337, solver=adam \n",
      "[CV]  alpha=0.001, max_iter=50, power_t=0.1, random_state=1337, solver=adam, total= 1.1min\n",
      "[CV] alpha=0.001, max_iter=50, power_t=0.3, random_state=1337, solver=adam \n",
      "[CV]  alpha=0.001, max_iter=50, power_t=0.1, random_state=1337, solver=sgd, total=  15.6s\n",
      "[CV] alpha=0.001, max_iter=50, power_t=0.3, random_state=1337, solver=adam \n",
      "[CV]  alpha=0.001, max_iter=50, power_t=0.3, random_state=1337, solver=adam, total=  27.4s\n",
      "[CV] alpha=0.001, max_iter=50, power_t=0.3, random_state=1337, solver=adam \n",
      "[CV]  alpha=0.001, max_iter=50, power_t=0.3, random_state=1337, solver=adam, total=  29.4s\n",
      "[CV] alpha=0.001, max_iter=50, power_t=0.3, random_state=1337, solver=sgd \n",
      "[CV]  alpha=0.001, max_iter=50, power_t=0.3, random_state=1337, solver=adam, total=  24.2s\n",
      "[CV] alpha=0.001, max_iter=50, power_t=0.3, random_state=1337, solver=sgd \n",
      "[CV]  alpha=0.001, max_iter=50, power_t=0.3, random_state=1337, solver=sgd, total=  12.0s\n",
      "[CV] alpha=0.001, max_iter=50, power_t=0.3, random_state=1337, solver=sgd \n",
      "[CV]  alpha=0.001, max_iter=50, power_t=0.3, random_state=1337, solver=sgd, total=  14.1s\n",
      "[CV] alpha=0.001, max_iter=50, power_t=0.3, random_state=1337, solver=sgd \n",
      "[CV]  alpha=0.001, max_iter=50, power_t=0.3, random_state=1337, solver=adam, total=  31.9s\n",
      "[CV] alpha=0.001, max_iter=50, power_t=0.3, random_state=1337, solver=sgd \n",
      "[CV]  alpha=0.001, max_iter=50, power_t=0.3, random_state=1337, solver=sgd, total=  13.8s\n",
      "[CV] alpha=0.001, max_iter=50, power_t=0.5, random_state=1337, solver=adam \n",
      "[CV]  alpha=0.001, max_iter=50, power_t=0.3, random_state=1337, solver=adam, total= 1.0min\n",
      "[CV] alpha=0.001, max_iter=50, power_t=0.5, random_state=1337, solver=adam \n",
      "[CV]  alpha=0.001, max_iter=50, power_t=0.3, random_state=1337, solver=sgd, total=  22.0s\n",
      "[CV] alpha=0.001, max_iter=50, power_t=0.5, random_state=1337, solver=adam \n",
      "[CV]  alpha=0.001, max_iter=50, power_t=0.3, random_state=1337, solver=sgd, total=  20.3s\n",
      "[CV] alpha=0.001, max_iter=50, power_t=0.5, random_state=1337, solver=adam \n",
      "[CV]  alpha=0.001, max_iter=50, power_t=0.5, random_state=1337, solver=adam, total=  25.9s\n",
      "[CV] alpha=0.001, max_iter=50, power_t=0.5, random_state=1337, solver=adam \n",
      "[CV]  alpha=0.001, max_iter=50, power_t=0.5, random_state=1337, solver=adam, total=  29.8s\n",
      "[CV] alpha=0.001, max_iter=50, power_t=0.5, random_state=1337, solver=sgd \n",
      "[CV]  alpha=0.001, max_iter=50, power_t=0.5, random_state=1337, solver=adam, total=  20.8s\n",
      "[CV] alpha=0.001, max_iter=50, power_t=0.5, random_state=1337, solver=sgd \n",
      "[CV]  alpha=0.001, max_iter=50, power_t=0.5, random_state=1337, solver=sgd, total=  14.2s\n",
      "[CV] alpha=0.001, max_iter=50, power_t=0.5, random_state=1337, solver=sgd \n",
      "[CV]  alpha=0.001, max_iter=50, power_t=0.5, random_state=1337, solver=adam, total=  28.3s\n",
      "[CV] alpha=0.001, max_iter=50, power_t=0.5, random_state=1337, solver=sgd \n",
      "[CV]  alpha=0.001, max_iter=50, power_t=0.5, random_state=1337, solver=adam, total=  59.7s\n",
      "[CV] alpha=0.001, max_iter=50, power_t=0.5, random_state=1337, solver=sgd \n",
      "[CV]  alpha=0.001, max_iter=50, power_t=0.5, random_state=1337, solver=sgd, total=  20.0s\n",
      "[CV] alpha=0.001, max_iter=250, power_t=0.1, random_state=1337, solver=adam \n",
      "[CV]  alpha=0.001, max_iter=50, power_t=0.5, random_state=1337, solver=sgd, total=  26.1s\n",
      "[CV] alpha=0.001, max_iter=250, power_t=0.1, random_state=1337, solver=adam \n",
      "[CV]  alpha=0.001, max_iter=50, power_t=0.5, random_state=1337, solver=sgd, total=  13.3s\n",
      "[CV] alpha=0.001, max_iter=250, power_t=0.1, random_state=1337, solver=adam \n",
      "[CV]  alpha=0.001, max_iter=250, power_t=0.1, random_state=1337, solver=adam, total=  22.9s\n",
      "[CV] alpha=0.001, max_iter=250, power_t=0.1, random_state=1337, solver=adam \n",
      "[CV]  alpha=0.001, max_iter=250, power_t=0.1, random_state=1337, solver=adam, total=  27.2s\n",
      "[CV] alpha=0.001, max_iter=250, power_t=0.1, random_state=1337, solver=adam \n",
      "[CV]  alpha=0.001, max_iter=50, power_t=0.5, random_state=1337, solver=sgd, total=  31.2s\n",
      "[CV] alpha=0.001, max_iter=250, power_t=0.1, random_state=1337, solver=sgd \n",
      "[CV]  alpha=0.001, max_iter=250, power_t=0.1, random_state=1337, solver=adam, total=  24.0s\n",
      "[CV] alpha=0.001, max_iter=250, power_t=0.1, random_state=1337, solver=sgd \n",
      "[CV]  alpha=0.001, max_iter=250, power_t=0.1, random_state=1337, solver=sgd, total=  25.0s\n",
      "[CV] alpha=0.001, max_iter=250, power_t=0.1, random_state=1337, solver=sgd \n",
      "[CV]  alpha=0.001, max_iter=250, power_t=0.1, random_state=1337, solver=adam, total=  29.1s\n",
      "[CV] alpha=0.001, max_iter=250, power_t=0.1, random_state=1337, solver=sgd \n",
      "[CV]  alpha=0.001, max_iter=250, power_t=0.1, random_state=1337, solver=adam, total=  58.1s\n",
      "[CV] alpha=0.001, max_iter=250, power_t=0.1, random_state=1337, solver=sgd \n",
      "[CV]  alpha=0.001, max_iter=250, power_t=0.1, random_state=1337, solver=sgd, total=  17.6s\n",
      "[CV] alpha=0.001, max_iter=250, power_t=0.3, random_state=1337, solver=adam \n",
      "[CV]  alpha=0.001, max_iter=250, power_t=0.1, random_state=1337, solver=sgd, total=  13.9s\n",
      "[CV] alpha=0.001, max_iter=250, power_t=0.3, random_state=1337, solver=adam \n",
      "[CV]  alpha=0.001, max_iter=250, power_t=0.1, random_state=1337, solver=sgd, total=  19.0s\n",
      "[CV] alpha=0.001, max_iter=250, power_t=0.3, random_state=1337, solver=adam \n",
      "[CV]  alpha=0.001, max_iter=250, power_t=0.1, random_state=1337, solver=sgd, total=  16.6s\n",
      "[CV] alpha=0.001, max_iter=250, power_t=0.3, random_state=1337, solver=adam \n",
      "[CV]  alpha=0.001, max_iter=250, power_t=0.3, random_state=1337, solver=adam, total=  29.5s\n",
      "[CV]  alpha=0.001, max_iter=250, power_t=0.3, random_state=1337, solver=adam, total=  27.4s\n"
     ]
    },
    {
     "name": "stdout",
     "output_type": "stream",
     "text": [
      "[CV] alpha=0.001, max_iter=250, power_t=0.3, random_state=1337, solver=adam \n",
      "[CV] alpha=0.001, max_iter=250, power_t=0.3, random_state=1337, solver=sgd \n",
      "[CV]  alpha=0.001, max_iter=250, power_t=0.3, random_state=1337, solver=adam, total=  24.7s\n",
      "[CV] alpha=0.001, max_iter=250, power_t=0.3, random_state=1337, solver=sgd \n",
      "[CV]  alpha=0.001, max_iter=250, power_t=0.3, random_state=1337, solver=sgd, total=  16.1s\n",
      "[CV] alpha=0.001, max_iter=250, power_t=0.3, random_state=1337, solver=sgd \n",
      "[CV]  alpha=0.001, max_iter=250, power_t=0.3, random_state=1337, solver=sgd, total=  19.1s\n",
      "[CV] alpha=0.001, max_iter=250, power_t=0.3, random_state=1337, solver=sgd \n",
      "[CV]  alpha=0.001, max_iter=250, power_t=0.3, random_state=1337, solver=adam, total=  30.2s\n",
      "[CV] alpha=0.001, max_iter=250, power_t=0.3, random_state=1337, solver=sgd \n",
      "[CV]  alpha=0.001, max_iter=250, power_t=0.3, random_state=1337, solver=adam, total= 1.0min\n",
      "[CV] alpha=0.001, max_iter=250, power_t=0.5, random_state=1337, solver=adam \n",
      "[CV]  alpha=0.001, max_iter=250, power_t=0.3, random_state=1337, solver=sgd, total=  22.0s\n",
      "[CV] alpha=0.001, max_iter=250, power_t=0.5, random_state=1337, solver=adam \n",
      "[CV]  alpha=0.001, max_iter=250, power_t=0.3, random_state=1337, solver=sgd, total=  11.4s\n",
      "[CV] alpha=0.001, max_iter=250, power_t=0.5, random_state=1337, solver=adam \n",
      "[CV]  alpha=0.001, max_iter=250, power_t=0.3, random_state=1337, solver=sgd, total=  20.3s\n",
      "[CV] alpha=0.001, max_iter=250, power_t=0.5, random_state=1337, solver=adam \n",
      "[CV]  alpha=0.001, max_iter=250, power_t=0.5, random_state=1337, solver=adam, total=  25.0s\n",
      "[CV] alpha=0.001, max_iter=250, power_t=0.5, random_state=1337, solver=adam \n",
      "[CV]  alpha=0.001, max_iter=250, power_t=0.5, random_state=1337, solver=adam, total=  33.4s\n",
      "[CV] alpha=0.001, max_iter=250, power_t=0.5, random_state=1337, solver=sgd \n",
      "[CV]  alpha=0.001, max_iter=250, power_t=0.5, random_state=1337, solver=adam, total=  23.1s\n",
      "[CV] alpha=0.001, max_iter=250, power_t=0.5, random_state=1337, solver=sgd \n",
      "[CV]  alpha=0.001, max_iter=250, power_t=0.5, random_state=1337, solver=adam, total=  26.0s\n",
      "[CV] alpha=0.001, max_iter=250, power_t=0.5, random_state=1337, solver=sgd \n",
      "[CV]  alpha=0.001, max_iter=250, power_t=0.5, random_state=1337, solver=sgd, total=  18.1s\n",
      "[CV] alpha=0.001, max_iter=250, power_t=0.5, random_state=1337, solver=sgd \n",
      "[CV]  alpha=0.001, max_iter=250, power_t=0.5, random_state=1337, solver=sgd, total=  23.6s\n",
      "[CV] alpha=0.001, max_iter=250, power_t=0.5, random_state=1337, solver=sgd \n",
      "[CV]  alpha=0.001, max_iter=250, power_t=0.5, random_state=1337, solver=adam, total=  56.3s\n",
      "[CV] alpha=0.001, max_iter=500, power_t=0.1, random_state=1337, solver=adam \n",
      "[CV]  alpha=0.001, max_iter=250, power_t=0.5, random_state=1337, solver=sgd, total=  17.1s\n",
      "[CV] alpha=0.001, max_iter=500, power_t=0.1, random_state=1337, solver=adam \n",
      "[CV]  alpha=0.001, max_iter=250, power_t=0.5, random_state=1337, solver=sgd, total=  16.8s\n",
      "[CV] alpha=0.001, max_iter=500, power_t=0.1, random_state=1337, solver=adam \n",
      "[CV]  alpha=0.001, max_iter=250, power_t=0.5, random_state=1337, solver=sgd, total=  21.3s\n",
      "[CV] alpha=0.001, max_iter=500, power_t=0.1, random_state=1337, solver=adam \n",
      "[CV]  alpha=0.001, max_iter=500, power_t=0.1, random_state=1337, solver=adam, total=  29.5s\n",
      "[CV] alpha=0.001, max_iter=500, power_t=0.1, random_state=1337, solver=adam \n",
      "[CV]  alpha=0.001, max_iter=500, power_t=0.1, random_state=1337, solver=adam, total=  25.4s\n",
      "[CV] alpha=0.001, max_iter=500, power_t=0.1, random_state=1337, solver=sgd \n",
      "[CV]  alpha=0.001, max_iter=500, power_t=0.1, random_state=1337, solver=adam, total=  30.7s\n",
      "[CV] alpha=0.001, max_iter=500, power_t=0.1, random_state=1337, solver=sgd \n",
      "[CV]  alpha=0.001, max_iter=500, power_t=0.1, random_state=1337, solver=sgd, total=  12.2s\n",
      "[CV] alpha=0.001, max_iter=500, power_t=0.1, random_state=1337, solver=sgd \n"
     ]
    },
    {
     "name": "stderr",
     "output_type": "stream",
     "text": [
      "[Parallel(n_jobs=4)]: Done 154 tasks      | elapsed: 18.5min\n"
     ]
    },
    {
     "name": "stdout",
     "output_type": "stream",
     "text": [
      "[CV]  alpha=0.001, max_iter=500, power_t=0.1, random_state=1337, solver=adam, total=  28.9s\n",
      "[CV] alpha=0.001, max_iter=500, power_t=0.1, random_state=1337, solver=sgd \n",
      "[CV]  alpha=0.001, max_iter=500, power_t=0.1, random_state=1337, solver=sgd, total=  17.9s\n",
      "[CV] alpha=0.001, max_iter=500, power_t=0.1, random_state=1337, solver=sgd \n",
      "[CV]  alpha=0.001, max_iter=500, power_t=0.1, random_state=1337, solver=sgd, total=  22.9s\n",
      "[CV] alpha=0.001, max_iter=500, power_t=0.3, random_state=1337, solver=adam \n",
      "[CV]  alpha=0.001, max_iter=500, power_t=0.1, random_state=1337, solver=adam, total=  59.8s\n",
      "[CV] alpha=0.001, max_iter=500, power_t=0.3, random_state=1337, solver=adam \n",
      "[CV]  alpha=0.001, max_iter=500, power_t=0.1, random_state=1337, solver=sgd, total=  21.0s\n",
      "[CV] alpha=0.001, max_iter=500, power_t=0.3, random_state=1337, solver=adam \n",
      "[CV]  alpha=0.001, max_iter=500, power_t=0.1, random_state=1337, solver=sgd, total=  17.7s\n",
      "[CV] alpha=0.001, max_iter=500, power_t=0.3, random_state=1337, solver=adam \n",
      "[CV]  alpha=0.001, max_iter=500, power_t=0.3, random_state=1337, solver=adam, total=  26.4s\n",
      "[CV] alpha=0.001, max_iter=500, power_t=0.3, random_state=1337, solver=adam \n",
      "[CV]  alpha=0.001, max_iter=500, power_t=0.3, random_state=1337, solver=adam, total=  27.9s\n",
      "[CV] alpha=0.001, max_iter=500, power_t=0.3, random_state=1337, solver=sgd \n",
      "[CV]  alpha=0.001, max_iter=500, power_t=0.3, random_state=1337, solver=adam, total=  20.3s\n",
      "[CV] alpha=0.001, max_iter=500, power_t=0.3, random_state=1337, solver=sgd \n",
      "[CV]  alpha=0.001, max_iter=500, power_t=0.3, random_state=1337, solver=sgd, total=  15.5s\n",
      "[CV] alpha=0.001, max_iter=500, power_t=0.3, random_state=1337, solver=sgd \n",
      "[CV]  alpha=0.001, max_iter=500, power_t=0.3, random_state=1337, solver=sgd, total=  20.7s\n",
      "[CV] alpha=0.001, max_iter=500, power_t=0.3, random_state=1337, solver=sgd \n",
      "[CV]  alpha=0.001, max_iter=500, power_t=0.3, random_state=1337, solver=adam, total=  31.1s\n",
      "[CV] alpha=0.001, max_iter=500, power_t=0.3, random_state=1337, solver=sgd \n",
      "[CV]  alpha=0.001, max_iter=500, power_t=0.3, random_state=1337, solver=adam, total=  53.7s\n",
      "[CV] alpha=0.001, max_iter=500, power_t=0.5, random_state=1337, solver=adam \n",
      "[CV]  alpha=0.001, max_iter=500, power_t=0.3, random_state=1337, solver=sgd, total=  19.2s\n",
      "[CV] alpha=0.001, max_iter=500, power_t=0.5, random_state=1337, solver=adam \n",
      "[CV]  alpha=0.001, max_iter=500, power_t=0.3, random_state=1337, solver=sgd, total=  18.0s\n",
      "[CV] alpha=0.001, max_iter=500, power_t=0.5, random_state=1337, solver=adam \n",
      "[CV]  alpha=0.001, max_iter=500, power_t=0.3, random_state=1337, solver=sgd, total=  19.0s\n",
      "[CV] alpha=0.001, max_iter=500, power_t=0.5, random_state=1337, solver=adam \n",
      "[CV]  alpha=0.001, max_iter=500, power_t=0.5, random_state=1337, solver=adam, total=  29.1s\n",
      "[CV] alpha=0.001, max_iter=500, power_t=0.5, random_state=1337, solver=adam \n",
      "[CV]  alpha=0.001, max_iter=500, power_t=0.5, random_state=1337, solver=adam, total=  29.7s\n",
      "[CV] alpha=0.001, max_iter=500, power_t=0.5, random_state=1337, solver=sgd \n",
      "[CV]  alpha=0.001, max_iter=500, power_t=0.5, random_state=1337, solver=adam, total=  26.5s\n",
      "[CV] alpha=0.001, max_iter=500, power_t=0.5, random_state=1337, solver=sgd \n",
      "[CV]  alpha=0.001, max_iter=500, power_t=0.5, random_state=1337, solver=adam, total=  26.2s\n",
      "[CV] alpha=0.001, max_iter=500, power_t=0.5, random_state=1337, solver=sgd \n",
      "[CV]  alpha=0.001, max_iter=500, power_t=0.5, random_state=1337, solver=sgd, total=  16.9s\n",
      "[CV] alpha=0.001, max_iter=500, power_t=0.5, random_state=1337, solver=sgd \n",
      "[CV]  alpha=0.001, max_iter=500, power_t=0.5, random_state=1337, solver=sgd, total=  23.7s\n",
      "[CV] alpha=0.001, max_iter=500, power_t=0.5, random_state=1337, solver=sgd \n",
      "[CV]  alpha=0.001, max_iter=500, power_t=0.5, random_state=1337, solver=adam, total= 1.0min\n",
      "[CV]  alpha=0.001, max_iter=500, power_t=0.5, random_state=1337, solver=sgd, total=  14.3s\n",
      "[CV]  alpha=0.001, max_iter=500, power_t=0.5, random_state=1337, solver=sgd, total=  16.0s\n",
      "[CV]  alpha=0.001, max_iter=500, power_t=0.5, random_state=1337, solver=sgd, total=  26.1s\n"
     ]
    },
    {
     "name": "stderr",
     "output_type": "stream",
     "text": [
      "[Parallel(n_jobs=4)]: Done 180 out of 180 | elapsed: 21.5min finished\n"
     ]
    },
    {
     "data": {
      "text/plain": [
       "GridSearchCV(cv=5, error_score='raise',\n",
       "       estimator=MLPClassifier(activation='relu', alpha=0.0001, batch_size='auto', beta_1=0.9,\n",
       "       beta_2=0.999, early_stopping=False, epsilon=1e-08,\n",
       "       hidden_layer_sizes=(100,), learning_rate='constant',\n",
       "       learning_rate_init=0.001, max_iter=200, momentum=0.9,\n",
       "       nesterovs_momentum=True, power_t=0.5, random_state=None,\n",
       "       shuffle=True, solver='adam', tol=0.0001, validation_fraction=0.1,\n",
       "       verbose=False, warm_start=False),\n",
       "       fit_params=None, iid=True, n_jobs=4,\n",
       "       param_grid={'solver': ['adam', 'sgd'], 'max_iter': [50, 250, 500], 'alpha': [0.0001, 0.001], 'power_t': [0.1, 0.3, 0.5], 'random_state': [1337]},\n",
       "       pre_dispatch='2*n_jobs', refit=True, return_train_score='warn',\n",
       "       scoring='neg_log_loss', verbose=2)"
      ]
     },
     "execution_count": 21,
     "metadata": {},
     "output_type": "execute_result"
    }
   ],
   "source": [
    "clf.fit(df_train, y)"
   ]
  },
  {
   "cell_type": "code",
   "execution_count": 24,
   "metadata": {},
   "outputs": [
    {
     "name": "stdout",
     "output_type": "stream",
     "text": [
      "-2.19642899615\n",
      "{'alpha': 0.001, 'max_iter': 50, 'power_t': 0.1, 'random_state': 1337, 'solver': 'sgd'}\n"
     ]
    }
   ],
   "source": [
    "print(clf.best_score_)\n",
    "print(clf.best_params_)\n",
    "\n",
    "# -2.19642899615\n",
    "# {'alpha': 0.001, 'max_iter': 50, 'power_t': 0.1, 'random_state': 1337, 'solver': 'sgd'}"
   ]
  },
  {
   "cell_type": "code",
   "execution_count": 22,
   "metadata": {},
   "outputs": [
    {
     "name": "stdout",
     "output_type": "stream",
     "text": [
      "[[ 0.12718029  0.09598331  0.09304176 ...,  0.10990192  0.10837065\n",
      "   0.1209434 ]\n",
      " [ 0.12718029  0.09598331  0.09304176 ...,  0.10990192  0.10837065\n",
      "   0.1209434 ]\n",
      " [ 0.12718029  0.09598331  0.09304176 ...,  0.10990192  0.10837065\n",
      "   0.1209434 ]\n",
      " ..., \n",
      " [ 0.12718029  0.09598331  0.09304176 ...,  0.10990192  0.10837065\n",
      "   0.1209434 ]\n",
      " [ 0.12718029  0.09598331  0.09304176 ...,  0.10990192  0.10837065\n",
      "   0.1209434 ]\n",
      " [ 0.12718029  0.09598331  0.09304176 ...,  0.10990192  0.10837065\n",
      "   0.1209434 ]]\n"
     ]
    }
   ],
   "source": [
    "test_preds = clf.predict_proba(df_test)\n",
    "print(test_preds)"
   ]
  },
  {
   "cell_type": "code",
   "execution_count": 32,
   "metadata": {},
   "outputs": [
    {
     "name": "stdout",
     "output_type": "stream",
     "text": [
      "[1 1 1 1 1 1 1 1 1 1 1 1 1 1 1 1 1 1 1 1 1 1 1 1 1 1 1 1 1 1 1 1 1 1 1 1 1\n",
      " 1 1 1 1 1 1 1 1 1 1 1 1 1 1 1 1 1 1 1 1 1 1 1 1 1 1 1 1 1 1 1 1 1 1 1 1 1\n",
      " 1 1 1 1 1 1 1 1 1 1 1 1 1 1 1 1 1 1 1 1 1 1 1 1 1 1 1 1 1 1 1 1 1 1 1 1 1\n",
      " 1 1 1 1 1 1 1 1 1 1 1 1 1 1 1 1 1 1 1 1 1 1 1 1 1 1 1 1 1 1 1 1 1 1 1 1 1\n",
      " 1 1 1 1 1 1 1 1 1 1 1 1 1 1 1 1 1 1 1 1 1 1 1 1 1 1 1 1 1 1 1 1 1 1 1 1 1\n",
      " 1 1 1 1 1 1 1 1 1 1 1 1 1 1 1 1 1 1 1 1 1 1 1 1 1 1 1 1 1 1 1 1 1 1 1 1 1\n",
      " 1 1 1 1 1 1 1 1 1 1 1 1 1 1 1 1 1 1 1 1 1 1 1 1 1 1 1 1 1 1 1 1 1 1 1 1 1\n",
      " 1 1 1 1 1 1 1 1 1 1 1 1 1 1 1 1 1 1 1 1 1 1 1 1 1 1 1 1 1 1 1 1 1 1 1 1 1\n",
      " 1 1 1 1 1 1 1 1 1 1 1 1 1 1 1 1 1 1 1 1 1 1 1 1 1 1 1 1 1 1 1 1 1 1 1 1 1\n",
      " 1 1 1 1 1 1 1 1 1 1 1 1 1 1 1 1 1 1 1 1 1 1 1 1 1 1 1 1 1 1 1 1 1 1 1]\n"
     ]
    }
   ],
   "source": [
    "print(test_preds.argmax(axis=1)+1)"
   ]
  },
  {
   "cell_type": "code",
   "execution_count": 43,
   "metadata": {},
   "outputs": [
    {
     "name": "stdout",
     "output_type": "stream",
     "text": [
      "final multi_log_loss: 2.197224577336219\n",
      "final f1_score: 0.024691358024691357\n",
      "final accuracy: 0.125\n",
      "[[  0  94   0   0   0   0   0   0   0]\n",
      " [  0  46   0   0   0   0   0   0   0]\n",
      " [  0   7   0   0   0   0   0   0   0]\n",
      " [  0  65   0   0   0   0   0   0   0]\n",
      " [  0  25   0   0   0   0   0   0   0]\n",
      " [  0  22   0   0   0   0   0   0   0]\n",
      " [  0 101   0   0   0   0   0   0   0]\n",
      " [  0   2   0   0   0   0   0   0   0]\n",
      " [  0   6   0   0   0   0   0   0   0]]\n"
     ]
    },
    {
     "name": "stderr",
     "output_type": "stream",
     "text": [
      "/home/watts/anaconda2/envs/aind-dog/lib/python3.6/site-packages/sklearn/metrics/classification.py:1135: UndefinedMetricWarning: F-score is ill-defined and being set to 0.0 in labels with no predicted samples.\n",
      "  'precision', 'predicted', average, warn_for)\n"
     ]
    }
   ],
   "source": [
    "score2 = log_loss(test_labels, test_preds, labels = list(range(1,10)))\n",
    "print('final multi_log_loss: {}'.format(score2))\n",
    "\n",
    "fscore = f1_score(test_labels, test_preds.argmax(axis=1)+1, labels = list(range(1,10)), average='macro')\n",
    "print('final f1_score: {}'.format(fscore))\n",
    "\n",
    "acc = accuracy_score(test_labels, test_preds.argmax(axis=1)+1)\n",
    "print('final accuracy: {}'.format(acc))\n",
    "\n",
    "print(confusion_matrix(test_labels, test_preds.argmax(axis=1)+1, labels = list(range(1,10))))\n"
   ]
  },
  {
   "cell_type": "code",
   "execution_count": null,
   "metadata": {
    "collapsed": true
   },
   "outputs": [],
   "source": []
  },
  {
   "cell_type": "code",
   "execution_count": null,
   "metadata": {
    "collapsed": true
   },
   "outputs": [],
   "source": []
  }
 ],
 "metadata": {
  "kernelspec": {
   "display_name": "Python 3",
   "language": "python",
   "name": "python3"
  },
  "language_info": {
   "codemirror_mode": {
    "name": "ipython",
    "version": 3
   },
   "file_extension": ".py",
   "mimetype": "text/x-python",
   "name": "python",
   "nbconvert_exporter": "python",
   "pygments_lexer": "ipython3",
   "version": "3.6.1"
  }
 },
 "nbformat": 4,
 "nbformat_minor": 2
}
